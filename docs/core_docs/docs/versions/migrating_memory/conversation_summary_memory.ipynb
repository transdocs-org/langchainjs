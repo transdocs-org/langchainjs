{
  "cells": [
    {
      "cell_type": "markdown",
      "id": "ce8457ed-c0b1-4a74-abbd-9d3d2211270f",
      "metadata": {},
      "source": [
        "# 从 ConversationSummaryMemory 或 ConversationSummaryBufferMemory 迁移\n",
        "\n",
        "如果您正在尝试迁移以下旧内存类之一，请按照本指南操作：\n",
        "\n",
        "\n",
        "| 内存类型                          | 描述                                                                                                                                          |\n",
        "|---------------------------------------|------------------------------------------------------------------------------------------------------------------------------------------------------|\n",
        "| `ConversationSummaryMemory`           | 持续总结对话历史。每次对话回合后都会更新摘要。该抽象返回对话历史的摘要。 |\n",
        "| `ConversationSummaryBufferMemory`     | 提供对话的持续摘要以及对话中最近的消息，同时确保对话中的总 token 数不超过一定限制。 |\n",
        "\n",
        "请参考 LangGraph 中的以下[摘要指南](https://langchain-ai.github.io/langgraphjs/how-tos/add-summary-conversation-history/)。\n",
        "\n",
        "本指南展示了如何维护对话的持续摘要，同时丢弃较旧的消息，确保它们不会在后续对话回合中被重新处理。"
      ]
    }
  ],
  "metadata": {
    "kernelspec": {
      "display_name": "Python 3 (ipykernel)",
      "language": "python",
      "name": "python3"
    },
    "language_info": {
      "codemirror_mode": {
        "name": "ipython",
        "version": 3
      },
      "file_extension": ".py",
      "mimetype": "text/x-python",
      "name": "python",
      "nbconvert_exporter": "python",
      "pygments_lexer": "ipython3",
      "version": "3.11.4"
    }
  },
  "nbformat": 4,
  "nbformat_minor": 5
}