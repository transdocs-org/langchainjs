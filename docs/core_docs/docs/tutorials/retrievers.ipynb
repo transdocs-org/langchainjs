{
 "cells": [
  {
   "cell_type": "markdown",
   "id": "bf37a837-7a6a-447b-8779-38f26c585887",
   "metadata": {},
   "source": [
    "# 构建一个语义搜索引擎\n",
    "\n",
    "本教程将向您介绍 LangChain 的 [文档加载器](/docs/concepts/document_loaders)、[嵌入](/docs/concepts/embedding_models) 和 [向量存储](/docs/concepts/vectorstores) 抽象。这些抽象设计用于从（向量）数据库和其他来源检索数据，以集成到 LLM 工作流中。对于在模型推理过程中通过检索数据进行推理的应用程序（例如检索增强生成 [RAG](/docs/concepts/rag)，请参阅我们的 RAG 教程 [此处](/docs/tutorials/rag)）而言，这些功能非常重要。\n",
    "\n",
    "在这里，我们将基于 PDF 文档构建一个搜索引擎。这将允许我们检索与输入查询相似的 PDF 中的段落。\n",
    "\n",
    "## 概念\n",
    "\n",
    "本指南专注于文本数据的检索。我们将涵盖以下概念：\n",
    "\n",
    "- 文档和文档加载器；\n",
    "- 文本分割器；\n",
    "- 嵌入；\n",
    "- 向量存储和检索器。\n",
    "\n",
    "## 准备工作\n",
    "\n",
    "### Jupyter Notebook\n",
    "\n",
    "本指南及其他教程可能最适合在 Jupyter Notebook 中运行。安装说明请参见 [此处](https://jupyter.org/install)。\n",
    "\n",
    "### 安装\n",
    "\n",
    "本指南需要 `@langchain/community` 和 `pdf-parse`：\n",
    "\n",
    "```{=mdx}\n",
    "import Npm2Yarn from '@theme/Npm2Yarn';\n",
    "import TabItem from '@theme/TabItem';\n",
    "import CodeBlock from \"@theme/CodeBlock\";\n",
    "\n",
    "<Npm2Yarn>\n",
    "  @langchain/community pdf-parse\n",
    "</Npm2Yarn>\n",
    "```\n",
    "\n",
    "更多细节，请参阅我们的 [安装指南](/docs/how_to/installation/)。\n",
    "\n",
    "### LangSmith\n",
    "\n",
    "您使用 LangChain 构建的许多应用程序将包含多个步骤，涉及多次调用 LLM。\n",
    "随着这些应用程序变得越来越复杂，能够检查您的链或代理内部的具体情况变得至关重要。\n",
    "实现此目的的最佳方法是使用 [LangSmith](https://smith.langchain.com)。\n",
    "\n",
    "在上面的链接注册后，请确保设置您的环境变量以开始记录跟踪：\n",
    "\n",
    "```shell\n",
    "export LANGSMITH_TRACING=\"true\"\n",
    "export LANGSMITH_API_KEY=\"...\"\n",
    "\n",
    "# 如果您不在无服务器环境中，可以减少跟踪延迟\n",
    "# export LANGCHAIN_CALLBACKS_BACKGROUND=true\n",
    "```\n",
    "\n",
    "\n",
    "## 文档和文档加载器\n",
    "\n",
    "LangChain 实现了一个 [Document](https://api.js.langchain.com/classes/_langchain_core.documents.Document.html) 抽象，旨在表示一个文本单元及其相关的元数据。它有三个属性：\n",
    "\n",
    "- `pageContent`：表示内容的字符串；\n",
    "- `metadata`：任意元数据的记录；\n",
    "- `id`：（可选）文档的字符串标识符。\n",
    "\n",
    "属性 `metadata` 可以捕获文档来源、与其他文档的关系以及其他信息。请注意，单个 `Document` 对象通常代表较大文档的一部分。\n",
    "\n",
    "我们可以在需要时生成示例文档：\n",
    "```javascript\n",
    "import { Document } from \"@langchain/core/documents\";\n",
    "\n",
    "const documents = [\n",
    "    new Document({\n",
    "        pageContent: \"狗是很好的伴侣，以其忠诚和友好著称。\",\n",
    "        metadata: {\"source\": \"mammal-pets-doc\"},\n",
    "    }),\n",
    "    new Document({\n",
    "        pageContent: \"猫是独立的宠物，通常喜欢自己的空间。\",\n",
    "        metadata: {\"source\": \"mammal-pets-doc\"},\n",
    "    }),\n",
    "]\n",
    "```"
   ]
  },
  {
   "cell_type": "markdown",
   "id": "f8593578-5699-4b19-96c4-7c990d37a2ec",
   "metadata": {},
   "source": [
    "然而，LangChain 生态系统实现了 [文档加载器](/docs/concepts/document_loaders)，这些加载器 [与数百种常见来源集成](/docs/integrations/document_loaders/)。这使得将这些来源的数据集成到您的 AI 应用程序中变得更加容易。\n",
    "\n",
    "### 加载文档\n",
    "\n",
    "让我们将 PDF 加载为一系列 `Document` 对象。LangChain 仓库中有一个示例 PDF，[这里](https://github.com/langchain-ai/langchainjs/blob/main/docs/core_docs/data/nke-10k-2023.pdf) 是耐克 2023 年的 10-K 文件。LangChain 实现了 [PDFLoader](/docs/integrations/document_loaders/file_loaders/pdf/)，我们可以使用它来解析 PDF："
   ]
  },
  {
   "cell_type": "code",
   "execution_count": 1,
   "id": "67c39f96-b1f0-4610-979f-fe2d4d164e08",
   "metadata": {},
   "outputs": [
    {
     "name": "stdout",
     "output_type": "stream",
     "text": [
      "\u001b[33m107\u001b[39m\n"
     ]
    }
   ],
   "source": [
    "import { PDFLoader } from \"@langchain/community/document_loaders/fs/pdf\";\n",
    "\n",
    "const loader = new PDFLoader(\"../../data/nke-10k-2023.pdf\");\n",
    "\n",
    "const docs = await loader.load();\n",
    "console.log(docs.length)"
   ]
  },
  {
   "cell_type": "markdown",
   "id": "b90f4800-bb82-416b-beba-f42ae88a5c66",
   "metadata": {},
   "source": [
    "```{=mdx}\n",
    ":::tip\n",
    "\n",
    "有关 PDF 文档加载器的更多详细信息，请参阅 [本指南](/docs/how_to/document_loader_pdf/)。\n",
    "\n",
    ":::\n",
    "```\n",
    "\n",
    "`PDFLoader` 会为每个 PDF 页面加载一个 `Document` 对象。对于每个文档，我们可以轻松访问：\n",
    "\n",
    "- 页面的字符串内容；\n",
    "- 包含文件名和页码的元数据。"
   ]
  },
  {
   "cell_type": "code",
   "execution_count": 2,
   "id": "321001d0-ffba-4c86-af92-33871215525f",
   "metadata": {},
   "outputs": [
    {
     "name": "stdout",
     "output_type": "stream",
     "text": [
      "目录\n",
      "美国\n",
      "证券交易委员会\n",
      "华盛顿特区 20549\n",
      "表格 10-K\n",
      "（勾选一项）\n",
      "☑ 根据 1934 年证券交易法第 13 条或第 15(d) 条提交的年度报告\n",
      "FO\n"
     ]
    }
   ],
   "source": [
    "docs[0].pageContent.slice(0, 200)"
   ]
  },
  {
   "cell_type": "code",
   "execution_count": 3,
   "id": "d3ad3445-6090-46c8-b67c-99a42c5485ea",
   "metadata": {},
   "outputs": [
    {
     "name": "stdout",
     "output_type": "stream",
     "text": [
      "{\n",
      "  source: \u001b[32m'../../data/nke-10k-2023.pdf'\u001b[39m,\n",
      "  pdf: {\n",
      "    version: \u001b[32m'1.10.100'\u001b[39m,\n",
      "    info: {\n",
      "      PDFFormatVersion: \u001b[32m'1.4'\u001b[39m,\n",
      "      IsAcroFormPresent: \u001b[33mfalse\u001b[39m,\n",
      "      IsXFAPresent: \u001b[33mfalse\u001b[39m,\n",
      "      Title: \u001b[32m'0000320187-23-000039'\u001b[39m,\n",
      "      Author: \u001b[32m'EDGAR Online, a division of Donnelley Financial Solutions'\u001b[39m,\n",
      "      Subject: \u001b[32m'Form 10-K filed on 2023-07-20 for the period ending 2023-05-31'\u001b[39m,\n",
      "      Keywords: \u001b[32m'0000320187-23-000039; ; 10-K'\u001b[39m,\n",
      "      Creator: \u001b[32m'EDGAR Filing HTML Converter'\u001b[39m,\n",
      "      Producer: \u001b[32m'EDGRpdf Service w/ EO.Pdf 22.0.40.0'\u001b[39m,\n",
      "      CreationDate: \u001b[32m\"D:20230720162200-04'00'\"\u001b[39m,\n",
      "      ModDate: \u001b[32m\"D:20230720162208-04'00'\"\u001b[39m\n",
      "    },\n",
      "    metadata: \u001b[1mnull\u001b[22m,\n",
      "    totalPages: \u001b[33m107\u001b[39m\n",
      "  },\n",
      "  loc: { pageNumber: \u001b[33m1\u001b[39m }\n",
      "}\n"
     ]
    }
   ],
   "source": [
    "docs[0].metadata"
   ]
  },
  {
   "cell_type": "markdown",
   "id": "2ca6980f-4870-490a-9fe6-8caeead3c1d1",
   "metadata": {},
   "source": [
    "### 分割\n",
    "\n",
    "为了信息检索和后续问答的目的，一个页面可能过于粗略。我们的最终目标是检索回答输入查询的 `Document` 对象，进一步分割我们的 PDF 将有助于确保文档中相关部分的含义不会因周围文本而“被冲淡”。\n",
    "\n",
    "我们可以使用 [文本分割器](/docs/concepts/text_splitters) 来实现此目的。在这里，我们将使用一个基于字符的简单文本分割器。我们将文档分割为 1000 个字符的块，\n",
    "并在块之间保留 200 个字符的重叠。重叠有助于减少将陈述与其相关上下文分离的可能性。我们使用\n",
    "[RecursiveCharacterTextSplitter](/docs/how_to/recursive_text_splitter)，\n",
    "它将递归地使用常见分隔符（如换行符）分割文档，直到每个块的大小合适为止。这是推荐用于通用文本用例的文本分割器。\n",
    "\n",
    "我们设置 `add_start_index=True`，以便在初始文档中每个分割的 `Document` 开始的字符索引作为元数据属性“start_index”保留。\n",
    "\n",
    "有关处理 PDF 的更多详细信息，请参阅 [本指南](/docs/how_to/document_loader_pdf/)。"
   ]
  },
  {
   "cell_type": "code",
   "execution_count": 4,
   "id": "5a287c2b-9623-4ef6-8720-fb31189730a0",
   "metadata": {},
   "outputs": [
    {
     "name": "stdout",
     "output_type": "stream",
     "text": [
      "\u001b[33m513\u001b[39m\n"
     ]
    }
   ],
   "source": [
    "import { RecursiveCharacterTextSplitter } from \"@langchain/textsplitters\";\n",
    "\n",
    "const textSplitter = new RecursiveCharacterTextSplitter({\n",
    "  chunkSize: 1000,\n",
    "  chunkOverlap: 200,\n",
    "});\n",
    "\n",
    "const allSplits = await textSplitter.splitDocuments(docs)\n",
    "\n",
    "allSplits.length"
   ]
  },
  {
   "cell_type": "markdown",
   "id": "5c066d46-9187-4d5a-98d3-974c37610276",
   "metadata": {},
   "source": [
    "## 嵌入\n",
    "\n",
    "向量搜索是存储和搜索非结构化数据（如非结构化文本）的常见方式。其思路是存储与文本关联的数值向量。给定一个查询，我们可以将其 [嵌入](/docs/concepts/embedding_models) 为相同维度的向量，并使用向量相似度度量（如余弦相似度）来识别相关文本。\n",
    "\n",
    "LangChain 支持来自 [数十个提供商](/docs/integrations/text_embedding/) 的嵌入。这些模型指定了如何将文本转换为数值向量。让我们选择一个模型。\n",
    "\n",
    "```{=mdx}\n",
    "import EmbeddingTabs from \"@theme/EmbeddingTabs\";\n",
    "\n",
    "<EmbeddingTabs customVarName=\"embeddings\" />\n",
    "```"
   ]
  },
  {
   "cell_type": "code",
   "execution_count": 6,
   "id": "90b06c22-44bb-4d10-9bc4-f6a3a2fb1800",
   "metadata": {},
   "outputs": [],
   "source": [
    "// @lc-docs-hide-cell\n",
    "import { OpenAIEmbeddings } from \"@langchain/openai\";\n",
    "\n",
    "const embeddings = new OpenAIEmbeddings({model: \"text-embedding-3-large\"});"
   ]
  },
  {
   "cell_type": "code",
   "execution_count": 7,
   "id": "5b6f17a6-4466-4275-bc52-be21b93348bf",
   "metadata": {},
   "outputs": [
    {
     "name": "stdout",
     "output_type": "stream",
     "text": [
      "生成长度为 3072 的向量\n",
      "\n",
      "[\n",
      "  \u001b[33m0.014310152\u001b[39m,\n",
      "  \u001b[33m-0.01681044\u001b[39m,\n",
      "  \u001b[33m-0.0011537228\u001b[39m,\n",
      "  \u001b[33m0.010546423\u001b[39m,\n",
      "  \u001b[33m0.022808468\u001b[39m,\n",
      "  \u001b[33m-0.028327717\u001b[39m,\n",
      "  \u001b[33m-0.00058849837\u001b[39m,\n",
      "  \u001b[33m0.0419197\u001b[39m,\n",
      "  \u001b[33m-0.0012900416\u001b[39m,\n",
      "  \u001b[33m0.0661778\u001b[39m\n",
      "]\n"
     ]
    }
   ],
   "source": [
    "const vector1 = await embeddings.embedQuery(allSplits[0].pageContent)\n",
    "const vector2 = await embeddings.embedQuery(allSplits[1].pageContent)\n",
    "\n",
    "\n",
    "console.assert(vector1.length === vector2.length);\n",
    "console.log(`生成长度为 ${vector1.length}\\n`);\n",
    "console.log(vector1.slice(0, 10));"
   ]
  },
  {
   "cell_type": "markdown",
   "id": "1cac19bd-27d1-40f1-9c27-7a586b685b4e",
   "metadata": {},
   "source": [
    "有了生成文本嵌入的模型后，我们可以将其存储在一个特殊的数据结构中，该结构支持高效的相似性搜索。\n",
    "\n",
    "## 向量存储\n",
    "\n",
    "LangChain 的 [VectorStore](https://api.js.langchain.com/classes/_langchain_core.vectorstores.VectorStore.html) 对象包含将文本和 `Document` 对象添加到存储的方法，以及使用各种相似性度量进行查询的方法。它们通常使用 [嵌入](/docs/how_to/embed_text) 模型初始化，这些模型决定如何将文本数据转换为数值向量。\n",
    "\n",
    "LangChain 包括与不同向量存储技术的 [集成](/docs/integrations/vectorstores/)。一些向量存储由提供商托管（例如，各种云提供商），需要特定的凭据才能使用；一些（例如 [Postgres](/docs/integrations/vectorstores/pgvector)）可以在本地运行或通过第三方运行；还有一些可以在内存中运行以处理轻量级工作负载。\n",
    "\n",
    "```{=mdx}\n",
    "import VectorStoreTabs from \"@theme/VectorStoreTabs\";\n",
    "\n",
    "<VectorStoreTabs/>\n",
    "```"
   ]
  },
  {
   "cell_type": "code",
   "execution_count": 8,
   "id": "5b7d2138-5881-4ffe-99f5-fd547bd32b3b",
   "metadata": {},
   "outputs": [],
   "source": [
    "// @lc-docs-hide-cell\n",
    "import { MemoryVectorStore } from \"langchain/vectorstores/memory\";\n",
    "\n",
    "const vectorStore = new MemoryVectorStore(embeddings);"
   ]
  },
  {
   "cell_type": "markdown",
   "id": "e3b3035f-1371-4965-ab7a-04eae25e47f3",
   "metadata": {},
   "source": [
    "实例化我们的向量存储后，现在可以对文档进行索引。"
   ]
  },
  {
   "cell_type": "code",
   "execution_count": 9,
   "id": "2ea92e04-331c-4f83-aa2a-508322bdfbfc",
   "metadata": {},
   "outputs": [],
   "source": [
    "await vectorStore.addDocuments(allSplits)"
   ]
  },
  {
   "cell_type": "markdown",
   "id": "ff0f0b43-e5b8-4c79-b782-a02f17345487",
   "metadata": {},
   "source": [
    "请注意，大多数向量存储实现都允许您连接到现有的向量存储——例如，通过提供客户端、索引名称或其他信息。有关特定 [集成](/docs/integrations/vectorstores) 的详细信息，请参阅文档。\n",
    "\n",
    "一旦我们实例化了一个包含文档的 `VectorStore`，我们就可以对其进行查询。[VectorStore](https://api.js.langchain.com/classes/_langchain_core.vectorstores.VectorStore.html) 包括以下查询方法：\n",
    "- 同步和异步；\n",
    "- 按字符串查询和按向量查询；\n",
    "- 返回和不返回相似度分数；\n",
    "- 按相似度和 [最大边缘相关性](https://api.js.langchain.com/classes/_langchain_core.vectorstores.VectorStore.html#maxMarginalRelevanceSearch)（在检索结果中平衡与查询的相似度和多样性）。\n",
    "\n",
    "这些方法的输出通常包括一个 [Document](https://api.js.langchain.com/classes/_langchain_core.documents.Document.html) 对象列表。\n",
    "\n",
    "### 使用\n",
    "\n",
    "嵌入通常将文本表示为“密集”向量，使得含义相似的文本在几何上接近。这使我们能够通过传递问题来检索相关信息，而无需知道文档中使用的任何特定关键词。\n",
    "\n",
    "根据与字符串查询的相似性返回文档："
   ]
  },
  {
   "cell_type": "code",
   "execution_count": 10,
   "id": "7b716152-0076-46b1-9486-bdbed7e90730",
   "metadata": {},
   "outputs": [
    {
     "name": "stdout",
     "output_type": "stream",
     "text": [
      "Document {\n",
      "  pageContent: \u001b[32m'目录\\n'\u001b[39m +\n",
      "    \u001b[32m'第一部分\\n'\u001b[39m +\n",
      "    \u001b[32m'第1项。业务\\n'\u001b[39m +\n",
      "    \u001b[32m'一般情况\\n'\u001b[39m +\n",
      "    \u001b[32m'NIKE, Inc. 于1967年根据俄勒冈州法律注册成立。在本年度报告表10-K（本“年度报告”）中使用的术语“我们”、“我们”、“我们的”，\\n'\u001b[39m +\n",
      "    \u001b[32m'“NIKE”和“公司”是指NIKE, Inc.及其前身、子公司和关联公司，统称，除非上下文另有说明。\\n'\u001b[39m +\n",
      "    \u001b[32m'我们主要的业务活动是设计、开发和全球营销及销售运动鞋、服装、设备、配件和服务。NIKE是\\n'\u001b[39m +\n",
      "    \u001b[32m'世界上最大的运动鞋和服装销售商。我们通过NIKE直营业务进行销售，这些业务包括NIKE拥有零售店\\n'\u001b[39m +\n",
      "    \u001b[32m'以及通过我们的数字平台（也称为“NIKE品牌数字”）销售给零售客户和各种独立分销商、被许可方和销售'\u001b[39m,\n",
      "  metadata: {\n",
      "    source: \u001b[32m'../../data/nke-10k-2023.pdf'\u001b[39m,\n",
      "    pdf: {\n",
      "      version: \u001b[32m'1.10.100'\u001b[39m,\n",
      "      info: \u001b[36m[Object]\u001b[39m,\n",
      "      metadata: \u001b[1mnull\u001b[22m,\n",
      "      totalPages: \u001b[33m107\u001b[39m\n",
      "    },\n",
      "    loc: { pageNumber: \u001b[33m4\u001b[39m, lines: \u001b[36m[Object]\u001b[39m }\n",
      "  },\n",
      "  id: \u001b[90mundefined\u001b[39m\n",
      "}\n"
     ]
    }
   ],
   "source": [
    "const results1 = await vectorStore.similaritySearch(\"耐克是什么时候成立的？\")\n",
    "\n",
    "results1[0]"
   ]
  },
  {
   "cell_type": "markdown",
   "id": "d4172698-9ad7-4422-99b2-bdc268e99c75",
   "metadata": {},
   "source": [
    "返回分数："
   ]
  },
  {
   "cell_type": "code",
   "execution_count": 11,
   "id": "a8c3af60-7328-45eb-bc27-69e640ebff6d",
   "metadata": {},
   "outputs": [
    {
     "name": "stdout",
     "output_type": "stream",
     "text": [
      "[\n",
      "  Document {\n",
      "    pageContent: \u001b[32m'目录\\n'\u001b[39m +\n",
      "      \u001b[32m'2023财年NIKE品牌收入亮点\\n'\u001b[39m +\n",
      "      \u001b[32m'下表列出了按可报告运营部门、分销渠道和主要产品线划分的NIKE品牌收入：\\n'\u001b[39m +\n",
      "      \u001b[32m'2023财年与2022财年比较\\n'\u001b[39m +\n",
      "      \u001b[32m'•NIKE, Inc. 2023财年的收入为512亿美元，较2022财年按报告基础和货币中性基础分别增长了10%和16%。\\n'\u001b[39m +\n",
      "      \u001b[32m'增长的原因是北美、欧洲、中东和非洲（“EMEA”）、APLA和大中华区的收入增加，分别对NIKE, Inc. 收入贡献了约7、6、\\n'\u001b[39m +\n",
      "      \u001b[32m'2和1个百分点。\\n'\u001b[39m +\n",
      "      \u001b[32m'•NIKE品牌收入占NIKE, Inc. 收入的90%以上，按报告基础和货币中性基础分别增长了10%和16%。\\n'\u001b[39m +\n",
      "      \u001b[32m\"这一增长主要是由于男士、乔丹品牌、女士和儿童的增长，分别在批发\\n\"\u001b[39m +\n",
      "      \u001b[32m'等效基础上增长了17%、35%、11%和10%。'\u001b[39m,\n",
      "    metadata: {\n",
      "      source: \u001b[32m'../../data/nke-10k-2023.pdf'\u001b[39m,\n",
      "      pdf: \u001b[36m[Object]\u001b[39m,\n",
      "      loc: \u001b[36m[Object]\u001b[39m\n",
      "    },\n",
      "    id: \u001b[90mundefined\u001b[39m\n",
      "  },\n",
      "  \u001b[33m0.6992287611800424\u001b[39m\n",
      "]\n"
     ]
    }
   ],
   "source": [
    "const results2 = await vectorStore.similaritySearchWithScore(\n",
    "    \"耐克2023年的收入是多少？\"\n",
    ")\n",
    "\n",
    "results2[0]"
   ]
  },
  {
   "cell_type": "markdown",
   "id": "b4991642-7275-40a9-b11a-e3beccbf2614",
   "metadata": {},
   "source": [
    "根据嵌入查询的相似性返回文档："
   ]
  },
  {
   "cell_type": "code",
   "execution_count": 12,
   "id": "fd2db600-5919-41f2-9f78-a9bae537d910",
   "metadata": {},
   "outputs": [
    {
     "name": "stdout",
     "output_type": "stream",
     "text": [
      "[\n",
      "  Document {\n",
      "    pageContent: \u001b[32m'目录\\n'\u001b[39m +\n",
      "      \u001b[32m'毛利率\\n'\u001b[39m +\n",
      "      \u001b[32m'2023财年与2022财年比较\\n'\u001b[39m +\n",
      "      \u001b[32m'2023财年，我们的合并毛利增长4%至222.92亿美元，而2022财年为214.79亿美元。毛利率下降250个基点至\\n'\u001b[39m +\n",
      "      \u001b[32m'2023财年的43.5%，而2022财年为46.0%，原因如下：\\n'\u001b[39m +\n",
      "      \u001b[32m'*批发等效\\n'\u001b[39m +\n",
      "      \u001b[32m'2023财年毛利率下降的主要原因是：\\n'\u001b[39m +\n",
      "      \u001b[32m'•NIKE品牌产品成本增加，按批发等效基础计算，主要是由于原材料成本增加、入境运输和物流成本上升以及\\n'\u001b[39m +\n",
      "      \u001b[32m'产品组合；\\n'\u001b[39m +\n",
      "      \u001b[32m'•我们在NIKE直营业务中的毛利率较低，这是由于当前期间为了清理库存而进行的促销活动较多，而前一期间由于库存供应不足而促销活动较少；\\n'\u001b[39m +\n",
      "      \u001b[32m'•净外汇汇率的不利变化，包括对冲；以及\\n'\u001b[39m +\n",
      "      \u001b[32m'•按批发等效基础计算，特卖毛利率较低。\\n'\u001b[39m +\n",
      "      \u001b[32m'这被部分抵消了：'\u001b[39m,\n",
      "    metadata: {\n",
      "      source: \u001b[32m'../../data/nke-10k-2023.pdf'\u001b[39m,\n",
      "      pdf: \u001b[36m[Object]\u001b[39m,\n",
      "      loc: \u001b[36m[Object]\u001b[39m\n",
      "    },\n",
      "    id: \u001b[90mundefined\u001b[39m\n",
      "  },\n",
      "  \u001b[33m0.7368815472158006\u001b[39m\n",
      "]\n"
     ]
    }
   ],
   "source": [
    "const embedding = await embeddings.embedQuery(\n",
    "    \"2023年耐克的利润率受到了怎样的影响？\"\n",
    ")\n",
    "\n",
    "const results3 = await vectorStore.similaritySearchVectorWithScore(\n",
    "    embedding, 1\n",
    ")\n",
    "\n",
    "results3[0]"
   ]
  },
  {
   "cell_type": "markdown",
   "id": "168dbbec-ea97-4cc9-bb1a-75519c2d08af",
   "metadata": {},
   "source": [
    "了解更多：\n",
    "\n",
    "- [API 参考](https://api.js.langchain.com/classes/_langchain_core.vectorstores.VectorStore.html)\n",
    "- [操作指南](/docs/how_to/vectorstores)\n",
    "- [集成特定文档](/docs/integrations/vectorstores)\n",
    "\n",
    "## 检索器\n",
    "\n",
    "LangChain 的 `VectorStore` 对象不继承 [Runnable](https://api.js.langchain.com/classes/_langchain_core.runnables.Runnable.html)。LangChain 的 [检索器](https://api.js.langchain.com/classes/_langchain_core.retrievers.BaseRetriever.html) 是可运行的，因此它们实现了一组标准方法（例如同步和异步的 `invoke` 和 `batch` 操作）。尽管我们可以从向量存储构建检索器，但检索器还可以与非向量存储的数据源交互（例如外部 API）。\n",
    "\n",
    "向量存储实现了一个 [as retriever](https://api.js.langchain.com/classes/_langchain_core.vectorstores.VectorStore.html#asRetriever) 方法，该方法将生成一个检索器，特别是 [VectorStoreRetriever](https://api.js.langchain.com/classes/_langchain_core.vectorstores.VectorStoreRetriever.html)。这些检索器包括特定的 `search_type` 和 `search_kwargs` 属性，这些属性标识要调用的底层向量存储的方法及其参数化方式。"
   ]
  },
  {
   "cell_type": "code",
   "execution_count": 13,
   "id": "90d1f87b-30fe-4e1e-af8b-9e1f04e75f66",
   "metadata": {},
   "outputs": [
    {
     "name": "stdout",
     "output_type": "stream",
     "text": [
      "[\n",
      "  [\n",
      "    Document {\n",
      "      pageContent: \u001b[32m'目录\\n'\u001b[39m +\n",
      "        \u001b[32m'第一部分\\n'\u001b[39m +\n",
      "        \u001b[32m'第1项。业务\\n'\u001b[39m +\n",
      "        \u001b[32m'一般情况\\n'\u001b[39m +\n",
      "        \u001b[32m'NIKE, Inc. 于1967年根据俄勒冈州法律注册成立。在本年度报告表10-K（本“年度报告”）中使用的术语“我们”、“我们”、“我们的”，\\n'\u001b[39m +\n",
      "        \u001b[32m'“NIKE”和“公司”是指NIKE, Inc.及其前身、子公司和关联公司，统称，除非上下文另有说明。\\n'\u001b[39m +\n",
      "        \u001b[32m'我们主要的业务活动是设计、开发和全球营销及销售运动鞋、服装、设备、配件和服务。NIKE是\\n'\u001b[39m +\n",
      "        \u001b[32m'世界上最大的运动鞋和服装销售商。我们通过NIKE直营业务进行销售，这些业务包括NIKE拥有零售店\\n'\u001b[39m +\n",
      "        \u001b[32m'以及通过我们的数字平台（也称为“NIKE品牌数字”）销售给零售客户和各种独立分销商、被许可方和销售'\u001b[39m,\n",
      "      metadata: \u001b[36m[Object]\u001b[39m,\n",
      "      id: \u001b[90mundefined\u001b[39m\n",
      "    }\n",
      "  ],\n",
      "  [\n",
      "    Document {\n",
      "      pageContent: \u001b[32m'目录\\n'\u001b[39m +\n",
      "        \u001b[32m'2023财年NIKE品牌收入亮点\\n'\u001b[39m +\n",
      "        \u001b[32m'下表列出了按可报告运营部门、分销渠道和主要产品线划分的NIKE品牌收入：\\n'\u001b[39m +\n",
      "        \u001b[32m'2023财年与2022财年比较\\n'\u001b[39m +\n",
      "        \u001b[32m'•NIKE, Inc. 2023财年的收入为512亿美元，较2022财年按报告基础和货币中性基础分别增长了10%和16%。\\n'\u001b[39m +\n",
      "        \u001b[32m'增长的原因是北美、欧洲、中东和非洲（“EMEA”）、APLA和大中华区的收入增加，分别对NIKE, Inc. 收入贡献了约7、6、\\n'\u001b[39m +\n",
      "        \u001b[32m'2和1个百分点。\\n'\u001b[39m +\n",
      "        \u001b[32m'•NIKE品牌收入占NIKE, Inc. 收入的90%以上，按报告基础和货币中性基础分别增长了10%和16%。\\n'\u001b[39m +\n",
      "        \u001b[32m\"这一增长主要是由于男士、乔丹品牌、女士和儿童的增长，分别在批发\\n\"\u001b[39m +\n",
      "        \u001b[32m'等效基础上增长了17%、35%、11%和10%。'\u001b[39m,\n",
      "      metadata: \u001b[36m[Object]\u001b[39m,\n",
      "      id: \u001b[90mundefined\u001b[39m\n",
      "    }\n",
      "  ]\n",
      "]\n"
     ]
    }
   ],
   "source": [
    "const retriever = vectorStore.asRetriever({\n",
    "  searchType: \"mmr\",\n",
    "  searchKwargs: {\n",
    "    fetchK: 1,\n",
    "  },\n",
    "});\n",
    "\n",
    "\n",
    "await retriever.batch(\n",
    "    [\n",
    "        \"耐克是什么时候成立的？\",\n",
    "        \"耐克2023年的收入是多少？\",\n",
    "    ]\n",
    ")"
   ]
  },
  {
   "cell_type": "markdown",
   "id": "6b79ded3-39ed-4aeb-8b70-cd36795ae239",
   "metadata": {},
   "source": [
    "`VectorStoreRetriever` 支持 `\"similarity\"`（默认）和 `\"mmr\"`（最大边缘相关性，如上所述）的搜索类型。\n",
    "\n",
    "检索器可以轻松集成到更复杂的应用程序中，例如 [检索增强生成 (RAG)](/docs/concepts/rag) 应用程序，这些应用程序将给定问题与检索到的上下文结合，生成一个用于 LLM 的提示。要了解如何构建此类应用程序，请查看 [RAG 教程](/docs/tutorials/rag)。"
   ]
  },
  {
   "cell_type": "markdown",
   "id": "3d9be7cb-2081-48a4-b6e4-d5e2d562ffd4",
   "metadata": {},
   "source": [
    "### 了解更多：\n",
    "\n",
    "检索策略可以丰富而复杂。例如：\n",
    "\n",
    "- 我们可以从查询中 [推断硬规则和过滤器](/docs/how_to/self_query/)（例如，“使用2020年以后发布的文档”）；\n",
    "- 我们可以 [返回与检索到的上下文相关联的文档](/docs/how_to/parent_document_retriever/)（例如，通过某种文档分类法）；\n",
    "- 我们可以为每个上下文单元生成 [多个嵌入](/docs/how_to/multi_vector)；\n",
    "- 我们可以 [集成多个检索器的结果](/docs/how_to/ensemble_retriever)；\n",
    "- 我们可以为文档分配权重，例如，为 [最近的文档](/docs/how_to/time_weighted_vectorstore/) 赋予更高的权重。\n",
    "\n",
    "如何指南中的 [检索器](/docs/how_to#retrievers) 部分涵盖了这些及其他内置检索策略。\n",
    "\n",
    "扩展 [BaseRetriever](https://api.js.langchain.com/classes/_langchain_core.retrievers.BaseRetriever.html) 类以实现自定义检索器也很简单。请参阅我们的如何指南 [此处](/docs/how_to/custom_retriever)。\n",
    "\n",
    "\n",
    "## 下一步\n",
    "\n",
    "您现在已经了解了如何构建一个基于 PDF 文档的语义搜索引擎。\n",
    "\n",
    "有关文档加载器的更多信息：\n",
    "\n",
    "- [概念指南](/docs/concepts/document_loaders)\n",
    "- [操作指南](/docs/how_to/#document-loaders)\n",
    "- [可用集成](/docs/integrations/document_loaders/)\n",
    "\n",
    "有关嵌入的更多信息：\n",
    "\n",
    "- [概念指南](/docs/concepts/embedding_models/)\n",
    "- [操作指南](/docs/how_to/#embedding-models)\n",
    "- [可用集成](/docs/integrations/text_embedding/)\n",
    "\n",
    "有关向量存储的更多信息：\n",
    "\n",
    "- [概念指南](/docs/concepts/vectorstores/)\n",
    "- [操作指南](/docs/how_to/#vector-stores)\n",
    "- [可用集成](/docs/integrations/vectorstores/)\n",
    "\n",
    "有关 RAG 的更多信息，请参阅：\n",
    "\n",
    "- [构建检索增强生成 (RAG) 应用程序](/docs/tutorials/rag/)\n",
    "- [相关操作指南](/docs/how_to/#qa-with-rag)"
   ]
  }
 ],
 "metadata": {
  "kernelspec": {
   "display_name": "TypeScript",
   "language": "typescript",
   "name": "tslab"
  },
  "language_info": {
   "codemirror_mode": {
    "mode": "typescript",
    "name": "javascript",
    "typescript": true
   },
   "file_extension": ".ts",
   "mimetype": "text/typescript",
   "name": "typescript",
   "version": "3.7.2"
  }
 },
 "nbformat": 4,
 "nbformat_minor": 5
}