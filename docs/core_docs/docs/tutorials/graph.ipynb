{
  "cells": [
    {
      "cell_type": "raw",
      "metadata": {},
      "source": [
        "---\n",
        "sidebar_position: 0\n",
        "---"
      ]
    },
    {
      "cell_type": "markdown",
      "metadata": {},
      "source": [
        "# 构建一个基于图数据库的问答应用\n",
        "\n",
        "在本指南中，我们将介绍如何在图数据库上创建问答链的基本方法。这些系统将允许我们对图数据库中的数据进行提问，并获得自然语言的答案。\n",
        "\n",
        "## ⚠️ 安全提示 ⚠️\n",
        "\n",
        "构建图数据库的问答系统需要执行由模型生成的图查询。这存在一定的风险。请确保您的数据库连接权限始终根据链/代理的需求尽可能缩小范围。这将降低（但不能完全消除）构建模型驱动系统的风险。有关通用安全最佳实践的更多信息，请[点击此处](/docs/security)。\n",
        "\n",
        "## 架构\n",
        "\n",
        "从高层次来看，大多数图链的步骤如下：\n",
        "\n",
        "1. **将问题转换为图数据库查询**：模型将用户输入转换为图数据库查询（例如Cypher）。\n",
        "2. **执行图数据库查询**：执行图数据库查询。\n",
        "3. **回答问题**：模型根据查询结果回应用户输入。\n",
        "\n",
        "![sql_usecase.png](../../static/img/graph_usecase.png)"
      ]
    },
    {
      "cell_type": "markdown",
      "metadata": {},
      "source": [
        "## 准备工作\n",
        "#### 安装依赖\n",
        "\n",
        "```{=mdx}\n",
        "import IntegrationInstallTooltip from \"@mdx_components/integration_install_tooltip.mdx\";\n",
        "import Npm2Yarn from \"@theme/Npm2Yarn\";\n",
        "\n",
        "<IntegrationInstallTooltip></IntegrationInstallTooltip>\n",
        "\n",
        "<Npm2Yarn>\n",
        "  langchain @langchain/community @langchain/openai @langchain/core neo4j-driver\n",
        "</Npm2Yarn>\n",
        "```\n",
        "\n",
        "#### 设置环境变量\n",
        "\n",
        "本例中我们将使用OpenAI：\n",
        "\n",
        "```env\n",
        "OPENAI_API_KEY=your-api-key\n",
        "\n",
        "# 可选，使用LangSmith以获得最佳可观测性\n",
        "LANGSMITH_API_KEY=your-api-key\n",
        "LANGSMITH_TRACING=true\n",
        "\n",
        "# 如果不在无服务器环境中，减少追踪延迟\n",
        "# LANGCHAIN_CALLBACKS_BACKGROUND=true\n",
        "```\n",
        "\n",
        "接下来，我们需要定义Neo4j的凭证。\n",
        "请按照[这些安装步骤](https://neo4j.com/docs/operations-manual/current/installation/)设置Neo4j数据库。\n",
        "\n",
        "```env\n",
        "NEO4J_URI=\"bolt://localhost:7687\"\n",
        "NEO4J_USERNAME=\"neo4j\"\n",
        "NEO4J_PASSWORD=\"password\"\n",
        "```"
      ]
    },
    {
      "cell_type": "markdown",
      "metadata": {},
      "source": [
        "以下示例将创建一个与Neo4j数据库的连接，并使用关于电影及其演员的示例数据填充它。"
      ]
    },
    {
      "cell_type": "code",
      "execution_count": null,
      "metadata": {},
      "outputs": [
        {
          "name": "stdout",
          "output_type": "stream",
          "text": [
            "Schema refreshed successfully.\n"
          ]
        },
        {
          "data": {
            "text/plain": [
              "[]"
            ]
          },
          "execution_count": 3,
          "metadata": {},
          "output_type": "execute_result"
        }
      ],
      "source": [
        "import \"neo4j-driver\";\n",
        "import { Neo4jGraph } from \"@langchain/community/graphs/neo4j_graph\";\n",
        "\n",
        "const url = process.env.NEO4J_URI;\n",
        "const username = process.env.NEO4J_USERNAME;\n",
        "const password = process.env.NEO4J_PASSWORD;\n",
        "const graph = await Neo4jGraph.initialize({ url, username, password });\n",
        "\n",
        "// 导入电影信息\n",
        "const moviesQuery = `LOAD CSV WITH HEADERS FROM \n",
        "'https://raw.githubusercontent.com/tomasonjo/blog-datasets/main/movies/movies_small.csv'\n",
        "AS row\n",
        "MERGE (m:Movie {id:row.movieId})\n",
        "SET m.released = date(row.released),\n",
        "    m.title = row.title,\n",
        "    m.imdbRating = toFloat(row.imdbRating)\n",
        "FOREACH (director in split(row.director, '|') | \n",
        "    MERGE (p:Person {name:trim(director)})\n",
        "    MERGE (p)-[:DIRECTED]->(m))\n",
        "FOREACH (actor in split(row.actors, '|') | \n",
        "    MERGE (p:Person {name:trim(actor)})\n",
        "    MERGE (p)-[:ACTED_IN]->(m))\n",
        "FOREACH (genre in split(row.genres, '|') | \n",
        "    MERGE (g:Genre {name:trim(genre)})\n",
        "    MERGE (m)-[:IN_GENRE]->(g))`\n",
        "\n",
        "await graph.query(moviesQuery);"
      ]
    },
    {
      "cell_type": "markdown",
      "metadata": {},
      "source": [
        "## 图模式\n",
        "\n",
        "为了让LLM能够生成Cypher语句，它需要有关图模式的信息。当您实例化一个图对象时，它会检索有关图模式的信息。如果您之后对图进行了任何更改，可以运行`refreshSchema`方法来刷新模式信息。"
      ]
    },
    {
      "cell_type": "code",
      "execution_count": 4,
      "metadata": {},
      "outputs": [
        {
          "name": "stdout",
          "output_type": "stream",
          "text": [
            "Node properties are the following:\n",
            "Movie {imdbRating: FLOAT, id: STRING, released: DATE, title: STRING}, Person {name: STRING}, Genre {name: STRING}\n",
            "Relationship properties are the following:\n",
            "\n",
            "The relationships are the following:\n",
            "(:Movie)-[:IN_GENRE]->(:Genre), (:Person)-[:DIRECTED]->(:Movie), (:Person)-[:ACTED_IN]->(:Movie)\n"
          ]
        }
      ],
      "source": [
        "await graph.refreshSchema()\n",
        "console.log(graph.getSchema())"
      ]
    },
    {
      "cell_type": "markdown",
      "metadata": {},
      "source": [
        "很好！我们已经有一个可以查询的图数据库。现在让我们尝试将其连接到LLM。\n",
        "\n",
        "## 链\n",
        "\n",
        "让我们使用一个简单的链，它接收一个问题，将其转换为Cypher查询，执行查询，并使用结果回答原始问题。\n",
        "\n",
        "![graph_chain.webp](../../static/img/graph_chain.webp)\n",
        "\n",
        "LangChain为此工作流提供了一个内置的链，专为与Neo4j配合使用而设计：`GraphCypherQAChain`。\n",
        "\n",
        "```{=mdx}\n",
        ":::warning\n",
        "\n",
        "本指南中使用的`GraphCypherQAChain`将在提供的数据库上执行Cypher语句。\n",
        "在生产环境中，请确保数据库连接使用仅包含必要权限的狭域凭证。\n",
        "\n",
        "否则可能导致数据损坏或丢失，因为调用代码可能会尝试执行删除、数据修改命令，或者在数据库中存在敏感数据的情况下读取敏感数据。\n",
        "\n",
        ":::\n",
        "```"
      ]
    },
    {
      "cell_type": "code",
      "execution_count": 5,
      "metadata": {},
      "outputs": [
        {
          "data": {
            "text/plain": [
              "{ result: \u001b[32m\"James Woods, Joe Pesci, Robert De Niro, Sharon Stone\"\u001b[39m }"
            ]
          },
          "execution_count": 5,
          "metadata": {},
          "output_type": "execute_result"
        }
      ],
      "source": [
        "import { GraphCypherQAChain } from \"langchain/chains/graph_qa/cypher\";\n",
        "import { ChatOpenAI } from \"@langchain/openai\";\n",
        "\n",
        "const llm = new ChatOpenAI({ model: \"gpt-3.5-turbo\", temperature: 0 })\n",
        "const chain = GraphCypherQAChain.fromLLM({\n",
        "  llm,\n",
        "  graph,\n",
        "});\n",
        "const response = await chain.invoke({ query: \"What was the cast of the Casino?\" })\n",
        "console.log(response)"
      ]
    },
    {
      "cell_type": "markdown",
      "metadata": {},
      "source": [
        "### 后续步骤\n",
        "\n",
        "对于更复杂的查询生成，我们可能需要创建少量样本提示或添加查询检查步骤。有关此类高级技术和其他技术，请参阅：\n",
        "\n",
        "* [提示策略](/docs/how_to/graph_prompting)：高级提示工程技巧。\n",
        "* [值映射](/docs/how_to/graph_mapping)：将问题中的值映射到数据库的技巧。\n",
        "* [语义层](/docs/how_to/graph_semantic)：实现语义层的技巧。\n",
        "* [构建图](/docs/how_to/graph_constructing)：构建知识图谱的技巧。\n"
      ]
    },
    {
      "cell_type": "code",
      "execution_count": null,
      "metadata": {},
      "outputs": [],
      "source": []
    }
  ],
  "metadata": {
    "kernelspec": {
      "display_name": "Deno",
      "language": "typescript",
      "name": "deno"
    },
    "language_info": {
      "file_extension": ".ts",
      "mimetype": "text/x.typescript",
      "name": "typescript",
      "nb_converter": "script",
      "pygments_lexer": "typescript",
      "version": "5.4.3"
    }
  },
  "nbformat": 4,
  "nbformat_minor": 4
}