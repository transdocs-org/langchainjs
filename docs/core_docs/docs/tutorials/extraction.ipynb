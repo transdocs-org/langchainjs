{
 "cells": [
  {
   "cell_type": "raw",
   "id": "df29b30a-fd27-4e08-8269-870df5631f9e",
   "metadata": {},
   "source": [
    "---\n",
    "sidebar_position: 4\n",
    "---"
   ]
  },
  {
   "cell_type": "markdown",
   "id": "d28530a6-ddfd-49c0-85dc-b723551f6614",
   "metadata": {},
   "source": [
    "# 构建一个提取链\n",
    "\n",
    ":::info 前提条件\n",
    "\n",
    "本指南假设您熟悉以下概念：\n",
    "\n",
    "- [聊天模型](/docs/concepts/chat_models)\n",
    "- [工具](/docs/concepts/tools)\n",
    "- [工具调用](/docs/concepts/tool_calling)\n",
    "\n",
    ":::\n",
    "\n",
    "在本教程中，我们将构建一个链来从非结构化文本中提取结构化信息。\n",
    "\n",
    ":::{.callout-important}\n",
    "本教程仅适用于支持**函数/工具调用**的模型。\n",
    ":::"
   ]
  },
  {
   "cell_type": "markdown",
   "id": "4412def2-38e3-4bd0-bbf0-fb09ff9e5985",
   "metadata": {},
   "source": [
    "## 准备工作\n",
    "\n",
    "### 安装\n",
    "\n",
    "要安装 LangChain，请运行以下命令：\n",
    "\n",
    "```{=mdx}\n",
    "import Npm2Yarn from '@theme/Npm2Yarn';\n",
    "\n",
    "<Npm2Yarn>\n",
    "  langchain @langchain/core\n",
    "</Npm2Yarn>\n",
    "```\n",
    "\n",
    "有关更多细节，请参阅我们的[安装指南](/docs/how_to/installation/)。\n",
    "\n",
    "### LangSmith\n",
    "\n",
    "使用 LangChain 构建的许多应用程序将包含多个步骤以及多次 LLM 调用。\n",
    "随着这些应用程序变得越来越复杂，能够检查链或代理内部发生的情况变得至关重要。\n",
    "实现此目的的最佳方式是使用 [LangSmith](https://smith.langchain.com)。\n",
    "\n",
    "在上方链接注册后，请确保设置您的环境变量以开始记录跟踪信息：\n",
    "\n",
    "```shell\n",
    "export LANGSMITH_TRACING=\"true\"\n",
    "export LANGSMITH_API_KEY=\"...\"\n",
    "\n",
    "# 如果您不在无服务器环境中，可减少跟踪延迟\n",
    "# export LANGCHAIN_CALLBACKS_BACKGROUND=true\n",
    "```"
   ]
  },
  {
   "cell_type": "markdown",
   "id": "54d6b970-2ea3-4192-951e-21237212b359",
   "metadata": {},
   "source": [
    "## 模式\n",
    "\n",
    "首先，我们需要描述想要从文本中提取的信息。\n",
    "\n",
    "我们将使用 [Zod](https://zod.dev) 来定义一个提取个人信息的示例模式。\n",
    "\n",
    "```{=mdx}\n",
    "<Npm2Yarn>\n",
    "  zod @langchain/core\n",
    "</Npm2Yarn>\n",
    "```"
   ]
  },
  {
   "cell_type": "code",
   "execution_count": 1,
   "id": "c141084c-fb94-4093-8d6a-81175d688e40",
   "metadata": {},
   "outputs": [],
   "source": [
    "import { z } from \"zod\";\n",
    "\n",
    "const personSchema = z.object({\n",
    "  name: z.nullish(z.string()).describe(\"人的名字\"),\n",
    "  hair_color: z.nullish(z.string()).describe(\"人的头发颜色（如果已知）\"),\n",
    "  height_in_meters: z.nullish(z.string()).describe('以米为单位的身高'),\n",
    "});"
   ]
  },
  {
   "cell_type": "markdown",
   "id": "f248dd54-e36d-435a-b154-394ab4ed6792",
   "metadata": {},
   "source": [
    "定义模式时有两个最佳实践：\n",
    "\n",
    "1. 记录**属性**和**模式**本身：这些信息会发送给 LLM，用于提高信息提取的质量。\n",
    "2. 不要强迫 LLM 编造信息！上面我们使用了 `.nullish()` 来允许 LLM 在不知道答案时输出 `null` 或 `undefined`。\n",
    "\n",
    ":::{.callout-important}\n",
    "为了获得最佳性能，请良好记录模式，并确保模型在文本中没有可提取信息时不要被迫返回结果。\n",
    ":::\n",
    "\n",
    "## 提取器\n",
    "\n",
    "让我们使用上面定义的模式创建一个信息提取器。"
   ]
  },
  {
   "cell_type": "code",
   "execution_count": 2,
   "id": "a5e490f6-35ad-455e-8ae4-2bae021583ff",
   "metadata": {},
   "outputs": [],
   "source": [
    "import { ChatPromptTemplate } from \"@langchain/core/prompts\";\n",
    "\n",
    "// 定义自定义提示词以提供指令和任何附加上下文。\n",
    "// 1) 您可以在提示模板中添加示例以提高提取质量\n",
    "// 2) 引入额外参数以考虑上下文（例如，包含\n",
    "//    从文档中提取文本的元数据）。\n",
    "const promptTemplate = ChatPromptTemplate.fromMessages(\n",
    "  [\n",
    "    [\n",
    "      \"system\",\n",
    "      `您是一个专业的提取算法。\n",
    "仅提取文本中的相关信息。\n",
    "如果您不知道要提取属性的值，\n",
    "请为该属性的值返回 null。`,\n",
    "    ],\n",
    "    // 请参阅如何通过参考示例提高性能的指南。\n",
    "    // [\"placeholder\", \"{examples}\"],\n",
    "    [\"human\", \"{text}\"],\n",
    "  ],\n",
    ");"
   ]
  },
  {
   "cell_type": "markdown",
   "id": "832bf6a1-8e0c-4b6a-aa37-12fe9c42a6d9",
   "metadata": {},
   "source": [
    "我们需要使用支持函数/工具调用的模型。\n",
    "\n",
    "请查阅[文档](/docs/integrations/chat)以了解支持此 API 的一些模型。\n",
    "\n",
    "```{=mdx}\n",
    "import ChatModelTabs from \"@theme/ChatModelTabs\";\n",
    "\n",
    "<ChatModelTabs customVarName=\"llm\" />\n",
    "```"
   ]
  },
  {
   "cell_type": "code",
   "execution_count": 4,
   "id": "70a13071-d49a-41a7-aaf5-f1ccda15e78c",
   "metadata": {},
   "outputs": [],
   "source": [
    "// @lc-docs-hide-cell\n",
    "import { ChatAnthropic } from \"@langchain/anthropic\";\n",
    "\n",
    "const llm = new ChatAnthropic({\n",
    "  model: \"claude-3-sonnet-20240229\",\n",
    "  temperature: 0\n",
    "})"
   ]
  },
  {
   "cell_type": "markdown",
   "id": "86af8767-7fe4-4cb1-b218-591848070088",
   "metadata": {},
   "source": [
    "我们通过使用 `.withStructuredOutput` 方法创建一个新对象来启用结构化输出："
   ]
  },
  {
   "cell_type": "code",
   "execution_count": 5,
   "id": "97f70111-627b-4a08-a3e0-5bac3fae7c53",
   "metadata": {},
   "outputs": [],
   "source": [
    "const structured_llm = llm.withStructuredOutput(personSchema)"
   ]
  },
  {
   "cell_type": "markdown",
   "id": "62819b5f-b6f5-4fa5-a73e-13b506e60e70",
   "metadata": {},
   "source": [
    "然后可以正常调用它："
   ]
  },
  {
   "cell_type": "code",
   "execution_count": 6,
   "id": "04d846a6-d5cb-4009-ac19-61e3aac0177e",
   "metadata": {},
   "outputs": [
    {
     "name": "stdout",
     "output_type": "stream",
     "text": [
      "{ name: \u001b[32m'Alan Smith'\u001b[39m, hair_color: \u001b[32m'blond'\u001b[39m, height_in_meters: \u001b[32m'1.83'\u001b[39m }\n"
     ]
    }
   ],
   "source": [
    "const prompt = await promptTemplate.invoke({\n",
    "  text: \"Alan Smith 是 6 英尺高，有金发。\"\n",
    "})\n",
    "await structured_llm.invoke(prompt)"
   ]
  },
  {
   "cell_type": "markdown",
   "id": "bd1c493d-f9dc-4236-8da9-50f6919f5710",
   "metadata": {},
   "source": [
    ":::{.callout-important} \n",
    "\n",
    "提取是生成式的 🤯\n",
    "\n",
    "LLM 是生成模型，因此它们可以做一些非常酷的事情，例如即使身高是以英尺给出的，也能正确提取以米为单位的身高！\n",
    ":::\n",
    "\n",
    "我们可以在 [这里](https://smith.langchain.com/public/3d44b7e8-e7ca-4e02-951d-3290ccc89d64/r) 查看 LangSmith 的跟踪信息。\n",
    "\n",
    "尽管我们定义的模式变量名为 `personSchema`，但 Zod 无法推断此名称，因此不会将其传递给模型。为了帮助 LLM 更好地理解所提供的模式代表什么，您可以也为传递给 `withStructuredOutput()` 的模式提供一个名称："
   ]
  },
  {
   "cell_type": "code",
   "execution_count": 7,
   "id": "02f44203",
   "metadata": {},
   "outputs": [
    {
     "name": "stdout",
     "output_type": "stream",
     "text": [
      "{ name: \u001b[32m'Alan Smith'\u001b[39m, hair_color: \u001b[32m'blond'\u001b[39m, height_in_meters: \u001b[32m'1.83'\u001b[39m }\n"
     ]
    }
   ],
   "source": [
    "const structured_llm2 = llm.withStructuredOutput(personSchema, { name: \"person\" })\n",
    "\n",
    "const prompt2 = await promptTemplate.invoke({\n",
    "  text: \"Alan Smith 是 6 英尺高，有金发。\"\n",
    "})\n",
    "await structured_llm2.invoke(prompt2)"
   ]
  },
  {
   "cell_type": "markdown",
   "id": "bfe7d31e",
   "metadata": {},
   "source": [
    "这在许多情况下可以提高性能。"
   ]
  },
  {
   "cell_type": "markdown",
   "id": "28c5ef0c-b8d1-4e12-bd0e-e2528de87fcc",
   "metadata": {},
   "source": [
    "## 多个实体\n",
    "\n",
    "在**大多数情况下**，您应该提取的是实体列表而不是单个实体。\n",
    "\n",
    "这可以很容易地通过在 Zod 中嵌套模型来实现。"
   ]
  },
  {
   "cell_type": "code",
   "execution_count": 8,
   "id": "591a0c16-7a17-4883-91ee-0d6d2fdb265c",
   "metadata": {},
   "outputs": [],
   "source": [
    "import { z } from \"zod\";\n",
    "\n",
    "const person = z.object({\n",
    "  name: z.nullish(z.string()).describe('人的名字'),\n",
    "  hair_color: z.nullish(z.string()).describe(\"人的头发颜色（如果已知）\"),\n",
    "  height_in_meters: z.nullish(z.number()).describe('以米为单位的身高'),\n",
    "});\n",
    "  \n",
    "const dataSchema = z.object({\n",
    "  people: z.array(person).describe('提取的人的相关数据'),\n",
    "});"
   ]
  },
  {
   "cell_type": "markdown",
   "id": "5f5cda33-fd7b-481e-956a-703f45e40e1d",
   "metadata": {},
   "source": [
    ":::{.callout-important}\n",
    "这里的提取可能并不完美。请继续阅读如何使用**参考示例**来提高提取质量，并查看**指南**部分！\n",
    ":::"
   ]
  },
  {
   "cell_type": "code",
   "execution_count": 9,
   "id": "cf7062cc-1d1d-4a37-9122-509d1b87f0a6",
   "metadata": {},
   "outputs": [
    {
     "name": "stdout",
     "output_type": "stream",
     "text": [
      "{\n",
      "  people: [\n",
      "    { name: \u001b[32m'Jeff'\u001b[39m, hair_color: \u001b[32m'black'\u001b[39m, height_in_meters: \u001b[33m1.83\u001b[39m },\n",
      "    { name: \u001b[32m'Anna'\u001b[39m, hair_color: \u001b[32m'black'\u001b[39m, height_in_meters: \u001b[1mnull\u001b[22m }\n",
      "  ]\n",
      "}\n"
     ]
    }
   ],
   "source": [
    "const structured_llm3 = llm.withStructuredOutput(dataSchema)\n",
    "const prompt3 = await promptTemplate.invoke({\n",
    "  text: \"我的名字是 Jeff，我的头发是黑色的，我身高 6 英尺。Anna 的头发颜色和我一样。\"\n",
    "})\n",
    "await structured_llm3.invoke(prompt3)"
   ]
  },
  {
   "cell_type": "markdown",
   "id": "fba1d770-bf4d-4de4-9e4f-7384872ef0dc",
   "metadata": {},
   "source": [
    ":::{.callout-tip}\n",
    "当模式支持提取**多个实体**时，它也允许模型在文本中没有相关信息时提取**零个实体**，提供一个空列表。\n",
    "\n",
    "这通常是一件**好事**！它允许指定实体的**必需**属性，而无需强制模型检测该实体。\n",
    ":::\n",
    "\n",
    "我们可以在 [这里](https://smith.langchain.com/public/272096ab-9ac5-43f9-aa00-3b8443477d17/r) 查看 LangSmith 的跟踪信息。"
   ]
  },
  {
   "cell_type": "markdown",
   "id": "f07a7455-7de6-4a6f-9772-0477ef65e3dc",
   "metadata": {},
   "source": [
    "## 下一步\n",
    "\n",
    "现在您已经了解了使用 LangChain 进行提取的基础知识，接下来可以继续阅读其他操作指南：\n",
    "\n",
    "- [添加示例](/docs/how_to/extraction_examples)：学习如何使用**参考示例**来提高性能。\n",
    "- [处理长文本](/docs/how_to/extraction_long_text)：如果文本不适合 LLM 的上下文窗口该怎么办？\n",
    "- [使用解析方法](/docs/how_to/extraction_parse)：对不支持**工具/函数调用**的模型使用基于提示词的方法进行提取。"
   ]
  }
 ],
 "metadata": {
  "kernelspec": {
   "display_name": "TypeScript",
   "language": "typescript",
   "name": "tslab"
  },
  "language_info": {
   "codemirror_mode": {
    "mode": "typescript",
    "name": "javascript",
    "typescript": true
   },
   "file_extension": ".ts",
   "mimetype": "text/typescript",
   "name": "typescript",
   "version": "3.7.2"
  }
 },
 "nbformat": 4,
 "nbformat_minor": 5
}