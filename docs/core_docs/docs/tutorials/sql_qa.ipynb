{
  "cells": [
    {
      "cell_type": "markdown",
      "metadata": {},
      "source": [
        "# 构建一个基于SQL数据的问答系统\n",
        "\n",
        ":::info 预备知识\n",
        "\n",
        "本指南假设您熟悉以下概念：\n",
        "\n",
        "- [聊天模型](/docs/concepts/chat_models)\n",
        "- [工具](/docs/concepts/tools)\n",
        "- [代理](/docs/concepts/agents)\n",
        "- [LangGraph](/docs/concepts/architecture/#langgraph)\n",
        "\n",
        ":::\n",
        "\n",
        "使LLM系统能够查询结构化数据，与非结构化文本数据相比，可能会有质的不同。在后者中，通常会生成可以搜索向量数据库的文本；而对于结构化数据，LLM通常会在DSL（如SQL）中编写和执行查询。在本指南中，我们将介绍在数据库表格数据上创建问答系统的基本方法。我们将涵盖使用[链](/docs/tutorials/sql_qa#chains)和[代理](/docs/tutorials/sql_qa#agents)的实现。这些系统将允许我们对数据库中的数据提出问题，并获得自然语言的答案。两者的主要区别在于，我们的代理可以循环多次查询数据库，以回答问题。\n",
        "\n",
        "## ⚠️ 安全提示 ⚠️\n",
        "\n",
        "构建SQL数据库的问答系统需要执行模型生成的SQL查询。这样做存在固有的风险。请务必始终将数据库连接权限的范围限制为链/代理需求所需的最小权限。这将缓解但无法完全消除构建模型驱动系统带来的风险。有关通用安全最佳实践的更多信息，请[参见此处](/docs/security)。\n",
        "\n",
        "\n",
        "## 架构\n",
        "\n",
        "从高层次来看，这些系统的步骤如下：\n",
        "\n",
        "1. **将问题转换为SQL查询**：模型将用户输入转换为SQL查询。\n",
        "2. **执行SQL查询**：执行该查询。\n",
        "3. **回答问题**：模型使用查询结果回应用户输入。\n",
        "\n",
        "![sql_usecase.png](../../static/img/sql_usecase.png)\n",
        "\n",
        "## 环境准备\n",
        "\n",
        "首先，安装所需的包并设置环境变量：\n",
        "```bash npm2yarn\n",
        "npm i langchain @langchain/community @langchain/langgraph\n",
        "```\n",
        "\n",
        "```shell\n",
        "# 如需使用LangSmith，请取消以下行的注释。这不是必需的，但推荐用于调试和可观察性。\n",
        "# export LANGSMITH_API_KEY=<your key>\n",
        "# export LANGSMITH_TRACING=true\n",
        "\n",
        "# 如果您不在无服务器环境中，取消注释以下行以减少跟踪延迟\n",
        "# export LANGCHAIN_CALLBACKS_BACKGROUND=true\n",
        "```"
      ]
    },
    {
      "cell_type": "markdown",
      "metadata": {},
      "source": [
        "### 示例数据\n",
        "\n",
        "下面的示例将使用 SQLite 连接 Chinook 数据库，这是一个代表数字媒体商店的示例数据库。请按照[这些安装步骤](https://database.guide/2-sample-databases-sqlite/)在与本笔记本相同的目录中创建 `Chinook.db` 文件。您还可以通过命令行下载并构建该数据库：\n",
        "```bash\n",
        "curl -s https://raw.githubusercontent.com/lerocha/chinook-database/master/ChinookDatabase/DataSources/Chinook_Sqlite.sql | sqlite3 Chinook.db\n",
        "```\n",
        "\n",
        "现在，`Chinook.db` 已经在我们的目录中，我们可以使用 [SqlDatabase](https://api.js.langchain.com/classes/langchain.sql_db.SqlDatabase.html) 类与其进行交互："
      ]
    },
    {
      "cell_type": "code",
      "execution_count": 1,
      "metadata": {},
      "outputs": [
        {
          "name": "stdout",
          "output_type": "stream",
          "text": [
            "[{\"ArtistId\":1,\"Name\":\"AC/DC\"},{\"ArtistId\":2,\"Name\":\"Accept\"},{\"ArtistId\":3,\"Name\":\"Aerosmith\"},{\"ArtistId\":4,\"Name\":\"Alanis Morissette\"},{\"ArtistId\":5,\"Name\":\"Alice In Chains\"},{\"ArtistId\":6,\"Name\":\"Antônio Carlos Jobim\"},{\"ArtistId\":7,\"Name\":\"Apocalyptica\"},{\"ArtistId\":8,\"Name\":\"Audioslave\"},{\"ArtistId\":9,\"Name\":\"BackBeat\"},{\"ArtistId\":10,\"Name\":\"Billy Cobham\"}]\n"
          ]
        }
      ],
      "source": [
        "import { SqlDatabase } from \"langchain/sql_db\";\n",
        "import { DataSource } from \"typeorm\";\n",
        "\n",
        "const datasource = new DataSource({\n",
        "  type: \"sqlite\",\n",
        "  database: \"Chinook.db\",\n",
        "});\n",
        "const db = await SqlDatabase.fromDataSourceParams({\n",
        "  appDataSource: datasource,\n",
        "});\n",
        "\n",
        "await db.run(\"SELECT * FROM Artist LIMIT 10;\")"
      ]
    },
    {
      "cell_type": "markdown",
      "metadata": {},
      "source": [
        "很好！我们有一个可以查询的SQL数据库。现在让我们尝试将其连接到一个LLM。\n",
        "\n",
        "## 链式操作 {#chains}\n",
        "\n",
        "链式操作是由可预测步骤组合而成的。在 [LangGraph](/docs/concepts/architecture#langchainlanggraph) 中，我们可以通过简单的节点序列来表示一个链式操作。接下来，我们将创建一个步骤序列，针对提出的问题，完成以下操作：\n",
        "- 将问题转换为SQL查询；\n",
        "- 执行该查询；\n",
        "- 利用查询结果回答原始问题。\n",
        "\n",
        "这种安排并不适用于所有场景。例如，该系统会对任何用户输入都执行SQL查询——即使是“你好”。重要的是，正如我们将在下面看到的，有些问题需要不止一次查询才能回答。我们将在“代理”部分中解决这些场景。\n",
        "\n",
        "### 应用状态\n",
        "\n",
        "LangGraph的[状态](https://langchain-ai.github.io/langgraphjs/concepts/low_level/#state)控制着输入到应用程序的数据、在步骤之间传递的数据以及由应用程序输出的数据。\n",
        "\n",
        "对于本应用，我们只需跟踪输入的问题、生成的查询、查询结果以及生成的答案："
      ]
    },
    {
      "cell_type": "code",
      "execution_count": 2,
      "metadata": {},
      "outputs": [],
      "source": [
        "import { Annotation } from \"@langchain/langgraph\";\n",
        "\n",
        "\n",
        "const InputStateAnnotation = Annotation.Root({\n",
        "  question: Annotation<string>,\n",
        "});\n",
        "\n",
        "\n",
        "const StateAnnotation = Annotation.Root({\n",
        "  question: Annotation<string>,\n",
        "  query: Annotation<string>,\n",
        "  result: Annotation<string>,\n",
        "  answer: Annotation<string>,\n",
        "});"
      ]
    },
    {
      "cell_type": "markdown",
      "metadata": {},
      "source": [
        "现在我们只需要操作此状态并填充其内容的函数。\n",
        "\n",
        "### 将问题转换为SQL查询\n",
        "\n",
        "第一步是获取用户输入并将其转换为SQL查询。为了可靠地获取SQL查询（不包括Markdown格式、解释或澄清内容），我们将使用LangChain的[结构化输出](/docs/concepts/structured_outputs/)抽象功能。\n",
        "\n",
        "让我们为应用程序选择一个聊天模型：\n",
        "\n",
        "```{=mdx}\n",
        "import ChatModelTabs from \"@theme/ChatModelTabs\";\n",
        "\n",
        "<ChatModelTabs customVarName=\"llm\" />\n",
        "```"
      ]
    },
    {
      "cell_type": "code",
      "execution_count": 4,
      "metadata": {},
      "outputs": [],
      "source": [
        "// @lc-docs-hide-cell\n",
        "import { ChatOpenAI } from '@langchain/openai';\n",
        "\n",
        "const llm = new ChatOpenAI({\n",
        "  model: \"gpt-4o-mini\",\n",
        "  temperature: 0,\n",
        "})"
      ]
    },
    {
      "cell_type": "markdown",
      "metadata": {},
      "source": [
        "我们将从 [Prompt Hub](https://smith.langchain.com/hub) 中提取一个提示，以指导模型。"
      ]
    },
    {
      "cell_type": "code",
      "execution_count": 5,
      "metadata": {},
      "outputs": [
        {
          "name": "stdout",
          "output_type": "stream",
          "text": [
            "Given an input question, create a syntactically correct {dialect} query to run to help find the answer. Unless the user specifies in his question a specific number of examples they wish to obtain, always limit your query to at most {top_k} results. You can order the results by a relevant column to return the most interesting examples in the database.\n",
            "\n",
            "Never query for all the columns from a specific table, only ask for a the few relevant columns given the question.\n",
            "\n",
            "Pay attention to use only the column names that you can see in the schema description. Be careful to not query for columns that do not exist. Also, pay attention to which column is in which table.\n",
            "\n",
            "Only use the following tables:\n",
            "{table_info}\n",
            "Question: {input}\n"
          ]
        }
      ],
      "source": [
        "import { pull } from \"langchain/hub\";\n",
        "import { ChatPromptTemplate } from \"@langchain/core/prompts\";\n",
        "\n",
        "const queryPromptTemplate = await pull<ChatPromptTemplate>(\"langchain-ai/sql-query-system-prompt\");\n",
        "\n",
        "queryPromptTemplate.promptMessages.forEach(message => {\n",
        "    console.log(message.lc_kwargs.prompt.template);\n",
        "});"
      ]
    },
    {
      "cell_type": "markdown",
      "metadata": {},
      "source": [
        "提示中包含多个我们需要填充的参数，例如SQL方言和表结构。LangChain的[SqlDatabase](https://api.js.langchain.com/classes/langchain.sql_db.SqlDatabase.html)对象包含了一些方法来帮助完成此操作。我们的`writeQuery`步骤将仅填充这些参数，并提示模型生成SQL查询："
      ]
    },
    {
      "cell_type": "code",
      "execution_count": 6,
      "metadata": {},
      "outputs": [],
      "source": [
        "import { z } from \"zod\";\n",
        "\n",
        "\n",
        "const queryOutput = z.object({\n",
        "  query: z.string().describe(\"Syntactically valid SQL query.\"),\n",
        "});\n",
        "\n",
        "const structuredLlm = llm.withStructuredOutput(queryOutput)\n",
        "\n",
        "\n",
        "const writeQuery = async (state: typeof InputStateAnnotation.State) => {\n",
        "  const promptValue = await queryPromptTemplate.invoke({\n",
        "      dialect: db.appDataSourceOptions.type,\n",
        "      top_k: 10,\n",
        "      table_info: await db.getTableInfo(),\n",
        "      input: state.question\n",
        "  })\n",
        "  const result = await structuredLlm.invoke(promptValue)\n",
        "  return { query: result.query }\n",
        "};"
      ]
    },
    {
      "cell_type": "markdown",
      "metadata": {},
      "source": [
        "让我们来测试一下："
      ]
    },
    {
      "cell_type": "code",
      "execution_count": 7,
      "metadata": {},
      "outputs": [
        {
          "name": "stdout",
          "output_type": "stream",
          "text": [
            "{ query: \u001b[32m'SELECT COUNT(*) AS EmployeeCount FROM Employee;'\u001b[39m }\n"
          ]
        }
      ],
      "source": [
        "await writeQuery({ question: \"How many Employees are there?\" })"
      ]
    },
    {
      "cell_type": "markdown",
      "metadata": {},
      "source": [
        "### 执行查询\n",
        "\n",
        "**这是创建SQL链中最危险的部分。** 请仔细考虑是否可以对您的数据运行自动化查询。尽可能地降低数据库连接的权限。在执行查询前，考虑在链中添加一个人工审批步骤（见下文）。\n",
        "\n",
        "要执行查询，我们将从[langchain-community](/docs/concepts/architecture#langchaincommunity)加载一个工具。我们的`executeQuery`节点将仅封装这个工具："
      ]
    },
    {
      "cell_type": "code",
      "execution_count": 8,
      "metadata": {},
      "outputs": [],
      "source": [
        "import { QuerySqlTool } from \"langchain/tools/sql\";\n",
        "\n",
        "const executeQuery = async (state: typeof StateAnnotation.State) => {\n",
        "  const executeQueryTool = new QuerySqlTool(db);\n",
        "  return { result: await executeQueryTool.invoke(state.query) }\n",
        "};"
      ]
    },
    {
      "cell_type": "markdown",
      "metadata": {},
      "source": [
        "测试此步骤："
      ]
    },
    {
      "cell_type": "code",
      "execution_count": 9,
      "metadata": {},
      "outputs": [
        {
          "name": "stdout",
          "output_type": "stream",
          "text": [
            "{ result: \u001b[32m'[{\"EmployeeCount\":8}]'\u001b[39m }\n"
          ]
        }
      ],
      "source": [
        "await executeQuery({\n",
        "    question: \"\",\n",
        "    query: \"SELECT COUNT(*) AS EmployeeCount FROM Employee;\",\n",
        "    result: \"\",\n",
        "    answer: \"\"\n",
        "})"
      ]
    },
    {
      "cell_type": "markdown",
      "metadata": {},
      "source": [
        "### 生成答案\n",
        "\n",
        "最后一步，我们将根据从数据库中提取的信息生成对问题的答案："
      ]
    },
    {
      "cell_type": "code",
      "execution_count": 10,
      "metadata": {},
      "outputs": [],
      "source": [
        "const generateAnswer = async (state: typeof StateAnnotation.State) => {\n",
        "  const promptValue = \n",
        "    \"Given the following user question, corresponding SQL query, \" +\n",
        "    \"and SQL result, answer the user question.\\n\\n\" +\n",
        "    `Question: ${state.question}\\n` +\n",
        "    `SQL Query: ${state.query}\\n` +\n",
        "    `SQL Result: ${state.result}\\n`;\n",
        "  const response = await llm.invoke(promptValue)\n",
        "  return { answer: response.content }\n",
        "};"
      ]
    },
    {
      "cell_type": "markdown",
      "metadata": {},
      "source": [
        "### 使用 LangGraph 编排\n",
        "\n",
        "最后，我们将应用程序编译成一个单独的 `graph` 对象。在这种情况下，我们只是将三个步骤连接成一个单一的序列。"
      ]
    },
    {
      "cell_type": "code",
      "execution_count": 11,
      "metadata": {},
      "outputs": [],
      "source": [
        "import { StateGraph } from \"@langchain/langgraph\";\n",
        "\n",
        "const graphBuilder = new StateGraph({\n",
        "  stateSchema: StateAnnotation,\n",
        "})\n",
        "  .addNode(\"writeQuery\", writeQuery)\n",
        "  .addNode(\"executeQuery\", executeQuery)\n",
        "  .addNode(\"generateAnswer\", generateAnswer)\n",
        "  .addEdge(\"__start__\", \"writeQuery\")\n",
        "  .addEdge(\"writeQuery\", \"executeQuery\")\n",
        "  .addEdge(\"executeQuery\", \"generateAnswer\")\n",
        "  .addEdge(\"generateAnswer\", \"__end__\")"
      ]
    },
    {
      "cell_type": "code",
      "execution_count": 12,
      "metadata": {},
      "outputs": [],
      "source": [
        "const graph = graphBuilder.compile()"
      ]
    },
    {
      "cell_type": "markdown",
      "metadata": {},
      "source": [
        "LangGraph 还提供内置工具，用于可视化应用程序的控制流程："
      ]
    },
    {
      "cell_type": "markdown",
      "metadata": {},
      "source": [
        "```javascript\n",
        "// 注意：tslab 只能在 Jupyter Notebook 内部运行。请勿担心自己运行此代码！\n",
        "import * as tslab from \"tslab\";\n",
        "\n",
        "const image = await graph.getGraph().drawMermaidPng();\n",
        "const arrayBuffer = await image.arrayBuffer();\n",
        "\n",
        "await tslab.display.png(new Uint8Array(arrayBuffer));\n",
        "```\n",
        "\n",
        "![graph_img_sql_qa](../../static/img/graph_img_sql_qa.png)"
      ]
    },
    {
      "cell_type": "markdown",
      "metadata": {},
      "source": [
        "让我们测试我们的应用程序！请注意，我们可以流式传输各个步骤的结果："
      ]
    },
    {
      "cell_type": "code",
      "execution_count": 14,
      "metadata": {},
      "outputs": [
        {
          "name": "stdout",
          "output_type": "stream",
          "text": [
            "{ question: \u001b[32m'How many employees are there?'\u001b[39m }\n",
            "\n",
            "====\n",
            "\n",
            "{\n",
            "  writeQuery: { query: \u001b[32m'SELECT COUNT(*) AS EmployeeCount FROM Employee;'\u001b[39m }\n",
            "}\n",
            "\n",
            "====\n",
            "\n",
            "{ executeQuery: { result: \u001b[32m'[{\"EmployeeCount\":8}]'\u001b[39m } }\n",
            "\n",
            "====\n",
            "\n",
            "{ generateAnswer: { answer: \u001b[32m'There are 8 employees.'\u001b[39m } }\n",
            "\n",
            "====\n",
            "\n"
          ]
        }
      ],
      "source": [
        "let inputs = { question: \"How many employees are there?\" }\n",
        "\n",
        "console.log(inputs)\n",
        "console.log(\"\\n====\\n\");\n",
        "for await (\n",
        "  const step of await graph.stream(inputs, {\n",
        "    streamMode: \"updates\",\n",
        "  })\n",
        ") {\n",
        "  console.log(step);\n",
        "  console.log(\"\\n====\\n\");\n",
        "}"
      ]
    },
    {
      "cell_type": "markdown",
      "metadata": {},
      "source": [
        "查看 [LangSmith 跟踪](https://smith.langchain.com/public/4cb42037-55cf-4da9-8b3a-8410482dbd32/r)。"
      ]
    },
    {
      "cell_type": "markdown",
      "metadata": {},
      "source": [
        "### 人工参与（Human-in-the-loop）\n",
        "\n",
        "LangGraph 支持许多对这一工作流程有用的特性。其中之一是 [人工参与（human-in-the-loop）](https://langchain-ai.github.io/langgraphjs/concepts/human_in_the_loop/)：我们可以在敏感步骤（例如执行 SQL 查询）之前中断应用程序，以进行人工审核。这一功能由 LangGraph 的 [持久化（persistence）](https://langchain-ai.github.io/langgraphjs/concepts/persistence/) 层支持，它可以将运行进度保存到你选择的存储中。以下代码指定了内存中的存储方式："
      ]
    },
    {
      "cell_type": "code",
      "execution_count": 15,
      "metadata": {},
      "outputs": [],
      "source": [
        "import { MemorySaver } from \"@langchain/langgraph\";\n",
        "\n",
        "const checkpointer = new MemorySaver();\n",
        "const graphWithInterrupt = graphBuilder.compile({\n",
        "    checkpointer: checkpointer,\n",
        "    interruptBefore: [\"executeQuery\"]\n",
        "});\n",
        "\n",
        "// Now that we're using persistence, we need to specify a thread ID\n",
        "// so that we can continue the run after review.\n",
        "const threadConfig = {\n",
        "    configurable: { thread_id: \"1\" },\n",
        "    streamMode: \"updates\" as const\n",
        "};"
      ]
    },
    {
      "cell_type": "markdown",
      "metadata": {},
      "source": [
        "```javascript\n",
        "const image = await graphWithInterrupt.getGraph().drawMermaidPng();\n",
        "const arrayBuffer = await image.arrayBuffer();\n",
        "\n",
        "await tslab.display.png(new Uint8Array(arrayBuffer));\n",
        "```\n",
        "\n",
        "![graph_img_sql_qa_interrupt](../../static/img/graph_img_sql_qa_interrupt.png)"
      ]
    },
    {
      "cell_type": "markdown",
      "metadata": {},
      "source": [
        "让我们重复相同的运行，添加一个简单的“是”/“否”审批步骤："
      ]
    },
    {
      "cell_type": "code",
      "execution_count": 17,
      "metadata": {},
      "outputs": [
        {
          "name": "stdout",
          "output_type": "stream",
          "text": [
            "{ question: \u001b[32m'How many employees are there?'\u001b[39m }\n",
            "\n",
            "====\n",
            "\n",
            "{\n",
            "  writeQuery: { query: \u001b[32m'SELECT COUNT(*) AS EmployeeCount FROM Employee;'\u001b[39m }\n",
            "}\n",
            "\n",
            "====\n",
            "\n",
            "---GRAPH INTERRUPTED---\n"
          ]
        }
      ],
      "source": [
        "console.log(inputs)\n",
        "console.log(\"\\n====\\n\");\n",
        "for await (\n",
        "  const step of await graphWithInterrupt.stream(inputs, threadConfig)\n",
        ") {\n",
        "  console.log(step);\n",
        "  console.log(\"\\n====\\n\");\n",
        "}\n",
        "\n",
        "// Will log when the graph is interrupted, after `executeQuery`.\n",
        "console.log(\"---GRAPH INTERRUPTED---\");"
      ]
    },
    {
      "cell_type": "markdown",
      "metadata": {},
      "source": [
        "运行在查询执行之前中断。此时，我们的应用程序可以处理与用户的交互，由用户审阅查询。\n",
        "\n",
        "如果获得批准，使用 `null` 输入运行相同的线程将从我们中断的位置继续执行。这是通过 LangGraph 的 [持久化](https://langchain-ai.github.io/langgraphjs/concepts/persistence/) 层实现的。"
      ]
    },
    {
      "cell_type": "code",
      "execution_count": 18,
      "metadata": {},
      "outputs": [
        {
          "name": "stdout",
          "output_type": "stream",
          "text": [
            "{ executeQuery: { result: \u001b[32m'[{\"EmployeeCount\":8}]'\u001b[39m } }\n",
            "\n",
            "====\n",
            "\n",
            "{ generateAnswer: { answer: \u001b[32m'There are 8 employees.'\u001b[39m } }\n",
            "\n",
            "====\n",
            "\n"
          ]
        }
      ],
      "source": [
        "for await (\n",
        "  const step of await graphWithInterrupt.stream(null, threadConfig)\n",
        ") {\n",
        "  console.log(step);\n",
        "  console.log(\"\\n====\\n\");\n",
        "}"
      ]
    },
    {
      "cell_type": "markdown",
      "metadata": {},
      "source": [
        "详见 [此指南](https://langchain-ai.github.io/langgraphjs/concepts/human_in_the_loop/) 以了解更多细节和示例。"
      ]
    },
    {
      "cell_type": "markdown",
      "metadata": {},
      "source": [
        "### 下一步\n",
        "\n",
        "对于更复杂的查询生成，我们可能需要创建少量样本提示或添加查询检查步骤。如需了解此类高级技术，请参阅：\n",
        "\n",
        "* [提示策略](/docs/how_to/sql_prompting)：高级提示工程技巧。\n",
        "* [查询检查](/docs/how_to/sql_query_checking)：添加查询验证和错误处理。\n",
        "* [大型数据库](/docs/how_to/sql_large_db)：处理大型数据库的技术。"
      ]
    },
    {
      "cell_type": "markdown",
      "metadata": {},
      "source": [
        "## 代理 {#agents}\n",
        "\n",
        "[代理](/docs/concepts/agents) 利用LLM的推理能力在执行过程中进行决策。使用代理可以将查询生成和执行过程中的更多权限进行下放。尽管它们的行为比上述“链”更难预测，但它们也具有一些优势：\n",
        "\n",
        "- 它们可以根据需要多次查询数据库以回答用户问题。\n",
        "- 它们可以通过运行生成的查询、捕获错误跟踪并正确重新生成来从错误中恢复。\n",
        "- 它们可以根据数据库的模式以及数据库的内容回答问题（例如描述特定表）。 \n",
        "\n",
        "\n",
        "下面我们将构建一个最简化的SQL代理。我们将使用LangChain的 [SqlToolkit](https://api.js.langchain.com/classes/langchain.agents_toolkits_sql.SqlToolkit.html) 为其配备一组工具。通过LangGraph的 [预构建的ReAct代理构造器](https://langchain-ai.github.io/langgraphjs/how-tos/create-react-agent/)，我们可以在一行代码中完成此操作。\n",
        "\n",
        "`SqlToolkit` 包含可以以下功能的工具：\n",
        "\n",
        "* 创建和执行查询\n",
        "* 检查查询语法\n",
        "* 获取表描述\n",
        "* ... 以及更多"
      ]
    },
    {
      "cell_type": "code",
      "execution_count": 19,
      "metadata": {},
      "outputs": [
        {
          "name": "stdout",
          "output_type": "stream",
          "text": [
            "[\n",
            "  {\n",
            "    name: \u001b[32m'query-sql'\u001b[39m,\n",
            "    description: \u001b[32m'Input to this tool is a detailed and correct SQL query, output is a result from the database.\\n'\u001b[39m +\n",
            "      \u001b[32m'  If the query is not correct, an error message will be returned.\\n'\u001b[39m +\n",
            "      \u001b[32m'  If an error is returned, rewrite the query, check the query, and try again.'\u001b[39m\n",
            "  },\n",
            "  {\n",
            "    name: \u001b[32m'info-sql'\u001b[39m,\n",
            "    description: \u001b[32m'Input to this tool is a comma-separated list of tables, output is the schema and sample rows for those tables.\\n'\u001b[39m +\n",
            "      \u001b[32m'    Be sure that the tables actually exist by calling list-tables-sql first!\\n'\u001b[39m +\n",
            "      \u001b[32m'\\n'\u001b[39m +\n",
            "      \u001b[32m'    Example Input: \"table1, table2, table3.'\u001b[39m\n",
            "  },\n",
            "  {\n",
            "    name: \u001b[32m'list-tables-sql'\u001b[39m,\n",
            "    description: \u001b[32m'Input is an empty string, output is a comma-separated list of tables in the database.'\u001b[39m\n",
            "  },\n",
            "  {\n",
            "    name: \u001b[32m'query-checker'\u001b[39m,\n",
            "    description: \u001b[32m'Use this tool to double check if your query is correct before executing it.\\n'\u001b[39m +\n",
            "      \u001b[32m'    Always use this tool before executing a query with query-sql!'\u001b[39m\n",
            "  }\n",
            "]\n"
          ]
        }
      ],
      "source": [
        "import { SqlToolkit } from \"langchain/agents/toolkits/sql\";\n",
        "\n",
        "const toolkit = new SqlToolkit(db, llm);\n",
        "\n",
        "const tools = toolkit.getTools();\n",
        "\n",
        "console.log(\n",
        "  tools.map((tool) => ({\n",
        "    name: tool.name,\n",
        "    description: tool.description,\n",
        "  }))\n",
        ")"
      ]
    },
    {
      "cell_type": "markdown",
      "metadata": {},
      "source": [
        "### 系统提示\n",
        "\n",
        "我们还需要为代理加载一个系统提示。这将包含有关如何行为的指令。"
      ]
    },
    {
      "cell_type": "code",
      "execution_count": 20,
      "metadata": {},
      "outputs": [
        {
          "name": "stdout",
          "output_type": "stream",
          "text": [
            "You are an agent designed to interact with a SQL database.\n",
            "Given an input question, create a syntactically correct {dialect} query to run, then look at the results of the query and return the answer.\n",
            "Unless the user specifies a specific number of examples they wish to obtain, always limit your query to at most {top_k} results.\n",
            "You can order the results by a relevant column to return the most interesting examples in the database.\n",
            "Never query for all the columns from a specific table, only ask for the relevant columns given the question.\n",
            "You have access to tools for interacting with the database.\n",
            "Only use the below tools. Only use the information returned by the below tools to construct your final answer.\n",
            "You MUST double check your query before executing it. If you get an error while executing a query, rewrite the query and try again.\n",
            "\n",
            "DO NOT make any DML statements (INSERT, UPDATE, DELETE, DROP etc.) to the database.\n",
            "\n",
            "To start you should ALWAYS look at the tables in the database to see what you can query.\n",
            "Do NOT skip this step.\n",
            "Then you should query the schema of the most relevant tables.\n"
          ]
        }
      ],
      "source": [
        "import { pull } from \"langchain/hub\";\n",
        "import { ChatPromptTemplate } from \"@langchain/core/prompts\";\n",
        "\n",
        "const systemPromptTemplate = await pull<ChatPromptTemplate>(\"langchain-ai/sql-agent-system-prompt\");\n",
        "\n",
        "console.log(systemPromptTemplate.promptMessages[0].lc_kwargs.prompt.template)"
      ]
    },
    {
      "cell_type": "markdown",
      "metadata": {},
      "source": [
        "让我们填写提示中突出显示的参数："
      ]
    },
    {
      "cell_type": "code",
      "execution_count": 21,
      "metadata": {},
      "outputs": [],
      "source": [
        "const systemMessage = await systemPromptTemplate.format({\n",
        "    dialect: \"SQLite\", top_k: 5\n",
        "})"
      ]
    },
    {
      "cell_type": "markdown",
      "metadata": {},
      "source": [
        "### 初始化智能体\n",
        "\n",
        "我们将使用预构建的 [LangGraph](/docs/concepts/architecture/#langgraph) 智能体来构建我们的智能体"
      ]
    },
    {
      "cell_type": "code",
      "execution_count": null,
      "metadata": {},
      "outputs": [],
      "source": [
        "import { createReactAgent } from \"@langchain/langgraph/prebuilt\";\n",
        "\n",
        "const agent = createReactAgent({ llm: llm, tools: tools, prompt: systemMessage });"
      ]
    },
    {
      "cell_type": "markdown",
      "metadata": {},
      "source": [
        "考虑智能体如何回应以下问题："
      ]
    },
    {
      "cell_type": "markdown",
      "metadata": {},
      "source": [
        "```{=mdx}\n",
        "<details>\n",
        "<summary>展开以查看 `prettyPrint` 代码。</summary>\n",
        "```"
      ]
    },
    {
      "cell_type": "code",
      "execution_count": 23,
      "metadata": {},
      "outputs": [],
      "source": [
        "import { AIMessage, BaseMessage, isAIMessage } from \"@langchain/core/messages\";\n",
        "\n",
        "const prettyPrint = (message: BaseMessage) => {\n",
        "  let txt = `[${message._getType()}]: ${message.content}`;\n",
        "  if (\n",
        "    (isAIMessage(message) && message.tool_calls?.length) ||\n",
        "    0 > 0\n",
        "  ) {\n",
        "    const tool_calls = (message as AIMessage)?.tool_calls\n",
        "      ?.map((tc) => `- ${tc.name}(${JSON.stringify(tc.args)})`)\n",
        "      .join(\"\\n\");\n",
        "    txt += ` \\nTools: \\n${tool_calls}`;\n",
        "  }\n",
        "  console.log(txt);\n",
        "};"
      ]
    },
    {
      "cell_type": "markdown",
      "metadata": {},
      "source": [
        "```{=mdx}\n",
        "</details>\n",
        "```"
      ]
    },
    {
      "cell_type": "code",
      "execution_count": 40,
      "metadata": {},
      "outputs": [
        {
          "name": "stdout",
          "output_type": "stream",
          "text": [
            "[human]: Which country's customers spent the most?\n",
            "-----\n",
            "\n",
            "[ai]:  \n",
            "Tools: \n",
            "- list-tables-sql({\"input\":\"\"})\n",
            "-----\n",
            "\n",
            "[tool]: Album, Artist, Customer, Employee, Genre, Invoice, InvoiceLine, MediaType, Playlist, PlaylistTrack, Track\n",
            "-----\n",
            "\n",
            "[ai]:  \n",
            "Tools: \n",
            "- info-sql({\"input\":\"Customer, Invoice, InvoiceLine\"})\n",
            "- info-sql({\"input\":\"Invoice\"})\n",
            "-----\n",
            "\n",
            "[tool]: CREATE TABLE Invoice (\n",
            "InvoiceId INTEGER NOT NULL, CustomerId INTEGER NOT NULL, InvoiceDate DATETIME NOT NULL, BillingAddress NVARCHAR(70) , BillingCity NVARCHAR(40) , BillingState NVARCHAR(40) , BillingCountry NVARCHAR(40) , BillingPostalCode NVARCHAR(10) , Total NUMERIC(10,2) NOT NULL) \n",
            "SELECT * FROM \"Invoice\" LIMIT 3;\n",
            " InvoiceId CustomerId InvoiceDate BillingAddress BillingCity BillingState BillingCountry BillingPostalCode Total\n",
            " 1 2 2021-01-01 00:00:00 Theodor-Heuss-Straße 34 Stuttgart null Germany 70174 1.98\n",
            " 2 4 2021-01-02 00:00:00 Ullevålsveien 14 Oslo null Norway 0171 3.96\n",
            " 3 8 2021-01-03 00:00:00 Grétrystraat 63 Brussels null Belgium 1000 5.94\n",
            "\n",
            "-----\n",
            "\n",
            "[ai]:  \n",
            "Tools: \n",
            "- query-checker({\"input\":\"SELECT c.Country, SUM(i.Total) AS TotalSpent \\nFROM Customer c \\nJOIN Invoice i ON c.CustomerId = i.CustomerId \\nGROUP BY c.Country \\nORDER BY TotalSpent DESC \\nLIMIT 5;\"})\n",
            "-----\n",
            "\n",
            "[tool]: The SQL query you provided appears to be correct and does not contain any of the common mistakes listed. It properly joins the `Customer` and `Invoice` tables, groups the results by country, and orders the total spending in descending order while limiting the results to the top 5 countries.\n",
            "\n",
            "Here is the original query reproduced:\n",
            "\n",
            "```sql\n",
            "SELECT c.Country, SUM(i.Total) AS TotalSpent \n",
            "FROM Customer c \n",
            "JOIN Invoice i ON c.CustomerId = i.CustomerId \n",
            "GROUP BY c.Country \n",
            "ORDER BY TotalSpent DESC \n",
            "LIMIT 5;\n",
            "``` \n",
            "\n",
            "No changes are necessary.\n",
            "-----\n",
            "\n",
            "[ai]:  \n",
            "Tools: \n",
            "- query-sql({\"input\":\"SELECT c.Country, SUM(i.Total) AS TotalSpent \\nFROM Customer c \\nJOIN Invoice i ON c.CustomerId = i.CustomerId \\nGROUP BY c.Country \\nORDER BY TotalSpent DESC \\nLIMIT 5;\"})\n",
            "-----\n",
            "\n",
            "[tool]: [{\"Country\":\"USA\",\"TotalSpent\":523.0600000000003},{\"Country\":\"Canada\",\"TotalSpent\":303.9599999999999},{\"Country\":\"France\",\"TotalSpent\":195.09999999999994},{\"Country\":\"Brazil\",\"TotalSpent\":190.09999999999997},{\"Country\":\"Germany\",\"TotalSpent\":156.48}]\n",
            "-----\n",
            "\n",
            "[ai]: The countries whose customers spent the most are:\n",
            "\n",
            "1. **USA** - $523.06\n",
            "2. **Canada** - $303.96\n",
            "3. **France** - $195.10\n",
            "4. **Brazil** - $190.10\n",
            "5. **Germany** - $156.48\n",
            "-----\n",
            "\n"
          ]
        }
      ],
      "source": [
        "let inputs2 = { messages: [{ role: \"user\", content: \"Which country's customers spent the most?\" }] };\n",
        "\n",
        "for await (\n",
        "  const step of await agent.stream(inputs2, {\n",
        "    streamMode: \"values\",\n",
        "  })\n",
        ") {\n",
        "    const lastMessage = step.messages[step.messages.length - 1];\n",
        "    prettyPrint(lastMessage);\n",
        "    console.log(\"-----\\n\");\n",
        "}"
      ]
    },
    {
      "cell_type": "markdown",
      "metadata": {},
      "source": [
        "你还可以使用 [LangSmith 追踪](https://smith.langchain.com/public/f4313ba4-a93e-418b-b863-1c2626c330d1/r) 来可视化这些步骤及相关元数据。\n",
        "\n",
        "请注意，智能体将执行多个查询，直到获得所需的信息：\n",
        "1. 列出可用的表格；\n",
        "2. 获取三个表格的模式；\n",
        "3. 通过连接操作查询多个表格。\n",
        "\n",
        "然后，智能体能够使用最终查询的结果来生成对原始问题的答案。\n",
        "\n",
        "该智能体同样可以处理定性问题："
      ]
    },
    {
      "cell_type": "code",
      "execution_count": 41,
      "metadata": {},
      "outputs": [
        {
          "name": "stdout",
          "output_type": "stream",
          "text": [
            "[human]: Describe the playlisttrack table\n",
            "-----\n",
            "\n",
            "[ai]:  \n",
            "Tools: \n",
            "- list-tables-sql({\"input\":\"\"})\n",
            "-----\n",
            "\n",
            "[tool]: Album, Artist, Customer, Employee, Genre, Invoice, InvoiceLine, MediaType, Playlist, PlaylistTrack, Track\n",
            "-----\n",
            "\n",
            "[ai]:  \n",
            "Tools: \n",
            "- info-sql({\"input\":\"PlaylistTrack\"})\n",
            "-----\n",
            "\n",
            "[tool]: CREATE TABLE PlaylistTrack (\n",
            "PlaylistId INTEGER NOT NULL, TrackId INTEGER NOT NULL) \n",
            "SELECT * FROM \"PlaylistTrack\" LIMIT 3;\n",
            " PlaylistId TrackId\n",
            " 1 3402\n",
            " 1 3389\n",
            " 1 3390\n",
            "\n",
            "-----\n",
            "\n",
            "[ai]: The `PlaylistTrack` table has the following schema:\n",
            "\n",
            "- **PlaylistId**: INTEGER (NOT NULL)\n",
            "- **TrackId**: INTEGER (NOT NULL)\n",
            "\n",
            "This table is used to associate tracks with playlists. Here are some sample rows from the table:\n",
            "\n",
            "| PlaylistId | TrackId |\n",
            "|------------|---------|\n",
            "| 1          | 3402    |\n",
            "| 1          | 3389    |\n",
            "| 1          | 3390    |\n",
            "-----\n",
            "\n"
          ]
        }
      ],
      "source": [
        "let inputs3 = { messages: [{ role: \"user\", content: \"Describe the playlisttrack table\" }] };\n",
        "\n",
        "for await (\n",
        "  const step of await agent.stream(inputs3, {\n",
        "    streamMode: \"values\",\n",
        "  })\n",
        ") {\n",
        "    const lastMessage = step.messages[step.messages.length - 1];\n",
        "    prettyPrint(lastMessage);\n",
        "    console.log(\"-----\\n\");\n",
        "}"
      ]
    },
    {
      "cell_type": "markdown",
      "metadata": {},
      "source": [
        "### 处理高基数列\n",
        "\n",
        "为了过滤包含专有名词（如地址、歌曲名称或艺术家）的列，我们首先需要检查拼写，以便正确过滤数据。\n",
        "\n",
        "我们可以通过创建一个包含数据库中所有不同专有名词的向量存储来实现这一点。然后，每当用户在问题中使用专有名词时，可以让代理查询该向量存储，以找到该单词的正确拼写。通过这种方式，代理可以在构建目标查询之前确保自己理解用户所指的是哪一个实体。\n",
        "\n",
        "首先，我们需要获取每个我们想要的实体的唯一值，为此我们定义一个函数，将结果解析为元素列表："
      ]
    },
    {
      "cell_type": "code",
      "execution_count": null,
      "metadata": {},
      "outputs": [
        {
          "name": "stdout",
          "output_type": "stream",
          "text": [
            "Total: 622\n",
            "\n",
            "Sample: AC/DC,Accept,Aerosmith,Alanis Morissette,Alice In Chains...\n"
          ]
        }
      ],
      "source": [
        "async function queryAsList(database: SqlDatabase, query: string): Promise<string[]> {\n",
        "  const res: Array<{ [key: string]: string }> = JSON.parse(\n",
        "    await database.run(query)\n",
        "  )\n",
        "    .flat()\n",
        "    .filter((el: { [key: string]: string } | null) => el != null);\n",
        "  const justValues: Array<string> = res.map((item) =>\n",
        "    Object.values(item)[0]\n",
        "      .replace(/\\b\\d+\\b/g, \"\")\n",
        "      .trim()\n",
        "  );\n",
        "  return justValues;\n",
        "}\n",
        "\n",
        "// Gather entities into a list\n",
        "let artists: string[] = await queryAsList(db, \"SELECT Name FROM Artist\");\n",
        "let albums: string[] = await queryAsList(db, \"SELECT Title FROM Album\");\n",
        "let properNouns = artists.concat(albums);\n",
        "\n",
        "console.log(`Total: ${properNouns.length}\\n`)\n",
        "console.log(`Sample: ${properNouns.slice(0, 5)}...`)"
      ]
    },
    {
      "cell_type": "markdown",
      "metadata": {},
      "source": [
        "使用这个函数，我们可以创建一个**检索工具**，代理可以根据需要执行该工具。\n",
        "\n",
        "让我们为这一步选择一个[嵌入模型](/docs/integrations/text_embedding/)和[向量存储](/docs/integrations/vectorstores/)：\n",
        "\n",
        "```{=mdx}\n",
        "import EmbeddingTabs from \"@theme/EmbeddingTabs\";\n",
        "\n",
        "<EmbeddingTabs/>\n",
        "```"
      ]
    },
    {
      "cell_type": "code",
      "execution_count": 43,
      "metadata": {},
      "outputs": [],
      "source": [
        "// @lc-docs-hide-cell\n",
        "import { OpenAIEmbeddings } from \"@langchain/openai\";\n",
        "\n",
        "const embeddings = new OpenAIEmbeddings({model: \"text-embedding-3-large\"});"
      ]
    },
    {
      "cell_type": "markdown",
      "metadata": {},
      "source": [
        "```{=mdx}\n",
        "import VectorStoreTabs from \"@theme/VectorStoreTabs\";\n",
        "\n",
        "<VectorStoreTabs/>\n",
        "```"
      ]
    },
    {
      "cell_type": "code",
      "execution_count": 73,
      "metadata": {},
      "outputs": [],
      "source": [
        "// @lc-docs-hide-cell\n",
        "import { MemoryVectorStore } from \"langchain/vectorstores/memory\";\n",
        "\n",
        "const vectorStore = new MemoryVectorStore(embeddings);"
      ]
    },
    {
      "cell_type": "markdown",
      "metadata": {},
      "source": [
        "我们现在可以构建一个检索工具，用于在数据库中检索相关的专有名词："
      ]
    },
    {
      "cell_type": "code",
      "execution_count": 74,
      "metadata": {},
      "outputs": [],
      "source": [
        "import { createRetrieverTool } from \"langchain/tools/retriever\";\n",
        "import { Document } from \"@langchain/core/documents\";\n",
        "\n",
        "\n",
        "const documents = properNouns.map(text => new Document({ pageContent: text }));\n",
        "await vectorStore.addDocuments(documents)\n",
        "\n",
        "const retriever = vectorStore.asRetriever(5);\n",
        "\n",
        "const retrieverTool = createRetrieverTool(retriever, {\n",
        "  name: \"searchProperNouns\",\n",
        "  description:\n",
        "    \"Use to look up values to filter on. Input is an approximate spelling \" +\n",
        "    \"of the proper noun, output is valid proper nouns. Use the noun most \" +\n",
        "    \"similar to the search.\"\n",
        "});"
      ]
    },
    {
      "cell_type": "markdown",
      "metadata": {},
      "source": [
        "让我们试一下："
      ]
    },
    {
      "cell_type": "code",
      "execution_count": 75,
      "metadata": {},
      "outputs": [
        {
          "name": "stdout",
          "output_type": "stream",
          "text": [
            "Alice In Chains\n",
            "\n",
            "Alanis Morissette\n",
            "\n",
            "Jagged Little Pill\n",
            "\n",
            "Angel Dust\n",
            "\n",
            "Amy Winehouse\n"
          ]
        }
      ],
      "source": [
        "console.log(await retrieverTool.invoke({ query: \"Alice Chains\" }))"
      ]
    },
    {
      "cell_type": "markdown",
      "metadata": {},
      "source": [
        "这样，如果智能体确定需要根据类似“Alice Chains”的艺术家编写一个过滤器，它可以首先使用检索器工具来查看某一列的相关值。\n",
        "\n",
        "将这些整合在一起："
      ]
    },
    {
      "cell_type": "code",
      "execution_count": null,
      "metadata": {},
      "outputs": [],
      "source": [
        "// Add to system message\n",
        "let suffix = (\n",
        "    \"If you need to filter on a proper noun like a Name, you must ALWAYS first look up \" +\n",
        "    \"the filter value using the 'search_proper_nouns' tool! Do not try to \" +\n",
        "    \"guess at the proper name - use this function to find similar ones.\"\n",
        ")\n",
        "\n",
        "const system = systemMessage + suffix\n",
        "\n",
        "const updatedTools = tools.concat(retrieverTool)\n",
        "\n",
        "const agent2 = createReactAgent({ llm: llm, tools: updatedTools, prompt: system });"
      ]
    },
    {
      "cell_type": "code",
      "execution_count": 90,
      "metadata": {},
      "outputs": [
        {
          "name": "stdout",
          "output_type": "stream",
          "text": [
            "[human]: How many albums does alis in chain have?\n",
            "-----\n",
            "\n",
            "[ai]:  \n",
            "Tools: \n",
            "- searchProperNouns({\"query\":\"alis in chain\"})\n",
            "-----\n",
            "\n",
            "[tool]: Alice In Chains\n",
            "\n",
            "Alanis Morissette\n",
            "\n",
            "Up An' Atom\n",
            "\n",
            "A-Sides\n",
            "\n",
            "Jagged Little Pill\n",
            "-----\n",
            "\n",
            "[ai]:  \n",
            "Tools: \n",
            "- query-sql({\"input\":\"SELECT COUNT(*) FROM albums WHERE artist_name = 'Alice In Chains'\"})\n",
            "-----\n",
            "\n",
            "[tool]: QueryFailedError: SQLITE_ERROR: no such table: albums\n",
            "-----\n",
            "\n",
            "[ai]:  \n",
            "Tools: \n",
            "- list-tables-sql({\"input\":\"\"})\n",
            "-----\n",
            "\n",
            "[tool]: Album, Artist, Customer, Employee, Genre, Invoice, InvoiceLine, MediaType, Playlist, PlaylistTrack, Track\n",
            "-----\n",
            "\n",
            "[ai]:  \n",
            "Tools: \n",
            "- info-sql({\"input\":\"Album\"})\n",
            "- info-sql({\"input\":\"Artist\"})\n",
            "-----\n",
            "\n",
            "[tool]: CREATE TABLE Artist (\n",
            "ArtistId INTEGER NOT NULL, Name NVARCHAR(120) ) \n",
            "SELECT * FROM \"Artist\" LIMIT 3;\n",
            " ArtistId Name\n",
            " 1 AC/DC\n",
            " 2 Accept\n",
            " 3 Aerosmith\n",
            "\n",
            "-----\n",
            "\n",
            "[ai]:  \n",
            "Tools: \n",
            "- query-sql({\"input\":\"SELECT COUNT(*) FROM Album WHERE ArtistId = (SELECT ArtistId FROM Artist WHERE Name = 'Alice In Chains')\"})\n",
            "-----\n",
            "\n",
            "[tool]: [{\"COUNT(*)\":1}]\n",
            "-----\n",
            "\n",
            "[ai]: Alice In Chains has released 1 album.\n",
            "-----\n",
            "\n"
          ]
        }
      ],
      "source": [
        "let inputs4 = { messages: [{ role: \"user\", content: \"How many albums does alis in chain have?\" }] };\n",
        "\n",
        "for await (\n",
        "  const step of await agent2.stream(inputs4, {\n",
        "    streamMode: \"values\",\n",
        "  })\n",
        ") {\n",
        "    const lastMessage = step.messages[step.messages.length - 1];\n",
        "    prettyPrint(lastMessage);\n",
        "    console.log(\"-----\\n\");\n",
        "}"
      ]
    },
    {
      "cell_type": "markdown",
      "metadata": {},
      "source": [
        "正如我们所见，无论是在流式步骤中还是在[LangSmith 追踪](https://smith.langchain.com/public/8b14a4a4-c08b-4b85-8086-c050931ae03d/r)中，智能代理都使用了 `searchProperNouns` 工具，以确认如何针对该特定艺术家正确地向数据库发起查询。"
      ]
    }
  ],
  "metadata": {
    "kernelspec": {
      "display_name": "TypeScript",
      "language": "typescript",
      "name": "tslab"
    },
    "language_info": {
      "codemirror_mode": {
        "mode": "typescript",
        "name": "javascript",
        "typescript": true
      },
      "file_extension": ".ts",
      "mimetype": "text/typescript",
      "name": "typescript",
      "version": "3.7.2"
    }
  },
  "nbformat": 4,
  "nbformat_minor": 4
}