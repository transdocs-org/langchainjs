{
  "cells": [
    {
      "cell_type": "markdown",
      "id": "f2195672-0cab-4967-ba8a-c6544635547d",
      "metadata": {},
      "source": [
        "# 如何处理多个查询\n",
        "\n",
        ":::info 预备知识\n",
        "\n",
        "本指南假定您已熟悉以下内容：\n",
        "\n",
        "- [查询分析](/docs/tutorials/rag#query-analysis)\n",
        "\n",
        ":::\n",
        "\n",
        "有时，查询分析技术可能会生成多个查询。在这种情况下，我们需要记住运行所有查询，然后合并结果。我们将展示一个简单的示例（使用模拟数据），说明如何执行此操作。"
      ]
    },
    {
      "cell_type": "markdown",
      "id": "a4079b57-4369-49c9-b2ad-c809b5408d7e",
      "metadata": {},
      "source": [
        "## 安裝\n",
        "\n",
        "### 安裝依賴項\n",
        "\n",
        "```{=mdx}\n",
        "import IntegrationInstallTooltip from \"@mdx_components/integration_install_tooltip.mdx\";\n",
        "import Npm2Yarn from \"@theme/Npm2Yarn\";\n",
        "\n",
        "<IntegrationInstallTooltip></IntegrationInstallTooltip>\n",
        "\n",
        "<Npm2Yarn>\n",
        "  @langchain/community @langchain/openai @langchain/core zod chromadb\n",
        "</Npm2Yarn>\n",
        "```\n",
        "\n",
        "### 設定環境變數\n",
        "\n",
        "```\n",
        "OPENAI_API_KEY=your-api-key\n",
        "\n",
        "# 選用，使用 LangSmith 以獲得最佳的可觀測性\n",
        "LANGSMITH_API_KEY=your-api-key\n",
        "LANGSMITH_TRACING=true\n",
        "\n",
        "# 如果你不在無伺服器環境中，可減少追蹤延遲\n",
        "# LANGCHAIN_CALLBACKS_BACKGROUND=true\n",
        "```"
      ]
    },
    {
      "cell_type": "markdown",
      "id": "c20b48b8-16d7-4089-bc17-f2d240b3935a",
      "metadata": {},
      "source": [
        "### 创建索引\n",
        "\n",
        "我们将在虚假信息上创建一个向量存储。"
      ]
    },
    {
      "cell_type": "code",
      "execution_count": null,
      "id": "1f621694",
      "metadata": {},
      "outputs": [],
      "source": [
        "import { Chroma } from \"@langchain/community/vectorstores/chroma\"\n",
        "import { OpenAIEmbeddings } from \"@langchain/openai\"\n",
        "import \"chromadb\";\n",
        "\n",
        "const texts = [\"Harrison worked at Kensho\", \"Ankush worked at Facebook\"]\n",
        "const embeddings = new OpenAIEmbeddings({ model: \"text-embedding-3-small\" })\n",
        "const vectorstore = await Chroma.fromTexts(\n",
        "    texts,\n",
        "    {},\n",
        "    embeddings,\n",
        "    {\n",
        "        collectionName: \"multi_query\"\n",
        "    }\n",
        ")\n",
        "const retriever = vectorstore.asRetriever(1);"
      ]
    },
    {
      "cell_type": "markdown",
      "id": "57396e23-c192-4d97-846b-5eacea4d6b8d",
      "metadata": {},
      "source": [
        "## 查询分析\n",
        "\n",
        "我们将使用函数调用来构建输出结果。我们会让其返回多个查询语句。"
      ]
    },
    {
      "cell_type": "code",
      "execution_count": 3,
      "id": "0b51dd76-820d-41a4-98c8-893f6fe0d1ea",
      "metadata": {},
      "outputs": [],
      "source": [
        "import { z } from \"zod\";\n",
        "\n",
        "const searchSchema = z.object({\n",
        "    queries: z.array(z.string()).describe(\"Distinct queries to search for\")\n",
        "}).describe(\"Search over a database of job records.\");"
      ]
    },
    {
      "cell_type": "markdown",
      "id": "013a5041",
      "metadata": {},
      "source": [
        "```{=mdx}\n",
        "import ChatModelTabs from \"@theme/ChatModelTabs\";\n",
        "\n",
        "<ChatModelTabs customVarName=\"llm\" />\n",
        "```"
      ]
    },
    {
      "cell_type": "code",
      "execution_count": null,
      "id": "2010fbb5",
      "metadata": {},
      "outputs": [],
      "source": [
        "// @lc-docs-hide-cell\n",
        "import { ChatOpenAI } from '@langchain/openai';\n",
        "\n",
        "const llm = new ChatOpenAI({\n",
        "  model: \"gpt-4o\",\n",
        "  temperature: 0,\n",
        "})"
      ]
    },
    {
      "cell_type": "code",
      "execution_count": 4,
      "id": "783c03c3-8c72-4f88-9cf4-5829ce6745d6",
      "metadata": {},
      "outputs": [],
      "source": [
        "import { ChatPromptTemplate } from \"@langchain/core/prompts\";\n",
        "import { RunnableSequence, RunnablePassthrough } from \"@langchain/core/runnables\";\n",
        "\n",
        "const system = `You have the ability to issue search queries to get information to help answer user information.\n",
        "\n",
        "If you need to look up two distinct pieces of information, you are allowed to do that!`;\n",
        "\n",
        "const prompt = ChatPromptTemplate.fromMessages([\n",
        "    [\"system\", system],\n",
        "    [\"human\", \"{question}\"],\n",
        "])\n",
        "const llmWithTools = llm.withStructuredOutput(searchSchema, {\n",
        "  name: \"Search\"\n",
        "});\n",
        "const queryAnalyzer = RunnableSequence.from([\n",
        "  {\n",
        "      question: new RunnablePassthrough(),\n",
        "  },\n",
        "  prompt,\n",
        "  llmWithTools\n",
        "]);"
      ]
    },
    {
      "cell_type": "markdown",
      "id": "b9564078",
      "metadata": {},
      "source": [
        "我们可以看到，这允许创建多个查询"
      ]
    },
    {
      "cell_type": "code",
      "execution_count": 5,
      "id": "bc1d3863",
      "metadata": {},
      "outputs": [
        {
          "data": {
            "text/plain": [
              "{ queries: [ \u001b[32m\"Harrison\"\u001b[39m ] }"
            ]
          },
          "execution_count": 5,
          "metadata": {},
          "output_type": "execute_result"
        }
      ],
      "source": [
        "await queryAnalyzer.invoke(\"where did Harrison Work\")"
      ]
    },
    {
      "cell_type": "code",
      "execution_count": 6,
      "id": "af62af17-4f90-4dbd-a8b4-dfff51f1db95",
      "metadata": {},
      "outputs": [
        {
          "data": {
            "text/plain": [
              "{ queries: [ \u001b[32m\"Harrison work\"\u001b[39m, \u001b[32m\"Ankush work\"\u001b[39m ] }"
            ]
          },
          "execution_count": 6,
          "metadata": {},
          "output_type": "execute_result"
        }
      ],
      "source": [
        "await queryAnalyzer.invoke(\"where did Harrison and ankush Work\")"
      ]
    },
    {
      "cell_type": "markdown",
      "id": "c7c65b2f-7881-45fc-a47b-a4eaaf48245f",
      "metadata": {},
      "source": [
        "## 使用查询分析进行检索\n",
        "\n",
        "那么我们如何在链中包含这一点呢？如果我们将检索器以异步方式调用，这将使我们能够循环遍历查询，并且不会因响应时间而阻塞，这会让整个过程变得更加简单。"
      ]
    },
    {
      "cell_type": "code",
      "execution_count": 7,
      "id": "8dac7866",
      "metadata": {},
      "outputs": [],
      "source": [
        "import { RunnableConfig, RunnableLambda } from \"@langchain/core/runnables\";\n",
        "\n",
        "const chain = async (question: string, config?: RunnableConfig) => {\n",
        "    const response = await queryAnalyzer.invoke(question, config);\n",
        "    const docs = [];\n",
        "    for (const query of response.queries) {\n",
        "        const newDocs = await retriever.invoke(query, config);\n",
        "        docs.push(...newDocs);\n",
        "    }\n",
        "    // You probably want to think about reranking or deduplicating documents here\n",
        "    // But that is a separate topic\n",
        "    return docs;\n",
        "}\n",
        "\n",
        "const customChain = new RunnableLambda({ func: chain });"
      ]
    },
    {
      "cell_type": "code",
      "execution_count": 8,
      "id": "232ad8a7-7990-4066-9228-d35a555f7293",
      "metadata": {},
      "outputs": [
        {
          "data": {
            "text/plain": [
              "[ Document { pageContent: \u001b[32m\"Harrison worked at Kensho\"\u001b[39m, metadata: {} } ]"
            ]
          },
          "execution_count": 8,
          "metadata": {},
          "output_type": "execute_result"
        }
      ],
      "source": [
        "await customChain.invoke(\"where did Harrison Work\")"
      ]
    },
    {
      "cell_type": "code",
      "execution_count": 10,
      "id": "28e14ba5",
      "metadata": {},
      "outputs": [
        {
          "data": {
            "text/plain": [
              "[\n",
              "  Document { pageContent: \u001b[32m\"Harrison worked at Kensho\"\u001b[39m, metadata: {} },\n",
              "  Document { pageContent: \u001b[32m\"Ankush worked at Facebook\"\u001b[39m, metadata: {} }\n",
              "]"
            ]
          },
          "execution_count": 10,
          "metadata": {},
          "output_type": "execute_result"
        }
      ],
      "source": [
        "await customChain.invoke(\"where did Harrison and ankush Work\")"
      ]
    },
    {
      "cell_type": "markdown",
      "id": "72a8dbe0",
      "metadata": {},
      "source": [
        "## 下一步",
        "\n",
        "您现在已经了解了一些在查询分析系统中处理多个查询的技术。\n",
        "\n",
        "接下来，查看本节中其他一些查询分析指南，例如[如何处理未生成查询的情况](/docs/how_to/query_no_queries)。"
      ]
    }
  ],
  "metadata": {
    "kernelspec": {
      "display_name": "Deno",
      "language": "typescript",
      "name": "deno"
    },
    "language_info": {
      "file_extension": ".ts",
      "mimetype": "text/x.typescript",
      "name": "typescript",
      "nb_converter": "script",
      "pygments_lexer": "typescript",
      "version": "5.3.3"
    }
  },
  "nbformat": 4,
  "nbformat_minor": 5
}