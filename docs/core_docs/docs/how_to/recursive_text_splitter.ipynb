{
  "cells": [
    {
      "cell_type": "raw",
      "metadata": {
        "vscode": {
          "languageId": "raw"
        }
      },
      "source": [
        "---\n",
        "keywords: [recursivecharactertextsplitter]\n",
        "---"
      ]
    },
    {
      "cell_type": "markdown",
      "metadata": {},
      "source": [
        "# 如何按字符递归拆分文本\n",
        "\n",
        ":::info 预备知识\n",
        "\n",
        "本指南假定您已熟悉以下概念：\n",
        "\n",
        "- [文本拆分器](/docs/concepts/text_splitters)\n",
        "\n",
        ":::\n",
        "\n",
        "此文本拆分器推荐用于通用文本。它通过一个字符列表进行参数化。它会按顺序尝试在这些字符处分割，直到块足够小。默认列表为 `[\"\\n\\n\", \"\\n\", \" \", \"\"]`。这样做的效果是，尽可能保持段落（然后是句子，然后是单词）整体，因为这些通常在语义上是关联性最强的文本部分。\n",
        "\n",
        "1. 文本的拆分方式：通过字符列表进行拆分。\n",
        "2. 块大小的度量方式：通过字符数量进行度量。\n",
        "\n",
        "下面我们展示示例用法。\n",
        "\n",
        "如需直接获取字符串内容，请使用 `.splitText`。\n",
        "\n",
        "如需创建 LangChain [Document](https://api.js.langchain.com/classes/langchain_core.documents.Document.html) 对象（例如用于下游任务），请使用 `.createDocuments`。"
      ]
    },
    {
      "cell_type": "code",
      "execution_count": 5,
      "metadata": {},
      "outputs": [
        {
          "name": "stdout",
          "output_type": "stream",
          "text": [
            "[\n",
            "  Document {\n",
            "    pageContent: \"Hi.\",\n",
            "    metadata: { loc: { lines: { from: 1, to: 1 } } }\n",
            "  },\n",
            "  Document {\n",
            "    pageContent: \"I'm\",\n",
            "    metadata: { loc: { lines: { from: 3, to: 3 } } }\n",
            "  },\n",
            "  Document {\n",
            "    pageContent: \"Harrison.\",\n",
            "    metadata: { loc: { lines: { from: 3, to: 3 } } }\n",
            "  }\n",
            "]\n"
          ]
        }
      ],
      "source": [
        "import { RecursiveCharacterTextSplitter } from \"@langchain/textsplitters\";\n",
        "\n",
        "const text = `Hi.\\n\\nI'm Harrison.\\n\\nHow? Are? You?\\nOkay then f f f f.\n",
        "This is a weird text to write, but gotta test the splittingggg some how.\\n\\n\n",
        "Bye!\\n\\n-H.`;\n",
        "const splitter = new RecursiveCharacterTextSplitter({\n",
        "  chunkSize: 10,\n",
        "  chunkOverlap: 1,\n",
        "});\n",
        "\n",
        "const output = await splitter.createDocuments([text]);\n",
        "\n",
        "console.log(output.slice(0, 3));"
      ]
    },
    {
      "cell_type": "markdown",
      "metadata": {},
      "source": [
        "请注意，在上面的例子中，我们正在拆分一个原始文本字符串，并获得一个文档列表。我们也可以直接拆分文档。"
      ]
    },
    {
      "cell_type": "code",
      "execution_count": 6,
      "metadata": {},
      "outputs": [
        {
          "name": "stdout",
          "output_type": "stream",
          "text": [
            "[\n",
            "  Document {\n",
            "    pageContent: \"Hi.\",\n",
            "    metadata: { loc: { lines: { from: 1, to: 1 } } }\n",
            "  },\n",
            "  Document {\n",
            "    pageContent: \"I'm\",\n",
            "    metadata: { loc: { lines: { from: 3, to: 3 } } }\n",
            "  },\n",
            "  Document {\n",
            "    pageContent: \"Harrison.\",\n",
            "    metadata: { loc: { lines: { from: 3, to: 3 } } }\n",
            "  }\n",
            "]\n"
          ]
        }
      ],
      "source": [
        "import { Document } from \"@langchain/core/documents\";\n",
        "import { RecursiveCharacterTextSplitter } from \"@langchain/textsplitters\";\n",
        "\n",
        "const text = `Hi.\\n\\nI'm Harrison.\\n\\nHow? Are? You?\\nOkay then f f f f.\n",
        "This is a weird text to write, but gotta test the splittingggg some how.\\n\\n\n",
        "Bye!\\n\\n-H.`;\n",
        "const splitter = new RecursiveCharacterTextSplitter({\n",
        "  chunkSize: 10,\n",
        "  chunkOverlap: 1,\n",
        "});\n",
        "\n",
        "const docOutput = await splitter.splitDocuments([\n",
        "  new Document({ pageContent: text }),\n",
        "]);\n",
        "\n",
        "console.log(docOutput.slice(0, 3));"
      ]
    },
    {
      "cell_type": "markdown",
      "metadata": {},
      "source": [
        "你可以通过传递一个 `separators` 参数自定义 `RecursiveCharacterTextSplitter`，例如："
      ]
    },
    {
      "cell_type": "code",
      "execution_count": 7,
      "metadata": {},
      "outputs": [
        {
          "name": "stdout",
          "output_type": "stream",
          "text": [
            "[\n",
            "  Document {\n",
            "    pageContent: \"Some other considerations include:\",\n",
            "    metadata: { loc: { lines: { from: 1, to: 1 } } }\n",
            "  },\n",
            "  Document {\n",
            "    pageContent: \"- Do you deploy your backend and frontend together\",\n",
            "    metadata: { loc: { lines: { from: 3, to: 3 } } }\n",
            "  },\n",
            "  Document {\n",
            "    pageContent: \"r, or separately?\",\n",
            "    metadata: { loc: { lines: { from: 3, to: 3 } } }\n",
            "  }\n",
            "]\n"
          ]
        }
      ],
      "source": [
        "import { RecursiveCharacterTextSplitter } from \"langchain/text_splitter\";\n",
        "import { Document } from \"@langchain/core/documents\";\n",
        "\n",
        "const text = `Some other considerations include:\n",
        "\n",
        "- Do you deploy your backend and frontend together, or separately?\n",
        "- Do you deploy your backend co-located with your database, or separately?\n",
        "\n",
        "**Production Support:** As you move your LangChains into production, we'd love to offer more hands-on support.\n",
        "Fill out [this form](https://airtable.com/appwQzlErAS2qiP0L/shrGtGaVBVAz7NcV2) to share more about what you're building, and our team will get in touch.\n",
        "\n",
        "## Deployment Options\n",
        "\n",
        "See below for a list of deployment options for your LangChain app. If you don't see your preferred option, please get in touch and we can add it to this list.`;\n",
        "\n",
        "const splitter = new RecursiveCharacterTextSplitter({\n",
        "  chunkSize: 50,\n",
        "  chunkOverlap: 1,\n",
        "  separators: [\"|\", \"##\", \">\", \"-\"],\n",
        "});\n",
        "\n",
        "const docOutput = await splitter.splitDocuments([\n",
        "  new Document({ pageContent: text }),\n",
        "]);\n",
        "\n",
        "console.log(docOutput.slice(0, 3));"
      ]
    },
    {
      "cell_type": "markdown",
      "metadata": {},
      "source": [
        "## 下一步",
        "\n",
        "你现在已经了解了一种按字符分割文本的方法。\n",
        "\n",
        "接下来，查看[关于代码分割的具体技巧](/docs/how_to/code_splitter)或[检索增强生成的完整教程](/docs/tutorials/rag)。"
      ]
    }
  ],
  "metadata": {
    "kernelspec": {
      "display_name": "Deno",
      "language": "typescript",
      "name": "deno"
    },
    "language_info": {
      "file_extension": ".ts",
      "mimetype": "text/x.typescript",
      "name": "typescript",
      "nb_converter": "script",
      "pygments_lexer": "typescript",
      "version": "5.3.3"
    }
  },
  "nbformat": 4,
  "nbformat_minor": 2
}