{
  "cells": [
    {
      "cell_type": "markdown",
      "id": "a05c860c",
      "metadata": {},
      "source": [
        "# 如何按令牌拆分文本 \n",
        "\n",
        ":::info 预备知识\n",
        "\n",
        "本指南假定您熟悉以下概念：\n",
        "\n",
        "- [文本拆分器](/docs/concepts/text_splitters)\n",
        "\n",
        ":::\n",
        "\n",
        "语言模型具有令牌限制。您不应超过该限制。因此，当您将文本拆分为块时，最好计算令牌的数量。存在许多不同的令牌分割器。当您统计文本中的令牌数量时，应使用与语言模型中所用相同的令牌分割器。"
      ]
    },
    {
      "cell_type": "markdown",
      "id": "7683b36a",
      "metadata": {},
      "source": [
        "## `js-tiktoken`\n",
        "\n",
        ":::{.callout-note}\n",
        "[js-tiktoken](https://github.com/openai/js-tiktoken) 是 OpenAI 创建的 `BPE` 分词器的一个 JavaScript 版本。\n",
        ":::\n",
        "\n",
        "\n",
        "我们可以使用 `js-tiktoken` 来估算所使用的 token。它针对 OpenAI 模型进行了调优。\n",
        "\n",
        "1. 文本的分割方式：按传入的字符进行分割。\n",
        "2. 分块大小的衡量方式：通过 `js-tiktoken` 分词器进行衡量。\n",
        "\n",
        "你可以像下面这样使用 [`TokenTextSplitter`](https://api.js.langchain.com/classes/langchain_textsplitters.TokenTextSplitter.html)："
      ]
    },
    {
      "cell_type": "code",
      "execution_count": 1,
      "id": "4454c70e",
      "metadata": {},
      "outputs": [
        {
          "name": "stdout",
          "output_type": "stream",
          "text": [
            "Madam Speaker, Madam Vice President, our\n"
          ]
        }
      ],
      "source": [
        "import { TokenTextSplitter } from \"@langchain/textsplitters\";\n",
        "import * as fs from \"node:fs\";\n",
        "\n",
        "// Load an example document\n",
        "const rawData = await fs.readFileSync(\"../../../../examples/state_of_the_union.txt\");\n",
        "const stateOfTheUnion = rawData.toString();\n",
        "\n",
        "const textSplitter = new TokenTextSplitter({\n",
        "  chunkSize: 10,\n",
        "  chunkOverlap: 0,\n",
        "});\n",
        "\n",
        "const texts = await textSplitter.splitText(stateOfTheUnion);\n",
        "\n",
        "console.log(texts[0]);"
      ]
    },
    {
      "cell_type": "markdown",
      "id": "3bc155d0",
      "metadata": {},
      "source": [
        "**注意：** 某些书写语言（例如中文和日文）中的字符会编码为2个或更多个token。直接使用 `TokenTextSplitter` 可能会在两个块之间分割某个字符的token，从而导致Unicode字符损坏。\n",
        "\n",
        "## 下一步\n",
        "\n",
        "现在你已经学习了基于token数量分割文本的方法。\n",
        "\n",
        "接下来，请查看[关于检索增强生成的完整教程](/docs/tutorials/rag)。"
      ]
    }
  ],
  "metadata": {
    "kernelspec": {
      "display_name": "Deno",
      "language": "typescript",
      "name": "deno"
    },
    "language_info": {
      "file_extension": ".ts",
      "mimetype": "text/x.typescript",
      "name": "typescript",
      "nb_converter": "script",
      "pygments_lexer": "typescript",
      "version": "5.3.3"
    },
    "vscode": {
      "interpreter": {
        "hash": "aee8b7b246df8f9039afb4144a1f6fd8d2ca17a180786b69acc140d282b71a49"
      }
    }
  },
  "nbformat": 4,
  "nbformat_minor": 5
}