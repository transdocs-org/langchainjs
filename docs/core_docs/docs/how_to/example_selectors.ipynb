{
  "cells": [
    {
      "cell_type": "raw",
      "id": "af408f61",
      "metadata": {},
      "source": [
        "---\n",
        "sidebar_position: 1\n",
        "---"
      ]
    },
    {
      "cell_type": "markdown",
      "id": "1a65e4c9",
      "metadata": {},
      "source": [
        "# 如何使用示例选择器\n",
        "\n",
        ":::info 预备知识\n",
        "\n",
        "本指南假定您已熟悉以下概念：\n",
        "\n",
        "- [提示模板](/docs/concepts/prompt_templates)\n",
        "- [少量示例](/docs/how_to/few_shot_examples)\n",
        "\n",
        ":::\n",
        "\n",
        "如果您有大量的示例，可能需要选择哪些示例包含在提示中。示例选择器（Example Selector）是负责执行此操作的类。\n",
        "\n",
        "其基本接口定义如下：\n",
        "\n",
        "```typescript\n",
        "class BaseExampleSelector {\n",
        "  addExample(example: Example): Promise<void | string>;\n",
        "\n",
        "  selectExamples(inputVariables: Example): Promise<Example[]>;\n",
        "}\n",
        "```\n",
        "\n",
        "它需要定义的唯一方法是 `selectExamples` 方法。该方法接收输入变量，并返回示例列表。具体如何选择这些示例，由每个特定的实现决定。\n",
        "\n",
        "LangChain 提供了几种不同类型的示例选择器。有关所有这些类型的概述，请参见下表。\n",
        "\n",
        "在本指南中，我们将演示如何创建一个自定义的示例选择器。"
      ]
    },
    {
      "cell_type": "markdown",
      "id": "638e9039",
      "metadata": {},
      "source": [
        "## 示例\n",
        "\n",
        "要使用示例选择器，我们需要创建一个示例列表。这些示例通常应包含输入和输出的示例。为了演示的目的，我们来设想一个如何将英语翻译成意大利语的示例选择器。"
      ]
    },
    {
      "cell_type": "code",
      "execution_count": 3,
      "id": "48658d53",
      "metadata": {},
      "outputs": [],
      "source": [
        "const examples = [\n",
        "    { input: \"hi\", output: \"ciao\" },\n",
        "    { input: \"bye\", output: \"arrivaderci\" },\n",
        "    { input: \"soccer\", output: \"calcio\" },\n",
        "];"
      ]
    },
    {
      "cell_type": "markdown",
      "id": "c2830b49",
      "metadata": {},
      "source": [
        "## 自定义示例选择器\n",
        "\n",
        "让我们编写一个示例选择器，根据单词长度选择应使用的示例。"
      ]
    },
    {
      "cell_type": "code",
      "execution_count": 4,
      "id": "56b740a1",
      "metadata": {},
      "outputs": [],
      "source": [
        "import { BaseExampleSelector } from \"@langchain/core/example_selectors\";\n",
        "import { Example } from \"@langchain/core/prompts\";\n",
        "\n",
        "\n",
        "class CustomExampleSelector extends BaseExampleSelector {\n",
        "    private examples: Example[];\n",
        "  \n",
        "    constructor(examples: Example[]) {\n",
        "      super();\n",
        "      this.examples = examples;\n",
        "    }\n",
        "  \n",
        "    async addExample(example: Example): Promise<void | string> {\n",
        "      this.examples.push(example);\n",
        "      return;\n",
        "    }\n",
        "  \n",
        "    async selectExamples(inputVariables: Example): Promise<Example[]> {\n",
        "      // This assumes knowledge that part of the input will be a 'text' key\n",
        "      const newWord = inputVariables.input;\n",
        "      const newWordLength = newWord.length;\n",
        "  \n",
        "      // Initialize variables to store the best match and its length difference\n",
        "      let bestMatch: Example | null = null;\n",
        "      let smallestDiff = Infinity;\n",
        "  \n",
        "      // Iterate through each example\n",
        "      for (const example of this.examples) {\n",
        "        // Calculate the length difference with the first word of the example\n",
        "        const currentDiff = Math.abs(example.input.length - newWordLength);\n",
        "  \n",
        "        // Update the best match if the current one is closer in length\n",
        "        if (currentDiff < smallestDiff) {\n",
        "          smallestDiff = currentDiff;\n",
        "          bestMatch = example;\n",
        "        }\n",
        "      }\n",
        "  \n",
        "      return bestMatch ? [bestMatch] : [];\n",
        "    }\n",
        "  }"
      ]
    },
    {
      "cell_type": "code",
      "execution_count": 5,
      "id": "ce928187",
      "metadata": {},
      "outputs": [],
      "source": [
        "const exampleSelector = new CustomExampleSelector(examples)"
      ]
    },
    {
      "cell_type": "code",
      "execution_count": 6,
      "id": "37ef3149",
      "metadata": {},
      "outputs": [
        {
          "data": {
            "text/plain": [
              "[ { input: \u001b[32m\"bye\"\u001b[39m, output: \u001b[32m\"arrivaderci\"\u001b[39m } ]"
            ]
          },
          "execution_count": 6,
          "metadata": {},
          "output_type": "execute_result"
        }
      ],
      "source": [
        "await exampleSelector.selectExamples({ input: \"okay\" })"
      ]
    },
    {
      "cell_type": "code",
      "execution_count": 7,
      "id": "c5ad9f35",
      "metadata": {},
      "outputs": [],
      "source": [
        "await exampleSelector.addExample({ input: \"hand\", output: \"mano\" })"
      ]
    },
    {
      "cell_type": "code",
      "execution_count": 8,
      "id": "e4127fe0",
      "metadata": {},
      "outputs": [
        {
          "data": {
            "text/plain": [
              "[ { input: \u001b[32m\"hand\"\u001b[39m, output: \u001b[32m\"mano\"\u001b[39m } ]"
            ]
          },
          "execution_count": 8,
          "metadata": {},
          "output_type": "execute_result"
        }
      ],
      "source": [
        "await exampleSelector.selectExamples({ input: \"okay\" })"
      ]
    },
    {
      "cell_type": "markdown",
      "id": "786c920c",
      "metadata": {},
      "source": [
        "## 在提示中使用\n",
        "\n",
        "我们现在可以在提示中使用此示例选择器"
      ]
    },
    {
      "cell_type": "code",
      "execution_count": 9,
      "id": "619090e2",
      "metadata": {},
      "outputs": [],
      "source": [
        "import { PromptTemplate, FewShotPromptTemplate } from \"@langchain/core/prompts\"\n",
        "\n",
        "const examplePrompt = PromptTemplate.fromTemplate(\"Input: {input} -> Output: {output}\")"
      ]
    },
    {
      "cell_type": "code",
      "execution_count": 11,
      "id": "5934c415",
      "metadata": {},
      "outputs": [
        {
          "name": "stdout",
          "output_type": "stream",
          "text": [
            "Translate the following words from English to Italian:\n",
            "\n",
            "Input: hand -> Output: mano\n",
            "\n",
            "Input: word -> Output:\n"
          ]
        }
      ],
      "source": [
        "const prompt = new FewShotPromptTemplate({\n",
        "    exampleSelector,\n",
        "    examplePrompt,\n",
        "    suffix: \"Input: {input} -> Output:\",\n",
        "    prefix: \"Translate the following words from English to Italian:\",\n",
        "    inputVariables: [\"input\"],\n",
        "})\n",
        "\n",
        "console.log(await prompt.format({ input: \"word\" }))"
      ]
    },
    {
      "cell_type": "markdown",
      "id": "e767f69d",
      "metadata": {},
      "source": [
        "## 示例选择器类型\n",
        "\n",
        "| 名称       | 描述                                                                                 |\n",
        "|------------|---------------------------------------------------------------------------------------------|\n",
        "| 相似性 | 使用输入与示例之间的语义相似性来决定选择哪些示例。    |\n",
        "| 长度     | 根据能够在特定长度内容纳多少示例来选择示例                          |\n",
        "\n",
        "## 下一步\n",
        "\n",
        "您现在已经了解了一些关于使用示例选择器进行少量样本LLM的知识。\n",
        "\n",
        "接下来，请查看一些关于其他示例选择技术的指南：\n",
        "\n",
        "- [如何按长度选择示例](/docs/how_to/example_selectors_length_based)\n",
        "- [如何按相似性选择示例](/docs/how_to/example_selectors_similarity)"
      ]
    }
  ],
  "metadata": {
    "kernelspec": {
      "display_name": "Deno",
      "language": "typescript",
      "name": "deno"
    },
    "language_info": {
      "file_extension": ".ts",
      "mimetype": "text/x.typescript",
      "name": "typescript",
      "nb_converter": "script",
      "pygments_lexer": "typescript",
      "version": "5.3.3"
    }
  },
  "nbformat": 4,
  "nbformat_minor": 5
}