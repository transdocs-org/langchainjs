{
  "cells": [
    {
      "cell_type": "raw",
      "id": "ce0e08fd",
      "metadata": {},
      "source": [
        "---\n",
        "keywords: [RunnableLambda, LCEL]\n",
        "---"
      ]
    },
    {
      "cell_type": "markdown",
      "id": "fbc4bf6e",
      "metadata": {},
      "source": [
        "# 如何运行自定义函数\n",
        "\n",
        ":::info 预备知识\n",
        "\n",
        "本指南假定您熟悉以下概念：\n",
        "\n",
        "- [LangChain 表达式语言 (LCEL)](/docs/concepts/lcel)\n",
        "- [链式调用可运行对象](/docs/how_to/sequence/)\n",
        "\n",
        ":::\n",
        "\n",
        "您可以将任意函数用作 [Runnables](https://api.js.langchain.com/classes/langchain_core.runnables.Runnable.html)。当您需要格式化数据或需要其他 LangChain 组件未提供的功能时，这非常有用。作为 Runnables 使用的自定义函数被称为 [`RunnableLambdas`](https://api.js.langchain.com/classes/langchain_core.runnables.RunnableLambda.html)。\n",
        "\n",
        "请注意，这些函数的所有输入都必须是 SINGLE 参数。如果您的函数接受多个参数，您应该编写一个接受单个字典输入并将其解包为多个参数的包装函数。\n",
        "\n",
        "本指南将涵盖以下内容：\n",
        "\n",
        "- 如何使用 `RunnableLambda` 构造函数从自定义函数显式创建一个可运行对象\n",
        "- 在链式调用中使用自定义函数时将其强制转换为可运行对象\n",
        "- 如何在自定义函数中接收和使用运行元数据\n",
        "- 如何通过让自定义函数返回生成器来实现流式传输\n",
        "\n",
        "## 使用构造函数\n",
        "\n",
        "以下示例中，我们使用 `RunnableLambda` 方法显式包装我们的自定义逻辑：\n",
        "\n",
        "```{=mdx}\n",
        "import IntegrationInstallTooltip from \"@mdx_components/integration_install_tooltip.mdx\";\n",
        "import Npm2Yarn from \"@theme/Npm2Yarn\";\n",
        "\n",
        "<IntegrationInstallTooltip></IntegrationInstallTooltip>\n",
        "\n",
        "<Npm2Yarn>\n",
        "  @langchain/openai @langchain/core\n",
        "</Npm2Yarn>\n",
        "```"
      ]
    },
    {
      "cell_type": "code",
      "execution_count": 1,
      "id": "6bb221b3",
      "metadata": {},
      "outputs": [
        {
          "data": {
            "text/plain": [
              "\u001b[32m\"3 squared is \\\\(3^2\\\\), which means multiplying 3 by itself. \\n\"\u001b[39m +\n",
              "  \u001b[32m\"\\n\"\u001b[39m +\n",
              "  \u001b[32m\"\\\\[3^2 = 3 \\\\times 3 = 9\\\\]\\n\"\u001b[39m +\n",
              "  \u001b[32m\"\\n\"\u001b[39m +\n",
              "  \u001b[32m\"So, 3 squared\"\u001b[39m... 6 more characters"
            ]
          },
          "execution_count": 1,
          "metadata": {},
          "output_type": "execute_result"
        }
      ],
      "source": [
        "import { StringOutputParser } from \"@langchain/core/output_parsers\";\n",
        "import { ChatPromptTemplate } from \"@langchain/core/prompts\";\n",
        "import { RunnableLambda } from \"@langchain/core/runnables\";\n",
        "import { ChatOpenAI } from \"@langchain/openai\";\n",
        "\n",
        "const lengthFunction = (input: { foo: string }): { length: string } => {\n",
        "  return {\n",
        "    length: input.foo.length.toString(),\n",
        "  };\n",
        "};\n",
        "\n",
        "const model = new ChatOpenAI({ model: \"gpt-4o\" });\n",
        "\n",
        "const prompt = ChatPromptTemplate.fromTemplate(\"What is {length} squared?\");\n",
        "\n",
        "const chain = RunnableLambda.from(lengthFunction)\n",
        "  .pipe(prompt)\n",
        "  .pipe(model)\n",
        "  .pipe(new StringOutputParser());\n",
        "\n",
        "await chain.invoke({ \"foo\": \"bar\" });"
      ]
    },
    {
      "cell_type": "markdown",
      "id": "4728ddd9-914d-42ce-ae9b-72c9ce8ec940",
      "metadata": {},
      "source": [
        "## 链中的自动强制转换\n",
        "\n",
        "在使用 [`RunnableSequence.from`](https://api.js.langchain.com/classes/langchain_core.runnables.RunnableSequence.html#from) 静态方法将自定义函数用于链中时，可以省略显式的 `RunnableLambda` 创建，而依赖强制转换机制。\n",
        "\n",
        "以下是一个简单的示例，展示了一个函数如何接收模型的输出并返回其前五个字母："
      ]
    },
    {
      "cell_type": "code",
      "execution_count": 2,
      "id": "5ab39a87",
      "metadata": {},
      "outputs": [
        {
          "data": {
            "text/plain": [
              "\u001b[32m\"Once \"\u001b[39m"
            ]
          },
          "execution_count": 2,
          "metadata": {},
          "output_type": "execute_result"
        }
      ],
      "source": [
        "import { RunnableSequence } from \"@langchain/core/runnables\";\n",
        "\n",
        "const storyPrompt = ChatPromptTemplate.fromTemplate(\"Tell me a short story about {topic}\");\n",
        "\n",
        "const storyModel = new ChatOpenAI({ model: \"gpt-4o\" });\n",
        "\n",
        "const chainWithCoercedFunction = RunnableSequence.from([\n",
        "  storyPrompt,\n",
        "  storyModel,\n",
        "  (input) => input.content.slice(0, 5),\n",
        "]);\n",
        "\n",
        "await chainWithCoercedFunction.invoke({ \"topic\": \"bears\" });"
      ]
    },
    {
      "cell_type": "markdown",
      "id": "c9a481d1",
      "metadata": {},
      "source": [
        "请注意，我们不需要将自定义函数 `(input) => input.content.slice(0, 5)` 包装在 `RunnableLambda` 方法中。该自定义函数会被**强制转换**为一个可运行对象。更多信息请参见[此部分](/docs/how_to/sequence/#coercion)。\n",
        "\n",
        "## 传递运行元数据\n",
        "\n",
        "Runnable lambda 可以选择性地接受一个 [RunnableConfig](https://api.js.langchain.com/interfaces/langchain_core.runnables.RunnableConfig.html) 参数，通过该参数可以向嵌套运行中传递回调函数、标签以及其他配置信息。"
      ]
    },
    {
      "cell_type": "code",
      "execution_count": 3,
      "id": "ff0daf0c-49dd-4d21-9772-e5fa133c5f36",
      "metadata": {},
      "outputs": [
        {
          "name": "stdout",
          "output_type": "stream",
          "text": [
            "{\n",
            "  generations: [\n",
            "    [\n",
            "      {\n",
            "        text: \"oof\",\n",
            "        message: AIMessage {\n",
            "          lc_serializable: true,\n",
            "          lc_kwargs: [Object],\n",
            "          lc_namespace: [Array],\n",
            "          content: \"oof\",\n",
            "          name: undefined,\n",
            "          additional_kwargs: [Object],\n",
            "          response_metadata: [Object],\n",
            "          tool_calls: [],\n",
            "          invalid_tool_calls: []\n",
            "        },\n",
            "        generationInfo: { finish_reason: \"stop\" }\n",
            "      }\n",
            "    ]\n",
            "  ],\n",
            "  llmOutput: {\n",
            "    tokenUsage: { completionTokens: 2, promptTokens: 13, totalTokens: 15 }\n",
            "  }\n",
            "}\n"
          ]
        }
      ],
      "source": [
        "import { type RunnableConfig } from \"@langchain/core/runnables\";\n",
        "\n",
        "const echo = (text: string, config: RunnableConfig) => {\n",
        "  const prompt = ChatPromptTemplate.fromTemplate(\"Reverse the following text: {text}\");\n",
        "  const model = new ChatOpenAI({ model: \"gpt-4o\" });\n",
        "  const chain = prompt.pipe(model).pipe(new StringOutputParser());\n",
        "  return chain.invoke({ text }, config);\n",
        "};\n",
        "\n",
        "const output = await RunnableLambda.from(echo).invoke(\"foo\", {\n",
        "  tags: [\"my-tag\"],\n",
        "  callbacks: [{\n",
        "    handleLLMEnd: (output) => console.log(output),\n",
        "  }],\n",
        "});"
      ]
    },
    {
      "cell_type": "markdown",
      "id": "922b48bd",
      "metadata": {},
      "source": [
        "# 流式传输\n",
        "\n",
        "你可以在链中使用生成器函数（即使用 `yield` 关键字并表现为迭代器的函数）。\n",
        "\n",
        "这些生成器的签名应为 `AsyncGenerator<Input> -> AsyncGenerator<Output>`。\n",
        "\n",
        "它们适用于以下场景：\n",
        "- 实现自定义输出解析器\n",
        "- 在保留流式功能的同时修改前一步骤的输出\n",
        "\n",
        "下面是一个针对逗号分隔列表的自定义输出解析器示例。首先，我们创建一个链来生成这样的列表文本："
      ]
    },
    {
      "cell_type": "code",
      "execution_count": 4,
      "id": "29f55c38",
      "metadata": {},
      "outputs": [
        {
          "name": "stdout",
          "output_type": "stream",
          "text": [
            "\n",
            "Lion\n",
            ",\n",
            " wolf\n",
            ",\n",
            " tiger\n",
            ",\n",
            " cougar\n",
            ",\n",
            " leopard\n",
            "\n"
          ]
        }
      ],
      "source": [
        "const streamingPrompt = ChatPromptTemplate.fromTemplate(\n",
        "  \"Write a comma-separated list of 5 animals similar to: {animal}. Do not include numbers\"\n",
        ");\n",
        "\n",
        "const strChain = streamingPrompt.pipe(model).pipe(new StringOutputParser());\n",
        "\n",
        "const stream = await strChain.stream({ animal: \"bear\" });\n",
        "\n",
        "for await (const chunk of stream) {\n",
        "  console.log(chunk);\n",
        "}"
      ]
    },
    {
      "cell_type": "markdown",
      "id": "46345323",
      "metadata": {},
      "source": [
        "接下来，我们定义一个自定义函数，该函数将聚合当前流式输出，并在模型生成列表中的下一个逗号时将其返回："
      ]
    },
    {
      "cell_type": "code",
      "execution_count": 5,
      "id": "f08b8a5b",
      "metadata": {},
      "outputs": [
        {
          "name": "stdout",
          "output_type": "stream",
          "text": [
            "[ \"wolf\" ]\n",
            "[ \"lion\" ]\n",
            "[ \"tiger\" ]\n",
            "[ \"cougar\" ]\n",
            "[ \"cheetah\" ]\n"
          ]
        }
      ],
      "source": [
        "// This is a custom parser that splits an iterator of llm tokens\n",
        "// into a list of strings separated by commas\n",
        "async function* splitIntoList(input) {\n",
        "  // hold partial input until we get a comma\n",
        "  let buffer = \"\";\n",
        "  for await (const chunk of input) {\n",
        "    // add current chunk to buffer\n",
        "    buffer += chunk;\n",
        "    // while there are commas in the buffer\n",
        "    while (buffer.includes(\",\")) {\n",
        "      // split buffer on comma\n",
        "      const commaIndex = buffer.indexOf(\",\");\n",
        "      // yield everything before the comma\n",
        "      yield [buffer.slice(0, commaIndex).trim()];\n",
        "      // save the rest for the next iteration\n",
        "      buffer = buffer.slice(commaIndex + 1);\n",
        "    }\n",
        "  }\n",
        "  // yield the last chunk\n",
        "  yield [buffer.trim()];\n",
        "}\n",
        "\n",
        "const listChain = strChain.pipe(splitIntoList);\n",
        "\n",
        "const listChainStream = await listChain.stream({\"animal\": \"bear\"});\n",
        "\n",
        "for await (const chunk of listChainStream) {\n",
        "  console.log(chunk);\n",
        "}"
      ]
    },
    {
      "cell_type": "markdown",
      "id": "0a5adb69",
      "metadata": {},
      "source": [
        "调用它会得到一个完整的值数组："
      ]
    },
    {
      "cell_type": "code",
      "execution_count": 7,
      "id": "9ea4ddc6",
      "metadata": {},
      "outputs": [
        {
          "data": {
            "text/plain": [
              "[ \u001b[32m\"lion\"\u001b[39m, \u001b[32m\"tiger\"\u001b[39m, \u001b[32m\"wolf\"\u001b[39m, \u001b[32m\"cougar\"\u001b[39m, \u001b[32m\"jaguar\"\u001b[39m ]"
            ]
          },
          "execution_count": 7,
          "metadata": {},
          "output_type": "execute_result"
        }
      ],
      "source": [
        "await listChain.invoke({\"animal\": \"bear\"})"
      ]
    },
    {
      "cell_type": "markdown",
      "id": "3306ac3b",
      "metadata": {},
      "source": [
        "## 下一步",
        "\n",
        "现在你已经学习了几种在链中使用自定义逻辑的方法，以及如何实现流式传输。\n",
        "\n",
        "要了解更多信息，请参阅本节中有关可运行对象的其他操作指南。"
      ]
    }
  ],
  "metadata": {
    "kernelspec": {
      "display_name": "Deno",
      "language": "typescript",
      "name": "deno"
    },
    "language_info": {
      "file_extension": ".ts",
      "mimetype": "text/x.typescript",
      "name": "typescript",
      "nb_converter": "script",
      "pygments_lexer": "typescript",
      "version": "5.3.3"
    }
  },
  "nbformat": 4,
  "nbformat_minor": 5
}