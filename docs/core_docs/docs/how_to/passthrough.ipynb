{
  "cells": [
    {
      "cell_type": "raw",
      "id": "d35de667-0352-4bfb-a890-cebe7f676fe7",
      "metadata": {},
      "source": [
        "---\n",
        "sidebar_position: 5\n",
        "keywords: [RunnablePassthrough, LCEL]\n",
        "---"
      ]
    },
    {
      "cell_type": "markdown",
      "id": "b022ab74-794d-4c54-ad47-ff9549ddb9d2",
      "metadata": {},
      "source": [
        "# 如何将参数从一个步骤传递到下一个步骤\n",
        "\n",
        ":::info 前提条件\n",
        "\n",
        "本指南假定您熟悉以下概念：\n",
        "\n",
        "- [LangChain 表达式语言 (LCEL)](/docs/concepts/lcel)\n",
        "- [链式调用可运行对象](/docs/how_to/sequence/)\n",
        "- [并行调用可运行对象](/docs/how_to/parallel/)\n",
        "- [自定义函数](/docs/how_to/functions/)\n",
        "\n",
        ":::\n",
        "\n",
        "\n",
        "当组合包含多个步骤的链时，有时您会希望将先前步骤中的数据未经更改地传递，以作为后续步骤的输入。[`RunnablePassthrough`](https://api.js.langchain.com/classes/langchain_core.runnables.RunnablePassthrough.html) 类允许您实现此目的，通常与 [RunnableParallel](/docs/how_to/parallel/) 一起使用，以将数据传递到所构建链中的后续步骤。\n",
        "\n",
        "让我们来看一个示例："
      ]
    },
    {
      "cell_type": "code",
      "execution_count": 1,
      "id": "03988b8d-d54c-4492-8707-1594372cf093",
      "metadata": {},
      "outputs": [
        {
          "data": {
            "text/plain": [
              "{ passed: { num: \u001b[33m1\u001b[39m }, modified: \u001b[33m2\u001b[39m }"
            ]
          },
          "execution_count": 1,
          "metadata": {},
          "output_type": "execute_result"
        }
      ],
      "source": [
        "import { RunnableParallel, RunnablePassthrough } from \"@langchain/core/runnables\";\n",
        "\n",
        "const runnable = RunnableParallel.from({\n",
        "  passed: new RunnablePassthrough<{ num: number }>(),\n",
        "  modified: (input: { num: number }) => input.num + 1,\n",
        "});\n",
        "\n",
        "await runnable.invoke({ num: 1 });"
      ]
    },
    {
      "cell_type": "markdown",
      "id": "702c7acc-cd31-4037-9489-647df192fd7c",
      "metadata": {},
      "source": [
        "如上所示，`passed` 键通过调用 `RunnablePassthrough()` 来执行，因此它直接传递了 `{'num': 1}`。\n",
        "\n",
        "我们还在映射中设置了第二个键 `modified`。这使用了一个 lambda 函数来设置一个值，将 num 的值加 1，最终得到 `modified` 键对应的值为 `2`。"
      ]
    },
    {
      "cell_type": "markdown",
      "id": "15187a3b-d666-4b9b-a258-672fc51fe0e2",
      "metadata": {},
      "source": [
        "## 检索示例\n",
        "\n",
        "在下面的示例中，我们将看到一个更贴近实际应用场景的用例：我们结合使用 `RunnablePassthrough` 和 `RunnableParallel` 来正确地将输入格式化为提示词：\n",
        "\n",
        "```{=mdx}\n",
        "import IntegrationInstallTooltip from \"@mdx_components/integration_install_tooltip.mdx\";\n",
        "import Npm2Yarn from \"@theme/Npm2Yarn\";\n",
        "\n",
        "<IntegrationInstallTooltip></IntegrationInstallTooltip>\n",
        "\n",
        "<Npm2Yarn>\n",
        "  @langchain/openai @langchain/core\n",
        "</Npm2Yarn>\n",
        "```"
      ]
    },
    {
      "cell_type": "code",
      "execution_count": 3,
      "id": "267d1460-53c1-4fdb-b2c3-b6a1eb7fccff",
      "metadata": {},
      "outputs": [
        {
          "data": {
            "text/plain": [
              "\u001b[32m\"Harrison worked at Kensho.\"\u001b[39m"
            ]
          },
          "execution_count": 3,
          "metadata": {},
          "output_type": "execute_result"
        }
      ],
      "source": [
        "import { StringOutputParser } from \"@langchain/core/output_parsers\";\n",
        "import { ChatPromptTemplate } from \"@langchain/core/prompts\";\n",
        "import { RunnablePassthrough, RunnableSequence } from \"@langchain/core/runnables\";\n",
        "import { ChatOpenAI, OpenAIEmbeddings } from \"@langchain/openai\";\n",
        "import { MemoryVectorStore } from \"langchain/vectorstores/memory\";\n",
        "\n",
        "const vectorstore = await MemoryVectorStore.fromDocuments([\n",
        "  { pageContent: \"harrison worked at kensho\", metadata: {} }\n",
        "], new OpenAIEmbeddings());\n",
        "\n",
        "const retriever = vectorstore.asRetriever();\n",
        "\n",
        "const template = `Answer the question based only on the following context:\n",
        "{context}\n",
        "\n",
        "Question: {question}\n",
        "`;\n",
        "\n",
        "const prompt = ChatPromptTemplate.fromTemplate(template);\n",
        "\n",
        "const model = new ChatOpenAI({ model: \"gpt-4o\" });\n",
        "\n",
        "const retrievalChain = RunnableSequence.from([\n",
        "  {\n",
        "    context: retriever.pipe((docs) => docs[0].pageContent),\n",
        "    question: new RunnablePassthrough()\n",
        "  },\n",
        "  prompt,\n",
        "  model,\n",
        "  new StringOutputParser(),\n",
        "]);\n",
        "\n",
        "await retrievalChain.invoke(\"where did harrison work?\");"
      ]
    },
    {
      "cell_type": "markdown",
      "id": "392cd4c4-e7ed-4ab8-934d-f7a4eca55ee1",
      "metadata": {},
      "source": [
        "这里的输入提示应该是一个包含键 `\"context\"` 和 `\"question\"` 的映射。用户的输入仅仅是问题。因此，我们需要使用检索器获取上下文，并将用户输入通过 `\"question\"` 键传递下去。`RunnablePassthrough` 使我们能够将用户的问题传递给提示和模型。",
        "",
        "## 后续步骤",
        "",
        "现在，你已经了解了如何在链中传递数据，以帮助格式化流经链的数据。",
        "",
        "要了解更多信息，请参阅本节中有关可运行对象的其他操作指南。"
      ]
    }
  ],
  "metadata": {
    "kernelspec": {
      "display_name": "Deno",
      "language": "typescript",
      "name": "deno"
    },
    "language_info": {
      "file_extension": ".ts",
      "mimetype": "text/x.typescript",
      "name": "typescript",
      "nb_converter": "script",
      "pygments_lexer": "typescript",
      "version": "5.3.3"
    }
  },
  "nbformat": 4,
  "nbformat_minor": 5
}