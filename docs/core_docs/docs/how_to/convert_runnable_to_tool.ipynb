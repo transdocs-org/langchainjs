{
  "cells": [
    {
      "cell_type": "markdown",
      "id": "9a8bceb3-95bd-4496-bb9e-57655136e070",
      "metadata": {},
      "source": [
        "# 如何将 Runnables 转换为 Tools\n",
        "\n",
        "```{=mdx}\n",
        "\n",
        ":::info 前提条件\n",
        "\n",
        "本指南假定您熟悉以下概念：\n",
        "\n",
        "- [Runnables](/docs/concepts/runnables)\n",
        "- [Tools](/docs/concepts/tools)\n",
        "- [Agents](https://langchain-ai.github.io/langgraphjs/tutorials/quickstart/)\n",
        "\n",
        ":::\n",
        "\n",
        "```\n",
        "\n",
        "为了方便起见，接受字符串或对象输入的 `Runnables` 可以使用 [`asTool`](https://api.js.langchain.com/classes/langchain_core.runnables.Runnable.html#asTool) 方法转换为工具，该方法允许为参数指定名称、描述和额外的模式信息。\n",
        "\n",
        "在这里，我们将演示如何使用此方法将 LangChain 的 `Runnable` 转换为可供代理、链或聊天模型使用的工具。\n",
        "\n",
        "```{=mdx}\n",
        ":::caution 兼容性\n",
        "\n",
        "该功能需要 `@langchain/core>=0.2.16`。有关升级的指南，请参见[此处](/docs/how_to/installation/#installing-integration-packages)。\n",
        "\n",
        ":::\n",
        "```\n",
        "\n",
        "## `asTool`\n",
        "\n",
        "相较于一般的 Runnables，Tools 有一些额外的要求：\n",
        "\n",
        "- 它们的输入被限制为可序列化的类型，具体来说是字符串和对象；\n",
        "- 它们包含名称和描述，用以说明其使用方式和时机；\n",
        "- 它们包含一个详细的 `schema` 属性用于描述参数。也就是说，虽然一个工具（作为 `Runnable`）可能接受单个对象作为输入，但用于构建该对象的具体键和类型信息应在 `schema` 字段中指定。\n",
        "\n",
        "因此，`asTool()` 方法需要这些额外的信息才能从一个 runnable 创建一个工具。以下是一个基本示例："
      ]
    },
    {
      "cell_type": "code",
      "execution_count": 1,
      "id": "b2cc4231-64a3-4733-a284-932dcbf2fcc3",
      "metadata": {},
      "outputs": [
        {
          "name": "stdout",
          "output_type": "stream",
          "text": [
            "Explanation of when to use the tool.\n"
          ]
        }
      ],
      "source": [
        "import { RunnableLambda } from \"@langchain/core/runnables\";\n",
        "import { z } from \"zod\";\n",
        "\n",
        "const schema = z.object({\n",
        "  a: z.number(),\n",
        "  b: z.array(z.number()),\n",
        "});\n",
        "\n",
        "\n",
        "const runnable = RunnableLambda.from((input: z.infer<typeof schema>) => {\n",
        "  return input.a * Math.max(...input.b);\n",
        "});\n",
        "\n",
        "const asTool = runnable.asTool({\n",
        "  name: \"My tool\",\n",
        "  description: \"Explanation of when to use the tool.\",\n",
        "  schema,\n",
        "});\n",
        "\n",
        "asTool.description"
      ]
    },
    {
      "cell_type": "code",
      "execution_count": 2,
      "id": "54ae7384-a03d-4fa4-8cdf-9604a4bc39ee",
      "metadata": {},
      "outputs": [
        {
          "name": "stdout",
          "output_type": "stream",
          "text": [
            "6\n"
          ]
        }
      ],
      "source": [
        "await asTool.invoke({ a: 3, b: [1, 2] })"
      ]
    },
    {
      "cell_type": "markdown",
      "id": "7c474d85-4e01-4fae-9bba-0c6c8c26475c",
      "metadata": {},
      "source": [
        "支持接收字符串输入的可运行对象："
      ]
    },
    {
      "cell_type": "code",
      "execution_count": 3,
      "id": "c475282a-58d6-4c2b-af7d-99b73b7d8a13",
      "metadata": {},
      "outputs": [
        {
          "name": "stdout",
          "output_type": "stream",
          "text": [
            "Adds letters to a string.\n"
          ]
        }
      ],
      "source": [
        "const firstRunnable = RunnableLambda.from<string, string>((input) => {\n",
        "  return input + \"a\";\n",
        "})\n",
        "\n",
        "const secondRunnable = RunnableLambda.from<string, string>((input) => {\n",
        "  return input + \"z\";\n",
        "})\n",
        "\n",
        "const runnable = firstRunnable.pipe(secondRunnable)\n",
        "const asTool = runnable.asTool({\n",
        "  name: \"append_letters\",\n",
        "  description: \"Adds letters to a string.\",\n",
        "  schema: z.string(),\n",
        "})\n",
        "\n",
        "asTool.description;"
      ]
    },
    {
      "cell_type": "code",
      "execution_count": 4,
      "id": "ad6d8d96-3a87-40bd-a2ac-44a8acde0a8e",
      "metadata": {},
      "outputs": [
        {
          "name": "stdout",
          "output_type": "stream",
          "text": [
            "baz\n"
          ]
        }
      ],
      "source": [
        "await asTool.invoke(\"b\")"
      ]
    },
    {
      "cell_type": "markdown",
      "id": "89fdb3a7-d228-48f0-8f73-262af4febb58",
      "metadata": {},
      "source": [
        "## 在一个智能体中\n",
        "\n",
        "下面我们会将 LangChain Runnables 作为工具整合进一个[智能体](/docs/concepts/agents)应用中。我们将通过以下组件进行演示：\n",
        "\n",
        "- 一个文档[检索器](/docs/concepts/retrievers)；\n",
        "- 一个简单的[RAG](/docs/tutorials/rag/)链，允许智能体将相关查询委托给该链。\n",
        "\n",
        "我们首先实例化一个支持[工具调用](/docs/how_to/tool_calling/)的聊天模型：\n",
        "\n",
        "```{=mdx}\n",
        "<ChatModelTabs\n",
        "  customVarName=\"llm\"\n",
        "/>\n",
        "```"
      ]
    },
    {
      "cell_type": "markdown",
      "id": "e8a2038a-d762-4196-b5e3-fdb89c11e71d",
      "metadata": {},
      "source": [
        "按照[RAG教程](/docs/tutorials/rag/)，我们首先构建一个检索器："
      ]
    },
    {
      "cell_type": "code",
      "execution_count": 5,
      "id": "23d2a47e-6712-4294-81c8-2c1d76b4bb81",
      "metadata": {},
      "outputs": [],
      "source": [
        "import { ChatOpenAI } from \"@langchain/openai\";\n",
        "\n",
        "const llm = new ChatOpenAI({ model: \"gpt-3.5-turbo-0125\", temperature: 0 })\n",
        "\n",
        "import { Document } from \"@langchain/core/documents\"\n",
        "import { MemoryVectorStore } from \"langchain/vectorstores/memory\";\n",
        "import { OpenAIEmbeddings } from \"@langchain/openai\";\n",
        "\n",
        "const documents = [\n",
        "  new Document({\n",
        "    pageContent: \"Dogs are great companions, known for their loyalty and friendliness.\",\n",
        "  }),\n",
        "  new Document({\n",
        "    pageContent: \"Cats are independent pets that often enjoy their own space.\",\n",
        "  }),\n",
        "]\n",
        "\n",
        "const vectorstore = await MemoryVectorStore.fromDocuments(\n",
        "  documents, new OpenAIEmbeddings(),\n",
        ");\n",
        "\n",
        "const retriever = vectorstore.asRetriever({\n",
        "  k: 1,\n",
        "  searchType: \"similarity\",\n",
        "});"
      ]
    },
    {
      "cell_type": "markdown",
      "id": "9ba737ac-43a2-4a6f-b855-5bd0305017f1",
      "metadata": {},
      "source": [
        "接下来，我们创建一个预置的 [LangGraph 代理](/docs/how_to/migrate_agent/)，并为其提供工具："
      ]
    },
    {
      "cell_type": "code",
      "execution_count": 6,
      "id": "c939cf2a-60e9-4afd-8b47-84d76ccb13f5",
      "metadata": {},
      "outputs": [
        {
          "name": "stdout",
          "output_type": "stream",
          "text": [
            "AGENT: AIMessage {\n",
            "  \"id\": \"chatcmpl-9m9RIN1GQVeXcrVdp0lNBTcZFVHb9\",\n",
            "  \"content\": \"\",\n",
            "  \"additional_kwargs\": {\n",
            "    \"tool_calls\": [\n",
            "      {\n",
            "        \"id\": \"call_n30LPDbegmytrj5GdUxZt9xn\",\n",
            "        \"type\": \"function\",\n",
            "        \"function\": \"[Object]\"\n",
            "      }\n",
            "    ]\n",
            "  },\n",
            "  \"response_metadata\": {\n",
            "    \"tokenUsage\": {\n",
            "      \"completionTokens\": 17,\n",
            "      \"promptTokens\": 52,\n",
            "      \"totalTokens\": 69\n",
            "    },\n",
            "    \"finish_reason\": \"tool_calls\"\n",
            "  },\n",
            "  \"tool_calls\": [\n",
            "    {\n",
            "      \"name\": \"pet_info_retriever\",\n",
            "      \"args\": {\n",
            "        \"input\": \"dogs\"\n",
            "      },\n",
            "      \"type\": \"tool_call\",\n",
            "      \"id\": \"call_n30LPDbegmytrj5GdUxZt9xn\"\n",
            "    }\n",
            "  ],\n",
            "  \"invalid_tool_calls\": [],\n",
            "  \"usage_metadata\": {\n",
            "    \"input_tokens\": 52,\n",
            "    \"output_tokens\": 17,\n",
            "    \"total_tokens\": 69\n",
            "  }\n",
            "}\n",
            "----\n",
            "TOOLS: ToolMessage {\n",
            "  \"content\": \"[{\\\"pageContent\\\":\\\"Dogs are great companions, known for their loyalty and friendliness.\\\",\\\"metadata\\\":{}}]\",\n",
            "  \"name\": \"pet_info_retriever\",\n",
            "  \"additional_kwargs\": {},\n",
            "  \"response_metadata\": {},\n",
            "  \"tool_call_id\": \"call_n30LPDbegmytrj5GdUxZt9xn\"\n",
            "}\n",
            "----\n",
            "AGENT: AIMessage {\n",
            "  \"id\": \"chatcmpl-9m9RJ3TT3ITfv6R0Tb7pcrNOUtnm8\",\n",
            "  \"content\": \"Dogs are known for being great companions, known for their loyalty and friendliness.\",\n",
            "  \"additional_kwargs\": {},\n",
            "  \"response_metadata\": {\n",
            "    \"tokenUsage\": {\n",
            "      \"completionTokens\": 18,\n",
            "      \"promptTokens\": 104,\n",
            "      \"totalTokens\": 122\n",
            "    },\n",
            "    \"finish_reason\": \"stop\"\n",
            "  },\n",
            "  \"tool_calls\": [],\n",
            "  \"invalid_tool_calls\": [],\n",
            "  \"usage_metadata\": {\n",
            "    \"input_tokens\": 104,\n",
            "    \"output_tokens\": 18,\n",
            "    \"total_tokens\": 122\n",
            "  }\n",
            "}\n",
            "----\n"
          ]
        }
      ],
      "source": [
        "import { createReactAgent } from \"@langchain/langgraph/prebuilt\";\n",
        "\n",
        "const tools = [\n",
        "  retriever.asTool({\n",
        "    name: \"pet_info_retriever\",\n",
        "    description: \"Get information about pets.\",\n",
        "    schema: z.string(),\n",
        "  })\n",
        "];\n",
        "\n",
        "const agent = createReactAgent({ llm: llm, tools });\n",
        "\n",
        "const stream = await agent.stream({\"messages\": [[\"human\", \"What are dogs known for?\"]]});\n",
        "\n",
        "for await (const chunk of stream) {\n",
        "  // Log output from the agent or tools node\n",
        "  if (chunk.agent) {\n",
        "    console.log(\"AGENT:\", chunk.agent.messages[0]);\n",
        "  } else if (chunk.tools) {\n",
        "    console.log(\"TOOLS:\", chunk.tools.messages[0]);\n",
        "  }\n",
        "  console.log(\"----\");\n",
        "}"
      ]
    },
    {
      "cell_type": "markdown",
      "id": "96f2ac9c-36f4-4b7a-ae33-f517734c86aa",
      "metadata": {},
      "source": [
        "这个 [LangSmith 追踪](https://smith.langchain.com/public/5e141617-ae82-44af-8fe0-b64dbd007826/r) 展示了上述运行背后的执行过程。\n",
        "\n",
        "更进一步，我们甚至可以从一个完整的 [RAG 链](/docs/tutorials/rag/) 创建一个工具："
      ]
    },
    {
      "cell_type": "code",
      "execution_count": 7,
      "id": "bea518c9-c711-47c2-b8cc-dbd102f71f09",
      "metadata": {},
      "outputs": [],
      "source": [
        "import { StringOutputParser } from \"@langchain/core/output_parsers\";\n",
        "import { ChatPromptTemplate } from \"@langchain/core/prompts\";\n",
        "import { RunnableSequence } from \"@langchain/core/runnables\";\n",
        "\n",
        "const SYSTEM_TEMPLATE = `\n",
        "You are an assistant for question-answering tasks.\n",
        "Use the below context to answer the question. If\n",
        "you don't know the answer, say you don't know.\n",
        "Use three sentences maximum and keep the answer\n",
        "concise.\n",
        "\n",
        "Answer in the style of {answer_style}.\n",
        "\n",
        "Context: {context}`;\n",
        "\n",
        "const prompt = ChatPromptTemplate.fromMessages([\n",
        "  [\"system\", SYSTEM_TEMPLATE],\n",
        "  [\"human\", \"{question}\"],\n",
        "]);\n",
        "\n",
        "const ragChain = RunnableSequence.from([\n",
        "  {\n",
        "    context: (input, config) => retriever.invoke(input.question, config),\n",
        "    question: (input) => input.question,\n",
        "    answer_style: (input) => input.answer_style,\n",
        "  },\n",
        "  prompt,\n",
        "  llm,\n",
        "  new StringOutputParser(),\n",
        "]);"
      ]
    },
    {
      "cell_type": "markdown",
      "id": "4570615b-8f96-4d97-ae01-1c08b14be584",
      "metadata": {},
      "source": [
        "下面我们会再次调用该智能体。请注意，智能体会在其 `tool_calls` 中填充所需的参数："
      ]
    },
    {
      "cell_type": "code",
      "execution_count": 8,
      "id": "06409913-a2ad-400f-a202-7b8dd2ef483a",
      "metadata": {},
      "outputs": [
        {
          "name": "stdout",
          "output_type": "stream",
          "text": [
            "AGENT: AIMessage {\n",
            "  \"id\": \"chatcmpl-9m9RKY2nAa8LeGoBiO7N1SR4nAoED\",\n",
            "  \"content\": \"\",\n",
            "  \"additional_kwargs\": {\n",
            "    \"tool_calls\": [\n",
            "      {\n",
            "        \"id\": \"call_ukzivO4jRn1XdDpuVTI6CvtU\",\n",
            "        \"type\": \"function\",\n",
            "        \"function\": \"[Object]\"\n",
            "      }\n",
            "    ]\n",
            "  },\n",
            "  \"response_metadata\": {\n",
            "    \"tokenUsage\": {\n",
            "      \"completionTokens\": 30,\n",
            "      \"promptTokens\": 63,\n",
            "      \"totalTokens\": 93\n",
            "    },\n",
            "    \"finish_reason\": \"tool_calls\"\n",
            "  },\n",
            "  \"tool_calls\": [\n",
            "    {\n",
            "      \"name\": \"pet_expert\",\n",
            "      \"args\": {\n",
            "        \"context\": \"pirate\",\n",
            "        \"question\": \"What are dogs known for?\",\n",
            "        \"answer_style\": \"short\"\n",
            "      },\n",
            "      \"type\": \"tool_call\",\n",
            "      \"id\": \"call_ukzivO4jRn1XdDpuVTI6CvtU\"\n",
            "    }\n",
            "  ],\n",
            "  \"invalid_tool_calls\": [],\n",
            "  \"usage_metadata\": {\n",
            "    \"input_tokens\": 63,\n",
            "    \"output_tokens\": 30,\n",
            "    \"total_tokens\": 93\n",
            "  }\n",
            "}\n",
            "----\n",
            "TOOLS: ToolMessage {\n",
            "  \"content\": \"Dogs are known for their loyalty, companionship, and ability to provide emotional support to their owners.\",\n",
            "  \"name\": \"pet_expert\",\n",
            "  \"additional_kwargs\": {},\n",
            "  \"response_metadata\": {},\n",
            "  \"tool_call_id\": \"call_ukzivO4jRn1XdDpuVTI6CvtU\"\n",
            "}\n",
            "----\n",
            "AGENT: AIMessage {\n",
            "  \"id\": \"chatcmpl-9m9RMwAEc14TTKtitq3CH2x9wpGik\",\n",
            "  \"content\": \"A pirate would say that dogs are known for their loyalty, companionship, and ability to provide emotional support to their owners.\",\n",
            "  \"additional_kwargs\": {},\n",
            "  \"response_metadata\": {\n",
            "    \"tokenUsage\": {\n",
            "      \"completionTokens\": 26,\n",
            "      \"promptTokens\": 123,\n",
            "      \"totalTokens\": 149\n",
            "    },\n",
            "    \"finish_reason\": \"stop\"\n",
            "  },\n",
            "  \"tool_calls\": [],\n",
            "  \"invalid_tool_calls\": [],\n",
            "  \"usage_metadata\": {\n",
            "    \"input_tokens\": 123,\n",
            "    \"output_tokens\": 26,\n",
            "    \"total_tokens\": 149\n",
            "  }\n",
            "}\n",
            "----\n"
          ]
        }
      ],
      "source": [
        "const ragTool = ragChain.asTool({\n",
        "  name: \"pet_expert\",\n",
        "  description: \"Get information about pets.\",\n",
        "  schema: z.object({\n",
        "    context: z.string(),\n",
        "    question: z.string(),\n",
        "    answer_style: z.string(),\n",
        "  }),\n",
        "});\n",
        "\n",
        "const agent = createReactAgent({ llm: llm, tools: [ragTool] });\n",
        "\n",
        "const stream = await agent.stream({\n",
        "  messages: [\n",
        "    [\"human\", \"What would a pirate say dogs are known for?\"]\n",
        "  ]\n",
        "});\n",
        "\n",
        "for await (const chunk of stream) {\n",
        "  // Log output from the agent or tools node\n",
        "  if (chunk.agent) {\n",
        "    console.log(\"AGENT:\", chunk.agent.messages[0]);\n",
        "  } else if (chunk.tools) {\n",
        "    console.log(\"TOOLS:\", chunk.tools.messages[0]);\n",
        "  }\n",
        "  console.log(\"----\");\n",
        "}"
      ]
    },
    {
      "cell_type": "markdown",
      "id": "96cc9bc3-e79e-49a8-9915-428ea225358b",
      "metadata": {},
      "source": [
        "查看上述运行的 [LangSmith 跟踪](https://smith.langchain.com/public/147ae4e6-4dfb-4dd9-8ca0-5c5b954f08ac/r)，了解内部运行情况。\n",
        "\n",
        "## 相关内容\n",
        "\n",
        "- [如何：创建自定义工具](/docs/how_to/custom_tools)\n",
        "- [如何：将工具结果传递回模型](/docs/how_to/tool_results_pass_to_model/)\n",
        "- [如何：在自定义工具中流式传输子运行事件](/docs/how_to/tool_stream_events)\n"
      ]
    }
  ],
  "metadata": {
    "kernelspec": {
      "display_name": "TypeScript",
      "language": "typescript",
      "name": "tslab"
    },
    "language_info": {
      "codemirror_mode": {
        "mode": "typescript",
        "name": "javascript",
        "typescript": true
      },
      "file_extension": ".ts",
      "mimetype": "text/typescript",
      "name": "typescript",
      "version": "3.7.2"
    }
  },
  "nbformat": 4,
  "nbformat_minor": 5
}