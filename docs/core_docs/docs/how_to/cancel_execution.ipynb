{
  "cells": [
    {
      "cell_type": "markdown",
      "metadata": {},
      "source": [
        "# 如何取消执行\n",
        "\n",
        "```{=mdx}\n",
        ":::info 前提条件\n",
        "\n",
        "本指南假定您熟悉以下概念：\n",
        "\n",
        "- [LangChain 表达式语言](/docs/concepts/lcel)\n",
        "- [链（Chains）](/docs/how_to/sequence/)\n",
        "- [流式传输（Streaming）](/docs/how_to/streaming/)\n",
        "\n",
        ":::\n",
        "```\n",
        "\n",
        "在构建长时间运行的链或 [LangGraph](https://langchain-ai.github.io/langgraphjs/) 代理时，您可能希望在某些情况下中断执行，例如用户离开您的应用程序或提交新查询。\n",
        "\n",
        "[LangChain 表达式语言 (LCEL)](/docs/concepts/lcel) 通过运行时 [signal](https://developer.mozilla.org/zh-CN/docs/Web/API/AbortController/signal) 选项支持中止正在进行的可运行对象。\n",
        "\n",
        "```{=mdx}\n",
        ":::caution 兼容性\n",
        "\n",
        "内置的信号支持需要 `@langchain/core>=0.2.20`。有关升级指南，请参见[此处](/docs/how_to/installation/#installing-integration-packages)。\n",
        "\n",
        ":::\n",
        "```\n",
        "\n",
        "**注意：** 个别集成（如聊天模型或检索器）可能在中止执行的实现上存在缺失或差异。本指南中描述的信号支持将适用于链的各个步骤之间。\n",
        "\n",
        "要查看其工作原理，可以构建一个如下的链，该链执行[检索增强生成](/docs/tutorials/rag)。它通过首先使用 [Tavily](/docs/integrations/retrievers/tavily) 在网络上搜索，然后将结果传递给聊天模型以生成最终答案来回答问题：\n",
        "\n",
        "```{=mdx}\n",
        "import ChatModelTabs from \"@theme/ChatModelTabs\";\n",
        "\n",
        "<ChatModelTabs />\n",
        "```"
      ]
    },
    {
      "cell_type": "code",
      "execution_count": 1,
      "metadata": {},
      "outputs": [],
      "source": [
        "// @lc-docs-hide-cell\n",
        "import { ChatAnthropic } from \"@langchain/anthropic\";\n",
        "\n",
        "const llm = new ChatAnthropic({\n",
        "  model: \"claude-3-5-sonnet-20240620\",\n",
        "});"
      ]
    },
    {
      "cell_type": "code",
      "execution_count": 2,
      "metadata": {},
      "outputs": [],
      "source": [
        "import { TavilySearchAPIRetriever } from \"@langchain/community/retrievers/tavily_search_api\";\n",
        "import type { Document } from \"@langchain/core/documents\";\n",
        "import { StringOutputParser } from \"@langchain/core/output_parsers\";\n",
        "import { ChatPromptTemplate } from \"@langchain/core/prompts\";\n",
        "import { RunnablePassthrough, RunnableSequence } from \"@langchain/core/runnables\";\n",
        "\n",
        "const formatDocsAsString = (docs: Document[]) => {\n",
        "  return docs.map((doc) => doc.pageContent).join(\"\\n\\n\")\n",
        "}\n",
        "\n",
        "const retriever = new TavilySearchAPIRetriever({\n",
        "  k: 3,\n",
        "});\n",
        "\n",
        "const prompt = ChatPromptTemplate.fromTemplate(`\n",
        "Use the following context to answer questions to the best of your ability:\n",
        "\n",
        "<context>\n",
        "{context}\n",
        "</context>\n",
        "\n",
        "Question: {question}`)\n",
        "\n",
        "const chain = RunnableSequence.from([\n",
        "  {\n",
        "    context: retriever.pipe(formatDocsAsString),\n",
        "    question: new RunnablePassthrough(),\n",
        "  },\n",
        "  prompt,\n",
        "  llm,\n",
        "  new StringOutputParser(),\n",
        "]);"
      ]
    },
    {
      "cell_type": "markdown",
      "metadata": {},
      "source": [
        "如果以正常方式调用它，可以看到它返回的是最新的信息："
      ]
    },
    {
      "cell_type": "code",
      "execution_count": 3,
      "metadata": {},
      "outputs": [
        {
          "name": "stdout",
          "output_type": "stream",
          "text": [
            "Based on the provided context, the current weather in San Francisco is:\n",
            "\n",
            "Temperature: 17.6°C (63.7°F)\n",
            "Condition: Sunny\n",
            "Wind: 14.4 km/h (8.9 mph) from WSW direction\n",
            "Humidity: 74%\n",
            "Cloud cover: 15%\n",
            "\n",
            "The information indicates it's a sunny day with mild temperatures and light winds. The data appears to be from August 2, 2024, at 17:00 local time.\n"
          ]
        }
      ],
      "source": [
        "await chain.invoke(\"what is the current weather in SF?\");"
      ]
    },
    {
      "cell_type": "markdown",
      "metadata": {},
      "source": [
        "现在，让我们尽早中断它。初始化一个 [`AbortController`](https://developer.mozilla.org/zh-CN/docs/Web/API/AbortController)，并将其 `signal` 属性传入链式执行中。为了说明取消操作会尽可能快地发生，我们设置一个 100 毫秒的超时："
      ]
    },
    {
      "cell_type": "code",
      "execution_count": 4,
      "metadata": {},
      "outputs": [
        {
          "name": "stdout",
          "output_type": "stream",
          "text": [
            "Error: Aborted\n",
            "    at EventTarget.<anonymous> (/Users/jacoblee/langchain/langchainjs/langchain-core/dist/utils/signal.cjs:19:24)\n",
            "    at [nodejs.internal.kHybridDispatch] (node:internal/event_target:825:20)\n",
            "    at EventTarget.dispatchEvent (node:internal/event_target:760:26)\n",
            "    at abortSignal (node:internal/abort_controller:370:10)\n",
            "    at AbortController.abort (node:internal/abort_controller:392:5)\n",
            "    at Timeout._onTimeout (evalmachine.<anonymous>:7:29)\n",
            "    at listOnTimeout (node:internal/timers:573:17)\n",
            "    at process.processTimers (node:internal/timers:514:7)\n",
            "timer1: 103.204ms\n"
          ]
        }
      ],
      "source": [
        "const controller = new AbortController();\n",
        "\n",
        "const startTimer = console.time(\"timer1\");\n",
        "\n",
        "setTimeout(() => controller.abort(), 100);\n",
        "\n",
        "try {\n",
        "  await chain.invoke(\"what is the current weather in SF?\", {\n",
        "    signal: controller.signal,\n",
        "  });\n",
        "} catch (e) {\n",
        "  console.log(e);\n",
        "}\n",
        "\n",
        "console.timeEnd(\"timer1\");"
      ]
    },
    {
      "cell_type": "markdown",
      "metadata": {},
      "source": [
        "你可以看到执行在超过100毫秒后结束。查看[this LangSmith 跟踪](https://smith.langchain.com/public/63c04c3b-2683-4b73-a4f7-fb12f5cb9180/r)，你会发现模型从未被调用。\n",
        "\n",
        "## 流式传输\n",
        "\n",
        "在流式传输时，你也可以传递一个 `signal`。这使你能够更精确地控制在 `for await...of` 循环中使用 `break` 语句来取消当前运行，该操作仅在最终输出已经开始流式传输后才会触发。以下示例使用了 `break` 语句——请注意取消操作发生前经过的时间："
      ]
    },
    {
      "cell_type": "code",
      "execution_count": 5,
      "metadata": {},
      "outputs": [
        {
          "name": "stdout",
          "output_type": "stream",
          "text": [
            "chunk \n",
            "timer2: 3.990s\n"
          ]
        }
      ],
      "source": [
        "const startTimer2 = console.time(\"timer2\");\n",
        "\n",
        "const stream = await chain.stream(\"what is the current weather in SF?\");\n",
        "\n",
        "for await (const chunk of stream) {\n",
        "  console.log(\"chunk\", chunk);\n",
        "  break;\n",
        "}\n",
        "\n",
        "console.timeEnd(\"timer2\");"
      ]
    },
    {
      "cell_type": "markdown",
      "metadata": {},
      "source": [
        "现在将其与使用信号进行比较。请注意，你需要将流包装在 `try/catch` 块中："
      ]
    },
    {
      "cell_type": "code",
      "execution_count": 6,
      "metadata": {},
      "outputs": [
        {
          "name": "stdout",
          "output_type": "stream",
          "text": [
            "Error: Aborted\n",
            "    at EventTarget.<anonymous> (/Users/jacoblee/langchain/langchainjs/langchain-core/dist/utils/signal.cjs:19:24)\n",
            "    at [nodejs.internal.kHybridDispatch] (node:internal/event_target:825:20)\n",
            "    at EventTarget.dispatchEvent (node:internal/event_target:760:26)\n",
            "    at abortSignal (node:internal/abort_controller:370:10)\n",
            "    at AbortController.abort (node:internal/abort_controller:392:5)\n",
            "    at Timeout._onTimeout (evalmachine.<anonymous>:7:38)\n",
            "    at listOnTimeout (node:internal/timers:573:17)\n",
            "    at process.processTimers (node:internal/timers:514:7)\n",
            "timer3: 100.684ms\n"
          ]
        }
      ],
      "source": [
        "const controllerForStream = new AbortController();\n",
        "\n",
        "const startTimer3 = console.time(\"timer3\");\n",
        "\n",
        "setTimeout(() => controllerForStream.abort(), 100);\n",
        "\n",
        "try {\n",
        "  const streamWithSignal = await chain.stream(\"what is the current weather in SF?\", {\n",
        "    signal: controllerForStream.signal\n",
        "  });\n",
        "  for await (const chunk of streamWithSignal) {\n",
        "    console.log(chunk);\n",
        "    break;\n",
        "  } \n",
        "} catch (e) {\n",
        "  console.log(e);  \n",
        "}\n",
        "\n",
        "console.timeEnd(\"timer3\");"
      ]
    },
    {
      "cell_type": "markdown",
      "metadata": {},
      "source": [
        "## 相关\n",
        "\n",
        "- [将参数从一个步骤传递到下一个步骤](/docs/how_to/passthrough)\n",
        "- [派发自定义事件](/docs/how_to/callbacks_custom_events)"
      ]
    }
  ],
  "metadata": {
    "kernelspec": {
      "display_name": "TypeScript",
      "language": "typescript",
      "name": "tslab"
    },
    "language_info": {
      "codemirror_mode": {
        "mode": "typescript",
        "name": "javascript",
        "typescript": true
      },
      "file_extension": ".ts",
      "mimetype": "text/typescript",
      "name": "typescript",
      "version": "3.7.2"
    }
  },
  "nbformat": 4,
  "nbformat_minor": 2
}