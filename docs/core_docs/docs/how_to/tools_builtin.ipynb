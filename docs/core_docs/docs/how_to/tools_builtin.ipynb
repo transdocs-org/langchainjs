{
  "cells": [
    {
      "cell_type": "markdown",
      "id": "15780a65",
      "metadata": {},
      "source": [
        "# 如何使用 LangChain 工具\n",
        "\n",
        "工具是代理、链或语言模型（LLM）用来与世界交互的接口。\n",
        "它们包含以下几个部分：\n",
        "\n",
        "1. 工具的名称\n",
        "2. 对工具功能的描述\n",
        "3. 工具输入参数的 JSON schema\n",
        "4. 要调用的函数\n",
        "5. 是否应将工具的结果直接返回给用户\n",
        "\n",
        "包含所有这些信息非常有用，因为这些信息可以用来构建执行操作的系统！名称、描述和 schema 可用于提示语言模型（LLM），使其知道如何指定要执行的操作，而要调用的函数则等同于执行该操作。\n",
        "\n",
        "工具的输入越简单，语言模型（LLM）就越容易使用它。\n",
        "许多代理仅能使用那些接受单个字符串输入的工具。\n",
        "\n",
        "重要的是，名称、描述以及（如果使用）schema 都会用于提示词中。因此，它们必须清晰明了，准确描述工具的使用方式。\n",
        "\n",
        "## 默认工具\n",
        "\n",
        "让我们看看如何使用工具。为此，我们将使用一个内置工具进行演示。"
      ]
    },
    {
      "cell_type": "code",
      "execution_count": 1,
      "id": "19297004",
      "metadata": {},
      "outputs": [],
      "source": [
        "import { WikipediaQueryRun } from \"@langchain/community/tools/wikipedia_query_run\";\n",
        "\n",
        "const tool = new WikipediaQueryRun({\n",
        "  topKResults: 1,\n",
        "  maxDocContentLength: 100,\n",
        "});"
      ]
    },
    {
      "cell_type": "markdown",
      "id": "7db48439",
      "metadata": {},
      "source": [
        "这是默认名称："
      ]
    },
    {
      "cell_type": "code",
      "execution_count": 2,
      "id": "50f1ece1",
      "metadata": {},
      "outputs": [
        {
          "data": {
            "text/plain": [
              "\u001b[32m\"wikipedia-api\"\u001b[39m"
            ]
          },
          "execution_count": 2,
          "metadata": {},
          "output_type": "execute_result"
        }
      ],
      "source": [
        "tool.name;"
      ]
    },
    {
      "cell_type": "markdown",
      "id": "075499b1",
      "metadata": {},
      "source": [
        "这是默认描述："
      ]
    },
    {
      "cell_type": "code",
      "execution_count": 3,
      "id": "e9be09e2",
      "metadata": {},
      "outputs": [
        {
          "data": {
            "text/plain": [
              "\u001b[32m\"A tool for interacting with and fetching data from the Wikipedia API.\"\u001b[39m"
            ]
          },
          "execution_count": 3,
          "metadata": {},
          "output_type": "execute_result"
        }
      ],
      "source": [
        "tool.description;"
      ]
    },
    {
      "cell_type": "markdown",
      "id": "89c86b00",
      "metadata": {},
      "source": [
        "这是输入的默认模式。这是工具类上的 [Zod](https://zod.dev) 模式。我们将其转换为 JSON 模式以供显示："
      ]
    },
    {
      "cell_type": "code",
      "execution_count": 4,
      "id": "963a2e8c",
      "metadata": {},
      "outputs": [
        {
          "data": {
            "text/plain": [
              "{\n",
              "  type: \u001b[32m\"object\"\u001b[39m,\n",
              "  properties: { input: { type: \u001b[32m\"string\"\u001b[39m } },\n",
              "  additionalProperties: \u001b[33mfalse\u001b[39m,\n",
              "  \u001b[32m\"$schema\"\u001b[39m: \u001b[32m\"http://json-schema.org/draft-07/schema#\"\u001b[39m\n",
              "}"
            ]
          },
          "execution_count": 4,
          "metadata": {},
          "output_type": "execute_result"
        }
      ],
      "source": [
        "import { zodToJsonSchema } from \"zod-to-json-schema\";\n",
        "\n",
        "zodToJsonSchema(tool.schema);"
      ]
    },
    {
      "cell_type": "markdown",
      "id": "5c467a35",
      "metadata": {},
      "source": [
        "我们可以判断工具是否应该直接返回给用户"
      ]
    },
    {
      "cell_type": "code",
      "execution_count": 5,
      "id": "039334b3",
      "metadata": {},
      "outputs": [
        {
          "data": {
            "text/plain": [
              "\u001b[33mfalse\u001b[39m"
            ]
          },
          "execution_count": 5,
          "metadata": {},
          "output_type": "execute_result"
        }
      ],
      "source": [
        "tool.returnDirect;"
      ]
    },
    {
      "cell_type": "markdown",
      "id": "fc421b02",
      "metadata": {},
      "source": [
        "我们可以使用对象输入调用此工具："
      ]
    },
    {
      "cell_type": "code",
      "execution_count": 6,
      "id": "6669a13c",
      "metadata": {},
      "outputs": [
        {
          "data": {
            "text/plain": [
              "\u001b[32m\"Page: LangChain\\n\"\u001b[39m +\n",
              "  \u001b[32m\"Summary: LangChain is a framework designed to simplify the creation of applications \"\u001b[39m"
            ]
          },
          "execution_count": 6,
          "metadata": {},
          "output_type": "execute_result"
        }
      ],
      "source": [
        "await tool.invoke({ input: \"langchain\" })"
      ]
    },
    {
      "cell_type": "markdown",
      "id": "587d6a58",
      "metadata": {},
      "source": [
        "我们也可以使用单个字符串输入来调用此工具。\n",
        "我们之所以可以这样做，是因为此工具仅需要一个输入。\n",
        "如果它需要多个输入，我们就无法这样做了。"
      ]
    },
    {
      "cell_type": "code",
      "execution_count": 7,
      "id": "8cb23935",
      "metadata": {},
      "outputs": [
        {
          "data": {
            "text/plain": [
              "\u001b[32m\"Page: LangChain\\n\"\u001b[39m +\n",
              "  \u001b[32m\"Summary: LangChain is a framework designed to simplify the creation of applications \"\u001b[39m"
            ]
          },
          "execution_count": 7,
          "metadata": {},
          "output_type": "execute_result"
        }
      ],
      "source": [
        "await tool.invoke(\"langchain\")"
      ]
    },
    {
      "cell_type": "markdown",
      "id": "450ac963",
      "metadata": {},
      "source": [
        "## 如何使用内置工具包\n",
        "\n",
        "工具包是一组设计用于共同完成特定任务的工具集合。它们提供了便捷的加载方法。\n",
        "\n",
        "如需查看所有可用现成工具包的完整列表，请访问 [集成](/docs/integrations/toolkits/) 页面。\n",
        "\n",
        "所有工具包都提供一个 `getTools()` 方法，该方法返回工具列表。\n",
        "\n",
        "通常你应按照如下方式使用它们：\n",
        "\n",
        "```ts\n",
        "// 初始化工具包\n",
        "const toolkit = new ExampleTookit(...);\n",
        "\n",
        "// 获取工具列表\n",
        "const tools = toolkit.getTools();\n",
        "```"
      ]
    },
    {
      "cell_type": "markdown",
      "id": "c5b8b6bc",
      "metadata": {},
      "source": [
        "## 更多主题\n",
        "\n",
        "这是对 LangChain 中工具的快速介绍，但还有更多内容需要学习\n",
        "\n",
        "**[内置工具](/docs/integrations/tools/)**：要查看所有内置工具的列表，请访问[此页面](/docs/integrations/tools/)\n",
        "    \n",
        "**[自定义工具](/docs/how_to/custom_tools)**：尽管内置工具很有用，但你很可能需要定义自己的工具。请参阅[此指南](/docs/how_to/custom_tools)以了解如何操作。"
      ]
    }
  ],
  "metadata": {
    "kernelspec": {
      "display_name": "Deno",
      "language": "typescript",
      "name": "deno"
    },
    "language_info": {
      "file_extension": ".ts",
      "mimetype": "text/x.typescript",
      "name": "typescript",
      "nb_converter": "script",
      "pygments_lexer": "typescript",
      "version": "5.3.3"
    }
  },
  "nbformat": 4,
  "nbformat_minor": 5
}