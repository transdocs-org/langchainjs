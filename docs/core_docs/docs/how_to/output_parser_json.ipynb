{
  "cells": [
    {
      "cell_type": "markdown",
      "id": "72b1b316",
      "metadata": {},
      "source": [
        "# 如何解析JSON输出\n",
        "\n",
        "虽然一些模型提供商支持[返回结构化输出的内置方法](/docs/how_to/structured_output)，但并非全部都支持。我们可以使用输出解析器来帮助用户通过提示指定任意的JSON模式，查询符合该模式的模型输出，最后将该模式解析为JSON。\n",
        "\n",
        ":::{.callout-note}\n",
        "请注意，大语言模型是存在泄漏的抽象！您需要使用具有足够能力的LLM来生成格式良好的JSON。\n",
        ":::\n",
        "\n",
        ":::info 前提条件\n",
        "\n",
        "本指南假定您已熟悉以下概念：\n",
        "\n",
        "- [聊天模型](/docs/concepts/chat_models)\n",
        "- [输出解析器](/docs/concepts/output_parsers)\n",
        "- [提示模板](/docs/concepts/prompt_templates)\n",
        "- [结构化输出](/docs/how_to/structured_output)\n",
        "- [将可运行对象串联在一起](/docs/how_to/sequence/)\n",
        "\n",
        ":::"
      ]
    },
    {
      "cell_type": "markdown",
      "id": "ae909b7a",
      "metadata": {},
      "source": [
        "[`JsonOutputParser`](https://api.js.langchain.com/classes/langchain_core.output_parsers.JsonOutputParser.html) 是一个内建选项，用于提示并解析 JSON 输出。"
      ]
    },
    {
      "cell_type": "markdown",
      "id": "6c667607",
      "metadata": {},
      "source": [
        "```{=mdx}\n",
        "import ChatModelTabs from \"@theme/ChatModelTabs\";\n",
        "\n",
        "<ChatModelTabs />\n",
        "```"
      ]
    },
    {
      "cell_type": "code",
      "execution_count": 2,
      "id": "4ccf45a3",
      "metadata": {},
      "outputs": [
        {
          "data": {
            "text/plain": [
              "{\n",
              "  setup: \u001b[32m\"Why don't scientists trust atoms?\"\u001b[39m,\n",
              "  punchline: \u001b[32m\"Because they make up everything!\"\u001b[39m\n",
              "}"
            ]
          },
          "execution_count": 2,
          "metadata": {},
          "output_type": "execute_result"
        }
      ],
      "source": [
        "import { ChatOpenAI } from \"@langchain/openai\";\n",
        "const model = new ChatOpenAI({\n",
        "  model: \"gpt-4o\",\n",
        "  temperature: 0,\n",
        "})\n",
        "\n",
        "import { JsonOutputParser } from \"@langchain/core/output_parsers\"\n",
        "import { ChatPromptTemplate } from \"@langchain/core/prompts\"\n",
        "\n",
        "// Define your desired data structure. Only used for typing the parser output.\n",
        "interface Joke {\n",
        "  setup: string\n",
        "  punchline: string\n",
        "}\n",
        "\n",
        "// A query and format instructions used to prompt a language model.\n",
        "const jokeQuery = \"Tell me a joke.\";\n",
        "const formatInstructions = \"Respond with a valid JSON object, containing two fields: 'setup' and 'punchline'.\"\n",
        "\n",
        "// Set up a parser + inject instructions into the prompt template.\n",
        "const parser = new JsonOutputParser<Joke>()\n",
        "\n",
        "const prompt = ChatPromptTemplate.fromTemplate(\n",
        "  \"Answer the user query.\\n{format_instructions}\\n{query}\\n\"\n",
        ");\n",
        "\n",
        "const partialedPrompt = await prompt.partial({\n",
        "  format_instructions: formatInstructions\n",
        "});\n",
        "\n",
        "const chain = partialedPrompt.pipe(model).pipe(parser);\n",
        "\n",
        "await chain.invoke({ query: jokeQuery });"
      ]
    },
    {
      "cell_type": "markdown",
      "id": "37d801be",
      "metadata": {},
      "source": [
        "## 流式处理\n",
        "\n",
        "`JsonOutputParser` 还支持流式传输部分数据块。当模型以多个数据块的形式返回部分 JSON 输出时，这会非常有用。解析器会跟踪这些部分数据块，并在模型完成输出生成时返回最终的 JSON 输出。"
      ]
    },
    {
      "cell_type": "code",
      "execution_count": 3,
      "id": "0309256d",
      "metadata": {},
      "outputs": [
        {
          "name": "stdout",
          "output_type": "stream",
          "text": [
            "{}\n",
            "{ setup: \"\" }\n",
            "{ setup: \"Why\" }\n",
            "{ setup: \"Why don't\" }\n",
            "{ setup: \"Why don't scientists\" }\n",
            "{ setup: \"Why don't scientists trust\" }\n",
            "{ setup: \"Why don't scientists trust atoms\" }\n",
            "{ setup: \"Why don't scientists trust atoms?\", punchline: \"\" }\n",
            "{ setup: \"Why don't scientists trust atoms?\", punchline: \"Because\" }\n",
            "{\n",
            "  setup: \"Why don't scientists trust atoms?\",\n",
            "  punchline: \"Because they\"\n",
            "}\n",
            "{\n",
            "  setup: \"Why don't scientists trust atoms?\",\n",
            "  punchline: \"Because they make\"\n",
            "}\n",
            "{\n",
            "  setup: \"Why don't scientists trust atoms?\",\n",
            "  punchline: \"Because they make up\"\n",
            "}\n",
            "{\n",
            "  setup: \"Why don't scientists trust atoms?\",\n",
            "  punchline: \"Because they make up everything\"\n",
            "}\n",
            "{\n",
            "  setup: \"Why don't scientists trust atoms?\",\n",
            "  punchline: \"Because they make up everything!\"\n",
            "}\n"
          ]
        }
      ],
      "source": [
        "for await (const s of await chain.stream({ query: jokeQuery })) {\n",
        "    console.log(s)\n",
        "}"
      ]
    },
    {
      "cell_type": "markdown",
      "id": "1eefe12b",
      "metadata": {},
      "source": [
        "## 下一步",
        "\n",
        "你现在已了解了一种提示模型返回结构化JSON的方法。接下来，请查看关于获取结构化输出的[更全面指南](/docs/how_to/structured_output)，了解其他技术。"
      ]
    }
  ],
  "metadata": {
    "kernelspec": {
      "display_name": "Deno",
      "language": "typescript",
      "name": "deno"
    },
    "language_info": {
      "file_extension": ".ts",
      "mimetype": "text/x.typescript",
      "name": "typescript",
      "nb_converter": "script",
      "pygments_lexer": "typescript",
      "version": "5.3.3"
    }
  },
  "nbformat": 4,
  "nbformat_minor": 5
}