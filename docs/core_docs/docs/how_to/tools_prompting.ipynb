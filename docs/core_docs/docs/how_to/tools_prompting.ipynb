{
  "cells": [
    {
      "cell_type": "raw",
      "id": "3243cb05-8243-421f-99fa-98201abb3094",
      "metadata": {},
      "source": [
        "---\n",
        "sidebar_position: 3\n",
        "---"
      ]
    },
    {
      "cell_type": "markdown",
      "id": "14b94240",
      "metadata": {},
      "source": [
        "# 如何为大型语言模型（LLMs）和聊天模型添加临时工具调用功能\n",
        "\n",
        ":::info 前提条件\n",
        "\n",
        "本指南假定您已经熟悉以下概念：\n",
        "\n",
        "- [LangChain 表达式语言 (LCEL)](/docs/concepts/lcel)\n",
        "- [链式执行可运行对象](/docs/how_to/sequence/)\n",
        "- [工具调用](/docs/how_to/tool_calling/)\n",
        "\n",
        ":::\n",
        "\n",
        "在本指南中，我们将构建一个链（Chain），它不依赖任何特殊的模型 API（例如工具调用，我们在[快速入门](/docs/how_to/tool_calling/)中展示过），而是直接通过提示词引导模型调用工具。"
      ]
    },
    {
      "cell_type": "markdown",
      "id": "a0a22cb8-19e7-450a-9d1b-6848d2c81cd1",
      "metadata": {},
      "source": [
        "## 环境配置\n",
        "\n",
        "我们需要安装以下包：\n",
        "\n",
        "```{=mdx}\n",
        "import Npm2Yarn from '@theme/Npm2Yarn';\n",
        "\n",
        "<Npm2Yarn>\n",
        "  @langchain/core zod\n",
        "</Npm2Yarn>\n",
        "```\n",
        "\n",
        "#### 设置环境变量\n",
        "\n",
        "```\n",
        "# 可选，使用 LangSmith 获得最佳可观测性体验\n",
        "LANGSMITH_API_KEY=your-api-key\n",
        "LANGSMITH_TRACING=true\n",
        "\n",
        "# 如果你不在无服务器环境中运行，可减少追踪延迟\n",
        "# LANGCHAIN_CALLBACKS_BACKGROUND=true\n",
        "```"
      ]
    },
    {
      "cell_type": "markdown",
      "id": "68946881",
      "metadata": {},
      "source": [
        "## 创建一个工具\n",
        "\n",
        "首先，我们需要创建一个可供调用的工具。在本示例中，我们将从一个函数创建一个自定义工具。有关创建自定义工具的所有详细信息，请参阅[此指南](/docs/how_to/custom_tools)。"
      ]
    },
    {
      "cell_type": "code",
      "execution_count": 13,
      "id": "90187d07",
      "metadata": {},
      "outputs": [],
      "source": [
        "import { tool } from \"@langchain/core/tools\";\n",
        "import { z } from \"zod\";\n",
        "\n",
        "const multiplyTool = tool((input) => {\n",
        "    return (input.first_int * input.second_int).toString()\n",
        "}, {\n",
        "    name: \"multiply\",\n",
        "    description: \"Multiply two integers together.\",\n",
        "    schema: z.object({\n",
        "        first_int: z.number(),\n",
        "        second_int: z.number(),\n",
        "    })\n",
        "})\n"
      ]
    },
    {
      "cell_type": "code",
      "execution_count": 14,
      "id": "d7009e1a",
      "metadata": {},
      "outputs": [
        {
          "name": "stdout",
          "output_type": "stream",
          "text": [
            "multiply\n",
            "Multiply two integers together.\n"
          ]
        }
      ],
      "source": [
        "console.log(multiplyTool.name)\n",
        "console.log(multiplyTool.description)"
      ]
    },
    {
      "cell_type": "code",
      "execution_count": 15,
      "id": "be77e780",
      "metadata": {},
      "outputs": [
        {
          "name": "stdout",
          "output_type": "stream",
          "text": [
            "20\n"
          ]
        }
      ],
      "source": [
        "await multiplyTool.invoke({ first_int: 4, second_int: 5 })"
      ]
    },
    {
      "cell_type": "markdown",
      "id": "15dd690e-e54d-4209-91a4-181f69a452ac",
      "metadata": {},
      "source": [
        "## 创建我们的提示词\n",
        "\n",
        "我们需要编写一个提示词，指定模型可以访问的工具、这些工具的参数以及模型的期望输出格式。在这种情况下，我们会指示模型输出一个形式为 `{\"name\": \"...\", \"arguments\": {...}}` 的 JSON 数据块。\n",
        "\n",
        "```{=mdx}\n",
        ":::提示\n",
        "从 `langchain` 版本 `0.2.8` 开始，`renderTextDescription` 函数现在支持 [OpenAI 格式的工具](https://api.js.langchain.com/interfaces/langchain_core.language_models_base.ToolDefinition.html)。\n",
        ":::\n",
        "```"
      ]
    },
    {
      "cell_type": "code",
      "execution_count": 16,
      "id": "c64818f0-9364-423c-922e-bdfb8f01e726",
      "metadata": {},
      "outputs": [],
      "source": [
        "import { renderTextDescription } from \"langchain/tools/render\";\n",
        "\n",
        "const renderedTools = renderTextDescription([multiplyTool])"
      ]
    },
    {
      "cell_type": "code",
      "execution_count": 17,
      "id": "63552d4d-8bd6-4aca-8805-56e236f6552d",
      "metadata": {},
      "outputs": [],
      "source": [
        "import { ChatPromptTemplate } from \"@langchain/core/prompts\";\n",
        "\n",
        "const systemPrompt = `You are an assistant that has access to the following set of tools. Here are the names and descriptions for each tool:\n",
        "\n",
        "{rendered_tools}\n",
        "\n",
        "Given the user input, return the name and input of the tool to use. Return your response as a JSON blob with 'name' and 'arguments' keys.`;\n",
        "\n",
        "const prompt = ChatPromptTemplate.fromMessages(\n",
        "    [[\"system\", systemPrompt], [\"user\", \"{input}\"]]\n",
        ")"
      ]
    },
    {
      "cell_type": "markdown",
      "id": "14df2cd5-b6fa-4b10-892d-e8692c7931e5",
      "metadata": {},
      "source": [
        "## 添加输出解析器\n",
        "\n",
        "我们将使用 `JsonOutputParser` 来将模型的输出解析为 JSON 格式。\n",
        "\n",
        "```{=mdx}\n",
        "import ChatModelTabs from '@theme/ChatModelTabs';\n",
        "\n",
        "<ChatModelTabs />\n",
        "```"
      ]
    },
    {
      "cell_type": "code",
      "execution_count": 18,
      "id": "f129f5bd-127c-4c95-8f34-8f437da7ca8f",
      "metadata": {},
      "outputs": [
        {
          "name": "stdout",
          "output_type": "stream",
          "text": [
            "{ name: 'multiply', arguments: [ 13, 4 ] }\n"
          ]
        }
      ],
      "source": [
        "import { JsonOutputParser } from \"@langchain/core/output_parsers\";\n",
        "const chain = prompt.pipe(model).pipe(new JsonOutputParser())\n",
        "await chain.invoke({ input: \"what's thirteen times 4\", rendered_tools: renderedTools })"
      ]
    },
    {
      "cell_type": "markdown",
      "id": "8e29dd4c-8eb5-457f-92d1-8add076404dc",
      "metadata": {},
      "source": [
        "## 调用工具\n",
        "\n",
        "我们可以通过将模型生成的“参数”传递给该工具，从而在链式调用中使用它："
      ]
    },
    {
      "cell_type": "code",
      "execution_count": 19,
      "id": "0555b384-fde6-4404-86e0-7ea199003d58",
      "metadata": {},
      "outputs": [
        {
          "name": "stdout",
          "output_type": "stream",
          "text": [
            "52\n"
          ]
        }
      ],
      "source": [
        "import { RunnableLambda, RunnablePick } from \"@langchain/core/runnables\"\n",
        "\n",
        "const chain = prompt.pipe(model).pipe(new JsonOutputParser()).pipe(new RunnablePick(\"arguments\")).pipe(new RunnableLambda({ func: (input) => multiplyTool.invoke({\n",
        "  first_int: input[0],\n",
        "  second_int: input[1]\n",
        "}) }))\n",
        "await chain.invoke({ input: \"what's thirteen times 4\", rendered_tools: renderedTools })"
      ]
    },
    {
      "cell_type": "markdown",
      "id": "8d60b2cb-6ce0-48fc-8d18-d2337161a53d",
      "metadata": {},
      "source": [
        "## 从多个工具中选择\n",
        "\n",
        "假设我们有多个工具，希望链能够从中进行选择："
      ]
    },
    {
      "cell_type": "code",
      "execution_count": 20,
      "id": "95c86d32-ee45-4c87-a28c-14eff19b49e9",
      "metadata": {},
      "outputs": [],
      "source": [
        "const addTool = tool((input) => {\n",
        "    return (input.first_int + input.second_int).toString()\n",
        "}, {\n",
        "    name: \"add\",\n",
        "    description: \"Add two integers together.\",\n",
        "    schema: z.object({\n",
        "        first_int: z.number(),\n",
        "        second_int: z.number(),\n",
        "    }),\n",
        "});\n",
        "\n",
        "const exponentiateTool = tool((input) => {\n",
        "    return Math.pow(input.first_int, input.second_int).toString()\n",
        "}, {\n",
        "    name: \"exponentiate\",\n",
        "    description: \"Exponentiate the base to the exponent power.\",\n",
        "    schema: z.object({\n",
        "        first_int: z.number(),\n",
        "        second_int: z.number(),\n",
        "    }),\n",
        "});\n",
        "\n"
      ]
    },
    {
      "cell_type": "markdown",
      "id": "748405ff-4c85-4bd7-82e1-30458b5a4106",
      "metadata": {},
      "source": [
        "通过调用函数，我们可以这样实现："
      ]
    },
    {
      "cell_type": "markdown",
      "id": "eb3aa89e-40e1-45ec-b1f3-ab28cfc8e42d",
      "metadata": {},
      "source": [
        "如果我们想要运行所选模型工具，我们可以通过一个函数来实现，该函数根据模型输出返回对应的工具。具体来说，我们的函数将返回一个子链，用来获取模型输出中的 \"arguments\" 部分，并将其传递给选定的工具："
      ]
    },
    {
      "cell_type": "code",
      "execution_count": 21,
      "id": "db254773-5b8e-43d0-aabe-c21566c154cd",
      "metadata": {},
      "outputs": [
        {
          "name": "stdout",
          "output_type": "stream",
          "text": [
            "1135\n"
          ]
        }
      ],
      "source": [
        "import { StructuredToolInterface } from \"@langchain/core/tools\"\n",
        "\n",
        "const tools = [addTool, exponentiateTool, multiplyTool]\n",
        "\n",
        "const toolChain = (modelOutput) => {\n",
        "    const toolMap: Record<string, StructuredToolInterface> = Object.fromEntries(tools.map(tool => [tool.name, tool]))\n",
        "    const chosenTool = toolMap[modelOutput.name]\n",
        "    return new RunnablePick(\"arguments\").pipe(new RunnableLambda({ func: (input) => chosenTool.invoke({\n",
        "        first_int: input[0],\n",
        "        second_int: input[1]\n",
        "      }) }))\n",
        "}\n",
        "const toolChainRunnable = new RunnableLambda({\n",
        "  func: toolChain\n",
        "})\n",
        "\n",
        "const renderedTools = renderTextDescription(tools)\n",
        "const systemPrompt = `You are an assistant that has access to the following set of tools. Here are the names and descriptions for each tool:\n",
        "\n",
        "{rendered_tools}\n",
        "\n",
        "Given the user input, return the name and input of the tool to use. Return your response as a JSON blob with 'name' and 'arguments' keys.`\n",
        "\n",
        "const prompt = ChatPromptTemplate.fromMessages(\n",
        "    [[\"system\", systemPrompt], [\"user\", \"{input}\"]]\n",
        ")\n",
        "const chain = prompt.pipe(model).pipe(new JsonOutputParser()).pipe(toolChainRunnable)\n",
        "await chain.invoke({ input: \"what's 3 plus 1132\", rendered_tools: renderedTools })"
      ]
    },
    {
      "cell_type": "markdown",
      "id": "b4a9c5aa-f60a-4017-af6f-1ff6e04bfb61",
      "metadata": {},
      "source": [
        "## 返回工具输入\n",
        "\n",
        "返回工具输出的同时也返回工具输入可能会很有帮助。我们可以通过 `RunnablePassthrough.assign` 工具输出轻松实现这一点。这将获取传递给 RunnablePassthrough 组件的任何输入（假设为字典类型），并在仍然传递当前输入中所有内容的同时，向其添加一个键："
      ]
    },
    {
      "cell_type": "code",
      "execution_count": 22,
      "id": "45404406-859d-4caa-8b9d-5838162c80a0",
      "metadata": {},
      "outputs": [
        {
          "name": "stdout",
          "output_type": "stream",
          "text": [
            "{ name: 'add', arguments: [ 3, 1132 ], output: '1135' }\n"
          ]
        }
      ],
      "source": [
        "import { RunnablePassthrough } from \"@langchain/core/runnables\"\n",
        "\n",
        "const chain = prompt.pipe(model).pipe(new JsonOutputParser()).pipe(RunnablePassthrough.assign({ output: toolChainRunnable }))\n",
        "await chain.invoke({ input: \"what's 3 plus 1132\", rendered_tools: renderedTools })\n"
      ]
    },
    {
      "cell_type": "markdown",
      "id": "775252dc",
      "metadata": {},
      "source": [
        "## 接下来是什么？\n",
        "\n",
        "本操作指南展示了当模型正确输出所有所需工具信息时的\"理想路径\"。\n",
        "\n",
        "实际上，如果你使用更复杂的工具，你将开始遇到模型返回的错误，特别是对于那些未经过工具调用微调的模型以及能力较弱的模型。\n",
        "\n",
        "你需要准备添加一些策略来改进模型的输出；例如：\n",
        "\n",
        "- 提供少量示例（few shot examples）。\n",
        "- 添加错误处理机制（例如，捕获异常并将其反馈给LLM，要求它修正之前的输出）。"
      ]
    }
  ],
  "metadata": {
    "kernelspec": {
      "display_name": "TypeScript",
      "language": "typescript",
      "name": "tslab"
    },
    "language_info": {
      "codemirror_mode": {
        "mode": "typescript",
        "name": "javascript",
        "typescript": true
      },
      "file_extension": ".ts",
      "mimetype": "text/typescript",
      "name": "typescript",
      "version": "3.7.2"
    }
  },
  "nbformat": 4,
  "nbformat_minor": 5
}