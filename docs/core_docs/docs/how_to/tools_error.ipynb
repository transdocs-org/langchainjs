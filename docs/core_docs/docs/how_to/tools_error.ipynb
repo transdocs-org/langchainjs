{
  "cells": [
    {
      "cell_type": "markdown",
      "id": "5d60cbb9-2a6a-43ea-a9e9-f67b16ddd2b2",
      "metadata": {},
      "source": [
        "# 如何处理工具错误\n",
        "\n",
        "```{=mdx}\n",
        ":::info 预备知识\n",
        "\n",
        "本指南假定您熟悉以下概念：\n",
        "- [聊天模型](/docs/concepts/chat_models)\n",
        "- [LangChain 工具](/docs/concepts/tools)\n",
        "- [如何使用模型调用工具](/docs/how_to/tool_calling)\n",
        "\n",
        ":::\n",
        "```\n",
        "\n",
        "使用 LLM 调用工具并不完美。模型可能会尝试调用不存在的工具，或者未能返回符合请求模式的参数。诸如保持模式简单、减少一次传递的工具数量、以及使用良好的名称和描述等策略可以降低这种风险，但并不能完全避免。\n",
        "\n",
        "本指南介绍了一些在链中构建错误处理以减轻这些故障模式的方法。"
      ]
    },
    {
      "cell_type": "markdown",
      "id": "0a50f93a-5d6f-4691-8f98-27239a1c2f95",
      "metadata": {},
      "source": [
        "## 链式结构\n",
        "\n",
        "假设我们有以下（示例）工具及工具调用链。我们将故意设计复杂的工具逻辑，以测试模型的应对能力。"
      ]
    },
    {
      "cell_type": "code",
      "execution_count": 1,
      "id": "1d20604e-c4d1-4d21-841b-23e4f61aec36",
      "metadata": {},
      "outputs": [],
      "source": [
        "import { z } from \"zod\";\n",
        "import { ChatOpenAI } from \"@langchain/openai\";\n",
        "import { tool } from \"@langchain/core/tools\";\n",
        "\n",
        "const llm = new ChatOpenAI({\n",
        "  model: \"gpt-3.5-turbo-0125\",\n",
        "  temperature: 0,\n",
        "});\n",
        "\n",
        "const complexTool = tool(async (params) => {\n",
        "  return params.int_arg * params.float_arg;\n",
        "}, {\n",
        "  name: \"complex_tool\",\n",
        "  description: \"Do something complex with a complex tool.\",\n",
        "  schema: z.object({\n",
        "    int_arg: z.number(),\n",
        "    float_arg: z.number(),\n",
        "    number_arg: z.object({}),\n",
        "  })\n",
        "});\n",
        "\n",
        "const llmWithTools = llm.bindTools([complexTool]);\n",
        "\n",
        "const chain = llmWithTools\n",
        "  .pipe((message) => message.tool_calls?.[0].args)\n",
        "  .pipe(complexTool);"
      ]
    },
    {
      "cell_type": "markdown",
      "id": "c34f005e-63f0-4841-9461-ca36c36607fc",
      "metadata": {},
      "source": [
        "我们可以看到，当尝试调用此链时，模型无法正确调用工具："
      ]
    },
    {
      "cell_type": "code",
      "execution_count": 2,
      "id": "d354664c-ac44-4967-a35f-8912b3ad9477",
      "metadata": {},
      "outputs": [
        {
          "ename": "Error",
          "evalue": "Received tool input did not match expected schema",
          "output_type": "error",
          "traceback": [
            "Stack trace:",
            "Error: Received tool input did not match expected schema",
            "    at DynamicStructuredTool.call (file:///Users/jacoblee/Library/Caches/deno/npm/registry.npmjs.org/@langchain/core/0.2.16/dist/tools/index.js:100:19)",
            "    at eventLoopTick (ext:core/01_core.js:63:7)",
            "    at async RunnableSequence.invoke (file:///Users/jacoblee/Library/Caches/deno/npm/registry.npmjs.org/@langchain/core/0.2.16_1/dist/runnables/base.js:1139:27)",
            "    at async <anonymous>:1:22"
          ]
        }
      ],
      "source": [
        "await chain.invoke(\n",
        "  \"use complex tool. the args are 5, 2.1, potato\"\n",
        ");"
      ]
    },
    {
      "cell_type": "markdown",
      "id": "890d989d-2d39-4571-9a55-d3496b9b5d27",
      "metadata": {},
      "source": [
        "## Try/except 工具调用\n",
        "\n",
        "更优雅地处理错误的最简单方法是尝试/捕获工具调用步骤，并在出错时返回有用的提示信息："
      ]
    },
    {
      "cell_type": "code",
      "execution_count": 3,
      "id": "8fedb550-683d-45ae-8876-ae7acb332019",
      "metadata": {},
      "outputs": [
        {
          "name": "stdout",
          "output_type": "stream",
          "text": [
            "Calling tool with arguments:\n",
            "\n",
            "{\"int_arg\":5,\"float_arg\":2.1,\"number_arg\":\"potato\"}\n",
            "\n",
            "raised the following error:\n",
            "\n",
            "Error: Received tool input did not match expected schema\n"
          ]
        }
      ],
      "source": [
        "const tryExceptToolWrapper = async (input, config) => {\n",
        "  try {\n",
        "    const result = await complexTool.invoke(input);\n",
        "    return result;\n",
        "  } catch (e) {\n",
        "    return `Calling tool with arguments:\\n\\n${JSON.stringify(input)}\\n\\nraised the following error:\\n\\n${e}`\n",
        "  }\n",
        "}\n",
        "\n",
        "const chainWithTools = llmWithTools\n",
        "  .pipe((message) => message.tool_calls?.[0].args)\n",
        "  .pipe(tryExceptToolWrapper);\n",
        "\n",
        "const res = await chainWithTools.invoke(\"use complex tool. the args are 5, 2.1, potato\");\n",
        "\n",
        "console.log(res);"
      ]
    },
    {
      "cell_type": "markdown",
      "id": "3b2f6393-cb47-49d0-921c-09550a049fe4",
      "metadata": {},
      "source": [
        "## 回退机制\n",
        "\n",
        "在工具调用出错的情况下，我们还可以尝试回退到一个更好的模型。在这种情况下，我们将回退到一个相同的链，不过它使用的是 `gpt-4-1106-preview` 而不是 `gpt-3.5-turbo`。"
      ]
    },
    {
      "cell_type": "code",
      "execution_count": 4,
      "id": "02cc4223-35fa-4240-976a-012299ca703c",
      "metadata": {},
      "outputs": [
        {
          "data": {
            "text/plain": [
              "\u001b[33m10.5\u001b[39m"
            ]
          },
          "execution_count": 4,
          "metadata": {},
          "output_type": "execute_result"
        }
      ],
      "source": [
        "const badChain = llmWithTools\n",
        "  .pipe((message) => message.tool_calls?.[0].args)\n",
        "  .pipe(complexTool);\n",
        "\n",
        "const betterModel = new ChatOpenAI({\n",
        "  model: \"gpt-4-1106-preview\",\n",
        "  temperature: 0,\n",
        "}).bindTools([complexTool]);\n",
        "\n",
        "const betterChain = betterModel\n",
        "  .pipe((message) => message.tool_calls?.[0].args)\n",
        "  .pipe(complexTool);\n",
        "\n",
        "const chainWithFallback = badChain.withFallbacks([betterChain]);\n",
        "\n",
        "await chainWithFallback.invoke(\"use complex tool. the args are 5, 2.1, potato\");"
      ]
    },
    {
      "cell_type": "markdown",
      "id": "412f8c4e-cc83-4d87-84a1-5ba2f8edb1e9",
      "metadata": {},
      "source": [
        "查看此链运行的 [LangSmith 跟踪](https://smith.langchain.com/public/ea31e7ca-4abc-48e3-9943-700100c86622/r)，我们可以看到第一个链调用按预期失败，而备用链调用成功。"
      ]
    },
    {
      "cell_type": "markdown",
      "id": "6b97af9f",
      "metadata": {},
      "source": [
        "## 下一步\n",
        "\n",
        "现在你已经了解了一些处理工具调用错误的策略。接下来，你可以学习更多关于如何使用工具的内容：\n",
        "\n",
        "- 使用工具的[少量示例提示](/docs/how_to/tool_calling#few-shotting-with-tools)\n",
        "- 流式传输[工具调用](/docs/how_to/tool_streaming/)\n",
        "- 将[运行时值传递给工具](/docs/how_to/tool_runtime)\n",
        "\n",
        "你还可以查看一些更具体的工具调用用例：\n",
        "\n",
        "- 从模型中获取[结构化输出](/docs/how_to/structured_output/)"
      ]
    }
  ],
  "metadata": {
    "kernelspec": {
      "display_name": "Deno",
      "language": "typescript",
      "name": "deno"
    },
    "language_info": {
      "file_extension": ".ts",
      "mimetype": "text/x.typescript",
      "name": "typescript",
      "nb_converter": "script",
      "pygments_lexer": "typescript",
      "version": "5.3.3"
    }
  },
  "nbformat": 4,
  "nbformat_minor": 5
}