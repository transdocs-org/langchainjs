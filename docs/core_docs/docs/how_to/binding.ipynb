{
  "cells": [
    {
      "cell_type": "raw",
      "id": "fe63ffaf",
      "metadata": {},
      "source": [
        "---\n",
        "keywords: [RunnableBinding, LCEL]\n",
        "---"
      ]
    },
    {
      "cell_type": "markdown",
      "id": "711752cb-4f15-42a3-9838-a0c67f397771",
      "metadata": {},
      "source": [
        "# 如何将运行时配置附加到一个 Runnable 上\n",
        "\n",
        ":::info 预备知识\n",
        "\n",
        "本指南假定您已经熟悉以下概念：\n",
        "\n",
        "- [LangChain 表达式语言 (LCEL)](/docs/concepts/lcel)\n",
        "- [链式调用可运行对象（Runnable）](/docs/how_to/sequence/)\n",
        "- [工具调用](/docs/how_to/tool_calling/)\n",
        "\n",
        ":::\n",
        "\n",
        "有时我们想要使用预定义的配置来调用一个 [`Runnable`](https://api.js.langchain.com/classes/langchain_core.runnables.Runnable.html)，而无需调用方指定这些配置。我们可以使用 [`Runnable.withConfig()`](https://api.js.langchain.com/classes/langchain_core.runnables.Runnable.html#withConfig) 方法提前设置这些参数。\n",
        "\n",
        "## 绑定停止序列\n",
        "\n",
        "假设我们有一个简单的提示词 + 模型链：\n",
        "\n",
        "```{=mdx}\n",
        "import IntegrationInstallTooltip from \"@mdx_components/integration_install_tooltip.mdx\";\n",
        "import Npm2Yarn from \"@theme/Npm2Yarn\";\n",
        "\n",
        "<IntegrationInstallTooltip></IntegrationInstallTooltip>\n",
        "\n",
        "<Npm2Yarn>\n",
        "  @langchain/openai @langchain/core\n",
        "</Npm2Yarn>\n",
        "```"
      ]
    },
    {
      "cell_type": "code",
      "execution_count": 1,
      "id": "f3fdf86d-155f-4587-b7cd-52d363970c1d",
      "metadata": {},
      "outputs": [
        {
          "name": "stdout",
          "output_type": "stream",
          "text": [
            "EQUATION: x^3 + 7 = 12\n",
            "\n",
            "SOLUTION: \n",
            "Subtract 7 from both sides:\n",
            "x^3 = 5\n",
            "\n",
            "Take the cube root of both sides:\n",
            "x = ∛5\n"
          ]
        }
      ],
      "source": [
        "import { StringOutputParser } from \"@langchain/core/output_parsers\";\n",
        "import { ChatPromptTemplate } from \"@langchain/core/prompts\";\n",
        "import { ChatOpenAI } from \"@langchain/openai\";\n",
        "\n",
        "const prompt = ChatPromptTemplate.fromMessages(\n",
        "    [\n",
        "        [\n",
        "            \"system\",\n",
        "            \"Write out the following equation using algebraic symbols then solve it. Use the format\\n\\nEQUATION:...\\nSOLUTION:...\\n\\n\",\n",
        "        ],\n",
        "        [\"human\", \"{equation_statement}\"],\n",
        "    ]\n",
        ")\n",
        "\n",
        "const model = new ChatOpenAI({ model: \"gpt-4o\", temperature: 0 });\n",
        "\n",
        "const runnable = prompt.pipe(model).pipe(new StringOutputParser());\n",
        "\n",
        "const res = await runnable.invoke({\n",
        "  equation_statement: \"x raised to the third plus seven equals 12\"\n",
        "});\n",
        "\n",
        "console.log(res);"
      ]
    },
    {
      "cell_type": "markdown",
      "id": "929c9aba-a4a0-462c-adac-2cfc2156e117",
      "metadata": {},
      "source": [
        "在某些提示技术中，设置一个或多个`stop`（停止）词可能会很有用，当模型生成这些词时将停止生成。在直接使用模型时，我们通过传递给`invoke`的额外`options`参数来设置`stop`词。例如，如果我们想将前面的例子修改为方程格式化工具该怎么办？我们可以指示生成过程在遇到单词`SOLUTION`时停止，这样输出的结果就只会是格式化后的方程。\n",
        "\n",
        "在这种情况下，我们将模型作为[RunnableSequence](https://api.js.langchain.com/classes/langchain_core.runnables.RunnableSequence.html)的一部分使用。我们无需依赖前面的步骤输出包含停止词的配置，而可以在创建`RunnableSequence`时使用`withConfig`直接绑定所需的配置："
      ]
    },
    {
      "cell_type": "code",
      "execution_count": 2,
      "id": "32e0484a-78c5-4570-a00b-20d597245a96",
      "metadata": {},
      "outputs": [
        {
          "name": "stdout",
          "output_type": "stream",
          "text": [
            "EQUATION: x^3 + 7 = 12\n",
            "\n",
            "\n"
          ]
        }
      ],
      "source": [
        "// stop generating after the equation is written\n",
        "const equationFormatter = prompt\n",
        "  .pipe(model.withConfig({ stop: [\"SOLUTION\"] }))\n",
        "  .pipe(new StringOutputParser());\n",
        "\n",
        "// generate only the equation, without needing to set the stop word\n",
        "const formattedEquation = await equationFormatter.invoke({\n",
        "  equation_statement: \"x raised to the third plus seven equals 12\"\n",
        "});\n",
        "\n",
        "console.log(formattedEquation);"
      ]
    },
    {
      "cell_type": "markdown",
      "id": "f07d7528-9269-4d6f-b12e-3669592a9e03",
      "metadata": {},
      "source": [
        "这使得生成的 `Runnable` 管道更易于使用。调用者无需了解所使用的具体提示格式，也无需在调用时指定停止词。他们只需运行自己的查询，就能获得预期的结果。\n",
        "\n",
        "## 附加 OpenAI 工具\n",
        "\n",
        "另一个常见的用例是工具调用。虽然对于支持工具调用的模型，你通常应该使用 [`bindTools()`](/docs/how_to/tool_calling/) 方法，但如果你需要更底层的控制，也可以直接绑定特定于提供者的参数："
      ]
    },
    {
      "cell_type": "code",
      "execution_count": 3,
      "id": "2cdeeb4c-0c1f-43da-bd58-4f591d9e0671",
      "metadata": {},
      "outputs": [
        {
          "name": "stdout",
          "output_type": "stream",
          "text": [
            "AIMessage {\n",
            "  \"id\": \"chatcmpl-BXjkosti03tvSmaxAuYtpRvbEkhRx\",\n",
            "  \"content\": \"\",\n",
            "  \"additional_kwargs\": {\n",
            "    \"tool_calls\": [\n",
            "      {\n",
            "        \"id\": \"call_a15PVBt9g3eCHULn7DBRbL9a\",\n",
            "        \"type\": \"function\",\n",
            "        \"function\": \"[Object]\"\n",
            "      },\n",
            "      {\n",
            "        \"id\": \"call_bQrHLyJ6fAaNkEPNBtgYfIFb\",\n",
            "        \"type\": \"function\",\n",
            "        \"function\": \"[Object]\"\n",
            "      },\n",
            "      {\n",
            "        \"id\": \"call_FxRswXKWou53G0LNQQCvPod4\",\n",
            "        \"type\": \"function\",\n",
            "        \"function\": \"[Object]\"\n",
            "      }\n",
            "    ]\n",
            "  },\n",
            "  \"response_metadata\": {\n",
            "    \"tokenUsage\": {\n",
            "      \"promptTokens\": 82,\n",
            "      \"completionTokens\": 71,\n",
            "      \"totalTokens\": 153\n",
            "    },\n",
            "    \"finish_reason\": \"tool_calls\",\n",
            "    \"model_name\": \"gpt-4o-2024-08-06\",\n",
            "    \"usage\": {\n",
            "      \"prompt_tokens\": 82,\n",
            "      \"completion_tokens\": 71,\n",
            "      \"total_tokens\": 153,\n",
            "      \"prompt_tokens_details\": {\n",
            "        \"cached_tokens\": 0,\n",
            "        \"audio_tokens\": 0\n",
            "      },\n",
            "      \"completion_tokens_details\": {\n",
            "        \"reasoning_tokens\": 0,\n",
            "        \"audio_tokens\": 0,\n",
            "        \"accepted_prediction_tokens\": 0,\n",
            "        \"rejected_prediction_tokens\": 0\n",
            "      }\n",
            "    },\n",
            "    \"system_fingerprint\": \"fp_90122d973c\"\n",
            "  },\n",
            "  \"tool_calls\": [\n",
            "    {\n",
            "      \"name\": \"get_current_weather\",\n",
            "      \"args\": {\n",
            "        \"location\": \"San Francisco, CA\"\n",
            "      },\n",
            "      \"type\": \"tool_call\",\n",
            "      \"id\": \"call_a15PVBt9g3eCHULn7DBRbL9a\"\n",
            "    },\n",
            "    {\n",
            "      \"name\": \"get_current_weather\",\n",
            "      \"args\": {\n",
            "        \"location\": \"New York, NY\"\n",
            "      },\n",
            "      \"type\": \"tool_call\",\n",
            "      \"id\": \"call_bQrHLyJ6fAaNkEPNBtgYfIFb\"\n",
            "    },\n",
            "    {\n",
            "      \"name\": \"get_current_weather\",\n",
            "      \"args\": {\n",
            "        \"location\": \"Los Angeles, CA\"\n",
            "      },\n",
            "      \"type\": \"tool_call\",\n",
            "      \"id\": \"call_FxRswXKWou53G0LNQQCvPod4\"\n",
            "    }\n",
            "  ],\n",
            "  \"invalid_tool_calls\": [],\n",
            "  \"usage_metadata\": {\n",
            "    \"output_tokens\": 71,\n",
            "    \"input_tokens\": 82,\n",
            "    \"total_tokens\": 153,\n",
            "    \"input_token_details\": {\n",
            "      \"audio\": 0,\n",
            "      \"cache_read\": 0\n",
            "    },\n",
            "    \"output_token_details\": {\n",
            "      \"audio\": 0,\n",
            "      \"reasoning\": 0\n",
            "    }\n",
            "  }\n",
            "}\n"
          ]
        }
      ],
      "source": [
        "const tools = [\n",
        "  {\n",
        "    \"type\": \"function\",\n",
        "    \"function\": {\n",
        "      \"name\": \"get_current_weather\",\n",
        "      \"description\": \"Get the current weather in a given location\",\n",
        "      \"parameters\": {\n",
        "        \"type\": \"object\",\n",
        "        \"properties\": {\n",
        "          \"location\": {\n",
        "            \"type\": \"string\",\n",
        "            \"description\": \"The city and state, e.g. San Francisco, CA\",\n",
        "          },\n",
        "          \"unit\": {\"type\": \"string\", \"enum\": [\"celsius\", \"fahrenheit\"]},\n",
        "        },\n",
        "        \"required\": [\"location\"],\n",
        "      },\n",
        "    },\n",
        "  }\n",
        "];\n",
        "\n",
        "const modelWithTools = new ChatOpenAI({ model: \"gpt-4o\" }).withConfig({ tools });\n",
        "\n",
        "await modelWithTools.invoke(\"What's the weather in SF, NYC and LA?\")"
      ]
    },
    {
      "cell_type": "markdown",
      "id": "095001f7",
      "metadata": {},
      "source": [
        "## 下一步\n",
        "\n",
        "现在您已经了解了如何将运行时参数绑定到一个 Runnable。\n",
        "\n",
        "接下来，您可能对我们的如何通过链传递数据的指南感兴趣：[通过链传递数据](/docs/how_to/passthrough/)。"
      ]
    }
  ],
  "metadata": {
    "kernelspec": {
      "display_name": "TypeScript",
      "language": "typescript",
      "name": "tslab"
    },
    "language_info": {
      "codemirror_mode": {
        "mode": "typescript",
        "name": "javascript",
        "typescript": true
      },
      "file_extension": ".ts",
      "mimetype": "text/typescript",
      "name": "typescript",
      "version": "3.7.2"
    }
  },
  "nbformat": 4,
  "nbformat_minor": 5
}