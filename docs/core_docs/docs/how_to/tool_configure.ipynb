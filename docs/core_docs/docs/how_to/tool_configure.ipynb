{
  "cells": [
    {
      "cell_type": "markdown",
      "metadata": {},
      "source": [
        "# 如何从工具中访问 RunnableConfig\n",
        "\n",
        "```{=mdx}\n",
        ":::info 预备知识\n",
        "\n",
        "本指南假定您已熟悉以下概念：\n",
        "\n",
        "- [LangChain 工具](/docs/concepts/tools)\n",
        "- [自定义工具](/docs/how_to/custom_tools)\n",
        "- [LangChain 表达式语言 (LCEL)](/docs/concepts/lcel)\n",
        "\n",
        ":::\n",
        "```\n",
        "\n",
        "工具是可运行对象（runnable），在接口层面，您可以像对待其他任何可运行对象一样对待它们——可以正常调用 `invoke()`、`batch()` 和 `stream()` 方法。但是，在编写自定义工具时，您可能需要调用其他可运行对象，例如聊天模型或检索器。为了正确追踪和配置这些子调用，您需要手动访问并传入工具当前的 [`RunnableConfig`](https://api.js.langchain.com/interfaces/langchain_core.runnables.RunnableConfig.html) 对象。\n",
        "\n",
        "本指南介绍了如何为通过不同方式创建的自定义工具执行此操作。\n",
        "\n",
        "## 从 `tool` 方法中访问\n",
        "\n",
        "对于使用 [`tool`](https://api.js.langchain.com/functions/langchain_core.tools.tool-1.html) 辅助方法创建的自定义工具，访问 `RunnableConfig` 对象非常简单——它始终是传递给您的自定义函数的第二个参数。以下是一个示例："
      ]
    },
    {
      "cell_type": "code",
      "execution_count": 1,
      "metadata": {},
      "outputs": [],
      "source": [
        "import { z } from \"zod\";\n",
        "import { tool } from \"@langchain/core/tools\";\n",
        "import type { RunnableConfig } from \"@langchain/core/runnables\";\n",
        "\n",
        "const reverseTool = tool(\n",
        "  async (input: { text: string }, config?: RunnableConfig) => {\n",
        "    const originalString = input.text + (config?.configurable?.additional_field ?? \"\");\n",
        "    return originalString.split(\"\").reverse().join(\"\");\n",
        "  }, {\n",
        "    name: \"reverse\",\n",
        "    description: \"A test tool that combines input text with a configurable parameter.\",\n",
        "    schema: z.object({\n",
        "      text: z.string()\n",
        "    }),\n",
        "  }\n",
        ");"
      ]
    },
    {
      "cell_type": "markdown",
      "metadata": {},
      "source": [
        "然后，如果我们使用包含 `configurable` 字段的 `config` 调用该工具，则可以看到 `additional_field` 被正确传递："
      ]
    },
    {
      "cell_type": "code",
      "execution_count": 2,
      "metadata": {},
      "outputs": [
        {
          "name": "stdout",
          "output_type": "stream",
          "text": [
            "321cba\n"
          ]
        }
      ],
      "source": [
        "await reverseTool.invoke(\n",
        "  {text: \"abc\"}, {configurable: {additional_field: \"123\"}}\n",
        ")"
      ]
    },
    {
      "cell_type": "markdown",
      "metadata": {},
      "source": [
        "## 下一步",
        "\n",
        "您现在已经了解了如何在工具内部配置和流式传输事件。接下来，请查看以下指南以了解更多关于使用工具的内容：",
        "\n",
        "- 将[工具结果传递回模型](/docs/how_to/tool_results_pass_to_model)",
        "\n",
        "- 构建[使用工具的链和代理](/docs/how_to#tools)",
        "\n",
        "- 从模型获取[结构化输出](/docs/how_to/structured_output/)"
      ]
    }
  ],
  "metadata": {
    "kernelspec": {
      "display_name": "TypeScript",
      "language": "typescript",
      "name": "tslab"
    },
    "language_info": {
      "codemirror_mode": {
        "mode": "typescript",
        "name": "javascript",
        "typescript": true
      },
      "file_extension": ".ts",
      "mimetype": "text/typescript",
      "name": "typescript",
      "version": "3.7.2"
    }
  },
  "nbformat": 4,
  "nbformat_minor": 2
}