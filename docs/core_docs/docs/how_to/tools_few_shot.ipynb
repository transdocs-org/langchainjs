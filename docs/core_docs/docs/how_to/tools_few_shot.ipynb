{
  "cells": [
    {
      "cell_type": "markdown",
      "metadata": {},
      "source": [
        "## 如何在调用工具时使用少样本提示\n",
        "\n",
        "```{=mdx}\n",
        ":::info 前提条件\n",
        "\n",
        "本指南假定您熟悉以下概念：\n",
        "\n",
        "- [聊天模型](/docs/concepts/chat_models)\n",
        "- [LangChain 工具](/docs/concepts/tools)\n",
        "- [工具调用](/docs/concepts/tool_calling)\n",
        "- [将工具输出传递给聊天模型](/docs/how_to/tool_results_pass_to_model/)\n",
        "\n",
        ":::\n",
        "```\n",
        "\n",
        "在更复杂的工具使用场景中，在提示中添加少量示例是非常有帮助的。我们可以通过在提示中添加包含 `ToolCalls` 的 `AIMessages` 以及相应的 `ToolMessages` 来实现这一点。\n",
        "\n",
        "首先定义一个模型和一个计算器工具："
      ]
    },
    {
      "cell_type": "code",
      "execution_count": 1,
      "metadata": {},
      "outputs": [],
      "source": [
        "import { tool } from \"@langchain/core/tools\";\n",
        "import { z } from \"zod\";\n",
        "import { ChatOpenAI } from \"@langchain/openai\";\n",
        "\n",
        "const llm = new ChatOpenAI({ model: \"gpt-4o\", temperature: 0, })\n",
        "\n",
        "/**\n",
        " * Note that the descriptions here are crucial, as they will be passed along\n",
        " * to the model along with the class name.\n",
        " */\n",
        "const calculatorSchema = z.object({\n",
        "  operation: z\n",
        "    .enum([\"add\", \"subtract\", \"multiply\", \"divide\"])\n",
        "    .describe(\"The type of operation to execute.\"),\n",
        "  number1: z.number().describe(\"The first number to operate on.\"),\n",
        "  number2: z.number().describe(\"The second number to operate on.\"),\n",
        "});\n",
        "\n",
        "const calculatorTool = tool(async ({ operation, number1, number2 }) => {\n",
        "  // Functions must return strings\n",
        "  if (operation === \"add\") {\n",
        "    return `${number1 + number2}`;\n",
        "  } else if (operation === \"subtract\") {\n",
        "    return `${number1 - number2}`;\n",
        "  } else if (operation === \"multiply\") {\n",
        "    return `${number1 * number2}`;\n",
        "  } else if (operation === \"divide\") {\n",
        "    return `${number1 / number2}`;\n",
        "  } else {\n",
        "    throw new Error(\"Invalid operation.\");\n",
        "  }\n",
        "}, {\n",
        "  name: \"calculator\",\n",
        "  description: \"Can perform mathematical operations.\",\n",
        "  schema: calculatorSchema,\n",
        "});\n",
        "\n",
        "const llmWithTools = llm.bindTools([calculatorTool]);"
      ]
    },
    {
      "cell_type": "markdown",
      "metadata": {},
      "source": [
        "我们的计算器可以处理常见的加法、减法、乘法和除法。但是，如果我们询问一个新的数学运算符 `🦜` 会出现什么情况呢？\n",
        "\n",
        "让我们看看如果直接使用它会出现什么情况："
      ]
    },
    {
      "cell_type": "code",
      "execution_count": 2,
      "metadata": {},
      "outputs": [
        {
          "name": "stdout",
          "output_type": "stream",
          "text": [
            "\n",
            "[\n",
            "  {\n",
            "    name: 'calculator',\n",
            "    args: { operation: 'multiply', number1: 3, number2: 12 },\n",
            "    type: 'tool_call',\n",
            "    id: 'call_I0oQGmdESpIgcf91ej30p9aR'\n",
            "  }\n",
            "]\n"
          ]
        }
      ],
      "source": [
        "const res = await llmWithTools.invoke(\"What is 3 🦜 12\");\n",
        "\n",
        "console.log(res.content);\n",
        "console.log(res.tool_calls);"
      ]
    },
    {
      "cell_type": "markdown",
      "metadata": {},
      "source": [
        "它不太清楚如何将 `🦜` 解释为一个运算符，默认情况下会将其视为 `multiply`（乘法）。现在，我们尝试以构造消息的形式给它一些示例，引导它将 `🦜` 理解为 `divide`（除法）："
      ]
    },
    {
      "cell_type": "code",
      "execution_count": 3,
      "metadata": {},
      "outputs": [
        {
          "name": "stdout",
          "output_type": "stream",
          "text": [
            "[\n",
            "  {\n",
            "    name: 'calculator',\n",
            "    args: { number1: 3, number2: 12, operation: 'divide' },\n",
            "    type: 'tool_call',\n",
            "    id: 'call_O6M4yDaA6s8oDqs2Zfl7TZAp'\n",
            "  }\n",
            "]\n"
          ]
        }
      ],
      "source": [
        "import { HumanMessage, AIMessage, ToolMessage } from \"@langchain/core/messages\";\n",
        "\n",
        "const res = await llmWithTools.invoke([\n",
        "  new HumanMessage(\"What is 333382 🦜 1932?\"),\n",
        "  new AIMessage({\n",
        "    content: \"The 🦜 operator is shorthand for division, so we call the divide tool.\",\n",
        "    tool_calls: [{\n",
        "      id: \"12345\",\n",
        "      name: \"calculator\",\n",
        "      args: {\n",
        "        number1: 333382,\n",
        "        number2: 1932,\n",
        "        operation: \"divide\",\n",
        "      }\n",
        "    }]\n",
        "  }),\n",
        "  new ToolMessage({\n",
        "    tool_call_id: \"12345\",\n",
        "    content: \"The answer is 172.558.\"\n",
        "  }),\n",
        "  new AIMessage(\"The answer is 172.558.\"),\n",
        "  new HumanMessage(\"What is 6 🦜 2?\"),\n",
        "  new AIMessage({\n",
        "    content: \"The 🦜 operator is shorthand for division, so we call the divide tool.\",\n",
        "    tool_calls: [{\n",
        "      id: \"54321\",\n",
        "      name: \"calculator\",\n",
        "      args: {\n",
        "        number1: 6,\n",
        "        number2: 2,\n",
        "        operation: \"divide\",\n",
        "      }\n",
        "    }]\n",
        "  }),\n",
        "  new ToolMessage({\n",
        "    tool_call_id: \"54321\",\n",
        "    content: \"The answer is 3.\"\n",
        "  }),\n",
        "  new AIMessage(\"The answer is 3.\"),\n",
        "  new HumanMessage(\"What is 3 🦜 12?\")\n",
        "]);\n",
        "\n",
        "console.log(res.tool_calls);"
      ]
    },
    {
      "cell_type": "markdown",
      "metadata": {},
      "source": [
        "而且我们可以看到它现在以正确的方式将 `🦜` 等同于 `divide` 操作！\n",
        "\n",
        "## 相关内容\n",
        "\n",
        "- 流式传输 [工具调用](/docs/how_to/tool_streaming/)\n",
        "- 将 [运行时值传递给工具](/docs/how_to/tool_runtime)\n",
        "- 从模型中获取 [结构化输出](/docs/how_to/structured_output/)"
      ]
    }
  ],
  "metadata": {
    "kernelspec": {
      "display_name": "TypeScript",
      "language": "typescript",
      "name": "tslab"
    },
    "language_info": {
      "codemirror_mode": {
        "mode": "typescript",
        "name": "javascript",
        "typescript": true
      },
      "file_extension": ".ts",
      "mimetype": "text/typescript",
      "name": "typescript",
      "version": "3.7.2"
    }
  },
  "nbformat": 4,
  "nbformat_minor": 2
}