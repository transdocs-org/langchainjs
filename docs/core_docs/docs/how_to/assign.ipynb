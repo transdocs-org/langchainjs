{
  "cells": [
    {
      "cell_type": "raw",
      "metadata": {},
      "source": [
        "---\n",
        "keywords: [RunnablePassthrough, assign, LCEL]\n",
        "---"
      ]
    },
    {
      "cell_type": "markdown",
      "metadata": {},
      "source": [
        "# 如何向链的状态中添加值\n",
        "\n",
        ":::info 前提条件\n",
        "\n",
        "本指南假定您熟悉以下概念：\n",
        "\n",
        "- [LangChain 表达式语言 (LCEL)](/docs/concepts/lcel)\n",
        "- [链式调用可运行对象](/docs/how_to/sequence/)\n",
        "- [并行调用可运行对象](/docs/how_to/parallel/)\n",
        "- [自定义函数](/docs/how_to/functions/)\n",
        "- [传递数据](/docs/how_to/passthrough)\n",
        "\n",
        ":::\n",
        "\n",
        "一种[传递数据](/docs/how_to/passthrough)通过链步骤的替代方法是在给定键下分配新值的同时，保持链状态的当前值不变。`RunnablePassthrough.assign()`静态方法接收一个输入值，并将传递给 assign 函数的额外参数添加进去。\n",
        "\n",
        "这在 [LangChain 表达式语言](/docs/concepts/lcel) 的常见模式中非常有用，即通过逐步创建字典来作为后续步骤的输入。\n",
        "\n",
        "以下是一个示例："
      ]
    },
    {
      "cell_type": "code",
      "execution_count": 1,
      "metadata": {},
      "outputs": [
        {
          "data": {
            "text/plain": [
              "{ extra: { num: \u001b[33m1\u001b[39m, mult: \u001b[33m3\u001b[39m, modified: \u001b[33m2\u001b[39m } }"
            ]
          },
          "execution_count": 1,
          "metadata": {},
          "output_type": "execute_result"
        }
      ],
      "source": [
        "import { RunnableParallel, RunnablePassthrough } from \"@langchain/core/runnables\";\n",
        "\n",
        "const runnable = RunnableParallel.from({\n",
        "  extra: RunnablePassthrough.assign({\n",
        "    mult: (input: { num: number }) => input.num * 3,\n",
        "    modified: (input: { num: number }) => input.num + 1\n",
        "  })\n",
        "});\n",
        "\n",
        "await runnable.invoke({ num: 1 });"
      ]
    },
    {
      "cell_type": "markdown",
      "metadata": {},
      "source": [
        "让我们分解一下这里发生的事情。\n",
        "\n",
        "- 链的输入是 `{\"num\": 1}`。它被传入一个 `RunnableParallel`，该对象用传入的输入并行调用其包含的可运行对象。\n",
        "- `extra` 键下的值被调用。`RunnablePassthrough.assign()` 保留输入字典中的原始键 (`{\"num\": 1}`)，并添加一个名为 `mult` 的新键。其值为 `lambda x: x[\"num\"] * 3)`，即 `3`。因此，结果为 `{\"num\": 1, \"mult\": 3}`。\n",
        "- `{\"num\": 1, \"mult\": 3}` 被返回到 `RunnableParallel` 调用，并被设置为 `extra` 键的值。\n",
        "- 同时，`modified` 键被调用。其结果为 `2`，因为 lambda 函数从输入中提取名为 `\"num\"` 的键并加一。\n",
        "\n",
        "因此，最终结果为 `{'extra': {'num': 1, 'mult': 3}, 'modified': 2}`。\n",
        "\n",
        "## 流式传输\n",
        "\n",
        "这种方法的一个便捷特性是允许值在可用时立即传递。为了展示这一点，我们将使用 `RunnablePassthrough.assign()` 在检索链中立即返回源文档：\n",
        "\n",
        "```{=mdx}\n",
        "import IntegrationInstallTooltip from \"@mdx_components/integration_install_tooltip.mdx\";\n",
        "import Npm2Yarn from \"@theme/Npm2Yarn\";\n",
        "\n",
        "<IntegrationInstallTooltip></IntegrationInstallTooltip>\n",
        "\n",
        "<Npm2Yarn>\n",
        "  @langchain/openai @langchain/core\n",
        "</Npm2Yarn>\n",
        "```"
      ]
    },
    {
      "cell_type": "code",
      "execution_count": 2,
      "metadata": {},
      "outputs": [
        {
          "name": "stdout",
          "output_type": "stream",
          "text": [
            "{ question: \"harrison 在哪里工作过？\" }\n",
            "{ context: \"harrison 在 kensho 工作过\" }\n",
            "{ output: \"\" }\n",
            "{ output: \"H\" }\n",
            "{ output: \"arrison\" }\n",
            "{ output: \" 工作\" }\n",
            "{ output: \" 在\" }\n",
            "{ output: \" Kens\" }\n",
            "{ output: \"ho\" }\n",
            "{ output: \".\" }\n",
            "{ output: \"\" }\n"
          ]
        }
      ],
      "source": [
        "import { StringOutputParser } from \"@langchain/core/output_parsers\";\n",
        "import { ChatPromptTemplate } from \"@langchain/core/prompts\";\n",
        "import { RunnablePassthrough, RunnableSequence } from \"@langchain/core/runnables\";\n",
        "import { ChatOpenAI, OpenAIEmbeddings } from \"@langchain/openai\";\n",
        "import { MemoryVectorStore } from \"langchain/vectorstores/memory\";\n",
        "\n",
        "const vectorstore = await MemoryVectorStore.fromDocuments([\n",
        "  { pageContent: \"harrison 在 kensho 工作过\", metadata: {} }\n",
        "], new OpenAIEmbeddings());\n",
        "\n",
        "const retriever = vectorstore.asRetriever();\n",
        "\n",
        "const template = `仅基于以下上下文回答问题：\n",
        "{context}\n",
        "\n",
        "问题: {question}\n",
        "`;\n",
        "\n",
        "const prompt = ChatPromptTemplate.fromTemplate(template);\n",
        "\n",
        "const model = new ChatOpenAI({ model: \"gpt-4o\" });\n",
        "\n",
        "const generationChain = prompt.pipe(model).pipe(new StringOutputParser());\n",
        "\n",
        "const retrievalChain = RunnableSequence.from([\n",
        "  {\n",
        "    context: retriever.pipe((docs) => docs[0].pageContent),\n",
        "    question: new RunnablePassthrough()\n",
        "  },\n",
        "  RunnablePassthrough.assign({ output: generationChain }),\n",
        "]);\n",
        "\n",
        "const stream = await retrievalChain.stream(\"harrison 在哪里工作过？\");\n",
        "\n",
        "for await (const chunk of stream) {\n",
        "  console.log(chunk);\n",
        "}"
      ]
    },
    {
      "cell_type": "markdown",
      "metadata": {},
      "source": [
        "我们可以看到，第一个 chunk 包含原始的 `\"question\"`，因为它立即可用。第二个 chunk 包含 `\"context\"`，因为检索器在稍后完成。最后，`generation_chain` 的输出在可用时以 chunk 的形式流式传输。\n",
        "\n",
        "## 下一步\n",
        "\n",
        "现在您已经了解了如何通过链传递数据，以帮助格式化流经链的数据。\n",
        "\n",
        "要了解更多信息，请参阅本节中有关可运行对象的其他指南。"
      ]
    },
    {
      "cell_type": "markdown",
      "metadata": {},
      "source": []
    }
  ],
  "metadata": {
    "kernelspec": {
      "display_name": "Deno",
      "language": "typescript",
      "name": "deno"
    },
    "language_info": {
      "file_extension": ".ts",
      "mimetype": "text/x.typescript",
      "name": "typescript",
      "nb_converter": "script",
      "pygments_lexer": "typescript",
      "version": "5.3.3"
    }
  },
  "nbformat": 4,
  "nbformat_minor": 4
}