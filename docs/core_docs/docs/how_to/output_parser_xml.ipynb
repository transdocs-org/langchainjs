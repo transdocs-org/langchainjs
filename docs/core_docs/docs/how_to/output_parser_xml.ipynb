{
  "cells": [
    {
      "cell_type": "markdown",
      "id": "181b5b6d",
      "metadata": {},
      "source": [
        "# 如何解析XML输出\n",
        "\n",
        ":::info 预备知识\n",
        "\n",
        "本指南假定您熟悉以下概念：\n",
        "- [聊天模型](/docs/concepts/chat_models)\n",
        "- [输出解析器](/docs/concepts/output_parsers)\n",
        "- [提示模板](/docs/concepts/prompt_templates)\n",
        "- [结构化输出](/docs/how_to/structured_output)\n",
        "- [将可运行对象串联在一起](/docs/how_to/sequence/)\n",
        "\n",
        ":::\n",
        "\n",
        "不同供应商提供的LLM（大语言模型）通常根据它们所训练的具体数据具有不同的优势。这也意味着某些模型可能在生成JSON以外的格式输出时更\"优秀\"和更可靠。\n",
        "\n",
        "本指南向您展示如何使用 [`XMLOutputParser`](https://api.js.langchain.com/classes/langchain_core.output_parsers.XMLOutputParser.html) 提示模型生成XML输出，然后将该输出解析为可用的格式。\n",
        "\n",
        ":::{.callout-note}\n",
        "请注意，大语言模型是一个有漏洞的抽象！您需要使用具有足够能力的LLM来生成格式良好的XML。\n",
        ":::\n",
        "\n",
        "在以下示例中，我们使用Anthropic的Claude（https://docs.anthropic.com/claude/docs），这是一个针对XML标签优化的模型。\n",
        "\n",
        "```{=mdx}\n",
        "import IntegrationInstallTooltip from \"@mdx_components/integration_install_tooltip.mdx\";\n",
        "import Npm2Yarn from \"@theme/Npm2Yarn\";\n",
        "\n",
        "<IntegrationInstallTooltip></IntegrationInstallTooltip>\n",
        "\n",
        "<Npm2Yarn>\n",
        "  @langchain/anthropic @langchain/core\n",
        "</Npm2Yarn>\n",
        "```"
      ]
    },
    {
      "cell_type": "markdown",
      "id": "da312f86-0d2a-4aef-a09d-1e72bd0ea9b1",
      "metadata": {},
      "source": [
        "让我们从对模型的一个简单请求开始。"
      ]
    },
    {
      "cell_type": "code",
      "execution_count": 3,
      "id": "b03785af-69fc-40a1-a1be-c04ed6fade70",
      "metadata": {},
      "outputs": [
        {
          "name": "stdout",
          "output_type": "stream",
          "text": [
            "Here is the shortened filmography for Tom Hanks, with movies enclosed in \"movie\" tags:\n",
            "\n",
            "<movie>Forrest Gump</movie>\n",
            "<movie>Saving Private Ryan</movie>\n",
            "<movie>Cast Away</movie>\n",
            "<movie>Apollo 13</movie>\n",
            "<movie>Catch Me If You Can</movie>\n",
            "<movie>The Green Mile</movie>\n",
            "<movie>Toy Story</movie>\n",
            "<movie>Toy Story 2</movie>\n",
            "<movie>Toy Story 3</movie>\n",
            "<movie>Toy Story 4</movie>\n",
            "<movie>Philadelphia</movie>\n",
            "<movie>Big</movie>\n",
            "<movie>Sleepless in Seattle</movie>\n",
            "<movie>You've Got Mail</movie>\n",
            "<movie>The Terminal</movie>\n"
          ]
        }
      ],
      "source": [
        "import { ChatAnthropic } from \"@langchain/anthropic\";\n",
        "\n",
        "const model = new ChatAnthropic({\n",
        "  model: \"claude-3-sonnet-20240229\",\n",
        "  maxTokens: 512,\n",
        "  temperature: 0.1,\n",
        "});\n",
        "\n",
        "const query = `Generate the shortened filmograph for Tom Hanks.`;\n",
        "\n",
        "const result = await model.invoke(query + ` Please enclose the movies in \"movie\" tags.`);\n",
        "\n",
        "console.log(result.content);"
      ]
    },
    {
      "cell_type": "markdown",
      "id": "4db65781-3d54-4ba6-ae26-5b4ead47a4c8",
      "metadata": {},
      "source": [
        "这实际上运行得相当不错！不过，将该XML解析为更易于使用的格式会更好。我们可以使用`XMLOutputParser`，它既可以向提示中添加默认格式说明，又能将输出的XML解析为字典："
      ]
    },
    {
      "cell_type": "code",
      "execution_count": 4,
      "id": "6917e057",
      "metadata": {},
      "outputs": [
        {
          "data": {
            "text/plain": [
              "\u001b[32m\"The output should be formatted as a XML file.\\n\"\u001b[39m +\n",
              "  \u001b[32m\"1. Output should conform to the tags below. \\n\"\u001b[39m +\n",
              "  \u001b[32m\"2. If tag\"\u001b[39m... 434 more characters"
            ]
          },
          "execution_count": 4,
          "metadata": {},
          "output_type": "execute_result"
        }
      ],
      "source": [
        "import { XMLOutputParser } from \"@langchain/core/output_parsers\";\n",
        "\n",
        "// We will add these instructions to the prompt below\n",
        "const parser = new XMLOutputParser();\n",
        "\n",
        "parser.getFormatInstructions();"
      ]
    },
    {
      "cell_type": "code",
      "execution_count": 7,
      "id": "87ba8d11",
      "metadata": {},
      "outputs": [
        {
          "name": "stdout",
          "output_type": "stream",
          "text": [
            "{\n",
            "  \"filmography\": [\n",
            "    {\n",
            "      \"actor\": [\n",
            "        {\n",
            "          \"name\": \"Tom Hanks\"\n",
            "        },\n",
            "        {\n",
            "          \"films\": [\n",
            "            {\n",
            "              \"film\": [\n",
            "                {\n",
            "                  \"title\": \"Forrest Gump\"\n",
            "                },\n",
            "                {\n",
            "                  \"year\": \"1994\"\n",
            "                },\n",
            "                {\n",
            "                  \"role\": \"Forrest Gump\"\n",
            "                }\n",
            "              ]\n",
            "            },\n",
            "            {\n",
            "              \"film\": [\n",
            "                {\n",
            "                  \"title\": \"Saving Private Ryan\"\n",
            "                },\n",
            "                {\n",
            "                  \"year\": \"1998\"\n",
            "                },\n",
            "                {\n",
            "                  \"role\": \"Captain Miller\"\n",
            "                }\n",
            "              ]\n",
            "            },\n",
            "            {\n",
            "              \"film\": [\n",
            "                {\n",
            "                  \"title\": \"Cast Away\"\n",
            "                },\n",
            "                {\n",
            "                  \"year\": \"2000\"\n",
            "                },\n",
            "                {\n",
            "                  \"role\": \"Chuck Noland\"\n",
            "                }\n",
            "              ]\n",
            "            },\n",
            "            {\n",
            "              \"film\": [\n",
            "                {\n",
            "                  \"title\": \"Catch Me If You Can\"\n",
            "                },\n",
            "                {\n",
            "                  \"year\": \"2002\"\n",
            "                },\n",
            "                {\n",
            "                  \"role\": \"Carl Hanratty\"\n",
            "                }\n",
            "              ]\n",
            "            },\n",
            "            {\n",
            "              \"film\": [\n",
            "                {\n",
            "                  \"title\": \"The Terminal\"\n",
            "                },\n",
            "                {\n",
            "                  \"year\": \"2004\"\n",
            "                },\n",
            "                {\n",
            "                  \"role\": \"Viktor Navorski\"\n",
            "                }\n",
            "              ]\n",
            "            }\n",
            "          ]\n",
            "        }\n",
            "      ]\n",
            "    }\n",
            "  ]\n",
            "}\n"
          ]
        }
      ],
      "source": [
        "import { ChatPromptTemplate } from \"@langchain/core/prompts\";\n",
        "\n",
        "const prompt = ChatPromptTemplate.fromTemplate(`{query}\\n{format_instructions}`);\n",
        "const partialedPrompt = await prompt.partial({\n",
        "  format_instructions: parser.getFormatInstructions(),\n",
        "});\n",
        "\n",
        "const chain = partialedPrompt.pipe(model).pipe(parser);\n",
        "\n",
        "const output = await chain.invoke({\n",
        "  query: \"Generate the shortened filmograph for Tom Hanks.\",\n",
        "});\n",
        "\n",
        "console.log(JSON.stringify(output, null, 2));"
      ]
    },
    {
      "cell_type": "markdown",
      "id": "327f5479-77e0-4549-8393-2cd7a286d491",
      "metadata": {},
      "source": [
        "您会注意到上面的输出不再只是包含在 `movie` 标签之间。我们还可以添加一些标签，以根据我们的需求定制输出："
      ]
    },
    {
      "cell_type": "code",
      "execution_count": 8,
      "id": "4af50494",
      "metadata": {},
      "outputs": [
        {
          "data": {
            "text/plain": [
              "\u001b[32m\"The output should be formatted as a XML file.\\n\"\u001b[39m +\n",
              "  \u001b[32m\"1. Output should conform to the tags below. \\n\"\u001b[39m +\n",
              "  \u001b[32m\"2. If tag\"\u001b[39m... 460 more characters"
            ]
          },
          "execution_count": 8,
          "metadata": {},
          "output_type": "execute_result"
        }
      ],
      "source": [
        "const parserWithTags = new XMLOutputParser({ tags: [\"movies\", \"actor\", \"film\", \"name\", \"genre\"] });\n",
        "\n",
        "// We will add these instructions to the prompt below\n",
        "parserWithTags.getFormatInstructions();"
      ]
    },
    {
      "cell_type": "markdown",
      "id": "6563ca36",
      "metadata": {},
      "source": [
        "您可以而且应该尝试在提示的其他部分添加自己的格式化提示，以增强或替换默认指令。\n",
        "\n",
        "这是我们调用它时的结果："
      ]
    },
    {
      "cell_type": "code",
      "execution_count": 9,
      "id": "b722a235",
      "metadata": {},
      "outputs": [
        {
          "name": "stdout",
          "output_type": "stream",
          "text": [
            "{\n",
            "  \"movies\": [\n",
            "    {\n",
            "      \"actor\": [\n",
            "        {\n",
            "          \"film\": [\n",
            "            {\n",
            "              \"name\": \"Forrest Gump\"\n",
            "            },\n",
            "            {\n",
            "              \"genre\": \"Drama\"\n",
            "            }\n",
            "          ]\n",
            "        },\n",
            "        {\n",
            "          \"film\": [\n",
            "            {\n",
            "              \"name\": \"Saving Private Ryan\"\n",
            "            },\n",
            "            {\n",
            "              \"genre\": \"War\"\n",
            "            }\n",
            "          ]\n",
            "        },\n",
            "        {\n",
            "          \"film\": [\n",
            "            {\n",
            "              \"name\": \"Cast Away\"\n",
            "            },\n",
            "            {\n",
            "              \"genre\": \"Drama\"\n",
            "            }\n",
            "          ]\n",
            "        },\n",
            "        {\n",
            "          \"film\": [\n",
            "            {\n",
            "              \"name\": \"Catch Me If You Can\"\n",
            "            },\n",
            "            {\n",
            "              \"genre\": \"Biography\"\n",
            "            }\n",
            "          ]\n",
            "        },\n",
            "        {\n",
            "          \"film\": [\n",
            "            {\n",
            "              \"name\": \"The Terminal\"\n",
            "            },\n",
            "            {\n",
            "              \"genre\": \"Comedy-drama\"\n",
            "            }\n",
            "          ]\n",
            "        }\n",
            "      ]\n",
            "    }\n",
            "  ]\n",
            "}\n"
          ]
        }
      ],
      "source": [
        "import { ChatPromptTemplate } from \"@langchain/core/prompts\";\n",
        "\n",
        "const promptWithTags = ChatPromptTemplate.fromTemplate(`{query}\\n{format_instructions}`);\n",
        "const partialedPromptWithTags = await promptWithTags.partial({\n",
        "  format_instructions: parserWithTags.getFormatInstructions(),\n",
        "});\n",
        "\n",
        "const chainWithTags = partialedPromptWithTags.pipe(model).pipe(parserWithTags);\n",
        "\n",
        "const outputWithTags = await chainWithTags.invoke({\n",
        "  query: \"Generate the shortened filmograph for Tom Hanks.\",\n",
        "});\n",
        "\n",
        "console.log(JSON.stringify(outputWithTags, null, 2));"
      ]
    },
    {
      "cell_type": "markdown",
      "id": "6902fe6f",
      "metadata": {},
      "source": [
        "## 下一步\n",
        "\n",
        "你现在已经学会了如何提示模型返回 XML。接下来，查看关于获取结构化输出的[更全面指南](/docs/how_to/structured_output)，了解更多相关技术。"
      ]
    }
  ],
  "metadata": {
    "kernelspec": {
      "display_name": "Deno",
      "language": "typescript",
      "name": "deno"
    },
    "language_info": {
      "file_extension": ".ts",
      "mimetype": "text/x.typescript",
      "name": "typescript",
      "nb_converter": "script",
      "pygments_lexer": "typescript",
      "version": "5.3.3"
    }
  },
  "nbformat": 4,
  "nbformat_minor": 5
}