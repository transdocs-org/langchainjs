{
  "cells": [
    {
      "cell_type": "markdown",
      "metadata": {},
      "source": [
        "# 如何将运行时值传递给工具\n",
        "\n",
        "```{=mdx}\n",
        ":::info 预备知识\n",
        "\n",
        "本指南假定您已熟悉以下概念：\n",
        "- [聊天模型](/docs/concepts/chat_models)\n",
        "- [LangChain 工具](/docs/concepts/tools)\n",
        "- [如何创建工具](/docs/how_to/custom_tools)\n",
        "- [如何使用模型调用工具](/docs/how_to/tool_calling/)\n",
        ":::\n",
        "\n",
        ":::info 支持的模型\n",
        "\n",
        "本指南使用具有原生工具调用功能的模型。\n",
        "您可以查看[支持工具调用的所有模型列表](/docs/integrations/chat/)。\n",
        "\n",
        ":::\n",
        "```\n",
        "\n",
        "您可能需要将仅在运行时才知道的值绑定到某个工具。例如，工具的逻辑可能需要使用发起请求的用户ID。\n",
        "\n",
        "大多数情况下，这些值不应由LLM控制。实际上，允许LLM控制用户ID可能会导致安全风险。\n",
        "\n",
        "相反，LLM应该仅控制那些设计上应由LLM控制的工具参数，而其他参数（如用户ID）应由应用程序逻辑固定。"
      ]
    },
    {
      "cell_type": "markdown",
      "metadata": {},
      "source": [
        "```{=mdx}\n",
        "import ChatModelTabs from \"@theme/ChatModelTabs\";\n",
        "\n",
        "<ChatModelTabs\n",
        "  customVarName=\"llm\"\n",
        "/>\n",
        "```"
      ]
    },
    {
      "cell_type": "code",
      "execution_count": 1,
      "metadata": {},
      "outputs": [],
      "source": [
        "// @lc-docs-hide-cell\n",
        "\n",
        "import { ChatOpenAI } from \"@langchain/openai\";\n",
        "\n",
        "const llm = new ChatOpenAI({ model: \"gpt-4o-mini\" })"
      ]
    },
    {
      "cell_type": "markdown",
      "metadata": {},
      "source": [
        "## 使用上下文变量\n",
        "\n",
        "```{=mdx}\n",
        ":::caution 兼容性\n",
        "此功能是在 `@langchain/core>=0.3.10` 中添加的。如果您在项目中单独使用 LangSmith SDK，我们也建议升级到 `langsmith>=0.1.65`。请确保您的软件包已更新。\n",
        "\n",
        "它还需要 [`async_hooks`](https://nodejs.org/api/async_hooks.html) 支持，在所有环境中并非都支持此功能。\n",
        ":::\n",
        "```\n",
        "\n",
        "解决此问题的一种方法是使用**上下文变量**。上下文变量是一个强大的功能，允许您在应用程序的更高级别设置值，然后在从该级别调用的子 runnable（例如工具）中访问它们。\n",
        "\n",
        "它们的工作方式超出了传统的范围规则，因此您无需直接引用已声明的变量即可访问其值。\n",
        "\n",
        "下面，我们声明了一个工具，该工具根据名为 `userId` 的上下文变量更新中心 `userToPets` 状态。请注意，此 `userId` 不属于工具的 schema 或输入："
      ]
    },
    {
      "cell_type": "code",
      "execution_count": 2,
      "metadata": {},
      "outputs": [],
      "source": [
        "import { z } from \"zod\";\n",
        "import { tool } from \"@langchain/core/tools\";\n",
        "import { getContextVariable } from \"@langchain/core/context\";\n",
        "\n",
        "let userToPets: Record<string, string[]> = {};\n",
        "\n",
        "const updateFavoritePets = tool(async (input) => {\n",
        "  const userId = getContextVariable(\"userId\");\n",
        "  if (userId === undefined) {\n",
        "    throw new Error(`No \"userId\" found in current context. Remember to call \"setContextVariable('userId', value)\";`);\n",
        "  }\n",
        "  userToPets[userId] = input.pets;\n",
        "  return \"update_favorite_pets called.\"\n",
        "}, {\n",
        "  name: \"update_favorite_pets\",\n",
        "  description: \"add to the list of favorite pets.\",\n",
        "  schema: z.object({\n",
        "    pets: z.array(z.string())\n",
        "  }),\n",
        "});"
      ]
    },
    {
      "cell_type": "markdown",
      "metadata": {},
      "source": [
        "如果在更高层级设置上下文变量之前调用上述工具，`userId` 将会是 `undefined`："
      ]
    },
    {
      "cell_type": "code",
      "execution_count": 3,
      "metadata": {},
      "outputs": [
        {
          "name": "stderr",
          "output_type": "stream",
          "text": [
            "Error: No \"userId\" found in current context. Remember to call \"setContextVariable('userId', value)\";\n",
            "    at updateFavoritePets.name (evalmachine.<anonymous>:14:15)\n",
            "    at /Users/jacoblee/langchain/langchainjs/langchain-core/dist/tools/index.cjs:329:33\n",
            "    at AsyncLocalStorage.run (node:async_hooks:346:14)\n",
            "    at AsyncLocalStorageProvider.runWithConfig (/Users/jacoblee/langchain/langchainjs/langchain-core/dist/singletons/index.cjs:58:24)\n",
            "    at /Users/jacoblee/langchain/langchainjs/langchain-core/dist/tools/index.cjs:325:68\n",
            "    at new Promise (<anonymous>)\n",
            "    at DynamicStructuredTool.func (/Users/jacoblee/langchain/langchainjs/langchain-core/dist/tools/index.cjs:321:20)\n",
            "    at DynamicStructuredTool._call (/Users/jacoblee/langchain/langchainjs/langchain-core/dist/tools/index.cjs:283:21)\n",
            "    at DynamicStructuredTool.call (/Users/jacoblee/langchain/langchainjs/langchain-core/dist/tools/index.cjs:111:33)\n",
            "    at async evalmachine.<anonymous>:3:22\n"
          ]
        }
      ],
      "source": [
        "await updateFavoritePets.invoke({ pets: [\"cat\", \"dog\" ]})"
      ]
    },
    {
      "cell_type": "markdown",
      "metadata": {},
      "source": [
        "相反，请设置一个上下文变量，作为调用工具的位置的父级："
      ]
    },
    {
      "cell_type": "code",
      "execution_count": 4,
      "metadata": {},
      "outputs": [],
      "source": [
        "import { setContextVariable } from \"@langchain/core/context\";\n",
        "import { BaseChatModel } from \"@langchain/core/language_models/chat_models\";\n",
        "import { RunnableLambda } from \"@langchain/core/runnables\";\n",
        "\n",
        "const handleRunTimeRequestRunnable = RunnableLambda.from(async (params: {\n",
        "  userId: string;\n",
        "  query: string;\n",
        "  llm: BaseChatModel;\n",
        "}) => {\n",
        "  const { userId, query, llm } = params;\n",
        "  if (!llm.bindTools) {\n",
        "    throw new Error(\"Language model does not support tools.\");\n",
        "  }\n",
        "  // Set a context variable accessible to any child runnables called within this one.\n",
        "  // You can also set context variables at top level that act as globals.\n",
        "  setContextVariable(\"userId\", userId);\n",
        "  const tools = [updateFavoritePets];\n",
        "  const llmWithTools = llm.bindTools(tools);\n",
        "  const modelResponse = await llmWithTools.invoke(query);\n",
        "  // For simplicity, skip checking the tool call's name field and assume\n",
        "  // that the model is calling the \"updateFavoritePets\" tool\n",
        "  if (modelResponse.tool_calls.length > 0) {\n",
        "    return updateFavoritePets.invoke(modelResponse.tool_calls[0]);\n",
        "  } else {\n",
        "    return \"No tool invoked.\";\n",
        "  }\n",
        "});"
      ]
    },
    {
      "cell_type": "markdown",
      "metadata": {},
      "source": [
        "当我们的方法调用工具时，你将看到工具正确访问了先前设置的 `userId` 上下文变量，并成功运行："
      ]
    },
    {
      "cell_type": "code",
      "execution_count": 5,
      "metadata": {},
      "outputs": [
        {
          "name": "stdout",
          "output_type": "stream",
          "text": [
            "ToolMessage {\n",
            "  \"content\": \"update_favorite_pets called.\",\n",
            "  \"name\": \"update_favorite_pets\",\n",
            "  \"additional_kwargs\": {},\n",
            "  \"response_metadata\": {},\n",
            "  \"tool_call_id\": \"call_vsD2DbSpDquOtmFlOtbUME6h\"\n",
            "}\n"
          ]
        }
      ],
      "source": [
        "await handleRunTimeRequestRunnable.invoke({\n",
        "  userId: \"brace\",\n",
        "  query: \"my favorite animals are cats and parrots.\",\n",
        "  llm: llm\n",
        "});"
      ]
    },
    {
      "cell_type": "markdown",
      "metadata": {},
      "source": [
        "并且还更新了 `userToPets` 对象，添加了一个与我们传入的 `userId`（即 `\"brace\"`）匹配的键："
      ]
    },
    {
      "cell_type": "code",
      "execution_count": 6,
      "metadata": {},
      "outputs": [
        {
          "name": "stdout",
          "output_type": "stream",
          "text": [
            "{ brace: [ 'cats', 'parrots' ] }\n"
          ]
        }
      ],
      "source": [
        "console.log(userToPets);"
      ]
    },
    {
      "cell_type": "markdown",
      "metadata": {},
      "source": [
        "## 没有上下文变量的情况下\n",
        "\n",
        "如果你使用的是较早版本的 core，或者所处的环境不支持 `async_hooks`，你可以使用以下设计模式，在运行时动态创建工具，并将其绑定到相应的值。\n",
        "\n",
        "其思路是在请求时动态创建工具，并将其绑定到相应的信息。例如，\n",
        "这些信息可以是从请求本身解析出的用户 ID。"
      ]
    },
    {
      "cell_type": "code",
      "execution_count": 7,
      "metadata": {},
      "outputs": [],
      "source": [
        "import { z } from \"zod\";\n",
        "import { tool } from \"@langchain/core/tools\";\n",
        "\n",
        "userToPets = {};\n",
        "\n",
        "function generateToolsForUser(userId: string) {\n",
        "  const updateFavoritePets = tool(async (input) => {\n",
        "    userToPets[userId] = input.pets;\n",
        "    return \"update_favorite_pets called.\"\n",
        "  }, {\n",
        "    name: \"update_favorite_pets\",\n",
        "    description: \"add to the list of favorite pets.\",\n",
        "    schema: z.object({\n",
        "      pets: z.array(z.string())\n",
        "    }),\n",
        "  });\n",
        "  // You can declare and return additional tools as well:\n",
        "  return [updateFavoritePets];\n",
        "}"
      ]
    },
    {
      "cell_type": "markdown",
      "metadata": {},
      "source": [
        "验证工具是否正常工作"
      ]
    },
    {
      "cell_type": "code",
      "execution_count": 9,
      "metadata": {},
      "outputs": [
        {
          "name": "stdout",
          "output_type": "stream",
          "text": [
            "{ cobb: [ 'tiger', 'wolf' ] }\n"
          ]
        }
      ],
      "source": [
        "const [updatePets] = generateToolsForUser(\"cobb\");\n",
        "\n",
        "await updatePets.invoke({ pets: [\"tiger\", \"wolf\"] });\n",
        "\n",
        "console.log(userToPets);"
      ]
    },
    {
      "cell_type": "code",
      "execution_count": 10,
      "metadata": {},
      "outputs": [],
      "source": [
        "import { BaseChatModel } from \"@langchain/core/language_models/chat_models\";\n",
        "\n",
        "async function handleRunTimeRequest(userId: string, query: string, llm: BaseChatModel): Promise<any> {\n",
        "  if (!llm.bindTools) {\n",
        "    throw new Error(\"Language model does not support tools.\");\n",
        "  }\n",
        "  const tools = generateToolsForUser(userId);\n",
        "  const llmWithTools = llm.bindTools(tools);\n",
        "  return llmWithTools.invoke(query);\n",
        "}"
      ]
    },
    {
      "cell_type": "markdown",
      "metadata": {},
      "source": [
        "这段代码将允许LLM调用工具，但LLM**并不知道**存在**用户ID**这一事实。你可以看到，`user_id` 并不在LLM生成的参数列表中："
      ]
    },
    {
      "cell_type": "code",
      "execution_count": 11,
      "metadata": {},
      "outputs": [
        {
          "name": "stdout",
          "output_type": "stream",
          "text": [
            "{\n",
            "  name: 'update_favorite_pets',\n",
            "  args: { pets: [ 'tigers', 'wolves' ] },\n",
            "  type: 'tool_call',\n",
            "  id: 'call_FBF4D51SkVK2clsLOQHX6wTv'\n",
            "}\n"
          ]
        }
      ],
      "source": [
        "const aiMessage = await handleRunTimeRequest(\n",
        "  \"cobb\", \"my favorite pets are tigers and wolves.\", llm,\n",
        ");\n",
        "console.log(aiMessage.tool_calls[0]);"
      ]
    },
    {
      "cell_type": "markdown",
      "metadata": {},
      "source": [
        "```{=mdx}\n",
        ":::提示\n",
        "点击 [这里](https://smith.langchain.com/public/3d766ecc-8f28-400b-8636-632e6f1598c7/r) 查看上述运行的 LangSmith 跟踪。\n",
        ":::\n",
        "\n",
        ":::提示\n",
        "聊天模型仅输出调用工具的请求。它们不会实际调用底层工具。\n",
        "\n",
        "如需了解如何调用工具，请参阅 [如何使用模型调用工具](/docs/how_to/tool_calling/)。\n",
        ":::\n",
        "```"
      ]
    }
  ],
  "metadata": {
    "kernelspec": {
      "display_name": "TypeScript",
      "language": "typescript",
      "name": "tslab"
    },
    "language_info": {
      "codemirror_mode": {
        "mode": "typescript",
        "name": "javascript",
        "typescript": true
      },
      "file_extension": ".ts",
      "mimetype": "text/typescript",
      "name": "typescript",
      "version": "3.7.2"
    }
  },
  "nbformat": 4,
  "nbformat_minor": 4
}