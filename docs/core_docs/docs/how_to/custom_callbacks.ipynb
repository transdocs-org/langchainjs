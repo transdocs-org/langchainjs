{
  "cells": [
    {
      "cell_type": "markdown",
      "metadata": {},
      "source": [
        "# 如何创建自定义回调处理器\n",
        "\n",
        ":::info 前置条件\n",
        "\n",
        "本指南假定您熟悉以下概念：\n",
        "\n",
        "- [回调](/docs/concepts/callbacks)\n",
        "\n",
        ":::\n",
        "\n",
        "LangChain 有一些内置的回调处理器，但通常您会希望创建带有自定义逻辑的处理器。\n",
        "\n",
        "要创建自定义回调处理器，我们需要确定我们希望回调处理器处理的[事件](https://api.js.langchain.com/interfaces/langchain_core.callbacks_base.CallbackHandlerMethods.html)，以及在触发事件时我们希望回调处理器执行的操作。然后，我们只需将该回调处理器附加到对象上，例如通过[构造函数](/docs/how_to/callbacks_constructor)或[在运行时](/docs/how_to/callbacks_runtime)。\n",
        "\n",
        "构建自定义回调处理器的一种简便方法是将其初始化为一个对象，其键是函数，函数名与我们要处理的事件相匹配。以下是一个仅处理聊天模型开始运行和模型运行期间流式传输令牌的示例："
      ]
    },
    {
      "cell_type": "code",
      "execution_count": 5,
      "metadata": {},
      "outputs": [
        {
          "name": "stdout",
          "output_type": "stream",
          "text": [
            "Chat model start: {\n",
            "  lc: 1,\n",
            "  type: \"constructor\",\n",
            "  id: [ \"langchain\", \"chat_models\", \"anthropic\", \"ChatAnthropic\" ],\n",
            "  kwargs: {\n",
            "    callbacks: undefined,\n",
            "    model: \"claude-3-sonnet-20240229\",\n",
            "    verbose: undefined,\n",
            "    anthropic_api_key: { lc: 1, type: \"secret\", id: [ \"ANTHROPIC_API_KEY\" ] },\n",
            "    api_key: { lc: 1, type: \"secret\", id: [ \"ANTHROPIC_API_KEY\" ] }\n",
            "  }\n",
            "} [\n",
            "  [\n",
            "    HumanMessage {\n",
            "      lc_serializable: true,\n",
            "      lc_kwargs: {\n",
            "        content: \"What is 1 + 2?\",\n",
            "        additional_kwargs: {},\n",
            "        response_metadata: {}\n",
            "      },\n",
            "      lc_namespace: [ \"langchain_core\", \"messages\" ],\n",
            "      content: \"What is 1 + 2?\",\n",
            "      name: undefined,\n",
            "      additional_kwargs: {},\n",
            "      response_metadata: {}\n",
            "    }\n",
            "  ]\n",
            "] b6e3b7ad-c602-4cef-9652-d51781a657b7\n"
          ]
        },
        {
          "name": "stdout",
          "output_type": "stream",
          "text": [
            "Chat model new token The\n",
            "Chat model new token  sum\n",
            "Chat model new token  of\n",
            "Chat model new token  \n",
            "Chat model new token 1\n",
            "Chat model new token  \n",
            "Chat model new token an\n",
            "Chat model new token d \n",
            "Chat model new token 2\n",
            "Chat model new token  \n",
            "Chat model new token is\n",
            "Chat model new token  \n",
            "Chat model new token 3\n",
            "Chat model new token .\n"
          ]
        }
      ],
      "source": [
        "import { ChatPromptTemplate } from \"@langchain/core/prompts\";\n",
        "import { ChatAnthropic } from \"@langchain/anthropic\";\n",
        "\n",
        "const prompt = ChatPromptTemplate.fromTemplate(`What is 1 + {number}?`);\n",
        "const model = new ChatAnthropic({\n",
        "  model: \"claude-3-sonnet-20240229\",\n",
        "});\n",
        "\n",
        "const chain = prompt.pipe(model);\n",
        "\n",
        "const customHandler = {\n",
        "  handleChatModelStart: async (llm, inputMessages, runId) => {\n",
        "    console.log(\"Chat model start:\", llm, inputMessages, runId)\n",
        "  },\n",
        "  handleLLMNewToken: async (token) => {\n",
        "    console.log(\"Chat model new token\", token);\n",
        "  }\n",
        "};\n",
        "\n",
        "const stream = await chain.stream({ number: \"2\" }, { callbacks: [customHandler] });\n",
        "\n",
        "for await (const _ of stream) {\n",
        "  // Just consume the stream so the callbacks run\n",
        "}"
      ]
    },
    {
      "cell_type": "markdown",
      "metadata": {},
      "source": [
        "你可以查看[此参考页面](https://api.js.langchain.com/interfaces/langchain_core.callbacks_base.CallbackHandlerMethods.html)，了解你可以处理的事件列表。请注意，`handleChain*` 事件会在大多数 LCEL 可运行对象中执行。\n",
        "\n",
        "## 下一步\n",
        "\n",
        "你现在已学会了如何创建自己的自定义回调处理器。\n",
        "\n",
        "接下来，请查看本节中的其他操作指南，例如[如何在无服务器环境中等待回调](/docs/how_to/callbacks_serverless)。"
      ]
    },
    {
      "cell_type": "code",
      "execution_count": null,
      "metadata": {},
      "outputs": [],
      "source": []
    }
  ],
  "metadata": {
    "kernelspec": {
      "display_name": "Deno",
      "language": "typescript",
      "name": "deno"
    },
    "language_info": {
      "file_extension": ".ts",
      "mimetype": "text/x.typescript",
      "name": "typescript",
      "nb_converter": "script",
      "pygments_lexer": "typescript",
      "version": "5.3.3"
    }
  },
  "nbformat": 4,
  "nbformat_minor": 2
}