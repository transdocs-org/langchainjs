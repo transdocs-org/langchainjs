{
  "cells": [
    {
      "cell_type": "markdown",
      "metadata": {},
      "source": [
        "# 如何强制工具调用行为\n",
        "\n",
        "```{=mdx}\n",
        "\n",
        ":::info 预备知识\n",
        "\n",
        "本指南假定您已熟悉以下概念：\n",
        "- [聊天模型](/docs/concepts/chat_models)\n",
        "- [LangChain 工具](/docs/concepts/tools)\n",
        "- [如何使用模型调用工具](/docs/how_to/tool_calling)\n",
        "\n",
        ":::\n",
        "\n",
        "```\n",
        "\n",
        "为了强制我们的语言模型选择特定工具，我们可以使用 `tool_choice` 参数来确保特定的行为。首先，我们定义我们的模型和工具："
      ]
    },
    {
      "cell_type": "code",
      "execution_count": 1,
      "metadata": {},
      "outputs": [],
      "source": [
        "import { tool } from '@langchain/core/tools';\n",
        "import { z } from 'zod';\n",
        "\n",
        "const add = tool((input) => {\n",
        "    return `${input.a + input.b}`\n",
        "}, {\n",
        "    name: \"add\",\n",
        "    description: \"Adds a and b.\",\n",
        "    schema: z.object({\n",
        "        a: z.number(),\n",
        "        b: z.number(),\n",
        "    })\n",
        "})\n",
        "\n",
        "const multiply = tool((input) => {\n",
        "    return `${input.a * input.b}`\n",
        "}, {\n",
        "    name: \"Multiply\",\n",
        "    description: \"Multiplies a and b.\",\n",
        "    schema: z.object({\n",
        "        a: z.number(),\n",
        "        b: z.number(),\n",
        "    })\n",
        "})\n",
        "\n",
        "const tools = [add, multiply]"
      ]
    },
    {
      "cell_type": "code",
      "execution_count": 2,
      "metadata": {},
      "outputs": [],
      "source": [
        "import { ChatOpenAI } from '@langchain/openai';\n",
        "\n",
        "const llm = new ChatOpenAI({\n",
        "  model: \"gpt-3.5-turbo\",\n",
        "})"
      ]
    },
    {
      "cell_type": "markdown",
      "metadata": {},
      "source": [
        "例如，我们可以强制我们的工具通过使用以下代码来调用乘法工具："
      ]
    },
    {
      "cell_type": "code",
      "execution_count": 3,
      "metadata": {},
      "outputs": [
        {
          "name": "stdout",
          "output_type": "stream",
          "text": [
            "[\n",
            "  {\n",
            "    \"name\": \"Multiply\",\n",
            "    \"args\": {\n",
            "      \"a\": 2,\n",
            "      \"b\": 4\n",
            "    },\n",
            "    \"type\": \"tool_call\",\n",
            "    \"id\": \"call_d5isFbUkn17Wjr6yEtNz7dDF\"\n",
            "  }\n",
            "]\n"
          ]
        }
      ],
      "source": [
        "const llmForcedToMultiply = llm.bindTools(tools, {\n",
        "  tool_choice: \"Multiply\",\n",
        "})\n",
        "const multiplyResult = await llmForcedToMultiply.invoke(\"what is 2 + 4\");\n",
        "console.log(JSON.stringify(multiplyResult.tool_calls, null, 2));"
      ]
    },
    {
      "cell_type": "markdown",
      "metadata": {},
      "source": [
        "即使我们传递给它一个不需要乘法运算的内容，它仍然会调用该工具！"
      ]
    },
    {
      "cell_type": "markdown",
      "metadata": {},
      "source": [
        "我们也可以通过将 `\"any\"`（或者对于 OpenAI 模型，使用等效的 `\"required\"`）传递给 `tool_choice` 参数，强制我们的工具至少选择其中一个工具。"
      ]
    },
    {
      "cell_type": "code",
      "execution_count": 4,
      "metadata": {},
      "outputs": [
        {
          "name": "stdout",
          "output_type": "stream",
          "text": [
            "[\n",
            "  {\n",
            "    \"name\": \"add\",\n",
            "    \"args\": {\n",
            "      \"a\": 2,\n",
            "      \"b\": 3\n",
            "    },\n",
            "    \"type\": \"tool_call\",\n",
            "    \"id\": \"call_La72g7Aj0XHG0pfPX6Dwg2vT\"\n",
            "  }\n",
            "]\n"
          ]
        }
      ],
      "source": [
        "const llmForcedToUseTool = llm.bindTools(tools, {\n",
        "  tool_choice: \"any\",\n",
        "})\n",
        "const anyToolResult = await llmForcedToUseTool.invoke(\"What day is today?\");\n",
        "console.log(JSON.stringify(anyToolResult.tool_calls, null, 2));"
      ]
    }
  ],
  "metadata": {
    "kernelspec": {
      "display_name": "TypeScript",
      "language": "typescript",
      "name": "tslab"
    },
    "language_info": {
      "codemirror_mode": {
        "mode": "typescript",
        "name": "javascript",
        "typescript": true
      },
      "file_extension": ".ts",
      "mimetype": "text/typescript",
      "name": "typescript",
      "version": "3.7.2"
    }
  },
  "nbformat": 4,
  "nbformat_minor": 2
}