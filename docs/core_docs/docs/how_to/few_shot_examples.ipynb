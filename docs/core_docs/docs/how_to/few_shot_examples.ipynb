{
  "cells": [
    {
      "cell_type": "raw",
      "id": "94c3ad61",
      "metadata": {},
      "source": [
        "---\n",
        "sidebar_position: 3\n",
        "---"
      ]
    },
    {
      "cell_type": "markdown",
      "id": "b91e03f1",
      "metadata": {},
      "source": [
        "# 如何使用少量示例\n",
        "\n",
        "在本指南中，我们将学习如何创建一个简单的提示模板，在生成时为模型提供示例输入和输出。给定LLM几个这样的示例被称为少量示例（few-shotting），是一种简单而强大的引导生成的方法，在某些情况下可以显著提升模型性能。\n",
        "\n",
        "少量示例提示模板可以从一组示例构建，或者通过一个[示例选择器](https://api.js.langchain.com/classes/langchain_core.example_selectors.BaseExampleSelector.html)类来构建，该类负责从已定义的示例集合中选择子集。\n",
        "\n",
        "本指南将介绍使用字符串提示模板的少量示例方法。关于针对聊天模型使用聊天消息进行少量示例的指南，请参见[此处](/docs/how_to/few_shot_examples_chat/)。\n",
        "\n",
        ":::info 预备知识\n",
        "\n",
        "本指南假设您已熟悉以下概念：\n",
        "\n",
        "- [提示模板](/docs/concepts/prompt_templates)\n",
        "- [示例选择器](/docs/concepts/example_selectors)\n",
        "- [LLMs](/docs/concepts/text_llms)\n",
        "- [向量存储](/docs/concepts/#vectorstores)\n",
        "\n",
        ":::\n",
        "\n",
        "## 为少量示例创建一个格式化工具\n",
        "\n",
        "配置一个将少量示例格式化为字符串的格式化工具。此格式化工具应为一个 `PromptTemplate` 对象。"
      ]
    },
    {
      "cell_type": "code",
      "execution_count": 1,
      "id": "4e70bce2",
      "metadata": {},
      "outputs": [],
      "source": [
        "import { PromptTemplate } from \"@langchain/core/prompts\";\n",
        "\n",
        "const examplePrompt = PromptTemplate.fromTemplate(\"Question: {question}\\n{answer}\")"
      ]
    },
    {
      "cell_type": "markdown",
      "id": "50846ad4",
      "metadata": {},
      "source": [
        "## 创建示例集\n",
        "\n",
        "接下来，我们将创建一个少量示例的列表。每个示例应是一个字典，表示我们上面定义的格式化提示的示例输入。"
      ]
    },
    {
      "cell_type": "code",
      "execution_count": 2,
      "id": "a44be840",
      "metadata": {},
      "outputs": [],
      "source": [
        "const examples = [\n",
        "    {\n",
        "      question: \"Who lived longer, Muhammad Ali or Alan Turing?\",\n",
        "      answer: `\n",
        "  Are follow up questions needed here: Yes.\n",
        "  Follow up: How old was Muhammad Ali when he died?\n",
        "  Intermediate answer: Muhammad Ali was 74 years old when he died.\n",
        "  Follow up: How old was Alan Turing when he died?\n",
        "  Intermediate answer: Alan Turing was 41 years old when he died.\n",
        "  So the final answer is: Muhammad Ali\n",
        "  `\n",
        "    },\n",
        "    {\n",
        "      question: \"When was the founder of craigslist born?\",\n",
        "      answer: `\n",
        "  Are follow up questions needed here: Yes.\n",
        "  Follow up: Who was the founder of craigslist?\n",
        "  Intermediate answer: Craigslist was founded by Craig Newmark.\n",
        "  Follow up: When was Craig Newmark born?\n",
        "  Intermediate answer: Craig Newmark was born on December 6, 1952.\n",
        "  So the final answer is: December 6, 1952\n",
        "  `\n",
        "    },\n",
        "    {\n",
        "      question: \"Who was the maternal grandfather of George Washington?\",\n",
        "      answer: `\n",
        "  Are follow up questions needed here: Yes.\n",
        "  Follow up: Who was the mother of George Washington?\n",
        "  Intermediate answer: The mother of George Washington was Mary Ball Washington.\n",
        "  Follow up: Who was the father of Mary Ball Washington?\n",
        "  Intermediate answer: The father of Mary Ball Washington was Joseph Ball.\n",
        "  So the final answer is: Joseph Ball\n",
        "  `\n",
        "    },\n",
        "    {\n",
        "      question: \"Are both the directors of Jaws and Casino Royale from the same country?\",\n",
        "      answer: `\n",
        "  Are follow up questions needed here: Yes.\n",
        "  Follow up: Who is the director of Jaws?\n",
        "  Intermediate Answer: The director of Jaws is Steven Spielberg.\n",
        "  Follow up: Where is Steven Spielberg from?\n",
        "  Intermediate Answer: The United States.\n",
        "  Follow up: Who is the director of Casino Royale?\n",
        "  Intermediate Answer: The director of Casino Royale is Martin Campbell.\n",
        "  Follow up: Where is Martin Campbell from?\n",
        "  Intermediate Answer: New Zealand.\n",
        "  So the final answer is: No\n",
        "  `\n",
        "    }\n",
        "  ];"
      ]
    },
    {
      "cell_type": "markdown",
      "id": "dad66af1",
      "metadata": {},
      "source": [
        "### 将示例和格式化器传递给 `FewShotPromptTemplate`\n",
        "\n",
        "最后，创建一个 [`FewShotPromptTemplate`](https://api.js.langchain.com/classes/langchain_core.prompts.FewShotPromptTemplate.html) 对象。该对象接收少量样本示例和用于格式化这些示例的格式化器。当此 `FewShotPromptTemplate` 被格式化时，它会使用 `examplePrompt` 格式化传入的示例，然后将它们添加到最终提示中的 `suffix` 之前："
      ]
    },
    {
      "cell_type": "code",
      "execution_count": 7,
      "id": "e76fa1ba",
      "metadata": {},
      "outputs": [
        {
          "name": "stdout",
          "output_type": "stream",
          "text": [
            "\n",
            "\n",
            "Question: Who lived longer, Muhammad Ali or Alan Turing?\n",
            "\n",
            "  Are follow up questions needed here: Yes.\n",
            "  Follow up: How old was Muhammad Ali when he died?\n",
            "  Intermediate answer: Muhammad Ali was 74 years old when he died.\n",
            "  Follow up: How old was Alan Turing when he died?\n",
            "  Intermediate answer: Alan Turing was 41 years old when he died.\n",
            "  So the final answer is: Muhammad Ali\n",
            "  \n",
            "\n",
            "Question: When was the founder of craigslist born?\n",
            "\n",
            "  Are follow up questions needed here: Yes.\n",
            "  Follow up: Who was the founder of craigslist?\n",
            "  Intermediate answer: Craigslist was founded by Craig Newmark.\n",
            "  Follow up: When was Craig Newmark born?\n",
            "  Intermediate answer: Craig Newmark was born on December 6, 1952.\n",
            "  So the final answer is: December 6, 1952\n",
            "  \n",
            "\n",
            "Question: Who was the maternal grandfather of George Washington?\n",
            "\n",
            "  Are follow up questions needed here: Yes.\n",
            "  Follow up: Who was the mother of George Washington?\n",
            "  Intermediate answer: The mother of George Washington was Mary Ball Washington.\n",
            "  Follow up: Who was the father of Mary Ball Washington?\n",
            "  Intermediate answer: The father of Mary Ball Washington was Joseph Ball.\n",
            "  So the final answer is: Joseph Ball\n",
            "  \n",
            "\n",
            "Question: Are both the directors of Jaws and Casino Royale from the same country?\n",
            "\n",
            "  Are follow up questions needed here: Yes.\n",
            "  Follow up: Who is the director of Jaws?\n",
            "  Intermediate Answer: The director of Jaws is Steven Spielberg.\n",
            "  Follow up: Where is Steven Spielberg from?\n",
            "  Intermediate Answer: The United States.\n",
            "  Follow up: Who is the director of Casino Royale?\n",
            "  Intermediate Answer: The director of Casino Royale is Martin Campbell.\n",
            "  Follow up: Where is Martin Campbell from?\n",
            "  Intermediate Answer: New Zealand.\n",
            "  So the final answer is: No\n",
            "  \n",
            "\n",
            "Question: Who was the father of Mary Ball Washington?\n"
          ]
        }
      ],
      "source": [
        "import { FewShotPromptTemplate } from \"@langchain/core/prompts\";\n",
        "\n",
        "const prompt = new FewShotPromptTemplate({\n",
        "    examples,\n",
        "    examplePrompt,\n",
        "    suffix: \"Question: {input}\",\n",
        "    inputVariables: [\"input\"],\n",
        "})\n",
        "\n",
        "const formatted = await prompt.format({ input: \"Who was the father of Mary Ball Washington?\" })\n",
        "console.log(formatted.toString())"
      ]
    },
    {
      "cell_type": "markdown",
      "id": "59c6f332",
      "metadata": {},
      "source": [
        "通过向模型提供这样的示例，我们可以引导模型生成更优的回答。"
      ]
    },
    {
      "cell_type": "markdown",
      "id": "bbe1f843",
      "metadata": {},
      "source": [
        "## 使用示例选择器\n",
        "\n",
        "我们将重用前面章节中的示例集和格式化程序。不过，这次不会将示例直接提供给 `FewShotPromptTemplate` 对象，而是将它们提供给一个名为 [`SemanticSimilarityExampleSelector`](https://api.js.langchain.com/classes/langchain_core.example_selectors.SemanticSimilarityExampleSelector.html) 的 `ExampleSelector` 实现实例。此类会根据初始集合中示例与输入内容的相似性来选择少量示例。它使用嵌入模型计算输入与少量示例之间的相似性，并使用向量存储来进行最近邻搜索。\n",
        "\n",
        "为了展示其效果，我们先单独初始化一个实例并调用它："
      ]
    },
    {
      "cell_type": "markdown",
      "id": "d1f350b4",
      "metadata": {},
      "source": [
        "为嵌入模型设置您的OpenAI API密钥\n",
        "```bash\n",
        "export OPENAI_API_KEY=\"...\"\n",
        "```"
      ]
    },
    {
      "cell_type": "code",
      "execution_count": 14,
      "id": "80c5ac5c",
      "metadata": {},
      "outputs": [
        {
          "name": "stdout",
          "output_type": "stream",
          "text": [
            "Examples most similar to the input: Who was the father of Mary Ball Washington?\n",
            "\n",
            "\n",
            "question: Who was the maternal grandfather of George Washington?\n",
            "answer: \n",
            "  Are follow up questions needed here: Yes.\n",
            "  Follow up: Who was the mother of George Washington?\n",
            "  Intermediate answer: The mother of George Washington was Mary Ball Washington.\n",
            "  Follow up: Who was the father of Mary Ball Washington?\n",
            "  Intermediate answer: The father of Mary Ball Washington was Joseph Ball.\n",
            "  So the final answer is: Joseph Ball\n",
            "  \n"
          ]
        }
      ],
      "source": [
        "import { SemanticSimilarityExampleSelector } from \"@langchain/core/example_selectors\";\n",
        "import { MemoryVectorStore } from \"langchain/vectorstores/memory\";\n",
        "import { OpenAIEmbeddings } from \"@langchain/openai\";\n",
        "\n",
        "const exampleSelector = await SemanticSimilarityExampleSelector.fromExamples(\n",
        "    // This is the list of examples available to select from.\n",
        "    examples,\n",
        "    // This is the embedding class used to produce embeddings which are used to measure semantic similarity.\n",
        "    new OpenAIEmbeddings(),\n",
        "    // This is the VectorStore class that is used to store the embeddings and do a similarity search over.\n",
        "    MemoryVectorStore,\n",
        "    {\n",
        "        // This is the number of examples to produce.\n",
        "        k: 1,\n",
        "    }\n",
        ")\n",
        "\n",
        "// Select the most similar example to the input.\n",
        "const question = \"Who was the father of Mary Ball Washington?\"\n",
        "const selectedExamples = await exampleSelector.selectExamples({ question })\n",
        "console.log(`Examples most similar to the input: ${question}`)\n",
        "for (const example of selectedExamples) {\n",
        "    console.log(\"\\n\");\n",
        "    console.log(Object.entries(example).map(([k, v]) => `${k}: ${v}`).join(\"\\n\"))\n",
        "}"
      ]
    },
    {
      "cell_type": "markdown",
      "id": "89ac47fe",
      "metadata": {},
      "source": [
        "现在，让我们创建一个 `FewShotPromptTemplate` 对象。该对象接收示例选择器和用于少量示例的格式化提示。"
      ]
    },
    {
      "cell_type": "code",
      "execution_count": 15,
      "id": "de69a214",
      "metadata": {},
      "outputs": [
        {
          "name": "stdout",
          "output_type": "stream",
          "text": [
            "\n",
            "\n",
            "Question: Who was the maternal grandfather of George Washington?\n",
            "\n",
            "  Are follow up questions needed here: Yes.\n",
            "  Follow up: Who was the mother of George Washington?\n",
            "  Intermediate answer: The mother of George Washington was Mary Ball Washington.\n",
            "  Follow up: Who was the father of Mary Ball Washington?\n",
            "  Intermediate answer: The father of Mary Ball Washington was Joseph Ball.\n",
            "  So the final answer is: Joseph Ball\n",
            "  \n",
            "\n",
            "Question: Who was the father of Mary Ball Washington?\n"
          ]
        }
      ],
      "source": [
        "const prompt = new FewShotPromptTemplate({\n",
        "    exampleSelector,\n",
        "    examplePrompt,\n",
        "    suffix: \"Question: {input}\",\n",
        "    inputVariables: [\"input\"],\n",
        "})\n",
        "\n",
        "const formatted = await prompt.invoke({ input: \"Who was the father of Mary Ball Washington?\" });\n",
        "console.log(formatted.toString())"
      ]
    },
    {
      "cell_type": "markdown",
      "id": "1b460794",
      "metadata": {},
      "source": [
        "## 下一步\n",
        "\n",
        "你现在已经学会了如何向提示中添加少量示例。\n",
        "\n",
        "接下来，请查看本节中有关提示模板的其他操作指南、关于[使用聊天模型进行少量示例](/docs/how_to/few_shot_examples_chat)的相关操作指南，或[示例选择器操作指南](/docs/how_to/example_selectors/)的其他内容。"
      ]
    }
  ],
  "metadata": {
    "kernelspec": {
      "display_name": "Deno",
      "language": "typescript",
      "name": "deno"
    },
    "language_info": {
      "file_extension": ".ts",
      "mimetype": "text/x.typescript",
      "name": "typescript",
      "nb_converter": "script",
      "pygments_lexer": "typescript",
      "version": "5.3.3"
    }
  },
  "nbformat": 4,
  "nbformat_minor": 5
}