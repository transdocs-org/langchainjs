{
  "cells": [
    {
      "cell_type": "markdown",
      "metadata": {},
      "source": [
        "# 如何禁用并行工具调用\n",
        "\n",
        "```{=mdx}\n",
        ":::info 前提条件\n",
        "\n",
        "本指南假定您已熟悉以下概念：\n",
        "\n",
        "- [LangChain 工具](/docs/concepts/tools)\n",
        "- [工具调用](/docs/concepts/tool_calling)\n",
        "- [自定义工具](/docs/how_to/custom_tools)\n",
        "\n",
        ":::\n",
        "```\n",
        "\n",
        ":::info 仅适用于 OpenAI\n",
        "\n",
        "此 API 目前仅受 OpenAI 支持。\n",
        "\n",
        ":::\n",
        "\n",
        "OpenAI 模型默认执行并行工具调用。这意味着，如果我们提出类似 `\"东京、纽约和芝加哥的天气如何？\"` 的问题，并且我们有一个获取天气的工具，它将会并行调用该工具三次。我们可以通过使用 `parallel_tool_call` 调用选项来强制其仅调用一次工具。"
      ]
    },
    {
      "cell_type": "markdown",
      "metadata": {},
      "source": [
        "首先，让我们设置我们的工具和模型："
      ]
    },
    {
      "cell_type": "code",
      "execution_count": 1,
      "metadata": {},
      "outputs": [],
      "source": [
        "import { ChatOpenAI } from \"@langchain/openai\";\n",
        "import { z } from \"zod\";\n",
        "import { tool } from \"@langchain/core/tools\";\n",
        "\n",
        "const adderTool = tool(async ({ a, b }) => {\n",
        "  return a + b;\n",
        "}, {\n",
        "  name: \"add\",\n",
        "  description: \"Adds a and b\",\n",
        "  schema: z.object({\n",
        "    a: z.number(),\n",
        "    b: z.number(),\n",
        "  })\n",
        "});\n",
        "\n",
        "const multiplyTool = tool(async ({ a, b }) => {\n",
        "  return a * b;\n",
        "}, {\n",
        "  name: \"multiply\",\n",
        "  description: \"Multiplies a and b\",\n",
        "  schema: z.object({\n",
        "    a: z.number(),\n",
        "    b: z.number(),\n",
        "  })\n",
        "});\n",
        "\n",
        "const tools = [adderTool, multiplyTool];\n",
        "\n",
        "const llm = new ChatOpenAI({\n",
        "  model: \"gpt-4o-mini\",\n",
        "  temperature: 0,\n",
        "});"
      ]
    },
    {
      "cell_type": "markdown",
      "metadata": {},
      "source": [
        "现在让我们快速展示一个关于如何禁用并行工具调用的示例："
      ]
    },
    {
      "cell_type": "code",
      "execution_count": 2,
      "metadata": {},
      "outputs": [
        {
          "name": "stdout",
          "output_type": "stream",
          "text": [
            "[\n",
            "  {\n",
            "    name: 'add',\n",
            "    args: { a: 5, b: 3 },\n",
            "    type: 'tool_call',\n",
            "    id: 'call_5bKOYerdQU6J5ERJJYnzYsGn'\n",
            "  }\n",
            "]\n"
          ]
        }
      ],
      "source": [
        "const llmWithTools = llm.bindTools(tools, { parallel_tool_calls: false });\n",
        "\n",
        "const result = await llmWithTools.invoke(\"Please call the first tool two times\");\n",
        "\n",
        "result.tool_calls;"
      ]
    },
    {
      "cell_type": "markdown",
      "metadata": {},
      "source": [
        "如我们所见，尽管我们明确告诉模型调用两次工具，但通过禁用并行工具调用，模型被限制只能调用一个。\n",
        "\n",
        "将此与不将 `parallel_tool_calls` 设为 false 时调用模型的情况进行比较："
      ]
    },
    {
      "cell_type": "code",
      "execution_count": 3,
      "metadata": {},
      "outputs": [
        {
          "name": "stdout",
          "output_type": "stream",
          "text": [
            "[\n",
            "  {\n",
            "    name: 'add',\n",
            "    args: { a: 1, b: 2 },\n",
            "    type: 'tool_call',\n",
            "    id: 'call_Ni0tF0nNtY66BBwB5vEP6oI4'\n",
            "  },\n",
            "  {\n",
            "    name: 'add',\n",
            "    args: { a: 3, b: 4 },\n",
            "    type: 'tool_call',\n",
            "    id: 'call_XucnTCfFqP1JBs3LtbOq5w3d'\n",
            "  }\n",
            "]\n"
          ]
        }
      ],
      "source": [
        "const llmWithNoBoundParam = llm.bindTools(tools);\n",
        "\n",
        "const result2 = await llmWithNoBoundParam.invoke(\"Please call the first tool two times\");\n",
        "\n",
        "result2.tool_calls;"
      ]
    },
    {
      "cell_type": "markdown",
      "metadata": {},
      "source": [
        "你会看到你得到了两个工具调用。\n",
        "\n",
        "你也可以像这样在运行时传入参数："
      ]
    },
    {
      "cell_type": "code",
      "execution_count": 4,
      "metadata": {},
      "outputs": [
        {
          "name": "stdout",
          "output_type": "stream",
          "text": [
            "[\n",
            "  {\n",
            "    name: 'add',\n",
            "    args: { a: 1, b: 2 },\n",
            "    type: 'tool_call',\n",
            "    id: 'call_TWo6auul71NUg1p0suzBKARt'\n",
            "  }\n",
            "]\n"
          ]
        }
      ],
      "source": [
        "const result3 = await llmWithNoBoundParam.invoke(\"Please call the first tool two times\", {\n",
        "  parallel_tool_calls: false,\n",
        "});\n",
        "\n",
        "result3.tool_calls;"
      ]
    },
    {
      "cell_type": "markdown",
      "metadata": {},
      "source": [
        "## 相关内容\n",
        "\n",
        "- [如何：创建自定义工具](/docs/how_to/custom_tools)\n",
        "- [如何：将运行时值传递给工具](/docs/how_to/tool_runtime)"
      ]
    }
  ],
  "metadata": {
    "kernelspec": {
      "display_name": "TypeScript",
      "language": "typescript",
      "name": "tslab"
    },
    "language_info": {
      "codemirror_mode": {
        "mode": "typescript",
        "name": "javascript",
        "typescript": true
      },
      "file_extension": ".ts",
      "mimetype": "text/typescript",
      "name": "typescript",
      "version": "3.7.2"
    }
  },
  "nbformat": 4,
  "nbformat_minor": 4
}