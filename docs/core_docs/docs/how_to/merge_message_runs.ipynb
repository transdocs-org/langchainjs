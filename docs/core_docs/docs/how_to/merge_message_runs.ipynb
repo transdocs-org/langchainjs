{
  "cells": [
    {
      "cell_type": "markdown",
      "id": "ac47bfab-0f4f-42ce-8bb6-898ef22a0338",
      "metadata": {},
      "source": [
        "# 如何合并相同类型的连续消息\n",
        "\n",
        ":::note\n",
        "`mergeMessageRuns` 函数可在 `@langchain/core` 版本 `0.2.8` 及以上版本中使用。\n",
        ":::\n",
        "\n",
        "某些模型不支持连续传递相同类型的（连续的）消息。\n",
        "\n",
        "`mergeMessageRuns` 工具可以轻松合并相同类型的连续消息。\n",
        "\n",
        "## 基本用法"
      ]
    },
    {
      "cell_type": "code",
      "execution_count": 1,
      "id": "1a215bbb-c05c-40b0-a6fd-d94884d517df",
      "metadata": {},
      "outputs": [
        {
          "name": "stdout",
          "output_type": "stream",
          "text": [
            "{\n",
            "  \"role\": \"system\",\n",
            "  \"content\": \"you're a good assistant.\\nyou always respond with a joke.\"\n",
            "}\n",
            "\n",
            "{\n",
            "  \"role\": \"human\",\n",
            "  \"content\": [\n",
            "    {\n",
            "      \"type\": \"text\",\n",
            "      \"text\": \"i wonder why it's called langchain\"\n",
            "    },\n",
            "    {\n",
            "      \"type\": \"text\",\n",
            "      \"text\": \"and who is harrison chasing anyways\"\n",
            "    }\n",
            "  ]\n",
            "}\n",
            "\n",
            "{\n",
            "  \"role\": \"ai\",\n",
            "  \"content\": \"Well, I guess they thought \\\"WordRope\\\" and \\\"SentenceString\\\" just didn't have the same ring to it!\\nWhy, he's probably chasing after the last cup of coffee in the office!\"\n",
            "}\n"
          ]
        }
      ],
      "source": [
        "import { HumanMessage, SystemMessage, AIMessage, mergeMessageRuns } from \"@langchain/core/messages\";\n",
        "\n",
        "const messages = [\n",
        "    new SystemMessage(\"you're a good assistant.\"),\n",
        "    new SystemMessage(\"you always respond with a joke.\"),\n",
        "    new HumanMessage({ content: [{\"type\": \"text\", \"text\": \"i wonder why it's called langchain\"}] }),\n",
        "    new HumanMessage(\"and who is harrison chasing anyways\"),\n",
        "    new AIMessage(\n",
        "        'Well, I guess they thought \"WordRope\" and \"SentenceString\" just didn\\'t have the same ring to it!'\n",
        "    ),\n",
        "    new AIMessage(\"Why, he's probably chasing after the last cup of coffee in the office!\"),\n",
        "];\n",
        "\n",
        "const merged = mergeMessageRuns(messages);\n",
        "console.log(merged.map((x) => JSON.stringify({\n",
        "    role: x._getType(),\n",
        "    content: x.content,\n",
        "}, null, 2)).join(\"\\n\\n\"));"
      ]
    },
    {
      "cell_type": "markdown",
      "id": "0544c811-7112-4b76-8877-cc897407c738",
      "metadata": {},
      "source": [
        "请注意，如果要合并的消息中的内容是内容块的列表，则合并后的消息将具有内容块的列表。如果要合并的两条消息的内容都是字符串，则它们的内容会用换行符连接起来。"
      ]
    },
    {
      "cell_type": "markdown",
      "id": "1b2eee74-71c8-4168-b968-bca580c25d18",
      "metadata": {},
      "source": [
        "## 链式操作\n",
        "\n",
        "`mergeMessageRuns` 可以以命令式（如上所示）或声明式的方式使用，便于与链中的其他组件组合使用："
      ]
    },
    {
      "cell_type": "code",
      "execution_count": 2,
      "id": "6d5a0283-11f8-435b-b27b-7b18f7693592",
      "metadata": {},
      "outputs": [
        {
          "name": "stdout",
          "output_type": "stream",
          "text": [
            "AIMessage {\n",
            "  lc_serializable: true,\n",
            "  lc_kwargs: {\n",
            "    content: [],\n",
            "    additional_kwargs: {\n",
            "      id: 'msg_01LsdS4bjQ3EznH7Tj4xujV1',\n",
            "      type: 'message',\n",
            "      role: 'assistant',\n",
            "      model: 'claude-3-sonnet-20240229',\n",
            "      stop_reason: 'end_turn',\n",
            "      stop_sequence: null,\n",
            "      usage: [Object]\n",
            "    },\n",
            "    tool_calls: [],\n",
            "    usage_metadata: { input_tokens: 84, output_tokens: 3, total_tokens: 87 },\n",
            "    invalid_tool_calls: [],\n",
            "    response_metadata: {}\n",
            "  },\n",
            "  lc_namespace: [ 'langchain_core', 'messages' ],\n",
            "  content: [],\n",
            "  name: undefined,\n",
            "  additional_kwargs: {\n",
            "    id: 'msg_01LsdS4bjQ3EznH7Tj4xujV1',\n",
            "    type: 'message',\n",
            "    role: 'assistant',\n",
            "    model: 'claude-3-sonnet-20240229',\n",
            "    stop_reason: 'end_turn',\n",
            "    stop_sequence: null,\n",
            "    usage: { input_tokens: 84, output_tokens: 3 }\n",
            "  },\n",
            "  response_metadata: {\n",
            "    id: 'msg_01LsdS4bjQ3EznH7Tj4xujV1',\n",
            "    model: 'claude-3-sonnet-20240229',\n",
            "    stop_reason: 'end_turn',\n",
            "    stop_sequence: null,\n",
            "    usage: { input_tokens: 84, output_tokens: 3 }\n",
            "  },\n",
            "  id: undefined,\n",
            "  tool_calls: [],\n",
            "  invalid_tool_calls: [],\n",
            "  usage_metadata: { input_tokens: 84, output_tokens: 3, total_tokens: 87 }\n",
            "}\n"
          ]
        }
      ],
      "source": [
        "import { ChatAnthropic } from \"@langchain/anthropic\";\n",
        "import { mergeMessageRuns } from \"@langchain/core/messages\";\n",
        "\n",
        "const llm = new ChatAnthropic({ model: \"claude-3-sonnet-20240229\", temperature: 0 });\n",
        "// Notice we don't pass in messages. This creates\n",
        "// a RunnableLambda that takes messages as input\n",
        "const merger = mergeMessageRuns();\n",
        "const chain = merger.pipe(llm);\n",
        "await chain.invoke(messages);"
      ]
    },
    {
      "cell_type": "markdown",
      "id": "72e90dce-693c-4842-9526-ce6460fe956b",
      "metadata": {},
      "source": [
        "查看 [LangSmith 跟踪](https://smith.langchain.com/public/48d256fb-fd7e-48a0-bdfd-217ab74ad01d/r)，我们可以看到消息在传递给模型之前会被合并。\n",
        "\n",
        "仅查看合并过程，我们可以看到它是一个Runnable对象，可以像所有Runnable一样被调用："
      ]
    },
    {
      "cell_type": "code",
      "execution_count": 3,
      "id": "460817a6-c327-429d-958e-181a8c46059c",
      "metadata": {},
      "outputs": [
        {
          "name": "stdout",
          "output_type": "stream",
          "text": [
            "[\n",
            "  SystemMessage {\n",
            "    lc_serializable: true,\n",
            "    lc_kwargs: {\n",
            "      content: \"you're a good assistant.\\nyou always respond with a joke.\",\n",
            "      name: undefined,\n",
            "      additional_kwargs: {},\n",
            "      response_metadata: {},\n",
            "      id: undefined\n",
            "    },\n",
            "    lc_namespace: [ 'langchain_core', 'messages' ],\n",
            "    content: \"you're a good assistant.\\nyou always respond with a joke.\",\n",
            "    name: undefined,\n",
            "    additional_kwargs: {},\n",
            "    response_metadata: {},\n",
            "    id: undefined\n",
            "  },\n",
            "  HumanMessage {\n",
            "    lc_serializable: true,\n",
            "    lc_kwargs: {\n",
            "      content: [Array],\n",
            "      name: undefined,\n",
            "      additional_kwargs: {},\n",
            "      response_metadata: {},\n",
            "      id: undefined\n",
            "    },\n",
            "    lc_namespace: [ 'langchain_core', 'messages' ],\n",
            "    content: [ [Object], [Object] ],\n",
            "    name: undefined,\n",
            "    additional_kwargs: {},\n",
            "    response_metadata: {},\n",
            "    id: undefined\n",
            "  },\n",
            "  AIMessage {\n",
            "    lc_serializable: true,\n",
            "    lc_kwargs: {\n",
            "      content: `Well, I guess they thought \"WordRope\" and \"SentenceString\" just didn't have the same ring to it!\\n` +\n",
            "        \"Why, he's probably chasing after the last cup of coffee in the office!\",\n",
            "      name: undefined,\n",
            "      additional_kwargs: {},\n",
            "      response_metadata: {},\n",
            "      id: undefined,\n",
            "      tool_calls: [],\n",
            "      invalid_tool_calls: [],\n",
            "      usage_metadata: undefined\n",
            "    },\n",
            "    lc_namespace: [ 'langchain_core', 'messages' ],\n",
            "    content: `Well, I guess they thought \"WordRope\" and \"SentenceString\" just didn't have the same ring to it!\\n` +\n",
            "      \"Why, he's probably chasing after the last cup of coffee in the office!\",\n",
            "    name: undefined,\n",
            "    additional_kwargs: {},\n",
            "    response_metadata: {},\n",
            "    id: undefined,\n",
            "    tool_calls: [],\n",
            "    invalid_tool_calls: [],\n",
            "    usage_metadata: undefined\n",
            "  }\n",
            "]\n"
          ]
        }
      ],
      "source": [
        "await merger.invoke(messages)"
      ]
    },
    {
      "cell_type": "markdown",
      "id": "4548d916-ce21-4dc6-8f19-eedb8003ace6",
      "metadata": {},
      "source": [
        "## API 参考\n",
        "\n",
        "有关所有参数的完整描述，请前往 [API 参考](https://api.js.langchain.com/functions/langchain_core.messages.mergeMessageRuns.html)。"
      ]
    }
  ],
  "metadata": {
    "kernelspec": {
      "display_name": "TypeScript",
      "language": "typescript",
      "name": "tslab"
    },
    "language_info": {
      "codemirror_mode": {
        "mode": "typescript",
        "name": "javascript",
        "typescript": true
      },
      "file_extension": ".ts",
      "mimetype": "text/typescript",
      "name": "typescript",
      "version": "3.7.2"
    }
  },
  "nbformat": 4,
  "nbformat_minor": 5
}