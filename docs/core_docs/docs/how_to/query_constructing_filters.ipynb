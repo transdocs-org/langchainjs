{
  "cells": [
    {
      "cell_type": "raw",
      "id": "66d43140",
      "metadata": {},
      "source": [
        "---\n",
        "keywords: [self-query]\n",
        "---"
      ]
    },
    {
      "cell_type": "markdown",
      "id": "f2195672-0cab-4967-ba8a-c6544635547d",
      "metadata": {},
      "source": [
        "# 如何构建过滤器\n",
        "\n",
        ":::info 前提条件\n",
        "\n",
        "本指南假定您已熟悉以下内容：\n",
        "\n",
        "- [查询分析](/docs/tutorials/rag#query-analysis)\n",
        "\n",
        ":::\n",
        "\n",
        "我们可能希望进行查询分析，以提取可传递给检索器的过滤器。一种我们让LLM表示这些过滤器的方式是使用Zod模式。然后就存在一个问题，即将该Zod模式转换为可以传递给特定检索器的过滤器。\n",
        "\n",
        "这可以手动完成，但LangChain也提供了一些“转换器”，能够将通用语法转换为每个检索器特定的过滤器。在这里，我们将介绍如何使用这些转换器。"
      ]
    },
    {
      "cell_type": "markdown",
      "id": "bc1302ff",
      "metadata": {},
      "source": [
        "## 环境配置\n",
        "\n",
        "### 安装依赖\n",
        "\n",
        "```{=mdx}\n",
        "import Npm2Yarn from \"@theme/Npm2Yarn\";\n",
        "\n",
        "<Npm2Yarn>\n",
        "  @langchain/core zod\n",
        "</Npm2Yarn>\n",
        "```\n"
      ]
    },
    {
      "cell_type": "markdown",
      "id": "70cd3b6d",
      "metadata": {},
      "source": [
        "\n",
        "在此示例中，`year` 和 `author` 均为用于过滤的属性。"
      ]
    },
    {
      "cell_type": "code",
      "execution_count": 4,
      "id": "44eb6d98",
      "metadata": {},
      "outputs": [],
      "source": [
        "import { z } from \"zod\";\n",
        "\n",
        "const searchSchema = z.object({\n",
        "  query: z.string(),\n",
        "  startYear: z.number().optional(),\n",
        "  author: z.string().optional(),\n",
        "})\n",
        "\n",
        "const searchQuery: z.infer<typeof searchSchema> = {\n",
        "  query: \"RAG\",\n",
        "  startYear: 2022,\n",
        "  author: \"LangChain\"\n",
        "}"
      ]
    },
    {
      "cell_type": "code",
      "execution_count": 6,
      "id": "e8ba6705",
      "metadata": {},
      "outputs": [],
      "source": [
        "import { Comparison, Comparator } from \"langchain/chains/query_constructor/ir\";\n",
        "\n",
        "function constructComparisons(query: z.infer<typeof searchSchema>): Comparison[] {\n",
        "  const comparisons: Comparison[] = [];\n",
        "  if (query.startYear !== undefined) {\n",
        "    comparisons.push(\n",
        "      new Comparison(\n",
        "        \"gt\" as Comparator,\n",
        "        \"start_year\",\n",
        "        query.startYear,\n",
        "      )\n",
        "    );\n",
        "  }\n",
        "  if (query.author !== undefined) {\n",
        "    comparisons.push(\n",
        "      new Comparison(\n",
        "        \"eq\" as Comparator,\n",
        "        \"author\",\n",
        "        query.author,\n",
        "      )\n",
        "    );\n",
        "  }\n",
        "  return comparisons;\n",
        "}\n",
        "\n",
        "const comparisons = constructComparisons(searchQuery);"
      ]
    },
    {
      "cell_type": "code",
      "execution_count": 9,
      "id": "2d0e9689",
      "metadata": {},
      "outputs": [],
      "source": [
        "import {\n",
        "  Operation,\n",
        "  Operator,\n",
        "} from \"langchain/chains/query_constructor/ir\";\n",
        "\n",
        "const _filter = new Operation(\"and\" as Operator, comparisons)"
      ]
    },
    {
      "cell_type": "code",
      "execution_count": 10,
      "id": "d75455ae",
      "metadata": {},
      "outputs": [
        {
          "data": {
            "text/plain": [
              "{\n",
              "  \u001b[32m\"$and\"\u001b[39m: [\n",
              "    { start_year: { \u001b[32m\"$gt\"\u001b[39m: \u001b[33m2022\u001b[39m } },\n",
              "    { author: { \u001b[32m\"$eq\"\u001b[39m: \u001b[32m\"LangChain\"\u001b[39m } }\n",
              "  ]\n",
              "}"
            ]
          },
          "execution_count": 10,
          "metadata": {},
          "output_type": "execute_result"
        }
      ],
      "source": [
        "import { ChromaTranslator } from \"@langchain/community/structured_query/chroma\";\n",
        "\n",
        "new ChromaTranslator().visitOperation(_filter)"
      ]
    },
    {
      "cell_type": "markdown",
      "id": "2df3ad75",
      "metadata": {},
      "source": [
        "## 下一步",
        "\n",
        "你现在已了解如何从任意查询创建特定筛选器。\n",
        "\n",
        "接下来，查看本节中其他一些查询分析指南，例如[如何使用少样本提示（few-shotting）来提升性能](/docs/how_to/query_no_queries)。"
      ]
    }
  ],
  "metadata": {
    "kernelspec": {
      "display_name": "Deno",
      "language": "typescript",
      "name": "deno"
    },
    "language_info": {
      "file_extension": ".ts",
      "mimetype": "text/x.typescript",
      "name": "typescript",
      "nb_converter": "script",
      "pygments_lexer": "typescript",
      "version": "5.3.3"
    }
  },
  "nbformat": 4,
  "nbformat_minor": 5
}