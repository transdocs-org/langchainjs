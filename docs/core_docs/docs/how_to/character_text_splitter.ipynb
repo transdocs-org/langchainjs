{
  "cells": [
    {
      "cell_type": "markdown",
      "id": "c3ee8d00",
      "metadata": {},
      "source": [
        "# 如何按字符分割\n",
        "\n",
        ":::info 前置条件\n",
        "\n",
        "本指南假定您已熟悉以下概念：\n",
        "\n",
        "- [文本分割器](/docs/concepts/text_splitters)\n",
        "\n",
        ":::\n",
        "\n",
        "这是分割文本的最简单方法。它基于给定的字符序列进行分割，默认值为 `\"\\n\\n\"`。块长度通过字符数量来衡量。\n",
        "\n",
        "1. 文本如何分割：按单个字符分隔符分割。\n",
        "2. 块大小如何衡量：通过字符数量衡量。\n",
        "\n",
        "若要直接获取字符串内容，请使用 `.splitText()`。\n",
        "\n",
        "若要创建 LangChain [Document](https://api.js.langchain.com/classes/langchain_core.documents.Document.html) 对象（例如，用于下游任务），请使用 `.createDocuments()`。"
      ]
    },
    {
      "cell_type": "code",
      "execution_count": 1,
      "id": "313fb032",
      "metadata": {},
      "outputs": [
        {
          "name": "stdout",
          "output_type": "stream",
          "text": [
            "Document {\n",
            "  pageContent: \"Madam Speaker, Madam Vice President, our First Lady and Second Gentleman. Members of Congress and th\"... 839 more characters,\n",
            "  metadata: { loc: { lines: { from: 1, to: 17 } } }\n",
            "}\n"
          ]
        }
      ],
      "source": [
        "import { CharacterTextSplitter } from \"@langchain/textsplitters\";\n",
        "import * as fs from \"node:fs\";\n",
        "\n",
        "// Load an example document\n",
        "const rawData = await fs.readFileSync(\"../../../../examples/state_of_the_union.txt\");\n",
        "const stateOfTheUnion = rawData.toString();\n",
        "\n",
        "const textSplitter = new CharacterTextSplitter({\n",
        "    separator: \"\\n\\n\",\n",
        "    chunkSize: 1000,\n",
        "    chunkOverlap: 200,\n",
        "});\n",
        "const texts = await textSplitter.createDocuments([stateOfTheUnion]);\n",
        "console.log(texts[0])"
      ]
    },
    {
      "cell_type": "markdown",
      "id": "dadcb9d6",
      "metadata": {},
      "source": [
        "您还可以将与每个文档关联的元数据传播到输出块中："
      ]
    },
    {
      "cell_type": "code",
      "execution_count": 2,
      "id": "1affda60",
      "metadata": {},
      "outputs": [
        {
          "name": "stdout",
          "output_type": "stream",
          "text": [
            "Document {\n",
            "  pageContent: \"Madam Speaker, Madam Vice President, our First Lady and Second Gentleman. Members of Congress and th\"... 839 more characters,\n",
            "  metadata: { document: 1, loc: { lines: { from: 1, to: 17 } } }\n",
            "}\n"
          ]
        }
      ],
      "source": [
        "const metadatas = [{ document: 1 }, { document: 2 }];\n",
        "\n",
        "const documents = await textSplitter.createDocuments(\n",
        "    [stateOfTheUnion, stateOfTheUnion], metadatas\n",
        ")\n",
        "\n",
        "console.log(documents[0])"
      ]
    },
    {
      "cell_type": "markdown",
      "id": "ee080e12-6f44-4311-b1ef-302520a41d66",
      "metadata": {},
      "source": [
        "要直接获取字符串内容，请使用 `.splitText()`："
      ]
    },
    {
      "cell_type": "code",
      "execution_count": 3,
      "id": "2a830a9f",
      "metadata": {},
      "outputs": [
        {
          "data": {
            "text/plain": [
              "\u001b[32m\"Madam Speaker, Madam Vice President, our First Lady and Second Gentleman. Members of Congress and th\"\u001b[39m... 839 more characters"
            ]
          },
          "execution_count": 3,
          "metadata": {},
          "output_type": "execute_result"
        }
      ],
      "source": [
        "const chunks = await textSplitter.splitText(stateOfTheUnion);\n",
        "\n",
        "chunks[0];"
      ]
    },
    {
      "cell_type": "markdown",
      "id": "cd4dd67a",
      "metadata": {},
      "source": [
        "## 下一步\n",
        "\n",
        "你现在已经了解了一种按字符分割文本的方法。\n",
        "\n",
        "接下来，查看一种[更高级的按字符分割方法](/docs/how_to/recursive_text_splitter)，或者完整的[检索增强生成教程](/docs/tutorials/rag)。"
      ]
    }
  ],
  "metadata": {
    "kernelspec": {
      "display_name": "Deno",
      "language": "typescript",
      "name": "deno"
    },
    "language_info": {
      "file_extension": ".ts",
      "mimetype": "text/x.typescript",
      "name": "typescript",
      "nb_converter": "script",
      "pygments_lexer": "typescript",
      "version": "5.3.3"
    }
  },
  "nbformat": 4,
  "nbformat_minor": 5
}