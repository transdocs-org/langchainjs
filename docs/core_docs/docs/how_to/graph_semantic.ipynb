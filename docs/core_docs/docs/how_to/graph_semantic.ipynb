{
  "cells": [
    {
      "cell_type": "markdown",
      "id": "2e17a273-bcfc-433f-8d42-2ba9533feeb8",
      "metadata": {},
      "source": [
        "# 如何在数据库上添加语义层\n",
        "\n",
        "你可以使用数据库查询从图数据库（如 Neo4j）中检索信息。\n",
        "一个可选方案是使用大语言模型（LLM）生成 Cypher 语句。\n",
        "虽然这个选项提供了极佳的灵活性，但该解决方案可能不够稳定，无法持续生成精确的 Cypher 语句。\n",
        "除了生成 Cypher 语句之外，我们还可以在语义层中将 Cypher 模板实现为工具，供 LLM 代理进行交互使用。\n",
        "\n",
        "![graph_semantic.png](../../static/img/graph_semantic.png)\n",
        "\n",
        "```{=mdx}\n",
        ":::warning\n",
        "\n",
        "本指南中的代码将对提供的数据库执行 Cypher 语句。\n",
        "在生产环境中，请确保数据库连接使用的凭据权限范围狭窄，仅包含必要的权限。\n",
        "\n",
        "如果不这样做，可能会导致数据损坏或丢失，因为调用代码\n",
        "可能会在被适当提示时尝试执行删除、修改数据的命令\n",
        "或者在数据库中存在敏感数据时读取这些数据。\n",
        "\n",
        ":::\n",
        "```"
      ]
    },
    {
      "cell_type": "markdown",
      "id": "e811ebad",
      "metadata": {},
      "source": [
        "## 配置\n",
        "#### 安装依赖\n",
        "\n",
        "```{=mdx}\n",
        "import IntegrationInstallTooltip from \"@mdx_components/integration_install_tooltip.mdx\";\n",
        "import Npm2Yarn from \"@theme/Npm2Yarn\";\n",
        "\n",
        "<IntegrationInstallTooltip></IntegrationInstallTooltip>\n",
        "\n",
        "<Npm2Yarn>\n",
        "  langchain @langchain/community @langchain/openai @langchain/core neo4j-driver zod\n",
        "</Npm2Yarn>\n",
        "```\n",
        "\n",
        "#### 设置环境变量\n",
        "\n",
        "在此示例中，我们将使用 OpenAI：\n",
        "\n",
        "```env\n",
        "OPENAI_API_KEY=your-api-key\n",
        "\n",
        "# 可选，使用 LangSmith 获取最佳观测性\n",
        "LANGSMITH_API_KEY=your-api-key\n",
        "LANGSMITH_TRACING=true\n",
        "\n",
        "# 如果你不在无服务器环境中，请减少追踪延迟\n",
        "# LANGCHAIN_CALLBACKS_BACKGROUND=true\n",
        "```\n",
        "\n",
        "接下来，我们需要定义 Neo4j 凭证。\n",
        "请按照 [这些安装步骤](https://neo4j.com/docs/operations-manual/current/installation/) 来设置 Neo4j 数据库。\n",
        "\n",
        "```env\n",
        "NEO4J_URI=\"bolt://localhost:7687\"\n",
        "NEO4J_USERNAME=\"neo4j\"\n",
        "NEO4J_PASSWORD=\"password\"\n",
        "```"
      ]
    },
    {
      "cell_type": "markdown",
      "id": "1e8fbc2c-b8e8-4c53-8fce-243cf99d3c1c",
      "metadata": {},
      "source": [
        "以下示例将创建一个与 Neo4j 数据库的连接，并用有关电影及其演员的示例数据填充该数据库。"
      ]
    },
    {
      "cell_type": "code",
      "execution_count": 1,
      "id": "c84b1449-6fcd-4140-b591-cb45e8dce207",
      "metadata": {},
      "outputs": [
        {
          "name": "stdout",
          "output_type": "stream",
          "text": [
            "Schema refreshed successfully.\n"
          ]
        },
        {
          "data": {
            "text/plain": [
              "[]"
            ]
          },
          "execution_count": 1,
          "metadata": {},
          "output_type": "execute_result"
        }
      ],
      "source": [
        "import \"neo4j-driver\";\n",
        "import { Neo4jGraph } from \"@langchain/community/graphs/neo4j_graph\";\n",
        "\n",
        "const url = process.env.NEO4J_URI;\n",
        "const username = process.env.NEO4J_USER;\n",
        "const password = process.env.NEO4J_PASSWORD;\n",
        "const graph = await Neo4jGraph.initialize({ url, username, password });\n",
        "\n",
        "// Import movie information\n",
        "const moviesQuery = `LOAD CSV WITH HEADERS FROM \n",
        "'https://raw.githubusercontent.com/tomasonjo/blog-datasets/main/movies/movies_small.csv'\n",
        "AS row\n",
        "MERGE (m:Movie {id:row.movieId})\n",
        "SET m.released = date(row.released),\n",
        "    m.title = row.title,\n",
        "    m.imdbRating = toFloat(row.imdbRating)\n",
        "FOREACH (director in split(row.director, '|') | \n",
        "    MERGE (p:Person {name:trim(director)})\n",
        "    MERGE (p)-[:DIRECTED]->(m))\n",
        "FOREACH (actor in split(row.actors, '|') | \n",
        "    MERGE (p:Person {name:trim(actor)})\n",
        "    MERGE (p)-[:ACTED_IN]->(m))\n",
        "FOREACH (genre in split(row.genres, '|') | \n",
        "    MERGE (g:Genre {name:trim(genre)})\n",
        "    MERGE (m)-[:IN_GENRE]->(g))`\n",
        "\n",
        "await graph.query(moviesQuery);"
      ]
    },
    {
      "cell_type": "markdown",
      "id": "403b9acd-aa0d-4157-b9de-6ec426835c43",
      "metadata": {},
      "source": [
        "## 使用Cypher模板的自定义工具\n",
        "\n",
        "语义层由各种工具组成，这些工具暴露给LLM，供其用于与知识图谱进行交互。\n",
        "这些工具可以具有不同的复杂度。你可以将语义层中的每个工具看作是一个函数。\n",
        "\n",
        "我们将要实现的函数是检索有关电影或其演职人员的信息。"
      ]
    },
    {
      "cell_type": "code",
      "execution_count": 2,
      "id": "d1dc1c8c-f343-4024-924b-a8a86cf5f1af",
      "metadata": {},
      "outputs": [],
      "source": [
        "const descriptionQuery = `MATCH (m:Movie|Person)\n",
        "WHERE m.title CONTAINS $candidate OR m.name CONTAINS $candidate\n",
        "MATCH (m)-[r:ACTED_IN|HAS_GENRE]-(t)\n",
        "WITH m, type(r) as type, collect(coalesce(t.name, t.title)) as names\n",
        "WITH m, type+\": \"+reduce(s=\"\", n IN names | s + n + \", \") as types\n",
        "WITH m, collect(types) as contexts\n",
        "WITH m, \"type:\" + labels(m)[0] + \"\\ntitle: \"+ coalesce(m.title, m.name) \n",
        "       + \"\\nyear: \"+coalesce(m.released,\"\") +\"\\n\" +\n",
        "       reduce(s=\"\", c in contexts | s + substring(c, 0, size(c)-2) +\"\\n\") as context\n",
        "RETURN context LIMIT 1`\n",
        "\n",
        "const getInformation = async (entity: string) => {\n",
        "    try {\n",
        "        const data = await graph.query(descriptionQuery, { candidate: entity });\n",
        "        return data[0][\"context\"];\n",
        "    } catch (error) {\n",
        "        return \"No information was found\";\n",
        "    }\n",
        "    \n",
        "}"
      ]
    },
    {
      "cell_type": "markdown",
      "id": "bdecc24b-8065-4755-98cc-9c6d093d4897",
      "metadata": {},
      "source": [
        "你可以观察到，我们已经定义了用于检索信息的Cypher语句。\n",
        "因此，我们可以避免生成Cypher语句，而仅使用LLM代理来填充输入参数。\n",
        "为了向LLM代理提供有关何时使用工具及其输入参数的附加信息，我们将函数封装为工具。"
      ]
    },
    {
      "cell_type": "code",
      "execution_count": 3,
      "id": "f4cde772-0d05-475d-a2f0-b53e1669bd13",
      "metadata": {},
      "outputs": [],
      "source": [
        "import { tool } from \"@langchain/core/tools\";\n",
        "import { z } from \"zod\";\n",
        "\n",
        "const informationTool = tool((input) => {\n",
        "    return getInformation(input.entity);\n",
        "}, {\n",
        "    name: \"Information\",\n",
        "    description: \"useful for when you need to answer questions about various actors or movies\",\n",
        "    schema: z.object({\n",
        "        entity: z.string().describe(\"movie or a person mentioned in the question\"),\n",
        "    }),\n",
        "});"
      ]
    },
    {
      "cell_type": "markdown",
      "id": "ff4820aa-2b57-4558-901f-6d984b326738",
      "metadata": {},
      "source": [
        "## OpenAI 代理\n",
        "\n",
        "LangChain 表达式语言使得通过语义层与图数据库交互的代理定义变得非常便捷。"
      ]
    },
    {
      "cell_type": "code",
      "execution_count": 12,
      "id": "6e959ac2-537d-4358-a43b-e3a47f68e1d6",
      "metadata": {},
      "outputs": [],
      "source": [
        "import { ChatOpenAI } from \"@langchain/openai\";\n",
        "import { AgentExecutor } from \"langchain/agents\";\n",
        "import { formatToOpenAIFunctionMessages } from \"langchain/agents/format_scratchpad\";\n",
        "import { OpenAIFunctionsAgentOutputParser } from \"langchain/agents/openai/output_parser\";\n",
        "import { convertToOpenAIFunction } from \"@langchain/core/utils/function_calling\";\n",
        "import { ChatPromptTemplate, MessagesPlaceholder } from \"@langchain/core/prompts\";\n",
        "import { AIMessage, BaseMessage, HumanMessage } from \"@langchain/core/messages\";\n",
        "import { RunnableSequence } from \"@langchain/core/runnables\";\n",
        "\n",
        "const llm = new ChatOpenAI({ model: \"gpt-3.5-turbo\", temperature: 0 })\n",
        "const tools = [informationTool]\n",
        "\n",
        "const llmWithTools = llm.bind({\n",
        "    functions: tools.map(convertToOpenAIFunction),\n",
        "})\n",
        "\n",
        "const prompt = ChatPromptTemplate.fromMessages(\n",
        "    [\n",
        "        [\n",
        "            \"system\",\n",
        "            \"You are a helpful assistant that finds information about movies and recommends them. If tools require follow up questions, make sure to ask the user for clarification. Make sure to include any available options that need to be clarified in the follow up questions Do only the things the user specifically requested.\"\n",
        "        ],\n",
        "        new MessagesPlaceholder(\"chat_history\"),\n",
        "        [\"human\", \"{input}\"],\n",
        "        new MessagesPlaceholder(\"agent_scratchpad\"),\n",
        "    ]\n",
        ")\n",
        "\n",
        "const _formatChatHistory = (chatHistory) => {\n",
        "    const buffer: Array<BaseMessage> = []\n",
        "    for (const [human, ai] of chatHistory) {\n",
        "        buffer.push(new HumanMessage({ content: human }))\n",
        "        buffer.push(new AIMessage({ content: ai }))\n",
        "    }\n",
        "    return buffer\n",
        "}\n",
        "\n",
        "const agent = RunnableSequence.from([\n",
        "    {\n",
        "        input: (x) => x.input,\n",
        "        chat_history: (x) => {\n",
        "            if (\"chat_history\" in x) {\n",
        "                return _formatChatHistory(x.chat_history);\n",
        "            }\n",
        "            return [];\n",
        "        },\n",
        "        agent_scratchpad: (x) => {\n",
        "            if (\"steps\" in x) {\n",
        "                return formatToOpenAIFunctionMessages(\n",
        "                    x.steps\n",
        "                );\n",
        "            }\n",
        "            return [];\n",
        "        },\n",
        "    },\n",
        "    prompt,\n",
        "    llmWithTools,\n",
        "    new OpenAIFunctionsAgentOutputParser(),\n",
        "])\n",
        "\n",
        "const agentExecutor = new AgentExecutor({ agent, tools });"
      ]
    },
    {
      "cell_type": "code",
      "execution_count": 13,
      "id": "b0459833-fe84-4ebc-9823-a3a3ffd929e9",
      "metadata": {},
      "outputs": [
        {
          "data": {
            "text/plain": [
              "{\n",
              "  input: \u001b[32m\"Who played in Casino?\"\u001b[39m,\n",
              "  output: \u001b[32m'The movie \"Casino\" starred James Woods, Joe Pesci, Robert De Niro, and Sharon Stone.'\u001b[39m\n",
              "}"
            ]
          },
          "execution_count": 13,
          "metadata": {},
          "output_type": "execute_result"
        }
      ],
      "source": [
        "await agentExecutor.invoke({ input: \"Who played in Casino?\" })"
      ]
    }
  ],
  "metadata": {
    "kernelspec": {
      "display_name": "Deno",
      "language": "typescript",
      "name": "deno"
    },
    "language_info": {
      "file_extension": ".ts",
      "mimetype": "text/x.typescript",
      "name": "typescript",
      "nb_converter": "script",
      "pygments_lexer": "typescript",
      "version": "5.3.3"
    }
  },
  "nbformat": 4,
  "nbformat_minor": 5
}