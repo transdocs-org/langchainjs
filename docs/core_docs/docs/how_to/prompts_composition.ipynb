{
  "cells": [
    {
      "cell_type": "raw",
      "id": "02a1c8fb",
      "metadata": {},
      "source": [
        "---\n",
        "sidebar_position: 5\n",
        "---"
      ]
    },
    {
      "cell_type": "markdown",
      "id": "4de4e022",
      "metadata": {},
      "source": [
        "# 如何组合提示词\n",
        "\n",
        ":::info 预备知识\n",
        "\n",
        "本指南假设您已熟悉以下概念：\n",
        "\n",
        "- [提示词模板](/docs/concepts/prompt_templates)\n",
        "\n",
        ":::\n",
        "\n",
        "LangChain 提供了一个用户友好的界面，用于将提示词的不同部分组合在一起。您可以使用字符串提示词或聊天提示词进行组合。以这种方式构建提示词可以方便组件的重复使用。"
      ]
    },
    {
      "cell_type": "markdown",
      "id": "c3190650",
      "metadata": {},
      "source": [
        "## 字符串提示组合\n",
        "\n",
        "在使用字符串提示时，每个模板会被连接在一起。你可以直接操作提示或字符串（列表中的第一个元素必须是提示）。"
      ]
    },
    {
      "cell_type": "code",
      "execution_count": 3,
      "id": "69b17f05",
      "metadata": {},
      "outputs": [
        {
          "data": {
            "text/plain": [
              "PromptTemplate {\n",
              "  lc_serializable: \u001b[33mtrue\u001b[39m,\n",
              "  lc_kwargs: {\n",
              "    inputVariables: [ \u001b[32m\"topic\"\u001b[39m, \u001b[32m\"language\"\u001b[39m ],\n",
              "    templateFormat: \u001b[32m\"f-string\"\u001b[39m,\n",
              "    template: \u001b[32m\"Tell me a joke about {topic}, make it funny and in {language}\"\u001b[39m\n",
              "  },\n",
              "  lc_runnable: \u001b[33mtrue\u001b[39m,\n",
              "  name: \u001b[90mundefined\u001b[39m,\n",
              "  lc_namespace: [ \u001b[32m\"langchain_core\"\u001b[39m, \u001b[32m\"prompts\"\u001b[39m, \u001b[32m\"prompt\"\u001b[39m ],\n",
              "  inputVariables: [ \u001b[32m\"topic\"\u001b[39m, \u001b[32m\"language\"\u001b[39m ],\n",
              "  outputParser: \u001b[90mundefined\u001b[39m,\n",
              "  partialVariables: \u001b[90mundefined\u001b[39m,\n",
              "  templateFormat: \u001b[32m\"f-string\"\u001b[39m,\n",
              "  template: \u001b[32m\"Tell me a joke about {topic}, make it funny and in {language}\"\u001b[39m,\n",
              "  validateTemplate: \u001b[33mtrue\u001b[39m\n",
              "}"
            ]
          },
          "execution_count": 3,
          "metadata": {},
          "output_type": "execute_result"
        }
      ],
      "source": [
        "import { PromptTemplate } from \"@langchain/core/prompts\";\n",
        "\n",
        "const prompt = PromptTemplate.fromTemplate(`Tell me a joke about {topic}, make it funny and in {language}`)\n",
        "\n",
        "prompt"
      ]
    },
    {
      "cell_type": "code",
      "execution_count": 4,
      "id": "dbba24ba",
      "metadata": {},
      "outputs": [
        {
          "data": {
            "text/plain": [
              "\u001b[32m\"Tell me a joke about sports, make it funny and in spanish\"\u001b[39m"
            ]
          },
          "execution_count": 4,
          "metadata": {},
          "output_type": "execute_result"
        }
      ],
      "source": [
        "await prompt.format({ topic: \"sports\", language: \"spanish\" })"
      ]
    },
    {
      "cell_type": "markdown",
      "id": "4e4f6a8a",
      "metadata": {},
      "source": [
        "## 聊天提示词构成"
      ]
    },
    {
      "cell_type": "markdown",
      "id": "8554bae5",
      "metadata": {},
      "source": [
        "一个聊天提示由一系列消息组成。与上面的例子类似，我们可以串联聊天提示模板。每个新元素都是最终提示中的新消息。\n",
        "\n",
        "首先，让我们用一个 [`SystemMessage`](https://api.python.langchain.com/en/latest/messages/langchain_core.messages.system.SystemMessage.html) 初始化 [`ChatPromptTemplate`](https://api.python.langchain.com/en/latest/prompts/langchain_core.prompts.chat.ChatPromptTemplate.html)。"
      ]
    },
    {
      "cell_type": "code",
      "execution_count": 5,
      "id": "cab8dd65",
      "metadata": {},
      "outputs": [],
      "source": [
        "import { AIMessage, HumanMessage, SystemMessage} from \"@langchain/core/messages\"\n",
        "\n",
        "const prompt = new SystemMessage(\"You are a nice pirate\")"
      ]
    },
    {
      "cell_type": "markdown",
      "id": "30656ef8",
      "metadata": {},
      "source": [
        "然后你可以轻松地将其与其他消息*或*消息模板组合创建一个管道。\n",
        "当没有变量需要格式化时使用`BaseMessage`，当有变量需要格式化时使用`MessageTemplate`。你也可以直接使用一个字符串（注意：这将自动被推断为一个[`HumanMessagePromptTemplate`](https://api.js.langchain.com/classes/langchain_core.prompts.HumanMessagePromptTemplate.html)）。"
      ]
    },
    {
      "cell_type": "code",
      "execution_count": 6,
      "id": "a2ddd0a1",
      "metadata": {},
      "outputs": [],
      "source": [
        "import { HumanMessagePromptTemplate } from \"@langchain/core/prompts\"\n",
        "\n",
        "const newPrompt = HumanMessagePromptTemplate.fromTemplate([prompt, new HumanMessage(\"Hi\"), new AIMessage(\"what?\"), \"{input}\"])"
      ]
    },
    {
      "cell_type": "markdown",
      "id": "72294e1b",
      "metadata": {},
      "source": [
        "在底层，这会创建一个ChatPromptTemplate类的实例，因此你可以像以前一样使用它！"
      ]
    },
    {
      "cell_type": "code",
      "execution_count": 8,
      "id": "297932de",
      "metadata": {},
      "outputs": [
        {
          "data": {
            "text/plain": [
              "[\n",
              "  HumanMessage {\n",
              "    lc_serializable: \u001b[33mtrue\u001b[39m,\n",
              "    lc_kwargs: {\n",
              "      content: [\n",
              "        { type: \u001b[32m\"text\"\u001b[39m, text: \u001b[32m\"You are a nice pirate\"\u001b[39m },\n",
              "        { type: \u001b[32m\"text\"\u001b[39m, text: \u001b[32m\"Hi\"\u001b[39m },\n",
              "        { type: \u001b[32m\"text\"\u001b[39m, text: \u001b[32m\"what?\"\u001b[39m },\n",
              "        { type: \u001b[32m\"text\"\u001b[39m, text: \u001b[32m\"i said hi\"\u001b[39m }\n",
              "      ],\n",
              "      additional_kwargs: {},\n",
              "      response_metadata: {}\n",
              "    },\n",
              "    lc_namespace: [ \u001b[32m\"langchain_core\"\u001b[39m, \u001b[32m\"messages\"\u001b[39m ],\n",
              "    content: [\n",
              "      { type: \u001b[32m\"text\"\u001b[39m, text: \u001b[32m\"You are a nice pirate\"\u001b[39m },\n",
              "      { type: \u001b[32m\"text\"\u001b[39m, text: \u001b[32m\"Hi\"\u001b[39m },\n",
              "      { type: \u001b[32m\"text\"\u001b[39m, text: \u001b[32m\"what?\"\u001b[39m },\n",
              "      { type: \u001b[32m\"text\"\u001b[39m, text: \u001b[32m\"i said hi\"\u001b[39m }\n",
              "    ],\n",
              "    name: \u001b[90mundefined\u001b[39m,\n",
              "    additional_kwargs: {},\n",
              "    response_metadata: {}\n",
              "  }\n",
              "]"
            ]
          },
          "execution_count": 8,
          "metadata": {},
          "output_type": "execute_result"
        }
      ],
      "source": [
        "await newPrompt.formatMessages({ input: \"i said hi\" })"
      ]
    },
    {
      "cell_type": "markdown",
      "id": "0e1d47e3-b05a-4aef-a58c-3057fa628c1c",
      "metadata": {},
      "source": [
        "## 使用 PipelinePrompt"
      ]
    },
    {
      "cell_type": "markdown",
      "id": "0a5892f9-e4d8-4b7c-b6a5-4651539b9734",
      "metadata": {},
      "source": [
        "LangChain 包含一个名为 [`PipelinePromptTemplate`](https://api.js.langchain.com/classes/_langchain_core.prompts.PipelinePromptTemplate.html) 的类，当你想要重复使用提示的一部分时，它会非常有用。一个 PipelinePrompt 主要由两部分组成：\n",
        "\n",
        "- 最终提示：返回的最终提示\n",
        "- 管线提示：由字符串名称和提示模板组成的元组列表。每个提示模板将被格式化，然后以相同名称的变量形式传递给后续的提示模板。"
      ]
    },
    {
      "cell_type": "code",
      "execution_count": 1,
      "id": "4face631-74d7-49ca-93b1-1e6e66fa58e2",
      "metadata": {},
      "outputs": [],
      "source": [
        "import {\n",
        "    PromptTemplate,\n",
        "    PipelinePromptTemplate,\n",
        "  } from \"@langchain/core/prompts\";\n",
        "  \n",
        "const fullPrompt = PromptTemplate.fromTemplate(`{introduction}\n",
        "\n",
        "{example}\n",
        "\n",
        "{start}`);\n",
        "\n",
        "const introductionPrompt = PromptTemplate.fromTemplate(\n",
        "`You are impersonating {person}.`\n",
        ");\n",
        "\n",
        "const examplePrompt =\n",
        "PromptTemplate.fromTemplate(`Here's an example of an interaction:\n",
        "Q: {example_q}\n",
        "A: {example_a}`);\n",
        "\n",
        "const startPrompt = PromptTemplate.fromTemplate(`Now, do this for real!\n",
        "Q: {input}\n",
        "A:`);\n",
        "\n",
        "const composedPrompt = new PipelinePromptTemplate({\n",
        "pipelinePrompts: [\n",
        "    {\n",
        "    name: \"introduction\",\n",
        "    prompt: introductionPrompt,\n",
        "    },\n",
        "    {\n",
        "    name: \"example\",\n",
        "    prompt: examplePrompt,\n",
        "    },\n",
        "    {\n",
        "    name: \"start\",\n",
        "    prompt: startPrompt,\n",
        "    },\n",
        "],\n",
        "finalPrompt: fullPrompt,\n",
        "});\n",
        "  \n",
        "\n",
        "  "
      ]
    },
    {
      "cell_type": "code",
      "execution_count": 2,
      "id": "c6cabb16-ea30-4de0-8548-dcce84df8421",
      "metadata": {},
      "outputs": [
        {
          "name": "stdout",
          "output_type": "stream",
          "text": [
            "You are impersonating Elon Musk.\n",
            "\n",
            "Here's an example of an interaction:\n",
            "Q: What's your favorite car?\n",
            "A: Telsa\n",
            "\n",
            "Now, do this for real!\n",
            "Q: What's your favorite social media site?\n",
            "A:\n"
          ]
        }
      ],
      "source": [
        "const formattedPrompt = await composedPrompt.format({\n",
        "    person: \"Elon Musk\",\n",
        "    example_q: `What's your favorite car?`,\n",
        "    example_a: \"Telsa\",\n",
        "    input: `What's your favorite social media site?`,\n",
        "  });\n",
        "  \n",
        "  \n",
        "console.log(formattedPrompt);\n"
      ]
    },
    {
      "cell_type": "markdown",
      "id": "96922030",
      "metadata": {},
      "source": [
        "## 下一步\n",
        "\n",
        "你现在已经学会了如何将提示词组合在一起。\n",
        "\n",
        "接下来，请查看本节中有关提示模板的其他操作指南，例如[将少量示例添加到提示模板](/docs/how_to/few_shot_examples_chat)。"
      ]
    }
  ],
  "metadata": {
    "kernelspec": {
      "display_name": "Deno",
      "language": "typescript",
      "name": "deno"
    },
    "language_info": {
      "file_extension": ".ts",
      "mimetype": "text/x.typescript",
      "name": "typescript",
      "nb_converter": "script",
      "pygments_lexer": "typescript",
      "version": "5.3.3"
    }
  },
  "nbformat": 4,
  "nbformat_minor": 5
}