{
  "cells": [
    {
      "cell_type": "markdown",
      "metadata": {},
      "source": [
        "# 如何向聊天机器人添加工具\n",
        "\n",
        ":::info 前提条件\n",
        "\n",
        "本指南假定您熟悉以下概念：\n",
        "\n",
        "- [聊天机器人](/docs/concepts/messages)\n",
        "- [代理](https://langchain-ai.github.io/langgraphjs/tutorials/multi_agent/agent_supervisor/)\n",
        "- [聊天历史](/docs/concepts/chat_history)\n",
        "\n",
        ":::\n",
        "\n",
        "本节将介绍如何创建交互式代理：能够使用工具与其他系统和API交互的聊天机器人。\n",
        "\n",
        ":::note\n",
        "\n",
        "此前的教程基于 [RunnableWithMessageHistory](https://api.js.langchain.com/classes/_langchain_core.runnables.RunnableWithMessageHistory.html) 构建了一个聊天机器人。您可以在 [v0.2 文档](https://js.langchain.com/v0.2/docs/how_to/chatbots_tools/) 中查看该版本的教程。\n",
        "\n",
        "LangGraph 的实现相较于 `RunnableWithMessageHistory` 具备多项优势，包括能够持久化保存应用程序状态的任意组件（而不仅限于消息）。\n",
        "\n",
        ":::\n",
        "\n",
        "## 准备工作\n",
        "\n",
        "在本指南中，我们将使用一个[工具调用代理](https://langchain-ai.github.io/langgraphjs/concepts/agentic_concepts/#tool-calling-agent)，并仅使用一个用于网页搜索的工具。默认情况下，我们将使用 [Tavily](/docs/integrations/tools/tavily_search)，但您可以替换为任何类似工具。本节其余部分假定您正在使用 Tavily。\n",
        "\n",
        "您需要在 Tavily 网站上[注册账户](https://tavily.com/)，并安装以下包：\n",
        "\n",
        "```{=mdx}\n",
        "import Npm2Yarn from \"@theme/Npm2Yarn\";\n",
        "\n",
        "<Npm2Yarn>\n",
        "  @langchain/core @langchain/langgraph @langchain/community\n",
        "</Npm2Yarn>\n",
        "```\n",
        "\n",
        "我们还应设置一个聊天模型，用于以下示例中。\n",
        "\n",
        "```{=mdx}\n",
        "import ChatModelTabs from \"@theme/ChatModelTabs\";\n",
        "\n",
        "<ChatModelTabs customVarName=\"llm\" />\n",
        "```\n",
        "\n",
        "```typescript\n",
        "process.env.TAVILY_API_KEY = \"YOUR_API_KEY\";\n",
        "```"
      ]
    },
    {
      "cell_type": "markdown",
      "metadata": {},
      "source": [
        "## 创建一个代理\n",
        "\n",
        "我们的最终目标是创建一个能够以对话方式回应用户问题的代理，同时在需要时能够查找信息。\n",
        "\n",
        "首先，让我们初始化 Tavily 和一个能够调用工具的 OpenAI 聊天模型："
      ]
    },
    {
      "cell_type": "code",
      "execution_count": 1,
      "metadata": {},
      "outputs": [],
      "source": [
        "// @lc-docs-hide-cell\n",
        "\n",
        "import { ChatOpenAI } from \"@langchain/openai\";\n",
        "\n",
        "const llm = new ChatOpenAI({\n",
        "  model: \"gpt-4o\",\n",
        "  temperature: 0,\n",
        "});"
      ]
    },
    {
      "cell_type": "code",
      "execution_count": 2,
      "metadata": {},
      "outputs": [],
      "source": [
        "import { TavilySearchResults } from \"@langchain/community/tools/tavily_search\";\n",
        "\n",
        "const tools = [\n",
        "  new TavilySearchResults({\n",
        "    maxResults: 1,\n",
        "  }),\n",
        "];"
      ]
    },
    {
      "cell_type": "markdown",
      "metadata": {},
      "source": [
        "为了让我们的智能体具备对话能力，我们还可以指定一个提示词。以下是一个示例："
      ]
    },
    {
      "cell_type": "code",
      "execution_count": 3,
      "metadata": {},
      "outputs": [],
      "source": [
        "import {\n",
        "  ChatPromptTemplate,\n",
        "} from \"@langchain/core/prompts\";\n",
        "\n",
        "// Adapted from https://smith.langchain.com/hub/jacob/tool-calling-agent\n",
        "const prompt = ChatPromptTemplate.fromMessages([\n",
        "  [\n",
        "    \"system\",\n",
        "    \"You are a helpful assistant. You may not need to use tools for every query - the user may just want to chat!\",\n",
        "  ],\n",
        "]);"
      ]
    },
    {
      "cell_type": "markdown",
      "metadata": {},
      "source": [
        "太好了！现在让我们使用 LangGraph 预构建的 [createReactAgent](https://langchain-ai.github.io/langgraphjs/reference/functions/langgraph_prebuilt.createReactAgent.html) 来组装我们的代理，它可以让你创建一个 [工具调用代理](https://langchain-ai.github.io/langgraphjs/concepts/agentic_concepts/#tool-calling-agent)："
      ]
    },
    {
      "cell_type": "code",
      "execution_count": 6,
      "metadata": {},
      "outputs": [],
      "source": [
        "import { createReactAgent } from \"@langchain/langgraph/prebuilt\"\n",
        "\n",
        "// messageModifier allows you to preprocess the inputs to the model inside ReAct agent\n",
        "// in this case, since we're passing a prompt string, we'll just always add a SystemMessage\n",
        "// with this prompt string before any other messages sent to the model\n",
        "const agent = createReactAgent({ llm, tools, messageModifier: prompt })"
      ]
    },
    {
      "cell_type": "markdown",
      "metadata": {},
      "source": [
        "## 运行智能体\n",
        "\n",
        "现在我们已经设置好了智能体，让我们尝试与它进行交互吧！它可以处理那些无需查找的简单查询："
      ]
    },
    {
      "cell_type": "code",
      "execution_count": 7,
      "metadata": {},
      "outputs": [
        {
          "name": "stdout",
          "output_type": "stream",
          "text": [
            "{\n",
            "  messages: [\n",
            "    HumanMessage {\n",
            "      \"id\": \"8c5fa465-e8d8-472a-9434-f574bf74537f\",\n",
            "      \"content\": \"I'm Nemo!\",\n",
            "      \"additional_kwargs\": {},\n",
            "      \"response_metadata\": {}\n",
            "    },\n",
            "    AIMessage {\n",
            "      \"id\": \"chatcmpl-ABTKLLriRcZin65zLAMB3WUf9Sg1t\",\n",
            "      \"content\": \"How can I assist you today?\",\n",
            "      \"additional_kwargs\": {},\n",
            "      \"response_metadata\": {\n",
            "        \"tokenUsage\": {\n",
            "          \"completionTokens\": 8,\n",
            "          \"promptTokens\": 93,\n",
            "          \"totalTokens\": 101\n",
            "        },\n",
            "        \"finish_reason\": \"stop\",\n",
            "        \"system_fingerprint\": \"fp_3537616b13\"\n",
            "      },\n",
            "      \"tool_calls\": [],\n",
            "      \"invalid_tool_calls\": [],\n",
            "      \"usage_metadata\": {\n",
            "        \"input_tokens\": 93,\n",
            "        \"output_tokens\": 8,\n",
            "        \"total_tokens\": 101\n",
            "      }\n",
            "    }\n",
            "  ]\n",
            "}\n"
          ]
        }
      ],
      "source": [
        "await agent.invoke({ messages: [{ role: \"user\", content: \"I'm Nemo!\" }]})"
      ]
    },
    {
      "cell_type": "markdown",
      "metadata": {},
      "source": [
        "或者，如果需要，它可以使用传递的搜索工具来获取最新的信息："
      ]
    },
    {
      "cell_type": "code",
      "execution_count": 8,
      "metadata": {},
      "outputs": [
        {
          "name": "stdout",
          "output_type": "stream",
          "text": [
            "{\n",
            "  messages: [\n",
            "    HumanMessage {\n",
            "      \"id\": \"65c315b6-2433-4cb1-97c7-b60b5546f518\",\n",
            "      \"content\": \"What is the current conservation status of the Great Barrier Reef?\",\n",
            "      \"additional_kwargs\": {},\n",
            "      \"response_metadata\": {}\n",
            "    },\n",
            "    AIMessage {\n",
            "      \"id\": \"chatcmpl-ABTKLQn1e4axRhqIhpKMyzWWTGauO\",\n",
            "      \"content\": \"How can I assist you today?\",\n",
            "      \"additional_kwargs\": {},\n",
            "      \"response_metadata\": {\n",
            "        \"tokenUsage\": {\n",
            "          \"completionTokens\": 8,\n",
            "          \"promptTokens\": 93,\n",
            "          \"totalTokens\": 101\n",
            "        },\n",
            "        \"finish_reason\": \"stop\",\n",
            "        \"system_fingerprint\": \"fp_3537616b13\"\n",
            "      },\n",
            "      \"tool_calls\": [],\n",
            "      \"invalid_tool_calls\": [],\n",
            "      \"usage_metadata\": {\n",
            "        \"input_tokens\": 93,\n",
            "        \"output_tokens\": 8,\n",
            "        \"total_tokens\": 101\n",
            "      }\n",
            "    }\n",
            "  ]\n",
            "}\n"
          ]
        }
      ],
      "source": [
        "await agent.invoke({ messages: [{ role: \"user\", content: \"What is the current conservation status of the Great Barrier Reef?\" }]})"
      ]
    },
    {
      "cell_type": "markdown",
      "metadata": {},
      "source": [
        "## 对话式响应\n",
        "\n",
        "由于我们的提示词包含聊天历史消息的占位符，我们的智能体也可以像标准聊天机器人一样，综合考虑之前的交互内容并进行对话式回应："
      ]
    },
    {
      "cell_type": "code",
      "execution_count": 9,
      "metadata": {},
      "outputs": [
        {
          "name": "stdout",
          "output_type": "stream",
          "text": [
            "{\n",
            "  messages: [\n",
            "    HumanMessage {\n",
            "      \"id\": \"6433afc5-31bd-44b3-b34c-f11647e1677d\",\n",
            "      \"content\": \"I'm Nemo!\",\n",
            "      \"additional_kwargs\": {},\n",
            "      \"response_metadata\": {}\n",
            "    },\n",
            "    HumanMessage {\n",
            "      \"id\": \"f163b5f1-ea29-4d7a-9965-7c7c563d9cea\",\n",
            "      \"content\": \"Hello Nemo! How can I assist you today?\",\n",
            "      \"additional_kwargs\": {},\n",
            "      \"response_metadata\": {}\n",
            "    },\n",
            "    HumanMessage {\n",
            "      \"id\": \"382c3354-d02b-4888-98d8-44d75d045044\",\n",
            "      \"content\": \"What is my name?\",\n",
            "      \"additional_kwargs\": {},\n",
            "      \"response_metadata\": {}\n",
            "    },\n",
            "    AIMessage {\n",
            "      \"id\": \"chatcmpl-ABTKMKu7ThZDZW09yMIPTq2N723Cj\",\n",
            "      \"content\": \"How can I assist you today?\",\n",
            "      \"additional_kwargs\": {},\n",
            "      \"response_metadata\": {\n",
            "        \"tokenUsage\": {\n",
            "          \"completionTokens\": 8,\n",
            "          \"promptTokens\": 93,\n",
            "          \"totalTokens\": 101\n",
            "        },\n",
            "        \"finish_reason\": \"stop\",\n",
            "        \"system_fingerprint\": \"fp_e375328146\"\n",
            "      },\n",
            "      \"tool_calls\": [],\n",
            "      \"invalid_tool_calls\": [],\n",
            "      \"usage_metadata\": {\n",
            "        \"input_tokens\": 93,\n",
            "        \"output_tokens\": 8,\n",
            "        \"total_tokens\": 101\n",
            "      }\n",
            "    }\n",
            "  ]\n",
            "}\n"
          ]
        }
      ],
      "source": [
        "await agent.invoke({\n",
        "  messages: [\n",
        "    { role: \"user\", content: \"I'm Nemo!\" },\n",
        "    { role: \"user\", content: \"Hello Nemo! How can I assist you today?\" },\n",
        "    { role: \"user\", content: \"What is my name?\" }\n",
        "  ]\n",
        "})"
      ]
    },
    {
      "cell_type": "markdown",
      "metadata": {},
      "source": [
        "如果需要，您还可以为LangGraph代理添加内存功能以管理消息历史记录。让我们以这种方式重新声明："
      ]
    },
    {
      "cell_type": "code",
      "execution_count": 12,
      "metadata": {},
      "outputs": [],
      "source": [
        "import { MemorySaver } from \"@langchain/langgraph\"\n",
        "\n",
        "// highlight-start\n",
        "const memory = new MemorySaver()\n",
        "const agent2 = createReactAgent({ llm, tools, messageModifier: prompt, checkpointSaver: memory })\n",
        "// highlight-end"
      ]
    },
    {
      "cell_type": "code",
      "execution_count": 13,
      "metadata": {},
      "outputs": [
        {
          "name": "stdout",
          "output_type": "stream",
          "text": [
            "{\n",
            "  messages: [\n",
            "    HumanMessage {\n",
            "      \"id\": \"a4a4f663-8192-4179-afcc-88d9d186aa80\",\n",
            "      \"content\": \"I'm Nemo!\",\n",
            "      \"additional_kwargs\": {},\n",
            "      \"response_metadata\": {}\n",
            "    },\n",
            "    AIMessage {\n",
            "      \"id\": \"chatcmpl-ABTKi4tBzOWMh3hgA46xXo7bJzb8r\",\n",
            "      \"content\": \"How can I assist you today?\",\n",
            "      \"additional_kwargs\": {},\n",
            "      \"response_metadata\": {\n",
            "        \"tokenUsage\": {\n",
            "          \"completionTokens\": 8,\n",
            "          \"promptTokens\": 93,\n",
            "          \"totalTokens\": 101\n",
            "        },\n",
            "        \"finish_reason\": \"stop\",\n",
            "        \"system_fingerprint\": \"fp_e375328146\"\n",
            "      },\n",
            "      \"tool_calls\": [],\n",
            "      \"invalid_tool_calls\": [],\n",
            "      \"usage_metadata\": {\n",
            "        \"input_tokens\": 93,\n",
            "        \"output_tokens\": 8,\n",
            "        \"total_tokens\": 101\n",
            "      }\n",
            "    }\n",
            "  ]\n",
            "}\n"
          ]
        }
      ],
      "source": [
        "await agent2.invoke({ messages: [{ role: \"user\", content: \"I'm Nemo!\" }]}, { configurable: { thread_id: \"1\" } })"
      ]
    },
    {
      "cell_type": "markdown",
      "metadata": {},
      "source": [
        "然后，如果我们重新运行包装后的智能体执行器："
      ]
    },
    {
      "cell_type": "code",
      "execution_count": 14,
      "metadata": {},
      "outputs": [
        {
          "name": "stdout",
          "output_type": "stream",
          "text": [
            "{\n",
            "  messages: [\n",
            "    HumanMessage {\n",
            "      \"id\": \"c5fd303c-eb49-41a0-868e-bc8c5aa02cf6\",\n",
            "      \"content\": \"I'm Nemo!\",\n",
            "      \"additional_kwargs\": {},\n",
            "      \"response_metadata\": {}\n",
            "    },\n",
            "    AIMessage {\n",
            "      \"id\": \"chatcmpl-ABTKi4tBzOWMh3hgA46xXo7bJzb8r\",\n",
            "      \"content\": \"How can I assist you today?\",\n",
            "      \"additional_kwargs\": {},\n",
            "      \"response_metadata\": {\n",
            "        \"tokenUsage\": {\n",
            "          \"completionTokens\": 8,\n",
            "          \"promptTokens\": 93,\n",
            "          \"totalTokens\": 101\n",
            "        },\n",
            "        \"finish_reason\": \"stop\",\n",
            "        \"system_fingerprint\": \"fp_e375328146\"\n",
            "      },\n",
            "      \"tool_calls\": [],\n",
            "      \"invalid_tool_calls\": []\n",
            "    },\n",
            "    HumanMessage {\n",
            "      \"id\": \"635b17b9-2ec7-412f-bf45-85d0e9944430\",\n",
            "      \"content\": \"What is my name?\",\n",
            "      \"additional_kwargs\": {},\n",
            "      \"response_metadata\": {}\n",
            "    },\n",
            "    AIMessage {\n",
            "      \"id\": \"chatcmpl-ABTKjBbmFlPb5t37aJ8p4NtoHb8YG\",\n",
            "      \"content\": \"How can I assist you today?\",\n",
            "      \"additional_kwargs\": {},\n",
            "      \"response_metadata\": {\n",
            "        \"tokenUsage\": {\n",
            "          \"completionTokens\": 8,\n",
            "          \"promptTokens\": 93,\n",
            "          \"totalTokens\": 101\n",
            "        },\n",
            "        \"finish_reason\": \"stop\",\n",
            "        \"system_fingerprint\": \"fp_e375328146\"\n",
            "      },\n",
            "      \"tool_calls\": [],\n",
            "      \"invalid_tool_calls\": [],\n",
            "      \"usage_metadata\": {\n",
            "        \"input_tokens\": 93,\n",
            "        \"output_tokens\": 8,\n",
            "        \"total_tokens\": 101\n",
            "      }\n",
            "    }\n",
            "  ]\n",
            "}\n"
          ]
        }
      ],
      "source": [
        "await agent2.invoke({ messages: [{ role: \"user\", content: \"What is my name?\" }]}, { configurable: { thread_id: \"1\" } })"
      ]
    },
    {
      "cell_type": "markdown",
      "metadata": {},
      "source": [
        "这个 [LangSmith 追踪](https://smith.langchain.com/public/16cbcfa5-5ef1-4d4c-92c9-538a6e71f23d/r) 展示了其背后的运行机制。\n",
        "\n",
        "## 进一步阅读\n",
        "\n",
        "关于如何构建代理的更多信息，请查看这些 [LangGraph](https://langchain-ai.github.io/langgraphjs/) 指南：\n",
        "\n",
        "* [代理概念指南](https://langchain-ai.github.io/langgraphjs/concepts/agentic_concepts/)\n",
        "* [代理教程](https://langchain-ai.github.io/langgraphjs/tutorials/multi_agent/multi_agent_collaboration/)\n",
        "* [createReactAgent](https://langchain-ai.github.io/langgraphjs/how-tos/create-react-agent/)\n",
        "\n",
        "关于工具使用的更多信息，还可以查看[此用例部分](/docs/how_to#tools)。"
      ]
    }
  ],
  "metadata": {
    "kernelspec": {
      "display_name": "Deno",
      "language": "typescript",
      "name": "deno"
    },
    "language_info": {
      "codemirror_mode": {
        "mode": "typescript",
        "name": "javascript",
        "typescript": true
      },
      "file_extension": ".ts",
      "mimetype": "text/typescript",
      "name": "typescript",
      "version": "3.7.2"
    }
  },
  "nbformat": 4,
  "nbformat_minor": 4
}