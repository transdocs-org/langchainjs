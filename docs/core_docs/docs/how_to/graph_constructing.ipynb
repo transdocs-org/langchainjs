{
  "cells": [
    {
      "cell_type": "markdown",
      "id": "846ef4f4-ee38-4a42-a7d3-1a23826e4830",
      "metadata": {},
      "source": [
        "# 如何构建知识图谱\n",
        "\n",
        "在本指南中，我们将介绍基于非结构化文本构建知识图谱的基本方法。构建完成的图谱可作为知识库用于RAG应用。从高层次来看，从文本构建知识图谱的步骤包括：\n",
        "\n",
        "1. 从文本中提取结构化信息：使用模型从文本中提取结构化的图信息。\n",
        "2. 存储到图数据库：将提取出的结构化图信息存储到图数据库中，以支持下游的RAG应用"
      ]
    },
    {
      "cell_type": "markdown",
      "id": "26677b08",
      "metadata": {},
      "source": [
        "## 配置\n",
        "#### 安装依赖\n",
        "\n",
        "```{=mdx}\n",
        "import IntegrationInstallTooltip from \"@mdx_components/integration_install_tooltip.mdx\";\n",
        "import Npm2Yarn from \"@theme/Npm2Yarn\";\n",
        "\n",
        "<IntegrationInstallTooltip></IntegrationInstallTooltip>\n",
        "\n",
        "<Npm2Yarn>\n",
        "  langchain @langchain/community @langchain/openai @langchain/core neo4j-driver zod\n",
        "</Npm2Yarn>\n",
        "```\n",
        "\n",
        "#### 设置环境变量\n",
        "\n",
        "本示例中我们将使用 OpenAI：\n",
        "\n",
        "```env\n",
        "OPENAI_API_KEY=your-api-key\n",
        "\n",
        "# 可选，使用 LangSmith 以获得最佳的可观测性\n",
        "LANGSMITH_API_KEY=your-api-key\n",
        "LANGSMITH_TRACING=true\n",
        "\n",
        "# 如果您不在无服务器环境中，请减少追踪延迟\n",
        "# LANGCHAIN_CALLBACKS_BACKGROUND=true\n",
        "```\n",
        "\n",
        "接下来，我们需要定义 Neo4j 凭据。\n",
        "请按照 [这些安装步骤](https://neo4j.com/docs/operations-manual/current/installation/) 来设置 Neo4j 数据库。\n",
        "\n",
        "```env\n",
        "NEO4J_URI=\"bolt://localhost:7687\"\n",
        "NEO4J_USERNAME=\"neo4j\"\n",
        "NEO4J_PASSWORD=\"password\"\n",
        "```"
      ]
    },
    {
      "cell_type": "markdown",
      "id": "50fa4510-29b7-49b6-8496-5e86f694e81f",
      "metadata": {},
      "source": [
        "以下示例将创建与 Neo4j 数据库的连接。"
      ]
    },
    {
      "cell_type": "code",
      "execution_count": null,
      "id": "4ee9ef7a-eef9-4289-b9fd-8fbc31041688",
      "metadata": {},
      "outputs": [],
      "source": [
        "import \"neo4j-driver\";\n",
        "import { Neo4jGraph } from \"@langchain/community/graphs/neo4j_graph\";\n",
        "\n",
        "const url = process.env.NEO4J_URI;\n",
        "const username = process.env.NEO4J_USER;\n",
        "const password = process.env.NEO4J_PASSWORD;\n",
        "const graph = await Neo4jGraph.initialize({ url, username, password });"
      ]
    },
    {
      "cell_type": "markdown",
      "id": "0cb0ea30-ca55-4f35-aad6-beb57453de66",
      "metadata": {},
      "source": [
        "## LLM 图转换器\n",
        "从文本中提取图数据能够将非结构化信息转换为结构化格式，便于深入分析并更高效地处理复杂的关系和模式。LLMGraphTransformer 利用大语言模型（LLM）解析和分类实体及其关系，将文本文档转换为结构化图文档。LLM 模型的选择会显著影响输出结果，决定所提取图数据的准确性与细致程度。"
      ]
    },
    {
      "cell_type": "code",
      "execution_count": 2,
      "id": "e1a19424-6046-40c2-81d1-f3b88193a293",
      "metadata": {},
      "outputs": [],
      "source": [
        "import { ChatOpenAI } from \"@langchain/openai\";\n",
        "import { LLMGraphTransformer } from \"@langchain/community/experimental/graph_transformers/llm\";\n",
        "\n",
        "const model = new ChatOpenAI({\n",
        "    temperature: 0,\n",
        "    model: \"gpt-4o-mini\",\n",
        "});\n",
        "\n",
        "const llmGraphTransformer = new LLMGraphTransformer({\n",
        "    llm: model\n",
        "});\n"
      ]
    },
    {
      "cell_type": "markdown",
      "id": "9c14084c-37a7-4a9c-a026-74e12961c781",
      "metadata": {},
      "source": [
        "现在我们可以输入示例文本并检查结果。"
      ]
    },
    {
      "cell_type": "code",
      "execution_count": 3,
      "id": "bbfe0d8f-982e-46e6-88fb-8a4f0d850b07",
      "metadata": {},
      "outputs": [
        {
          "name": "stdout",
          "output_type": "stream",
          "text": [
            "Nodes: 8\n",
            "Relationships:7\n"
          ]
        }
      ],
      "source": [
        "import { Document } from \"@langchain/core/documents\";\n",
        "\n",
        "let text = `\n",
        "Marie Curie, was a Polish and naturalised-French physicist and chemist who conducted pioneering research on radioactivity.\n",
        "She was the first woman to win a Nobel Prize, the first person to win a Nobel Prize twice, and the only person to win a Nobel Prize in two scientific fields.\n",
        "Her husband, Pierre Curie, was a co-winner of her first Nobel Prize, making them the first-ever married couple to win the Nobel Prize and launching the Curie family legacy of five Nobel Prizes.\n",
        "She was, in 1906, the first woman to become a professor at the University of Paris.\n",
        "`\n",
        "\n",
        "const result = await llmGraphTransformer.convertToGraphDocuments([\n",
        "    new Document({ pageContent: text }),\n",
        "]);\n",
        "\n",
        "console.log(`Nodes: ${result[0].nodes.length}`);\n",
        "console.log(`Relationships:${result[0].relationships.length}`);"
      ]
    },
    {
      "cell_type": "markdown",
      "id": "a8afbf13-05d0-4383-8050-f88b8c2f6fab",
      "metadata": {},
      "source": [
        "请注意，由于我们使用了大语言模型（LLM），图构建过程具有非确定性。因此，每次执行可能会得到略微不同的结果。\n",
        "请查看以下图片，以更好地理解生成的知识图谱结构。\n",
        "\n",
        "![graph_construction1.png](../../static/img/graph_construction1.png)\n",
        "\n",
        "此外，您还可以根据自己的需求灵活定义要提取的特定类型的节点和关系。"
      ]
    },
    {
      "cell_type": "code",
      "execution_count": 4,
      "id": "6f92929f-74fb-4db2-b7e1-eb1e9d386a67",
      "metadata": {},
      "outputs": [
        {
          "name": "stdout",
          "output_type": "stream",
          "text": [
            "Nodes: 6\n",
            "Relationships:4\n"
          ]
        }
      ],
      "source": [
        "const llmGraphTransformerFiltered = new LLMGraphTransformer({\n",
        "    llm: model,\n",
        "    allowedNodes: [\"PERSON\", \"COUNTRY\", \"ORGANIZATION\"],\n",
        "    allowedRelationships:[\"NATIONALITY\", \"LOCATED_IN\", \"WORKED_AT\", \"SPOUSE\"],\n",
        "    strictMode:false\n",
        "});\n",
        "\n",
        "const result_filtered = await llmGraphTransformerFiltered.convertToGraphDocuments([\n",
        "    new Document({ pageContent: text }),\n",
        "]);\n",
        "\n",
        "console.log(`Nodes: ${result_filtered[0].nodes.length}`);\n",
        "console.log(`Relationships:${result_filtered[0].relationships.length}`);"
      ]
    },
    {
      "cell_type": "markdown",
      "id": "f66c6756-6efb-4b1e-9b5d-87ed914a5212",
      "metadata": {},
      "source": [
        "为了更好地理解生成的图，我们可以再次将其可视化。\n",
        "\n",
        "![graph_construction1.png](../../static/img/graph_construction2.png)\n",
        "\n",
        "## 存储到图数据库\n",
        "生成的图文档可以使用 `addGraphDocuments` 方法存储到图数据库中。"
      ]
    },
    {
      "cell_type": "code",
      "execution_count": 5,
      "id": "8ef3e21d-f1c2-45e2-9511-4920d1cf6e7e",
      "metadata": {},
      "outputs": [],
      "source": [
        "await graph.addGraphDocuments(result_filtered)"
      ]
    },
    {
      "cell_type": "code",
      "execution_count": null,
      "id": "e67382aa-7324-4983-b834-1fdd841cc92c",
      "metadata": {},
      "outputs": [],
      "source": []
    }
  ],
  "metadata": {
    "kernelspec": {
      "display_name": "Deno",
      "language": "typescript",
      "name": "deno"
    },
    "language_info": {
      "file_extension": ".ts",
      "mimetype": "text/x.typescript",
      "name": "typescript",
      "nb_converter": "script",
      "pygments_lexer": "typescript",
      "version": "5.4.3"
    }
  },
  "nbformat": 4,
  "nbformat_minor": 5
}