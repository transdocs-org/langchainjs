{
  "cells": [
    {
      "cell_type": "markdown",
      "id": "0fee7096",
      "metadata": {},
      "source": [
        "# 如何尝试修复输出解析中的错误\n",
        "\n",
        ":::info 前提条件\n",
        "\n",
        "本指南假定您熟悉以下概念：\n",
        "- [聊天模型](/docs/concepts/chat_models)\n",
        "- [输出解析器](/docs/concepts/output_parsers)\n",
        "- [提示模板](/docs/concepts/prompt_templates)\n",
        "- [将可运行对象串联在一起](/docs/how_to/sequence/)\n",
        "\n",
        ":::\n",
        "\n",
        "大型语言模型（LLMs）并非完美，有时会生成不符合预期格式的输出。为了处理此类错误，我们可以使用 [`OutputFixingParser`](https://api.js.langchain.com/classes/langchain.output_parsers.OutputFixingParser.html)。该输出解析器封装了另一个输出解析器，当第一个解析器失败时，它会调用另一个LLM来尝试修复错误。\n",
        "\n",
        "具体来说，我们可以将格式错误的输出与格式化说明一起传递给模型，并要求其进行修正。\n",
        "\n",
        "在本示例中，我们将使用 [`StructuredOutputParser`](https://api.js.langchain.com/classes/langchain_core.output_parsers.StructuredOutputParser.html)，它可以根据Zod模式验证输出。如果我们传递一个不符合模式的结果，会发生以下情况："
      ]
    },
    {
      "cell_type": "code",
      "execution_count": 1,
      "id": "15283e0b",
      "metadata": {},
      "outputs": [
        {
          "ename": "Error",
          "evalue": "Failed to parse. Text: \"{'name': 'Tom Hanks', 'film_names': ['Forrest Gump']}\". Error: SyntaxError: Expected property name or '}' in JSON at position 1 (line 1 column 2)",
          "output_type": "error",
          "traceback": [
            "Stack trace:",
            "Error: Failed to parse. Text: \"{'name': 'Tom Hanks', 'film_names': ['Forrest Gump']}\". Error: SyntaxError: Expected property name or '}' in JSON at position 1 (line 1 column 2)",
            "    at StructuredOutputParser.parse (file:///Users/jacoblee/Library/Caches/deno/npm/registry.npmjs.org/@langchain/core/0.1.63/dist/output_parsers/structured.js:86:19)",
            "    at <anonymous>:11:14"
          ]
        }
      ],
      "source": [
        "import { z } from \"zod\";\n",
        "import { RunnableSequence } from \"@langchain/core/runnables\";\n",
        "import { StructuredOutputParser } from \"@langchain/core/output_parsers\";\n",
        "import { ChatPromptTemplate } from \"@langchain/core/prompts\";\n",
        "\n",
        "const zodSchema = z.object({\n",
        "  name: z.string().describe(\"name of an actor\"),\n",
        "  film_names: z.array(z.string()).describe(\"list of names of films they starred in\"),\n",
        "});\n",
        "\n",
        "const parser = StructuredOutputParser.fromZodSchema(zodSchema);\n",
        "\n",
        "const misformatted = \"{'name': 'Tom Hanks', 'film_names': ['Forrest Gump']}\";\n",
        "\n",
        "await parser.parse(misformatted);"
      ]
    },
    {
      "cell_type": "markdown",
      "id": "723c559d",
      "metadata": {},
      "source": [
        "现在我们可以构建并使用一个 `OutputFixingParser`。这个输出解析器接受另一个输出解析器作为参数，同时还需要一个大语言模型（LLM），用于尝试纠正任何格式上的错误。"
      ]
    },
    {
      "cell_type": "code",
      "execution_count": 3,
      "id": "4aaccbf1",
      "metadata": {},
      "outputs": [
        {
          "data": {
            "text/plain": [
              "{\n",
              "  name: \u001b[32m\"Tom Hanks\"\u001b[39m,\n",
              "  film_names: [\n",
              "    \u001b[32m\"Forrest Gump\"\u001b[39m,\n",
              "    \u001b[32m\"Saving Private Ryan\"\u001b[39m,\n",
              "    \u001b[32m\"Cast Away\"\u001b[39m,\n",
              "    \u001b[32m\"Catch Me If You Can\"\u001b[39m\n",
              "  ]\n",
              "}"
            ]
          },
          "execution_count": 3,
          "metadata": {},
          "output_type": "execute_result"
        }
      ],
      "source": [
        "import { ChatAnthropic } from \"@langchain/anthropic\";\n",
        "\n",
        "import { OutputFixingParser } from \"langchain/output_parsers\";\n",
        "\n",
        "const model = new ChatAnthropic({\n",
        "  model: \"claude-3-sonnet-20240229\",\n",
        "  maxTokens: 512,\n",
        "  temperature: 0.1,\n",
        "});\n",
        "\n",
        "const parserWithFix = OutputFixingParser.fromLLM(model, parser);\n",
        "\n",
        "await parserWithFix.parse(misformatted);"
      ]
    },
    {
      "cell_type": "markdown",
      "id": "84498e02",
      "metadata": {},
      "source": [
        "有关不同参数和选项的更多信息，请查看我们的[API 参考文档](https://api.js.langchain.com/classes/langchain.output_parsers.OutputFixingParser.html)。"
      ]
    }
  ],
  "metadata": {
    "kernelspec": {
      "display_name": "Deno",
      "language": "typescript",
      "name": "deno"
    },
    "language_info": {
      "file_extension": ".ts",
      "mimetype": "text/x.typescript",
      "name": "typescript",
      "nb_converter": "script",
      "pygments_lexer": "typescript",
      "version": "5.3.3"
    }
  },
  "nbformat": 4,
  "nbformat_minor": 5
}