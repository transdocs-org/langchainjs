{
  "cells": [
    {
      "cell_type": "markdown",
      "id": "4facdf7f-680e-4d28-908b-2b8408e2a741",
      "metadata": {},
      "source": [
        "# 如何直接将多模态数据传递给模型\n",
        "\n",
        ":::info 预备知识\n",
        "\n",
        "本指南假定您已熟悉以下概念：\n",
        "\n",
        "- [聊天模型](/docs/concepts/chat_models)\n",
        "\n",
        ":::\n",
        "\n",
        "在这里，我们将演示如何直接将多模态输入传递给模型。\n",
        "目前，我们期望所有输入的格式与[OpenAI要求的格式](https://platform.openai.com/docs/guides/vision)相同。\n",
        "对于支持多模态输入的其他模型提供商，我们在类内部添加了逻辑以转换为相应的格式。\n",
        "\n",
        "在这个示例中，我们将要求模型描述一张图片。"
      ]
    },
    {
      "cell_type": "code",
      "execution_count": 6,
      "id": "0d9fd81a-b7f0-445a-8e3d-cfc2d31fdd59",
      "metadata": {},
      "outputs": [],
      "source": [
        "import * as fs from \"node:fs/promises\";\n",
        "\n",
        "import { ChatAnthropic } from \"@langchain/anthropic\";\n",
        "\n",
        "const model = new ChatAnthropic({\n",
        "  model: \"claude-3-sonnet-20240229\",\n",
        "});\n",
        "\n",
        "const imageData = await fs.readFile(\"../../../../examples/hotdog.jpg\");"
      ]
    },
    {
      "cell_type": "markdown",
      "id": "4fca4da7",
      "metadata": {},
      "source": [
        "最常见的支持方式是将图像作为字节字符串传递，并在支持多模态输入的模型中使用包含复杂内容类型的消息进行传递。以下是一个示例："
      ]
    },
    {
      "cell_type": "code",
      "execution_count": 9,
      "id": "ec680b6b",
      "metadata": {},
      "outputs": [
        {
          "name": "stdout",
          "output_type": "stream",
          "text": [
            "This image contains a hot dog. It shows a frankfurter or sausage encased in a soft, elongated bread bun. The sausage itself appears to be reddish in color, likely a smoked or cured variety. The bun is a golden-brown color, suggesting it has been lightly toasted or grilled. The hot dog is presented against a plain white background, allowing the details of the iconic American fast food item to be clearly visible.\n"
          ]
        }
      ],
      "source": [
        "import { HumanMessage } from \"@langchain/core/messages\";\n",
        "\n",
        "const message = new HumanMessage({\n",
        "  content: [\n",
        "    {\n",
        "      type: \"text\",\n",
        "      text: \"what does this image contain?\"},\n",
        "    {\n",
        "      type: \"image_url\",\n",
        "      image_url: {\n",
        "        url: `data:image/jpeg;base64,${imageData.toString(\"base64\")}`},\n",
        "    },\n",
        "  ],\n",
        "})\n",
        "const response = await model.invoke([message]);\n",
        "console.log(response.content);"
      ]
    },
    {
      "cell_type": "markdown",
      "id": "8656018e-c56d-47d2-b2be-71e87827f90a",
      "metadata": {},
      "source": [
        "某些模型提供商支持在类型为`\"image_url\"`的内容块中直接使用指向图像的HTTP URL："
      ]
    },
    {
      "cell_type": "code",
      "execution_count": 13,
      "id": "a8819cf3-5ddc-44f0-889a-19ca7b7fe77e",
      "metadata": {},
      "outputs": [
        {
          "name": "stdout",
          "output_type": "stream",
          "text": [
            "The weather in the image appears to be pleasant and clear. The sky is mostly blue with a few scattered clouds, indicating good visibility and no immediate signs of rain. The lighting suggests it’s either morning or late afternoon, with sunlight creating a warm and bright atmosphere. There is no indication of strong winds, as the grass and foliage appear calm and undisturbed. Overall, it looks like a beautiful day, possibly spring or summer, ideal for outdoor activities.\n"
          ]
        }
      ],
      "source": [
        "import { ChatOpenAI } from \"@langchain/openai\";\n",
        "\n",
        "const openAIModel = new ChatOpenAI({\n",
        "  model: \"gpt-4o\",\n",
        "});\n",
        "\n",
        "const imageUrl = \"https://upload.wikimedia.org/wikipedia/commons/thumb/d/dd/Gfp-wisconsin-madison-the-nature-boardwalk.jpg/2560px-Gfp-wisconsin-madison-the-nature-boardwalk.jpg\";\n",
        "\n",
        "const message = new HumanMessage({\n",
        "  content: [\n",
        "    {\n",
        "      type: \"text\",\n",
        "      text: \"describe the weather in this image\"},\n",
        "    {\n",
        "      type: \"image_url\",\n",
        "      image_url: { url: imageUrl }\n",
        "    },\n",
        "  ],\n",
        "});\n",
        "const response = await openAIModel.invoke([message]);\n",
        "console.log(response.content);"
      ]
    },
    {
      "cell_type": "markdown",
      "id": "1c470309",
      "metadata": {},
      "source": [
        "我们还可以传入多张图片。"
      ]
    },
    {
      "cell_type": "code",
      "execution_count": 18,
      "id": "325fb4ca",
      "metadata": {},
      "outputs": [
        {
          "name": "stdout",
          "output_type": "stream",
          "text": [
            "Yes, the two images are the same.\n"
          ]
        }
      ],
      "source": [
        "const message = new HumanMessage({\n",
        "  content: [\n",
        "    {\n",
        "      type: \"text\",\n",
        "      text: \"are these two images the same?\"\n",
        "    },\n",
        "    {\n",
        "      type: \"image_url\",\n",
        "      image_url: {\n",
        "        url: imageUrl\n",
        "      }\n",
        "    },\n",
        "    {\n",
        "      type: \"image_url\",\n",
        "      image_url: {\n",
        "        url: imageUrl\n",
        "      }\n",
        "    },\n",
        "  ],\n",
        "});\n",
        "const response = await openAIModel.invoke([message]);\n",
        "console.log(response.content);"
      ]
    },
    {
      "cell_type": "markdown",
      "id": "bad38378",
      "metadata": {},
      "source": [
        "## 下一步\n",
        "\n",
        "你现在已经了解了如何将多模态数据传递给模型。\n",
        "\n",
        "接下来，你可以查看我们的[多模态工具调用指南](/docs/how_to/tool_calls_multimodal)。"
      ]
    }
  ],
  "metadata": {
    "kernelspec": {
      "display_name": "Deno",
      "language": "typescript",
      "name": "deno"
    },
    "language_info": {
      "codemirror_mode": {
        "name": "ipython",
        "version": 3
      },
      "file_extension": ".py",
      "mimetype": "text/x-python",
      "name": "typescript",
      "nbconvert_exporter": "python",
      "pygments_lexer": "ipython3",
      "version": "3.9.1"
    }
  },
  "nbformat": 4,
  "nbformat_minor": 5
}