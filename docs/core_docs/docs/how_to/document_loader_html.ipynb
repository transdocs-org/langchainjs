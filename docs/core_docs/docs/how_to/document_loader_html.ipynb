{
  "cells": [
    {
      "cell_type": "markdown",
      "id": "0c6c50fc-15e1-4767-925a-53a37c430b9b",
      "metadata": {},
      "source": [
        "# 如何加载 HTML\n",
        "\n",
        "超文本标记语言 [HTML](https://en.wikipedia.org/wiki/HTML) 是用于设计在网页浏览器中显示的文档的标准标记语言。\n",
        "\n",
        "本内容介绍如何将 `HTML` 文档加载到 LangChain 的 [Document](https://api.js.langchain.com/classes/langchain_core.documents.Document.html) 对象中，以便我们可以在后续流程中使用这些对象。\n",
        "\n",
        "解析 HTML 文件通常需要专用工具。这里我们通过 [Unstructured](https://unstructured-io.github.io/unstructured/) 展示解析过程。有关与其他服务（如 [FireCrawl](/docs/integrations/document_loaders/web_loaders/firecrawl)）的集成，请查看集成页面。\n",
        "\n",
        ":::info 预备知识\n",
        "\n",
        "本指南假设您已熟悉以下概念：\n",
        "\n",
        "- [Documents](https://api.js.langchain.com/classes/_langchain_core.documents.Document.html)\n",
        "- [Document Loaders](/docs/concepts/document_loaders)\n",
        "\n",
        ":::\n",
        "\n",
        "## 安装\n",
        "\n",
        "```{=mdx}\n",
        "import Npm2Yarn from \"@theme/Npm2Yarn\"\n",
        "\n",
        "<Npm2Yarn>\n",
        "  @langchain/community @langchain/core\n",
        "</Npm2Yarn>\n",
        "```"
      ]
    },
    {
      "cell_type": "markdown",
      "id": "868cfb85",
      "metadata": {},
      "source": [
        "## 配置\n",
        "\n",
        "尽管 Unstructured 有开源版本，但您仍需提供一个 API 密钥才能访问该服务。要使一切正常运行，请按照以下两个步骤操作：\n",
        "\n",
        "1. 下载并启动 Docker 容器：\n",
        "  \n",
        "```bash\n",
        "docker run -p 8000:8000 -d --rm --name unstructured-api downloads.unstructured.io/unstructured-io/unstructured-api:latest --port 8000 --host 0.0.0.0\n",
        "```\n",
        "\n",
        "2. 在[此处](https://unstructured.io/api-key)获取免费的 API 密钥和 API URL，并在您的环境中设置（根据 Unstructured 网站说明，分配您的 API 密钥和 URL 可能需要一个小时）：\n",
        "\n",
        "```bash\n",
        "export UNSTRUCTURED_API_KEY=\"...\"\n",
        "# 将下方替换为您邮件中的 `Full URL`\n",
        "export UNSTRUCTURED_API_URL=\"https://<ORG_NAME>-<SECRET>.api.unstructuredapp.io/general/v0/general\" \n",
        "```"
      ]
    },
    {
      "cell_type": "markdown",
      "id": "a4d93b2e",
      "metadata": {},
      "source": [
        "## 使用Unstructured加载HTML"
      ]
    },
    {
      "cell_type": "code",
      "execution_count": 1,
      "id": "7d167ca3-c7c7-4ef0-b509-080629f0f482",
      "metadata": {},
      "outputs": [
        {
          "name": "stdout",
          "output_type": "stream",
          "text": [
            "[\n",
            "  Document {\n",
            "    pageContent: 'Word of the Day',\n",
            "    metadata: {\n",
            "      category_depth: 0,\n",
            "      languages: [Array],\n",
            "      filename: 'wordoftheday.html',\n",
            "      filetype: 'text/html',\n",
            "      category: 'Title'\n",
            "    }\n",
            "  },\n",
            "  Document {\n",
            "    pageContent: ': April 10, 2023',\n",
            "    metadata: {\n",
            "      emphasized_text_contents: [Array],\n",
            "      emphasized_text_tags: [Array],\n",
            "      languages: [Array],\n",
            "      parent_id: 'b845e60d85ff7d10abda4e5f9a37eec8',\n",
            "      filename: 'wordoftheday.html',\n",
            "      filetype: 'text/html',\n",
            "      category: 'UncategorizedText'\n",
            "    }\n",
            "  },\n",
            "  Document {\n",
            "    pageContent: 'foible',\n",
            "    metadata: {\n",
            "      category_depth: 1,\n",
            "      languages: [Array],\n",
            "      parent_id: 'b845e60d85ff7d10abda4e5f9a37eec8',\n",
            "      filename: 'wordoftheday.html',\n",
            "      filetype: 'text/html',\n",
            "      category: 'Title'\n",
            "    }\n",
            "  },\n",
            "  Document {\n",
            "    pageContent: 'play',\n",
            "    metadata: {\n",
            "      category_depth: 0,\n",
            "      link_texts: [Array],\n",
            "      link_urls: [Array],\n",
            "      link_start_indexes: [Array],\n",
            "      languages: [Array],\n",
            "      filename: 'wordoftheday.html',\n",
            "      filetype: 'text/html',\n",
            "      category: 'Title'\n",
            "    }\n",
            "  },\n",
            "  Document {\n",
            "    pageContent: 'noun',\n",
            "    metadata: {\n",
            "      category_depth: 0,\n",
            "      emphasized_text_contents: [Array],\n",
            "      emphasized_text_tags: [Array],\n",
            "      languages: [Array],\n",
            "      filename: 'wordoftheday.html',\n",
            "      filetype: 'text/html',\n",
            "      category: 'Title'\n",
            "    }\n",
            "  }\n",
            "]\n"
          ]
        }
      ],
      "source": [
        "import { UnstructuredLoader } from \"@langchain/community/document_loaders/fs/unstructured\";\n",
        "\n",
        "const filePath = \"../../../../libs/langchain-community/src/tools/fixtures/wordoftheday.html\"\n",
        "\n",
        "const loader = new UnstructuredLoader(filePath, {\n",
        "  apiKey: process.env.UNSTRUCTURED_API_KEY,\n",
        "  apiUrl: process.env.UNSTRUCTURED_API_URL,\n",
        "});\n",
        "\n",
        "const data = await loader.load()\n",
        "console.log(data.slice(0, 5));"
      ]
    }
  ],
  "metadata": {
    "kernelspec": {
      "display_name": "TypeScript",
      "language": "typescript",
      "name": "tslab"
    },
    "language_info": {
      "codemirror_mode": {
        "mode": "typescript",
        "name": "javascript",
        "typescript": true
      },
      "file_extension": ".ts",
      "mimetype": "text/typescript",
      "name": "typescript",
      "version": "3.7.2"
    }
  },
  "nbformat": 4,
  "nbformat_minor": 5
}