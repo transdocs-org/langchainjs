{
  "cells": [
    {
      "cell_type": "markdown",
      "id": "503e36ae-ca62-4f8a-880c-4fe78ff5df93",
      "metadata": {},
      "source": [
        "# 如何从工具返回工件\n",
        "\n",
        "```{=mdx}\n",
        ":::info 前提条件\n",
        "本指南假定您已熟悉以下概念：\n",
        "\n",
        "- [ToolMessage](/docs/concepts/messages/#toolmessage)\n",
        "- [Tools](/docs/concepts/tools)\n",
        "- [工具调用](/docs/concepts/tool_calling)\n",
        "\n",
        ":::\n",
        "```\n",
        "\n",
        "工具是可以由模型调用的实用程序，其输出设计用于反馈给模型。然而，有时工具执行过程中会产生一些工件，我们希望这些工件可以被链或代理中的下游组件访问，但不希望将其暴露给模型本身。\n",
        "\n",
        "例如，如果一个工具返回类似自定义对象或图像的内容，我们可能希望向模型传递有关该输出的一些元数据，而不是将实际输出传递给模型。同时，我们可能希望在其他地方（例如下游工具中）能够访问到这个完整输出。\n",
        "\n",
        "Tool 和 [ToolMessage](https://api.js.langchain.com/classes/langchain_core.messages_tool.ToolMessage.html) 接口使我们能够区分工具输出中面向模型的部分（即 `ToolMessage.content`）和面向模型外部使用的部分（即 `ToolMessage.artifact`）。\n",
        "\n",
        "```{=mdx}\n",
        ":::caution 兼容性\n",
        "\n",
        "此功能需要 `@langchain/core>=0.2.16`。请参阅[安装指南](/docs/how_to/installation/#installing-integration-packages)了解如何升级。\n",
        "\n",
        ":::\n",
        "```\n",
        "\n",
        "## 定义工具\n",
        "\n",
        "如果我们希望工具能够区分消息内容和其他工件，则在定义工具时需要指定 `response_format: \"content_and_artifact\"`，并确保返回的是 [`content`, `artifact`] 形式的元组："
      ]
    },
    {
      "cell_type": "code",
      "execution_count": 1,
      "id": "b9eb179d-1f41-4748-9866-b3d3e8c73cd0",
      "metadata": {},
      "outputs": [],
      "source": [
        "import { z } from \"zod\";\n",
        "import { tool } from \"@langchain/core/tools\";\n",
        "\n",
        "const randomIntToolSchema = z.object({\n",
        "  min: z.number(),\n",
        "  max: z.number(),\n",
        "  size: z.number(),\n",
        "});\n",
        "\n",
        "const generateRandomInts = tool(async ({ min, max, size }) => {\n",
        "  const array: number[] = [];\n",
        "  for (let i = 0; i < size; i++) {\n",
        "    array.push(Math.floor(Math.random() * (max - min + 1)) + min);\n",
        "  }\n",
        "  return [\n",
        "    `Successfully generated array of ${size} random ints in [${min}, ${max}].`,\n",
        "    array,\n",
        "  ];\n",
        "}, {\n",
        "  name: \"generateRandomInts\",\n",
        "  description: \"Generate size random ints in the range [min, max].\",\n",
        "  schema: randomIntToolSchema,\n",
        "  responseFormat: \"content_and_artifact\",\n",
        "});"
      ]
    },
    {
      "cell_type": "markdown",
      "id": "0ab05d25-af4a-4e5a-afe2-f090416d7ee7",
      "metadata": {},
      "source": [
        "## 使用 ToolCall 调用工具\n",
        "\n",
        "如果我们仅通过工具参数直接调用工具，你会发现我们只能获得 `Tool` 输出中的内容部分："
      ]
    },
    {
      "cell_type": "code",
      "execution_count": 3,
      "id": "5e7d5e77-3102-4a59-8ade-e4e699dd1817",
      "metadata": {},
      "outputs": [
        {
          "name": "stdout",
          "output_type": "stream",
          "text": [
            "Successfully generated array of 10 random ints in [0, 9].\n"
          ]
        }
      ],
      "source": [
        "await generateRandomInts.invoke({min: 0, max: 9, size: 10});"
      ]
    },
    {
      "cell_type": "markdown",
      "id": "30db7228-f04c-489e-afda-9a572eaa90a1",
      "metadata": {},
      "source": [
        "为了同时获取内容和工件，我们需要使用一个`ToolCall`（它只是一个包含`\"name\"`、`\"args\"`、`\"id\"`和`\"type\"`键的字典）来调用模型，该字典包含生成像工具调用ID这样的ToolMessage所需的附加信息："
      ]
    },
    {
      "cell_type": "code",
      "execution_count": 4,
      "id": "da1d939d-a900-4b01-92aa-d19011a6b034",
      "metadata": {},
      "outputs": [
        {
          "name": "stdout",
          "output_type": "stream",
          "text": [
            "ToolMessage {\n",
            "  lc_serializable: true,\n",
            "  lc_kwargs: {\n",
            "    content: 'Successfully generated array of 10 random ints in [0, 9].',\n",
            "    artifact: [\n",
            "      0, 6, 5, 5, 7,\n",
            "      0, 6, 3, 7, 5\n",
            "    ],\n",
            "    tool_call_id: '123',\n",
            "    name: 'generateRandomInts',\n",
            "    additional_kwargs: {},\n",
            "    response_metadata: {}\n",
            "  },\n",
            "  lc_namespace: [ 'langchain_core', 'messages' ],\n",
            "  content: 'Successfully generated array of 10 random ints in [0, 9].',\n",
            "  name: 'generateRandomInts',\n",
            "  additional_kwargs: {},\n",
            "  response_metadata: {},\n",
            "  id: undefined,\n",
            "  tool_call_id: '123',\n",
            "  artifact: [\n",
            "    0, 6, 5, 5, 7,\n",
            "    0, 6, 3, 7, 5\n",
            "  ]\n",
            "}\n"
          ]
        }
      ],
      "source": [
        "await generateRandomInts.invoke(\n",
        "  {\n",
        "    name: \"generate_random_ints\",\n",
        "    args: {min: 0, max: 9, size: 10},\n",
        "    id: \"123\", // Required\n",
        "    type: \"tool_call\", // Required\n",
        "  }\n",
        ");"
      ]
    },
    {
      "cell_type": "markdown",
      "id": "a3cfc03d-020b-42c7-b0f8-c824af19e45e",
      "metadata": {},
      "source": [
        "## 与模型一起使用\n",
        "\n",
        "使用一个[工具调用模型](/docs/how_to/tool_calling/)，我们可以轻松地使用模型调用我们的工具并生成工具消息：\n",
        "\n",
        "```{=mdx}\n",
        "import ChatModelTabs from \"@theme/ChatModelTabs\";\n",
        "\n",
        "<ChatModelTabs\n",
        "  customVarName=\"llm\"\n",
        "/>\n",
        "```"
      ]
    },
    {
      "cell_type": "code",
      "execution_count": 7,
      "id": "8a67424b-d19c-43df-ac7b-690bca42146c",
      "metadata": {},
      "outputs": [
        {
          "name": "stdout",
          "output_type": "stream",
          "text": [
            "[\n",
            "  {\n",
            "    name: 'generateRandomInts',\n",
            "    args: { min: 1, max: 24, size: 6 },\n",
            "    id: 'toolu_019ygj3YuoU6qFzR66juXALp',\n",
            "    type: 'tool_call'\n",
            "  }\n",
            "]\n"
          ]
        }
      ],
      "source": [
        "const llmWithTools = llm.bindTools([generateRandomInts])\n",
        "\n",
        "const aiMessage = await llmWithTools.invoke(\"generate 6 positive ints less than 25\")\n",
        "aiMessage.tool_calls"
      ]
    },
    {
      "cell_type": "code",
      "execution_count": 8,
      "id": "00c4e906-3ca8-41e8-a0be-65cb0db7d574",
      "metadata": {},
      "outputs": [
        {
          "name": "stdout",
          "output_type": "stream",
          "text": [
            "ToolMessage {\n",
            "  lc_serializable: true,\n",
            "  lc_kwargs: {\n",
            "    content: 'Successfully generated array of 6 random ints in [1, 24].',\n",
            "    artifact: [ 18, 20, 16, 15, 17, 19 ],\n",
            "    tool_call_id: 'toolu_019ygj3YuoU6qFzR66juXALp',\n",
            "    name: 'generateRandomInts',\n",
            "    additional_kwargs: {},\n",
            "    response_metadata: {}\n",
            "  },\n",
            "  lc_namespace: [ 'langchain_core', 'messages' ],\n",
            "  content: 'Successfully generated array of 6 random ints in [1, 24].',\n",
            "  name: 'generateRandomInts',\n",
            "  additional_kwargs: {},\n",
            "  response_metadata: {},\n",
            "  id: undefined,\n",
            "  tool_call_id: 'toolu_019ygj3YuoU6qFzR66juXALp',\n",
            "  artifact: [ 18, 20, 16, 15, 17, 19 ]\n",
            "}\n"
          ]
        }
      ],
      "source": [
        "await generateRandomInts.invoke(aiMessage.tool_calls[0])"
      ]
    },
    {
      "cell_type": "markdown",
      "id": "ddef2690-70de-4542-ab20-2337f77f3e46",
      "metadata": {},
      "source": [
        "如果我们只传入工具调用参数，我们将只能返回内容："
      ]
    },
    {
      "cell_type": "code",
      "execution_count": 9,
      "id": "f4a6c9a6-0ffc-4b0e-a59f-f3c3d69d824d",
      "metadata": {},
      "outputs": [
        {
          "name": "stdout",
          "output_type": "stream",
          "text": [
            "Successfully generated array of 6 random ints in [1, 24].\n"
          ]
        }
      ],
      "source": [
        "await generateRandomInts.invoke(aiMessage.tool_calls[0][\"args\"])"
      ]
    },
    {
      "cell_type": "markdown",
      "id": "98d6443b-ff41-4d91-8523-b6274fc74ee5",
      "metadata": {},
      "source": [
        "如果我们想要声明式地创建一个链，我们可以这样做："
      ]
    },
    {
      "cell_type": "code",
      "execution_count": 10,
      "id": "eb55ec23-95a4-464e-b886-d9679bf3aaa2",
      "metadata": {},
      "outputs": [
        {
          "name": "stdout",
          "output_type": "stream",
          "text": [
            "[\n",
            "  ToolMessage {\n",
            "    lc_serializable: true,\n",
            "    lc_kwargs: {\n",
            "      content: 'Successfully generated array of 1 random ints in [1, 5].',\n",
            "      artifact: [Array],\n",
            "      tool_call_id: 'toolu_01CskofJCQW8chkUzmVR1APU',\n",
            "      name: 'generateRandomInts',\n",
            "      additional_kwargs: {},\n",
            "      response_metadata: {}\n",
            "    },\n",
            "    lc_namespace: [ 'langchain_core', 'messages' ],\n",
            "    content: 'Successfully generated array of 1 random ints in [1, 5].',\n",
            "    name: 'generateRandomInts',\n",
            "    additional_kwargs: {},\n",
            "    response_metadata: {},\n",
            "    id: undefined,\n",
            "    tool_call_id: 'toolu_01CskofJCQW8chkUzmVR1APU',\n",
            "    artifact: [ 1 ]\n",
            "  }\n",
            "]\n"
          ]
        }
      ],
      "source": [
        "const extractToolCalls = (aiMessage) => aiMessage.tool_calls;\n",
        "\n",
        "const chain = llmWithTools.pipe(extractToolCalls).pipe(generateRandomInts.map());\n",
        "\n",
        "await chain.invoke(\"give me a random number between 1 and 5\");"
      ]
    },
    {
      "cell_type": "markdown",
      "id": "54f74020",
      "metadata": {},
      "source": [
        "## 相关内容\n",
        "\n",
        "你现在已经了解了如何从工具调用中返回额外的产物。\n",
        "\n",
        "以下指南可能也会引起你的兴趣：\n",
        "\n",
        "- [创建自定义工具](/docs/how_to/custom_tools)\n",
        "- [使用 LangGraph 构建智能代理](https://langchain-ai.github.io/langgraphjs/)"
      ]
    }
  ],
  "metadata": {
    "kernelspec": {
      "display_name": "TypeScript",
      "language": "typescript",
      "name": "tslab"
    },
    "language_info": {
      "codemirror_mode": {
        "mode": "typescript",
        "name": "javascript",
        "typescript": true
      },
      "file_extension": ".ts",
      "mimetype": "text/typescript",
      "name": "typescript",
      "version": "3.7.2"
    }
  },
  "nbformat": 4,
  "nbformat_minor": 5
}