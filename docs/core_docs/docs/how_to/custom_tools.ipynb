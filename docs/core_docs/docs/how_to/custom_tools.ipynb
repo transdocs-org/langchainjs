{
  "cells": [
    {
      "cell_type": "raw",
      "id": "04171ad7",
      "metadata": {
        "vscode": {
          "languageId": "raw"
        }
      },
      "source": [
        "---\n",
        "keywords: [custom tool, custom tools]\n",
        "---"
      ]
    },
    {
      "cell_type": "markdown",
      "id": "5436020b",
      "metadata": {},
      "source": [
        "# 如何创建工具\n",
        "\n",
        ":::info 预备知识\n",
        "\n",
        "本指南假定您熟悉以下概念：\n",
        "\n",
        "- [LangChain 工具](/docs/concepts/tools)\n",
        "- [代理](/docs/concepts/agents)\n",
        "\n",
        ":::\n",
        "\n",
        "在构建自己的代理时，您需要为其提供一个可供使用的工具列表。虽然 LangChain 包含一些预置工具，但使用自定义逻辑的工具通常会更加有用。本指南将带您了解一些创建自定义工具的方法。\n",
        "\n",
        "这里最大的区别在于第一个函数需要包含多个输入字段的对象，而第二个函数只接受包含单个字段的对象。一些较旧的代理只能与需要单一输入的函数配合使用，因此了解这种区别非常重要。\n",
        "\n",
        "LangChain 提供了多种为不同应用场景构建工具的方法。下面我将展示创建工具的两种最常见方式，以及它们的适用场景。"
      ]
    },
    {
      "cell_type": "markdown",
      "id": "82bb159d",
      "metadata": {},
      "source": [
        "## 工具模式\n",
        "\n",
        "```{=mdx}\n",
        ":::caution 兼容性\n",
        "仅在 `@langchain/core` 0.2.19 及以上版本中可用。\n",
        ":::\n",
        "```\n",
        "\n",
        "创建工具的最简单方法是通过 [`StructuredToolParams`](https://api.js.langchain.com/interfaces/_langchain_core.tools.StructuredToolParams.html) 模式。LangChain 中每个支持工具调用的聊天模型都接受通过此模式将工具绑定到模型。此模式仅包含三个字段：\n",
        "\n",
        "- `name` - 工具的名称。\n",
        "- `schema` - 使用 Zod 对象定义的工具模式。\n",
        "- `description`（可选） - 工具的描述。\n",
        "\n",
        "该模式不包含与工具配对的函数，因此应仅在生成的输出不需要作为参数传递给函数的情况下使用。"
      ]
    },
    {
      "cell_type": "code",
      "execution_count": null,
      "id": "4d129789",
      "metadata": {},
      "outputs": [],
      "source": [
        "import { z } from \"zod\";\n",
        "import { StructuredToolParams } from \"@langchain/core/tools\";\n",
        "\n",
        "const simpleToolSchema: StructuredToolParams = {\n",
        "  name: \"get_current_weather\",\n",
        "  description: \"Get the current weather for a location\",\n",
        "  schema: z.object({\n",
        "    city: z.string().describe(\"The city to get the weather for\"),\n",
        "    state: z.string().optional().describe(\"The state to get the weather for\"),\n",
        "  })\n",
        "}"
      ]
    },
    {
      "cell_type": "markdown",
      "id": "f6ec6ee8",
      "metadata": {},
      "source": [
        "## `tool` 函数\n",
        "\n",
        "```{=mdx}\n",
        ":::caution 兼容性\n",
        "仅适用于 `@langchain/core` 0.2.7 及以上版本。\n",
        ":::\n",
        "```\n",
        "\n",
        "[`tool`](https://api.js.langchain.com/classes/langchain_core.tools.Tool.html) 包装函数是一种将 JavaScript 函数转换为工具的便捷方法。它需要该函数本身以及一些定义工具的附加参数。当生成的工具调用执行一个函数时，应优先使用此方法而非 `StructuredToolParams` 工具。其中最重要的参数包括：\n",
        "\n",
        "- 工具的 `name`，LLM 将使用它作为上下文以及引用该工具的标识\n",
        "- 可选但建议提供的 `description`，LLM 将使用它作为上下文以了解何时使用该工具\n",
        "- 一个 `schema`，用于定义工具输入的结构\n",
        "\n",
        "`tool` 函数将返回 [`StructuredTool`](https://api.js.langchain.com/classes/langchain_core.tools.StructuredTool.html) 类的一个实例，因此它与 LangChain 库中所有现有的工具调用基础设施兼容。"
      ]
    },
    {
      "cell_type": "code",
      "execution_count": 1,
      "id": "ecc1ce9d",
      "metadata": {},
      "outputs": [
        {
          "data": {
            "text/plain": [
              "\u001b[32m\"The sum of 1 and 2 is 3\"\u001b[39m"
            ]
          },
          "execution_count": 1,
          "metadata": {},
          "output_type": "execute_result"
        }
      ],
      "source": [
        "import { z } from \"zod\";\n",
        "import { tool } from \"@langchain/core/tools\";\n",
        "\n",
        "const adderSchema = z.object({\n",
        "  a: z.number(),\n",
        "  b: z.number(),\n",
        "});\n",
        "const adderTool = tool(async (input): Promise<string> => {\n",
        "  const sum = input.a + input.b;\n",
        "  return `The sum of ${input.a} and ${input.b} is ${sum}`;\n",
        "}, {\n",
        "  name: \"adder\",\n",
        "  description: \"Adds two numbers together\",\n",
        "  schema: adderSchema,\n",
        "});\n",
        "\n",
        "await adderTool.invoke({ a: 1, b: 2 });"
      ]
    },
    {
      "cell_type": "markdown",
      "id": "213ee344",
      "metadata": {},
      "source": [
        "## `DynamicStructuredTool`\n",
        "\n",
        "你还可以使用 [`DynamicStructuredTool`](https://api.js.langchain.com/classes/langchain_core.tools.DynamicStructuredTool.html) 类来声明工具。以下是一个示例——请注意，工具必须始终返回字符串！"
      ]
    },
    {
      "cell_type": "code",
      "execution_count": 2,
      "id": "833dda4a",
      "metadata": {},
      "outputs": [
        {
          "data": {
            "text/plain": [
              "\u001b[32m\"72\"\u001b[39m"
            ]
          },
          "execution_count": 2,
          "metadata": {},
          "output_type": "execute_result"
        }
      ],
      "source": [
        "import { DynamicStructuredTool } from \"@langchain/core/tools\";\n",
        "import { z } from \"zod\";\n",
        "\n",
        "const multiplyTool = new DynamicStructuredTool({\n",
        "  name: \"multiply\",\n",
        "  description: \"multiply two numbers together\",\n",
        "  schema: z.object({\n",
        "    a: z.number().describe(\"the first number to multiply\"),\n",
        "    b: z.number().describe(\"the second number to multiply\"),\n",
        "  }),\n",
        "  func: async ({ a, b }: { a: number; b: number; }) => {\n",
        "    return (a * b).toString();\n",
        "  },\n",
        "});\n",
        "\n",
        "await multiplyTool.invoke({ a: 8, b: 9, });"
      ]
    },
    {
      "cell_type": "markdown",
      "id": "c7326b23",
      "metadata": {},
      "source": [
        "## `DynamicTool`\n",
        "\n",
        "对于需要工具只接受单个输入的旧代理，您可以将相关参数传递给 [`DynamicTool`](https://api.js.langchain.com/classes/langchain_core.tools.DynamicTool.html) 类。这在使用仅支持接受单个输入工具的旧代理时非常有用。在这种情况下，不需要模式："
      ]
    },
    {
      "cell_type": "code",
      "execution_count": 3,
      "id": "b0ce7de8",
      "metadata": {},
      "outputs": [
        {
          "data": {
            "text/plain": [
              "\u001b[32m\"LangChain\"\u001b[39m"
            ]
          },
          "execution_count": 3,
          "metadata": {},
          "output_type": "execute_result"
        }
      ],
      "source": [
        "import { DynamicTool } from \"@langchain/core/tools\";\n",
        "\n",
        "const searchTool = new DynamicTool({\n",
        "  name: \"search\",\n",
        "  description: \"look things up online\",\n",
        "  func: async (_input: string) => {\n",
        "    return \"LangChain\";\n",
        "  },\n",
        "});\n",
        "\n",
        "await searchTool.invoke(\"foo\");"
      ]
    },
    {
      "cell_type": "markdown",
      "id": "d4093dea",
      "metadata": {},
      "source": [
        "# 返回工具执行的产物\n",
        "\n",
        "有时，工具执行会产生一些产物，我们希望这些产物对链或代理中的下游组件可用，但不希望将其暴露给模型本身。例如，如果某个工具返回了自定义对象（如 Documents），我们可能希望向模型传递该输出的某些视图或元数据，而不是直接传递原始输出。与此同时，我们可能希望在其他地方（例如下游工具中）能够访问到这个完整输出。\n",
        "\n",
        "`Tool` 和 `ToolMessage` 接口使得我们可以区分工具输出中面向模型的部分（`ToolMessage.content`）和面向模型之外使用的部分（`ToolMessage.artifact`）。\n",
        "\n",
        "```{=mdx}\n",
        ":::caution 兼容性\n",
        "此功能在 `@langchain/core>=0.2.16` 中添加。请确保你的包版本是最新的。\n",
        ":::\n",
        "```\n",
        "\n",
        "如果你想让你的工具区分消息内容和其他产物，我们需要做三件事：\n",
        "\n",
        "- 在定义工具时，将 `response_format` 参数设置为 `\"content_and_artifact\"`。\n",
        "- 确保返回一个 `[content, artifact]` 形式的元组。\n",
        "- 使用 [`ToolCall`](https://api.js.langchain.com/types/langchain_core.messages_tool.ToolCall.html)（像工具调用模型生成的那些）来调用工具，而不是直接使用所需的 schema。\n",
        "\n",
        "下面是一个示例。首先，创建一个新工具："
      ]
    },
    {
      "cell_type": "code",
      "execution_count": 4,
      "id": "ecf15c35",
      "metadata": {},
      "outputs": [],
      "source": [
        "import { z } from \"zod\";\n",
        "import { tool } from \"@langchain/core/tools\";\n",
        "\n",
        "const randomIntToolSchema = z.object({\n",
        "  min: z.number(),\n",
        "  max: z.number(),\n",
        "  size: z.number(),\n",
        "});\n",
        "\n",
        "const generateRandomInts = tool(async ({ min, max, size }) => {\n",
        "  const array: number[] = [];\n",
        "  for (let i = 0; i < size; i++) {\n",
        "    array.push(Math.floor(Math.random() * (max - min + 1)) + min);\n",
        "  }\n",
        "  return [\n",
        "    `Successfully generated array of ${size} random ints in [${min}, ${max}].`,\n",
        "    array,\n",
        "  ];\n",
        "}, {\n",
        "  name: \"generateRandomInts\",\n",
        "  description: \"Generate size random ints in the range [min, max].\",\n",
        "  schema: randomIntToolSchema,\n",
        "  responseFormat: \"content_and_artifact\",\n",
        "});"
      ]
    },
    {
      "cell_type": "markdown",
      "id": "5775e686",
      "metadata": {},
      "source": [
        "如果您直接使用工具参数调用我们的工具，您将只获得输出中的`content`部分："
      ]
    },
    {
      "cell_type": "code",
      "execution_count": 5,
      "id": "ecbde6de",
      "metadata": {},
      "outputs": [
        {
          "data": {
            "text/plain": [
              "\u001b[32m\"Successfully generated array of 10 random ints in [0, 9].\"\u001b[39m"
            ]
          },
          "execution_count": 5,
          "metadata": {},
          "output_type": "execute_result"
        }
      ],
      "source": [
        "await generateRandomInts.invoke({ min: 0, max: 9, size: 10 });"
      ]
    },
    {
      "cell_type": "markdown",
      "id": "6299ef60",
      "metadata": {},
      "source": [
        "但如果你通过 `ToolCall` 调用我们的工具，你将收到一个包含 `Tool` 生成的内容和产物的 ToolMessage："
      ]
    },
    {
      "cell_type": "code",
      "execution_count": 6,
      "id": "05209573",
      "metadata": {},
      "outputs": [
        {
          "data": {
            "text/plain": [
              "ToolMessage {\n",
              "  lc_serializable: \u001b[33mtrue\u001b[39m,\n",
              "  lc_kwargs: {\n",
              "    content: \u001b[32m\"Successfully generated array of 10 random ints in [0, 9].\"\u001b[39m,\n",
              "    artifact: [\n",
              "      \u001b[33m7\u001b[39m, \u001b[33m7\u001b[39m, \u001b[33m1\u001b[39m, \u001b[33m4\u001b[39m, \u001b[33m8\u001b[39m,\n",
              "      \u001b[33m4\u001b[39m, \u001b[33m8\u001b[39m, \u001b[33m3\u001b[39m, \u001b[33m0\u001b[39m, \u001b[33m9\u001b[39m\n",
              "    ],\n",
              "    tool_call_id: \u001b[32m\"123\"\u001b[39m,\n",
              "    name: \u001b[32m\"generateRandomInts\"\u001b[39m,\n",
              "    additional_kwargs: {},\n",
              "    response_metadata: {}\n",
              "  },\n",
              "  lc_namespace: [ \u001b[32m\"langchain_core\"\u001b[39m, \u001b[32m\"messages\"\u001b[39m ],\n",
              "  content: \u001b[32m\"Successfully generated array of 10 random ints in [0, 9].\"\u001b[39m,\n",
              "  name: \u001b[32m\"generateRandomInts\"\u001b[39m,\n",
              "  additional_kwargs: {},\n",
              "  response_metadata: {},\n",
              "  id: \u001b[90mundefined\u001b[39m,\n",
              "  tool_call_id: \u001b[32m\"123\"\u001b[39m,\n",
              "  artifact: [\n",
              "    \u001b[33m7\u001b[39m, \u001b[33m7\u001b[39m, \u001b[33m1\u001b[39m, \u001b[33m4\u001b[39m, \u001b[33m8\u001b[39m,\n",
              "    \u001b[33m4\u001b[39m, \u001b[33m8\u001b[39m, \u001b[33m3\u001b[39m, \u001b[33m0\u001b[39m, \u001b[33m9\u001b[39m\n",
              "  ]\n",
              "}"
            ]
          },
          "execution_count": 6,
          "metadata": {},
          "output_type": "execute_result"
        }
      ],
      "source": [
        "await generateRandomInts.invoke({\n",
        "  name: \"generateRandomInts\",\n",
        "  args: { min: 0, max: 9, size: 10 },\n",
        "  id: \"123\", // required\n",
        "  type: \"tool_call\",\n",
        "});"
      ]
    },
    {
      "cell_type": "markdown",
      "id": "8eceaf09",
      "metadata": {},
      "source": [
        "## 相关内容\n",
        "\n",
        "你现在已了解了几种在LangChain中创建自定义工具的方法。\n",
        "\n",
        "接下来，你可能有兴趣学习[如何使用聊天模型调用工具](/docs/how_to/tool_calling/)。\n",
        "\n",
        "你还可以查看如何创建自己的[其他模块的自定义版本](/docs/how_to/#custom)。"
      ]
    }
  ],
  "metadata": {
    "kernelspec": {
      "display_name": "TypeScript",
      "language": "typescript",
      "name": "tslab"
    },
    "language_info": {
      "file_extension": ".ts",
      "mimetype": "text/x.typescript",
      "name": "typescript",
      "nb_converter": "script",
      "pygments_lexer": "typescript",
      "version": "5.3.3"
    },
    "vscode": {
      "interpreter": {
        "hash": "e90c8aa204a57276aa905271aff2d11799d0acb3547adabc5892e639a5e45e34"
      }
    }
  },
  "nbformat": 4,
  "nbformat_minor": 5
}