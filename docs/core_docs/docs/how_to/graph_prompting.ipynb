{
  "cells": [
    {
      "cell_type": "markdown",
      "metadata": {},
      "source": [
        "# 如何通过提示提升结果\n",
        "\n",
        "在本指南中，我们将介绍一些提示策略，以改进图数据库查询的生成。我们主要关注将相关的数据库特定信息包含在提示中的方法。\n",
        "\n",
        "```{=mdx}\n",
        ":::warning\n",
        "\n",
        "本指南中使用的 `GraphCypherQAChain` 将对提供的数据库执行 Cypher 语句。\n",
        "在生产环境中，请确保数据库连接使用的凭据范围严格限定为仅包含必要权限。\n",
        "\n",
        "如果不这样做，可能会导致数据损坏或丢失，因为调用的代码\n",
        "可能会执行删除、修改数据的命令，\n",
        "或者在数据库中存在敏感数据的情况下读取敏感数据。\n",
        "\n",
        ":::\n",
        "```"
      ]
    },
    {
      "cell_type": "markdown",
      "metadata": {},
      "source": [
        "## 安装配置\n",
        "#### 安装依赖\n",
        "\n",
        "```{=mdx}\n",
        "import IntegrationInstallTooltip from \"@mdx_components/integration_install_tooltip.mdx\";\n",
        "import Npm2Yarn from \"@theme/Npm2Yarn\";\n",
        "\n",
        "<IntegrationInstallTooltip></IntegrationInstallTooltip>\n",
        "\n",
        "<Npm2Yarn>\n",
        "  langchain @langchain/community @langchain/openai @langchain/core neo4j-driver\n",
        "</Npm2Yarn>\n",
        "```\n",
        "\n",
        "#### 设置环境变量\n",
        "\n",
        "本示例中我们将使用 OpenAI:\n",
        "\n",
        "```env\n",
        "OPENAI_API_KEY=your-api-key\n",
        "\n",
        "# 可选，使用 LangSmith 实现最佳观测能力\n",
        "LANGSMITH_API_KEY=your-api-key\n",
        "LANGSMITH_TRACING=true\n",
        "\n",
        "# 如果你不在无服务器环境中运行，可以减少追踪延迟\n",
        "# LANGCHAIN_CALLBACKS_BACKGROUND=true\n",
        "```\n",
        "\n",
        "接下来，我们需要定义 Neo4j 凭据。\n",
        "请按照 [这些安装步骤](https://neo4j.com/docs/operations-manual/current/installation/) 来设置 Neo4j 数据库。\n",
        "\n",
        "```env\n",
        "NEO4J_URI=\"bolt://localhost:7687\"\n",
        "NEO4J_USERNAME=\"neo4j\"\n",
        "NEO4J_PASSWORD=\"password\"\n",
        "```"
      ]
    },
    {
      "cell_type": "markdown",
      "metadata": {},
      "source": [
        "以下示例将创建一个与 Neo4j 数据库的连接，并使用有关电影及其演员的示例数据填充该数据库。"
      ]
    },
    {
      "cell_type": "code",
      "execution_count": 1,
      "metadata": {},
      "outputs": [],
      "source": [
        "const url = process.env.NEO4J_URI;\n",
        "const username = process.env.NEO4J_USER;\n",
        "const password = process.env.NEO4J_PASSWORD;"
      ]
    },
    {
      "cell_type": "code",
      "execution_count": 2,
      "metadata": {},
      "outputs": [
        {
          "name": "stdout",
          "output_type": "stream",
          "text": [
            "Schema refreshed successfully.\n"
          ]
        },
        {
          "data": {
            "text/plain": [
              "[]"
            ]
          },
          "execution_count": 2,
          "metadata": {},
          "output_type": "execute_result"
        }
      ],
      "source": [
        "import \"neo4j-driver\";\n",
        "import { Neo4jGraph } from \"@langchain/community/graphs/neo4j_graph\";\n",
        "\n",
        "const graph = await Neo4jGraph.initialize({ url, username, password });\n",
        "\n",
        "// Import movie information\n",
        "const moviesQuery = `LOAD CSV WITH HEADERS FROM \n",
        "'https://raw.githubusercontent.com/tomasonjo/blog-datasets/main/movies/movies_small.csv'\n",
        "AS row\n",
        "MERGE (m:Movie {id:row.movieId})\n",
        "SET m.released = date(row.released),\n",
        "    m.title = row.title,\n",
        "    m.imdbRating = toFloat(row.imdbRating)\n",
        "FOREACH (director in split(row.director, '|') | \n",
        "    MERGE (p:Person {name:trim(director)})\n",
        "    MERGE (p)-[:DIRECTED]->(m))\n",
        "FOREACH (actor in split(row.actors, '|') | \n",
        "    MERGE (p:Person {name:trim(actor)})\n",
        "    MERGE (p)-[:ACTED_IN]->(m))\n",
        "FOREACH (genre in split(row.genres, '|') | \n",
        "    MERGE (g:Genre {name:trim(genre)})\n",
        "    MERGE (m)-[:IN_GENRE]->(g))`\n",
        "\n",
        "await graph.query(moviesQuery);"
      ]
    },
    {
      "cell_type": "markdown",
      "metadata": {},
      "source": [
        "# 过滤图模式\n",
        "\n",
        "有时，在生成Cypher语句时，您可能需要专注于图模式的特定子集。\n",
        "假设我们处理的是以下图模式："
      ]
    },
    {
      "cell_type": "code",
      "execution_count": 3,
      "metadata": {},
      "outputs": [
        {
          "name": "stdout",
          "output_type": "stream",
          "text": [
            "Node properties are the following:\n",
            "Movie {imdbRating: FLOAT, id: STRING, released: DATE, title: STRING}, Person {name: STRING}, Genre {name: STRING}, Chunk {embedding: LIST, id: STRING, text: STRING}\n",
            "Relationship properties are the following:\n",
            "\n",
            "The relationships are the following:\n",
            "(:Movie)-[:IN_GENRE]->(:Genre), (:Person)-[:DIRECTED]->(:Movie), (:Person)-[:ACTED_IN]->(:Movie)\n"
          ]
        }
      ],
      "source": [
        "await graph.refreshSchema()\n",
        "console.log(graph.getSchema())"
      ]
    },
    {
      "cell_type": "markdown",
      "metadata": {},
      "source": [
        "## 少样本示例\n",
        "\n",
        "在提示中包含自然语言问题转换为针对我们数据库的有效Cypher查询的示例，通常会提高模型性能，尤其是对于复杂查询。\n",
        "\n",
        "假设我们有以下示例："
      ]
    },
    {
      "cell_type": "code",
      "execution_count": 4,
      "metadata": {},
      "outputs": [],
      "source": [
        "const examples = [\n",
        "    {\n",
        "        \"question\": \"How many artists are there?\",\n",
        "        \"query\": \"MATCH (a:Person)-[:ACTED_IN]->(:Movie) RETURN count(DISTINCT a)\",\n",
        "    },\n",
        "    {\n",
        "        \"question\": \"Which actors played in the movie Casino?\",\n",
        "        \"query\": \"MATCH (m:Movie {{title: 'Casino'}})<-[:ACTED_IN]-(a) RETURN a.name\",\n",
        "    },\n",
        "    {\n",
        "        \"question\": \"How many movies has Tom Hanks acted in?\",\n",
        "        \"query\": \"MATCH (a:Person {{name: 'Tom Hanks'}})-[:ACTED_IN]->(m:Movie) RETURN count(m)\",\n",
        "    },\n",
        "    {\n",
        "        \"question\": \"List all the genres of the movie Schindler's List\",\n",
        "        \"query\": \"MATCH (m:Movie {{title: 'Schindler\\\\'s List'}})-[:IN_GENRE]->(g:Genre) RETURN g.name\",\n",
        "    },\n",
        "    {\n",
        "        \"question\": \"Which actors have worked in movies from both the comedy and action genres?\",\n",
        "        \"query\": \"MATCH (a:Person)-[:ACTED_IN]->(:Movie)-[:IN_GENRE]->(g1:Genre), (a)-[:ACTED_IN]->(:Movie)-[:IN_GENRE]->(g2:Genre) WHERE g1.name = 'Comedy' AND g2.name = 'Action' RETURN DISTINCT a.name\",\n",
        "    },\n",
        "    {\n",
        "        \"question\": \"Which directors have made movies with at least three different actors named 'John'?\",\n",
        "        \"query\": \"MATCH (d:Person)-[:DIRECTED]->(m:Movie)<-[:ACTED_IN]-(a:Person) WHERE a.name STARTS WITH 'John' WITH d, COUNT(DISTINCT a) AS JohnsCount WHERE JohnsCount >= 3 RETURN d.name\",\n",
        "    },\n",
        "    {\n",
        "        \"question\": \"Identify movies where directors also played a role in the film.\",\n",
        "        \"query\": \"MATCH (p:Person)-[:DIRECTED]->(m:Movie), (p)-[:ACTED_IN]->(m) RETURN m.title, p.name\",\n",
        "    },\n",
        "    {\n",
        "        \"question\": \"Find the actor with the highest number of movies in the database.\",\n",
        "        \"query\": \"MATCH (a:Actor)-[:ACTED_IN]->(m:Movie) RETURN a.name, COUNT(m) AS movieCount ORDER BY movieCount DESC LIMIT 1\",\n",
        "    },\n",
        "]"
      ]
    },
    {
      "cell_type": "markdown",
      "metadata": {},
      "source": [
        "我们可以用它们创建一个少样本提示，如下所示："
      ]
    },
    {
      "cell_type": "code",
      "execution_count": 5,
      "metadata": {},
      "outputs": [],
      "source": [
        "import { FewShotPromptTemplate, PromptTemplate } from \"@langchain/core/prompts\";\n",
        "\n",
        "const examplePrompt = PromptTemplate.fromTemplate(\n",
        "    \"User input: {question}\\nCypher query: {query}\"\n",
        ")\n",
        "const prompt = new FewShotPromptTemplate({\n",
        "    examples: examples.slice(0, 5),\n",
        "    examplePrompt,\n",
        "    prefix: \"You are a Neo4j expert. Given an input question, create a syntactically correct Cypher query to run.\\n\\nHere is the schema information\\n{schema}.\\n\\nBelow are a number of examples of questions and their corresponding Cypher queries.\",\n",
        "    suffix: \"User input: {question}\\nCypher query: \",\n",
        "    inputVariables: [\"question\", \"schema\"],\n",
        "})"
      ]
    },
    {
      "cell_type": "code",
      "execution_count": 6,
      "metadata": {},
      "outputs": [
        {
          "name": "stdout",
          "output_type": "stream",
          "text": [
            "You are a Neo4j expert. Given an input question, create a syntactically correct Cypher query to run.\n",
            "\n",
            "Here is the schema information\n",
            "foo.\n",
            "\n",
            "Below are a number of examples of questions and their corresponding Cypher queries.\n",
            "\n",
            "User input: How many artists are there?\n",
            "Cypher query: MATCH (a:Person)-[:ACTED_IN]->(:Movie) RETURN count(DISTINCT a)\n",
            "\n",
            "User input: Which actors played in the movie Casino?\n",
            "Cypher query: MATCH (m:Movie {title: 'Casino'})<-[:ACTED_IN]-(a) RETURN a.name\n",
            "\n",
            "User input: How many movies has Tom Hanks acted in?\n",
            "Cypher query: MATCH (a:Person {name: 'Tom Hanks'})-[:ACTED_IN]->(m:Movie) RETURN count(m)\n",
            "\n",
            "User input: List all the genres of the movie Schindler's List\n",
            "Cypher query: MATCH (m:Movie {title: 'Schindler\\'s List'})-[:IN_GENRE]->(g:Genre) RETURN g.name\n",
            "\n",
            "User input: Which actors have worked in movies from both the comedy and action genres?\n",
            "Cypher query: MATCH (a:Person)-[:ACTED_IN]->(:Movie)-[:IN_GENRE]->(g1:Genre), (a)-[:ACTED_IN]->(:Movie)-[:IN_GENRE]->(g2:Genre) WHERE g1.name = 'Comedy' AND g2.name = 'Action' RETURN DISTINCT a.name\n",
            "\n",
            "User input: How many artists are there?\n",
            "Cypher query: \n"
          ]
        }
      ],
      "source": [
        "console.log(await prompt.format({ question: \"How many artists are there?\", schema: \"foo\" }))"
      ]
    },
    {
      "cell_type": "markdown",
      "metadata": {},
      "source": [
        "## 动态少样本示例\n",
        "\n",
        "如果我们有足够多的示例，可能希望仅在提示中包含最相关的那些示例，这要么是因为示例无法全部放入模型的上下文窗口中，要么是因为过多的示例会使模型分心。具体来说，对于任何输入，我们希望包含与该输入最相关的示例。\n",
        "\n",
        "我们可以使用 ExampleSelector 来实现这一点。在这种情况下，我们将使用 [SemanticSimilarityExampleSelector](https://api.js.langchain.com/classes/langchain_core.example_selectors.SemanticSimilarityExampleSelector.html)，它会将示例存储在我们选择的向量数据库中。在运行时，它将在输入与我们的示例之间执行相似性搜索，并返回语义上最相似的示例： "
      ]
    },
    {
      "cell_type": "code",
      "execution_count": 7,
      "metadata": {},
      "outputs": [],
      "source": [
        "import { OpenAIEmbeddings } from \"@langchain/openai\";\n",
        "import { SemanticSimilarityExampleSelector } from \"@langchain/core/example_selectors\";\n",
        "import { Neo4jVectorStore } from \"@langchain/community/vectorstores/neo4j_vector\";\n",
        "\n",
        "const exampleSelector = await SemanticSimilarityExampleSelector.fromExamples(\n",
        "    examples,\n",
        "    new OpenAIEmbeddings(),\n",
        "    Neo4jVectorStore,\n",
        "    {\n",
        "        k: 5,\n",
        "        inputKeys: [\"question\"],\n",
        "        preDeleteCollection: true,\n",
        "        url,\n",
        "        username,\n",
        "        password\n",
        "    }\n",
        ")"
      ]
    },
    {
      "cell_type": "code",
      "execution_count": 8,
      "metadata": {},
      "outputs": [
        {
          "data": {
            "text/plain": [
              "[\n",
              "  {\n",
              "    query: \u001b[32m\"MATCH (a:Person)-[:ACTED_IN]->(:Movie) RETURN count(DISTINCT a)\"\u001b[39m,\n",
              "    question: \u001b[32m\"How many artists are there?\"\u001b[39m\n",
              "  },\n",
              "  {\n",
              "    query: \u001b[32m\"MATCH (a:Person {{name: 'Tom Hanks'}})-[:ACTED_IN]->(m:Movie) RETURN count(m)\"\u001b[39m,\n",
              "    question: \u001b[32m\"How many movies has Tom Hanks acted in?\"\u001b[39m\n",
              "  },\n",
              "  {\n",
              "    query: \u001b[32m\"MATCH (a:Person)-[:ACTED_IN]->(:Movie)-[:IN_GENRE]->(g1:Genre), (a)-[:ACTED_IN]->(:Movie)-[:IN_GENRE\"\u001b[39m... 84 more characters,\n",
              "    question: \u001b[32m\"Which actors have worked in movies from both the comedy and action genres?\"\u001b[39m\n",
              "  },\n",
              "  {\n",
              "    query: \u001b[32m\"MATCH (d:Person)-[:DIRECTED]->(m:Movie)<-[:ACTED_IN]-(a:Person) WHERE a.name STARTS WITH 'John' WITH\"\u001b[39m... 71 more characters,\n",
              "    question: \u001b[32m\"Which directors have made movies with at least three different actors named 'John'?\"\u001b[39m\n",
              "  },\n",
              "  {\n",
              "    query: \u001b[32m\"MATCH (a:Actor)-[:ACTED_IN]->(m:Movie) RETURN a.name, COUNT(m) AS movieCount ORDER BY movieCount DES\"\u001b[39m... 9 more characters,\n",
              "    question: \u001b[32m\"Find the actor with the highest number of movies in the database.\"\u001b[39m\n",
              "  }\n",
              "]"
            ]
          },
          "execution_count": 8,
          "metadata": {},
          "output_type": "execute_result"
        }
      ],
      "source": [
        "await exampleSelector.selectExamples({ question: \"how many artists are there?\" })"
      ]
    },
    {
      "cell_type": "markdown",
      "metadata": {},
      "source": [
        "使用它时，我们可以将ExampleSelector直接传递给我们的FewShotPromptTemplate："
      ]
    },
    {
      "cell_type": "code",
      "execution_count": 9,
      "metadata": {},
      "outputs": [],
      "source": [
        "const promptWithExampleSelector = new FewShotPromptTemplate({\n",
        "  exampleSelector,\n",
        "  examplePrompt,\n",
        "  prefix: \"You are a Neo4j expert. Given an input question, create a syntactically correct Cypher query to run.\\n\\nHere is the schema information\\n{schema}.\\n\\nBelow are a number of examples of questions and their corresponding Cypher queries.\",\n",
        "  suffix: \"User input: {question}\\nCypher query: \",\n",
        "  inputVariables: [\"question\", \"schema\"],\n",
        "})"
      ]
    },
    {
      "cell_type": "code",
      "execution_count": 20,
      "metadata": {},
      "outputs": [
        {
          "name": "stdout",
          "output_type": "stream",
          "text": [
            "You are a Neo4j expert. Given an input question, create a syntactically correct Cypher query to run.\n",
            "\n",
            "Here is the schema information\n",
            "foo.\n",
            "\n",
            "Below are a number of examples of questions and their corresponding Cypher queries.\n",
            "\n",
            "User input: How many artists are there?\n",
            "Cypher query: MATCH (a:Person)-[:ACTED_IN]->(:Movie) RETURN count(DISTINCT a)\n",
            "\n",
            "User input: How many movies has Tom Hanks acted in?\n",
            "Cypher query: MATCH (a:Person {name: 'Tom Hanks'})-[:ACTED_IN]->(m:Movie) RETURN count(m)\n",
            "\n",
            "User input: Which actors have worked in movies from both the comedy and action genres?\n",
            "Cypher query: MATCH (a:Person)-[:ACTED_IN]->(:Movie)-[:IN_GENRE]->(g1:Genre), (a)-[:ACTED_IN]->(:Movie)-[:IN_GENRE]->(g2:Genre) WHERE g1.name = 'Comedy' AND g2.name = 'Action' RETURN DISTINCT a.name\n",
            "\n",
            "User input: Which directors have made movies with at least three different actors named 'John'?\n",
            "Cypher query: MATCH (d:Person)-[:DIRECTED]->(m:Movie)<-[:ACTED_IN]-(a:Person) WHERE a.name STARTS WITH 'John' WITH d, COUNT(DISTINCT a) AS JohnsCount WHERE JohnsCount >= 3 RETURN d.name\n",
            "\n",
            "User input: Find the actor with the highest number of movies in the database.\n",
            "Cypher query: MATCH (a:Actor)-[:ACTED_IN]->(m:Movie) RETURN a.name, COUNT(m) AS movieCount ORDER BY movieCount DESC LIMIT 1\n",
            "\n",
            "User input: how many artists are there?\n",
            "Cypher query: \n"
          ]
        }
      ],
      "source": [
        "console.log(await promptWithExampleSelector.format({ question: \"how many artists are there?\", schema: \"foo\" }))"
      ]
    },
    {
      "cell_type": "code",
      "execution_count": 17,
      "metadata": {},
      "outputs": [],
      "source": [
        "import { ChatOpenAI } from \"@langchain/openai\";\n",
        "import { GraphCypherQAChain } from \"langchain/chains/graph_qa/cypher\";\n",
        "\n",
        "const llm = new ChatOpenAI({\n",
        "  model: \"gpt-3.5-turbo\",\n",
        "  temperature: 0,\n",
        "});\n",
        "const chain = GraphCypherQAChain.fromLLM(\n",
        "  {\n",
        "    graph,\n",
        "    llm,\n",
        "    cypherPrompt: promptWithExampleSelector,\n",
        "  }\n",
        ")"
      ]
    },
    {
      "cell_type": "code",
      "execution_count": 19,
      "metadata": {},
      "outputs": [
        {
          "data": {
            "text/plain": [
              "{ result: \u001b[32m\"There are 967 actors in the graph.\"\u001b[39m }"
            ]
          },
          "execution_count": 19,
          "metadata": {},
          "output_type": "execute_result"
        }
      ],
      "source": [
        "await chain.invoke({\n",
        "  query: \"How many actors are in the graph?\"\n",
        "})"
      ]
    }
  ],
  "metadata": {
    "kernelspec": {
      "display_name": "Deno",
      "language": "typescript",
      "name": "deno"
    },
    "language_info": {
      "file_extension": ".ts",
      "mimetype": "text/x.typescript",
      "name": "typescript",
      "nb_converter": "script",
      "pygments_lexer": "typescript",
      "version": "5.3.3"
    }
  },
  "nbformat": 4,
  "nbformat_minor": 4
}