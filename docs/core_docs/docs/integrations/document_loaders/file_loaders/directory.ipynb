{
  "cells": [
    {
      "cell_type": "raw",
      "metadata": {},
      "source": [
        "---\n",
        "sidebar_label: DirectoryLoader\n",
        "sidebar_class_name: node-only\n",
        "---"
      ]
    },
    {
      "cell_type": "markdown",
      "metadata": {},
      "source": [
        "# 目录加载器\n",
        "\n",
        "```{=mdx}\n",
        "\n",
        ":::tip 兼容性\n",
        "\n",
        "仅适用于 Node.js。\n",
        "\n",
        ":::\n",
        "\n",
        "```\n",
        "\n",
        "此笔记本提供了有关快速开始使用 `DirectoryLoader` [文档加载器](/docs/concepts/document_loaders) 的快速概述。如需查看 `DirectoryLoader` 所有功能和配置的详细文档，请前往 [API 参考](https://api.js.langchain.com/classes/langchain.document_loaders_fs_directory.DirectoryLoader.html)。\n",
        "\n",
        "本示例介绍如何从包含多个文件的文件夹加载数据。第二个参数是文件扩展名到加载器工厂的映射。每个文件都会被传递给匹配的加载器，生成的文档将被合并在一起。\n",
        "\n",
        "示例文件夹：\n",
        "\n",
        "```text\n",
        "src/document_loaders/example_data/example/\n",
        "├── example.json\n",
        "├── example.jsonl\n",
        "├── example.txt\n",
        "└── example.csv\n",
        "```\n",
        "\n",
        "## 概览\n",
        "### 集成详情\n",
        "\n",
        "| 类别 | 包名 | 兼容性 | 本地支持 | Python 支持 | \n",
        "| :--- | :--- | :---: | :---: |  :---: |\n",
        "| [DirectoryLoader](https://api.js.langchain.com/classes/langchain.document_loaders_fs_directory.DirectoryLoader.html) | [langchain](https://api.js.langchain.com/modules/langchain.document_loaders_fs_directory.html) | 仅限 Node | ✅ | ✅ |\n",
        "\n",
        "## 准备工作\n",
        "\n",
        "要访问 `DirectoryLoader` 文档加载器，你需要安装 `langchain` 包。\n",
        "\n",
        "### 安装\n",
        "\n",
        "LangChain DirectoryLoader 集成位于 `langchain` 包中：\n",
        "\n",
        "```{=mdx}\n",
        "import IntegrationInstallTooltip from \"@mdx_components/integration_install_tooltip.mdx\";\n",
        "import Npm2Yarn from \"@theme/Npm2Yarn\";\n",
        "\n",
        "<IntegrationInstallTooltip></IntegrationInstallTooltip>\n",
        "\n",
        "<Npm2Yarn>\n",
        "  langchain @langchain/core\n",
        "</Npm2Yarn>\n",
        "\n",
        "```"
      ]
    },
    {
      "cell_type": "markdown",
      "metadata": {},
      "source": [
        "## 实例化\n",
        "\n",
        "现在我们可以实例化我们的模型对象并加载文档："
      ]
    },
    {
      "cell_type": "code",
      "execution_count": 1,
      "metadata": {},
      "outputs": [],
      "source": [
        "import { DirectoryLoader } from \"langchain/document_loaders/fs/directory\";\n",
        "import {\n",
        "  JSONLoader,\n",
        "  JSONLinesLoader,\n",
        "} from \"langchain/document_loaders/fs/json\";\n",
        "import { TextLoader } from \"langchain/document_loaders/fs/text\";\n",
        "import { CSVLoader } from \"@langchain/community/document_loaders/fs/csv\";\n",
        "\n",
        "const loader = new DirectoryLoader(\n",
        "  \"../../../../../../examples/src/document_loaders/example_data\",\n",
        "  {\n",
        "    \".json\": (path) => new JSONLoader(path, \"/texts\"),\n",
        "    \".jsonl\": (path) => new JSONLinesLoader(path, \"/html\"),\n",
        "    \".txt\": (path) => new TextLoader(path),\n",
        "    \".csv\": (path) => new CSVLoader(path, \"text\"),\n",
        "  }\n",
        ");"
      ]
    },
    {
      "cell_type": "markdown",
      "metadata": {},
      "source": [
        "## 加载"
      ]
    },
    {
      "cell_type": "code",
      "execution_count": 2,
      "metadata": {},
      "outputs": [
        {
          "name": "stdout",
          "output_type": "stream",
          "text": [
            "Document {\n",
            "  pageContent: 'Foo\\nBar\\nBaz\\n\\n',\n",
            "  metadata: {\n",
            "    source: '/Users/bracesproul/code/lang-chain-ai/langchainjs/examples/src/document_loaders/example_data/example.txt'\n",
            "  },\n",
            "  id: undefined\n",
            "}\n"
          ]
        }
      ],
      "source": [
        "const docs = await loader.load()\n",
        "// disable console.warn calls\n",
        "console.warn = () => {}\n",
        "docs[0]"
      ]
    },
    {
      "cell_type": "code",
      "execution_count": 7,
      "metadata": {},
      "outputs": [
        {
          "name": "stdout",
          "output_type": "stream",
          "text": [
            "{\n",
            "  source: '/Users/bracesproul/code/lang-chain-ai/langchainjs/examples/src/document_loaders/example_data/example.txt'\n",
            "}\n"
          ]
        }
      ],
      "source": [
        "console.log(docs[0].metadata)"
      ]
    },
    {
      "cell_type": "markdown",
      "metadata": {},
      "source": [
        "## API 参考文档\n",
        "\n",
        "有关所有 DirectoryLoader 功能和配置的详细文档，请访问 API 参考页面: https://api.js.langchain.com/classes/langchain.document_loaders_fs_directory.DirectoryLoader.html"
      ]
    },
    {
      "cell_type": "markdown",
      "metadata": {},
      "source": []
    }
  ],
  "metadata": {
    "kernelspec": {
      "display_name": "TypeScript",
      "language": "typescript",
      "name": "tslab"
    },
    "language_info": {
      "codemirror_mode": {
        "mode": "typescript",
        "name": "javascript",
        "typescript": true
      },
      "file_extension": ".ts",
      "mimetype": "text/typescript",
      "name": "typescript",
      "version": "3.7.2"
    }
  },
  "nbformat": 4,
  "nbformat_minor": 4
}