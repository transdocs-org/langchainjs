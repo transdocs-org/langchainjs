{
  "cells": [
    {
      "cell_type": "raw",
      "metadata": {
        "vscode": {
          "languageId": "raw"
        }
      },
      "source": [
        "---\n",
        "sidebar_label: Unstructured\n",
        "sidebar_class_name: node-only\n",
        "---"
      ]
    },
    {
      "cell_type": "markdown",
      "metadata": {},
      "source": [
        "# 非结构化加载器\n",
        "\n",
        "```{=mdx}\n",
        "\n",
        ":::提示 兼容性\n",
        "\n",
        "仅适用于Node.js。\n",
        "\n",
        ":::\n",
        "\n",
        "```\n",
        "\n",
        "本笔记本提供了快速入门`UnstructuredLoader` [文档加载器](/docs/concepts/document_loaders)的概述。关于所有`UnstructuredLoader`功能和配置的详细文档，请前往[API参考](https://api.js.langchain.com/classes/langchain_community_document_loaders_fs_unstructured.UnstructuredLoader.html)。\n",
        "\n",
        "## 概览\n",
        "### 集成细节\n",
        "\n",
        "| 类 | 包 | 兼容性 | 本地 | [PY支持](https://python.langchain.com/docs/integrations/document_loaders/unstructured_file) | \n",
        "| :--- | :--- | :---: | :---: |  :---: |\n",
        "| [UnstructuredLoader](https://api.js.langchain.com/classes/langchain_community_document_loaders_fs_unstructured.UnstructuredLoader.html) | [@langchain/community](https://api.js.langchain.com/modules/langchain_community_document_loaders_fs_unstructured.html) | 仅限Node | ✅ | ✅ |\n",
        "\n",
        "## 准备\n",
        "\n",
        "要访问`UnstructuredLoader`文档加载器，你需要安装`@langchain/community`集成包，并创建一个Unstructured账户并获取API密钥。\n",
        "\n",
        "### 本地运行\n",
        "\n",
        "你可以使用Docker在本地计算机上运行Unstructured。为此，你需要安装Docker。你可以[在这里](https://docs.docker.com/get-docker/)找到安装Docker的说明。\n",
        "\n",
        "```bash\n",
        "docker run -p 8000:8000 -d --rm --name unstructured-api downloads.unstructured.io/unstructured-io/unstructured-api:latest --port 8000 --host 0.0.0.0\n",
        "```\n",
        "\n",
        "### 凭证\n",
        "\n",
        "前往[unstructured.io](https://unstructured.io/api-key-hosted)注册Unstructured并生成API密钥。完成此操作后，请设置`UNSTRUCTURED_API_KEY`环境变量：\n",
        "\n",
        "```bash\n",
        "export UNSTRUCTURED_API_KEY=\"your-api-key\"\n",
        "```\n",
        "\n",
        "### 安装\n",
        "\n",
        "LangChain的UnstructuredLoader集成位于`@langchain/community`包中：\n",
        "\n",
        "```{=mdx}\n",
        "import IntegrationInstallTooltip from \"@mdx_components/integration_install_tooltip.mdx\";\n",
        "import Npm2Yarn from \"@theme/Npm2Yarn\";\n",
        "\n",
        "<IntegrationInstallTooltip></IntegrationInstallTooltip>\n",
        "\n",
        "<Npm2Yarn>\n",
        "  @langchain/community @langchain/core\n",
        "</Npm2Yarn>\n",
        "\n",
        "```"
      ]
    },
    {
      "cell_type": "markdown",
      "metadata": {},
      "source": [
        "## 实例化\n",
        "\n",
        "现在我们可以实例化我们的模型对象并加载文档："
      ]
    },
    {
      "cell_type": "code",
      "execution_count": 1,
      "metadata": {},
      "outputs": [],
      "source": [
        "import { UnstructuredLoader } from \"@langchain/community/document_loaders/fs/unstructured\"\n",
        "\n",
        "const loader = new UnstructuredLoader(\"../../../../../../examples/src/document_loaders/example_data/notion.md\")"
      ]
    },
    {
      "cell_type": "markdown",
      "metadata": {},
      "source": [
        "## 加载"
      ]
    },
    {
      "cell_type": "code",
      "execution_count": 2,
      "metadata": {},
      "outputs": [
        {
          "name": "stdout",
          "output_type": "stream",
          "text": [
            "Document {\n",
            "  pageContent: '# Testing the notion markdownloader',\n",
            "  metadata: {\n",
            "    filename: 'notion.md',\n",
            "    languages: [ 'eng' ],\n",
            "    filetype: 'text/plain',\n",
            "    category: 'NarrativeText'\n",
            "  },\n",
            "  id: undefined\n",
            "}\n"
          ]
        }
      ],
      "source": [
        "const docs = await loader.load()\n",
        "docs[0]"
      ]
    },
    {
      "cell_type": "code",
      "execution_count": 3,
      "metadata": {},
      "outputs": [
        {
          "name": "stdout",
          "output_type": "stream",
          "text": [
            "{\n",
            "  filename: 'notion.md',\n",
            "  languages: [ 'eng' ],\n",
            "  filetype: 'text/plain',\n",
            "  category: 'NarrativeText'\n",
            "}\n"
          ]
        }
      ],
      "source": [
        "console.log(docs[0].metadata)"
      ]
    },
    {
      "cell_type": "markdown",
      "metadata": {},
      "source": [
        "## 目录\n",
        "\n",
        "你还可以使用 [`UnstructuredDirectoryLoader`](https://api.js.langchain.com/classes/langchain.document_loaders_fs_unstructured.UnstructuredDirectoryLoader.html) 来加载目录中的所有文件，它继承自 [`DirectoryLoader`](/docs/integrations/document_loaders/file_loaders/directory)：\n"
      ]
    },
    {
      "cell_type": "code",
      "execution_count": 5,
      "metadata": {},
      "outputs": [
        {
          "name": "stderr",
          "output_type": "stream",
          "text": [
            "Unknown file type: Star_Wars_The_Clone_Wars_S06E07_Crisis_at_the_Heart.srt\n",
            "Unknown file type: test.mp3\n"
          ]
        },
        {
          "name": "stdout",
          "output_type": "stream",
          "text": [
            "directoryDocs.length:  247\n",
            "Document {\n",
            "  pageContent: 'Bitcoin: A Peer-to-Peer Electronic Cash System',\n",
            "  metadata: {\n",
            "    filetype: 'application/pdf',\n",
            "    languages: [ 'eng' ],\n",
            "    page_number: 1,\n",
            "    filename: 'bitcoin.pdf',\n",
            "    category: 'Title'\n",
            "  },\n",
            "  id: undefined\n",
            "}\n"
          ]
        }
      ],
      "source": [
        "import { UnstructuredDirectoryLoader } from \"@langchain/community/document_loaders/fs/unstructured\";\n",
        "\n",
        "const directoryLoader = new UnstructuredDirectoryLoader(\n",
        "  \"../../../../../../examples/src/document_loaders/example_data/\",\n",
        "  {}\n",
        ");\n",
        "const directoryDocs = await directoryLoader.load();\n",
        "console.log(\"directoryDocs.length: \", directoryDocs.length);\n",
        "console.log(directoryDocs[0])\n"
      ]
    },
    {
      "cell_type": "markdown",
      "metadata": {},
      "source": [
        "## API 参考文档\n",
        "\n",
        "如需详细了解所有 UnstructuredLoader 的功能和配置，请访问 API 参考文档：https://api.js.langchain.com/classes/langchain_community_document_loaders_fs_unstructured.UnstructuredLoader.html"
      ]
    },
    {
      "cell_type": "markdown",
      "metadata": {},
      "source": []
    }
  ],
  "metadata": {
    "kernelspec": {
      "display_name": "TypeScript",
      "language": "typescript",
      "name": "tslab"
    },
    "language_info": {
      "codemirror_mode": {
        "mode": "typescript",
        "name": "javascript",
        "typescript": true
      },
      "file_extension": ".ts",
      "mimetype": "text/typescript",
      "name": "typescript",
      "version": "3.7.2"
    }
  },
  "nbformat": 4,
  "nbformat_minor": 4
}