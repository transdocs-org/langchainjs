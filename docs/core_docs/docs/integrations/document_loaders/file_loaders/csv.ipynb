{
  "cells": [
    {
      "cell_type": "raw",
      "metadata": {
        "vscode": {
          "languageId": "raw"
        }
      },
      "source": [
        "---\n",
        "sidebar_label: CSV\n",
        "sidebar_class_name: node-only\n",
        "---"
      ]
    },
    {
      "cell_type": "markdown",
      "metadata": {},
      "source": [
        "# CSVLoader\n",
        "\n",
        "```{=mdx}\n",
        "\n",
        ":::tip 兼容性\n",
        "\n",
        "仅适用于Node.js。\n",
        "\n",
        ":::\n",
        "\n",
        "```\n",
        "\n",
        "本notebook提供了`CSVLoader` [文档加载器](/docs/concepts/document_loaders)的快速入门概览。如需查看`CSVLoader`所有功能和配置的详细文档，请访问[API参考文档](https://api.js.langchain.com/classes/langchain_community_document_loaders_fs_csv.CSVLoader.html)。\n",
        "\n",
        "本示例介绍了如何从CSV文件加载数据。第二个参数是用于从CSV文件中提取的`column`列名。CSV文件中的每一行都会创建一个文档。当未指定`column`时，每一行都会被转换为键/值对，并将每个键/值对输出到文档的`pageContent`中的新行。当指定了`column`时，每一行都会创建一个文档，并将指定列的值用作文档的`pageContent`。\n",
        "\n",
        "## 概述\n",
        "### 集成详情\n",
        "\n",
        "| 类名 | 包 | 兼容性 | 本地支持 | [PY支持](https://python.langchain.com/docs/integrations/document_loaders/csv)| \n",
        "| :--- | :--- | :---: | :---: |  :---: |\n",
        "| [CSVLoader](https://api.js.langchain.com/classes/langchain_community_document_loaders_fs_csv.CSVLoader.html) | [@langchain/community](https://api.js.langchain.com/modules/langchain_community_document_loaders_fs_csv.html) | 仅支持Node | ✅ | ✅ |\n",
        "\n",
        "## 准备\n",
        "\n",
        "要使用`CSVLoader`文档加载器，您需要安装`@langchain/community`集成包，以及`d3-dsv@2`的peer dependency。\n",
        "\n",
        "### 安装\n",
        "\n",
        "LangChain的CSVLoader集成位于`@langchain/community`集成包中。\n",
        "\n",
        "```{=mdx}\n",
        "import IntegrationInstallTooltip from \"@mdx_components/integration_install_tooltip.mdx\";\n",
        "import Npm2Yarn from \"@theme/Npm2Yarn\";\n",
        "\n",
        "<IntegrationInstallTooltip></IntegrationInstallTooltip>\n",
        "\n",
        "<Npm2Yarn>\n",
        "  @langchain/community @langchain/core d3-dsv@2\n",
        "</Npm2Yarn>\n",
        "\n",
        "```"
      ]
    },
    {
      "cell_type": "markdown",
      "metadata": {},
      "source": [
        "## 实例化\n",
        "\n",
        "现在我们可以实例化我们的模型对象并加载文档："
      ]
    },
    {
      "cell_type": "code",
      "execution_count": 8,
      "metadata": {},
      "outputs": [],
      "source": [
        "import { CSVLoader } from \"@langchain/community/document_loaders/fs/csv\"\n",
        "\n",
        "const exampleCsvPath = \"../../../../../../langchain/src/document_loaders/tests/example_data/example_separator.csv\";\n",
        "\n",
        "const loader = new CSVLoader(exampleCsvPath)"
      ]
    },
    {
      "cell_type": "markdown",
      "metadata": {},
      "source": [
        "## 加载"
      ]
    },
    {
      "cell_type": "code",
      "execution_count": 6,
      "metadata": {},
      "outputs": [
        {
          "name": "stdout",
          "output_type": "stream",
          "text": [
            "Document {\n",
            "  pageContent: 'id｜html: 1｜\"<i>Corruption discovered at the core of the Banking Clan!</i>\"',\n",
            "  metadata: {\n",
            "    source: '../../../../../../langchain/src/document_loaders/tests/example_data/example_separator.csv',\n",
            "    line: 1\n",
            "  },\n",
            "  id: undefined\n",
            "}\n"
          ]
        }
      ],
      "source": [
        "const docs = await loader.load()\n",
        "docs[0]"
      ]
    },
    {
      "cell_type": "code",
      "execution_count": 7,
      "metadata": {},
      "outputs": [
        {
          "name": "stdout",
          "output_type": "stream",
          "text": [
            "{\n",
            "  source: '../../../../../../langchain/src/document_loaders/tests/example_data/example_separator.csv',\n",
            "  line: 1\n",
            "}\n"
          ]
        }
      ],
      "source": [
        "console.log(docs[0].metadata)"
      ]
    },
    {
      "cell_type": "markdown",
      "metadata": {},
      "source": [
        "## 用法，提取单个列\n",
        "\n",
        "示例CSV文件：\n",
        "\n",
        "```csv\n",
        "id｜html\n",
        "1｜\"<i>银行业集团核心发现腐败！</i>\"\n",
        "2｜\"<i>鲁什·克洛维斯与阿米达拉参议员重聚</i>\"\n",
        "3｜\"<i>发现欺骗的全部程度。</i>\"\n",
        "4｜\"<i>阿纳金·天行者前去营救！</i>\"\n",
        "```"
      ]
    },
    {
      "cell_type": "code",
      "execution_count": 14,
      "metadata": {},
      "outputs": [
        {
          "name": "stdout",
          "output_type": "stream",
          "text": [
            "Document {\n",
            "  pageContent: '<i>Corruption discovered at the core of the Banking Clan!</i>',\n",
            "  metadata: {\n",
            "    source: '../../../../../../langchain/src/document_loaders/tests/example_data/example_separator.csv',\n",
            "    line: 1\n",
            "  },\n",
            "  id: undefined\n",
            "}\n"
          ]
        }
      ],
      "source": [
        "import { CSVLoader } from \"@langchain/community/document_loaders/fs/csv\";\n",
        "\n",
        "const singleColumnLoader = new CSVLoader(\n",
        "  exampleCsvPath,\n",
        "  {\n",
        "    column: \"html\",\n",
        "    separator:\"｜\"\n",
        "  }\n",
        ");\n",
        "\n",
        "const singleColumnDocs = await singleColumnLoader.load();\n",
        "console.log(singleColumnDocs[0]);"
      ]
    },
    {
      "cell_type": "markdown",
      "metadata": {},
      "source": [
        "## API 参考\n",
        "\n",
        "有关所有 CSVLoader 特性和配置的详细文档，请访问 API 参考：https://api.js.langchain.com/classes/langchain_community_document_loaders_fs_csv.CSVLoader.html"
      ]
    },
    {
      "cell_type": "markdown",
      "metadata": {},
      "source": []
    }
  ],
  "metadata": {
    "kernelspec": {
      "display_name": "TypeScript",
      "language": "typescript",
      "name": "tslab"
    },
    "language_info": {
      "codemirror_mode": {
        "mode": "typescript",
        "name": "javascript",
        "typescript": true
      },
      "file_extension": ".ts",
      "mimetype": "text/typescript",
      "name": "typescript",
      "version": "3.7.2"
    }
  },
  "nbformat": 4,
  "nbformat_minor": 4
}