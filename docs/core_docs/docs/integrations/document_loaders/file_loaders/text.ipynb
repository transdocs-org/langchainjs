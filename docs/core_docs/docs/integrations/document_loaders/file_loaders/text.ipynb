{
  "cells": [
    {
      "cell_type": "raw",
      "metadata": {},
      "source": [
        "---\n",
        "sidebar_label: TextLoader\n",
        "sidebar_class_name: node-only\n",
        "---"
      ]
    },
    {
      "cell_type": "markdown",
      "metadata": {},
      "source": [
        "# 文本加载器\n",
        "\n",
        "```{=mdx}\n",
        "\n",
        ":::tip 兼容性\n",
        "\n",
        "仅适用于 Node.js。\n",
        "\n",
        ":::\n",
        "\n",
        "```\n",
        "\n",
        "本笔记本提供了关于如何快速入门使用 `TextLoader` [文档加载器](/docs/concepts/document_loaders) 的概览。如需查看所有 `TextLoader` 功能和配置的详细文档，请前往 [API 参考](https://api.js.langchain.com/classes/langchain.document_loaders_fs_text.TextLoader.html)。\n",
        "\n",
        "## 概览\n",
        "### 集成详情\n",
        "\n",
        "| 类 | 包 | 兼容性 | 本地支持 | Python 支持 | \n",
        "| :--- | :--- | :---: | :---: |  :---: |\n",
        "| [TextLoader](https://api.js.langchain.com/classes/langchain.document_loaders_fs_text.TextLoader.html) | [langchain](https://api.js.langchain.com/modules/langchain.document_loaders_fs_text.html) | 仅支持 Node | ✅ | ❌ |\n",
        "\n",
        "## 准备\n",
        "\n",
        "要使用 `TextLoader` 文档加载器，您需要先安装 `langchain` 包。\n",
        "\n",
        "### 安装\n",
        "\n",
        "LangChain TextLoader 集成位于 `langchain` 包中：\n",
        "\n",
        "```{=mdx}\n",
        "import IntegrationInstallTooltip from \"@mdx_components/integration_install_tooltip.mdx\";\n",
        "import Npm2Yarn from \"@theme/Npm2Yarn\";\n",
        "\n",
        "<IntegrationInstallTooltip></IntegrationInstallTooltip>\n",
        "\n",
        "<Npm2Yarn>\n",
        "  langchain\n",
        "</Npm2Yarn>\n",
        "\n",
        "```"
      ]
    },
    {
      "cell_type": "markdown",
      "metadata": {},
      "source": [
        "## 实例化\n",
        "\n",
        "现在我们可以实例化我们的模型对象并加载文档："
      ]
    },
    {
      "cell_type": "code",
      "execution_count": 4,
      "metadata": {},
      "outputs": [],
      "source": [
        "import { TextLoader } from \"langchain/document_loaders/fs/text\"\n",
        "\n",
        "const loader = new TextLoader(\"../../../../../../examples/src/document_loaders/example_data/example.txt\")"
      ]
    },
    {
      "cell_type": "markdown",
      "metadata": {},
      "source": [
        "## 加载"
      ]
    },
    {
      "cell_type": "code",
      "execution_count": 5,
      "metadata": {},
      "outputs": [
        {
          "name": "stdout",
          "output_type": "stream",
          "text": [
            "Document {\n",
            "  pageContent: 'Foo\\nBar\\nBaz\\n\\n',\n",
            "  metadata: {\n",
            "    source: '../../../../../../examples/src/document_loaders/example_data/example.txt'\n",
            "  },\n",
            "  id: undefined\n",
            "}\n"
          ]
        }
      ],
      "source": [
        "const docs = await loader.load()\n",
        "docs[0]"
      ]
    },
    {
      "cell_type": "code",
      "execution_count": 6,
      "metadata": {},
      "outputs": [
        {
          "name": "stdout",
          "output_type": "stream",
          "text": [
            "{\n",
            "  source: '../../../../../../examples/src/document_loaders/example_data/example.txt'\n",
            "}\n"
          ]
        }
      ],
      "source": [
        "console.log(docs[0].metadata)"
      ]
    },
    {
      "cell_type": "markdown",
      "metadata": {},
      "source": [
        "## API 参考文档\n",
        "\n",
        "有关 TextLoader 所有功能和配置的详细文档，请访问 API 参考页面: https://api.js.langchain.com/classes/langchain.document_loaders_fs_text.TextLoader.html"
      ]
    },
    {
      "cell_type": "markdown",
      "metadata": {},
      "source": []
    }
  ],
  "metadata": {
    "kernelspec": {
      "display_name": "TypeScript",
      "language": "typescript",
      "name": "tslab"
    },
    "language_info": {
      "codemirror_mode": {
        "mode": "typescript",
        "name": "javascript",
        "typescript": true
      },
      "file_extension": ".ts",
      "mimetype": "text/typescript",
      "name": "typescript",
      "version": "3.7.2"
    }
  },
  "nbformat": 4,
  "nbformat_minor": 4
}