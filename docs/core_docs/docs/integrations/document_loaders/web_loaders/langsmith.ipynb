{
  "cells": [
    {
      "cell_type": "markdown",
      "metadata": {},
      "source": [
        "---\n",
        "sidebar_label: LangSmith\n",
        "---"
      ]
    },
    {
      "cell_type": "markdown",
      "metadata": {},
      "source": [
        "# LangSmithLoader\n",
        "\n",
        "本笔记本提供了与 [LangSmithLoader](/docs/integrations/document_loaders/) 快速入门的概览。如需了解所有 `LangSmithLoader` 功能和配置的详细文档，请前往 [API 参考](https://api.js.langchain.com/classes/_langchain_core.document_loaders_langsmith.LangSmithLoader.html)。\n",
        "\n",
        "## 概览\n",
        "### 集成详情\n",
        "\n",
        "| 类别 | 包 | 本地 | 可序列化 | [Python 支持](https://python.langchain.com/docs/integrations/document_loaders/langsmith)|\n",
        "| :--- | :--- | :---: | :---: |  :---: |\n",
        "| [LangSmithLoader](https://api.js.langchain.com/classes/_langchain_core.document_loaders_langsmith.LangSmithLoader.html) | [@langchain/community](https://api.js.langchain.com/classes/_langchain_core.html) | ✅ | beta | ✅ | \n",
        "### 加载器功能\n",
        "| 来源 | 网络加载器 | 仅限 Node 环境\n",
        "| :---: | :---: | :---: | \n",
        "| LangSmithLoader | ✅ | ❌ | \n",
        "\n",
        "## 准备工作\n",
        "\n",
        "要访问 LangSmith 文档加载器，您需要安装 `@langchain/core`、创建一个 [LangSmith](https://langsmith.com/) 账户并获取 API 密钥。\n",
        "\n",
        "### 凭证信息\n",
        "\n",
        "请在 https://langsmith.com 注册账户并生成 API 密钥。完成此操作后，请设置 `LANGSMITH_API_KEY` 环境变量：\n",
        "\n",
        "```bash\n",
        "export LANGSMITH_API_KEY=\"your-api-key\"\n",
        "```\n",
        "\n",
        "### 安装\n",
        "\n",
        "`LangSmithLoader` 集成位于 `@langchain/core` 包中：\n",
        "\n",
        "```{=mdx}\n",
        "import IntegrationInstallTooltip from \"@mdx_components/integration_install_tooltip.mdx\";\n",
        "import Npm2Yarn from \"@theme/Npm2Yarn\";\n",
        "\n",
        "<IntegrationInstallTooltip></IntegrationInstallTooltip>\n",
        "\n",
        "<Npm2Yarn>\n",
        "  @langchain/core\n",
        "</Npm2Yarn>\n",
        "\n",
        "```"
      ]
    },
    {
      "cell_type": "markdown",
      "metadata": {},
      "source": [
        "## 创建示例数据集\n",
        "\n",
        "在这个示例中，我们将创建一个新的数据集，并在我们的文档加载器中使用它。"
      ]
    },
    {
      "cell_type": "code",
      "execution_count": 5,
      "metadata": {},
      "outputs": [],
      "source": [
        "import { Client as LangSmithClient } from 'langsmith';\n",
        "import { faker } from \"@faker-js/faker\";\n",
        "\n",
        "const lsClient = new LangSmithClient();\n",
        "\n",
        "const datasetName = \"LangSmith Few Shot Datasets Notebook\";\n",
        "\n",
        "const exampleInputs = Array.from({ length: 10 }, (_, i) => ({\n",
        "  input: faker.lorem.paragraph(),\n",
        "}));\n",
        "const exampleOutputs = Array.from({ length: 10 }, (_, i) => ({\n",
        "  output: faker.lorem.sentence(),\n",
        "}));\n",
        "const exampleMetadata = Array.from({ length: 10 }, (_, i) => ({\n",
        "  companyCatchPhrase: faker.company.catchPhrase(),\n",
        "}));\n",
        "\n",
        "await lsClient.deleteDataset({\n",
        "  datasetName,\n",
        "})\n",
        "\n",
        "const dataset = await lsClient.createDataset(datasetName);\n",
        "\n",
        "const examples = await lsClient.createExamples({\n",
        "  inputs: exampleInputs,\n",
        "  outputs: exampleOutputs,\n",
        "  metadata: exampleMetadata,\n",
        "  datasetId: dataset.id,\n",
        "});"
      ]
    },
    {
      "cell_type": "code",
      "execution_count": 7,
      "metadata": {},
      "outputs": [],
      "source": [
        "import { LangSmithLoader } from \"@langchain/core/document_loaders/langsmith\"\n",
        "\n",
        "const loader = new LangSmithLoader({\n",
        "  datasetName: \"LangSmith Few Shot Datasets Notebook\",\n",
        "  // Instead of a datasetName, you can alternatively provide a datasetId\n",
        "  // datasetId: dataset.id,\n",
        "  contentKey: \"input\",\n",
        "  limit: 5,\n",
        "  // formatContent: (content) => content,\n",
        "  // ... other options\n",
        "})"
      ]
    },
    {
      "cell_type": "markdown",
      "metadata": {},
      "source": [
        "## 加载"
      ]
    },
    {
      "cell_type": "code",
      "execution_count": 8,
      "metadata": {},
      "outputs": [
        {
          "name": "stdout",
          "output_type": "stream",
          "text": [
            "{\n",
            "  pageContent: 'Conventus supellex aegrotatio termes. Vapulus abscido ubi vita coadunatio modi crapula comparo caecus. Acervus voluptate tergeo pariatur conor argumentum inventore vomito stella.',\n",
            "  metadata: {\n",
            "    id: 'f1a04800-6f7a-4232-9743-fb5d9029bf1f',\n",
            "    created_at: '2024-08-20T17:01:38.984045+00:00',\n",
            "    modified_at: '2024-08-20T17:01:38.984045+00:00',\n",
            "    name: '#f1a0 @ LangSmith Few Shot Datasets Notebook',\n",
            "    dataset_id: '9ccd66e6-e506-478c-9095-3d9e27575a89',\n",
            "    source_run_id: null,\n",
            "    metadata: {\n",
            "      dataset_split: [Array],\n",
            "      companyCatchPhrase: 'Integrated solution-oriented secured line'\n",
            "    },\n",
            "    inputs: {\n",
            "      input: 'Conventus supellex aegrotatio termes. Vapulus abscido ubi vita coadunatio modi crapula comparo caecus. Acervus voluptate tergeo pariatur conor argumentum inventore vomito stella.'\n",
            "    },\n",
            "    outputs: {\n",
            "      output: 'Excepturi adeptio spectaculum bis volaticus accusamus.'\n",
            "    }\n",
            "  }\n",
            "}\n"
          ]
        }
      ],
      "source": [
        "const docs = await loader.load()\n",
        "docs[0]"
      ]
    },
    {
      "cell_type": "code",
      "execution_count": 9,
      "metadata": {},
      "outputs": [
        {
          "name": "stdout",
          "output_type": "stream",
          "text": [
            "{\n",
            "  id: 'f1a04800-6f7a-4232-9743-fb5d9029bf1f',\n",
            "  created_at: '2024-08-20T17:01:38.984045+00:00',\n",
            "  modified_at: '2024-08-20T17:01:38.984045+00:00',\n",
            "  name: '#f1a0 @ LangSmith Few Shot Datasets Notebook',\n",
            "  dataset_id: '9ccd66e6-e506-478c-9095-3d9e27575a89',\n",
            "  source_run_id: null,\n",
            "  metadata: {\n",
            "    dataset_split: [ 'base' ],\n",
            "    companyCatchPhrase: 'Integrated solution-oriented secured line'\n",
            "  },\n",
            "  inputs: {\n",
            "    input: 'Conventus supellex aegrotatio termes. Vapulus abscido ubi vita coadunatio modi crapula comparo caecus. Acervus voluptate tergeo pariatur conor argumentum inventore vomito stella.'\n",
            "  },\n",
            "  outputs: { output: 'Excepturi adeptio spectaculum bis volaticus accusamus.' }\n",
            "}\n"
          ]
        }
      ],
      "source": [
        "console.log(docs[0].metadata)"
      ]
    },
    {
      "cell_type": "code",
      "execution_count": 10,
      "metadata": {},
      "outputs": [
        {
          "name": "stdout",
          "output_type": "stream",
          "text": [
            "{\n",
            "  input: 'Conventus supellex aegrotatio termes. Vapulus abscido ubi vita coadunatio modi crapula comparo caecus. Acervus voluptate tergeo pariatur conor argumentum inventore vomito stella.'\n",
            "}\n"
          ]
        }
      ],
      "source": [
        "console.log(docs[0].metadata.inputs)"
      ]
    },
    {
      "cell_type": "code",
      "execution_count": 11,
      "metadata": {},
      "outputs": [
        {
          "name": "stdout",
          "output_type": "stream",
          "text": [
            "{ output: 'Excepturi adeptio spectaculum bis volaticus accusamus.' }\n"
          ]
        }
      ],
      "source": [
        "console.log(docs[0].metadata.outputs)"
      ]
    },
    {
      "cell_type": "code",
      "execution_count": 12,
      "metadata": {},
      "outputs": [
        {
          "name": "stdout",
          "output_type": "stream",
          "text": [
            "[\n",
            "  'id',\n",
            "  'created_at',\n",
            "  'modified_at',\n",
            "  'name',\n",
            "  'dataset_id',\n",
            "  'source_run_id',\n",
            "  'metadata',\n",
            "  'inputs',\n",
            "  'outputs'\n",
            "]\n"
          ]
        }
      ],
      "source": [
        "console.log(Object.keys(docs[0].metadata))"
      ]
    },
    {
      "cell_type": "markdown",
      "metadata": {},
      "source": [
        "## API 参考\n",
        "\n",
        "如需详细了解所有 `LangSmithLoader` 的功能和配置，请访问 [API 参考](https://api.js.langchain.com/classes/_langchain_core.document_loaders_langsmith.LangSmithLoader.html)"
      ]
    }
  ],
  "metadata": {
    "kernelspec": {
      "display_name": "TypeScript",
      "language": "typescript",
      "name": "tslab"
    },
    "language_info": {
      "codemirror_mode": {
        "mode": "typescript",
        "name": "javascript",
        "typescript": true
      },
      "file_extension": ".ts",
      "mimetype": "text/typescript",
      "name": "typescript",
      "version": "3.7.2"
    }
  },
  "nbformat": 4,
  "nbformat_minor": 4
}