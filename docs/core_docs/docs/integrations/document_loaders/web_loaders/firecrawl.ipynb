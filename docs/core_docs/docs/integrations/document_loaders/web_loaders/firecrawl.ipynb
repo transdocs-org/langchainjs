{
  "cells": [
    {
      "cell_type": "markdown",
      "metadata": {},
      "source": [
        "---\n",
        "sidebar_label: FireCrawl\n",
        "\n",
        "---"
      ]
    },
    {
      "cell_type": "markdown",
      "metadata": {},
      "source": [
        "# FireCrawlLoader\n",
        "\n",
        "本笔记本简要介绍了如何快速开始使用 [FireCrawlLoader](/docs/integrations/document_loaders/)。如需了解 FireCrawlLoader 所有功能和配置的详细文档，请前往 [API 参考](https://api.js.langchain.com/classes/langchain_community_document_loaders_web_firecrawl.FireCrawlLoader.html)。\n",
        "\n",
        "## 概览\n",
        "### 集成详情\n",
        "\n",
        "| 类 | 包 | 本地支持 | 可序列化 | [Python 支持](https://python.langchain.com/docs/integrations/document_loaders/firecrawl)|\n",
        "| :--- | :--- | :---: | :---: |  :---: |\n",
        "| [FireCrawlLoader](https://api.js.langchain.com/classes/langchain_community_document_loaders_web_firecrawl.FireCrawlLoader.html) | [@langchain/community](https://api.js.langchain.com/modules/langchain_community_document_loaders_web_firecrawl.html) | 🟠（详见下文） | beta | ✅ | \n",
        "### 加载器特性\n",
        "| 来源 | 网络加载器 | 仅限 Node 环境\n",
        "| :---: | :---: | :---: | \n",
        "| FireCrawlLoader | ✅ | ❌ | \n",
        "\n",
        "[FireCrawl](https://firecrawl.dev) 可以爬取并将任何网站转换为适用于 LLM 的数据。它会爬取所有可访问的子页面，并为每个页面提供干净的 Markdown 和元数据。无需站点地图。\n",
        "\n",
        "FireCrawl 能够处理诸如反向代理、缓存、速率限制以及 JavaScript 阻挡的内容等复杂任务。由 [mendable.ai](https://mendable.ai) 团队开发。\n",
        "\n",
        "本指南展示了如何抓取整个网站并使用 LangChain 中的 `FireCrawlLoader` 加载它们。\n",
        "\n",
        "## 准备工作\n",
        "\n",
        "要使用 `FireCrawlLoader` 文档加载器，你需要安装 `@langchain/community` 集成和 `@mendable/firecrawl-js@0.0.36` 包。然后创建一个 **[FireCrawl](https://firecrawl.dev)** 账号并获取 API 密钥。\n",
        "\n",
        "### 凭证信息\n",
        "\n",
        "注册并获取你的免费 [FireCrawl API 密钥](https://firecrawl.dev)。FireCrawl 提供了 300 个免费积分供你开始使用，如果你想自建，它也是 [开源的](https://github.com/mendableai/firecrawl)。\n",
        "\n",
        "完成注册后，请设置 `FIRECRAWL_API_KEY` 环境变量：\n",
        "\n",
        "```bash\n",
        "export FIRECRAWL_API_KEY=\"your-api-key\"\n",
        "```\n",
        "\n",
        "如果你想获得模型调用的自动追踪，也可以取消下面代码的注释并设置你的 [LangSmith](https://docs.smith.langchain.com/) API 密钥：\n",
        "\n",
        "```bash\n",
        "# export LANGSMITH_TRACING=\"true\"\n",
        "# export LANGSMITH_API_KEY=\"your-api-key\"\n",
        "```\n",
        "\n",
        "### 安装\n",
        "\n",
        "LangChain 的 FireCrawlLoader 集成位于 `@langchain/community` 包中：\n",
        "\n",
        "```{=mdx}\n",
        "import IntegrationInstallTooltip from \"@mdx_components/integration_install_tooltip.mdx\";\n",
        "import Npm2Yarn from \"@theme/Npm2Yarn\";\n",
        "\n",
        "<IntegrationInstallTooltip></IntegrationInstallTooltip>\n",
        "\n",
        "<Npm2Yarn>\n",
        "  @langchain/community @langchain/core @mendable/firecrawl-js@0.0.36\n",
        "</Npm2Yarn>\n",
        "\n",
        "```"
      ]
    },
    {
      "cell_type": "markdown",
      "metadata": {},
      "source": [
        "## 实例化\n",
        "\n",
        "以下是如何使用 `FireCrawlLoader` 加载网页搜索结果的示例：\n",
        "\n",
        "Firecrawl 提供 3 种模式：`scrape`、`crawl` 和 `map`。在 `scrape` 模式下，Firecrawl 仅会抓取你提供的页面。在 `crawl` 模式下，Firecrawl 会爬取整个网站。在 `map` 模式下，Firecrawl 将返回与网站相关的语义链接。\n",
        "\n",
        "参数 `formats`（`crawl` 模式下为 `scrapeOptions.formats`）允许从 `\"markdown\"`、`\"html\"` 或 `\"rawHtml\"` 中进行选择。不过，加载的文档将仅以一种格式返回内容，优先级如下：`markdown`、然后是 `html`、最后是 `rawHtml`。\n",
        "\n",
        "现在我们可以实例化模型对象并加载文档："
      ]
    },
    {
      "cell_type": "code",
      "execution_count": null,
      "metadata": {},
      "outputs": [],
      "source": [
        "import \"@mendable/firecrawl-js\";\n",
        "import { FireCrawlLoader } from \"@langchain/community/document_loaders/web/firecrawl\"\n",
        "\n",
        "const loader = new FireCrawlLoader({\n",
        "  url: \"https://firecrawl.dev\", // The URL to scrape\n",
        "  apiKey: \"...\", // Optional, defaults to `FIRECRAWL_API_KEY` in your env.\n",
        "  mode: \"scrape\", // The mode to run the crawler in. Can be \"scrape\" for single urls or \"crawl\" for all accessible subpages\n",
        "  params: {\n",
        "    // optional parameters based on Firecrawl API docs\n",
        "    // For API documentation, visit https://docs.firecrawl.dev\n",
        "  },\n",
        "})"
      ]
    },
    {
      "cell_type": "markdown",
      "metadata": {},
      "source": [
        "## 加载"
      ]
    },
    {
      "cell_type": "code",
      "execution_count": 3,
      "metadata": {},
      "outputs": [
        {
          "data": {
            "text/plain": [
              "Document {\n",
              "  pageContent: \u001b[32m\"Introducing [Smart Crawl!](https://www.firecrawl.dev/smart-crawl)\\n\"\u001b[39m +\n",
              "    \u001b[32m\" Join the waitlist to turn any web\"\u001b[39m... 18721 more characters,\n",
              "  metadata: {\n",
              "    title: \u001b[32m\"Home - Firecrawl\"\u001b[39m,\n",
              "    description: \u001b[32m\"Firecrawl crawls and converts any website into clean markdown.\"\u001b[39m,\n",
              "    keywords: \u001b[32m\"Firecrawl,Markdown,Data,Mendable,Langchain\"\u001b[39m,\n",
              "    robots: \u001b[32m\"follow, index\"\u001b[39m,\n",
              "    ogTitle: \u001b[32m\"Firecrawl\"\u001b[39m,\n",
              "    ogDescription: \u001b[32m\"Turn any website into LLM-ready data.\"\u001b[39m,\n",
              "    ogUrl: \u001b[32m\"https://www.firecrawl.dev/\"\u001b[39m,\n",
              "    ogImage: \u001b[32m\"https://www.firecrawl.dev/og.png?123\"\u001b[39m,\n",
              "    ogLocaleAlternate: [],\n",
              "    ogSiteName: \u001b[32m\"Firecrawl\"\u001b[39m,\n",
              "    sourceURL: \u001b[32m\"https://firecrawl.dev\"\u001b[39m,\n",
              "    pageStatusCode: \u001b[33m500\u001b[39m\n",
              "  },\n",
              "  id: \u001b[90mundefined\u001b[39m\n",
              "}"
            ]
          },
          "execution_count": 3,
          "metadata": {},
          "output_type": "execute_result"
        }
      ],
      "source": [
        "const docs = await loader.load()\n",
        "docs[0]"
      ]
    },
    {
      "cell_type": "code",
      "execution_count": 4,
      "metadata": {},
      "outputs": [
        {
          "name": "stdout",
          "output_type": "stream",
          "text": [
            "{\n",
            "  title: \"Home - Firecrawl\",\n",
            "  description: \"Firecrawl crawls and converts any website into clean markdown.\",\n",
            "  keywords: \"Firecrawl,Markdown,Data,Mendable,Langchain\",\n",
            "  robots: \"follow, index\",\n",
            "  ogTitle: \"Firecrawl\",\n",
            "  ogDescription: \"Turn any website into LLM-ready data.\",\n",
            "  ogUrl: \"https://www.firecrawl.dev/\",\n",
            "  ogImage: \"https://www.firecrawl.dev/og.png?123\",\n",
            "  ogLocaleAlternate: [],\n",
            "  ogSiteName: \"Firecrawl\",\n",
            "  sourceURL: \"https://firecrawl.dev\",\n",
            "  pageStatusCode: 500\n",
            "}\n"
          ]
        }
      ],
      "source": [
        "console.log(docs[0].metadata)"
      ]
    },
    {
      "cell_type": "markdown",
      "metadata": {},
      "source": [
        "## 附加参数\n",
        "\n",
        "对于 `params`，您可以根据 [Firecrawl 文档](https://docs.firecrawl.dev) 中的参数进行传递。"
      ]
    },
    {
      "cell_type": "markdown",
      "metadata": {},
      "source": [
        "## API 参考文档\n",
        "\n",
        "如需详细了解 FireCrawlLoader 的所有功能和配置，请访问 API 参考文档：https://api.js.langchain.com/classes/langchain_community_document_loaders_web_firecrawl.FireCrawlLoader.html"
      ]
    }
  ],
  "metadata": {
    "kernelspec": {
      "display_name": "Deno",
      "language": "typescript",
      "name": "deno"
    },
    "language_info": {
      "file_extension": ".ts",
      "mimetype": "text/x.typescript",
      "name": "typescript",
      "nb_converter": "script",
      "pygments_lexer": "typescript",
      "version": "5.3.3"
    }
  },
  "nbformat": 4,
  "nbformat_minor": 4
}