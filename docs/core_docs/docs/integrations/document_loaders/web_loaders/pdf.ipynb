{
  "cells": [
    {
      "cell_type": "markdown",
      "metadata": {},
      "source": [
        "---\n",
        "sidebar_label: PDF文件\n",
        "\n",
        "---"
      ]
    },
    {
      "cell_type": "markdown",
      "metadata": {},
      "source": [
        "# WebPDFLoader\n",
        "\n",
        "本笔记本提供了关于如何快速入门 [WebPDFLoader](/docs/integrations/document_loaders/) 的简要概述。如需查看所有 WebPDFLoader 功能和配置的详细文档，请前往 [API 参考文档](https://api.js.langchain.com/classes/langchain_community_document_loaders_web_pdf.WebPDFLoader.html)。\n",
        "\n",
        "## 概览\n",
        "### 集成详情\n",
        "\n",
        "| 类 | 包 | 本地支持 | 可序列化 | Python 支持 |\n",
        "| :--- | :--- | :---: | :---: |  :---: |\n",
        "| [WebPDFLoader](https://api.js.langchain.com/classes/langchain_community_document_loaders_web_pdf.WebPDFLoader.html) | [@langchain/community](https://api.js.langchain.com/modules/langchain_community_document_loaders_web_pdf.html) | ✅ | beta | ❌ | \n",
        "### 加载器功能\n",
        "| 来源 | 网页加载器 | 仅限 Node 环境 |\n",
        "| :---: | :---: | :---: | \n",
        "| WebPDFLoader | ✅ | ❌ | \n",
        "\n",
        "你可以在网页环境中使用这个流行的 PDFLoader 版本。\n",
        "默认情况下，PDF 文件中的每一页都会创建一个文档，你可以通过将 `splitPages` 选项设置为 `false` 来更改此行为。\n",
        "\n",
        "## 准备\n",
        "\n",
        "要使用 `WebPDFLoader` 文档加载器，你需要安装 `@langchain/community` 集成包以及 `pdf-parse` 包：\n",
        "\n",
        "### 凭据\n",
        "\n",
        "如果你想自动追踪模型调用，也可以取消下面的注释来设置你的 [LangSmith](https://docs.smith.langchain.com/) API 密钥：\n",
        "\n",
        "```bash\n",
        "# export LANGSMITH_TRACING=\"true\"\n",
        "# export LANGSMITH_API_KEY=\"your-api-key\"\n",
        "```\n",
        "\n",
        "### 安装\n",
        "\n",
        "LangChain WebPDFLoader 集成位于 `@langchain/community` 包中：\n",
        "\n",
        "```{=mdx}\n",
        "import IntegrationInstallTooltip from \"@mdx_components/integration_install_tooltip.mdx\";\n",
        "import Npm2Yarn from \"@theme/Npm2Yarn\";\n",
        "\n",
        "<IntegrationInstallTooltip></IntegrationInstallTooltip>\n",
        "\n",
        "<Npm2Yarn>\n",
        "  @langchain/community @langchain/core pdf-parse\n",
        "</Npm2Yarn>\n",
        "\n",
        "```"
      ]
    },
    {
      "cell_type": "markdown",
      "metadata": {},
      "source": [
        "## 实例化\n",
        "\n",
        "现在我们可以实例化我们的模型对象并加载文档："
      ]
    },
    {
      "cell_type": "code",
      "execution_count": 1,
      "metadata": {},
      "outputs": [],
      "source": [
        "import fs from \"fs/promises\";\n",
        "import { WebPDFLoader } from \"@langchain/community/document_loaders/web/pdf\"\n",
        "\n",
        "const nike10kPDFPath = \"../../../../data/nke-10k-2023.pdf\";\n",
        "\n",
        "// Read the file as a buffer\n",
        "const buffer = await fs.readFile(nike10kPDFPath);\n",
        "\n",
        "// Create a Blob from the buffer\n",
        "const nike10kPDFBlob = new Blob([buffer], { type: 'application/pdf' });\n",
        "\n",
        "const loader = new WebPDFLoader(nike10kPDFBlob, {\n",
        "  // required params = ...\n",
        "  // optional params = ...\n",
        "})"
      ]
    },
    {
      "cell_type": "markdown",
      "metadata": {},
      "source": [
        "## 加载"
      ]
    },
    {
      "cell_type": "code",
      "execution_count": 2,
      "metadata": {},
      "outputs": [
        {
          "name": "stdout",
          "output_type": "stream",
          "text": [
            "Document {\n",
            "  pageContent: 'Table of Contents\\n' +\n",
            "    'UNITED STATES\\n' +\n",
            "    'SECURITIES AND EXCHANGE COMMISSION\\n' +\n",
            "    'Washington, D.C. 20549\\n' +\n",
            "    'FORM 10-K\\n' +\n",
            "    '(Mark One)\\n' +\n",
            "    '☑ ANNUAL REPORT PURSUANT TO SECTION 13 OR 15(D) OF THE SECURITIES EXCHANGE ACT OF 1934\\n' +\n",
            "    'FOR THE FISCAL YEAR ENDED MAY 31, 2023\\n' +\n",
            "    'OR\\n' +\n",
            "    '☐ TRANSITION REPORT PURSUANT TO SECTION 13 OR 15(D) OF THE SECURITIES EXCHANGE ACT OF 1934\\n' +\n",
            "    'FOR THE TRANSITION PERIOD FROM                         TO                         .\\n' +\n",
            "    'Commission File No. 1-10635\\n' +\n",
            "    'NIKE, Inc.\\n' +\n",
            "    '(Exact name of Registrant as specified in its charter)\\n' +\n",
            "    'Oregon93-0584541\\n' +\n",
            "    '(State or other jurisdiction of incorporation)(IRS Employer Identification No.)\\n' +\n",
            "    'One Bowerman Drive, Beaverton, Oregon 97005-6453\\n' +\n",
            "    '(Address of principal executive offices and zip code)\\n' +\n",
            "    '(503) 671-6453\\n' +\n",
            "    \"(Registrant's telephone number, including area code)\\n\" +\n",
            "    'SECURITIES REGISTERED PURSUANT TO SECTION 12(B) OF THE ACT:\\n' +\n",
            "    'Class B Common StockNKENew York Stock Exchange\\n' +\n",
            "    '(Title of each class)(Trading symbol)(Name of each exchange on which registered)\\n' +\n",
            "    'SECURITIES REGISTERED PURSUANT TO SECTION 12(G) OF THE ACT:\\n' +\n",
            "    'NONE\\n' +\n",
            "    'Indicate by check mark:YESNO\\n' +\n",
            "    '•if the registrant is a well-known seasoned issuer, as defined in Rule 405 of the Securities Act.þ ̈\\n' +\n",
            "    '•if the registrant is not required to file reports pursuant to Section 13 or Section 15(d) of the Act. ̈þ\\n' +\n",
            "    '•whether the registrant (1) has filed all reports required to be filed by Section 13 or 15(d) of the Securities Exchange Act of 1934 during the preceding\\n' +\n",
            "    '12 months (or for such shorter period that the registrant was required to file such reports), and (2) has been subject to such filing requirements for the\\n' +\n",
            "    'past 90 days.\\n' +\n",
            "    'þ ̈\\n' +\n",
            "    '•whether the registrant has submitted electronically every Interactive Data File required to be submitted pursuant to Rule 405 of Regulation S-T\\n' +\n",
            "    '(§232.405 of this chapter) during the preceding 12 months (or for such shorter period that the registrant was required to submit such files).\\n' +\n",
            "    'þ ̈\\n' +\n",
            "    '•whether the registrant is a large accelerated filer, an accelerated filer, a non-accelerated filer, a smaller reporting company or an emerging growth company. See the definitions of “large accelerated filer,”\\n' +\n",
            "    '“accelerated filer,” “smaller reporting company,” and “emerging growth company” in Rule 12b-2 of the Exchange Act.\\n' +\n",
            "    'Large accelerated filerþAccelerated filer☐Non-accelerated filer☐Smaller reporting company☐Emerging growth company☐\\n' +\n",
            "    '•if an emerging growth company, if the registrant has elected not to use the extended transition period for complying with any new or revised financial\\n' +\n",
            "    'accounting standards provided pursuant to Section 13(a) of the Exchange Act.\\n' +\n",
            "    ' ̈\\n' +\n",
            "    \"•whether the registrant has filed a report on and attestation to its management's assessment of the effectiveness of its internal control over financial\\n\" +\n",
            "    'reporting under Section 404(b) of the Sarbanes-Oxley Act (15 U.S.C. 7262(b)) by the registered public accounting firm that prepared or issued its audit\\n' +\n",
            "    'report.\\n' +\n",
            "    'þ\\n' +\n",
            "    '•if securities are registered pursuant to Section 12(b) of the Act, whether the financial statements of the registrant included in the filing reflect the\\n' +\n",
            "    'correction of an error to previously issued financial statements.\\n' +\n",
            "    ' ̈\\n' +\n",
            "    '•whether any of those error corrections are restatements that required a recovery analysis of incentive-based compensation received by any of the\\n' +\n",
            "    \"registrant's executive officers during the relevant recovery period pursuant to § 240.10D-1(b).\\n\" +\n",
            "    ' ̈\\n' +\n",
            "    '•\\n' +\n",
            "    'whether the registrant is a shell company (as defined in Rule 12b-2 of the Act).☐þ\\n' +\n",
            "    \"As of November 30, 2022, the aggregate market values of the Registrant's Common Stock held by non-affiliates were:\\n\" +\n",
            "    'Class A$7,831,564,572 \\n' +\n",
            "    'Class B136,467,702,472 \\n' +\n",
            "    '$144,299,267,044 ',\n",
            "  metadata: {\n",
            "    pdf: {\n",
            "      version: '1.10.100',\n",
            "      info: [Object],\n",
            "      metadata: null,\n",
            "      totalPages: 107\n",
            "    },\n",
            "    loc: { pageNumber: 1 }\n",
            "  },\n",
            "  id: undefined\n",
            "}\n"
          ]
        }
      ],
      "source": [
        "const docs = await loader.load()\n",
        "docs[0]"
      ]
    },
    {
      "cell_type": "code",
      "execution_count": 3,
      "metadata": {},
      "outputs": [
        {
          "name": "stdout",
          "output_type": "stream",
          "text": [
            "{\n",
            "  pdf: {\n",
            "    version: '1.10.100',\n",
            "    info: {\n",
            "      PDFFormatVersion: '1.4',\n",
            "      IsAcroFormPresent: false,\n",
            "      IsXFAPresent: false,\n",
            "      Title: '0000320187-23-000039',\n",
            "      Author: 'EDGAR Online, a division of Donnelley Financial Solutions',\n",
            "      Subject: 'Form 10-K filed on 2023-07-20 for the period ending 2023-05-31',\n",
            "      Keywords: '0000320187-23-000039; ; 10-K',\n",
            "      Creator: 'EDGAR Filing HTML Converter',\n",
            "      Producer: 'EDGRpdf Service w/ EO.Pdf 22.0.40.0',\n",
            "      CreationDate: \"D:20230720162200-04'00'\",\n",
            "      ModDate: \"D:20230720162208-04'00'\"\n",
            "    },\n",
            "    metadata: null,\n",
            "    totalPages: 107\n",
            "  },\n",
            "  loc: { pageNumber: 1 }\n",
            "}\n"
          ]
        }
      ],
      "source": [
        "console.log(docs[0].metadata)"
      ]
    },
    {
      "cell_type": "markdown",
      "metadata": {},
      "source": [
        "## 用法，自定义 `pdfjs` 构建\n",
        "\n",
        "默认情况下，我们使用与 `pdf-parse` 捆绑在一起的 `pdfjs` 构建版本，它与大多数环境兼容，包括 Node.js 和现代浏览器。如果您想使用更新版本的 `pdfjs-dist` 或者想使用自定义构建的 `pdfjs-dist`，可以通过提供一个自定义的 `pdfjs` 函数来实现，该函数返回一个 Promise，解析为 `PDFJS` 对象。\n",
        "\n",
        "在下面的示例中，我们使用了 `pdfjs-dist` 的“legacy”（见 [pdfjs 文档](https://github.com/mozilla/pdf.js/wiki/Frequently-Asked-Questions#which-browsersenvironments-are-supported)）构建版本，其中包含了一些默认构建中未包含的 polyfill。\n",
        "\n",
        "```{=mdx}\n",
        "<Npm2Yarn>\n",
        "  pdfjs-dist\n",
        "</Npm2Yarn>\n",
        "\n",
        "```"
      ]
    },
    {
      "cell_type": "code",
      "execution_count": null,
      "metadata": {},
      "outputs": [],
      "source": [
        "import { WebPDFLoader } from \"@langchain/community/document_loaders/web/pdf\";\n",
        "\n",
        "const blob = new Blob(); // e.g. from a file input\n",
        "\n",
        "const customBuildLoader = new WebPDFLoader(blob, {\n",
        "  // you may need to add `.then(m => m.default)` to the end of the import\n",
        "  // @lc-ts-ignore\n",
        "  pdfjs: () => import(\"pdfjs-dist/legacy/build/pdf.js\"),\n",
        "});"
      ]
    },
    {
      "cell_type": "markdown",
      "metadata": {},
      "source": [
        "## 消除多余的空格\n",
        "\n",
        "PDF 有多种类型，这使得读取它们变得具有挑战性。加载器会解析各个文本元素，并默认用空格将它们连接在一起，但\n",
        "如果你看到过多的空格，这可能不是期望的行为。在这种情况下，你可以像这样使用空字符串覆盖分隔符："
      ]
    },
    {
      "cell_type": "code",
      "execution_count": null,
      "metadata": {},
      "outputs": [],
      "source": [
        "import { WebPDFLoader } from \"@langchain/community/document_loaders/web/pdf\";\n",
        "\n",
        "// new Blob(); e.g. from a file input\n",
        "const eliminatingExtraSpacesLoader = new WebPDFLoader(new Blob(), {\n",
        "  parsedItemSeparator: \"\",\n",
        "});"
      ]
    },
    {
      "cell_type": "markdown",
      "metadata": {},
      "source": [
        "## API 参考文档\n",
        "\n",
        "如需详细了解 WebPDFLoader 的所有功能和配置，请访问 API 参考文档：https://api.js.langchain.com/classes/langchain_community_document_loaders_web_pdf.WebPDFLoader.html"
      ]
    },
    {
      "cell_type": "markdown",
      "metadata": {},
      "source": []
    }
  ],
  "metadata": {
    "kernelspec": {
      "display_name": "TypeScript",
      "language": "typescript",
      "name": "tslab"
    },
    "language_info": {
      "codemirror_mode": {
        "mode": "typescript",
        "name": "javascript",
        "typescript": true
      },
      "file_extension": ".ts",
      "mimetype": "text/typescript",
      "name": "typescript",
      "version": "3.7.2"
    }
  },
  "nbformat": 4,
  "nbformat_minor": 4
}