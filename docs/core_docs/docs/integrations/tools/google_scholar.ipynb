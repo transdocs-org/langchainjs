{
  "cells": [
    {
      "cell_type": "raw",
      "id": "10238e62-3465-4973-9279-606cbb7ccf16",
      "metadata": {
        "vscode": {
          "languageId": "raw"
        }
      },
      "source": [
        "---\n",
        "sidebar_label: Google Scholar\n",
        "---"
      ]
    },
    {
      "cell_type": "markdown",
      "id": "a6f91f20",
      "metadata": {},
      "source": [
        "# Google Scholar 工具\n",
        "\n",
        "本笔记简要介绍了如何快速上手使用 [`SERPGoogleScholarTool`](https://api.js.langchain.com/classes/_langchain_community.tools_google_scholar.SERPGoogleScholarAPITool.html)。如需查看所有 `SERPGoogleScholarAPITool` 功能和配置的详细文档，请前往 [API 参考文档](https://api.js.langchain.com/classes/_langchain_community.tools_google_scholar.SERPGoogleScholarAPITool.html)。\n",
        "\n",
        "## 概览\n",
        "\n",
        "### 集成详情\n",
        "\n",
        "| 类 | 包 | [Python 支持](https://python.langchain.com/docs/integrations/tools/google_scholar/) | 包最新版本 |\n",
        "| :--- | :--- | :---: | :---: |\n",
        "| [GoogleScholarTool](https://api.js.langchain.com/classes/_langchain_community.tools_google_scholar.SERPGoogleScholarAPITool.html) | [@langchain/community](https://www.npmjs.com/package/@langchain/community) |  ✅  |  ![NPM - 版本](https://img.shields.io/npm/v/@langchain/community?style=flat-square&label=%20&) |\n",
        "\n",
        "### 工具功能\n",
        "\n",
        "- 按主题、作者或查询检索学术出版物。\n",
        "- 获取元数据，例如标题、作者和出版年份。\n",
        "- 高级搜索过滤器，包括引用次数和期刊名称。\n",
        "\n",
        "## 准备工作\n",
        "\n",
        "该集成位于 `@langchain/community` 包中。\n",
        "\n",
        "```bash\n",
        "npm install @langchain/community\n",
        "```\n",
        "\n",
        "### 凭据\n",
        "\n",
        "请确保你拥有访问 Google Scholar 所需的 API 密钥，并将其设置在环境变量中：\n",
        "\n",
        "```typescript\n",
        "process.env.GOOGLE_SCHOLAR_API_KEY=\"your-serp-api-key\"\n",
        "```\n",
        "\n",
        "另外，建议设置 [LangSmith](https://smith.langchain.com/) 以获得最佳的可观测性体验：\n",
        "\n",
        "```typescript\n",
        "process.env.LANGSMITH_TRACING=\"true\"\n",
        "process.env.LANGSMITH_API_KEY=\"your-langchain-api-key\"\n",
        "```"
      ]
    },
    {
      "cell_type": "markdown",
      "id": "1c97218f-f366-479d-8bf7-fe9f2f6df73f",
      "metadata": {},
      "source": [
        "## 实例化\n",
        "\n",
        "你可以像这样导入并实例化 `SERPGoogleScholarAPITool` 工具的一个实例："
      ]
    },
    {
      "cell_type": "code",
      "execution_count": 4,
      "id": "8b3ddfe9-ca79-494c-a7ab-1f56d9407a64",
      "metadata": {
        "vscode": {
          "languageId": "typescript"
        }
      },
      "outputs": [],
      "source": [
        "import { SERPGoogleScholarAPITool } from \"@langchain/community/tools/google_scholar\";\n",
        "\n",
        "const tool = new SERPGoogleScholarAPITool({\n",
        "  apiKey: process.env.SERPAPI_API_KEY,\n",
        "});"
      ]
    },
    {
      "cell_type": "markdown",
      "id": "74147a1a",
      "metadata": {},
      "source": [
        "## 调用\n",
        "\n",
        "### 使用参数直接调用\n",
        "\n",
        "您可以使用查询参数直接调用该工具："
      ]
    },
    {
      "cell_type": "code",
      "execution_count": null,
      "id": "65310a8b-eb0c-4d9e-a618-4f4abe2414fc",
      "metadata": {
        "vscode": {
          "languageId": "typescript"
        }
      },
      "outputs": [],
      "source": [
        "const results = await tool.invoke({\n",
        "  query: \"neural networks\",\n",
        "  maxResults: 5,\n",
        "});\n",
        "\n",
        "console.log(results);"
      ]
    },
    {
      "cell_type": "markdown",
      "id": "d6e73897",
      "metadata": {},
      "source": [
        "### 通过工具调用调用\n",
        "\n",
        "我们还可以通过模型生成的 `ToolCall` 调用工具："
      ]
    },
    {
      "cell_type": "code",
      "execution_count": null,
      "id": "f90e33a7",
      "metadata": {
        "vscode": {
          "languageId": "typescript"
        }
      },
      "outputs": [],
      "source": [
        "const modelGeneratedToolCall = {\n",
        "  args: { query: \"machine learning\" },\n",
        "  id: \"1\",\n",
        "  name: tool.name,\n",
        "  type: \"tool_call\",\n",
        "};\n",
        "await tool.invoke(modelGeneratedToolCall);"
      ]
    },
    {
      "cell_type": "markdown",
      "id": "93848b02",
      "metadata": {},
      "source": [
        "## API 参考\n",
        "\n",
        "有关所有 `SERPGoogleScholarAPITool` 功能和配置的详细文档，请访问 [API 参考](https://api.js.langchain.com/classes/_langchain_community.tools_google_scholar.SERPGoogleScholarAPITool.html)。"
      ]
    }
  ],
  "metadata": {
    "kernelspec": {
      "display_name": "poetry-venv-311",
      "language": "python",
      "name": "poetry-venv-311"
    },
    "language_info": {
      "codemirror_mode": {
        "name": "ipython",
        "version": 3
      },
      "file_extension": ".py",
      "mimetype": "text/x-python",
      "name": "python",
      "nbconvert_exporter": "python",
      "pygments_lexer": "ipython3",
      "version": "3.11.9"
    }
  },
  "nbformat": 4,
  "nbformat_minor": 5
}