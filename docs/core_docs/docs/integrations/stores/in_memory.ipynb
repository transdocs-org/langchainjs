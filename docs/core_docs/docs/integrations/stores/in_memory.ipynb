{
  "cells": [
    {
      "cell_type": "raw",
      "metadata": {
        "vscode": {
          "languageId": "raw"
        }
      },
      "source": [
        "---\n",
        "sidebar_label: InMemory Store\n",
        "---"
      ]
    },
    {
      "cell_type": "markdown",
      "metadata": {},
      "source": [
        "# InMemoryStore\n",
        "\n",
        "这将帮助你快速上手 [InMemoryStore](/docs/concepts/key_value_stores)。关于所有 InMemoryStore 功能和配置的详细文档，请查看 [API 参考文档](https://api.js.langchain.com/classes/langchain_core.stores.InMemoryStore.html)。\n",
        "\n",
        "`InMemoryStore` 允许为存储中的值分配一个通用类型。我们将把类型 `BaseMessage` 作为值的类型进行分配，以保持聊天历史存储的主题一致。\n",
        "\n",
        "## 概述\n",
        "\n",
        "### 集成详情\n",
        "\n",
        "| 类别 | 包 | 本地支持 | [PY 支持](https://python.langchain.com/docs/integrations/stores/in_memory/) | 包下载量 | 最新包版本 |\n",
        "| :--- | :--- | :---: | :---: |  :---: | :---: |\n",
        "| [InMemoryStore](https://api.js.langchain.com/classes/langchain_core.stores.InMemoryStore.html) | [@langchain/core](https://api.js.langchain.com/modules/langchain_core.stores.html) | ✅ | ✅ | ![NPM - 下载量](https://img.shields.io/npm/dm/@langchain/core?style=flat-square&label=%20&) | ![NPM - 版本](https://img.shields.io/npm/v/@langchain/core?style=flat-square&label=%20&) |\n",
        "\n",
        "## 准备工作\n",
        "\n",
        "### 安装\n",
        "\n",
        "LangChain InMemoryStore 集成位于 `@langchain/core` 包中：\n",
        "\n",
        "```{=mdx}\n",
        "\n",
        "import IntegrationInstallTooltip from \"@mdx_components/integration_install_tooltip.mdx\";\n",
        "import Npm2Yarn from \"@theme/Npm2Yarn\";\n",
        "\n",
        "<IntegrationInstallTooltip></IntegrationInstallTooltip>\n",
        "\n",
        "<Npm2Yarn>\n",
        "  @langchain/core\n",
        "</Npm2Yarn>\n",
        "\n",
        "```"
      ]
    },
    {
      "cell_type": "markdown",
      "metadata": {},
      "source": [
        "## 实例化\n",
        "\n",
        "现在我们可以实例化我们的字节存储器："
      ]
    },
    {
      "cell_type": "code",
      "execution_count": 2,
      "metadata": {},
      "outputs": [],
      "source": [
        "import { InMemoryStore } from \"@langchain/core/stores\"\n",
        "import { BaseMessage } from \"@langchain/core/messages\";\n",
        "\n",
        "const kvStore = new InMemoryStore<BaseMessage>();"
      ]
    },
    {
      "cell_type": "markdown",
      "metadata": {},
      "source": [
        "## 用法\n",
        "\n",
        "你可以使用 `mset` 方法将数据设置在键下，如下所示："
      ]
    },
    {
      "cell_type": "code",
      "execution_count": 3,
      "metadata": {},
      "outputs": [
        {
          "name": "stdout",
          "output_type": "stream",
          "text": [
            "[\n",
            "  HumanMessage {\n",
            "    \"content\": \"value1\",\n",
            "    \"additional_kwargs\": {},\n",
            "    \"response_metadata\": {}\n",
            "  },\n",
            "  AIMessage {\n",
            "    \"content\": \"value2\",\n",
            "    \"additional_kwargs\": {},\n",
            "    \"response_metadata\": {},\n",
            "    \"tool_calls\": [],\n",
            "    \"invalid_tool_calls\": []\n",
            "  }\n",
            "]\n"
          ]
        }
      ],
      "source": [
        "import { AIMessage, HumanMessage } from \"@langchain/core/messages\";\n",
        "\n",
        "await kvStore.mset(\n",
        "  [\n",
        "    [\"key1\", new HumanMessage(\"value1\")],\n",
        "    [\"key2\", new AIMessage(\"value2\")],\n",
        "  ]\n",
        ")\n",
        "\n",
        "await kvStore.mget(\n",
        "  [\n",
        "    \"key1\",\n",
        "    \"key2\",\n",
        "  ]\n",
        ")"
      ]
    },
    {
      "cell_type": "markdown",
      "metadata": {},
      "source": [
        "并且你可以使用 `mdelete` 方法删除数据："
      ]
    },
    {
      "cell_type": "code",
      "execution_count": 4,
      "metadata": {},
      "outputs": [
        {
          "name": "stdout",
          "output_type": "stream",
          "text": [
            "[ undefined, undefined ]\n"
          ]
        }
      ],
      "source": [
        "await kvStore.mdelete(\n",
        "  [\n",
        "    \"key1\",\n",
        "    \"key2\",\n",
        "  ]\n",
        ")\n",
        "\n",
        "await kvStore.mget(\n",
        "  [\n",
        "    \"key1\",\n",
        "    \"key2\",\n",
        "  ]\n",
        ")"
      ]
    },
    {
      "cell_type": "markdown",
      "metadata": {},
      "source": [
        "## 产生值\n",
        "\n",
        "如果你想获取所有的键，可以调用 `yieldKeys` 方法。此外，你还可以传入一个键的前缀，这样只会返回匹配该前缀的键。"
      ]
    },
    {
      "cell_type": "code",
      "execution_count": 1,
      "metadata": {},
      "outputs": [
        {
          "name": "stdout",
          "output_type": "stream",
          "text": [
            "[ 'message:id:key1', 'message:id:key2' ]\n"
          ]
        }
      ],
      "source": [
        "import { InMemoryStore } from \"@langchain/core/stores\"\n",
        "import { AIMessage, BaseMessage, HumanMessage } from \"@langchain/core/messages\";\n",
        "\n",
        "const kvStoreForYield = new InMemoryStore<BaseMessage>();\n",
        "\n",
        "// Add some data to the store\n",
        "await kvStoreForYield.mset(\n",
        "  [\n",
        "    [\"message:id:key1\", new HumanMessage(\"value1\")],\n",
        "    [\"message:id:key2\", new AIMessage(\"value2\")],\n",
        "  ]\n",
        ")\n",
        "\n",
        "const yieldedKeys = [];\n",
        "for await (const key of kvStoreForYield.yieldKeys(\"message:id:\")) {\n",
        "  yieldedKeys.push(key);\n",
        "}\n",
        "\n",
        "console.log(yieldedKeys);"
      ]
    },
    {
      "cell_type": "markdown",
      "metadata": {},
      "source": [
        "## API 参考\n",
        "\n",
        "如需详细了解所有 InMemoryStore 功能和配置，请访问 [API 参考](https://api.js.langchain.com/classes/langchain_core.stores.InMemoryStore.html)"
      ]
    }
  ],
  "metadata": {
    "kernelspec": {
      "display_name": "TypeScript",
      "language": "typescript",
      "name": "tslab"
    },
    "language_info": {
      "codemirror_mode": {
        "mode": "typescript",
        "name": "javascript",
        "typescript": true
      },
      "file_extension": ".ts",
      "mimetype": "text/typescript",
      "name": "typescript",
      "version": "3.7.2"
    }
  },
  "nbformat": 4,
  "nbformat_minor": 2
}