{
  "cells": [
    {
      "cell_type": "raw",
      "metadata": {
        "vscode": {
          "languageId": "raw"
        }
      },
      "source": [
        "---\n",
        "sidebar_label: File System Store\n",
        "sidebar_class_name: node-only\n",
        "---"
      ]
    },
    {
      "cell_type": "markdown",
      "metadata": {},
      "source": [
        "# 本地文件存储\n",
        "\n",
        "```{=mdx}\n",
        "\n",
        ":::tip 兼容性\n",
        "\n",
        "仅适用于 Node.js。\n",
        "\n",
        ":::\n",
        "\n",
        "```\n",
        "\n",
        "这将帮助你快速开始使用 [LocalFileStore](/docs/concepts/key_value_stores)。如需了解所有 LocalFileStore 功能和配置的详细文档，请前往 [API 参考文档](https://api.js.langchain.com/classes/langchain.storage_file_system.LocalFileStore.html)。\n",
        "\n",
        "## 概述\n",
        "\n",
        "`LocalFileStore` 是对 `fs` 模块的封装，用于以键值对的形式存储数据。\n",
        "每对键值都有自己的文件，嵌套在传递给 `.fromPath` 方法的目录中。\n",
        "文件名是键，文件内容则是键的值。\n",
        "\n",
        "```{=mdx}\n",
        "\n",
        ":::info\n",
        "\n",
        "传递给 `.fromPath` 的路径必须是一个目录，而不是一个文件。\n",
        "\n",
        ":::\n",
        "\n",
        ":::warning\n",
        "\n",
        "\n",
        "此文件存储可以在提供的目录及其子文件夹中修改任何文本文件。\n",
        "请确保在初始化存储时指定的路径中没有其他文件。\n",
        "\n",
        ":::\n",
        "\n",
        "```\n",
        "\n",
        "### 集成详情\n",
        "\n",
        "| 类 | 包 | 本地支持 | [PY 支持](https://python.langchain.com/docs/integrations/stores/file_system/) | 包下载量 | 最新包 |\n",
        "| :--- | :--- | :---: | :---: | :---: | :---: |\n",
        "| [LocalFileStore](https://api.js.langchain.com/classes/langchain.storage_file_system.LocalFileStore.html) | [langchain](https://api.js.langchain.com/modules/langchain.storage_file_system.html) | ✅ | ✅ | ![NPM - 下载量](https://img.shields.io/npm/dm/langchain?style=flat-square&label=%20&) | ![NPM - 版本](https://img.shields.io/npm/v/langchain?style=flat-square&label=%20&) |\n",
        "\n",
        "## 准备工作\n",
        "\n",
        "### 安装\n",
        "\n",
        "LangChain 的 `LocalFileStore` 集成位于 `langchain` 包中：\n",
        "\n",
        "```{=mdx}\n",
        "\n",
        "import IntegrationInstallTooltip from \"@mdx_components/integration_install_tooltip.mdx\";\n",
        "import Npm2Yarn from \"@theme/Npm2Yarn\";\n",
        "\n",
        "<IntegrationInstallTooltip></IntegrationInstallTooltip>\n",
        "\n",
        "<Npm2Yarn>\n",
        "  langchain @langchain/core\n",
        "</Npm2Yarn>\n",
        "\n",
        "```"
      ]
    },
    {
      "cell_type": "markdown",
      "metadata": {},
      "source": [
        "## 实例化\n",
        "\n",
        "现在我们可以实例化我们的字节存储器："
      ]
    },
    {
      "cell_type": "code",
      "execution_count": 1,
      "metadata": {},
      "outputs": [],
      "source": [
        "import { LocalFileStore } from \"langchain/storage/file_system\"\n",
        "\n",
        "const kvStore = await LocalFileStore.fromPath(\"./messages\");"
      ]
    },
    {
      "cell_type": "markdown",
      "metadata": {},
      "source": [
        "定义一个编码器和解码器，用于将数据转换为 `Uint8Array` 并还原："
      ]
    },
    {
      "cell_type": "code",
      "execution_count": 2,
      "metadata": {},
      "outputs": [],
      "source": [
        "const encoder = new TextEncoder();\n",
        "const decoder = new TextDecoder();"
      ]
    },
    {
      "cell_type": "markdown",
      "metadata": {},
      "source": [
        "## 用法\n",
        "\n",
        "你可以使用 `mset` 方法将数据设置在键下，如下所示："
      ]
    },
    {
      "cell_type": "code",
      "execution_count": 4,
      "metadata": {},
      "outputs": [
        {
          "name": "stdout",
          "output_type": "stream",
          "text": [
            "[ 'value1', 'value2' ]\n"
          ]
        }
      ],
      "source": [
        "await kvStore.mset(\n",
        "  [\n",
        "    [\"key1\", encoder.encode(\"value1\")],\n",
        "    [\"key2\", encoder.encode(\"value2\")],\n",
        "  ]\n",
        ")\n",
        "\n",
        "const results = await kvStore.mget(\n",
        "  [\n",
        "    \"key1\",\n",
        "    \"key2\",\n",
        "  ]\n",
        ")\n",
        "console.log(results.map((v) => decoder.decode(v)));"
      ]
    },
    {
      "cell_type": "markdown",
      "metadata": {},
      "source": [
        "并且你可以使用 `mdelete` 方法删除数据："
      ]
    },
    {
      "cell_type": "code",
      "execution_count": 5,
      "metadata": {},
      "outputs": [
        {
          "name": "stdout",
          "output_type": "stream",
          "text": [
            "[ undefined, undefined ]\n"
          ]
        }
      ],
      "source": [
        "await kvStore.mdelete(\n",
        "  [\n",
        "    \"key1\",\n",
        "    \"key2\",\n",
        "  ]\n",
        ")\n",
        "\n",
        "await kvStore.mget(\n",
        "  [\n",
        "    \"key1\",\n",
        "    \"key2\",\n",
        "  ]\n",
        ")"
      ]
    },
    {
      "cell_type": "markdown",
      "metadata": {},
      "source": [
        "## 产出值\n",
        "\n",
        "如果你想获取所有的键，可以调用 `yieldKeys` 方法。此外，你还可以选择性地传入一个键的前缀，以只获取匹配该前缀的键。"
      ]
    },
    {
      "cell_type": "code",
      "execution_count": 6,
      "metadata": {},
      "outputs": [
        {
          "name": "stdout",
          "output_type": "stream",
          "text": [
            "[ 'message:id:key1', 'message:id:key2' ]\n"
          ]
        }
      ],
      "source": [
        "import { LocalFileStore } from \"langchain/storage/file_system\"\n",
        "\n",
        "const kvStoreForYield = await LocalFileStore.fromPath(\"./messages\");\n",
        "\n",
        "const encoderForYield = new TextEncoder();\n",
        "\n",
        "// Add some data to the store\n",
        "await kvStoreForYield.mset(\n",
        "  [\n",
        "    [\"message:id:key1\", encoderForYield.encode(\"value1\")],\n",
        "    [\"message:id:key2\", encoderForYield.encode(\"value2\")],\n",
        "  ]\n",
        ")\n",
        "\n",
        "const yieldedKeys = [];\n",
        "for await (const key of kvStoreForYield.yieldKeys(\"message:id:\")) {\n",
        "  yieldedKeys.push(key);\n",
        "}\n",
        "\n",
        "console.log(yieldedKeys);"
      ]
    },
    {
      "cell_type": "code",
      "execution_count": 8,
      "metadata": {},
      "outputs": [],
      "source": [
        "import fs from \"fs\";\n",
        "\n",
        "// Cleanup\n",
        "await fs.promises.rm(\"./messages\", { recursive: true, force: true });"
      ]
    },
    {
      "cell_type": "markdown",
      "metadata": {},
      "source": [
        "## API 参考\n",
        "\n",
        "有关 LocalFileStore 所有功能和配置的详细文档，请访问 [API 参考](https://api.js.langchain.com/classes/langchain_storage_file_system.LocalFileStore.html)"
      ]
    }
  ],
  "metadata": {
    "kernelspec": {
      "display_name": "TypeScript",
      "language": "typescript",
      "name": "tslab"
    },
    "language_info": {
      "codemirror_mode": {
        "mode": "typescript",
        "name": "javascript",
        "typescript": true
      },
      "file_extension": ".ts",
      "mimetype": "text/typescript",
      "name": "typescript",
      "version": "3.7.2"
    }
  },
  "nbformat": 4,
  "nbformat_minor": 2
}