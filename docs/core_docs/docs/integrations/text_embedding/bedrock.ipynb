{
  "cells": [
    {
      "cell_type": "raw",
      "id": "afaf8039",
      "metadata": {
        "vscode": {
          "languageId": "raw"
        }
      },
      "source": [
        "---\n",
        "sidebar_label: Amazon Bedrock\n",
        "---"
      ]
    },
    {
      "cell_type": "markdown",
      "id": "9a3d6f34",
      "metadata": {},
      "source": [
        "# BedrockEmbeddings\n",
        "\n",
        "[Amazon Bedrock](https://aws.amazon.com/bedrock/) 是一项完全托管的服务，通过单一API提供来自AI21 Labs、Anthropic、Cohere、Meta、Stability AI 和 Amazon等领先AI公司的高性能基础模型(FM)选择，并提供构建生成式AI应用所需的一整套功能，包括安全性、隐私保护和负责任的AI实践。\n",
        "\n",
        "这将帮助您使用LangChain开始使用Amazon Bedrock的[嵌入模型](/docs/concepts/embedding_models)。有关`Bedrock`功能和配置选项的详细文档，请参阅[API参考](https://api.js.langchain.com/classes/langchain_aws.BedrockEmbeddings.html)。\n",
        "\n",
        "## 概览\n",
        "### 集成详情\n",
        "\n",
        "| 类别 | 包 | 本地支持 | [Python支持](https://python.langchain.com/docs/integrations/text_embedding/bedrock/) | 包下载量 | 最新包版本 |\n",
        "| :--- | :--- | :---: | :---: |  :---: | :---: |\n",
        "| [Bedrock](https://api.js.langchain.com/classes/langchain_aws.BedrockEmbeddings.html) | [@langchain/aws](https://api.js.langchain.com/modules/langchain_aws.html) | ❌ | ✅ | ![NPM - 下载量](https://img.shields.io/npm/dm/@langchain/aws?style=flat-square&label=%20&) | ![NPM - 版本](https://img.shields.io/npm/v/@langchain/aws?style=flat-square&label=%20&) |\n",
        "\n",
        "## 准备工作\n",
        "\n",
        "要访问Bedrock嵌入模型，您需要创建一个AWS账户，获取API密钥，并安装`@langchain/aws`集成包。\n",
        "\n",
        "前往[AWS文档](https://docs.aws.amazon.com/bedrock/latest/userguide/getting-started.html)注册AWS并设置您的凭证。您还需要为您的账户启用模型访问权限，可以通过[按照这些说明操作](https://docs.aws.amazon.com/bedrock/latest/userguide/model-access.html)来完成。\n",
        "\n",
        "### 凭证\n",
        "\n",
        "如果您希望自动追踪您的模型调用，也可以取消下面的注释来设置您的[LangSmith](https://docs.smith.langchain.com/) API密钥：\n",
        "\n",
        "```bash\n",
        "# export LANGSMITH_TRACING=\"true\"\n",
        "# export LANGSMITH_API_KEY=\"your-api-key\"\n",
        "```\n",
        "\n",
        "### 安装\n",
        "\n",
        "LangChain Bedrock集成位于`@langchain/aws`包中：\n",
        "\n",
        "```{=mdx}\n",
        "import IntegrationInstallTooltip from \"@mdx_components/integration_install_tooltip.mdx\";\n",
        "import Npm2Yarn from \"@theme/Npm2Yarn\";\n",
        "\n",
        "<IntegrationInstallTooltip></IntegrationInstallTooltip>\n",
        "\n",
        "<Npm2Yarn>\n",
        "  @langchain/aws @langchain/core\n",
        "</Npm2Yarn>\n",
        "```"
      ]
    },
    {
      "cell_type": "markdown",
      "id": "45dd1724",
      "metadata": {},
      "source": [
        "## 实例化\n",
        "\n",
        "现在我们可以实例化我们的模型对象并嵌入文本。\n",
        "\n",
        "有几种不同的方式可以与AWS进行身份验证——以下示例依赖于在环境变量中设置的访问密钥、秘密访问密钥和区域："
      ]
    },
    {
      "cell_type": "code",
      "execution_count": 1,
      "id": "9ea7a09b",
      "metadata": {},
      "outputs": [],
      "source": [
        "import { BedrockEmbeddings } from \"@langchain/aws\";\n",
        "\n",
        "const embeddings = new BedrockEmbeddings({\n",
        "  region: process.env.BEDROCK_AWS_REGION!,\n",
        "  credentials: {\n",
        "    accessKeyId: process.env.BEDROCK_AWS_ACCESS_KEY_ID!,\n",
        "    secretAccessKey: process.env.BEDROCK_AWS_SECRET_ACCESS_KEY!,\n",
        "  },\n",
        "  model: \"amazon.titan-embed-text-v1\",\n",
        "});"
      ]
    },
    {
      "cell_type": "markdown",
      "id": "77d271b6",
      "metadata": {},
      "source": [
        "## 索引与检索\n",
        "\n",
        "嵌入模型通常用于检索增强生成（RAG）流程中，既用于数据索引，也用于后续的数据检索。有关更详细的说明，请参阅我们位于[使用外部知识教程](/docs/tutorials/#working-with-external-knowledge)下的RAG教程。\n",
        "\n",
        "下面展示如何使用我们之前初始化的`embeddings`对象进行数据索引和检索。在此示例中，我们将使用演示版的[`MemoryVectorStore`](/docs/integrations/vectorstores/memory)来索引和检索一个示例文档。"
      ]
    },
    {
      "cell_type": "code",
      "execution_count": 2,
      "id": "d817716b",
      "metadata": {},
      "outputs": [
        {
          "name": "stdout",
          "output_type": "stream",
          "text": [
            "LangChain is the framework for building context-aware reasoning applications\n"
          ]
        }
      ],
      "source": [
        "// Create a vector store with a sample text\n",
        "import { MemoryVectorStore } from \"langchain/vectorstores/memory\";\n",
        "\n",
        "const text = \"LangChain is the framework for building context-aware reasoning applications\";\n",
        "\n",
        "const vectorstore = await MemoryVectorStore.fromDocuments(\n",
        "  [{ pageContent: text, metadata: {} }],\n",
        "  embeddings,\n",
        ");\n",
        "\n",
        "// Use the vector store as a retriever that returns a single document\n",
        "const retriever = vectorstore.asRetriever(1);\n",
        "\n",
        "// Retrieve the most similar text\n",
        "const retrievedDocuments = await retriever.invoke(\"What is LangChain?\");\n",
        "\n",
        "retrievedDocuments[0].pageContent;"
      ]
    },
    {
      "cell_type": "markdown",
      "id": "e02b9855",
      "metadata": {},
      "source": [
        "## 直接使用\n",
        "\n",
        "在底层，向量存储和检索器的实现分别通过调用 `embeddings.embedDocument(...)` 和 `embeddings.embedQuery(...)` 来为 `fromDocuments` 和检索器的 `invoke` 操作中使用的文本创建嵌入。\n",
        "\n",
        "您可以直接调用这些方法，以用于您自己的用例。\n",
        "\n",
        "### 嵌入单个文本\n",
        "\n",
        "您可以使用 `embedQuery` 对查询进行嵌入，以用于搜索。这将生成针对该查询的向量表示："
      ]
    },
    {
      "cell_type": "code",
      "execution_count": 3,
      "id": "0d2befcd",
      "metadata": {},
      "outputs": [
        {
          "name": "stdout",
          "output_type": "stream",
          "text": [
            "[\n",
            "         0.625,  0.111328125,      0.265625,   -0.20019531,  0.40820312,\n",
            "  -0.010803223,  -0.22460938, -0.0002937317,    0.29882812, -0.14355469,\n",
            "  -0.068847656,   -0.3984375,          0.75,    -0.1953125,  -0.5546875,\n",
            "  -0.087402344,       0.5625,      1.390625,    -0.3515625,  0.39257812,\n",
            "  -0.061767578,      0.65625,   -0.36328125,   -0.06591797,    0.234375,\n",
            "   -0.36132812,   0.42382812,  -0.115234375,   -0.28710938, -0.29296875,\n",
            "     -0.765625,  -0.16894531,    0.23046875,     0.6328125, -0.08544922,\n",
            "    0.13671875, 0.0004272461,        0.3125,    0.12207031,   -0.546875,\n",
            "    0.14257812, -0.119628906,  -0.111328125,    0.61328125,      0.6875,\n",
            "     0.3671875,   -0.2578125,   -0.27734375,      0.703125,    0.203125,\n",
            "    0.17675781,  -0.26757812,   -0.76171875,    0.71484375,  0.77734375,\n",
            "    -0.1953125, -0.007232666,  -0.044921875,    0.23632812, -0.24121094,\n",
            "  -0.012207031,    0.5078125,    0.08984375,    0.56640625,  -0.3046875,\n",
            "     0.6484375,        -0.25,   -0.37890625,    -0.2421875,  0.38476562,\n",
            "   -0.18164062,  -0.05810547,     0.7578125,    0.04296875,    0.609375,\n",
            "    0.50390625,  0.023803711,   -0.23046875,   0.099121094,  0.79296875,\n",
            "     -1.296875,     0.671875,   -0.66796875,    0.43359375, 0.087890625,\n",
            "    0.14550781,  -0.37304688,  -0.068359375, 0.00012874603, -0.47265625,\n",
            "     -0.765625,   0.07861328,  -0.029663086,   0.076660156, -0.32617188,\n",
            "     -0.453125,   -0.5546875,   -0.45703125,     1.1015625, -0.29492188\n",
            "]\n"
          ]
        }
      ],
      "source": [
        "const singleVector = await embeddings.embedQuery(text);\n",
        "\n",
        "console.log(singleVector.slice(0, 100));"
      ]
    },
    {
      "cell_type": "markdown",
      "id": "1b5a7d03",
      "metadata": {},
      "source": [
        "### 嵌入多个文本\n",
        "\n",
        "您可以使用 `embedDocuments` 对多个文本进行索引嵌入。此方法的内部实现可能（但不一定）与嵌入查询的不同："
      ]
    },
    {
      "cell_type": "code",
      "execution_count": 4,
      "id": "2f4d6e97",
      "metadata": {},
      "outputs": [
        {
          "name": "stdout",
          "output_type": "stream",
          "text": [
            "[\n",
            "         0.625,  0.111328125,      0.265625,   -0.20019531,  0.40820312,\n",
            "  -0.010803223,  -0.22460938, -0.0002937317,    0.29882812, -0.14355469,\n",
            "  -0.068847656,   -0.3984375,          0.75,    -0.1953125,  -0.5546875,\n",
            "  -0.087402344,       0.5625,      1.390625,    -0.3515625,  0.39257812,\n",
            "  -0.061767578,      0.65625,   -0.36328125,   -0.06591797,    0.234375,\n",
            "   -0.36132812,   0.42382812,  -0.115234375,   -0.28710938, -0.29296875,\n",
            "     -0.765625,  -0.16894531,    0.23046875,     0.6328125, -0.08544922,\n",
            "    0.13671875, 0.0004272461,        0.3125,    0.12207031,   -0.546875,\n",
            "    0.14257812, -0.119628906,  -0.111328125,    0.61328125,      0.6875,\n",
            "     0.3671875,   -0.2578125,   -0.27734375,      0.703125,    0.203125,\n",
            "    0.17675781,  -0.26757812,   -0.76171875,    0.71484375,  0.77734375,\n",
            "    -0.1953125, -0.007232666,  -0.044921875,    0.23632812, -0.24121094,\n",
            "  -0.012207031,    0.5078125,    0.08984375,    0.56640625,  -0.3046875,\n",
            "     0.6484375,        -0.25,   -0.37890625,    -0.2421875,  0.38476562,\n",
            "   -0.18164062,  -0.05810547,     0.7578125,    0.04296875,    0.609375,\n",
            "    0.50390625,  0.023803711,   -0.23046875,   0.099121094,  0.79296875,\n",
            "     -1.296875,     0.671875,   -0.66796875,    0.43359375, 0.087890625,\n",
            "    0.14550781,  -0.37304688,  -0.068359375, 0.00012874603, -0.47265625,\n",
            "     -0.765625,   0.07861328,  -0.029663086,   0.076660156, -0.32617188,\n",
            "     -0.453125,   -0.5546875,   -0.45703125,     1.1015625, -0.29492188\n",
            "]\n",
            "[\n",
            "       0.65625,    0.48242188,    0.70703125,   -0.13378906,    0.859375,\n",
            "     0.2578125,   -0.13378906, -0.0002670288,      -0.34375,  0.25585938,\n",
            "   -0.33984375,   -0.26367188,      0.828125,   -0.23242188, -0.61328125,\n",
            "    0.12695312,    0.43359375,     1.3828125,  -0.099121094,   0.3203125,\n",
            "   -0.34765625,    0.35351562,   -0.28710938,   0.009521484, 0.083496094,\n",
            "   0.040283203,   -0.25390625,    0.17871094,   0.044189453, -0.19628906,\n",
            "    0.45898438,    0.21191406,    0.67578125,     0.8359375, -0.29101562,\n",
            "   0.021118164,    0.13671875,   0.083984375,    0.34570312,  0.30859375,\n",
            "  -0.001625061,    0.31835938,   -0.18164062, -0.0058288574,  0.22460938,\n",
            "    0.26757812,   -0.09082031,    0.17480469,     1.4921875, -0.24316406,\n",
            "    0.36523438,    0.14550781,     -0.609375,    0.33007812,  0.10595703,\n",
            "     0.3671875,    0.18359375,   -0.62109375,    0.51171875, 0.024047852,\n",
            "   0.092285156,   -0.44335938,     0.4921875,      0.609375, -0.48242188,\n",
            "      0.796875,   -0.47851562,      -0.53125,   -0.66796875,  0.68359375,\n",
            "   -0.16796875,   0.110839844,    0.84765625,      0.703125,   0.8671875,\n",
            "    0.37695312, -0.0022888184,   -0.30664062,     0.3671875,  0.16503906,\n",
            "   -0.59765625,     0.3203125,      -0.34375,    0.08251953,    0.890625,\n",
            "    0.38476562,   -0.24707031,        -0.125, 0.00013160706, -0.69921875,\n",
            "      -0.53125,   0.052490234,    0.27734375,    0.42773438, -0.38867188,\n",
            "    -0.2578125,         -0.25,      -0.46875,      0.828125, -0.94140625\n",
            "]\n"
          ]
        }
      ],
      "source": [
        "const text2 = \"LangGraph is a library for building stateful, multi-actor applications with LLMs\";\n",
        "\n",
        "const vectors = await embeddings.embedDocuments([text, text2]);\n",
        "\n",
        "console.log(vectors[0].slice(0, 100));\n",
        "console.log(vectors[1].slice(0, 100));"
      ]
    },
    {
      "cell_type": "markdown",
      "id": "1d337b4e",
      "metadata": {},
      "source": [
        "## 配置 Bedrock 运行时客户端\n",
        "\n",
        "如果您想要自定义诸如\n",
        "`credentials`（凭证）、`region`（区域）、`retryPolicy`（重试策略）等选项，可以传入自己实例化的 `BedrockRuntimeClient`。"
      ]
    },
    {
      "cell_type": "code",
      "execution_count": null,
      "id": "c3eb2444",
      "metadata": {},
      "outputs": [],
      "source": [
        "import { BedrockRuntimeClient } from \"@aws-sdk/client-bedrock-runtime\";\n",
        "import { BedrockEmbeddings } from \"@langchain/aws\";\n",
        "\n",
        "const getCredentials = () => {\n",
        "  // do something to get credentials\n",
        "}\n",
        "\n",
        "// @lc-ts-ignore\n",
        "const client = new BedrockRuntimeClient({\n",
        "  region: \"us-east-1\",\n",
        "  credentials: getCredentials(),\n",
        "});\n",
        "\n",
        "const embeddingsWithCustomClient = new BedrockEmbeddings({\n",
        "  client,\n",
        "});"
      ]
    },
    {
      "cell_type": "markdown",
      "id": "8938e581",
      "metadata": {},
      "source": [
        "## API 参考文档\n",
        "\n",
        "有关所有 Bedrock 功能和配置的详细文档，请访问 API 参考页面: https://api.js.langchain.com/classes/langchain_aws.BedrockEmbeddings.html"
      ]
    }
  ],
  "metadata": {
    "kernelspec": {
      "display_name": "TypeScript",
      "language": "typescript",
      "name": "tslab"
    },
    "language_info": {
      "codemirror_mode": {
        "mode": "typescript",
        "name": "javascript",
        "typescript": true
      },
      "file_extension": ".ts",
      "mimetype": "text/typescript",
      "name": "typescript",
      "version": "3.7.2"
    }
  },
  "nbformat": 4,
  "nbformat_minor": 5
}