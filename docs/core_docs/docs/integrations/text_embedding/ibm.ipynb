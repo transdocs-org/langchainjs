{
  "cells": [
    {
      "cell_type": "raw",
      "id": "afaf8039",
      "metadata": {
        "vscode": {
          "languageId": "raw"
        }
      },
      "source": [
        "---\n",
        "sidebar_label: IBM watsonx.ai\n",
        "---"
      ]
    },
    {
      "cell_type": "markdown",
      "id": "9a3d6f34",
      "metadata": {},
      "source": [
        "# IBM watsonx.ai\n",
        "\n",
        "\n",
        "本指南将帮助您使用 LangChain 开始使用 IBM watsonx.ai [嵌入模型](/docs/concepts/embedding_models)。如需关于 `IBM watsonx.ai` 功能和配置选项的详细文档，请参阅 [API 参考文档](https://api.js.langchain.com/modules/_langchain_community.embeddings_ibm.html)。\n",
        "\n",
        "## 概述\n",
        "### 集成详情\n",
        "\n",
        "\n",
        "| 类 | 包 | 本地 | [Python 支持](https://python.langchain.com/docs/integrations/text_embedding/ibm_watsonx/) | 包下载量 | 最新包 |\n",
        "| :--- | :--- | :---: | :---: |  :---: | :---: |\n",
        "| [`WatsonxEmbeddings`](https://api.js.langchain.com/classes/_langchain_community.embeddings_ibm.WatsonxEmbeddings.html) | [@langchain/community](https://www.npmjs.com/package/@langchain/community)| ❌ | ✅  | ![NPM - 下载量](https://img.shields.io/npm/dm/@langchain/community?style=flat-square&label=%20&) | ![NPM - 版本](https://img.shields.io/npm/v/@langchain/community?style=flat-square&label=%20&) |\n",
        "\n",
        "## 准备工作\n",
        "\n",
        "要访问 IBM WatsonxAI 嵌入功能，您需要创建一个 IBM watsonx.ai 账户，获取 API 密钥或其他类型的凭证，并安装 `@langchain/community` 集成包。\n",
        "\n",
        "### 凭证\n",
        "\n",
        "\n",
        "前往 [IBM Cloud](https://cloud.ibm.com/login) 注册 IBM watsonx.ai 并生成一个 API 密钥或提供如下所示的其他身份验证方式。\n",
        "\n",
        "#### IAM 认证\n",
        "\n",
        "```bash\n",
        "export WATSONX_AI_AUTH_TYPE=iam\n",
        "export WATSONX_AI_APIKEY=<YOUR-APIKEY>\n",
        "```\n",
        "\n",
        "#### Bearer Token 认证\n",
        "\n",
        "```bash\n",
        "export WATSONX_AI_AUTH_TYPE=bearertoken\n",
        "export WATSONX_AI_BEARER_TOKEN=<YOUR-BEARER-TOKEN>\n",
        "```\n",
        "\n",
        "#### IBM watsonx.ai 软件认证\n",
        "\n",
        "```bash\n",
        "export WATSONX_AI_AUTH_TYPE=cp4d\n",
        "export WATSONX_AI_USERNAME=<YOUR_USERNAME>\n",
        "export WATSONX_AI_PASSWORD=<YOUR_PASSWORD>\n",
        "export WATSONX_AI_URL=<URL>\n",
        "```\n",
        "\n",
        "将这些值设置到您的环境变量中并初始化对象后，认证将自动进行。\n",
        "\n",
        "也可以通过将这些值作为参数传递给新实例来完成认证。\n",
        "\n",
        "## IAM 认证\n",
        "\n",
        "```typescript\n",
        "import { WatsonxEmbeddings } from \"@langchain/community/embeddings/ibm\";\n",
        "\n",
        "const props = {\n",
        "  version: \"YYYY-MM-DD\",\n",
        "  serviceUrl: \"<SERVICE_URL>\",\n",
        "  projectId: \"<PROJECT_ID>\",\n",
        "  watsonxAIAuthType: \"iam\",\n",
        "  watsonxAIApikey: \"<YOUR-APIKEY>\",\n",
        "};\n",
        "const instance = new WatsonxEmbeddings(props);\n",
        "```\n",
        "\n",
        "## Bearer Token 认证\n",
        "\n",
        "```typescript\n",
        "import { WatsonxEmbeddings } from \"@langchain/community/embeddings/ibm\";\n",
        "\n",
        "const props = {\n",
        "  version: \"YYYY-MM-DD\",\n",
        "  serviceUrl: \"<SERVICE_URL>\",\n",
        "  projectId: \"<PROJECT_ID>\",\n",
        "  watsonxAIAuthType: \"bearertoken\",\n",
        "  watsonxAIBearerToken: \"<YOUR-BEARERTOKEN>\",\n",
        "};\n",
        "const instance = new WatsonxEmbeddings(props);\n",
        "```\n",
        "\n",
        "### IBM watsonx.ai 软件认证\n",
        "\n",
        "```typescript\n",
        "import { WatsonxEmbeddings } from \"@langchain/community/embeddings/ibm\";\n",
        "\n",
        "const props = {\n",
        "  version: \"YYYY-MM-DD\",\n",
        "  serviceUrl: \"<SERVICE_URL>\",\n",
        "  projectId: \"<PROJECT_ID>\",\n",
        "  watsonxAIAuthType: \"cp4d\",\n",
        "  watsonxAIUsername: \"<YOUR-USERNAME>\",\n",
        "  watsonxAIPassword: \"<YOUR-PASSWORD>\",\n",
        "  watsonxAIUrl: \"<url>\",\n",
        "};\n",
        "const instance = new WatsonxEmbeddings(props);\n",
        "```\n",
        "\n",
        "如果您希望对模型调用进行自动跟踪，也可以通过取消以下注释来设置您的 [LangSmith](https://docs.smith.langchain.com/) API 密钥：\n",
        "\n",
        "```bash\n",
        "# export LANGSMITH_TRACING=\"true\"\n",
        "# export LANGSMITH_API_KEY=\"your-api-key\"\n",
        "```\n",
        "\n",
        "### 安装\n",
        "\n",
        "LangChain 的 IBM watsonx.ai 集成位于 `@langchain/community` 包中：\n",
        "\n",
        "```{=mdx}\n",
        "import IntegrationInstallTooltip from \"@mdx_components/integration_install_tooltip.mdx\";\n",
        "import Npm2Yarn from \"@theme/Npm2Yarn\";\n",
        "\n",
        "<IntegrationInstallTooltip></IntegrationInstallTooltip>\n",
        "\n",
        "<Npm2Yarn>\n",
        "  @langchain/community @langchain/core\n",
        "</Npm2Yarn>\n",
        "\n",
        "```"
      ]
    },
    {
      "cell_type": "markdown",
      "id": "45dd1724",
      "metadata": {},
      "source": [
        "## 实例化\n",
        "\n",
        "现在我们可以实例化我们的模型对象并嵌入文本：\n"
      ]
    },
    {
      "cell_type": "code",
      "execution_count": null,
      "id": "9ea7a09b",
      "metadata": {},
      "outputs": [],
      "source": [
        "import { WatsonxEmbeddings } from \"@langchain/community/embeddings/ibm\";\n",
        "\n",
        "const embeddings = new WatsonxEmbeddings({\n",
        "  version: \"YYYY-MM-DD\",\n",
        "  serviceUrl: process.env.API_URL,\n",
        "  projectId: \"<PROJECT_ID>\",\n",
        "  spaceId: \"<SPACE_ID>\",\n",
        "  model: \"<MODEL_ID>\",\n",
        "});"
      ]
    },
    {
      "cell_type": "markdown",
      "id": "ba7f5c8a",
      "metadata": {},
      "source": [
        "注意：\n",
        "\n",
        "- 您必须提供 `spaceId` 或 `projectId` 才能继续。\n",
        "- 根据您已开通服务实例的区域，使用正确的 serviceUrl。"
      ]
    },
    {
      "cell_type": "markdown",
      "id": "77d271b6",
      "metadata": {},
      "source": [
        "## 索引与检索\n",
        "\n",
        "嵌入模型通常用于检索增强生成（RAG）流程中，既用于数据索引，也用于后续的数据检索。如需更详细的说明，请参阅我们位于[使用外部知识教程](/docs/tutorials/#working-with-external-knowledge)下的 RAG 教程。\n",
        "\n",
        "下面展示如何使用我们前面初始化的 `embeddings` 对象进行数据索引和检索。在此示例中，我们将使用演示用的 [`MemoryVectorStore`](/docs/integrations/vectorstores/memory) 来索引和检索一个示例文档。"
      ]
    },
    {
      "cell_type": "code",
      "execution_count": 2,
      "id": "d817716b",
      "metadata": {},
      "outputs": [
        {
          "name": "stdout",
          "output_type": "stream",
          "text": [
            "LangChain is the framework for building context-aware reasoning applications\n"
          ]
        }
      ],
      "source": [
        "// Create a vector store with a sample text\n",
        "import { MemoryVectorStore } from \"langchain/vectorstores/memory\";\n",
        "\n",
        "const text = \"LangChain is the framework for building context-aware reasoning applications\";\n",
        "\n",
        "const vectorstore = await MemoryVectorStore.fromDocuments(\n",
        "  [{ pageContent: text, metadata: {} }],\n",
        "  embeddings,\n",
        ");\n",
        "\n",
        "// Use the vector store as a retriever that returns a single document\n",
        "const retriever = vectorstore.asRetriever(1);\n",
        "\n",
        "// Retrieve the most similar text\n",
        "const retrievedDocuments = await retriever.invoke(\"What is LangChain?\");\n",
        "\n",
        "retrievedDocuments[0].pageContent;"
      ]
    },
    {
      "cell_type": "markdown",
      "id": "e02b9855",
      "metadata": {},
      "source": [
        "## 直接使用\n",
        "\n",
        "在底层，向量存储和检索器的实现分别通过调用 `embeddings.embedDocument(...)` 和 `embeddings.embedQuery(...)` 方法，为 `fromDocuments` 和检索器的 `invoke` 操作中使用的文本创建嵌入。\n",
        "\n",
        "您可以直接调用这些方法，以根据自己的使用场景获取文本嵌入。\n",
        "\n",
        "### 嵌入单个文本\n",
        "\n",
        "您可以使用 `embedQuery` 对查询进行嵌入，以用于搜索。这将生成特定于该查询的向量表示："
      ]
    },
    {
      "cell_type": "code",
      "execution_count": 1,
      "id": "0d2befcd",
      "metadata": {},
      "outputs": [
        {
          "name": "stdout",
          "output_type": "stream",
          "text": [
            "[\n",
            "   -0.017436018,  -0.01469498,\n",
            "   -0.015685871, -0.013543149,\n",
            "  -0.0011519607, -0.008123747,\n",
            "    0.015286108, -0.023845721,\n",
            "    -0.02454774,   0.07235078\n",
            "]\n"
          ]
        }
      ],
      "source": [
        "    const singleVector = await embeddings.embedQuery(text);\n",
        "    singleVector.slice(0, 10);"
      ]
    },
    {
      "cell_type": "markdown",
      "id": "1b5a7d03",
      "metadata": {},
      "source": [
        "### 嵌入多个文本\n",
        "\n",
        "您可以使用 `embedDocuments` 对多个文本进行索引嵌入。此方法的内部实现可能（但不一定）与嵌入查询的不同："
      ]
    },
    {
      "cell_type": "code",
      "execution_count": 11,
      "id": "2f4d6e97",
      "metadata": {},
      "outputs": [
        {
          "name": "stdout",
          "output_type": "stream",
          "text": [
            "[\n",
            "  -0.017436024, -0.014695002,\n",
            "   -0.01568589, -0.013543164,\n",
            "  -0.001151976, -0.008123703,\n",
            "   0.015286064, -0.023845702,\n",
            "  -0.024547677,   0.07235076\n",
            "]\n",
            "[\n",
            "     0.03278884, -0.017893745,\n",
            "  -0.0027520044,  0.016506646,\n",
            "    0.028271576,  -0.01284331,\n",
            "    0.014344065, -0.007968607,\n",
            "    -0.03899479,  0.039327156\n",
            "]\n"
          ]
        }
      ],
      "source": [
        "\n",
        "\n",
        "    const text2 = \"LangGraph is a library for building stateful, multi-actor applications with LLMs\";\n",
        "\n",
        "    const vectors = await embeddings.embedDocuments([text, text2]);\n",
        "   \n",
        "    console.log(vectors[0].slice(0, 10));\n",
        "    console.log(vectors[1].slice(0, 10));\n"
      ]
    },
    {
      "cell_type": "markdown",
      "id": "8938e581",
      "metadata": {},
      "source": [
        "## API 参考文档\n",
        "\n",
        "如需了解所有 __module_name__ 功能和配置的详细文档，请访问 API 参考文档：__api_ref_module__"
      ]
    }
  ],
  "metadata": {
    "kernelspec": {
      "display_name": "JavaScript (Node.js)",
      "language": "javascript",
      "name": "javascript"
    },
    "language_info": {
      "file_extension": ".js",
      "mimetype": "application/javascript",
      "name": "javascript",
      "version": "20.17.0"
    }
  },
  "nbformat": 4,
  "nbformat_minor": 5
}