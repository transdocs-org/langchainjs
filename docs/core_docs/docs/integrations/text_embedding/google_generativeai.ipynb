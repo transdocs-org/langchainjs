{
  "cells": [
    {
      "cell_type": "raw",
      "id": "afaf8039",
      "metadata": {
        "vscode": {
          "languageId": "raw"
        }
      },
      "source": [
        "---\n",
        "sidebar_label: Google Generative AI\n",
        "---"
      ]
    },
    {
      "cell_type": "markdown",
      "id": "9a3d6f34",
      "metadata": {},
      "source": [
        "# GoogleGenerativeAIEmbeddings\n",
        "\n",
        "这将帮助你使用LangChain开始使用Google Generative AI的[嵌入模型](/docs/concepts/embedding_models)。有关`GoogleGenerativeAIEmbeddings`功能和配置选项的详细文档，请参考[API参考文档](https://api.js.langchain.com/classes/langchain_google_genai.GoogleGenerativeAIEmbeddings.html)。\n",
        "\n",
        "## 概述\n",
        "### 集成详情\n",
        "\n",
        "| 类 | 包 | 本地 | [Python支持](https://python.langchain.com/docs/integrations/text_embedding/google_generative_ai/) | 包下载量 | 最新包 |\n",
        "| :--- | :--- | :---: | :---: |  :---: | :---: |\n",
        "| [`GoogleGenerativeAIEmbeddings`](https://api.js.langchain.com/classes/langchain_google_genai.GoogleGenerativeAIEmbeddings.html) | [`@langchain/google-genai`](https://npmjs.com/@langchain/google-genai) | ❌ | ✅ | ![NPM - 下载量](https://img.shields.io/npm/dm/@langchain/google-genai?style=flat-square&label=%20&) | ![NPM - 版本](https://img.shields.io/npm/v/@langchain/google-genai?style=flat-square&label=%20&) |\n",
        "\n",
        "## 准备工作\n",
        "\n",
        "要访问Google Generative AI的嵌入模型，你需要注册一个Google AI账户，获取一个API密钥，并安装`@langchain/google-genai`集成包。\n",
        "\n",
        "### 凭据\n",
        "\n",
        "在这里获取API密钥：https://ai.google.dev/tutorials/setup。\n",
        "\n",
        "接下来，将你的密钥设置为名为`GOOGLE_API_KEY`的环境变量：\n",
        "\n",
        "```bash\n",
        "export GOOGLE_API_KEY=\"your-api-key\"\n",
        "```\n",
        "\n",
        "如果你想获取模型调用的自动追踪，也可以通过取消注释以下内容来设置你的[LangSmith](https://docs.smith.langchain.com/) API密钥：\n",
        "\n",
        "```bash\n",
        "# export LANGSMITH_TRACING=\"true\"\n",
        "# export LANGSMITH_API_KEY=\"your-api-key\"\n",
        "```\n",
        "\n",
        "### 安装\n",
        "\n",
        "LangChain的`GoogleGenerativeAIEmbeddings`集成位于`@langchain/google-genai`包中。你也可以选择安装官方SDK：\n",
        "\n",
        "```{=mdx}\n",
        "import IntegrationInstallTooltip from \"@mdx_components/integration_install_tooltip.mdx\";\n",
        "import Npm2Yarn from \"@theme/Npm2Yarn\";\n",
        "\n",
        "<IntegrationInstallTooltip></IntegrationInstallTooltip>\n",
        "\n",
        "<Npm2Yarn>\n",
        "  @langchain/google-genai @langchain/core @google/generative-ai\n",
        "</Npm2Yarn>\n",
        "```"
      ]
    },
    {
      "cell_type": "markdown",
      "id": "45dd1724",
      "metadata": {},
      "source": [
        "## 实例化\n",
        "\n",
        "现在我们可以实例化我们的模型对象并嵌入文本："
      ]
    },
    {
      "cell_type": "code",
      "execution_count": 1,
      "id": "9ea7a09b",
      "metadata": {},
      "outputs": [],
      "source": [
        "import { GoogleGenerativeAIEmbeddings } from \"@langchain/google-genai\";\n",
        "import { TaskType } from \"@google/generative-ai\";\n",
        "\n",
        "const embeddings = new GoogleGenerativeAIEmbeddings({\n",
        "  model: \"text-embedding-004\", // 768 dimensions\n",
        "  taskType: TaskType.RETRIEVAL_DOCUMENT,\n",
        "  title: \"Document title\",\n",
        "});"
      ]
    },
    {
      "cell_type": "markdown",
      "id": "77d271b6",
      "metadata": {},
      "source": [
        "## 索引与检索\n",
        "\n",
        "嵌入模型通常用于检索增强生成（RAG）流程中，既用于数据索引，也用于后续的数据检索。有关更详细的说明，请参阅我们位于[使用外部知识教程](/docs/tutorials/#working-with-external-knowledge)下的RAG教程。\n",
        "\n",
        "下方展示了如何使用我们之前初始化的`embeddings`对象进行数据索引和检索。在此示例中，我们将使用演示用的[`MemoryVectorStore`](/docs/integrations/vectorstores/memory)来索引和检索一个示例文档。"
      ]
    },
    {
      "cell_type": "code",
      "execution_count": 2,
      "id": "d817716b",
      "metadata": {},
      "outputs": [
        {
          "name": "stdout",
          "output_type": "stream",
          "text": [
            "LangChain is the framework for building context-aware reasoning applications\n"
          ]
        }
      ],
      "source": [
        "// Create a vector store with a sample text\n",
        "import { MemoryVectorStore } from \"langchain/vectorstores/memory\";\n",
        "\n",
        "const text = \"LangChain is the framework for building context-aware reasoning applications\";\n",
        "\n",
        "const vectorstore = await MemoryVectorStore.fromDocuments(\n",
        "  [{ pageContent: text, metadata: {} }],\n",
        "  embeddings,\n",
        ");\n",
        "\n",
        "// Use the vector store as a retriever that returns a single document\n",
        "const retriever = vectorstore.asRetriever(1);\n",
        "\n",
        "// Retrieve the most similar text\n",
        "const retrievedDocuments = await retriever.invoke(\"What is LangChain?\");\n",
        "\n",
        "retrievedDocuments[0].pageContent;"
      ]
    },
    {
      "cell_type": "markdown",
      "id": "e02b9855",
      "metadata": {},
      "source": [
        "## 直接使用\n",
        "\n",
        "在底层，vectorstore 和 retriever 的实现分别通过调用 `embeddings.embedDocument(...)` 和 `embeddings.embedQuery(...)` 来为 `fromDocuments` 和 retriever 的 `invoke` 操作中使用的文本创建嵌入。\n",
        "\n",
        "您可以直接调用这些方法，以用于您自己的使用场景。\n",
        "\n",
        "### 嵌入单个文本\n",
        "\n",
        "您可以使用 `embedQuery` 对查询进行嵌入，以用于搜索。这将生成针对该查询的向量表示："
      ]
    },
    {
      "cell_type": "code",
      "execution_count": 3,
      "id": "0d2befcd",
      "metadata": {},
      "outputs": [
        {
          "name": "stdout",
          "output_type": "stream",
          "text": [
            "[\n",
            "  -0.018286658,   0.020051053,  -0.057487167,   0.0059406986, -0.0036901247,\n",
            "  -0.010400916,    0.03396853,  -0.010867519,    0.015650319,   0.026443942,\n",
            "   0.012251757,   -0.01581729,    0.02031182, -0.00062176475,  0.0065521155,\n",
            "   -0.07107355,   0.033614952,    0.07109807,   -0.021078493,   0.048039366,\n",
            "   0.022973344,    -0.0361746,   -0.04550704,   -0.048807852,    0.03414146,\n",
            "   0.042450827,    0.02930612,   0.027274853,   -0.027707053,   -0.04167595,\n",
            "    0.01708843,   0.028532283, -0.0018593844,      -0.096786,  -0.034648854,\n",
            "  0.0013152987,   0.024425535,    0.04937838,    0.036890924,  -0.074619934,\n",
            "  -0.028723065,   0.029158255,  -0.023993572,     0.03163398,   -0.02036324,\n",
            "   -0.02333609,  -0.017407075, -0.0059643993,    -0.05564625,   0.051022638,\n",
            "    0.03264913,  -0.008254581,  -0.030552095,    0.072952054,   -0.05448913,\n",
            "   0.012030814,   -0.07978849,  -0.030417662,   0.0038343794,    0.03237516,\n",
            "  -0.054259773,    -0.0524064,   -0.02145499,    0.006439614,    0.04988943,\n",
            "   -0.03232189,    0.00990776,   -0.03863326,    -0.04979561,   0.009874035,\n",
            "   -0.02617946,    0.02135152,  -0.070599854,     0.08655627,   -0.02080979,\n",
            "  -0.014944934,  0.0034440767,  -0.035236854,    0.027093545,   0.032249685,\n",
            "   -0.03559674,   0.046849757,    0.06965356,    0.028780492,    0.02865287,\n",
            "   -0.07999455, -0.0058599655,  -0.050316703,   -0.018346578,  -0.038311094,\n",
            "    0.08026719,   0.049136136,   -0.05372233,  -0.0062247813,    0.01791339,\n",
            "   -0.03635157,  -0.031860247,  -0.031322744,    0.044055287,   0.034934316\n",
            "]\n"
          ]
        }
      ],
      "source": [
        "const singleVector = await embeddings.embedQuery(text);\n",
        "\n",
        "console.log(singleVector.slice(0, 100));"
      ]
    },
    {
      "cell_type": "markdown",
      "id": "1b5a7d03",
      "metadata": {},
      "source": [
        "### 嵌入多个文本\n",
        "\n",
        "您可以使用 `embedDocuments` 对多个文本进行索引嵌入。此方法的内部实现可能（但不一定）与嵌入查询的方式不同："
      ]
    },
    {
      "cell_type": "code",
      "execution_count": 4,
      "id": "2f4d6e97",
      "metadata": {},
      "outputs": [
        {
          "name": "stdout",
          "output_type": "stream",
          "text": [
            "[\n",
            "  -0.018286658,   0.020051053,  -0.057487167,   0.0059406986, -0.0036901247,\n",
            "  -0.010400916,    0.03396853,  -0.010867519,    0.015650319,   0.026443942,\n",
            "   0.012251757,   -0.01581729,    0.02031182, -0.00062176475,  0.0065521155,\n",
            "   -0.07107355,   0.033614952,    0.07109807,   -0.021078493,   0.048039366,\n",
            "   0.022973344,    -0.0361746,   -0.04550704,   -0.048807852,    0.03414146,\n",
            "   0.042450827,    0.02930612,   0.027274853,   -0.027707053,   -0.04167595,\n",
            "    0.01708843,   0.028532283, -0.0018593844,      -0.096786,  -0.034648854,\n",
            "  0.0013152987,   0.024425535,    0.04937838,    0.036890924,  -0.074619934,\n",
            "  -0.028723065,   0.029158255,  -0.023993572,     0.03163398,   -0.02036324,\n",
            "   -0.02333609,  -0.017407075, -0.0059643993,    -0.05564625,   0.051022638,\n",
            "    0.03264913,  -0.008254581,  -0.030552095,    0.072952054,   -0.05448913,\n",
            "   0.012030814,   -0.07978849,  -0.030417662,   0.0038343794,    0.03237516,\n",
            "  -0.054259773,    -0.0524064,   -0.02145499,    0.006439614,    0.04988943,\n",
            "   -0.03232189,    0.00990776,   -0.03863326,    -0.04979561,   0.009874035,\n",
            "   -0.02617946,    0.02135152,  -0.070599854,     0.08655627,   -0.02080979,\n",
            "  -0.014944934,  0.0034440767,  -0.035236854,    0.027093545,   0.032249685,\n",
            "   -0.03559674,   0.046849757,    0.06965356,    0.028780492,    0.02865287,\n",
            "   -0.07999455, -0.0058599655,  -0.050316703,   -0.018346578,  -0.038311094,\n",
            "    0.08026719,   0.049136136,   -0.05372233,  -0.0062247813,    0.01791339,\n",
            "   -0.03635157,  -0.031860247,  -0.031322744,    0.044055287,   0.034934316\n",
            "]\n",
            "[\n",
            "    0.011669316,    0.02170385,   -0.07519182,     0.003981285,\n",
            "   0.0053525288,   0.008397044,   0.036672726,     0.016549919,\n",
            "    0.061946314,    0.06280753,  -0.009199135,     0.014644887,\n",
            "    0.046459496,  0.0122919325,  -0.013300706,    -0.051746193,\n",
            "     -0.0490098,   0.045586824,   -0.05053146,     0.044294067,\n",
            "   -0.012607168, -0.0071777054,  -0.048455723,    -0.075109236,\n",
            "    0.013327612,  -0.025612017,   0.050875787,     0.030091539,\n",
            "   -0.027163379,   -0.05760821,   0.014368641,    0.0044602253,\n",
            "    0.035219245,  -0.033304706,  -0.045474708,    -0.038022216,\n",
            "    0.012366698,   0.028978042,   0.038591366,     -0.10646444,\n",
            "   -0.036803752,   0.018911313,   0.005681761,     0.025365992,\n",
            "   -0.017165288, -0.0048005017,  -0.011460135,    0.0027811683,\n",
            "    -0.04971402, -0.0019232291,    0.02141983,   -0.0013272346,\n",
            "    -0.03337951,   0.030568397,   -0.05704511,     -0.01187748,\n",
            "   -0.025354648,   0.016188234,  -0.022018699,    0.0096449675,\n",
            "   -0.027020318,  -0.038059015,  -0.024455398,     0.021858294,\n",
            "    0.010713859,   -0.07203855,   -0.05562406, 0.0000034690818,\n",
            "   -0.054289237, -0.0027928432, -0.0010051605,     0.008493095,\n",
            "   -0.064746305,   0.024419345,  -0.016629996,     -0.02686531,\n",
            "    -0.02300653,   -0.03263113,   0.019998727,     0.029680967,\n",
            "    -0.04365641,   0.013594972,   0.056486532,     0.025913332,\n",
            "    0.025457978,  -0.048536208,   0.020046104,     -0.05857287,\n",
            "   -0.032664414,  -0.032940287,    0.10053288,    -0.021389635,\n",
            "  -0.0044220444,   0.037026003,    0.03142132,    -0.048912503,\n",
            "    -0.07961264,  -0.051056523,   0.048032805,      0.04831778\n",
            "]\n"
          ]
        }
      ],
      "source": [
        "const text2 = \"LangGraph is a library for building stateful, multi-actor applications with LLMs\";\n",
        "\n",
        "const vectors = await embeddings.embedDocuments([text, text2]);\n",
        "\n",
        "console.log(vectors[0].slice(0, 100));\n",
        "console.log(vectors[1].slice(0, 100));"
      ]
    },
    {
      "cell_type": "markdown",
      "id": "8938e581",
      "metadata": {},
      "source": [
        "## API 参考文档\n",
        "\n",
        "如需详细了解所有 `GoogleGenerativeAIEmbeddings` 的功能和配置，请前往 API 参考文档：https://api.js.langchain.com/classes/langchain_google_genai.GoogleGenerativeAIEmbeddings.html"
      ]
    }
  ],
  "metadata": {
    "kernelspec": {
      "display_name": "TypeScript",
      "language": "typescript",
      "name": "tslab"
    },
    "language_info": {
      "codemirror_mode": {
        "mode": "typescript",
        "name": "javascript",
        "typescript": true
      },
      "file_extension": ".ts",
      "mimetype": "text/typescript",
      "name": "typescript",
      "version": "3.7.2"
    }
  },
  "nbformat": 4,
  "nbformat_minor": 5
}