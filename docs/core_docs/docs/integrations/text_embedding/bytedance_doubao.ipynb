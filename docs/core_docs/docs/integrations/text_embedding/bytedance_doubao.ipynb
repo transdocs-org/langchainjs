{
  "cells": [
    {
      "cell_type": "raw",
      "id": "afaf8039",
      "metadata": {
        "vscode": {
          "languageId": "raw"
        }
      },
      "source": [
        "---\n",
        "sidebar_label: ByteDance Doubao\n",
        "---"
      ]
    },
    {
      "cell_type": "markdown",
      "id": "9a3d6f34",
      "metadata": {},
      "source": [
        "# 字节跳动Doubao嵌入模型\n",
        "\n",
        "这将帮助您使用LangChain开始使用字节跳动Doubao [嵌入模型](/docs/concepts/embedding_models)。有关`ByteDanceDoubaoEmbeddings`功能和配置选项的详细文档，请参阅[API参考](https://api.js.langchain.com/classes/_langchain_community.embeddings_bytedance_doubao.ByteDanceDoubaoEmbeddings.html)。\n",
        "\n",
        "## 概述\n",
        "### 集成详情\n",
        "\n",
        "| 类 | 包 | 本地 | Python支持 | 包下载量 | 包最新版本 |\n",
        "| :--- | :--- | :---: | :---: |  :---: | :---: |\n",
        "| [ByteDanceDoubaoEmbeddings](https://api.js.langchain.com/classes/_langchain_community.embeddings_bytedance_doubao.ByteDanceDoubaoEmbeddings.html) | [@langchain/community](https://api.js.langchain.com/modules/_langchain_community.html) | ❌ | ❌ | ![NPM - 下载量](https://img.shields.io/npm/dm/@langchain/community?style=flat-square&label=%20&) | ![NPM - 版本](https://img.shields.io/npm/v/@langchain/community?style=flat-square&label=%20&) |\n",
        "\n",
        "## 准备\n",
        "\n",
        "您需要注册一个[ARK API密钥](https://console.volcengine.com/ark/region:ark+cn-beijing/apiKey)，并将其设置为名为`ARK_API_KEY`的环境变量。然后，您应该为嵌入模型[创建一个入口点](https://console.volcengine.com/ark/region:ark+cn-beijing/endpoint)，并使用入口点的名称作为`model`。\n",
        "\n",
        "接着，您需要安装 [`@langchain/community`](https://www.npmjs.com/package/@langchain/community) 包。\n",
        "\n",
        "### 凭证\n",
        "\n",
        "如果您希望自动追踪模型调用，也可以取消下面的注释来设置您的 [LangSmith](https://docs.smith.langchain.com/) API 密钥：\n",
        "\n",
        "```bash\n",
        "# export LANGCHAIN_TRACING_V2=\"true\"\n",
        "# export LANGCHAIN_API_KEY=\"your-api-key\"\n",
        "```\n",
        "\n",
        "### 安装\n",
        "\n",
        "LangChain 字节跳动Doubao嵌入模型集成位于 `@langchain/community` 包中：\n",
        "\n",
        "```{=mdx}\n",
        "import IntegrationInstallTooltip from \"@mdx_components/integration_install_tooltip.mdx\";\n",
        "import Npm2Yarn from \"@theme/Npm2Yarn\";\n",
        "\n",
        "<IntegrationInstallTooltip></IntegrationInstallTooltip>\n",
        "\n",
        "<Npm2Yarn>\n",
        "  @langchain/community\n",
        "</Npm2Yarn>\n",
        "```"
      ]
    },
    {
      "cell_type": "markdown",
      "id": "45dd1724",
      "metadata": {},
      "source": [
        "## 实例化\n",
        "\n",
        "现在我们可以实例化我们的模型对象并嵌入文本："
      ]
    },
    {
      "cell_type": "code",
      "execution_count": 1,
      "id": "9ea7a09b",
      "metadata": {},
      "outputs": [],
      "source": [
        "import { ByteDanceDoubaoEmbeddings } from \"@langchain/community/embeddings/bytedance_doubao\";\n",
        "\n",
        "const embeddings = new ByteDanceDoubaoEmbeddings({\n",
        "  model: 'ep-xxx-xxx' // your entrypoint's name\n",
        "});"
      ]
    },
    {
      "cell_type": "markdown",
      "id": "77d271b6",
      "metadata": {},
      "source": [
        "## 索引与检索\n",
        "\n",
        "嵌入模型通常用于检索增强生成（RAG）流程中，既用于数据索引，也用于后续的数据检索。有关更详细的说明，请参阅我们位于[使用外部知识教程](/docs/tutorials/#working-with-external-knowledge)下的RAG教程。\n",
        "\n",
        "下面展示如何使用我们前面初始化的`embeddings`对象进行数据索引和检索。在此示例中，我们将使用演示用的[`MemoryVectorStore`](/docs/integrations/vectorstores/memory)来索引和检索一个示例文档。"
      ]
    },
    {
      "cell_type": "code",
      "execution_count": 2,
      "id": "d817716b",
      "metadata": {},
      "outputs": [
        {
          "name": "stdout",
          "output_type": "stream",
          "text": [
            "LangChain is the framework for building context-aware reasoning applications\n"
          ]
        }
      ],
      "source": [
        "// Create a vector store with a sample text\n",
        "import { MemoryVectorStore } from \"langchain/vectorstores/memory\";\n",
        "\n",
        "const text = \"LangChain is the framework for building context-aware reasoning applications\";\n",
        "\n",
        "const vectorstore = await MemoryVectorStore.fromDocuments(\n",
        "  [{ pageContent: text, metadata: {} }],\n",
        "  embeddings,\n",
        ");\n",
        "\n",
        "// Use the vector store as a retriever that returns a single document\n",
        "const retriever = vectorstore.asRetriever(1);\n",
        "\n",
        "// Retrieve the most similar text\n",
        "const retrievedDocuments = await retriever.invoke(\"What is LangChain?\");\n",
        "\n",
        "retrievedDocuments[0].pageContent;"
      ]
    },
    {
      "cell_type": "markdown",
      "id": "e02b9855",
      "metadata": {},
      "source": [
        "## 直接使用\n",
        "\n",
        "在底层，向量存储和检索器的实现分别通过调用 `embeddings.embedDocument(...)` 和 `embeddings.embedQuery(...)` 来为 `fromDocuments` 和检索器的 `invoke` 操作中使用的文本创建嵌入。\n",
        "\n",
        "您可以直接调用这些方法，以用于您自己的用例。\n",
        "\n",
        "### 嵌入单个文本\n",
        "\n",
        "您可以使用 `embedQuery` 对查询进行嵌入以用于搜索。这将生成特定于该查询的向量表示："
      ]
    },
    {
      "cell_type": "code",
      "execution_count": 3,
      "id": "0d2befcd",
      "metadata": {},
      "outputs": [
        {
          "name": "stdout",
          "output_type": "stream",
          "text": [
            "[\n",
            "   0.026051683,   0.029081265,  -0.040726297,  -0.015116953, -0.010691089,\n",
            "   0.030181013, -0.0065084146,   -0.02079503,   0.013575795,   0.03452527,\n",
            "   0.009578291,   0.007026421,  -0.030110886,   0.013489622,  -0.04294787,\n",
            "   0.011141899,  -0.043768786,   -0.00362867, -0.0081198225,  -0.03426076,\n",
            "   0.010075142,   0.027787417,   -0.09052663,   -0.06039698, -0.009462592,\n",
            "    0.06232288,   0.051121354,   0.011977532,   0.089046724,  0.059000008,\n",
            "   0.031860664,  -0.034242127,   0.020339863,   0.011483523,  -0.05429335,\n",
            "   -0.04963588,    0.03263794,   -0.05581542,   0.013908403, -0.012356067,\n",
            "  -0.007802118,  -0.010027855,    0.00281217,  -0.101886116, -0.079341754,\n",
            "   0.011269771,  0.0035983133,  -0.027667878,   0.032092705, -0.052843474,\n",
            "  -0.045283325,     0.0382421,     0.0193055,   0.011050924,  0.021132186,\n",
            "  -0.037696265,  0.0006107435,  0.0043520257,  -0.028798066,  0.049155913,\n",
            "    0.03590549, -0.0040995986,   0.019772101,  -0.076119535, 0.0031298609,\n",
            "    0.03368174,   0.039398745,  -0.011813277,  -0.019313531, -0.013108803,\n",
            "  -0.044905286,  -0.022326004,   -0.01656178,   -0.06658457,  0.016789088,\n",
            "   0.049952697,   0.006615693,   -0.01694402,  -0.018105473, 0.0049101883,\n",
            "  -0.004966945,   0.049762275,   -0.03556957,  -0.015986584,  -0.03190983,\n",
            "   -0.05336687, -0.0020468342, -0.0016106658,  -0.035291273, -0.029783724,\n",
            "  -0.010153295,   0.052100364,    0.05528949,    0.01379487, -0.024542747,\n",
            "   0.028773975,   0.010087022,   0.030448131,  -0.042391222,  0.016596776\n",
            "]\n"
          ]
        }
      ],
      "source": [
        "const singleVector = await embeddings.embedQuery(text);\n",
        "\n",
        "console.log(singleVector.slice(0, 100));"
      ]
    },
    {
      "cell_type": "markdown",
      "id": "1b5a7d03",
      "metadata": {},
      "source": [
        "### 嵌入多个文本\n",
        "\n",
        "您可以使用 `embedDocuments` 对多个文本进行索引嵌入。此方法的内部实现可能（但不一定）与嵌入查询的方式不同："
      ]
    },
    {
      "cell_type": "code",
      "execution_count": 4,
      "id": "2f4d6e97",
      "metadata": {},
      "outputs": [
        {
          "name": "stdout",
          "output_type": "stream",
          "text": [
            "[\n",
            "   0.026051683,   0.029081265,  -0.040726297,  -0.015116953, -0.010691089,\n",
            "   0.030181013, -0.0065084146,   -0.02079503,   0.013575795,   0.03452527,\n",
            "   0.009578291,   0.007026421,  -0.030110886,   0.013489622,  -0.04294787,\n",
            "   0.011141899,  -0.043768786,   -0.00362867, -0.0081198225,  -0.03426076,\n",
            "   0.010075142,   0.027787417,   -0.09052663,   -0.06039698, -0.009462592,\n",
            "    0.06232288,   0.051121354,   0.011977532,   0.089046724,  0.059000008,\n",
            "   0.031860664,  -0.034242127,   0.020339863,   0.011483523,  -0.05429335,\n",
            "   -0.04963588,    0.03263794,   -0.05581542,   0.013908403, -0.012356067,\n",
            "  -0.007802118,  -0.010027855,    0.00281217,  -0.101886116, -0.079341754,\n",
            "   0.011269771,  0.0035983133,  -0.027667878,   0.032092705, -0.052843474,\n",
            "  -0.045283325,     0.0382421,     0.0193055,   0.011050924,  0.021132186,\n",
            "  -0.037696265,  0.0006107435,  0.0043520257,  -0.028798066,  0.049155913,\n",
            "    0.03590549, -0.0040995986,   0.019772101,  -0.076119535, 0.0031298609,\n",
            "    0.03368174,   0.039398745,  -0.011813277,  -0.019313531, -0.013108803,\n",
            "  -0.044905286,  -0.022326004,   -0.01656178,   -0.06658457,  0.016789088,\n",
            "   0.049952697,   0.006615693,   -0.01694402,  -0.018105473, 0.0049101883,\n",
            "  -0.004966945,   0.049762275,   -0.03556957,  -0.015986584,  -0.03190983,\n",
            "   -0.05336687, -0.0020468342, -0.0016106658,  -0.035291273, -0.029783724,\n",
            "  -0.010153295,   0.052100364,    0.05528949,    0.01379487, -0.024542747,\n",
            "   0.028773975,   0.010087022,   0.030448131,  -0.042391222,  0.016596776\n",
            "]\n",
            "[\n",
            "      0.0558515,   0.028698817,  -0.037476595,  0.0048659276,  -0.019229038,\n",
            "    -0.04713716,  -0.020947812,  -0.017550547,    0.01205507,   0.027693441,\n",
            "   -0.011791304,   0.009862203,   0.019662278,  -0.037511427,  -0.022662448,\n",
            "    0.036224432,  -0.051760387,  -0.030165697,  -0.008899774,  -0.024518963,\n",
            "    0.010077767,   0.032209765,    -0.0854303,  -0.038666975,  -0.036021013,\n",
            "    0.060899545,   0.045867186,   0.003365381,    0.09387081,   0.038216405,\n",
            "    0.011449426,  -0.016495887,   0.020602569,   -0.02368503,  -0.014733645,\n",
            "   -0.065408126, -0.0065152845,  -0.027103946, 0.00038956117,   -0.08648814,\n",
            "    0.029316466,  -0.054449145,   0.034129277,  -0.055225655,  -0.043182302,\n",
            "   0.0011148591,   0.044116337,  -0.046552557,   0.032423045,   -0.03269365,\n",
            "    -0.05062933,   0.021473562,  -0.011019348,  -0.019621233, -0.0003149565,\n",
            "  -0.0046085776,  0.0052610254, -0.0029293327,  -0.035793293,   0.034469575,\n",
            "    0.037724957,   0.009572597,   0.014198464,    -0.0878237,  0.0056973165,\n",
            "    0.023563445,   0.030928325,   0.025520306,    0.01836824,  -0.016456697,\n",
            "   -0.061934732,   0.009764942,  -0.035812028,   -0.04429064,   0.031323086,\n",
            "    0.056027107, -0.0019782048,  -0.015204176,  -0.008684945, -0.0010460864,\n",
            "    0.054642987,   0.044149086,  -0.032964867,  -0.012044753,  -0.019075096,\n",
            "   -0.027932597,   0.018542245,   -0.02602878,   -0.04645578,  -0.020976603,\n",
            "    0.018999187,   0.050663687,   0.016725155,  0.0076955976,   0.011448177,\n",
            "    0.053931057,   -0.03234989,   0.024429373,  -0.023123834,    0.02197912\n",
            "]\n"
          ]
        }
      ],
      "source": [
        "const text2 = \"LangGraph is a library for building stateful, multi-actor applications with LLMs\";\n",
        "\n",
        "const vectors = await embeddings.embedDocuments([text, text2]);\n",
        "\n",
        "console.log(vectors[0].slice(0, 100));\n",
        "console.log(vectors[1].slice(0, 100));"
      ]
    },
    {
      "cell_type": "markdown",
      "id": "b48d41bb",
      "metadata": {},
      "source": [
        "## 相关内容\n",
        "\n",
        "- 嵌入模型 [概念指南](/docs/concepts/embedding_models)\n",
        "- 嵌入模型 [操作指南](/docs/how_to/#embedding-models)"
      ]
    },
    {
      "cell_type": "markdown",
      "id": "eacd89fe",
      "metadata": {},
      "source": [
        "## API 参考文档\n",
        "\n",
        "有关所有 ByteDanceDoubaoEmbeddings 特性和配置的详细文档，请访问 API 参考：https://api.js.langchain.com/classes/_langchain_community.embeddings_bytedance_doubao.ByteDanceDoubaoEmbeddings.html"
      ]
    }
  ],
  "metadata": {
    "kernelspec": {
      "display_name": "TypeScript",
      "language": "typescript",
      "name": "tslab"
    },
    "language_info": {
      "codemirror_mode": {
        "mode": "typescript",
        "name": "javascript",
        "typescript": true
      },
      "file_extension": ".ts",
      "mimetype": "text/typescript",
      "name": "typescript",
      "version": "3.7.2"
    }
  },
  "nbformat": 4,
  "nbformat_minor": 5
}