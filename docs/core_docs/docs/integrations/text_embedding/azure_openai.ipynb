{
  "cells": [
    {
      "cell_type": "raw",
      "id": "afaf8039",
      "metadata": {
        "vscode": {
          "languageId": "raw"
        }
      },
      "source": [
        "---\n",
        "sidebar_label: Azure OpenAI\n",
        "---"
      ]
    },
    {
      "cell_type": "markdown",
      "id": "9a3d6f34",
      "metadata": {},
      "source": [
        "# AzureOpenAIEmbeddings\n",
        "\n",
        "[Azure OpenAI](https://azure.microsoft.com/products/ai-services/openai-service/) 是一项云服务，可帮助您通过 OpenAI、Meta 和其他公司提供的一系列预构建和精选模型，快速开发生成式 AI 体验。\n",
        "\n",
        "LangChain.js 支持使用 [OpenAI SDK](https://github.com/openai/openai-node) 中的新 Azure 集成功能，与 [Azure OpenAI](https://azure.microsoft.com/products/ai-services/openai-service/) 进行集成。\n",
        "\n",
        "您可以在[此页面](https://learn.microsoft.com/azure/ai-services/openai/overview)了解更多有关 Azure OpenAI 及其与 OpenAI API 区别的信息。如果您还没有 Azure 帐户，可以[创建一个免费帐户](https://azure.microsoft.com/free/)来开始使用。\n",
        "\n",
        "这将帮助您使用 LangChain 开始使用 AzureOpenAIEmbeddings [嵌入模型](/docs/concepts/embedding_models)。有关 `AzureOpenAIEmbeddings` 功能和配置选项的详细文档，请参阅 [API 参考文档](https://api.js.langchain.com/classes/langchain_openai.AzureOpenAIEmbeddings.html)。\n",
        "\n",
        "\n",
        "```{=mdx}\n",
        "\n",
        ":::info\n",
        "\n",
        "以前，LangChain.js 支持通过专用的 [Azure OpenAI SDK](https://github.com/Azure/azure-sdk-for-js/tree/main/sdk/openai/openai) 与 Azure OpenAI 集成。此 SDK 现已被弃用，取而代之的是 OpenAI SDK 中的新 Azure 集成，它允许在最新 OpenAI 模型和功能发布当天即可访问，并可在 OpenAI API 和 Azure OpenAI 之间无缝切换。\n",
        "\n",
        "如果您正在使用已弃用的 SDK 与 Azure OpenAI 集成，请参阅[迁移指南](#migration-from-azure-openai-sdk)以更新到新 API。\n",
        "\n",
        ":::\n",
        "\n",
        "```\n",
        "\n",
        "## 概述\n",
        "### 集成详情\n",
        "\n",
        "| 类 | 包 | 本地支持 | [Python 支持](https://python.langchain.com/docs/integrations/text_embedding/azureopenai/) | 包下载量 | 最新版本 |\n",
        "| :--- | :--- | :---: | :---: |  :---: | :---: |\n",
        "| [AzureOpenAIEmbeddings](https://api.js.langchain.com/classes/langchain_openai.AzureOpenAIEmbeddings.html) | [@langchain/openai](https://api.js.langchain.com/modules/langchain_openai.html) | ❌ | ✅ | ![NPM - 下载量](https://img.shields.io/npm/dm/@langchain/openai?style=flat-square&label=%20&) | ![NPM - 版本](https://img.shields.io/npm/v/@langchain/openai?style=flat-square&label=%20&) |\n",
        "\n",
        "## 准备工作\n",
        "\n",
        "要访问 Azure OpenAI 嵌入模型，您需要创建一个 Azure 帐户，获取一个 API 密钥，并安装 `@langchain/openai` 集成包。\n",
        "\n",
        "### 凭据\n",
        "\n",
        "您需要部署一个 Azure OpenAI 实例。您可以按照 [此指南](https://learn.microsoft.com/azure/ai-services/openai/how-to/create-resource?pivots=web-portal) 在 Azure 门户中部署一个实例。\n",
        "\n",
        "一旦您的实例运行起来，请确保您拥有实例的名称和密钥。您可以在 Azure 门户中实例的 \"密钥和终结点\" 部分下找到密钥。\n",
        "\n",
        "如果您使用的是 Node.js，您可以定义以下环境变量以使用该服务：\n",
        "\n",
        "```bash\n",
        "AZURE_OPENAI_API_INSTANCE_NAME=<YOUR_INSTANCE_NAME>\n",
        "AZURE_OPENAI_API_EMBEDDINGS_DEPLOYMENT_NAME=<YOUR_EMBEDDINGS_DEPLOYMENT_NAME>\n",
        "AZURE_OPENAI_API_KEY=<YOUR_KEY>\n",
        "AZURE_OPENAI_API_VERSION=\"2024-02-01\"\n",
        "```\n",
        "\n",
        "如果您希望自动追踪您的模型调用，还可以取消以下 [LangSmith](https://docs.smith.langchain.com/) API 密钥的注释：\n",
        "\n",
        "```bash\n",
        "# export LANGSMITH_TRACING=\"true\"\n",
        "# export LANGSMITH_API_KEY=\"your-api-key\"\n",
        "```\n",
        "\n",
        "### 安装\n",
        "\n",
        "LangChain AzureOpenAIEmbeddings 集成位于 `@langchain/openai` 包中：\n",
        "\n",
        "```{=mdx}\n",
        "import IntegrationInstallTooltip from \"@mdx_components/integration_install_tooltip.mdx\";\n",
        "import Npm2Yarn from \"@theme/Npm2Yarn\";\n",
        "\n",
        "<IntegrationInstallTooltip></IntegrationInstallTooltip>\n",
        "\n",
        "<Npm2Yarn>\n",
        "  @langchain/openai @langchain/core\n",
        "</Npm2Yarn>\n",
        "\n",
        ":::info\n",
        "\n",
        "您可以在 [Azure OpenAI 文档](https://learn.microsoft.com/azure/ai-services/openai/reference) 中找到支持的 API 版本列表。\n",
        "\n",
        ":::\n",
        "\n",
        ":::tip\n",
        "\n",
        "如果未定义 `AZURE_OPENAI_API_EMBEDDINGS_DEPLOYMENT_NAME`，则会回退到 `AZURE_OPENAI_API_DEPLOYMENT_NAME` 的值作为部署名称。对于 `AzureOpenAIEmbeddings` 构造函数中的 `azureOpenAIApiEmbeddingsDeploymentName` 参数，如果未定义，也会回退到 `azureOpenAIApiDeploymentName` 的值。\n",
        "\n",
        ":::\n",
        "\n",
        "```"
      ]
    },
    {
      "cell_type": "markdown",
      "id": "45dd1724",
      "metadata": {},
      "source": [
        "## 实例化\n",
        "\n",
        "现在我们可以实例化我们的模型对象并嵌入文本："
      ]
    },
    {
      "cell_type": "code",
      "execution_count": 1,
      "id": "9ea7a09b",
      "metadata": {},
      "outputs": [],
      "source": [
        "import { AzureOpenAIEmbeddings } from \"@langchain/openai\";\n",
        "\n",
        "const embeddings = new AzureOpenAIEmbeddings({\n",
        "  azureOpenAIApiKey: \"<your_key>\", // In Node.js defaults to process.env.AZURE_OPENAI_API_KEY\n",
        "  azureOpenAIApiInstanceName: \"<your_instance_name>\", // In Node.js defaults to process.env.AZURE_OPENAI_API_INSTANCE_NAME\n",
        "  azureOpenAIApiEmbeddingsDeploymentName: \"<your_embeddings_deployment_name>\", // In Node.js defaults to process.env.AZURE_OPENAI_API_EMBEDDINGS_DEPLOYMENT_NAME\n",
        "  azureOpenAIApiVersion: \"<api_version>\", // In Node.js defaults to process.env.AZURE_OPENAI_API_VERSION\n",
        "  maxRetries: 1,\n",
        "});"
      ]
    },
    {
      "cell_type": "markdown",
      "id": "77d271b6",
      "metadata": {},
      "source": [
        "## 索引与检索\n",
        "\n",
        "嵌入模型通常用于检索增强生成（RAG）流程中，既用于数据索引，也用于后续的数据检索。有关更详细的说明，请参阅我们位于[使用外部知识教程](/docs/tutorials/#working-with-external-knowledge)下的 RAG 教程。\n",
        "\n",
        "下面展示如何使用我们前面初始化的 `embeddings` 对象进行数据索引和检索。在此示例中，我们将使用演示版 [`MemoryVectorStore`](/docs/integrations/vectorstores/memory) 来索引和检索一个示例文档。"
      ]
    },
    {
      "cell_type": "code",
      "execution_count": 2,
      "id": "d817716b",
      "metadata": {},
      "outputs": [
        {
          "name": "stdout",
          "output_type": "stream",
          "text": [
            "LangChain is the framework for building context-aware reasoning applications\n"
          ]
        }
      ],
      "source": [
        "// Create a vector store with a sample text\n",
        "import { MemoryVectorStore } from \"langchain/vectorstores/memory\";\n",
        "\n",
        "const text = \"LangChain is the framework for building context-aware reasoning applications\";\n",
        "\n",
        "const vectorstore = await MemoryVectorStore.fromDocuments(\n",
        "  [{ pageContent: text, metadata: {} }],\n",
        "  embeddings,\n",
        ");\n",
        "\n",
        "// Use the vector store as a retriever that returns a single document\n",
        "const retriever = vectorstore.asRetriever(1);\n",
        "\n",
        "// Retrieve the most similar text\n",
        "const retrievedDocuments = await retriever.invoke(\"What is LangChain?\");\n",
        "\n",
        "retrievedDocuments[0].pageContent;"
      ]
    },
    {
      "cell_type": "markdown",
      "id": "e02b9855",
      "metadata": {},
      "source": [
        "## 直接使用\n",
        "\n",
        "在底层，向量存储和检索器的实现分别通过调用 `embeddings.embedDocument(...)` 和 `embeddings.embedQuery(...)` 来为其在 `fromDocuments` 和检索器的 `invoke` 操作中使用的文本创建嵌入。\n",
        "\n",
        "您可以直接调用这些方法，以用于您自己的使用场景。\n",
        "\n",
        "### 嵌入单个文本\n",
        "\n",
        "您可以使用 `embedQuery` 对查询进行嵌入以用于搜索。这将生成一个专门针对该查询的向量表示："
      ]
    },
    {
      "cell_type": "code",
      "execution_count": 3,
      "id": "0d2befcd",
      "metadata": {},
      "outputs": [
        {
          "name": "stdout",
          "output_type": "stream",
          "text": [
            "[\n",
            "   -0.024253517, -0.0054218727,   0.048715446,   0.020580322,    0.03180832,\n",
            "   0.0028770117,  -0.012367731,   0.037383243,  -0.054915592,   0.032225136,\n",
            "     0.00825818,  -0.023888804,   -0.01184671,   0.012257014,   0.016294925,\n",
            "    0.009254632,  0.0051353113,  -0.008889917,   0.016855022,    0.04207243,\n",
            "  0.00082589936,  -0.011664353,    0.00818654,   0.029020859,  -0.012335167,\n",
            "   -0.019603407,  0.0013945447,    0.05538451,  -0.011625277,  -0.008153976,\n",
            "    0.038607642,   -0.03811267, -0.0074440846,   0.047647353,   -0.00927417,\n",
            "    0.024201415, -0.0069230637,  -0.008538228,   0.003910912,   0.052805457,\n",
            "   -0.023159374,  0.0014352495,  -0.038659744,   0.017141584,   0.005587948,\n",
            "    0.007971618,  -0.016920151,    0.06658646, -0.0016916894,   0.045667473,\n",
            "   -0.042202685,   -0.03983204,   -0.04160351,  -0.011729481,  -0.055905532,\n",
            "    0.012543576,  0.0038848612,   0.007919516,   0.010915386,  0.0033117384,\n",
            "   -0.007548289,  -0.030427614,  -0.041890074,   0.036002535,  -0.023771575,\n",
            "   -0.008792226,  -0.049444873,   0.016490309, -0.0060568666,   0.040196754,\n",
            "    0.014106638,  -0.014575557, -0.0017356506,  -0.011234511,  -0.012517525,\n",
            "    0.008362384,    0.01253055,   0.036158845,   0.008297256, -0.0010908874,\n",
            "   -0.014888169,  -0.020489143,   0.018965157,  -0.057937514, -0.0037122732,\n",
            "    0.004402626,   -0.00840146,   0.042984217,   -0.04936672,   -0.03714878,\n",
            "    0.004969236,    0.03707063,   0.015396165,   -0.02055427,    0.01988997,\n",
            "    0.030219207,  -0.021257648,    0.01340326,   0.003692735,   0.012595678\n",
            "]\n"
          ]
        }
      ],
      "source": [
        "const singleVector = await embeddings.embedQuery(text);\n",
        "\n",
        "console.log(singleVector.slice(0, 100));"
      ]
    },
    {
      "cell_type": "markdown",
      "id": "1b5a7d03",
      "metadata": {},
      "source": [
        "### 嵌入多个文本\n",
        "\n",
        "您可以使用 `embedDocuments` 对多个文本进行索引嵌入。此方法的内部实现可能（但不一定）与嵌入查询的方式不同："
      ]
    },
    {
      "cell_type": "code",
      "execution_count": 4,
      "id": "2f4d6e97",
      "metadata": {},
      "outputs": [
        {
          "name": "stdout",
          "output_type": "stream",
          "text": [
            "[\n",
            "   -0.024253517, -0.0054218727,   0.048715446,   0.020580322,    0.03180832,\n",
            "   0.0028770117,  -0.012367731,   0.037383243,  -0.054915592,   0.032225136,\n",
            "     0.00825818,  -0.023888804,   -0.01184671,   0.012257014,   0.016294925,\n",
            "    0.009254632,  0.0051353113,  -0.008889917,   0.016855022,    0.04207243,\n",
            "  0.00082589936,  -0.011664353,    0.00818654,   0.029020859,  -0.012335167,\n",
            "   -0.019603407,  0.0013945447,    0.05538451,  -0.011625277,  -0.008153976,\n",
            "    0.038607642,   -0.03811267, -0.0074440846,   0.047647353,   -0.00927417,\n",
            "    0.024201415, -0.0069230637,  -0.008538228,   0.003910912,   0.052805457,\n",
            "   -0.023159374,  0.0014352495,  -0.038659744,   0.017141584,   0.005587948,\n",
            "    0.007971618,  -0.016920151,    0.06658646, -0.0016916894,   0.045667473,\n",
            "   -0.042202685,   -0.03983204,   -0.04160351,  -0.011729481,  -0.055905532,\n",
            "    0.012543576,  0.0038848612,   0.007919516,   0.010915386,  0.0033117384,\n",
            "   -0.007548289,  -0.030427614,  -0.041890074,   0.036002535,  -0.023771575,\n",
            "   -0.008792226,  -0.049444873,   0.016490309, -0.0060568666,   0.040196754,\n",
            "    0.014106638,  -0.014575557, -0.0017356506,  -0.011234511,  -0.012517525,\n",
            "    0.008362384,    0.01253055,   0.036158845,   0.008297256, -0.0010908874,\n",
            "   -0.014888169,  -0.020489143,   0.018965157,  -0.057937514, -0.0037122732,\n",
            "    0.004402626,   -0.00840146,   0.042984217,   -0.04936672,   -0.03714878,\n",
            "    0.004969236,    0.03707063,   0.015396165,   -0.02055427,    0.01988997,\n",
            "    0.030219207,  -0.021257648,    0.01340326,   0.003692735,   0.012595678\n",
            "]\n",
            "[\n",
            "   -0.033366997,   0.010419146,  0.0118083665,  -0.040441725, 0.0020355924,\n",
            "   -0.015808804,  -0.023629595, -0.0066180876,  -0.040004376,  0.020053642,\n",
            "  -0.0010797002,   -0.03900105,  -0.009956073,  0.0027896944,  0.003305828,\n",
            "   -0.034010153,   0.009833873,  0.0061164247,   0.022536227,  0.029147884,\n",
            "    0.017789727,    0.03182342,   0.010869357,   0.031849146, -0.028093107,\n",
            "    0.008283865, -0.0145610785,    0.01645196,  -0.029430874,  -0.02508313,\n",
            "    0.046178687,   -0.01722375,  -0.010046115,   0.013101112, 0.0044538635,\n",
            "     0.02197025,    0.03985002,   0.007955855,  0.0008819293,  0.012657333,\n",
            "    0.014368132,  -0.014007963,   -0.03722594,   0.031617608, -0.011570398,\n",
            "    0.039052505,  0.0020018267,   0.023706773, -0.0046950476,  0.056083307,\n",
            "    -0.08412496,  -0.043425974,  -0.015512952,   0.015950298,  -0.03624834,\n",
            "  -0.0053317733,  -0.037251666,  0.0046339477,    0.04193385,  0.023475237,\n",
            "   -0.021378545,   0.013699248,  -0.026009277,   0.050757967,   -0.0494202,\n",
            "   0.0007874656,   -0.07208506,   0.015885983,  -0.003259199,  0.015127057,\n",
            "   0.0068946453,  -0.035373647,  -0.005875241, -0.0032238255,  -0.04185667,\n",
            "   -0.022047428,  0.0014326327, -0.0070940237, -0.0027864785, -0.016271876,\n",
            "    0.005097021,   0.034473225,   0.012361481,  -0.026498076, 0.0067274245,\n",
            "   -0.026330855,  -0.006132504,   0.008180959,  -0.049368747, -0.032337945,\n",
            "    0.011049441,    0.00186194,  -0.012097787,    0.01930758,   0.07059293,\n",
            "    0.029713862,    0.04337452, -0.0048461896,  -0.019976463,  0.011473924\n",
            "]\n"
          ]
        }
      ],
      "source": [
        "const text2 = \"LangGraph is a library for building stateful, multi-actor applications with LLMs\";\n",
        "\n",
        "const vectors = await embeddings.embedDocuments([text, text2]);\n",
        "\n",
        "console.log(vectors[0].slice(0, 100));\n",
        "console.log(vectors[1].slice(0, 100));"
      ]
    },
    {
      "cell_type": "markdown",
      "id": "2d918b72",
      "metadata": {},
      "source": [
        "## 使用 Azure 托管标识\n",
        "\n",
        "如果你正在使用 Azure 托管标识，可以按如下方式配置凭据："
      ]
    },
    {
      "cell_type": "code",
      "execution_count": null,
      "id": "29ccc1e1",
      "metadata": {},
      "outputs": [],
      "source": [
        "import {\n",
        "  DefaultAzureCredential,\n",
        "  getBearerTokenProvider,\n",
        "} from \"@azure/identity\";\n",
        "import { AzureOpenAIEmbeddings } from \"@langchain/openai\";\n",
        "\n",
        "const credentials = new DefaultAzureCredential();\n",
        "const azureADTokenProvider = getBearerTokenProvider(\n",
        "  credentials,\n",
        "  \"https://cognitiveservices.azure.com/.default\"\n",
        ");\n",
        "\n",
        "const modelWithManagedIdentity = new AzureOpenAIEmbeddings({\n",
        "  azureADTokenProvider,\n",
        "  azureOpenAIApiInstanceName: \"<your_instance_name>\",\n",
        "  azureOpenAIApiEmbeddingsDeploymentName: \"<your_embeddings_deployment_name>\",\n",
        "  azureOpenAIApiVersion: \"<api_version>\",\n",
        "});\n"
      ]
    },
    {
      "cell_type": "markdown",
      "id": "1909f724",
      "metadata": {},
      "source": [
        "## 使用不同的域名\n",
        "\n",
        "如果你的实例托管在非默认的 `openai.azure.com` 域名下，则需要使用替代的环境变量 `AZURE_OPENAI_BASE_PATH`。\n",
        "例如，以下是如何连接到域名 `https://westeurope.api.microsoft.com/openai/deployments/{DEPLOYMENT_NAME}` 的示例："
      ]
    },
    {
      "cell_type": "code",
      "execution_count": null,
      "id": "b4b16f32",
      "metadata": {},
      "outputs": [],
      "source": [
        "import { AzureOpenAIEmbeddings } from \"@langchain/openai\";\n",
        "\n",
        "const embeddingsDifferentDomain = new AzureOpenAIEmbeddings({\n",
        "  azureOpenAIApiKey: \"<your_key>\", // In Node.js defaults to process.env.AZURE_OPENAI_API_KEY\n",
        "  azureOpenAIApiEmbeddingsDeploymentName: \"<your_embedding_deployment_name>\", // In Node.js defaults to process.env.AZURE_OPENAI_API_EMBEDDINGS_DEPLOYMENT_NAME\n",
        "  azureOpenAIApiVersion: \"<api_version>\", // In Node.js defaults to process.env.AZURE_OPENAI_API_VERSION\n",
        "  azureOpenAIBasePath:\n",
        "    \"https://westeurope.api.microsoft.com/openai/deployments\", // In Node.js defaults to process.env.AZURE_OPENAI_BASE_PATH\n",
        "});\n"
      ]
    },
    {
      "cell_type": "markdown",
      "id": "77960c17",
      "metadata": {},
      "source": [
        "## 自定义头部",
        "\n",
        "您可以通过传入 `configuration` 字段来指定自定义头部："
      ]
    },
    {
      "cell_type": "code",
      "execution_count": null,
      "id": "a7aad2a2",
      "metadata": {},
      "outputs": [],
      "source": [
        "import { AzureOpenAIEmbeddings } from \"@langchain/openai\";\n",
        "\n",
        "const embeddingsWithCustomHeaders = new AzureOpenAIEmbeddings({\n",
        "  azureOpenAIApiKey: \"<your_key>\",\n",
        "  azureOpenAIApiInstanceName: \"<your_instance_name>\",\n",
        "  azureOpenAIApiEmbeddingsDeploymentName: \"<your_embeddings_deployment_name>\",\n",
        "  azureOpenAIApiVersion: \"<api_version>\",\n",
        "  configuration: {\n",
        "    defaultHeaders: {\n",
        "      \"x-custom-header\": `SOME_VALUE`,\n",
        "    },\n",
        "  },\n",
        "});"
      ]
    },
    {
      "cell_type": "markdown",
      "id": "225e191b",
      "metadata": {},
      "source": [
        "`configuration` 字段还接受官方 SDK 接受的其他 `ClientOptions` 参数。\n",
        "\n",
        "**注意：** 目前无法通过此方式重写特定标头 `api-key`，它将传递 `azureOpenAIApiKey` 中的值。"
      ]
    },
    {
      "cell_type": "markdown",
      "id": "7b2e885a",
      "metadata": {},
      "source": [
        "## 从 Azure OpenAI SDK 迁移\n",
        "\n",
        "如果您正在使用已弃用的 Azure OpenAI SDK 和 `@langchain/azure-openai` 包，您可以通过以下步骤将代码更新为使用新的 Azure 集成：\n",
        "\n",
        "1. 安装新的 `@langchain/openai` 包，并移除之前的 `@langchain/azure-openai` 包：\n",
        "   ```bash npm2yarn\n",
        "   npm install @langchain/openai\n",
        "   npm uninstall @langchain/azure-openai\n",
        "   ```\n",
        "2. 更新您的导入语句，使用 `@langchain/openai` 包中的新 `AzureOpenAIEmbeddings` 类：\n",
        "   ```typescript\n",
        "   import { AzureOpenAIEmbeddings } from \"@langchain/openai\";\n",
        "   ```\n",
        "3. 更新您的代码以使用新的 `AzureOpenAIEmbeddings` 类并传入所需的参数：\n",
        "\n",
        "   ```typescript\n",
        "   const model = new AzureOpenAIEmbeddings({\n",
        "     azureOpenAIApiKey: \"<your_key>\",\n",
        "     azureOpenAIApiInstanceName: \"<your_instance_name>\",\n",
        "     azureOpenAIApiEmbeddingsDeploymentName:\n",
        "       \"<your_embeddings_deployment_name>\",\n",
        "     azureOpenAIApiVersion: \"<api_version>\",\n",
        "   });\n",
        "   ```\n",
        "\n",
        "   请注意，现在构造函数需要 `azureOpenAIApiInstanceName` 参数而不是 `azureOpenAIEndpoint` 参数，并新增了 `azureOpenAIApiVersion` 参数用于指定 API 版本。\n",
        "\n",
        "   - 如果您之前使用的是 Azure 托管身份，现在需要改用构造函数中的 `azureADTokenProvider` 参数代替 `credentials`，更多细节请参见 [Azure 托管身份](#using-azure-managed-identity) 部分。\n",
        "\n",
        "   - 如果您之前使用的是环境变量，现在需要设置 `AZURE_OPENAI_API_INSTANCE_NAME` 环境变量代替 `AZURE_OPENAI_API_ENDPOINT`，并新增 `AZURE_OPENAI_API_VERSION` 环境变量来指定 API 版本。\n"
      ]
    },
    {
      "cell_type": "markdown",
      "id": "8938e581",
      "metadata": {},
      "source": [
        "## API 参考文档\n",
        "\n",
        "有关 AzureOpenAIEmbeddings 所有功能和配置的详细文档，请访问 API 参考页面: https://api.js.langchain.com/classes/langchain_openai.AzureOpenAIEmbeddings.html"
      ]
    }
  ],
  "metadata": {
    "kernelspec": {
      "display_name": "TypeScript",
      "language": "typescript",
      "name": "tslab"
    },
    "language_info": {
      "codemirror_mode": {
        "mode": "typescript",
        "name": "javascript",
        "typescript": true
      },
      "file_extension": ".ts",
      "mimetype": "text/typescript",
      "name": "typescript",
      "version": "3.7.2"
    }
  },
  "nbformat": 4,
  "nbformat_minor": 5
}