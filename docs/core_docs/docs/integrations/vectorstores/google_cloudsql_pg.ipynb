{
  "cells": [
    {
      "cell_type": "markdown",
      "metadata": {},
      "source": [
        "# Google Cloud SQL for PostgreSQL\n",
        "\n",
        "[Cloud SQL](https://cloud.google.com/sql) 是一项完全托管的关系型数据库服务，提供高性能、无缝集成以及出色的可扩展性，并支持 PostgreSQL 等数据库引擎。\n",
        "\n",
        "本指南简要介绍了如何使用适用于 PostgreSQL 的 Cloud SQL 通过 `PostgresVectorStore` 类来存储向量嵌入。\n"
      ]
    },
    {
      "cell_type": "markdown",
      "metadata": {},
      "source": [
        "## 概览\n",
        "\n",
        "### 集成详情\n",
        "\n",
        "| 类名               | 包名                                    | [Python 支持](https://python.langchain.com/docs/integrations/vectorstores/google_cloud_sql_pg/) | 包最新版本 |\n",
        "| :------------------ | :----------------------------------------- | :--------------------------------------------------------------------------------------------: | :------------: |\n",
        "| PostgresVectorStore | [`@langchain/google-cloud-sql-pg`](https://www.npmjs.com/package/@langchain/google-cloud-sql-pg) |                                               ✅                                               |     0.0.1      |\n"
      ]
    },
    {
      "cell_type": "markdown",
      "metadata": {},
      "source": [
        "### 开始之前\n",
        "\n",
        "为了使用此软件包，您首先需要完成以下步骤：\n",
        "\n",
        "1.  [选择或创建一个云平台项目。](https://developers.google.com/workspace/guides/create-project)\n",
        "2.  [为您的项目启用结算功能。](https://cloud.google.com/billing/docs/how-to/modify-project#enable_billing_for_a_project)\n",
        "3.  [启用 Cloud SQL 管理 API。](https://console.cloud.google.com/flows/enableapi?apiid=sqladmin.googleapis.com)\n",
        "4.  [设置身份验证。](https://cloud.google.com/docs/authentication)\n",
        "5.  [创建一个 CloudSQL 实例](https://cloud.google.com/sql/docs/postgres/connect-instance-auth-proxy#create-instance)\n",
        "6.  [创建一个 CloudSQL 数据库](https://cloud.google.com/sql/docs/postgres/create-manage-databases)\n",
        "7.  [向数据库添加用户](https://cloud.google.com/sql/docs/postgres/create-manage-users)\n"
      ]
    },
    {
      "cell_type": "markdown",
      "metadata": {},
      "source": [
        "### 身份验证\n",
        "\n",
        "使用 ```gcloud auth login``` 命令对您的 Google Cloud 帐户进行本地身份验证。\n",
        "\n",
        "### 设置您的 Google Cloud 项目\n",
        "\n",
        "将您的 Google Cloud 项目 ID 设置为在本地使用 Google Cloud 资源："
      ]
    },
    {
      "cell_type": "code",
      "execution_count": null,
      "metadata": {
        "vscode": {
          "languageId": "shellscript"
        }
      },
      "outputs": [],
      "source": [
        "gcloud config set project YOUR-PROJECT-ID"
      ]
    },
    {
      "cell_type": "markdown",
      "metadata": {},
      "source": [
        "如果不知道项目 ID，请尝试以下方法：\n",
        "*   运行 `gcloud config list`。\n",
        "*   运行 `gcloud projects list`。\n",
        "*   查看支持页面：[查找项目 ID](https://support.google.com/googleapi/answer/7014113)。"
      ]
    },
    {
      "cell_type": "markdown",
      "metadata": {},
      "source": [
        "## 设置 PostgresVectorStore 实例\n",
        "\n",
        "要使用 PostgresVectorStore 库，你需要安装 `@langchain/google-cloud-sql-pg` 包，然后按照以下步骤操作。\n",
        "\n",
        "首先，你需要登录到你的 Google Cloud 账户，并根据你的 Google Cloud 项目设置以下环境变量；这些变量将根据你希望如何配置（fromInstance、fromEngine、fromEngineArgs）你的 PostgresEngine 实例而定义：\n"
      ]
    },
    {
      "cell_type": "code",
      "execution_count": null,
      "metadata": {
        "vscode": {
          "languageId": "bat"
        }
      },
      "outputs": [],
      "source": [
        "PROJECT_ID=\"your-project-id\"\n",
        "REGION=\"your-project-region\" // example: \"us-central1\"\n",
        "INSTANCE_NAME=\"your-instance\"\n",
        "DB_NAME=\"your-database-name\"\n",
        "DB_USER=\"your-database-user\"\n",
        "PASSWORD=\"your-database-password\""
      ]
    },
    {
      "cell_type": "markdown",
      "metadata": {},
      "source": [
        "### 设置实例\n",
        "\n",
        "要实例化 PostgresVectorStore，首先需要通过 PostgresEngine 创建数据库连接，然后初始化向量存储表，最后调用 `.initialize()` 方法来实例化向量存储。\n"
      ]
    },
    {
      "cell_type": "code",
      "execution_count": null,
      "metadata": {
        "vscode": {
          "languageId": "typescript"
        }
      },
      "outputs": [],
      "source": [
        "import {\n",
        "  Column,\n",
        "  PostgresEngine,\n",
        "  PostgresEngineArgs,\n",
        "  PostgresVectorStore,\n",
        "  PostgresVectorStoreArgs,\n",
        "  VectorStoreTableArgs,\n",
        "} from \"@langchain/google-cloud-sql-pg\";\n",
        "import { SyntheticEmbeddings } from \"@langchain/core/utils/testing\"; // This is used as an Embedding service\n",
        "import * as dotenv from \"dotenv\";\n",
        "\n",
        "dotenv.config();\n",
        "\n",
        "const peArgs: PostgresEngineArgs = {\n",
        "  user: process.env.DB_USER ?? \"\",\n",
        "  password: process.env.PASSWORD ?? \"\",\n",
        "};\n",
        "\n",
        "// PostgresEngine instantiation\n",
        "const engine: PostgresEngine = await PostgresEngine.fromInstance(\n",
        "  process.env.PROJECT_ID ?? \"\",\n",
        "  process.env.REGION ?? \"\",\n",
        "  process.env.INSTANCE_NAME ?? \"\",\n",
        "  process.env.DB_NAME ?? \"\",\n",
        "  peArgs\n",
        ");\n",
        "\n",
        "const vectorStoreArgs: VectorStoreTableArgs = {\n",
        "  metadataColumns: [new Column(\"page\", \"TEXT\"), new Column(\"source\", \"TEXT\")],\n",
        "};\n",
        "\n",
        "// Vector store table initilization\n",
        "await engine.initVectorstoreTable(\"my_vector_store_table\", 768, vectorStoreArgs);\n",
        "const embeddingService = new SyntheticEmbeddings({ vectorSize: 768 });\n",
        "\n",
        "const pvectorArgs: PostgresVectorStoreArgs = {\n",
        "  metadataColumns: [\"page\", \"source\"],\n",
        "};\n",
        "\n",
        "// PostgresVectorStore instantiation\n",
        "const vectorStore = await PostgresVectorStore.initialize(\n",
        "  engine,\n",
        "  embeddingService,\n",
        "  \"my_vector_store_table\",\n",
        "  pvectorArgs\n",
        ");\n"
      ]
    },
    {
      "cell_type": "markdown",
      "metadata": {},
      "source": [
        "## 管理向量存储\n",
        "\n",
        "### 向向量存储中添加文档\n",
        "\n",
        "要将文档添加到向量存储中，可以选择传递或不传递ID来实现\n"
      ]
    },
    {
      "cell_type": "code",
      "execution_count": null,
      "metadata": {
        "vscode": {
          "languageId": "typescript"
        }
      },
      "outputs": [],
      "source": [
        "import { v4 as uuidv4 } from \"uuid\";\n",
        "import type { Document } from \"@langchain/core/documents\";\n",
        "\n",
        "const document1: Document = {\n",
        "  pageContent: \"The powerhouse of the cell is the mitochondria\",\n",
        "  metadata: { page: 0, source: \"https://example.com\" },\n",
        "};\n",
        "\n",
        "const document2: Document = {\n",
        "  pageContent: \"Buildings are made out of brick\",\n",
        "  metadata: { page: 1, source: \"https://example.com\" },\n",
        "};\n",
        "\n",
        "const document3: Document = {\n",
        "  pageContent: \"Mitochondria are made out of lipids\",\n",
        "  metadata: { page: 2, source: \"https://example.com\" },\n",
        "};\n",
        "\n",
        "const document4: Document = {\n",
        "  pageContent: \"The 2024 Olympics are in Paris\",\n",
        "  metadata: { page: 3, source: \"https://example.com\" },\n",
        "};\n",
        "\n",
        "const documents = [document1, document2, document3, document4];\n",
        "\n",
        "const ids = [uuidv4(), uuidv4(), uuidv4(), uuidv4()];\n",
        "\n",
        "await vectorStore.addDocuments(documents, { ids: ids });\n"
      ]
    },
    {
      "cell_type": "markdown",
      "metadata": {},
      "source": [
        "### 从向量存储中删除文档\n",
        "\n",
        "您可以通过传入要删除的ID数组，从向量存储中删除一个或多个文档：\n"
      ]
    },
    {
      "cell_type": "code",
      "execution_count": null,
      "metadata": {
        "vscode": {
          "languageId": "typescript"
        }
      },
      "outputs": [],
      "source": [
        "// deleting a document\n",
        "const id1 = ids[0];\n",
        "await vectorStore.delete({ ids: [id1] });\n",
        "\n",
        "// deleting more than one document\n",
        "await vectorStore.delete({ ids: ids });\n"
      ]
    },
    {
      "cell_type": "markdown",
      "metadata": {},
      "source": [
        "## 搜索文档\n",
        "\n",
        "一旦创建了向量存储并添加了相关文档后，您很可能希望在链或代理运行期间对其进行查询。\n",
        "\n",
        "### 直接查询\n",
        "\n",
        "执行一个简单的相似性搜索可以按如下方式进行：\n"
      ]
    },
    {
      "cell_type": "code",
      "execution_count": null,
      "metadata": {
        "vscode": {
          "languageId": "typescript"
        }
      },
      "outputs": [],
      "source": [
        "const filter = `\"source\" = \"https://example.com\"`;\n",
        "\n",
        "const results = await vectorStore.similaritySearch(\"biology\", 2, filter);\n",
        "\n",
        "for (const doc of results) {\n",
        "  console.log(`* ${doc.pageContent} [${JSON.stringify(doc.metadata, null)}]`);\n",
        "}\n"
      ]
    },
    {
      "cell_type": "markdown",
      "metadata": {},
      "source": [
        "如果你想执行相似性搜索并获得相应的分数，可以运行：\n"
      ]
    },
    {
      "cell_type": "code",
      "execution_count": null,
      "metadata": {
        "vscode": {
          "languageId": "typescript"
        }
      },
      "outputs": [],
      "source": [
        "const filter = `\"source\" = \"https://example.com\"`;\n",
        "const resultsWithScores = await vectorStore.similaritySearchWithScore(\n",
        "  \"biology\",\n",
        "  2,\n",
        "  filter\n",
        ");\n",
        "\n",
        "for (const [doc, score] of resultsWithScores) {\n",
        "  console.log(\n",
        "    `* [SIM=${score.toFixed(3)}] ${doc.pageContent} [${JSON.stringify(doc.metadata)}]`\n",
        "  );\n",
        "}\n"
      ]
    },
    {
      "cell_type": "markdown",
      "metadata": {},
      "source": [
        "### 使用最大边际相关性搜索进行查询\n",
        "\n",
        "最大边际相关性优化了与查询的相似性以及所选文档之间的多样性。\n"
      ]
    },
    {
      "cell_type": "code",
      "execution_count": null,
      "metadata": {
        "vscode": {
          "languageId": "typescript"
        }
      },
      "outputs": [],
      "source": [
        "const options = {\n",
        "  k: 4,\n",
        "  filter: `\"source\" = 'https://example.com'`,\n",
        "};\n",
        "\n",
        "const results = await vectorStoreInstance.maxMarginalRelevanceSearch(\"biology\", options);\n",
        "\n",
        "for (const doc of results) {\n",
        "  console.log(`* ${doc.pageContent} [${JSON.stringify(doc.metadata, null)}]`);\n",
        "}\n"
      ]
    }
  ],
  "metadata": {
    "kernelspec": {
      "display_name": "Python 3",
      "language": "python",
      "name": "python3"
    },
    "language_info": {
      "name": "python",
      "version": "3.12.8"
    }
  },
  "nbformat": 4,
  "nbformat_minor": 2
}