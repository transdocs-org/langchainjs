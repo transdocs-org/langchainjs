{
  "cells": [
    {
      "cell_type": "raw",
      "id": "1957f5cb",
      "metadata": {
        "vscode": {
          "languageId": "raw"
        }
      },
      "source": [
        "---\n",
        "sidebar_label: Faiss\n",
        "sidebar_class_name: node-only\n",
        "---"
      ]
    },
    {
      "cell_type": "markdown",
      "id": "ef1f0986",
      "metadata": {},
      "source": [
        "# FaissStore\n",
        "\n",
        "```{=mdx}\n",
        "\n",
        ":::tip 兼容性\n",
        "仅适用于 Node.js。\n",
        ":::\n",
        "\n",
        "```\n",
        "\n",
        "[Faiss](https://github.com/facebookresearch/faiss) 是一个用于高效相似性搜索和密集向量聚类的库。\n",
        "\n",
        "LangChain.js 支持使用 Faiss 作为本地运行的向量存储，且可以保存到文件中。它还提供了从 [LangChain Python 实现](https://python.langchain.com/docs/integrations/vectorstores/faiss#saving-and-loading) 读取已保存文件的能力。\n",
        "\n",
        "本指南提供了关于如何开始使用 Faiss [向量存储](/docs/concepts/#vectorstores) 的快速概述。如需了解所有 `FaissStore` 功能和配置的详细文档，请查阅 [API 参考](https://api.js.langchain.com/classes/langchain_community_vectorstores_faiss.FaissStore.html)。"
      ]
    },
    {
      "cell_type": "markdown",
      "id": "c824838d",
      "metadata": {},
      "source": [
        "## 概述\n",
        "\n",
        "### 集成详情\n",
        "\n",
        "| 类 | 包 | [Python 支持](https://python.langchain.com/docs/integrations/vectorstores/faiss) | 包的最新版本 |\n",
        "| :--- | :--- | :---: | :---: |\n",
        "| [`FaissStore`](https://api.js.langchain.com/classes/langchain_community_vectorstores_faiss.FaissStore.html) | [`@langchain/community`](https://npmjs.com/@langchain/community) | ✅ |  ![NPM - 版本](https://img.shields.io/npm/v/@langchain/community?style=flat-square&label=%20&) |"
      ]
    },
    {
      "cell_type": "markdown",
      "id": "36fdc060",
      "metadata": {},
      "source": [
        "## 安装\n",
        "\n",
        "要使用 Faiss 向量存储，你需要安装 `@langchain/community` 集成包以及将 [`faiss-node`](https://github.com/ewfian/faiss-node) 包作为对等依赖安装。\n",
        "\n",
        "本指南还将使用 [OpenAI 嵌入](/docs/integrations/text_embedding/openai)，这要求你安装 `@langchain/openai` 集成包。如果需要，你也可以使用 [其他支持的嵌入模型](/docs/integrations/text_embedding)。\n",
        "\n",
        "```{=mdx}\n",
        "import IntegrationInstallTooltip from \"@mdx_components/integration_install_tooltip.mdx\";\n",
        "import Npm2Yarn from \"@theme/Npm2Yarn\";\n",
        "\n",
        "<IntegrationInstallTooltip></IntegrationInstallTooltip>\n",
        "\n",
        "<Npm2Yarn>\n",
        "  @langchain/community faiss-node @langchain/openai @langchain/core\n",
        "</Npm2Yarn>\n",
        "```\n",
        "\n",
        "### 凭据\n",
        "\n",
        "由于 Faiss 在本地运行，因此你无需任何凭据即可使用它。\n",
        "\n",
        "如果你在本指南中使用 OpenAI 嵌入，则还需要设置你的 OpenAI 密钥：\n",
        "\n",
        "```typescript\n",
        "process.env.OPENAI_API_KEY = \"YOUR_API_KEY\";\n",
        "```\n",
        "\n",
        "如果你想对模型调用进行自动化追踪，也可以通过取消注释以下内容来设置你的 [LangSmith](https://docs.smith.langchain.com/) API 密钥：\n",
        "\n",
        "```typescript\n",
        "// process.env.LANGSMITH_TRACING=\"true\"\n",
        "// process.env.LANGSMITH_API_KEY=\"your-api-key\"\n",
        "```"
      ]
    },
    {
      "cell_type": "markdown",
      "id": "93df377e",
      "metadata": {},
      "source": [
        "## 实例化"
      ]
    },
    {
      "cell_type": "code",
      "execution_count": 2,
      "id": "dc37144c-208d-4ab3-9f3a-0407a69fe052",
      "metadata": {
        "tags": []
      },
      "outputs": [],
      "source": [
        "import { FaissStore } from \"@langchain/community/vectorstores/faiss\";\n",
        "import { OpenAIEmbeddings } from \"@langchain/openai\";\n",
        "\n",
        "const embeddings = new OpenAIEmbeddings({\n",
        "  model: \"text-embedding-3-small\",\n",
        "});\n",
        "\n",
        "const vectorStore = new FaissStore(embeddings, {});"
      ]
    },
    {
      "cell_type": "markdown",
      "id": "ac6071d4",
      "metadata": {},
      "source": [
        "## 管理向量存储\n",
        "\n",
        "### 向向量存储中添加项目"
      ]
    },
    {
      "cell_type": "code",
      "execution_count": 3,
      "id": "17f5efc0",
      "metadata": {},
      "outputs": [
        {
          "name": "stdout",
          "output_type": "stream",
          "text": [
            "[ '1', '2', '3', '4' ]\n"
          ]
        }
      ],
      "source": [
        "import type { Document } from \"@langchain/core/documents\";\n",
        "\n",
        "const document1: Document = {\n",
        "  pageContent: \"The powerhouse of the cell is the mitochondria\",\n",
        "  metadata: { source: \"https://example.com\" }\n",
        "};\n",
        "\n",
        "const document2: Document = {\n",
        "  pageContent: \"Buildings are made out of brick\",\n",
        "  metadata: { source: \"https://example.com\" }\n",
        "};\n",
        "\n",
        "const document3: Document = {\n",
        "  pageContent: \"Mitochondria are made out of lipids\",\n",
        "  metadata: { source: \"https://example.com\" }\n",
        "};\n",
        "\n",
        "const document4: Document = {\n",
        "  pageContent: \"The 2024 Olympics are in Paris\",\n",
        "  metadata: { source: \"https://example.com\" }\n",
        "}\n",
        "\n",
        "const documents = [document1, document2, document3, document4];\n",
        "\n",
        "await vectorStore.addDocuments(documents, { ids: [\"1\", \"2\", \"3\", \"4\"] });"
      ]
    },
    {
      "cell_type": "markdown",
      "id": "dcf1b905",
      "metadata": {},
      "source": [
        "### 从向量存储中删除项目"
      ]
    },
    {
      "cell_type": "code",
      "execution_count": 4,
      "id": "ef61e188",
      "metadata": {},
      "outputs": [],
      "source": [
        "await vectorStore.delete({ ids: [\"4\"] });"
      ]
    },
    {
      "cell_type": "markdown",
      "id": "c3620501",
      "metadata": {},
      "source": [
        "## 查询向量存储\n",
        "\n",
        "一旦创建了向量存储并添加了相关文档，您很可能希望在链或代理运行期间查询它。\n",
        "\n",
        "### 直接查询\n",
        "\n",
        "执行一个简单的相似性搜索可以按如下方式进行："
      ]
    },
    {
      "cell_type": "code",
      "execution_count": 5,
      "id": "aa0a16fa",
      "metadata": {},
      "outputs": [
        {
          "name": "stdout",
          "output_type": "stream",
          "text": [
            "* The powerhouse of the cell is the mitochondria [{\"source\":\"https://example.com\"}]\n",
            "* Mitochondria are made out of lipids [{\"source\":\"https://example.com\"}]\n"
          ]
        }
      ],
      "source": [
        "const similaritySearchResults = await vectorStore.similaritySearch(\"biology\", 2);\n",
        "\n",
        "for (const doc of similaritySearchResults) {\n",
        "  console.log(`* ${doc.pageContent} [${JSON.stringify(doc.metadata, null)}]`);\n",
        "}"
      ]
    },
    {
      "cell_type": "markdown",
      "id": "3ed9d733",
      "metadata": {},
      "source": [
        "目前不支持按元数据筛选。\n",
        "\n",
        "如果您要执行相似性搜索并获取相应的分数，可以运行："
      ]
    },
    {
      "cell_type": "code",
      "execution_count": 6,
      "id": "5efd2eaa",
      "metadata": {},
      "outputs": [
        {
          "name": "stdout",
          "output_type": "stream",
          "text": [
            "* [SIM=1.671] The powerhouse of the cell is the mitochondria [{\"source\":\"https://example.com\"}]\n",
            "* [SIM=1.705] Mitochondria are made out of lipids [{\"source\":\"https://example.com\"}]\n"
          ]
        }
      ],
      "source": [
        "const similaritySearchWithScoreResults = await vectorStore.similaritySearchWithScore(\"biology\", 2);\n",
        "\n",
        "for (const [doc, score] of similaritySearchWithScoreResults) {\n",
        "  console.log(`* [SIM=${score.toFixed(3)}] ${doc.pageContent} [${JSON.stringify(doc.metadata)}]`);\n",
        "}"
      ]
    },
    {
      "cell_type": "markdown",
      "id": "0c235cdc",
      "metadata": {},
      "source": [
        "### 通过转换为检索器进行查询\n",
        "\n",
        "您还可以将向量存储转换为[检索器](/docs/concepts/retrievers)，以便在您的链中更方便地使用。"
      ]
    },
    {
      "cell_type": "code",
      "execution_count": 7,
      "id": "f3460093",
      "metadata": {},
      "outputs": [
        {
          "name": "stdout",
          "output_type": "stream",
          "text": [
            "[\n",
            "  {\n",
            "    pageContent: 'The powerhouse of the cell is the mitochondria',\n",
            "    metadata: { source: 'https://example.com' }\n",
            "  },\n",
            "  {\n",
            "    pageContent: 'Mitochondria are made out of lipids',\n",
            "    metadata: { source: 'https://example.com' }\n",
            "  }\n",
            "]\n"
          ]
        }
      ],
      "source": [
        "const retriever = vectorStore.asRetriever({\n",
        "  k: 2,\n",
        "});\n",
        "await retriever.invoke(\"biology\");"
      ]
    },
    {
      "cell_type": "markdown",
      "id": "e2e0a211",
      "metadata": {},
      "source": [
        "### 检索增强生成的用法\n",
        "\n",
        "有关如何将此向量存储用于检索增强生成（RAG）的指南，请参阅以下部分：\n",
        "\n",
        "- [教程：使用外部知识](/docs/tutorials/#working-with-external-knowledge)。\n",
        "- [操作指南：使用 RAG 进行问答](/docs/how_to/#qa-with-rag)\n",
        "- [检索概念文档](/docs/concepts/retrieval)"
      ]
    },
    {
      "cell_type": "markdown",
      "id": "58a88011",
      "metadata": {},
      "source": [
        "## 合并索引\n",
        "\n",
        "Faiss 还支持合并现有索引："
      ]
    },
    {
      "cell_type": "code",
      "execution_count": null,
      "id": "79a65a68",
      "metadata": {},
      "outputs": [],
      "source": [
        "// Create an initial vector store\n",
        "const initialStore = await FaissStore.fromTexts(\n",
        "  [\"Hello world\", \"Bye bye\", \"hello nice world\"],\n",
        "  [{ id: 2 }, { id: 1 }, { id: 3 }],\n",
        "  new OpenAIEmbeddings()\n",
        ");\n",
        "\n",
        "// Create another vector store from texts\n",
        "const newStore = await FaissStore.fromTexts(\n",
        "  [\"Some text\"],\n",
        "  [{ id: 1 }],\n",
        "  new OpenAIEmbeddings()\n",
        ");\n",
        "\n",
        "// merge the first vector store into vectorStore2\n",
        "await newStore.mergeFrom(initialStore);\n",
        "\n",
        "// You can also create a new vector store from another FaissStore index\n",
        "const newStore2 = await FaissStore.fromIndex(\n",
        "  newStore,\n",
        "  new OpenAIEmbeddings()\n",
        ");\n",
        "\n",
        "await newStore2.similaritySearch(\"Bye bye\", 1);"
      ]
    },
    {
      "cell_type": "markdown",
      "id": "b92a2301",
      "metadata": {},
      "source": [
        "## 将索引保存到文件并重新加载它\n",
        "\n",
        "要将索引持久化到磁盘，请使用`.save`方法和静态的`.load`方法："
      ]
    },
    {
      "cell_type": "code",
      "execution_count": null,
      "id": "9e4aecb9",
      "metadata": {},
      "outputs": [],
      "source": [
        "// Create a vector store through any method, here from texts as an example\n",
        "const persistentStore = await FaissStore.fromTexts(\n",
        "  [\"Hello world\", \"Bye bye\", \"hello nice world\"],\n",
        "  [{ id: 2 }, { id: 1 }, { id: 3 }],\n",
        "  new OpenAIEmbeddings()\n",
        ");\n",
        "\n",
        "// Save the vector store to a directory\n",
        "const directory = \"your/directory/here\";\n",
        "\n",
        "await persistentStore.save(directory);\n",
        "\n",
        "// Load the vector store from the same directory\n",
        "const loadedVectorStore = await FaissStore.load(\n",
        "  directory,\n",
        "  new OpenAIEmbeddings()\n",
        ");\n",
        "\n",
        "// vectorStore and loadedVectorStore are identical\n",
        "const result = await loadedVectorStore.similaritySearch(\"hello world\", 1);\n",
        "console.log(result);"
      ]
    },
    {
      "cell_type": "markdown",
      "id": "069f1b5f",
      "metadata": {},
      "source": [
        "## 从Python读取保存的文件\n",
        "\n",
        "为了启用从[LangChain Python实现](https://python.langchain.com/docs/integrations/vectorstores/faiss#saving-and-loading)读取保存文件的功能，你需要安装[`pickleparser`](https://github.com/ewfian/pickleparser)包。\n",
        "\n",
        "```{=mdx}\n",
        "<Npm2Yarn>\n",
        "  pickleparser\n",
        "</Npm2Yarn>\n",
        "```\n",
        "\n",
        "然后你可以使用`.loadFromPython`静态方法："
      ]
    },
    {
      "cell_type": "code",
      "execution_count": null,
      "id": "d959f997",
      "metadata": {},
      "outputs": [],
      "source": [
        "// The directory of data saved from Python\n",
        "const directoryWithSavedPythonStore = \"your/directory/here\";\n",
        "\n",
        "// Load the vector store from the directory\n",
        "const pythonLoadedStore = await FaissStore.loadFromPython(\n",
        "  directoryWithSavedPythonStore,\n",
        "  new OpenAIEmbeddings()\n",
        ");\n",
        "\n",
        "// Search for the most similar document\n",
        "await pythonLoadedStore.similaritySearch(\"test\", 2);"
      ]
    },
    {
      "cell_type": "markdown",
      "id": "8a27244f",
      "metadata": {},
      "source": [
        "## API 参考文档\n",
        "\n",
        "如需详细了解所有 `FaissStore` 功能和配置，请访问 [API 参考文档](https://api.js.langchain.com/classes/langchain_community_vectorstores_faiss.FaissStore.html)"
      ]
    }
  ],
  "metadata": {
    "kernelspec": {
      "display_name": "TypeScript",
      "language": "typescript",
      "name": "tslab"
    },
    "language_info": {
      "codemirror_mode": {
        "mode": "typescript",
        "name": "javascript",
        "typescript": true
      },
      "file_extension": ".ts",
      "mimetype": "text/typescript",
      "name": "typescript",
      "version": "3.7.2"
    }
  },
  "nbformat": 4,
  "nbformat_minor": 5
}