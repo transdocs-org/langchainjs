{
  "cells": [
    {
      "cell_type": "raw",
      "id": "1957f5cb",
      "metadata": {
        "vscode": {
          "languageId": "raw"
        }
      },
      "source": [
        "---\n",
        "sidebar_label: MariaDB\n",
        "sidebar_class_name: node-only\n",
        "---"
      ]
    },
    {
      "cell_type": "markdown",
      "id": "ef1f0986",
      "metadata": {},
      "source": [
        "# MariaDB\n",
        "\n",
        "```{=mdx}\n",
        ":::tip 兼容性\n",
        "仅适用于 Node.js。\n",
        ":::\n",
        "```\n",
        "\n",
        "需要 MariaDB 11.7 或更高版本\n",
        "\n",
        "本指南提供了关于 mariadb [向量存储](/docs/concepts/#vectorstores) 的快速入门概述。如需了解所有 `MariaDB 存储` 功能和配置的详细文档，请前往 [API 参考文档](https://api.js.langchain.com/classes/langchain_community_vectorstores_mariadb.MariaDBStore.html)。"
      ]
    },
    {
      "cell_type": "markdown",
      "id": "c824838d",
      "metadata": {},
      "source": [
        "## 概览\n",
        "\n",
        "### 集成详情\n",
        "\n",
        "| 类 | 包 | [Python 支持](https://python.langchain.com/docs/integrations/vectorstores/mariadb/) | 包的最新版本 |\n",
        "| :--- | :--- | :---: | :---: |\n",
        "| [`MariaDBStore`](https://api.js.langchain.com/classes/langchain_community_vectorstores_mariadb.MariaDBStore.html) | [`@langchain/community`](https://npmjs.com/@langchain/community) | ✅ | ![NPM - 版本](https://img.shields.io/npm/v/@langchain/community?style=flat-square&label=%20&) |"
      ]
    },
    {
      "cell_type": "markdown",
      "id": "36fdc060",
      "metadata": {},
      "source": [
        "## 配置\n",
        "\n",
        "要使用 MariaDBVector 向量存储，你需要安装 MariaDB 11.7 或更高版本，并将 [`mariadb`](https://www.npmjs.com/package/mariadb) 连接器作为对等依赖使用。\n",
        "\n",
        "本指南还将使用 [OpenAI 嵌入](/docs/integrations/text_embedding/openai)，这要求你安装 `@langchain/openai` 集成包。如果你愿意，也可以使用 [其他支持的嵌入模型](/docs/integrations/text_embedding)。\n",
        "\n",
        "我们还将使用 [`uuid`](https://www.npmjs.com/package/uuid) 包以所需格式生成 ID。\n",
        "\n",
        "```{=mdx}\n",
        "import IntegrationInstallTooltip from \"@mdx_components/integration_install_tooltip.mdx\";\n",
        "import Npm2Yarn from \"@theme/Npm2Yarn\";\n",
        "\n",
        "<IntegrationInstallTooltip></IntegrationInstallTooltip>\n",
        "\n",
        "<Npm2Yarn>\n",
        "  @langchain/community @langchain/openai @langchain/core mariadb uuid\n",
        "</Npm2Yarn>\n",
        "```\n",
        "\n",
        "### 配置实例\n",
        "\n",
        "创建一个名为 docker-compose.yml 的文件，内容如下：\n",
        "\n",
        "```yaml\n",
        "# 运行此命令以启动数据库：\n",
        "# docker-compose up --build\n",
        "version: \"3\"\n",
        "services:\n",
        "  db:\n",
        "    hostname: 127.0.0.1\n",
        "    image: mariadb/mariadb:11.7-rc\n",
        "    ports:\n",
        "      - 3306:3306\n",
        "    restart: always\n",
        "    environment:\n",
        "      - MARIADB_DATABASE=api\n",
        "      - MARIADB_USER=myuser\n",
        "      - MARIADB_PASSWORD=ChangeMe\n",
        "      - MARIADB_ROOT_PASSWORD=ChangeMe\n",
        "    volumes:\n",
        "      - ./init.sql:/docker-entrypoint-initdb.d/init.sql\n",
        "```\n",
        "\n",
        "然后在同一目录中，运行 docker compose up 命令以启动容器。\n",
        "\n",
        "### 凭据\n",
        "\n",
        "要连接你的 MariaDB 实例，你需要相应的凭据。有关支持的选项完整列表，请参阅 [`mariadb` 文档](https://github.com/mariadb-corporation/mariadb-connector-nodejs/blob/master/documentation/promise-api.md#connection-options)。\n",
        "\n",
        "如果本指南使用 OpenAI 嵌入，你需要设置你的 OpenAI 密钥：\n",
        "\n",
        "```typescript\n",
        "process.env.OPENAI_API_KEY = \"YOUR_API_KEY\";\n",
        "```\n",
        "\n",
        "如果你想自动追踪模型调用，也可以取消注释以下 [LangSmith](https://docs.smith.langchain.com/) API 密钥的设置：\n",
        "\n",
        "```typescript\n",
        "// process.env.LANGCHAIN_TRACING_V2=\"true\"\n",
        "// process.env.LANGCHAIN_API_KEY=\"your-api-key\"\n",
        "```"
      ]
    },
    {
      "cell_type": "markdown",
      "id": "93df377e",
      "metadata": {},
      "source": [
        "## 实例化\n",
        "\n",
        "要实例化向量存储，请调用`.initialize()`静态方法。这将自动检查传入的`config`中指定的`tableName`对应的表是否存在。如果不存在，将根据所需的列创建该表。\n",
        "\n"
      ]
    },
    {
      "cell_type": "code",
      "execution_count": 1,
      "id": "dc37144c-208d-4ab3-9f3a-0407a69fe052",
      "metadata": {
        "tags": []
      },
      "outputs": [],
      "source": [
        "import { OpenAIEmbeddings } from \"@langchain/openai\";\n",
        "\n",
        "import {\n",
        "   DistanceStrategy,\n",
        "   MariaDBStore,\n",
        "} from \"@langchain/community/vectorstores/mariadb\";\n",
        "import { PoolConfig } from \"mariadb\";\n",
        "\n",
        "const config = {\n",
        "  connectionOptions: {\n",
        "    type: \"mariadb\",\n",
        "    host: \"127.0.0.1\",\n",
        "    port: 3306,\n",
        "    user: \"myuser\",\n",
        "    password: \"ChangeMe\",\n",
        "    database: \"api\",\n",
        "  } as PoolConfig,\n",
        "  distanceStrategy: 'EUCLIDEAN' as DistanceStrategy,\n",
        "};\n",
        "const vectorStore = await MariaDBStore.initialize(\n",
        "  new OpenAIEmbeddings(),\n",
        "   config\n",
        ");"
      ]
    },
    {
      "cell_type": "markdown",
      "id": "ac6071d4",
      "metadata": {},
      "source": [
        "## 管理向量存储\n",
        "\n",
        "### 向向量存储中添加项目"
      ]
    },
    {
      "cell_type": "code",
      "execution_count": 2,
      "id": "17f5efc0",
      "metadata": {},
      "outputs": [],
      "source": [
        "import { v4 as uuidv4 } from \"uuid\";\n",
        "import type { Document } from \"@langchain/core/documents\";\n",
        "\n",
        "const document1: Document = {\n",
        "  pageContent: \"The powerhouse of the cell is the mitochondria\",\n",
        "  metadata: { source: \"https://example.com\" }\n",
        "};\n",
        "\n",
        "const document2: Document = {\n",
        "  pageContent: \"Buildings are made out of brick\",\n",
        "  metadata: { source: \"https://example.com\" }\n",
        "};\n",
        "\n",
        "const document3: Document = {\n",
        "  pageContent: \"Mitochondria are made out of lipids\",\n",
        "  metadata: { source: \"https://example.com\" }\n",
        "};\n",
        "\n",
        "const document4: Document = {\n",
        "  pageContent: \"The 2024 Olympics are in Paris\",\n",
        "  metadata: { source: \"https://example.com\" }\n",
        "}\n",
        "\n",
        "const documents = [document1, document2, document3, document4];\n",
        "\n",
        "const ids = [uuidv4(), uuidv4(), uuidv4(), uuidv4()]\n",
        "\n",
        "// ids are not mandatory, but that's for the example\n",
        "await vectorStore.addDocuments(documents, { ids: ids });"
      ]
    },
    {
      "cell_type": "markdown",
      "id": "dcf1b905",
      "metadata": {},
      "source": [
        "### 从向量存储中删除项目"
      ]
    },
    {
      "cell_type": "code",
      "execution_count": 4,
      "id": "ef61e188",
      "metadata": {},
      "outputs": [],
      "source": [
        "const id4 = ids[ids.length - 1];\n",
        "\n",
        "await vectorStore.delete({ ids: [id4] });"
      ]
    },
    {
      "cell_type": "markdown",
      "id": "c3620501",
      "metadata": {},
      "source": [
        "## 查询向量存储\n",
        "\n",
        "一旦创建了向量存储并添加了相关文档，您很可能希望在链或代理运行期间查询它。\n",
        "\n",
        "### 直接查询\n",
        "\n",
        "执行一个简单的相似性搜索可以按如下方式进行："
      ]
    },
    {
      "cell_type": "code",
      "execution_count": 5,
      "id": "aa0a16fa",
      "metadata": {},
      "outputs": [
        {
          "name": "stdout",
          "output_type": "stream",
          "text": [
            "* The powerhouse of the cell is the mitochondria [{\"year\": 2021}]\n",
            "* Mitochondria are made out of lipids [{\"year\": 2022}]\n"
          ]
        }
      ],
      "source": [
        "const similaritySearchResults = await vectorStore.similaritySearch(\"biology\", 2, { \"year\": 2021 });\n",
        "for (const doc of similaritySearchResults) {\n",
        "  console.log(`* ${doc.pageContent} [${JSON.stringify(doc.metadata, null)}]`);\n",
        "}"
      ]
    },
    {
      "cell_type": "markdown",
      "id": "3ed9d733",
      "metadata": {},
      "source": [
        "上述过滤器语法可以更复杂：\n",
        "\n",
        "```json\n",
        "# name = 'martin' OR firstname = 'john'\n",
        "let res = await vectorStore.similaritySearch(\"biology\", 2, {\"$or\": [{\"name\":\"martin\"}, {\"firstname\": \"john\"}] });\n",
        "```\n",
        "\n",
        "如果你想执行相似性搜索并获得相应的分数，可以运行："
      ]
    },
    {
      "cell_type": "code",
      "execution_count": 6,
      "id": "5efd2eaa",
      "metadata": {},
      "outputs": [
        {
          "name": "stdout",
          "output_type": "stream",
          "text": [
            "* [SIM=0.835] The powerhouse of the cell is the mitochondria [{\"source\":\"https://example.com\"}]\n",
            "* [SIM=0.852] Mitochondria are made out of lipids [{\"source\":\"https://example.com\"}]\n"
          ]
        }
      ],
      "source": [
        "const similaritySearchWithScoreResults = await vectorStore.similaritySearchWithScore(\"biology\", 2)\n",
        "\n",
        "for (const [doc, score] of similaritySearchWithScoreResults) {\n",
        "  console.log(`* [SIM=${score.toFixed(3)}] ${doc.pageContent} [${JSON.stringify(doc.metadata)}]`);\n",
        "}"
      ]
    },
    {
      "cell_type": "markdown",
      "id": "0c235cdc",
      "metadata": {},
      "source": [
        "### 通过转换为检索器进行查询\n",
        "\n",
        "您还可以将向量存储转换为[检索器](/docs/concepts/retrievers)，以便在您的链中更方便地使用。"
      ]
    },
    {
      "cell_type": "code",
      "execution_count": 7,
      "id": "f3460093",
      "metadata": {},
      "outputs": [
        {
          "name": "stdout",
          "output_type": "stream",
          "text": [
            "[\n",
            "  Document {\n",
            "    pageContent: 'The powerhouse of the cell is the mitochondria',\n",
            "    metadata: { source: 'https://example.com' },\n",
            "    id: undefined\n",
            "  },\n",
            "  Document {\n",
            "    pageContent: 'Mitochondria are made out of lipids',\n",
            "    metadata: { source: 'https://example.com' },\n",
            "    id: undefined\n",
            "  }\n",
            "]\n"
          ]
        }
      ],
      "source": [
        "const retriever = vectorStore.asRetriever({\n",
        "  // Optional filter\n",
        "  // filter: filter,\n",
        "  k: 2,\n",
        "});\n",
        "await retriever.invoke(\"biology\");"
      ]
    },
    {
      "cell_type": "markdown",
      "id": "e2e0a211",
      "metadata": {},
      "source": [
        "### 检索增强生成的用法\n",
        "\n",
        "有关如何将此向量存储用于检索增强生成（RAG）的指南，请参阅以下部分：\n",
        "\n",
        "- [教程：使用外部知识](/docs/tutorials/#working-with-external-knowledge)。\n",
        "- [如何操作：使用RAG进行问答](/docs/how_to/#qa-with-rag)\n",
        "- [检索概念文档](/docs/concepts/retrieval)"
      ]
    },
    {
      "cell_type": "markdown",
      "id": "371727a8",
      "metadata": {},
      "source": [
        "## 高级：重用连接\n",
        "\n",
        "你可以通过创建一个连接池，然后直接通过构造函数创建新的 `MariaDBStore` 实例来重用连接。\n",
        "\n",
        "请注意，在使用构造函数之前，你应该至少调用一次 `.initialize()` 方法来正确设置数据库表结构。"
      ]
    },
    {
      "cell_type": "code",
      "execution_count": null,
      "id": "09efeac4",
      "metadata": {},
      "outputs": [],
      "source": [
        "import { OpenAIEmbeddings } from \"@langchain/openai\";\n",
        "import { MariaDBStore } from \"@langchain/community/vectorstores/mariadb\";\n",
        "import mariadb from \"mariadb\";\n",
        "\n",
        "// First, follow set-up instructions at\n",
        "// https://js.langchain.com/docs/modules/indexes/vector_stores/integrations/mariadb\n",
        "\n",
        "const reusablePool = mariadb.createPool({\n",
        "  host: \"127.0.0.1\",\n",
        "  port: 3306,\n",
        "  user: \"myuser\",\n",
        "  password: \"ChangeMe\",\n",
        "  database: \"api\",\n",
        "});\n",
        "\n",
        "const originalConfig = {\n",
        "  pool: reusablePool,\n",
        "  tableName: \"testlangchainjs\",\n",
        "  collectionName: \"sample\",\n",
        "  collectionTableName: \"collections\",\n",
        "  columns: {\n",
        "    idColumnName: \"id\",\n",
        "    vectorColumnName: \"vect\",\n",
        "    contentColumnName: \"content\",\n",
        "    metadataColumnName: \"metadata\",\n",
        "  },\n",
        "};\n",
        "\n",
        "// Set up the DB.\n",
        "// Can skip this step if you've already initialized the DB.\n",
        "// await MariaDBStore.initialize(new OpenAIEmbeddings(), originalConfig);\n",
        "const mariadbStore = new MariaDBStore(new OpenAIEmbeddings(), originalConfig);\n",
        "\n",
        "await mariadbStore.addDocuments([\n",
        "  { pageContent: \"what's this\", metadata: { a: 2 } },\n",
        "  { pageContent: \"Cat drinks milk\", metadata: { a: 1 } },\n",
        "]);\n",
        "\n",
        "const results = await mariadbStore.similaritySearch(\"water\", 1);\n",
        "\n",
        "console.log(results);\n",
        "\n",
        "/*\n",
        "  [ Document { pageContent: 'Cat drinks milk', metadata: { a: 1 } } ]\n",
        "*/\n",
        "\n",
        "const mariadbStore2 = new MariaDBStore(new OpenAIEmbeddings(), {\n",
        "  pool: reusablePool,\n",
        "  tableName: \"testlangchainjs\",\n",
        "  collectionTableName: \"collections\",\n",
        "  collectionName: \"some_other_collection\",\n",
        "  columns: {\n",
        "    idColumnName: \"id\",\n",
        "    vectorColumnName: \"vector\",\n",
        "    contentColumnName: \"content\",\n",
        "    metadataColumnName: \"metadata\",\n",
        "  },\n",
        "});\n",
        "\n",
        "const results2 = await mariadbStore2.similaritySearch(\"water\", 1);\n",
        "\n",
        "console.log(results2);\n",
        "\n",
        "/*\n",
        "  []\n",
        "*/\n",
        "\n",
        "await reusablePool.end();"
      ]
    },
    {
      "cell_type": "markdown",
      "id": "069f1b5f",
      "metadata": {},
      "source": [
        "## 关闭连接\n",
        "\n",
        "完成操作后，请确保关闭连接以避免资源过度消耗："
      ]
    },
    {
      "cell_type": "code",
      "execution_count": null,
      "id": "f71ce986",
      "metadata": {},
      "outputs": [],
      "source": [
        "await vectorStore.end();"
      ]
    },
    {
      "cell_type": "markdown",
      "id": "8a27244f",
      "metadata": {},
      "source": [
        "## API 参考\n",
        "\n",
        "有关所有 `MariaDBStore` 功能和配置的详细文档，请访问 [API 参考](https://api.js.langchain.com/classes/langchain_community_vectorstores_mariadb.MariaDBStore.html)。"
      ]
    }
  ],
  "metadata": {
    "kernelspec": {
      "display_name": "TypeScript",
      "language": "typescript",
      "name": "tslab"
    },
    "language_info": {
      "codemirror_mode": {
        "mode": "typescript",
        "name": "javascript",
        "typescript": true
      },
      "file_extension": ".ts",
      "mimetype": "text/typescript",
      "name": "typescript",
      "version": "3.7.2"
    }
  },
  "nbformat": 4,
  "nbformat_minor": 5
}