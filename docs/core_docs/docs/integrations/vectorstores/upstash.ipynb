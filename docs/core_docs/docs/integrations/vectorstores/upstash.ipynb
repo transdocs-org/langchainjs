{
  "cells": [
    {
      "cell_type": "raw",
      "id": "1957f5cb",
      "metadata": {
        "vscode": {
          "languageId": "raw"
        }
      },
      "source": [
        "---\n",
        "sidebar_label: Upstash Vector\n",
        "---"
      ]
    },
    {
      "cell_type": "markdown",
      "id": "ef1f0986",
      "metadata": {},
      "source": [
        "# UpstashVectorStore\n",
        "\n",
        "[Upstash Vector](https://upstash.com/) 是一个基于 REST 的无服务器向量数据库，专为处理向量嵌入而设计。\n",
        "\n",
        "本指南提供了关于如何快速开始使用 Upstash [向量存储](/docs/concepts/#vectorstores) 的简要概述。如需了解 `UpstashVectorStore` 所有功能和配置的详细文档，请前往 [API 参考文档](https://api.js.langchain.com/classes/langchain_community_vectorstores_upstash.UpstashVectorStore.html)。"
      ]
    },
    {
      "cell_type": "markdown",
      "id": "c824838d",
      "metadata": {},
      "source": [
        "## 概览\n",
        "\n",
        "### 集成详情\n",
        "\n",
        "| 类 | 包 | [Python 支持](https://python.langchain.com/docs/integrations/vectorstores/upstash/) | 包的最新版本 |\n",
        "| :--- | :--- | :---: | :---: |\n",
        "| [`UpstashVectorStore`](https://api.js.langchain.com/classes/langchain_community_vectorstores_upstash.UpstashVectorStore.html) | [`@langchain/community`](https://npmjs.com/@langchain/community) | ✅ |  ![NPM - 版本](https://img.shields.io/npm/v/@langchain/community?style=flat-square&label=%20&) |"
      ]
    },
    {
      "cell_type": "markdown",
      "id": "36fdc060",
      "metadata": {},
      "source": [
        "## 环境配置\n",
        "\n",
        "要使用 Upstash 向量存储，你需要创建一个 Upstash 账户，创建一个索引，并安装 `@langchain/community` 集成包。你还需要将 [`@upstash/vector`](https://www.npmjs.com/package/@upstash/vector) 包作为对等依赖安装。\n",
        "\n",
        "本指南还将使用 [OpenAI 嵌入](/docs/integrations/text_embedding/openai)，这需要你安装 `@langchain/openai` 集成包。如果你愿意，也可以使用[其他受支持的嵌入模型](/docs/integrations/text_embedding)。\n",
        "\n",
        "```{=mdx}\n",
        "import IntegrationInstallTooltip from \"@mdx_components/integration_install_tooltip.mdx\";\n",
        "import Npm2Yarn from \"@theme/Npm2Yarn\";\n",
        "\n",
        "<IntegrationInstallTooltip></IntegrationInstallTooltip>\n",
        "\n",
        "<Npm2Yarn>\n",
        "  @langchain/community @langchain/core @upstash/vector @langchain/openai\n",
        "</Npm2Yarn>\n",
        "```\n",
        "\n",
        "你可以通过 [Upstash 控制台](https://console.upstash.com/login) 创建一个索引。更多参考信息，请参阅 [官方文档](https://upstash.com/docs/vector/overall/getstarted)。\n",
        "\n",
        "Upstash 向量还内置了嵌入支持。这意味着你可以直接使用它，而无需额外的嵌入模型。更多详细信息，请查看 [嵌入模型文档](https://upstash.com/docs/vector/features/embeddingmodels)。\n",
        "\n",
        "```{=mdx}\n",
        ":::note\n",
        "要使用内置的 Upstash 嵌入，你需要在创建索引时选择一个嵌入模型。\n",
        ":::\n",
        "```\n",
        "\n",
        "### 凭证\n",
        "\n",
        "设置好索引后，请设置以下环境变量：\n",
        "\n",
        "```typescript\n",
        "process.env.UPSTASH_VECTOR_REST_URL = \"your-rest-url\";\n",
        "process.env.UPSTASH_VECTOR_REST_TOKEN = \"your-rest-token\";\n",
        "```\n",
        "\n",
        "如果你在本指南中使用 OpenAI 嵌入，还需要设置你的 OpenAI 密钥：\n",
        "\n",
        "```typescript\n",
        "process.env.OPENAI_API_KEY = \"YOUR_API_KEY\";\n",
        "```\n",
        "\n",
        "如果你想对模型调用进行自动化追踪，也可以通过取消以下注释来设置你的 [LangSmith](https://docs.smith.langchain.com/) API 密钥：\n",
        "\n",
        "```typescript\n",
        "// process.env.LANGSMITH_TRACING=\"true\"\n",
        "// process.env.LANGSMITH_API_KEY=\"your-api-key\"\n",
        "```"
      ]
    },
    {
      "cell_type": "markdown",
      "id": "93df377e",
      "metadata": {},
      "source": [
        "## 实例化\n",
        "\n",
        "确保你的索引具有与你的嵌入向量相同的维度数量。OpenAI `text-embedding-3-small` 的默认维度是 1536。"
      ]
    },
    {
      "cell_type": "code",
      "execution_count": 1,
      "id": "dc37144c-208d-4ab3-9f3a-0407a69fe052",
      "metadata": {
        "tags": []
      },
      "outputs": [],
      "source": [
        "import { UpstashVectorStore } from \"@langchain/community/vectorstores/upstash\";\n",
        "import { OpenAIEmbeddings } from \"@langchain/openai\";\n",
        "\n",
        "import { Index } from \"@upstash/vector\";\n",
        "\n",
        "const embeddings = new OpenAIEmbeddings({\n",
        "  model: \"text-embedding-3-small\",\n",
        "});\n",
        "\n",
        "const indexWithCredentials = new Index({\n",
        "  url: process.env.UPSTASH_VECTOR_REST_URL,\n",
        "  token: process.env.UPSTASH_VECTOR_REST_TOKEN,\n",
        "});\n",
        "\n",
        "const vectorStore = new UpstashVectorStore(embeddings, {\n",
        "  index: indexWithCredentials,\n",
        "  // You can use namespaces to partition your data in an index\n",
        "  // namespace: \"test-namespace\",\n",
        "});"
      ]
    },
    {
      "cell_type": "markdown",
      "id": "afa53a9c",
      "metadata": {},
      "source": [
        "## 使用内置嵌入\n",
        "\n",
        "要使用内置的 Upstash 嵌入，可以将 `FakeEmbeddings` 实例传递给 `UpstashVectorStore` 构造函数。这将使 `UpstashVectorStore` 使用内置的嵌入，该嵌入在创建索引时已由你选择。"
      ]
    },
    {
      "cell_type": "code",
      "execution_count": null,
      "id": "cbabe6f7",
      "metadata": {},
      "outputs": [],
      "source": [
        "import { UpstashVectorStore } from \"@langchain/community/vectorstores/upstash\";\n",
        "import { FakeEmbeddings } from \"@langchain/core/utils/testing\";\n",
        "\n",
        "import { Index } from \"@upstash/vector\";\n",
        "\n",
        "const indexWithEmbeddings = new Index({\n",
        "  url: process.env.UPSTASH_VECTOR_REST_URL,\n",
        "  token: process.env.UPSTASH_VECTOR_REST_TOKEN,\n",
        "});\n",
        "\n",
        "const vectorStore = new UpstashVectorStore(new FakeEmbeddings(), {\n",
        "  index: indexWithEmbeddings,\n",
        "});"
      ]
    },
    {
      "cell_type": "markdown",
      "id": "ac6071d4",
      "metadata": {},
      "source": [
        "## 管理向量存储\n",
        "\n",
        "### 向向量存储中添加条目"
      ]
    },
    {
      "cell_type": "code",
      "execution_count": 2,
      "id": "17f5efc0",
      "metadata": {},
      "outputs": [
        {
          "name": "stdout",
          "output_type": "stream",
          "text": [
            "[ '1', '2', '3', '4' ]\n"
          ]
        }
      ],
      "source": [
        "import type { Document } from \"@langchain/core/documents\";\n",
        "\n",
        "const document1: Document = {\n",
        "  pageContent: \"The powerhouse of the cell is the mitochondria\",\n",
        "  metadata: { source: \"https://example.com\" }\n",
        "};\n",
        "\n",
        "const document2: Document = {\n",
        "  pageContent: \"Buildings are made out of brick\",\n",
        "  metadata: { source: \"https://example.com\" }\n",
        "};\n",
        "\n",
        "const document3: Document = {\n",
        "  pageContent: \"Mitochondria are made out of lipids\",\n",
        "  metadata: { source: \"https://example.com\" }\n",
        "};\n",
        "\n",
        "const document4: Document = {\n",
        "  pageContent: \"The 2024 Olympics are in Paris\",\n",
        "  metadata: { source: \"https://example.com\" }\n",
        "}\n",
        "\n",
        "const documents = [document1, document2, document3, document4];\n",
        "\n",
        "await vectorStore.addDocuments(documents, { ids: [\"1\", \"2\", \"3\", \"4\"] });"
      ]
    },
    {
      "cell_type": "markdown",
      "id": "dcf1b905",
      "metadata": {},
      "source": [
        "**注意：** 添加文档后，可能会有短暂延迟才能进行查询。\n",
        "\n",
        "### 从向量存储中删除项目"
      ]
    },
    {
      "cell_type": "code",
      "execution_count": 3,
      "id": "ef61e188",
      "metadata": {},
      "outputs": [],
      "source": [
        "await vectorStore.delete({ ids: [\"4\"] });"
      ]
    },
    {
      "cell_type": "markdown",
      "id": "c3620501",
      "metadata": {},
      "source": [
        "## 查询向量存储\n",
        "\n",
        "一旦创建了向量存储并添加了相关文档，在运行链或代理时很可能需要对其进行查询。\n",
        "\n",
        "### 直接查询\n",
        "\n",
        "执行一个简单的相似性搜索可以按照以下方式："
      ]
    },
    {
      "cell_type": "code",
      "execution_count": 7,
      "id": "aa0a16fa",
      "metadata": {},
      "outputs": [
        {
          "name": "stdout",
          "output_type": "stream",
          "text": [
            "* The powerhouse of the cell is the mitochondria [{\"source\":\"https://example.com\"}]\n",
            "* Mitochondria are made out of lipids [{\"source\":\"https://example.com\"}]\n"
          ]
        }
      ],
      "source": [
        "const filter = \"source = 'https://example.com'\";\n",
        "\n",
        "const similaritySearchResults = await vectorStore.similaritySearch(\"biology\", 2, filter);\n",
        "\n",
        "for (const doc of similaritySearchResults) {\n",
        "  console.log(`* ${doc.pageContent} [${JSON.stringify(doc.metadata, null)}]`);\n",
        "}"
      ]
    },
    {
      "cell_type": "markdown",
      "id": "3ed9d733",
      "metadata": {},
      "source": [
        "更多关于Upstash Vector过滤语法的内容请参见[此页面](https://upstash.com/docs/vector/features/filtering)。\n",
        "\n",
        "如果你想执行相似性搜索并获得相应的分数，可以运行："
      ]
    },
    {
      "cell_type": "code",
      "execution_count": 8,
      "id": "5efd2eaa",
      "metadata": {},
      "outputs": [
        {
          "name": "stdout",
          "output_type": "stream",
          "text": [
            "* [SIM=0.576] The powerhouse of the cell is the mitochondria [{\"source\":\"https://example.com\"}]\n",
            "* [SIM=0.557] Mitochondria are made out of lipids [{\"source\":\"https://example.com\"}]\n"
          ]
        }
      ],
      "source": [
        "const similaritySearchWithScoreResults = await vectorStore.similaritySearchWithScore(\"biology\", 2, filter)\n",
        "\n",
        "for (const [doc, score] of similaritySearchWithScoreResults) {\n",
        "  console.log(`* [SIM=${score.toFixed(3)}] ${doc.pageContent} [${JSON.stringify(doc.metadata)}]`);\n",
        "}"
      ]
    },
    {
      "cell_type": "markdown",
      "id": "0c235cdc",
      "metadata": {},
      "source": [
        "### 通过转换为检索器进行查询\n",
        "\n",
        "你还可以将向量存储转换为[检索器](/docs/concepts/retrievers)，以便在你的链中更方便地使用。"
      ]
    },
    {
      "cell_type": "code",
      "execution_count": 9,
      "id": "f3460093",
      "metadata": {},
      "outputs": [
        {
          "name": "stdout",
          "output_type": "stream",
          "text": [
            "[\n",
            "  Document {\n",
            "    pageContent: 'The powerhouse of the cell is the mitochondria',\n",
            "    metadata: { source: 'https://example.com' },\n",
            "    id: undefined\n",
            "  },\n",
            "  Document {\n",
            "    pageContent: 'Mitochondria are made out of lipids',\n",
            "    metadata: { source: 'https://example.com' },\n",
            "    id: undefined\n",
            "  }\n",
            "]\n"
          ]
        }
      ],
      "source": [
        "const retriever = vectorStore.asRetriever({\n",
        "  // Optional filter\n",
        "  filter: filter,\n",
        "  k: 2,\n",
        "});\n",
        "await retriever.invoke(\"biology\");"
      ]
    },
    {
      "cell_type": "markdown",
      "id": "e2e0a211",
      "metadata": {},
      "source": [
        "### 检索增强生成的用法\n",
        "\n",
        "有关如何将此向量存储用于检索增强生成（RAG）的指南，请参阅以下部分：\n",
        "\n",
        "- [教程：使用外部知识](/docs/tutorials/#working-with-external-knowledge)。\n",
        "- [如何：使用RAG进行问答](/docs/how_to/#qa-with-rag)\n",
        "- [检索概念文档](/docs/concepts/retrieval)"
      ]
    },
    {
      "cell_type": "markdown",
      "id": "8a27244f",
      "metadata": {},
      "source": [
        "## API 参考\n",
        "\n",
        "有关所有 `UpstashVectorStore` 功能和配置的详细文档，请访问 [API 参考](https://api.js.langchain.com/classes/langchain_community_vectorstores_upstash.UpstashVectorStore.html)。"
      ]
    }
  ],
  "metadata": {
    "kernelspec": {
      "display_name": "TypeScript",
      "language": "typescript",
      "name": "tslab"
    },
    "language_info": {
      "codemirror_mode": {
        "mode": "typescript",
        "name": "javascript",
        "typescript": true
      },
      "file_extension": ".ts",
      "mimetype": "text/typescript",
      "name": "typescript",
      "version": "3.7.2"
    }
  },
  "nbformat": 4,
  "nbformat_minor": 5
}