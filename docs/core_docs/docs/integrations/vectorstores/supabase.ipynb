{
  "cells": [
    {
      "cell_type": "raw",
      "id": "1957f5cb",
      "metadata": {
        "vscode": {
          "languageId": "raw"
        }
      },
      "source": [
        "---\n",
        "sidebar_label: Supabase\n",
        "---"
      ]
    },
    {
      "cell_type": "markdown",
      "id": "ef1f0986",
      "metadata": {},
      "source": [
        "# SupabaseVectorStore\n",
        "\n",
        "[Supabase](https://supabase.com/docs) 是一个开源的 Firebase 替代方案。Supabase 构建在 PostgreSQL 之上，提供了强大的 SQL 查询功能，并能够与现有的工具和框架实现简单接口。\n",
        "\n",
        "LangChain.js 支持使用 Supabase Postgres 数据库作为向量存储，使用 [`pgvector`](https://github.com/pgvector/pgvector) 扩展。更多信息请参考 [Supabase 博客文章](https://supabase.com/blog/openai-embeddings-postgres-vector)。\n",
        "\n",
        "本指南提供了关于 Supabase [向量存储](/docs/concepts/#vectorstores) 的快速入门概览。有关 `SupabaseVectorStore` 所有功能和配置的详细文档，请前往 [API 参考文档](https://api.js.langchain.com/classes/langchain_community_vectorstores_supabase.SupabaseVectorStore.html)。"
      ]
    },
    {
      "cell_type": "markdown",
      "id": "c824838d",
      "metadata": {},
      "source": [
        "## 概述\n",
        "\n",
        "### 集成详情\n",
        "\n",
        "| 类 | 包 | [Python 支持](https://python.langchain.com/docs/integrations/vectorstores/supabase/) | 包的最新版本 |\n",
        "| :--- | :--- | :---: | :---: |\n",
        "| [`SupabaseVectorStore`](https://api.js.langchain.com/classes/langchain_community_vectorstores_supabase.SupabaseVectorStore.html) | [`@langchain/community`](https://npmjs.com/@langchain/community) | ✅ |  ![NPM - 版本](https://img.shields.io/npm/v/@langchain/community?style=flat-square&label=%20&) |"
      ]
    },
    {
      "cell_type": "markdown",
      "id": "36fdc060",
      "metadata": {},
      "source": [
        "## 配置\n",
        "\n",
        "要使用 Supabase 向量存储，你需要设置一个 Supabase 数据库并安装 `@langchain/community` 集成包。你还需要安装官方的 [`@supabase/supabase-js`](https://www.npmjs.com/package/@supabase/supabase-js) SDK 作为对等依赖。\n",
        "\n",
        "本指南还将使用 [OpenAI 嵌入](/docs/integrations/text_embedding/openai)，这要求你安装 `@langchain/openai` 集成包。如果需要，你也可以使用 [其他支持的嵌入模型](/docs/integrations/text_embedding)。\n",
        "\n",
        "```{=mdx}\n",
        "import IntegrationInstallTooltip from \"@mdx_components/integration_install_tooltip.mdx\";\n",
        "import Npm2Yarn from \"@theme/Npm2Yarn\";\n",
        "\n",
        "<IntegrationInstallTooltip></IntegrationInstallTooltip>\n",
        "\n",
        "<Npm2Yarn>\n",
        "  @langchain/community @langchain/core @supabase/supabase-js @langchain/openai\n",
        "</Npm2Yarn>\n",
        "```\n",
        "\n",
        "创建数据库后，运行以下 SQL 语句来设置 [`pgvector`](https://github.com/pgvector/pgvector) 并创建必要的表和函数：\n",
        "\n",
        "```sql\n",
        "-- 启用 pgvector 扩展以处理嵌入向量\n",
        "create extension vector;\n",
        "\n",
        "-- 创建一个表来存储你的文档\n",
        "create table documents (\n",
        "  id bigserial primary key,\n",
        "  content text, -- 对应 Document.pageContent\n",
        "  metadata jsonb, -- 对应 Document.metadata\n",
        "  embedding vector(1536) -- 1536 适用于 OpenAI 嵌入，根据需要更改\n",
        ");\n",
        "\n",
        "-- 创建一个函数用于搜索文档\n",
        "create function match_documents (\n",
        "  query_embedding vector(1536),\n",
        "  match_count int DEFAULT null,\n",
        "  filter jsonb DEFAULT '{}'\n",
        ") returns table (\n",
        "  id bigint,\n",
        "  content text,\n",
        "  metadata jsonb,\n",
        "  embedding jsonb,\n",
        "  similarity float\n",
        ")\n",
        "language plpgsql\n",
        "as $$\n",
        "#variable_conflict use_column\n",
        "begin\n",
        "  return query\n",
        "  select\n",
        "    id,\n",
        "    content,\n",
        "    metadata,\n",
        "    (embedding::text)::jsonb as embedding,\n",
        "    1 - (documents.embedding <=> query_embedding) as similarity\n",
        "  from documents\n",
        "  where metadata @> filter\n",
        "  order by documents.embedding <=> query_embedding\n",
        "  limit match_count;\n",
        "end;\n",
        "$$;\n",
        "```\n",
        "\n",
        "### 凭据\n",
        "\n",
        "完成上述操作后，请设置 `SUPABASE_PRIVATE_KEY` 和 `SUPABASE_URL` 环境变量：\n",
        "\n",
        "```typescript\n",
        "process.env.SUPABASE_PRIVATE_KEY = \"your-api-key\";\n",
        "process.env.SUPABASE_URL = \"your-supabase-db-url\";\n",
        "```\n",
        "\n",
        "如果你在本指南中使用 OpenAI 嵌入，还需要设置你的 OpenAI 密钥：\n",
        "\n",
        "```typescript\n",
        "process.env.OPENAI_API_KEY = \"YOUR_API_KEY\";\n",
        "```\n",
        "\n",
        "如果你想获得模型调用的自动追踪，也可以通过取消注释以下内容来设置你的 [LangSmith](https://docs.smith.langchain.com/) API 密钥：\n",
        "\n",
        "```typescript\n",
        "// process.env.LANGSMITH_TRACING=\"true\"\n",
        "// process.env.LANGSMITH_API_KEY=\"your-api-key\"\n",
        "```"
      ]
    },
    {
      "cell_type": "markdown",
      "id": "93df377e",
      "metadata": {},
      "source": [
        "## 实例化"
      ]
    },
    {
      "cell_type": "code",
      "execution_count": 1,
      "id": "dc37144c-208d-4ab3-9f3a-0407a69fe052",
      "metadata": {
        "tags": []
      },
      "outputs": [],
      "source": [
        "import { SupabaseVectorStore } from \"@langchain/community/vectorstores/supabase\";\n",
        "import { OpenAIEmbeddings } from \"@langchain/openai\";\n",
        "\n",
        "import { createClient } from \"@supabase/supabase-js\";\n",
        "\n",
        "const embeddings = new OpenAIEmbeddings({\n",
        "  model: \"text-embedding-3-small\",\n",
        "});\n",
        "\n",
        "const supabaseClient = createClient(\n",
        "  process.env.SUPABASE_URL,\n",
        "  process.env.SUPABASE_PRIVATE_KEY\n",
        ");\n",
        "\n",
        "const vectorStore = new SupabaseVectorStore(embeddings, {\n",
        "  client: supabaseClient,\n",
        "  tableName: \"documents\",\n",
        "  queryName: \"match_documents\",\n",
        "});"
      ]
    },
    {
      "cell_type": "markdown",
      "id": "ac6071d4",
      "metadata": {},
      "source": [
        "## 管理向量存储\n",
        "\n",
        "### 向向量存储中添加条目"
      ]
    },
    {
      "cell_type": "code",
      "execution_count": 2,
      "id": "17f5efc0",
      "metadata": {},
      "outputs": [
        {
          "name": "stdout",
          "output_type": "stream",
          "text": [
            "[ 1, 2, 3, 4 ]\n"
          ]
        }
      ],
      "source": [
        "import type { Document } from \"@langchain/core/documents\";\n",
        "\n",
        "const document1: Document = {\n",
        "  pageContent: \"The powerhouse of the cell is the mitochondria\",\n",
        "  metadata: { source: \"https://example.com\" }\n",
        "};\n",
        "\n",
        "const document2: Document = {\n",
        "  pageContent: \"Buildings are made out of brick\",\n",
        "  metadata: { source: \"https://example.com\" }\n",
        "};\n",
        "\n",
        "const document3: Document = {\n",
        "  pageContent: \"Mitochondria are made out of lipids\",\n",
        "  metadata: { source: \"https://example.com\" }\n",
        "};\n",
        "\n",
        "const document4: Document = {\n",
        "  pageContent: \"The 2024 Olympics are in Paris\",\n",
        "  metadata: { source: \"https://example.com\" }\n",
        "}\n",
        "\n",
        "const documents = [document1, document2, document3, document4];\n",
        "\n",
        "await vectorStore.addDocuments(documents, { ids: [\"1\", \"2\", \"3\", \"4\"] });"
      ]
    },
    {
      "cell_type": "markdown",
      "id": "dcf1b905",
      "metadata": {},
      "source": [
        "### 从向量存储中删除项目"
      ]
    },
    {
      "cell_type": "code",
      "execution_count": 3,
      "id": "ef61e188",
      "metadata": {},
      "outputs": [],
      "source": [
        "await vectorStore.delete({ ids: [\"4\"] });"
      ]
    },
    {
      "cell_type": "markdown",
      "id": "c3620501",
      "metadata": {},
      "source": [
        "## 查询向量存储\n",
        "\n",
        "一旦创建了向量存储并添加了相关文档，您很可能希望在运行链或代理时查询它。\n",
        "\n",
        "### 直接查询\n",
        "\n",
        "执行一个简单的相似性搜索可以按如下方式进行："
      ]
    },
    {
      "cell_type": "code",
      "execution_count": 6,
      "id": "aa0a16fa",
      "metadata": {},
      "outputs": [
        {
          "name": "stdout",
          "output_type": "stream",
          "text": [
            "* The powerhouse of the cell is the mitochondria [{\"source\":\"https://example.com\"}]\n",
            "* Mitochondria are made out of lipids [{\"source\":\"https://example.com\"}]\n"
          ]
        }
      ],
      "source": [
        "const filter = { source: \"https://example.com\" };\n",
        "\n",
        "const similaritySearchResults = await vectorStore.similaritySearch(\"biology\", 2, filter);\n",
        "\n",
        "for (const doc of similaritySearchResults) {\n",
        "  console.log(`* ${doc.pageContent} [${JSON.stringify(doc.metadata, null)}]`);\n",
        "}"
      ]
    },
    {
      "cell_type": "markdown",
      "id": "3ed9d733",
      "metadata": {},
      "source": [
        "如果你想执行相似性搜索并获得相应的分数，可以运行："
      ]
    },
    {
      "cell_type": "code",
      "execution_count": 7,
      "id": "5efd2eaa",
      "metadata": {},
      "outputs": [
        {
          "name": "stdout",
          "output_type": "stream",
          "text": [
            "* [SIM=0.165] The powerhouse of the cell is the mitochondria [{\"source\":\"https://example.com\"}]\n",
            "* [SIM=0.148] Mitochondria are made out of lipids [{\"source\":\"https://example.com\"}]\n"
          ]
        }
      ],
      "source": [
        "const similaritySearchWithScoreResults = await vectorStore.similaritySearchWithScore(\"biology\", 2, filter)\n",
        "\n",
        "for (const [doc, score] of similaritySearchWithScoreResults) {\n",
        "  console.log(`* [SIM=${score.toFixed(3)}] ${doc.pageContent} [${JSON.stringify(doc.metadata)}]`);\n",
        "}"
      ]
    },
    {
      "cell_type": "markdown",
      "id": "180b0e66",
      "metadata": {},
      "source": [
        "### 元数据查询构建器过滤\n",
        "\n",
        "你也可以使用类似 [Supabase JavaScript 库](https://supabase.com/docs/reference/javascript/using-filters) 的查询构建器风格进行过滤，而不必传递一个对象。请注意，由于大多数过滤属性都在 metadata 列中，你需要使用箭头操作符（-> 表示整数，->> 表示文本），具体定义请参阅 [Postgrest API 文档](https://postgrest.org/en/stable/references/api/tables_views.html#json-columns)，并指定属性的数据类型（例如，该列应类似于 `metadata->some_int_prop_name::int`）。"
      ]
    },
    {
      "cell_type": "code",
      "execution_count": 9,
      "id": "e3287768",
      "metadata": {},
      "outputs": [
        {
          "name": "stdout",
          "output_type": "stream",
          "text": [
            "* The powerhouse of the cell is the mitochondria [{\"source\":\"https://example.com\"}]\n",
            "* Mitochondria are made out of lipids [{\"source\":\"https://example.com\"}]\n"
          ]
        }
      ],
      "source": [
        "import { SupabaseFilterRPCCall } from \"@langchain/community/vectorstores/supabase\";\n",
        "\n",
        "const funcFilter: SupabaseFilterRPCCall = (rpc) =>\n",
        "  rpc.filter(\"metadata->>source\", \"eq\", \"https://example.com\");\n",
        "\n",
        "const funcFilterSearchResults = await vectorStore.similaritySearch(\"biology\", 2, funcFilter);\n",
        "\n",
        "for (const doc of funcFilterSearchResults) {\n",
        "  console.log(`* ${doc.pageContent} [${JSON.stringify(doc.metadata, null)}]`);\n",
        "}"
      ]
    },
    {
      "cell_type": "markdown",
      "id": "0c235cdc",
      "metadata": {},
      "source": [
        "### 通过转换为检索器进行查询\n",
        "\n",
        "你还可以将向量存储转换为[检索器](/docs/concepts/retrievers)，以便在你的链中更方便地使用。"
      ]
    },
    {
      "cell_type": "code",
      "execution_count": 10,
      "id": "f3460093",
      "metadata": {},
      "outputs": [
        {
          "name": "stdout",
          "output_type": "stream",
          "text": [
            "[\n",
            "  Document {\n",
            "    pageContent: 'The powerhouse of the cell is the mitochondria',\n",
            "    metadata: { source: 'https://example.com' },\n",
            "    id: undefined\n",
            "  },\n",
            "  Document {\n",
            "    pageContent: 'Mitochondria are made out of lipids',\n",
            "    metadata: { source: 'https://example.com' },\n",
            "    id: undefined\n",
            "  }\n",
            "]\n"
          ]
        }
      ],
      "source": [
        "const retriever = vectorStore.asRetriever({\n",
        "  // Optional filter\n",
        "  filter: filter,\n",
        "  k: 2,\n",
        "});\n",
        "await retriever.invoke(\"biology\");"
      ]
    },
    {
      "cell_type": "markdown",
      "id": "e2e0a211",
      "metadata": {},
      "source": [
        "### 检索增强生成的用法\n",
        "\n",
        "有关如何将此向量存储用于检索增强生成（RAG）的指南，请参阅以下部分：\n",
        "\n",
        "- [教程：使用外部知识](/docs/tutorials/#working-with-external-knowledge)。\n",
        "- [如何操作：使用RAG进行问答](/docs/how_to/#qa-with-rag)\n",
        "- [检索概念文档](/docs/concepts/retrieval)"
      ]
    },
    {
      "cell_type": "markdown",
      "id": "8a27244f",
      "metadata": {},
      "source": [
        "## API 参考文档\n",
        "\n",
        "要详细了解所有 `SupabaseVectorStore` 的功能和配置，请前往 [API 参考文档](https://api.js.langchain.com/classes/langchain_community_vectorstores_supabase.SupabaseVectorStore.html)。"
      ]
    }
  ],
  "metadata": {
    "kernelspec": {
      "display_name": "TypeScript",
      "language": "typescript",
      "name": "tslab"
    },
    "language_info": {
      "codemirror_mode": {
        "mode": "typescript",
        "name": "javascript",
        "typescript": true
      },
      "file_extension": ".ts",
      "mimetype": "text/typescript",
      "name": "typescript",
      "version": "3.7.2"
    }
  },
  "nbformat": 4,
  "nbformat_minor": 5
}