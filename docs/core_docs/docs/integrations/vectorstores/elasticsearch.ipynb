{
  "cells": [
    {
      "cell_type": "raw",
      "id": "1957f5cb",
      "metadata": {
        "vscode": {
          "languageId": "raw"
        }
      },
      "source": [
        "---\n",
        "sidebar_label: Elasticsearch\n",
        "sidebar_class_name: node-only\n",
        "---"
      ]
    },
    {
      "cell_type": "markdown",
      "id": "ef1f0986",
      "metadata": {},
      "source": [
        "# Elasticsearch\n",
        "\n",
        "```{=mdx}\n",
        "\n",
        ":::tip 兼容性\n",
        "仅适用于 Node.js。\n",
        ":::\n",
        "\n",
        "```\n",
        "\n",
        "[Elasticsearch](https://github.com/elastic/elasticsearch) 是一个分布式的、符合 REST 风格的搜索引擎，专为生产级工作负载下的速度和相关性进行了优化。它还支持使用 [k-最近邻](https://zh.wikipedia.org/wiki/K-%E6%9C%80%E8%BF%91%E9%82%BB%E5%B1%85%E7%AE%97%E6%B3%95)（kNN）算法的向量搜索，以及 [自然语言处理](https://www.elastic.co/blog/how-to-deploy-nlp-text-embeddings-and-vector-search)（NLP）的自定义模型。\n",
        "您可以在此处阅读有关 Elasticsearch 中向量搜索支持的更多信息：[链接](https://www.elastic.co/guide/en/elasticsearch/reference/current/knn-search.html)。\n",
        "\n",
        "本指南为开始使用 Elasticsearch [向量存储](/docs/concepts/#vectorstores) 提供了快速概览。如需查看 `ElasticVectorSearch` 所有功能和配置的详细文档，请前往 [API 参考](https://api.js.langchain.com/classes/langchain_community_vectorstores_elasticsearch.ElasticVectorSearch.html) 页面。"
      ]
    },
    {
      "cell_type": "markdown",
      "id": "c824838d",
      "metadata": {},
      "source": [
        "## 概述\n",
        "\n",
        "### 集成详情\n",
        "\n",
        "| 类 | 包 | [Python 支持](https://python.langchain.com/docs/integrations/vectorstores/elasticsearch/) | 包的最新版本 |\n",
        "| :--- | :--- | :---: | :---: |\n",
        "| [`ElasticVectorSearch`](https://api.js.langchain.com/classes/langchain_community_vectorstores_elasticsearch.ElasticVectorSearch.html) | [`@langchain/community`](https://www.npmjs.com/package/@langchain/community) | ✅ |  ![NPM - 版本](https://img.shields.io/npm/v/@langchain/community?style=flat-square&label=%20&) |"
      ]
    },
    {
      "cell_type": "markdown",
      "id": "36fdc060",
      "metadata": {},
      "source": [
        "## 配置\n",
        "\n",
        "要使用 Elasticsearch 向量存储，你需要安装 `@langchain/community` 集成包。\n",
        "\n",
        "LangChain.js 接受 [`@elastic/elasticsearch`](https://github.com/elastic/elasticsearch-js) 作为 Elasticsearch 向量存储的客户端。你需要将其作为对等依赖安装。\n",
        "\n",
        "本指南还将使用 [OpenAI 嵌入模型](/docs/integrations/text_embedding/openai)，这要求你安装 `@langchain/openai` 集成包。你也可以选择使用 [其他支持的嵌入模型](/docs/integrations/text_embedding)。\n",
        "\n",
        "```{=mdx}\n",
        "import IntegrationInstallTooltip from \"@mdx_components/integration_install_tooltip.mdx\";\n",
        "import Npm2Yarn from \"@theme/Npm2Yarn\";\n",
        "\n",
        "<IntegrationInstallTooltip></IntegrationInstallTooltip>\n",
        "\n",
        "<Npm2Yarn>\n",
        "  @langchain/community @elastic/elasticsearch @langchain/openai @langchain/core\n",
        "</Npm2Yarn>\n",
        "```\n",
        "\n",
        "### 凭证\n",
        "\n",
        "要使用 Elasticsearch 向量存储，你需要运行一个 Elasticsearch 实例。\n",
        "\n",
        "你可以使用 [官方 Docker 镜像](https://www.elastic.co/guide/en/elasticsearch/reference/current/docker.html) 来快速启动，或者使用 Elastic 官方云服务 [Elastic Cloud](https://www.elastic.co/cloud/)。\n",
        "\n",
        "连接到 Elastic Cloud 时，你可以阅读 [此处](https://www.elastic.co/guide/en/kibana/current/api-keys.html) 的文档以获取 API 密钥。\n",
        "\n",
        "如果你在本指南中使用 OpenAI 嵌入模型，还需要设置你的 OpenAI 密钥：\n",
        "\n",
        "```typescript\n",
        "process.env.OPENAI_API_KEY = \"YOUR_API_KEY\";\n",
        "```\n",
        "\n",
        "如果你想对模型调用进行自动化追踪，也可以通过取消下面的注释来设置你的 [LangSmith](https://docs.smith.langchain.com/) API 密钥：\n",
        "\n",
        "```typescript\n",
        "// process.env.LANGSMITH_TRACING=\"true\"\n",
        "// process.env.LANGSMITH_API_KEY=\"your-api-key\"\n",
        "```"
      ]
    },
    {
      "cell_type": "markdown",
      "id": "93df377e",
      "metadata": {},
      "source": [
        "## 实例化\n",
        "\n",
        "实例化 Elasticsearch 将根据您的实例托管位置的不同而有所差异。"
      ]
    },
    {
      "cell_type": "code",
      "execution_count": 1,
      "id": "dc37144c-208d-4ab3-9f3a-0407a69fe052",
      "metadata": {
        "tags": []
      },
      "outputs": [],
      "source": [
        "import {\n",
        "  ElasticVectorSearch,\n",
        "  type ElasticClientArgs,\n",
        "} from \"@langchain/community/vectorstores/elasticsearch\";\n",
        "import { OpenAIEmbeddings } from \"@langchain/openai\";\n",
        "\n",
        "import { Client, type ClientOptions } from \"@elastic/elasticsearch\";\n",
        "\n",
        "import * as fs from \"node:fs\";\n",
        "\n",
        "const embeddings = new OpenAIEmbeddings({\n",
        "  model: \"text-embedding-3-small\",\n",
        "});\n",
        "\n",
        "const config: ClientOptions = {\n",
        "  node: process.env.ELASTIC_URL ?? \"https://127.0.0.1:9200\",\n",
        "};\n",
        "\n",
        "if (process.env.ELASTIC_API_KEY) {\n",
        "  config.auth = {\n",
        "    apiKey: process.env.ELASTIC_API_KEY,\n",
        "  };\n",
        "} else if (process.env.ELASTIC_USERNAME && process.env.ELASTIC_PASSWORD) {\n",
        "  config.auth = {\n",
        "    username: process.env.ELASTIC_USERNAME,\n",
        "    password: process.env.ELASTIC_PASSWORD,\n",
        "  };\n",
        "}\n",
        "// Local Docker deploys require a TLS certificate\n",
        "if (process.env.ELASTIC_CERT_PATH) {\n",
        "  config.tls = {\n",
        "    ca: fs.readFileSync(process.env.ELASTIC_CERT_PATH),\n",
        "    rejectUnauthorized: false,\n",
        "  }\n",
        "}\n",
        "const clientArgs: ElasticClientArgs = {\n",
        "  client: new Client(config),\n",
        "  indexName: process.env.ELASTIC_INDEX ?? \"test_vectorstore\",\n",
        "};\n",
        "\n",
        "const vectorStore = new ElasticVectorSearch(embeddings, clientArgs);"
      ]
    },
    {
      "cell_type": "markdown",
      "id": "ac6071d4",
      "metadata": {},
      "source": [
        "## 管理向量存储\n",
        "\n",
        "### 向向量存储中添加项目"
      ]
    },
    {
      "cell_type": "code",
      "execution_count": 2,
      "id": "17f5efc0",
      "metadata": {},
      "outputs": [
        {
          "name": "stdout",
          "output_type": "stream",
          "text": [
            "[ '1', '2', '3', '4' ]\n"
          ]
        }
      ],
      "source": [
        "import type { Document } from \"@langchain/core/documents\";\n",
        "\n",
        "const document1: Document = {\n",
        "  pageContent: \"The powerhouse of the cell is the mitochondria\",\n",
        "  metadata: { source: \"https://example.com\" }\n",
        "};\n",
        "\n",
        "const document2: Document = {\n",
        "  pageContent: \"Buildings are made out of brick\",\n",
        "  metadata: { source: \"https://example.com\" }\n",
        "};\n",
        "\n",
        "const document3: Document = {\n",
        "  pageContent: \"Mitochondria are made out of lipids\",\n",
        "  metadata: { source: \"https://example.com\" }\n",
        "};\n",
        "\n",
        "const document4: Document = {\n",
        "  pageContent: \"The 2024 Olympics are in Paris\",\n",
        "  metadata: { source: \"https://example.com\" }\n",
        "}\n",
        "\n",
        "const documents = [document1, document2, document3, document4];\n",
        "\n",
        "await vectorStore.addDocuments(documents, { ids: [\"1\", \"2\", \"3\", \"4\"] });"
      ]
    },
    {
      "cell_type": "markdown",
      "id": "dcf1b905",
      "metadata": {},
      "source": [
        "### 从向量存储中删除项目\n",
        "\n",
        "您可以通过传入之前使用的相同ID来删除存储中的值："
      ]
    },
    {
      "cell_type": "code",
      "execution_count": 3,
      "id": "ef61e188",
      "metadata": {},
      "outputs": [],
      "source": [
        "await vectorStore.delete({ ids: [\"4\"] });"
      ]
    },
    {
      "cell_type": "markdown",
      "id": "c3620501",
      "metadata": {},
      "source": [
        "## 查询向量存储\n",
        "\n",
        "一旦创建了向量存储并添加了相关文档，您很可能希望在运行链或代理时对其进行查询。\n",
        "\n",
        "### 直接查询\n",
        "\n",
        "执行一个简单的相似性搜索可以按照以下方式完成："
      ]
    },
    {
      "cell_type": "code",
      "execution_count": 13,
      "id": "aa0a16fa",
      "metadata": {},
      "outputs": [
        {
          "name": "stdout",
          "output_type": "stream",
          "text": [
            "* The powerhouse of the cell is the mitochondria [{\"source\":\"https://example.com\"}]\n",
            "* Mitochondria are made out of lipids [{\"source\":\"https://example.com\"}]\n"
          ]
        }
      ],
      "source": [
        "const filter = [{\n",
        "  operator: \"match\",\n",
        "  field: \"source\",\n",
        "  value: \"https://example.com\",\n",
        "}];\n",
        "\n",
        "const similaritySearchResults = await vectorStore.similaritySearch(\"biology\", 2, filter);\n",
        "\n",
        "for (const doc of similaritySearchResults) {\n",
        "  console.log(`* ${doc.pageContent} [${JSON.stringify(doc.metadata, null)}]`);\n",
        "}"
      ]
    },
    {
      "cell_type": "markdown",
      "id": "3ed9d733",
      "metadata": {},
      "source": [
        "向量存储支持[Elasticsearch过滤语法](https://www.elastic.co/guide/en/elasticsearch/reference/current/query-filter-context.html)运算符。\n",
        "\n",
        "如果你想执行相似性搜索并获取相应的分数，可以运行："
      ]
    },
    {
      "cell_type": "code",
      "execution_count": 14,
      "id": "5efd2eaa",
      "metadata": {},
      "outputs": [
        {
          "name": "stdout",
          "output_type": "stream",
          "text": [
            "* [SIM=0.374] The powerhouse of the cell is the mitochondria [{\"source\":\"https://example.com\"}]\n",
            "* [SIM=0.370] Mitochondria are made out of lipids [{\"source\":\"https://example.com\"}]\n"
          ]
        }
      ],
      "source": [
        "const similaritySearchWithScoreResults = await vectorStore.similaritySearchWithScore(\"biology\", 2, filter)\n",
        "\n",
        "for (const [doc, score] of similaritySearchWithScoreResults) {\n",
        "  console.log(`* [SIM=${score.toFixed(3)}] ${doc.pageContent} [${JSON.stringify(doc.metadata)}]`);\n",
        "}"
      ]
    },
    {
      "cell_type": "markdown",
      "id": "0c235cdc",
      "metadata": {},
      "source": [
        "### 通过转换为检索器进行查询\n",
        "\n",
        "您还可以将向量存储转换为[检索器](/docs/concepts/retrievers)，以便在您的链中更方便地使用。"
      ]
    },
    {
      "cell_type": "code",
      "execution_count": 15,
      "id": "f3460093",
      "metadata": {},
      "outputs": [
        {
          "name": "stdout",
          "output_type": "stream",
          "text": [
            "[\n",
            "  Document {\n",
            "    pageContent: 'The powerhouse of the cell is the mitochondria',\n",
            "    metadata: { source: 'https://example.com' },\n",
            "    id: undefined\n",
            "  },\n",
            "  Document {\n",
            "    pageContent: 'Mitochondria are made out of lipids',\n",
            "    metadata: { source: 'https://example.com' },\n",
            "    id: undefined\n",
            "  }\n",
            "]\n"
          ]
        }
      ],
      "source": [
        "const retriever = vectorStore.asRetriever({\n",
        "  // Optional filter\n",
        "  filter: filter,\n",
        "  k: 2,\n",
        "});\n",
        "await retriever.invoke(\"biology\");"
      ]
    },
    {
      "cell_type": "markdown",
      "id": "e2e0a211",
      "metadata": {},
      "source": [
        "### 检索增强生成的用法\n",
        "\n",
        "有关如何将此向量存储用于检索增强生成（RAG）的指南，请参阅以下部分：\n",
        "\n",
        "- [教程：使用外部知识](/docs/tutorials/#working-with-external-knowledge)。\n",
        "- [如何操作：使用RAG进行问答](/docs/how_to/#qa-with-rag)\n",
        "- [检索概念文档](/docs/concepts/retrieval)"
      ]
    },
    {
      "cell_type": "markdown",
      "id": "8a27244f",
      "metadata": {},
      "source": [
        "## API 参考文档\n",
        "\n",
        "如需详细了解所有 `ElasticVectorSearch` 的功能和配置，请前往 [API 参考文档](https://api.js.langchain.com/classes/langchain_community_vectorstores_elasticsearch.ElasticVectorSearch.html)。"
      ]
    }
  ],
  "metadata": {
    "kernelspec": {
      "display_name": "TypeScript",
      "language": "typescript",
      "name": "tslab"
    },
    "language_info": {
      "codemirror_mode": {
        "mode": "typescript",
        "name": "javascript",
        "typescript": true
      },
      "file_extension": ".ts",
      "mimetype": "text/typescript",
      "name": "typescript",
      "version": "3.7.2"
    }
  },
  "nbformat": 4,
  "nbformat_minor": 5
}