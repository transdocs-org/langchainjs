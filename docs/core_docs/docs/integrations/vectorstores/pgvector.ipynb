{
  "cells": [
    {
      "cell_type": "raw",
      "id": "1957f5cb",
      "metadata": {
        "vscode": {
          "languageId": "raw"
        }
      },
      "source": [
        "---\n",
        "sidebar_label: PGVector\n",
        "sidebar_class_name: node-only\n",
        "---"
      ]
    },
    {
      "cell_type": "markdown",
      "id": "ef1f0986",
      "metadata": {},
      "source": [
        "# PGVectorStore\n",
        "\n",
        "```{=mdx}\n",
        ":::tip 兼容性\n",
        "仅适用于 Node.js。\n",
        ":::\n",
        "```\n",
        "\n",
        "为了在通用 PostgreSQL 数据库中启用向量搜索，LangChain.js 支持使用 [`pgvector`](https://github.com/pgvector/pgvector) Postgres 扩展。\n",
        "\n",
        "本指南提供了 PGVector [向量存储](/docs/concepts/#vectorstores) 的快速入门概览。如需了解所有 `PGVectorStore` 功能和配置的详细文档，请访问 [API 参考文档](https://api.js.langchain.com/classes/langchain_community_vectorstores_pgvector.PGVectorStore.html)。"
      ]
    },
    {
      "cell_type": "markdown",
      "id": "c824838d",
      "metadata": {},
      "source": [
        "## 概述\n",
        "\n",
        "### 集成详情\n",
        "\n",
        "| 类 | 包 | [Python 支持](https://python.langchain.com/docs/integrations/vectorstores/pgvector/) | 包的最新版本 |\n",
        "| :--- | :--- | :---: | :---: |\n",
        "| [`PGVectorStore`](https://api.js.langchain.com/classes/langchain_community_vectorstores_pgvector.PGVectorStore.html) | [`@langchain/community`](https://npmjs.com/@langchain/community) | ✅ | ![NPM - 版本](https://img.shields.io/npm/v/@langchain/community?style=flat-square&label=%20&) |"
      ]
    },
    {
      "cell_type": "markdown",
      "id": "36fdc060",
      "metadata": {},
      "source": [
        "## 配置\n",
        "\n",
        "要使用 PGVector 向量存储，你需要设置一个启用了 [`pgvector`](https://github.com/pgvector/pgvector) 扩展的 Postgres 实例。你还需要安装 `@langchain/community` 集成包，并将 [`pg`](https://www.npmjs.com/package/pg) 包作为对等依赖安装。\n",
        "\n",
        "本指南还将使用 [OpenAI 嵌入](/docs/integrations/text_embedding/openai)，这要求你安装 `@langchain/openai` 集成包。如果你愿意，也可以使用 [其他支持的嵌入模型](/docs/integrations/text_embedding)。\n",
        "\n",
        "我们还将使用 [`uuid`](https://www.npmjs.com/package/uuid) 包来生成符合要求格式的 ID。\n",
        "\n",
        "```{=mdx}\n",
        "import IntegrationInstallTooltip from \"@mdx_components/integration_install_tooltip.mdx\";\n",
        "import Npm2Yarn from \"@theme/Npm2Yarn\";\n",
        "\n",
        "<IntegrationInstallTooltip></IntegrationInstallTooltip>\n",
        "\n",
        "<Npm2Yarn>\n",
        "  @langchain/community @langchain/openai @langchain/core pg uuid\n",
        "</Npm2Yarn>\n",
        "```\n",
        "\n",
        "### 设置实例\n",
        "\n",
        "根据你设置实例的方式，有多种方式可以连接到 Postgres。以下是一个使用 `pgvector` 团队提供的预构建 Docker 镜像进行本地设置的示例。\n",
        "\n",
        "创建一个名为 docker-compose.yml 的文件，内容如下：\n",
        "\n",
        "```yaml\n",
        "# 运行此命令以启动数据库：\n",
        "# docker compose up\n",
        "services:\n",
        "  db:\n",
        "    hostname: 127.0.0.1\n",
        "    image: pgvector/pgvector:pg16\n",
        "    ports:\n",
        "      - 5432:5432\n",
        "    restart: always\n",
        "    environment:\n",
        "      - POSTGRES_DB=api\n",
        "      - POSTGRES_USER=myuser\n",
        "      - POSTGRES_PASSWORD=ChangeMe\n",
        "```\n",
        "\n",
        "然后在同一目录中运行 `docker compose up` 来启动容器。\n",
        "\n",
        "你可以在此 [官方仓库](https://github.com/pgvector/pgvector/) 中找到有关如何设置 pgvector 的更多信息。\n",
        "\n",
        "### 凭据\n",
        "\n",
        "要连接到你的 Postgres 实例，你需要相应的凭据。支持的完整选项列表，请参阅 [`node-postgres` 文档](https://node-postgres.com/apis/client)。\n",
        "\n",
        "如果本指南中你使用的是 OpenAI 嵌入，则还需要设置你的 OpenAI 密钥：\n",
        "\n",
        "```typescript\n",
        "process.env.OPENAI_API_KEY = \"YOUR_API_KEY\";\n",
        "```\n",
        "\n",
        "如果你想对模型调用进行自动追踪，也可以通过取消注释以下代码来设置你的 [LangSmith](https://docs.smith.langchain.com/) API 密钥：\n",
        "\n",
        "```typescript\n",
        "// process.env.LANGSMITH_TRACING=\"true\"\n",
        "// process.env.LANGSMITH_API_KEY=\"your-api-key\"\n",
        "```"
      ]
    },
    {
      "cell_type": "markdown",
      "id": "93df377e",
      "metadata": {},
      "source": [
        "## 实例化\n",
        "\n",
        "要实例化向量存储，请调用 `.initialize()` 静态方法。这将自动检查传入的 `config` 中指定的 `tableName` 表是否存在。如果不存在，它将使用必需的列创建该表。\n",
        "\n",
        "```{=mdx}\n",
        "\n",
        "::::danger 安全性\n",
        "不应将用户名等用户生成的数据用作表名和列名的输入。  \n",
        "**这可能导致 SQL 注入攻击！**\n",
        "::::\n",
        "\n",
        "```"
      ]
    },
    {
      "cell_type": "code",
      "execution_count": 1,
      "id": "dc37144c-208d-4ab3-9f3a-0407a69fe052",
      "metadata": {
        "tags": []
      },
      "outputs": [],
      "source": [
        "import {\n",
        "  PGVectorStore,\n",
        "  DistanceStrategy,\n",
        "} from \"@langchain/community/vectorstores/pgvector\";\n",
        "import { OpenAIEmbeddings } from \"@langchain/openai\";\n",
        "import { PoolConfig } from \"pg\";\n",
        "\n",
        "const embeddings = new OpenAIEmbeddings({\n",
        "  model: \"text-embedding-3-small\",\n",
        "});\n",
        "\n",
        "// Sample config\n",
        "const config = {\n",
        "  postgresConnectionOptions: {\n",
        "    type: \"postgres\",\n",
        "    host: \"127.0.0.1\",\n",
        "    port: 5433,\n",
        "    user: \"myuser\",\n",
        "    password: \"ChangeMe\",\n",
        "    database: \"api\",\n",
        "  } as PoolConfig,\n",
        "  tableName: \"testlangchainjs\",\n",
        "  columns: {\n",
        "    idColumnName: \"id\",\n",
        "    vectorColumnName: \"vector\",\n",
        "    contentColumnName: \"content\",\n",
        "    metadataColumnName: \"metadata\",\n",
        "  },\n",
        "  // supported distance strategies: cosine (default), innerProduct, or euclidean\n",
        "  distanceStrategy: \"cosine\" as DistanceStrategy,\n",
        "};\n",
        "\n",
        "const vectorStore = await PGVectorStore.initialize(\n",
        "  embeddings,\n",
        "  config\n",
        ");"
      ]
    },
    {
      "cell_type": "markdown",
      "id": "ac6071d4",
      "metadata": {},
      "source": [
        "## 管理向量存储\n",
        "\n",
        "### 向向量存储中添加项目"
      ]
    },
    {
      "cell_type": "code",
      "execution_count": 2,
      "id": "17f5efc0",
      "metadata": {},
      "outputs": [],
      "source": [
        "import { v4 as uuidv4 } from \"uuid\";\n",
        "import type { Document } from \"@langchain/core/documents\";\n",
        "\n",
        "const document1: Document = {\n",
        "  pageContent: \"The powerhouse of the cell is the mitochondria\",\n",
        "  metadata: { source: \"https://example.com\" }\n",
        "};\n",
        "\n",
        "const document2: Document = {\n",
        "  pageContent: \"Buildings are made out of brick\",\n",
        "  metadata: { source: \"https://example.com\" }\n",
        "};\n",
        "\n",
        "const document3: Document = {\n",
        "  pageContent: \"Mitochondria are made out of lipids\",\n",
        "  metadata: { source: \"https://example.com\" }\n",
        "};\n",
        "\n",
        "const document4: Document = {\n",
        "  pageContent: \"The 2024 Olympics are in Paris\",\n",
        "  metadata: { source: \"https://example.com\" }\n",
        "}\n",
        "\n",
        "const documents = [document1, document2, document3, document4];\n",
        "\n",
        "const ids = [uuidv4(), uuidv4(), uuidv4(), uuidv4()]\n",
        "\n",
        "await vectorStore.addDocuments(documents, { ids: ids });"
      ]
    },
    {
      "cell_type": "markdown",
      "id": "dcf1b905",
      "metadata": {},
      "source": [
        "### 从向量存储中删除项目"
      ]
    },
    {
      "cell_type": "code",
      "execution_count": 4,
      "id": "ef61e188",
      "metadata": {},
      "outputs": [],
      "source": [
        "const id4 = ids[ids.length - 1];\n",
        "\n",
        "await vectorStore.delete({ ids: [id4] });"
      ]
    },
    {
      "cell_type": "markdown",
      "id": "c3620501",
      "metadata": {},
      "source": [
        "## 查询向量存储\n",
        "\n",
        "一旦创建了向量存储并添加了相关文档，您很可能希望在运行链或代理时对其进行查询。\n",
        "\n",
        "### 直接查询\n",
        "\n",
        "执行一个简单的相似性搜索可以按照以下方式："
      ]
    },
    {
      "cell_type": "code",
      "execution_count": 5,
      "id": "aa0a16fa",
      "metadata": {},
      "outputs": [
        {
          "name": "stdout",
          "output_type": "stream",
          "text": [
            "* The powerhouse of the cell is the mitochondria [{\"source\":\"https://example.com\"}]\n",
            "* Mitochondria are made out of lipids [{\"source\":\"https://example.com\"}]\n"
          ]
        }
      ],
      "source": [
        "const filter = { source: \"https://example.com\" };\n",
        "\n",
        "const similaritySearchResults = await vectorStore.similaritySearch(\"biology\", 2, filter);\n",
        "\n",
        "for (const doc of similaritySearchResults) {\n",
        "  console.log(`* ${doc.pageContent} [${JSON.stringify(doc.metadata, null)}]`);\n",
        "}"
      ]
    },
    {
      "cell_type": "markdown",
      "id": "3ed9d733",
      "metadata": {},
      "source": [
        "上述过滤语法支持精确匹配，但也支持以下操作：\n",
        "\n",
        "#### 使用 `in` 运算符\n",
        "\n",
        "```json\n",
        "{\n",
        "  \"field\": {\n",
        "    \"in\": [\"value1\", \"value2\"],\n",
        "  }\n",
        "}\n",
        "```\n",
        "\n",
        "#### 使用 `notIn` 运算符\n",
        "\n",
        "```json\n",
        "{\n",
        "  \"field\": {\n",
        "    \"notIn\": [\"value1\", \"value2\"],\n",
        "  }\n",
        "}\n",
        "```\n",
        "\n",
        "#### 使用 `arrayContains` 运算符\n",
        "\n",
        "```json\n",
        "{\n",
        "  \"field\": {\n",
        "    \"arrayContains\": [\"value1\", \"value2\"],\n",
        "  }\n",
        "}\n",
        "```\n",
        "\n",
        "如果你想执行相似性搜索并获得相应的分数，可以运行以下代码："
      ]
    },
    {
      "cell_type": "code",
      "execution_count": 6,
      "id": "5efd2eaa",
      "metadata": {},
      "outputs": [
        {
          "name": "stdout",
          "output_type": "stream",
          "text": [
            "* [SIM=0.835] The powerhouse of the cell is the mitochondria [{\"source\":\"https://example.com\"}]\n",
            "* [SIM=0.852] Mitochondria are made out of lipids [{\"source\":\"https://example.com\"}]\n"
          ]
        }
      ],
      "source": [
        "const similaritySearchWithScoreResults = await vectorStore.similaritySearchWithScore(\"biology\", 2, filter)\n",
        "\n",
        "for (const [doc, score] of similaritySearchWithScoreResults) {\n",
        "  console.log(`* [SIM=${score.toFixed(3)}] ${doc.pageContent} [${JSON.stringify(doc.metadata)}]`);\n",
        "}"
      ]
    },
    {
      "cell_type": "markdown",
      "id": "0c235cdc",
      "metadata": {},
      "source": [
        "### 通过转换为检索器进行查询\n",
        "\n",
        "你还可以将向量存储转换为[检索器](/docs/concepts/retrievers)，以便在你的链中更方便地使用。"
      ]
    },
    {
      "cell_type": "code",
      "execution_count": 7,
      "id": "f3460093",
      "metadata": {},
      "outputs": [
        {
          "name": "stdout",
          "output_type": "stream",
          "text": [
            "[\n",
            "  Document {\n",
            "    pageContent: 'The powerhouse of the cell is the mitochondria',\n",
            "    metadata: { source: 'https://example.com' },\n",
            "    id: undefined\n",
            "  },\n",
            "  Document {\n",
            "    pageContent: 'Mitochondria are made out of lipids',\n",
            "    metadata: { source: 'https://example.com' },\n",
            "    id: undefined\n",
            "  }\n",
            "]\n"
          ]
        }
      ],
      "source": [
        "const retriever = vectorStore.asRetriever({\n",
        "  // Optional filter\n",
        "  filter: filter,\n",
        "  k: 2,\n",
        "});\n",
        "await retriever.invoke(\"biology\");"
      ]
    },
    {
      "cell_type": "markdown",
      "id": "e2e0a211",
      "metadata": {},
      "source": [
        "### 检索增强生成的用法\n",
        "\n",
        "有关如何将此向量存储用于检索增强生成（RAG）的指南，请参阅以下部分：\n",
        "\n",
        "- [教程：使用外部知识](/docs/tutorials/#working-with-external-knowledge)。\n",
        "- [如何操作：使用 RAG 进行问答](/docs/how_to/#qa-with-rag)\n",
        "- [检索概念文档](/docs/concepts/retrieval)"
      ]
    },
    {
      "cell_type": "markdown",
      "id": "371727a8",
      "metadata": {},
      "source": [
        "## 高级用法：重用连接",
        "\n",
        "你可以通过创建一个连接池，然后直接通过构造函数创建新的 `PGVectorStore` 实例来重用连接。\n",
        "\n",
        "请注意，在使用构造函数之前，你应该至少调用一次 `.initialize()` 方法，以正确设置数据库表。"
      ]
    },
    {
      "cell_type": "code",
      "execution_count": null,
      "id": "09efeac4",
      "metadata": {},
      "outputs": [],
      "source": [
        "import { OpenAIEmbeddings } from \"@langchain/openai\";\n",
        "import { PGVectorStore } from \"@langchain/community/vectorstores/pgvector\";\n",
        "import pg from \"pg\";\n",
        "\n",
        "// First, follow set-up instructions at\n",
        "// https://js.langchain.com/docs/modules/indexes/vector_stores/integrations/pgvector\n",
        "\n",
        "const reusablePool = new pg.Pool({\n",
        "  host: \"127.0.0.1\",\n",
        "  port: 5433,\n",
        "  user: \"myuser\",\n",
        "  password: \"ChangeMe\",\n",
        "  database: \"api\",\n",
        "});\n",
        "\n",
        "const originalConfig = {\n",
        "  pool: reusablePool,\n",
        "  tableName: \"testlangchainjs\",\n",
        "  collectionName: \"sample\",\n",
        "  collectionTableName: \"collections\",\n",
        "  columns: {\n",
        "    idColumnName: \"id\",\n",
        "    vectorColumnName: \"vector\",\n",
        "    contentColumnName: \"content\",\n",
        "    metadataColumnName: \"metadata\",\n",
        "  },\n",
        "};\n",
        "\n",
        "// Set up the DB.\n",
        "// Can skip this step if you've already initialized the DB.\n",
        "// await PGVectorStore.initialize(new OpenAIEmbeddings(), originalConfig);\n",
        "const pgvectorStore = new PGVectorStore(new OpenAIEmbeddings(), originalConfig);\n",
        "\n",
        "await pgvectorStore.addDocuments([\n",
        "  { pageContent: \"what's this\", metadata: { a: 2 } },\n",
        "  { pageContent: \"Cat drinks milk\", metadata: { a: 1 } },\n",
        "]);\n",
        "\n",
        "const results = await pgvectorStore.similaritySearch(\"water\", 1);\n",
        "\n",
        "console.log(results);\n",
        "\n",
        "/*\n",
        "  [ Document { pageContent: 'Cat drinks milk', metadata: { a: 1 } } ]\n",
        "*/\n",
        "\n",
        "const pgvectorStore2 = new PGVectorStore(new OpenAIEmbeddings(), {\n",
        "  pool: reusablePool,\n",
        "  tableName: \"testlangchainjs\",\n",
        "  collectionTableName: \"collections\",\n",
        "  collectionName: \"some_other_collection\",\n",
        "  columns: {\n",
        "    idColumnName: \"id\",\n",
        "    vectorColumnName: \"vector\",\n",
        "    contentColumnName: \"content\",\n",
        "    metadataColumnName: \"metadata\",\n",
        "  },\n",
        "});\n",
        "\n",
        "const results2 = await pgvectorStore2.similaritySearch(\"water\", 1);\n",
        "\n",
        "console.log(results2);\n",
        "\n",
        "/*\n",
        "  []\n",
        "*/\n",
        "\n",
        "await reusablePool.end();"
      ]
    },
    {
      "cell_type": "markdown",
      "id": "23bd7096",
      "metadata": {},
      "source": [
        "## 创建HNSW索引\n",
        "\n",
        "默认情况下，扩展执行的是顺序扫描搜索，召回率为100%。你可以考虑为近似最近邻（ANN）搜索创建HNSW索引，以加快 `similaritySearchVectorWithScore` 的执行时间。要对你向量列创建HNSW索引，请使用 `createHnswIndex()` 方法。\n",
        "\n",
        "方法参数包括：\n",
        "\n",
        "- `dimensions`：定义向量数据类型的维度数量，最多2000个维度。例如，对于OpenAI的text-embedding-ada-002和Amazon的amazon.titan-embed-text-v1模型，请使用1536。\n",
        "\n",
        "- `m?`：每层的最大连接数（默认为16）。较小的值可以改善索引构建时间，而较大的值可能会加快搜索查询。\n",
        "\n",
        "- `efConstruction?`：用于构建图的动态候选列表的大小（默认为64）。更高的值可能会提高索引质量，但会增加索引构建时间。\n",
        "\n",
        "- `distanceFunction?`：你想要使用的距离函数名称，会根据distanceStrategy自动选择。\n",
        "\n",
        "更多信息请参见 [Pgvector GitHub仓库](https://github.com/pgvector/pgvector?tab=readme-ov-file#hnsw) 和 [Malkov Yu A. 与 Yashunin D. A. 于2020年发表的HNSW论文：使用分层可导航小世界图高效且鲁棒的近似最近邻搜索](https://arxiv.org/pdf/1603.09320)"
      ]
    },
    {
      "cell_type": "code",
      "execution_count": null,
      "id": "5e5b9595",
      "metadata": {},
      "outputs": [],
      "source": [
        "import { OpenAIEmbeddings } from \"@langchain/openai\";\n",
        "import {\n",
        "  DistanceStrategy,\n",
        "  PGVectorStore,\n",
        "} from \"@langchain/community/vectorstores/pgvector\";\n",
        "import { PoolConfig } from \"pg\";\n",
        "\n",
        "// First, follow set-up instructions at\n",
        "// https://js.langchain.com/docs/modules/indexes/vector_stores/integrations/pgvector\n",
        "\n",
        "const hnswConfig = {\n",
        "  postgresConnectionOptions: {\n",
        "    type: \"postgres\",\n",
        "    host: \"127.0.0.1\",\n",
        "    port: 5433,\n",
        "    user: \"myuser\",\n",
        "    password: \"ChangeMe\",\n",
        "    database: \"api\",\n",
        "  } as PoolConfig,\n",
        "  tableName: \"testlangchainjs\",\n",
        "  columns: {\n",
        "    idColumnName: \"id\",\n",
        "    vectorColumnName: \"vector\",\n",
        "    contentColumnName: \"content\",\n",
        "    metadataColumnName: \"metadata\",\n",
        "  },\n",
        "  // supported distance strategies: cosine (default), innerProduct, or euclidean\n",
        "  distanceStrategy: \"cosine\" as DistanceStrategy,\n",
        "};\n",
        "\n",
        "const hnswPgVectorStore = await PGVectorStore.initialize(\n",
        "  new OpenAIEmbeddings(),\n",
        "  hnswConfig\n",
        ");\n",
        "\n",
        "// create the index\n",
        "await hnswPgVectorStore.createHnswIndex({\n",
        "  dimensions: 1536,\n",
        "  efConstruction: 64,\n",
        "  m: 16,\n",
        "});\n",
        "\n",
        "await hnswPgVectorStore.addDocuments([\n",
        "  { pageContent: \"what's this\", metadata: { a: 2, b: [\"tag1\", \"tag2\"] } },\n",
        "  { pageContent: \"Cat drinks milk\", metadata: { a: 1, b: [\"tag2\"] } },\n",
        "]);\n",
        "\n",
        "const model = new OpenAIEmbeddings();\n",
        "const query = await model.embedQuery(\"water\");\n",
        "const hnswResults = await hnswPgVectorStore.similaritySearchVectorWithScore(query, 1);\n",
        "\n",
        "console.log(hnswResults);\n",
        "\n",
        "await pgvectorStore.end();"
      ]
    },
    {
      "cell_type": "markdown",
      "id": "069f1b5f",
      "metadata": {},
      "source": [
        "## 关闭连接\n",
        "\n",
        "完成操作后，请确保关闭连接以避免资源过度消耗："
      ]
    },
    {
      "cell_type": "code",
      "execution_count": null,
      "id": "f71ce986",
      "metadata": {},
      "outputs": [],
      "source": [
        "await vectorStore.end();"
      ]
    },
    {
      "cell_type": "markdown",
      "id": "8a27244f",
      "metadata": {},
      "source": [
        "## API 参考文档\n",
        "\n",
        "如需详细了解所有 `PGVectorStore` 功能和配置，请前往 [API 参考文档](https://api.js.langchain.com/classes/langchain_community_vectorstores_pgvector.PGVectorStore.html)。"
      ]
    }
  ],
  "metadata": {
    "kernelspec": {
      "display_name": "TypeScript",
      "language": "typescript",
      "name": "tslab"
    },
    "language_info": {
      "codemirror_mode": {
        "mode": "typescript",
        "name": "javascript",
        "typescript": true
      },
      "file_extension": ".ts",
      "mimetype": "text/typescript",
      "name": "typescript",
      "version": "3.7.2"
    }
  },
  "nbformat": 4,
  "nbformat_minor": 5
}