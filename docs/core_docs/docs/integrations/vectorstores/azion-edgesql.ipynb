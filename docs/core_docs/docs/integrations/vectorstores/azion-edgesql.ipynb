{
  "cells": [
    {
      "cell_type": "raw",
      "id": "1957f5cb",
      "metadata": {
        "vscode": {
          "languageId": "raw"
        }
      },
      "source": [
        "---\n",
        "sidebar_label: Azion EdgeSQL\n",
        "---"
      ]
    },
    {
      "cell_type": "markdown",
      "id": "ef1f0986",
      "metadata": {},
      "source": [
        "# AzionVectorStore\n",
        "\n",
        "`AzionVectorStore` 用于在 Azion 的 Edge 平台上，使用 Edge SQL 直接管理和搜索文档集合中的向量嵌入。\n",
        "\n",
        "本指南提供了关于如何开始使用 Azion EdgeSQL [向量存储](/docs/concepts/#vectorstores) 的快速概述。如需了解 `AzionVectorStore` 所有功能和配置的详细文档，请参阅 [API 参考文档](https://api.js.langchain.com/classes/_langchain_community.vectorstores_azion_edgesql.AzionVectorStore.html)。"
      ]
    },
    {
      "cell_type": "markdown",
      "id": "c824838d",
      "metadata": {},
      "source": [
        "## 概述\n",
        "\n",
        "### 集成详情\n",
        "\n",
        "| 类 | 包 | [PY 支持] |  包最新版本 |\n",
        "| :--- | :--- | :---: | :---: |\n",
        "| [`AzionVectorStore`](https://api.js.langchain.com/classes/langchain_community_vectorstores_azion_edgesql.AzionVectorStore.html) | [`@langchain/community`](https://npmjs.com/@langchain/community) | ❌ |  ![NPM - 版本](https://img.shields.io/npm/v/@langchain/community?style=flat-square&label=%20&) |"
      ]
    },
    {
      "cell_type": "markdown",
      "id": "36fdc060",
      "metadata": {},
      "source": [
        "## 配置\n",
        "\n",
        "要使用 `AzionVectorStore` 向量存储，你需要安装 `@langchain/community` 包。除此之外，你还需要一个 [Azion 账户](https://www.azion.com/en/documentation/products/accounts/creating-account/) 和一个 [Token](https://www.azion.com/en/documentation/products/guides/personal-tokens/) 来使用 Azion API，并将其配置为环境变量 `AZION_TOKEN`。更多相关信息可以在 [文档](https://www.azion.com/en/documentation/) 中找到。\n",
        "\n",
        "本指南还将使用 [OpenAI 嵌入](/docs/integrations/text_embedding/openai)，这需要你安装 `@langchain/openai` 集成包。如果需要，你也可以使用 [其他支持的嵌入模型](/docs/integrations/text_embedding)。\n",
        "\n",
        "```{=mdx}\n",
        "import IntegrationInstallTooltip from \"@mdx_components/integration_install_tooltip.mdx\";\n",
        "import Npm2Yarn from \"@theme/Npm2Yarn\";\n",
        "\n",
        "<IntegrationInstallTooltip></IntegrationInstallTooltip>\n",
        "\n",
        "<Npm2Yarn>\n",
        "  azion @langchain/openai @langchain/community\n",
        "</Npm2Yarn>\n",
        "```\n",
        "\n",
        "### 凭证\n",
        "\n",
        "完成这些步骤后，请设置 AZION_TOKEN 环境变量：\n",
        "\n",
        "```typescript\n",
        "process.env.AZION_TOKEN = \"your-api-key\"\n",
        "```\n",
        "\n",
        "如果你在本指南中使用 OpenAI 嵌入，还需要设置你的 OpenAI 密钥：\n",
        "\n",
        "```typescript\n",
        "process.env.OPENAI_API_KEY = \"YOUR_API_KEY\";\n",
        "```\n",
        "\n",
        "如果你想获得模型调用的自动追踪，也可以通过取消注释以下内容来设置你的 [LangSmith](https://docs.smith.langchain.com/) API 密钥：\n",
        "\n",
        "```typescript\n",
        "// process.env.LANGCHAIN_TRACING_V2=\"true\"\n",
        "// process.env.LANGCHAIN_API_KEY=\"your-api-key\"\n",
        "```"
      ]
    },
    {
      "cell_type": "markdown",
      "id": "93df377e",
      "metadata": {},
      "source": [
        "## 实例化"
      ]
    },
    {
      "cell_type": "code",
      "execution_count": 64,
      "id": "dc37144c-208d-4ab3-9f3a-0407a69fe052",
      "metadata": {
        "tags": []
      },
      "outputs": [],
      "source": [
        "import { AzionVectorStore } from \"@langchain/community/vectorstores/azion_edgesql\";\n",
        "import { OpenAIEmbeddings } from \"@langchain/openai\";\n",
        "\n",
        "const embeddings = new OpenAIEmbeddings({\n",
        "  model: \"text-embedding-3-small\",\n",
        "});\n",
        "\n",
        "// Instantiate with the constructor if the database and table have already been created\n",
        "const vectorStore = new AzionVectorStore(embeddings, { dbName: \"langchain\", tableName: \"documents\" });\n",
        "\n",
        "// If you have not created the database and table yet, you can do so with the setupDatabase method\n",
        "// await vectorStore.setupDatabase({ columns:[\"topic\",\"language\"], mode: \"hybrid\" })\n",
        "\n",
        "// OR instantiate with the static method if the database and table have not been created yet\n",
        "// const vectorStore = await AzionVectorStore.initialize(embeddingModel, { dbName: \"langchain\", tableName: \"documents\" }, { columns:[], mode: \"hybrid\" })"
      ]
    },
    {
      "cell_type": "markdown",
      "id": "ac6071d4",
      "metadata": {},
      "source": [
        "## 管理向量存储\n",
        "\n",
        "### 向向量存储中添加项目"
      ]
    },
    {
      "cell_type": "code",
      "execution_count": 52,
      "id": "17f5efc0",
      "metadata": {},
      "outputs": [
        {
          "name": "stdout",
          "output_type": "stream",
          "text": [
            "Inserting chunks\n",
            "Inserting chunk 0\n",
            "Chunks inserted!\n"
          ]
        }
      ],
      "source": [
        "import type { Document } from \"@langchain/core/documents\";\n",
        "\n",
        "const document1: Document = {\n",
        "  pageContent: \"The powerhouse of the cell is the mitochondria\",\n",
        "  metadata: { language: \"en\", topic: \"biology\" }\n",
        "};\n",
        "\n",
        "const document2: Document = {\n",
        "  pageContent: \"Buildings are made out of brick\",\n",
        "  metadata: { language: \"en\", topic: \"history\" }\n",
        "};\n",
        "\n",
        "const document3: Document = {\n",
        "  pageContent: \"Mitochondria are made out of lipids\",\n",
        "  metadata: { language: \"en\", topic: \"biology\" }\n",
        "};\n",
        "\n",
        "const document4: Document = {\n",
        "  pageContent: \"The 2024 Olympics are in Paris\",\n",
        "  metadata: { language: \"en\", topic: \"history\" }\n",
        "}\n",
        "\n",
        "const documents = [document1, document2, document3, document4];\n",
        "\n",
        "await vectorStore.addDocuments(documents);"
      ]
    },
    {
      "cell_type": "markdown",
      "id": "dcf1b905",
      "metadata": {},
      "source": [
        "### 从向量存储中删除项目"
      ]
    },
    {
      "cell_type": "code",
      "execution_count": 53,
      "id": "ef61e188",
      "metadata": {},
      "outputs": [
        {
          "name": "stdout",
          "output_type": "stream",
          "text": [
            "Deleted 1 items from documents\n"
          ]
        }
      ],
      "source": [
        "await vectorStore.delete([\"4\"]);"
      ]
    },
    {
      "cell_type": "markdown",
      "id": "c3620501",
      "metadata": {},
      "source": [
        "## 查询向量存储\n",
        "\n",
        "一旦创建了向量存储并添加了相关文档，在运行链或代理时很可能需要对其进行查询。\n",
        "\n",
        "### 直接查询\n",
        "\n",
        "执行一个简单的相似性搜索可以按以下方式进行："
      ]
    },
    {
      "cell_type": "code",
      "execution_count": 66,
      "id": "aa0a16fa",
      "metadata": {},
      "outputs": [
        {
          "name": "stdout",
          "output_type": "stream",
          "text": [
            "Hybrid Search Results\n",
            "[{\"pageContent\":\"The Australian dingo is a unique species that plays a key role in the ecosystem\",\"metadata\":{\"searchtype\":\"fulltextsearch\"},\"id\":\"6\"},-0.25748711028997995]\n",
            "[{\"pageContent\":\"The powerhouse of the cell is the mitochondria\",\"metadata\":{\"searchtype\":\"fulltextsearch\"},\"id\":\"16\"},-0.31697985337654005]\n",
            "[{\"pageContent\":\"Australia s indigenous people have inhabited the continent for over 65,000 years\",\"metadata\":{\"searchtype\":\"similarity\"},\"id\":\"3\"},0.14822345972061157]\n"
          ]
        }
      ],
      "source": [
        "const filter = [{ operator: \"=\", column: \"language\", value: \"en\" }]\n",
        "\n",
        "const hybridSearchResults = await vectorStore.azionHybridSearch(\"biology\", {kfts:2, kvector:1, \n",
        "                                      filter:[{ operator: \"=\", column: \"language\", value: \"en\" }]});\n",
        "\n",
        "console.log(\"Hybrid Search Results\")\n",
        "for (const doc of hybridSearchResults) {\n",
        "  console.log(`${JSON.stringify(doc)}`);\n",
        "}"
      ]
    },
    {
      "cell_type": "code",
      "execution_count": 67,
      "id": "5efd2eaa",
      "metadata": {},
      "outputs": [
        {
          "name": "stdout",
          "output_type": "stream",
          "text": [
            "Similarity Search Results\n",
            "[{\"pageContent\":\"Australia s indigenous people have inhabited the continent for over 65,000 years\",\"metadata\":{\"searchtype\":\"similarity\"},\"id\":\"3\"},0.4486490488052368]\n"
          ]
        }
      ],
      "source": [
        "const similaritySearchResults = await vectorStore.azionSimilaritySearch(\"australia\", {kvector:3, filter:[{ operator: \"=\", column: \"topic\", value: \"history\" }]});\n",
        "\n",
        "console.log(\"Similarity Search Results\")\n",
        "for (const doc of similaritySearchResults) {\n",
        "  console.log(`${JSON.stringify(doc)}`);\n",
        "}"
      ]
    },
    {
      "cell_type": "markdown",
      "id": "0c235cdc",
      "metadata": {},
      "source": [
        "### 通过转换为检索器进行查询\n",
        "\n",
        "你还可以将向量存储转换为[检索器](/docs/concepts/#retrievers)，以便在你的链中更方便地使用。"
      ]
    },
    {
      "cell_type": "code",
      "execution_count": 56,
      "id": "f3460093",
      "metadata": {},
      "outputs": [
        {
          "name": "stdout",
          "output_type": "stream",
          "text": [
            "[\n",
            "  Document {\n",
            "    pageContent: 'Australia s indigenous people have inhabited the continent for over 65,000 years',\n",
            "    metadata: { searchtype: 'similarity' },\n",
            "    id: '3'\n",
            "  },\n",
            "  Document {\n",
            "    pageContent: 'Mitochondria are made out of lipids',\n",
            "    metadata: { searchtype: 'similarity' },\n",
            "    id: '18'\n",
            "  }\n",
            "]\n"
          ]
        }
      ],
      "source": [
        "const retriever = vectorStore.asRetriever({\n",
        "  // Optional filter\n",
        "  filter: filter,\n",
        "  k: 2,\n",
        "});\n",
        "await retriever.invoke(\"biology\");"
      ]
    },
    {
      "cell_type": "markdown",
      "id": "e2e0a211",
      "metadata": {},
      "source": [
        "### 检索增强生成的用法\n",
        "\n",
        "有关如何将此向量存储用于检索增强生成（RAG）的指南，请参阅以下部分：\n",
        "\n",
        "- [教程：使用外部知识](/docs/tutorials/#working-with-external-knowledge)。\n",
        "- [如何操作：使用RAG进行问答](/docs/how_to/#qa-with-rag)\n",
        "- [检索概念文档](/docs/concepts/retrieval)"
      ]
    },
    {
      "cell_type": "markdown",
      "id": "8a27244f",
      "metadata": {},
      "source": [
        "## API 参考文档\n",
        "\n",
        "如需详细了解 AzionVectorStore 的所有功能和配置，请访问 [API 参考文档](https://api.js.langchain.com/classes/_langchain_community.vectorstores_azion_edgesql.AzionVectorStore.html)。"
      ]
    }
  ],
  "metadata": {
    "kernelspec": {
      "display_name": "TypeScript",
      "language": "typescript",
      "name": "tslab"
    },
    "language_info": {
      "codemirror_mode": {
        "mode": "typescript",
        "name": "javascript",
        "typescript": true
      },
      "file_extension": ".ts",
      "mimetype": "text/typescript",
      "name": "typescript",
      "version": "3.7.2"
    }
  },
  "nbformat": 4,
  "nbformat_minor": 5
}