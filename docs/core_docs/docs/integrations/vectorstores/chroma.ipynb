{
  "cells": [
    {
      "cell_type": "raw",
      "id": "1957f5cb",
      "metadata": {
        "vscode": {
          "languageId": "raw"
        }
      },
      "source": [
        "---\n",
        "sidebar_label: Chroma\n",
        "---"
      ]
    },
    {
      "cell_type": "markdown",
      "id": "ef1f0986",
      "metadata": {},
      "source": [
        "# Chroma\n",
        "\n",
        "[Chroma](https://docs.trychroma.com/getting-started) 是一个面向开发人员效率和体验的 AI 原生开源向量数据库。Chroma 采用 Apache 2.0 许可协议。\n",
        "\n",
        "本指南提供了使用 Chroma [`向量存储`](/docs/concepts/#vectorstores) 的快速入门概述。如需了解所有 `Chroma` 功能和配置的详细文档，请访问 [API 参考文档](https://api.js.langchain.com/classes/langchain_community_vectorstores_chroma.Chroma.html)。\n",
        "\n",
        ":::info Chroma Cloud\n",
        "\n",
        "Chroma Cloud 提供无服务器的向量和全文搜索服务。它速度极快、成本低廉、可扩展性强且使用便捷。只需 30 秒即可创建一个数据库并体验，注册即可获得 5 美元的免费额度。\n",
        "\n",
        "[开始使用 Chroma Cloud](https://trychroma.com/signup)\n",
        "\n",
        ":::"
      ]
    },
    {
      "cell_type": "markdown",
      "id": "c824838d",
      "metadata": {},
      "source": [
        "## 概览\n",
        "\n",
        "### 集成详情\n",
        "\n",
        "| 类 | 包 | [Python 支持](https://python.langchain.com/docs/integrations/vectorstores/chroma/) | 包的最新版本 |\n",
        "| :--- | :--- | :---: | :---: |\n",
        "| [`Chroma`](https://api.js.langchain.com/classes/langchain_community_vectorstores_chroma.Chroma.html) | [`@langchain/community`](https://www.npmjs.com/package/@langchain/community) | ✅ |  ![NPM - 版本](https://img.shields.io/npm/v/@langchain/community?style=flat-square&label=%20&) |"
      ]
    },
    {
      "cell_type": "markdown",
      "id": "36fdc060",
      "metadata": {},
      "source": [
        "## 安装\n",
        "\n",
        "要使用 Chroma 向量存储，你需要安装 `@langchain/community` 集成包，并将 [Chroma JS SDK](https://www.npmjs.com/package/chromadb) 作为对等依赖项安装。\n",
        "\n",
        "本指南还将使用 [OpenAI 嵌入](/docs/integrations/text_embedding/openai)，这要求你安装 `@langchain/openai` 集成包。如果你愿意，也可以使用 [其他支持的嵌入模型](/docs/integrations/text_embedding)。\n",
        "\n",
        "```{=mdx}\n",
        "import IntegrationInstallTooltip from \"@mdx_components/integration_install_tooltip.mdx\";\n",
        "import Npm2Yarn from \"@theme/Npm2Yarn\";\n",
        "\n",
        "<IntegrationInstallTooltip></IntegrationInstallTooltip>\n",
        "\n",
        "<Npm2Yarn>\n",
        "  @langchain/community @langchain/openai @langchain/core chromadb\n",
        "</Npm2Yarn>\n",
        "```\n",
        "\n",
        "如果你想在本地运行 Chroma，可以使用 Chroma CLI [运行本地 Chroma 服务器](https://docs.trychroma.com/docs/cli/run)，该 CLI 随 `chromadb` 包一起提供：\n",
        "\n",
        "```\n",
        "chroma run\n",
        "```\n",
        "\n",
        "你也可以使用官方 Chroma 镜像在 Docker 中运行服务器：\n",
        "\n",
        "```\n",
        "docker pull chromadb/chroma \n",
        "docker run -p 8000:8000 chromadb/chroma\n",
        "```\n",
        "\n",
        "### 凭据\n",
        "\n",
        "如果你在本地运行 Chroma，则无需提供任何凭据。\n",
        "\n",
        "如果你是 [Chroma Cloud](https://trychroma.com/signup) 用户，请设置你的 `CHROMA_TENANT`、`CHROMA_DATABASE` 和 `CHROMA_API_KEY` 环境变量。\n",
        "\n",
        "Chroma CLI 可以为你设置这些变量。首先，通过 CLI [登录](https://docs.trychroma.com/docs/cli/login)，然后使用 [`connect` 命令](https://docs.trychroma.com/docs/cli/db)：\n",
        "\n",
        "```\n",
        "chroma db connect [db_name] --env-file\n",
        "```\n",
        "\n",
        "如果本指南中你要使用 OpenAI 嵌入，还需要设置你的 OpenAI 密钥：\n",
        "\n",
        "```typescript\n",
        "process.env.OPENAI_API_KEY = \"YOUR_API_KEY\";\n",
        "```\n",
        "\n",
        "如果你希望对模型调用进行自动化跟踪，也可以通过取消注释以下内容来设置你的 [LangSmith](https://docs.smith.langchain.com/) API 密钥：\n",
        "\n",
        "```typescript\n",
        "// process.env.LANGSMITH_TRACING=\"true\"\n",
        "// process.env.LANGSMITH_API_KEY=\"your-api-key\"\n",
        "```"
      ]
    },
    {
      "cell_type": "markdown",
      "id": "93df377e",
      "metadata": {},
      "source": [
        "## 实例化"
      ]
    },
    {
      "cell_type": "markdown",
      "id": "5f23cb84-cdfe-404e-96b2-7a23f15836a3",
      "metadata": {},
      "source": [
        "### 设置你的嵌入函数\n",
        "\n",
        "首先，选择你的嵌入函数。这里我们使用 `OpenAIEmbeddings`："
      ]
    },
    {
      "cell_type": "code",
      "execution_count": null,
      "id": "bc05c239-3026-463c-aa2f-9f5630ee67a9",
      "metadata": {},
      "outputs": [],
      "source": [
        "import { OpenAIEmbeddings } from \"@langchain/openai\";\n",
        "\n",
        "const embeddings = new OpenAIEmbeddings({\n",
        "  model: \"text-embedding-3-small\",\n",
        "});"
      ]
    },
    {
      "cell_type": "markdown",
      "id": "d9e8c834-add8-4ed1-866b-c11df9cee0ff",
      "metadata": {},
      "source": [
        "### 本地运行\n",
        "\n",
        "一个简单的 `Chroma` 实例化将连接到在 `http://localhost:8000` 上本地运行的 Chroma 服务器："
      ]
    },
    {
      "cell_type": "code",
      "execution_count": null,
      "id": "dc37144c-208d-4ab3-9f3a-0407a69fe052",
      "metadata": {
        "tags": []
      },
      "outputs": [],
      "source": [
        "import { Chroma } from \"@langchain/community/vectorstores/chroma\";\n",
        "\n",
        "const vectorStore = new Chroma(embeddings, {\n",
        "  collectionName: \"a-test-collection\"\n",
        "});"
      ]
    },
    {
      "cell_type": "markdown",
      "id": "f310c7cb-5169-403a-b5b5-5bcca51f0ef7",
      "metadata": {},
      "source": [
        "如果你使用不同的配置运行 Chroma 服务器，则可以指定你的 `host`、`port` 以及是否使用 `ssl` 进行连接："
      ]
    },
    {
      "cell_type": "code",
      "execution_count": null,
      "id": "5358d6de-c2a4-4768-bb06-99e05bb33c5d",
      "metadata": {},
      "outputs": [],
      "source": [
        "import { Chroma } from \"@langchain/community/vectorstores/chroma\";\n",
        "\n",
        "const vectorStore = new Chroma(embeddings, {\n",
        "  collectionName: \"a-test-collection\",\n",
        "  host: \"your-host-address\",\n",
        "  port: 8080\n",
        "});"
      ]
    },
    {
      "cell_type": "markdown",
      "id": "86e9a2eb-95d9-4d4c-bbcf-dd7a5dbf39f6",
      "metadata": {},
      "source": [
        "### Chroma Cloud\n",
        "\n",
        "连接 Chroma Cloud 时，请提供你的 `tenant`、`database` 和 `chromaCloudAPIKey`："
      ]
    },
    {
      "cell_type": "code",
      "execution_count": null,
      "id": "489a4531-b6f2-44a5-81a7-f9b57afa2b1d",
      "metadata": {},
      "outputs": [],
      "source": [
        "import { Chroma } from \"@langchain/community/vectorstores/chroma\";\n",
        "\n",
        "const vectorStore = new Chroma(embeddings, {\n",
        "  collectionName: \"a-test-collection\",\n",
        "  tenant: process.env.CHROMA_TENANT,\n",
        "  database: process.env.CHROMA_DATABASE,\n",
        "  chromaCloudAPIKey: process.env.CHROMA_API_KEY\n",
        "});"
      ]
    },
    {
      "cell_type": "markdown",
      "id": "ac6071d4",
      "metadata": {},
      "source": [
        "## 管理向量存储\n",
        "\n",
        "### 向向量存储中添加项目"
      ]
    },
    {
      "cell_type": "code",
      "execution_count": null,
      "id": "17f5efc0",
      "metadata": {},
      "outputs": [],
      "source": [
        "import type { Document } from \"@langchain/core/documents\";\n",
        "\n",
        "const document1: Document = {\n",
        "  pageContent: \"The powerhouse of the cell is the mitochondria\",\n",
        "  metadata: { source: \"https://example.com\" }\n",
        "};\n",
        "\n",
        "const document2: Document = {\n",
        "  pageContent: \"Buildings are made out of brick\",\n",
        "  metadata: { source: \"https://example.com\" }\n",
        "};\n",
        "\n",
        "const document3: Document = {\n",
        "  pageContent: \"Mitochondria are made out of lipids\",\n",
        "  metadata: { source: \"https://example.com\" }\n",
        "};\n",
        "\n",
        "const document4: Document = {\n",
        "  pageContent: \"The 2024 Olympics are in Paris\",\n",
        "  metadata: { source: \"https://example.com\" }\n",
        "}\n",
        "\n",
        "const documents = [document1, document2, document3, document4];\n",
        "\n",
        "await vectorStore.addDocuments(documents, { ids: [\"1\", \"2\", \"3\", \"4\"] });"
      ]
    },
    {
      "cell_type": "markdown",
      "id": "dcf1b905",
      "metadata": {},
      "source": [
        "### 从向量存储中删除项目\n",
        "\n",
        "你可以通过如下方式根据 ID 从 Chroma 中删除文档："
      ]
    },
    {
      "cell_type": "code",
      "execution_count": null,
      "id": "ef61e188",
      "metadata": {},
      "outputs": [],
      "source": [
        "await vectorStore.delete({ ids: [\"4\"] });"
      ]
    },
    {
      "cell_type": "markdown",
      "id": "c3620501",
      "metadata": {},
      "source": [
        "## 查询向量存储\n",
        "\n",
        "一旦创建了向量存储并添加了相关文档，您很可能希望在运行链或代理时查询该存储。\n",
        "\n",
        "### 直接查询\n",
        "\n",
        "执行一个简单的相似性搜索可以按照以下方式完成："
      ]
    },
    {
      "cell_type": "code",
      "execution_count": null,
      "id": "aa0a16fa",
      "metadata": {},
      "outputs": [],
      "source": [
        "const filter = { source: \"https://example.com\" };\n",
        "\n",
        "const similaritySearchResults = await vectorStore.similaritySearch(\"biology\", 2, filter);\n",
        "\n",
        "for (const doc of similaritySearchResults) {\n",
        "  console.log(`* ${doc.pageContent} [${JSON.stringify(doc.metadata, null)}]`);\n",
        "}"
      ]
    },
    {
      "cell_type": "markdown",
      "id": "3ed9d733",
      "metadata": {},
      "source": [
        "更多关于Chroma过滤器语法的信息请参见[此页面](https://docs.trychroma.com/guides#filtering-by-metadata)。\n",
        "\n",
        "如果你想执行相似性搜索并获取相应的分数，可以运行："
      ]
    },
    {
      "cell_type": "code",
      "execution_count": null,
      "id": "5efd2eaa",
      "metadata": {},
      "outputs": [],
      "source": [
        "const similaritySearchWithScoreResults = await vectorStore.similaritySearchWithScore(\"biology\", 2, filter)\n",
        "\n",
        "for (const [doc, score] of similaritySearchWithScoreResults) {\n",
        "  console.log(`* [SIM=${score.toFixed(3)}] ${doc.pageContent} [${JSON.stringify(doc.metadata)}]`);\n",
        "}"
      ]
    },
    {
      "cell_type": "markdown",
      "id": "0c235cdc",
      "metadata": {},
      "source": [
        "### 通过转换为检索器进行查询\n",
        "\n",
        "你还可以将向量存储转换为[检索器](/docs/concepts/retrievers)，以便在你的链中更方便地使用。"
      ]
    },
    {
      "cell_type": "code",
      "execution_count": null,
      "id": "f3460093",
      "metadata": {},
      "outputs": [],
      "source": [
        "const retriever = vectorStore.asRetriever({\n",
        "  // Optional filter\n",
        "  filter: filter,\n",
        "  k: 2,\n",
        "});\n",
        "await retriever.invoke(\"biology\");"
      ]
    },
    {
      "cell_type": "markdown",
      "id": "e2e0a211",
      "metadata": {},
      "source": [
        "### 检索增强生成的用法\n",
        "\n",
        "有关如何将此向量存储用于检索增强生成（RAG）的指南，请参阅以下部分：\n",
        "\n",
        "- [教程：使用外部知识](/docs/tutorials/#working-with-external-knowledge)。\n",
        "- [操作指南：使用RAG进行问答](/docs/how_to/#qa-with-rag)\n",
        "- [检索概念文档](/docs/concepts/retrieval)"
      ]
    },
    {
      "cell_type": "markdown",
      "id": "8a27244f",
      "metadata": {},
      "source": [
        "## API 参考文档\n",
        "\n",
        "如需详细了解所有 `Chroma` 特性和配置，请前往 [API 参考文档](https://api.js.langchain.com/classes/langchain_community_vectorstores_chroma.Chroma.html)"
      ]
    }
  ],
  "metadata": {
    "kernelspec": {
      "display_name": "Python 3 (ipykernel)",
      "language": "python",
      "name": "python3"
    },
    "language_info": {
      "codemirror_mode": {
        "name": "ipython",
        "version": 3
      },
      "file_extension": ".py",
      "mimetype": "text/x-python",
      "name": "python",
      "nbconvert_exporter": "python",
      "pygments_lexer": "ipython3",
      "version": "3.13.0"
    }
  },
  "nbformat": 4,
  "nbformat_minor": 5
}