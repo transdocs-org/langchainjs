{
  "cells": [
    {
      "cell_type": "raw",
      "id": "1957f5cb",
      "metadata": {
        "vscode": {
          "languageId": "raw"
        }
      },
      "source": [
        "---\n",
        "sidebar_label: MongoDB Atlas\n",
        "sidebar_class_name: node-only\n",
        "---"
      ]
    },
    {
      "cell_type": "markdown",
      "id": "ef1f0986",
      "metadata": {},
      "source": [
        "# MongoDB Atlas\n",
        "\n",
        "```{=mdx}\n",
        ":::tip 兼容性\n",
        "仅适用于 Node.js。\n",
        "\n",
        "您仍然可以创建使用 MongoDB 的 API 路由，只需将 `runtime` 变量设置为 `nodejs`，如下所示：\n",
        "\n",
        "`export const runtime = \"nodejs\";`\n",
        "\n",
        "您可以在 Next.js 文档中[此处](https://nextjs.org/docs/app/building-your-application/rendering/edge-and-nodejs-runtimes)阅读有关 Edge 运行时的更多信息。\n",
        ":::\n",
        "```\n",
        "\n",
        "本指南提供了 MongoDB Atlas [向量存储](/docs/concepts/#vectorstores) 的快速入门概述。如需了解所有 `MongoDBAtlasVectorSearch` 功能和配置的详细文档，请前往 [API 参考文档](https://api.js.langchain.com/classes/langchain_mongodb.MongoDBAtlasVectorSearch.html)。"
      ]
    },
    {
      "cell_type": "markdown",
      "id": "c824838d",
      "metadata": {},
      "source": [
        "## 概述\n",
        "\n",
        "### 集成详情\n",
        "\n",
        "| 类 | 包 | [Python 支持](https://python.langchain.com/docs/integrations/vectorstores/mongodb_atlas/) | 包的最新版本 |\n",
        "| :--- | :--- | :---: | :---: |\n",
        "| [`MongoDBAtlasVectorSearch`](https://api.js.langchain.com/classes/langchain_mongodb.MongoDBAtlasVectorSearch.html) | [`@langchain/mongodb`](https://www.npmjs.com/package/@langchain/mongodb) | ✅ | ![NPM - 版本](https://img.shields.io/npm/v/@langchain/mongodb?style=flat-square&label=%20&) |"
      ]
    },
    {
      "cell_type": "markdown",
      "id": "36fdc060",
      "metadata": {},
      "source": [
        "## 配置\n",
        "\n",
        "要使用 MongoDB Atlas 向量存储，您需要配置一个 MongoDB Atlas 集群并安装 `@langchain/mongodb` 集成包。\n",
        "\n",
        "### 初始集群配置\n",
        "\n",
        "要创建一个 MongoDB Atlas 集群，请前往 [MongoDB Atlas 网站](https://www.mongodb.com/products/platform/atlas-database) 并在需要时创建一个账户。\n",
        "\n",
        "创建并命名一个集群后，在 `Database` 下找到它。选择 `Browse Collections`，然后创建一个空白集合或使用提供的示例数据创建一个集合。\n",
        "\n",
        "**注意：** 创建的集群必须是 MongoDB 7.0 或更高版本。\n",
        "\n",
        "### 创建索引\n",
        "\n",
        "配置好集群后，您需要在要搜索的集合字段上创建一个索引。\n",
        "\n",
        "切换到 `Atlas Search` 选项卡并点击 `Create Search Index`。接着请确保选择 `Atlas Vector Search - JSON Editor`，然后选择适当的数据库和集合，并将以下内容粘贴到文本框中：\n",
        "\n",
        "```json\n",
        "{\n",
        "  \"fields\": [\n",
        "    {\n",
        "      \"numDimensions\": 1536,\n",
        "      \"path\": \"embedding\",\n",
        "      \"similarity\": \"euclidean\",\n",
        "      \"type\": \"vector\"\n",
        "    }\n",
        "  ]\n",
        "}\n",
        "```\n",
        "\n",
        "请注意，dimensions 属性应该与您使用的嵌入向量的维度相匹配。例如，Cohere 嵌入向量有 1024 个维度，而默认情况下 OpenAI 嵌入向量有 1536 个维度：\n",
        "\n",
        "注意：默认情况下，向量存储期望索引名称为 default，索引集合字段名称为 embedding，原始文本字段名称为 text。您应该根据您的索引名称集合模式初始化向量存储，如下面所示。\n",
        "\n",
        "最后，继续构建索引。\n",
        "\n",
        "### 嵌入向量\n",
        "\n",
        "本指南还将使用 [OpenAI 嵌入向量](/docs/integrations/text_embedding/openai)，这需要您安装 `@langchain/openai` 集成包。如果您愿意，也可以使用 [其他支持的嵌入向量模型](/docs/integrations/text_embedding)。\n",
        "\n",
        "### 安装\n",
        "\n",
        "安装以下包：\n",
        "\n",
        "```{=mdx}\n",
        "import IntegrationInstallTooltip from \"@mdx_components/integration_install_tooltip.mdx\";\n",
        "import Npm2Yarn from \"@theme/Npm2Yarn\";\n",
        "\n",
        "<IntegrationInstallTooltip></IntegrationInstallTooltip>\n",
        "\n",
        "<Npm2Yarn>\n",
        "  @langchain/mongodb mongodb @langchain/openai @langchain/core\n",
        "</Npm2Yarn>\n",
        "```\n",
        "\n",
        "### 凭证\n",
        "\n",
        "完成上述步骤后，从 Mongo 仪表板中的 `Connect` 按钮设置 `MONGODB_ATLAS_URI` 环境变量。您还需要数据库名称和集合名称：\n",
        "\n",
        "```typescript\n",
        "process.env.MONGODB_ATLAS_URI = \"your-atlas-url\";\n",
        "process.env.MONGODB_ATLAS_COLLECTION_NAME = \"your-atlas-db-name\";\n",
        "process.env.MONGODB_ATLAS_DB_NAME = \"your-atlas-db-name\";\n",
        "```\n",
        "\n",
        "如果您在本指南中使用 OpenAI 嵌入向量，则还需要设置您的 OpenAI 密钥：\n",
        "\n",
        "```typescript\n",
        "process.env.OPENAI_API_KEY = \"YOUR_API_KEY\";\n",
        "```\n",
        "\n",
        "如果您想对模型调用进行自动追踪，也可以取消注释下面的内容并设置您的 [LangSmith](https://docs.smith.langchain.com/) API 密钥：\n",
        "\n",
        "```typescript\n",
        "// process.env.LANGSMITH_TRACING=\"true\"\n",
        "// process.env.LANGSMITH_API_KEY=\"your-api-key\"\n",
        "```"
      ]
    },
    {
      "cell_type": "markdown",
      "id": "93df377e",
      "metadata": {},
      "source": [
        "## 实例化\n",
        "\n",
        "按照上述方式配置好集群后，你可以按如下方式初始化你的向量存储："
      ]
    },
    {
      "cell_type": "code",
      "execution_count": 1,
      "id": "dc37144c-208d-4ab3-9f3a-0407a69fe052",
      "metadata": {
        "tags": []
      },
      "outputs": [],
      "source": [
        "import { MongoDBAtlasVectorSearch } from \"@langchain/mongodb\";\n",
        "import { OpenAIEmbeddings } from \"@langchain/openai\";\n",
        "import { MongoClient } from \"mongodb\";\n",
        "\n",
        "const client = new MongoClient(process.env.MONGODB_ATLAS_URI || \"\");\n",
        "const collection = client.db(process.env.MONGODB_ATLAS_DB_NAME)\n",
        "  .collection(process.env.MONGODB_ATLAS_COLLECTION_NAME);\n",
        "\n",
        "const embeddings = new OpenAIEmbeddings({\n",
        "  model: \"text-embedding-3-small\",\n",
        "});\n",
        "\n",
        "const vectorStore = new MongoDBAtlasVectorSearch(embeddings, {\n",
        "  collection: collection,\n",
        "  indexName: \"vector_index\", // The name of the Atlas search index. Defaults to \"default\"\n",
        "  textKey: \"text\", // The name of the collection field containing the raw content. Defaults to \"text\"\n",
        "  embeddingKey: \"embedding\", // The name of the collection field containing the embedded text. Defaults to \"embedding\"\n",
        "});"
      ]
    },
    {
      "cell_type": "markdown",
      "id": "ac6071d4",
      "metadata": {},
      "source": [
        "## 管理向量存储\n",
        "\n",
        "### 向向量存储中添加项目\n",
        "\n",
        "现在你可以将文档添加到你的向量存储中："
      ]
    },
    {
      "cell_type": "code",
      "execution_count": 2,
      "id": "17f5efc0",
      "metadata": {},
      "outputs": [
        {
          "name": "stdout",
          "output_type": "stream",
          "text": [
            "[ '1', '2', '3', '4' ]\n"
          ]
        }
      ],
      "source": [
        "import type { Document } from \"@langchain/core/documents\";\n",
        "\n",
        "const document1: Document = {\n",
        "  pageContent: \"The powerhouse of the cell is the mitochondria\",\n",
        "  metadata: { source: \"https://example.com\" }\n",
        "};\n",
        "\n",
        "const document2: Document = {\n",
        "  pageContent: \"Buildings are made out of brick\",\n",
        "  metadata: { source: \"https://example.com\" }\n",
        "};\n",
        "\n",
        "const document3: Document = {\n",
        "  pageContent: \"Mitochondria are made out of lipids\",\n",
        "  metadata: { source: \"https://example.com\" }\n",
        "};\n",
        "\n",
        "const document4: Document = {\n",
        "  pageContent: \"The 2024 Olympics are in Paris\",\n",
        "  metadata: { source: \"https://example.com\" }\n",
        "}\n",
        "\n",
        "const documents = [document1, document2, document3, document4];\n",
        "\n",
        "await vectorStore.addDocuments(documents, { ids: [\"1\", \"2\", \"3\", \"4\"] });"
      ]
    },
    {
      "cell_type": "markdown",
      "id": "dcf1b905",
      "metadata": {},
      "source": [
        "**注意：** 添加文档后，会有一段短暂延迟，之后这些文档才能被查询。\n",
        "\n",
        "使用与现有文档相同的 `id` 添加文档将会更新现有文档。\n",
        "\n",
        "### 从向量存储中删除条目"
      ]
    },
    {
      "cell_type": "code",
      "execution_count": 3,
      "id": "ef61e188",
      "metadata": {},
      "outputs": [],
      "source": [
        "await vectorStore.delete({ ids: [\"4\"] });"
      ]
    },
    {
      "cell_type": "markdown",
      "id": "c3620501",
      "metadata": {},
      "source": [
        "## 查询向量存储\n",
        "\n",
        "一旦创建了向量存储并添加了相关文档，您很可能希望在链或代理运行期间对其进行查询。\n",
        "\n",
        "### 直接查询\n",
        "\n",
        "执行一个简单的相似性搜索可以按如下方式进行："
      ]
    },
    {
      "cell_type": "code",
      "execution_count": 5,
      "id": "aa0a16fa",
      "metadata": {},
      "outputs": [
        {
          "name": "stdout",
          "output_type": "stream",
          "text": [
            "* The powerhouse of the cell is the mitochondria [{\"_id\":\"1\",\"source\":\"https://example.com\"}]\n",
            "* Mitochondria are made out of lipids [{\"_id\":\"3\",\"source\":\"https://example.com\"}]\n"
          ]
        }
      ],
      "source": [
        "const similaritySearchResults = await vectorStore.similaritySearch(\"biology\", 2);\n",
        "\n",
        "for (const doc of similaritySearchResults) {\n",
        "  console.log(`* ${doc.pageContent} [${JSON.stringify(doc.metadata, null)}]`);\n",
        "}"
      ]
    },
    {
      "cell_type": "markdown",
      "id": "3ed9d733",
      "metadata": {},
      "source": [
        "### 过滤\n",
        "\n",
        "MongoDB Atlas 支持在其他字段上对结果进行预过滤。你需要通过更新最初创建的索引来定义计划过滤的元数据字段。以下是一个示例：\n",
        "\n",
        "```json\n",
        "{\n",
        "  \"fields\": [\n",
        "    {\n",
        "      \"numDimensions\": 1024,\n",
        "      \"path\": \"embedding\",\n",
        "      \"similarity\": \"euclidean\",\n",
        "      \"type\": \"vector\"\n",
        "    },\n",
        "    {\n",
        "      \"path\": \"source\",\n",
        "      \"type\": \"filter\"\n",
        "    }\n",
        "  ]\n",
        "}\n",
        "```\n",
        "\n",
        "上面示例中，`fields` 中的第一个条目是向量索引，第二个条目是你希望进行过滤的元数据属性。属性的名称是 `path` 键的值。因此，上面的索引允许我们对名为 `source` 的元数据字段进行搜索。\n",
        "\n",
        "然后，在你的代码中，你可以使用 [MQL 查询操作符](https://www.mongodb.com/docs/manual/reference/operator/query/) 进行过滤。\n",
        "\n",
        "以下示例说明了这一点："
      ]
    },
    {
      "cell_type": "code",
      "execution_count": 9,
      "id": "bc8f242e",
      "metadata": {},
      "outputs": [
        {
          "name": "stdout",
          "output_type": "stream",
          "text": [
            "* The powerhouse of the cell is the mitochondria [{\"_id\":\"1\",\"source\":\"https://example.com\"}]\n",
            "* Mitochondria are made out of lipids [{\"_id\":\"3\",\"source\":\"https://example.com\"}]\n"
          ]
        }
      ],
      "source": [
        "const filter = {\n",
        "  preFilter: {\n",
        "    source: {\n",
        "      $eq: \"https://example.com\",\n",
        "    },\n",
        "  },\n",
        "}\n",
        "\n",
        "const filteredResults = await vectorStore.similaritySearch(\"biology\", 2, filter);\n",
        "\n",
        "for (const doc of filteredResults) {\n",
        "  console.log(`* ${doc.pageContent} [${JSON.stringify(doc.metadata, null)}]`);\n",
        "}"
      ]
    },
    {
      "cell_type": "markdown",
      "id": "69326bba",
      "metadata": {},
      "source": [
        "### 返回分数\n",
        "\n",
        "如果你想执行相似性搜索并获得相应的分数，可以运行："
      ]
    },
    {
      "cell_type": "code",
      "execution_count": 10,
      "id": "5efd2eaa",
      "metadata": {},
      "outputs": [
        {
          "name": "stdout",
          "output_type": "stream",
          "text": [
            "* [SIM=0.374] The powerhouse of the cell is the mitochondria [{\"_id\":\"1\",\"source\":\"https://example.com\"}]\n",
            "* [SIM=0.370] Mitochondria are made out of lipids [{\"_id\":\"3\",\"source\":\"https://example.com\"}]\n"
          ]
        }
      ],
      "source": [
        "const similaritySearchWithScoreResults = await vectorStore.similaritySearchWithScore(\"biology\", 2, filter)\n",
        "\n",
        "for (const [doc, score] of similaritySearchWithScoreResults) {\n",
        "  console.log(`* [SIM=${score.toFixed(3)}] ${doc.pageContent} [${JSON.stringify(doc.metadata)}]`);\n",
        "}"
      ]
    },
    {
      "cell_type": "markdown",
      "id": "0c235cdc",
      "metadata": {},
      "source": [
        "### 通过转换为检索器进行查询\n",
        "\n",
        "你还可以将向量存储转换为[检索器](/docs/concepts/retrievers)，以便在你的链中更方便地使用。"
      ]
    },
    {
      "cell_type": "code",
      "execution_count": 11,
      "id": "f3460093",
      "metadata": {},
      "outputs": [
        {
          "name": "stdout",
          "output_type": "stream",
          "text": [
            "[\n",
            "  Document {\n",
            "    pageContent: 'The powerhouse of the cell is the mitochondria',\n",
            "    metadata: { _id: '1', source: 'https://example.com' },\n",
            "    id: undefined\n",
            "  },\n",
            "  Document {\n",
            "    pageContent: 'Mitochondria are made out of lipids',\n",
            "    metadata: { _id: '3', source: 'https://example.com' },\n",
            "    id: undefined\n",
            "  }\n",
            "]\n"
          ]
        }
      ],
      "source": [
        "const retriever = vectorStore.asRetriever({\n",
        "  // Optional filter\n",
        "  filter: filter,\n",
        "  k: 2,\n",
        "});\n",
        "await retriever.invoke(\"biology\");"
      ]
    },
    {
      "cell_type": "markdown",
      "id": "e2e0a211",
      "metadata": {},
      "source": [
        "### 检索增强生成的用法\n",
        "\n",
        "有关如何将此向量存储用于检索增强生成（RAG）的指南，请参阅以下部分：\n",
        "\n",
        "- [教程：使用外部知识](/docs/tutorials/#working-with-external-knowledge)。\n",
        "- [操作指南：使用 RAG 进行问答](/docs/how_to/#qa-with-rag)\n",
        "- [检索概念文档](/docs/concepts/retrieval)"
      ]
    },
    {
      "cell_type": "markdown",
      "id": "069f1b5f",
      "metadata": {},
      "source": [
        "## 关闭连接\n",
        "\n",
        "完成操作后，请确保关闭客户端实例，以避免过度消耗资源："
      ]
    },
    {
      "cell_type": "code",
      "execution_count": 12,
      "id": "f71ce986",
      "metadata": {},
      "outputs": [],
      "source": [
        "await client.close();"
      ]
    },
    {
      "cell_type": "markdown",
      "id": "8a27244f",
      "metadata": {},
      "source": [
        "## API 参考文档\n",
        "\n",
        "如需详细了解所有 `MongoDBAtlasVectorSearch` 功能和配置，请前往 [API 参考文档](https://api.js.langchain.com/classes/langchain_mongodb.MongoDBAtlasVectorSearch.html)。"
      ]
    }
  ],
  "metadata": {
    "kernelspec": {
      "display_name": "TypeScript",
      "language": "typescript",
      "name": "tslab"
    },
    "language_info": {
      "codemirror_mode": {
        "mode": "typescript",
        "name": "javascript",
        "typescript": true
      },
      "file_extension": ".ts",
      "mimetype": "text/typescript",
      "name": "typescript",
      "version": "3.7.2"
    }
  },
  "nbformat": 4,
  "nbformat_minor": 5
}