{
  "cells": [
    {
      "cell_type": "raw",
      "id": "1957f5cb",
      "metadata": {
        "vscode": {
          "languageId": "raw"
        }
      },
      "source": [
        "---\n",
        "sidebar_label: Weaviate\n",
        "---"
      ]
    },
    {
      "cell_type": "markdown",
      "id": "ef1f0986",
      "metadata": {},
      "source": [
        "# WeaviateStore\n",
        "\n",
        "[Weaviate](https://weaviate.io/) 是一个开源的向量数据库，既可以存储对象也可以存储向量，允许将向量搜索与结构化过滤结合使用。LangChain 通过 weaviate-client 包连接到 Weaviate，这是 Weaviate 的官方 Typescript 客户端。\n",
        "\n",
        "本指南提供了使用 Weaviate [向量存储](/docs/concepts/#vectorstores) 的快速概述。如需详细了解所有 `WeaviateStore` 功能和配置，请访问 [API 参考文档](https://api.js.langchain.com/classes/langchain_weaviate.WeaviateStore.html)。"
      ]
    },
    {
      "cell_type": "markdown",
      "id": "c824838d",
      "metadata": {},
      "source": [
        "## 概述\n",
        "\n",
        "### 集成详情\n",
        "\n",
        "| 类 | 包 | [Python 支持](https://python.langchain.com/docs/integrations/vectorstores/weaviate/) | 包的最新版本 |\n",
        "| :--- | :--- | :---: | :---: |\n",
        "| [`WeaviateStore`](https://api.js.langchain.com/classes/langchain_weaviate.WeaviateStore.html) | [`@langchain/weaviate`](https://npmjs.com/@langchain/weaviate) | ✅ |  ![NPM - 版本](https://img.shields.io/npm/v/@langchain/weaviate?style=flat-square&label=%20&) |"
      ]
    },
    {
      "cell_type": "markdown",
      "id": "36fdc060",
      "metadata": {},
      "source": [
        "## 设置\n",
        "\n",
        "要使用 Weaviate 向量存储，你需要先设置一个 Weaviate 实例并安装 `@langchain/weaviate` 集成包。你还应该安装 `weaviate-client` 包以初始化客户端来连接你的实例，以及安装 `uuid` 包（如果你希望为索引的文档分配 ID）。\n",
        "\n",
        "本指南还将使用 [OpenAI 嵌入模型](/docs/integrations/text_embedding/openai)，这需要你安装 `@langchain/openai` 集成包。如果需要，你也可以使用 [其他支持的嵌入模型](/docs/integrations/text_embedding)。\n",
        "\n",
        "```{=mdx}\n",
        "import IntegrationInstallTooltip from \"@mdx_components/integration_install_tooltip.mdx\";\n",
        "import Npm2Yarn from \"@theme/Npm2Yarn\";\n",
        "\n",
        "<IntegrationInstallTooltip></IntegrationInstallTooltip>\n",
        "\n",
        "<Npm2Yarn>\n",
        "  @langchain/weaviate @langchain/core weaviate-client uuid @langchain/openai\n",
        "</Npm2Yarn>\n",
        "```\n",
        "\n",
        "你需要在本地或服务器上运行 Weaviate。更多信息请参阅 [Weaviate 官方文档](https://weaviate.io/developers/weaviate/installation)。\n",
        "\n",
        "### 凭据\n",
        "\n",
        "设置好实例后，请设置以下环境变量：\n",
        "\n",
        "```typescript\n",
        "// 如果在本地运行，包含端口号，例如 \"localhost:8080\"\n",
        "process.env.WEAVIATE_URL = \"YOUR_WEAVIATE_URL\";\n",
        "// 可选，用于云部署\n",
        "process.env.WEAVIATE_API_KEY = \"YOUR_API_KEY\";\n",
        "```\n",
        "\n",
        "如果你在本指南中使用 OpenAI 嵌入模型，还需要设置你的 OpenAI 密钥：\n",
        "\n",
        "```typescript\n",
        "process.env.OPENAI_API_KEY = \"YOUR_API_KEY\";\n",
        "```\n",
        "\n",
        "如果你想对模型调用进行自动追踪，也可以通过取消注释以下内容来设置你的 [LangSmith](https://docs.smith.langchain.com/) API 密钥：\n",
        "\n",
        "```typescript\n",
        "// process.env.LANGSMITH_TRACING=\"true\"\n",
        "// process.env.LANGSMITH_API_KEY=\"your-api-key\"\n",
        "```"
      ]
    },
    {
      "cell_type": "markdown",
      "id": "93df377e",
      "metadata": {},
      "source": [
        "## 实例化"
      ]
    },
    {
      "cell_type": "markdown",
      "id": "27252956",
      "metadata": {},
      "source": [
        "### 连接一个 Weaviate 客户端\n",
        "\n",
        "在大多数情况下，你应该使用以下连接辅助函数之一来连接到你的 Weaviate 实例：\n",
        "\n",
        "- connectToWeaviateCloud\n",
        "- connectToLocal\n",
        "- connectToCustom"
      ]
    },
    {
      "cell_type": "code",
      "execution_count": null,
      "id": "dc37144c-208d-4ab3-9f3a-0407a69fe052",
      "metadata": {
        "tags": []
      },
      "outputs": [],
      "source": [
        "import { WeaviateStore } from \"@langchain/weaviate\";\n",
        "import { OpenAIEmbeddings } from \"@langchain/openai\";\n",
        "import weaviate from \"weaviate-client\";\n",
        "\n",
        "const embeddings = new OpenAIEmbeddings({\n",
        "  model: \"text-embedding-3-small\",\n",
        "});\n",
        "\n",
        "const weaviateClient = weaviate.connectToWeaviateCloud({\n",
        "   clusterURL: process.env.WEAVIATE_URL!, \n",
        "\t options : {\n",
        "      authCredentials: new weaviate.ApiKey(process.env.WEAVIATE_API_KEY || \"\"),\n",
        "      headers: {\n",
        "        \"X-OpenAI-Api-Key\": process.env.OPENAI_API_KEY || \"\",\n",
        "        \"X-Cohere-Api-Key\": process.env.COHERE_API_KEY || \"\",\n",
        "      },\n",
        "    },\n",
        "});"
      ]
    },
    {
      "cell_type": "markdown",
      "id": "068c0312",
      "metadata": {},
      "source": [
        "### 初始化向量存储\n",
        "要创建集合，请至少指定集合名称。如果不指定任何属性，`auto-schema` 会自动创建它们。"
      ]
    },
    {
      "cell_type": "code",
      "execution_count": null,
      "id": "96250f2c",
      "metadata": {},
      "outputs": [],
      "source": [
        "const vectorStore = new WeaviateStore(embeddings, {\n",
        "  client: weaviateClient, \n",
        "  // Must start with a capital letter\n",
        "  indexName: \"Langchainjs_test\",\n",
        "});"
      ]
    },
    {
      "cell_type": "markdown",
      "id": "59d64eb9",
      "metadata": {},
      "source": [
        "要使用 Weaviate 的命名向量、向量化器、重排序器、生成模型等，请在启用向量存储时使用 `schema` 属性。创建向量存储时，`schema` 中的集合名称和其他属性将具有优先权。"
      ]
    },
    {
      "cell_type": "code",
      "execution_count": null,
      "id": "6f2b4c50",
      "metadata": {},
      "outputs": [],
      "source": [
        "const vectorStore = new WeaviateStore(embeddings, {\n",
        "  client: weaviateClient, \n",
        "  schema: {\n",
        "    name: \"Langchainjs_test\",\n",
        "    description: \"A simple dataset\",\n",
        "    properties: [\n",
        "      {\n",
        "        name: \"title\",\n",
        "        dataType: dataType.TEXT,\n",
        "      },\n",
        "      {\n",
        "        name: \"foo\",\n",
        "        dataType: dataType.TEXT,\n",
        "      },\n",
        "    ],\n",
        "    vectorizers: [\n",
        "      vectorizer.text2VecOpenAI({\n",
        "        name: \"title\",\n",
        "        sourceProperties: [\"title\"], // (Optional) Set the source property(ies)\n",
        "        // vectorIndexConfig: configure.vectorIndex.hnsw()   // (Optional) Set the vector index configuration\n",
        "      }),\n",
        "    ],\n",
        "    generative: weaviate.configure.generative.openAI(),\n",
        "    reranker: weaviate.configure.reranker.cohere(),\n",
        "  },\n",
        "});"
      ]
    },
    {
      "cell_type": "markdown",
      "id": "ac6071d4",
      "metadata": {},
      "source": [
        "## 管理向量存储\n",
        "\n",
        "### 向向量存储中添加项目\n",
        "\n",
        "**注意：** 如果您希望将ID与索引的文档相关联，则这些ID必须是UUID。"
      ]
    },
    {
      "cell_type": "code",
      "execution_count": 2,
      "id": "17f5efc0",
      "metadata": {},
      "outputs": [
        {
          "name": "stdout",
          "output_type": "stream",
          "text": [
            "[\n",
            "  '610f9b92-9bee-473f-a4db-8f2ca6e3442d',\n",
            "  '995160fa-441e-41a0-b476-cf3785518a0d',\n",
            "  '0cdbe6d4-0df8-4f99-9b67-184009fee9a2',\n",
            "  '18a8211c-0649-467b-a7c5-50ebb4b9ca9d'\n",
            "]\n"
          ]
        }
      ],
      "source": [
        "import type { Document } from \"@langchain/core/documents\";\n",
        "import { v4 as uuidv4 } from \"uuid\";\n",
        "\n",
        "const document1: Document = {\n",
        "  pageContent: \"The powerhouse of the cell is the mitochondria\",\n",
        "  metadata: { source: \"https://example.com\" }\n",
        "};\n",
        "\n",
        "const document2: Document = {\n",
        "  pageContent: \"Buildings are made out of brick\",\n",
        "  metadata: { source: \"https://example.com\" }\n",
        "};\n",
        "\n",
        "const document3: Document = {\n",
        "  pageContent: \"Mitochondria are made out of lipids\",\n",
        "  metadata: { source: \"https://example.com\" }\n",
        "};\n",
        "\n",
        "const document4: Document = {\n",
        "  pageContent: \"The 2024 Olympics are in Paris\",\n",
        "  metadata: { source: \"https://example.com\" }\n",
        "}\n",
        "\n",
        "const documents = [document1, document2, document3, document4];\n",
        "const uuids = [uuidv4(), uuidv4(), uuidv4(), uuidv4()];\n",
        "\n",
        "await vectorStore.addDocuments(documents, { ids: uuids });"
      ]
    },
    {
      "cell_type": "markdown",
      "id": "dcf1b905",
      "metadata": {},
      "source": [
        "### 从向量存储中删除项目\n",
        "\n",
        "你可以通过传递 `filter` 参数按 ID 进行删除："
      ]
    },
    {
      "cell_type": "code",
      "execution_count": 3,
      "id": "ef61e188",
      "metadata": {},
      "outputs": [],
      "source": [
        "await vectorStore.delete({ ids: [uuids[3]] });"
      ]
    },
    {
      "cell_type": "markdown",
      "id": "c3620501",
      "metadata": {},
      "source": [
        "## 查询向量存储\n",
        "\n",
        "一旦你的向量存储创建完成并将相关文档添加进去后，在运行链或代理时很可能需要对其进行查询。\n",
        "在 Weaviate v3 中，客户端主要通过与 `collections` 交互来操作数据库中的对象。`collection` 对象可以在整个代码库中重复使用。\n",
        "### 直接查询\n",
        "\n",
        "可以如下进行简单的相似性搜索。`Filter` 辅助类使使用带有条件的过滤器变得更加简单。v3 客户端简化了 `Filter` 的使用方式，使你的代码更加简洁清晰。\n",
        "\n",
        "关于 Weaviate 过滤器语法的更多信息，请参见 [此页面](https://weaviate.io/developers/weaviate/api/graphql/filters)。"
      ]
    },
    {
      "cell_type": "code",
      "execution_count": null,
      "id": "aa0a16fa",
      "metadata": {},
      "outputs": [
        {
          "name": "stdout",
          "output_type": "stream",
          "text": [
            "* The powerhouse of the cell is the mitochondria [{\"source\":\"https://example.com\"}]\n",
            "* Mitochondria are made out of lipids [{\"source\":\"https://example.com\"}]\n"
          ]
        }
      ],
      "source": [
        "import { Filters } from \"weaviate-client\";\n",
        "\n",
        "const collection = client.collections.use('Langchainjs_test');\n",
        "\n",
        "const filter = Filters.and(collection.filter.byProperty(\"source\").equal(\"https://example.com\"))\n",
        "\n",
        "const similaritySearchResults = await vectorStore.similaritySearch(\"biology\", 2, filter);\n",
        "\n",
        "for (const doc of similaritySearchResults) {\n",
        "  console.log(`* ${doc.pageContent} [${JSON.stringify(doc.metadata, null)}]`);\n",
        "}"
      ]
    },
    {
      "cell_type": "markdown",
      "id": "3ed9d733",
      "metadata": {},
      "source": [
        "如果你想执行相似性搜索并获得相应的分数，可以运行以下命令："
      ]
    },
    {
      "cell_type": "code",
      "execution_count": 15,
      "id": "5efd2eaa",
      "metadata": {},
      "outputs": [
        {
          "name": "stdout",
          "output_type": "stream",
          "text": [
            "* [SIM=0.835] The powerhouse of the cell is the mitochondria [{\"source\":\"https://example.com\"}]\n",
            "* [SIM=0.852] Mitochondria are made out of lipids [{\"source\":\"https://example.com\"}]\n"
          ]
        }
      ],
      "source": [
        "const similaritySearchWithScoreResults = await vectorStore.similaritySearchWithScore(\"biology\", 2, filter)\n",
        "\n",
        "for (const [doc, score] of similaritySearchWithScoreResults) {\n",
        "  console.log(`* [SIM=${score.toFixed(3)}] ${doc.pageContent} [${JSON.stringify(doc.metadata)}]`);\n",
        "}"
      ]
    },
    {
      "cell_type": "markdown",
      "id": "dced353b",
      "metadata": {},
      "source": [
        "### 混合搜索\n",
        "在 Weaviate 中，`混合搜索` 通过融合向量搜索和关键词（BM25F）搜索的两个结果集来组合结果。要更改关键词和向量组件的相对权重，请在查询中设置 `alpha` 值。\n",
        "\n",
        "查看 __[文档](https://weaviate.io/developers/weaviate/search/hybrid)__ 以获取完整的混合搜索选项列表。"
      ]
    },
    {
      "cell_type": "code",
      "execution_count": null,
      "id": "1c10440e",
      "metadata": {},
      "outputs": [],
      "source": [
        "const results = await vectorStore.hybridSearch(\"biology\", \n",
        "  {\n",
        "    limit: 1,\n",
        "    alpha: 0.25,\n",
        "    targetVector: [\"title\"],\n",
        "    rerank: {\n",
        "      property: \"title\",\n",
        "      query: \"greeting\",\n",
        "    },\n",
        "});"
      ]
    },
    {
      "cell_type": "markdown",
      "id": "221b9a65",
      "metadata": {},
      "source": [
        "### 检索增强生成（RAG）\n",
        "检索增强生成（RAG）将信息检索与生成式AI模型相结合。\n",
        "\n",
        "在 Weaviate 中，RAG 查询包含两个部分：一个搜索查询和一个提供给模型的提示。Weaviate 首先执行搜索，然后将搜索结果和你的提示一起传递给生成式AI模型，最后返回生成的响应。\n",
        "   * @param query 要搜索的查询。\n",
        "   * @param options 执行混合搜索的可用选项\n",
        "   * @param generate 生成的可用选项。请查看文档以获取完整列表"
      ]
    },
    {
      "cell_type": "code",
      "execution_count": null,
      "id": "14d08e92",
      "metadata": {},
      "outputs": [],
      "source": [
        "const results = await vectorStore.generate(\"hello world\",\n",
        "    {\n",
        "        singlePrompt: {\n",
        "            prompt: \"Translate this into German: {title}\",\n",
        "        },\n",
        "        config: generativeParameters.openAI({\n",
        "            model: \"gpt-3.5-turbo\",\n",
        "        }),\n",
        "    },\n",
        "    {\n",
        "        limit: 2,\n",
        "        targetVector: [\"title\"],\n",
        "    }\n",
        ");"
      ]
    },
    {
      "cell_type": "markdown",
      "id": "0c235cdc",
      "metadata": {},
      "source": [
        "### 通过转换为检索器进行查询\n",
        "\n",
        "您还可以将向量存储转换为[检索器](/docs/concepts/retrievers)，以便在您的链中更方便地使用。"
      ]
    },
    {
      "cell_type": "code",
      "execution_count": 16,
      "id": "f3460093",
      "metadata": {},
      "outputs": [
        {
          "name": "stdout",
          "output_type": "stream",
          "text": [
            "[\n",
            "  Document {\n",
            "    pageContent: 'The powerhouse of the cell is the mitochondria',\n",
            "    metadata: { source: 'https://example.com' },\n",
            "    id: undefined\n",
            "  },\n",
            "  Document {\n",
            "    pageContent: 'Mitochondria are made out of lipids',\n",
            "    metadata: { source: 'https://example.com' },\n",
            "    id: undefined\n",
            "  }\n",
            "]\n"
          ]
        }
      ],
      "source": [
        "const retriever = vectorStore.asRetriever({\n",
        "  // Optional filter\n",
        "  filter: filter,\n",
        "  k: 2,\n",
        "});\n",
        "await retriever.invoke(\"biology\");"
      ]
    },
    {
      "cell_type": "markdown",
      "id": "e2e0a211",
      "metadata": {},
      "source": [
        "### 检索增强生成的用法\n",
        "\n",
        "有关如何将此向量存储用于检索增强生成（RAG）的指南，请参阅以下部分：\n",
        "\n",
        "- [教程：使用外部知识](/docs/tutorials/#working-with-external-knowledge)。\n",
        "- [如何操作：使用RAG进行问答](/docs/how_to/#qa-with-rag)\n",
        "- [检索概念文档](/docs/concepts/retrieval)"
      ]
    },
    {
      "cell_type": "markdown",
      "id": "8a27244f",
      "metadata": {},
      "source": [
        "## API 参考文档\n",
        "\n",
        "如需详细了解所有 `WeaviateStore` 功能和配置，请访问 [API 参考文档](https://api.js.langchain.com/classes/langchain_weaviate.WeaviateStore.html)。"
      ]
    }
  ],
  "metadata": {
    "kernelspec": {
      "display_name": "TypeScript",
      "language": "typescript",
      "name": "tslab"
    },
    "language_info": {
      "codemirror_mode": {
        "mode": "typescript",
        "name": "javascript",
        "typescript": true
      },
      "file_extension": ".ts",
      "mimetype": "text/typescript",
      "name": "typescript",
      "version": "3.7.2"
    }
  },
  "nbformat": 4,
  "nbformat_minor": 5
}