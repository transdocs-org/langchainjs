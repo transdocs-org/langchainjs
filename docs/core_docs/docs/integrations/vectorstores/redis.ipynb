{
  "cells": [
    {
      "cell_type": "raw",
      "id": "1957f5cb",
      "metadata": {
        "vscode": {
          "languageId": "raw"
        }
      },
      "source": [
        "---\n",
        "sidebar_label: Redis\n",
        "sidebar_class_name: node-only\n",
        "---"
      ]
    },
    {
      "cell_type": "markdown",
      "id": "ef1f0986",
      "metadata": {},
      "source": [
        "# RedisVectorStore\n",
        "\n",
        "```{=mdx}\n",
        ":::tip 兼容性\n",
        "仅适用于 Node.js。\n",
        ":::\n",
        "```\n",
        "\n",
        "[Redis](https://redis.io/) 是一个快速的开源内存数据存储。作为 [Redis Stack](https://redis.io/docs/latest/operate/oss_and_stack/install/install-stack/) 的一部分，[RediSearch](https://redis.io/docs/latest/develop/interact/search-and-query/) 是一个支持向量相似性语义搜索以及其他多种搜索方式的模块。\n",
        "\n",
        "本指南提供了 Redis [向量存储](/docs/concepts/#vectorstores) 的快速入门概览。如需查看所有 `RedisVectorStore` 功能和配置的详细文档，请访问 [API 参考](https://api.js.langchain.com/classes/langchain_redis.RedisVectorStore.html)。"
      ]
    },
    {
      "cell_type": "markdown",
      "id": "c824838d",
      "metadata": {},
      "source": [
        "## 概述\n",
        "\n",
        "### 集成详情\n",
        "\n",
        "| 类 | 包 | [Python 支持](https://python.langchain.com/docs/integrations/vectorstores/redis/) | 包最新版本 |\n",
        "| :--- | :--- | :---: | :---: |\n",
        "| [`RedisVectorStore`](https://api.js.langchain.com/classes/langchain_redis.RedisVectorStore.html) | [`@langchain/redis`](https://npmjs.com/@langchain/redis/) | ✅ |  ![NPM - 版本](https://img.shields.io/npm/v/@langchain/redis?style=flat-square&label=%20&) |"
      ]
    },
    {
      "cell_type": "markdown",
      "id": "36fdc060",
      "metadata": {},
      "source": [
        "## 环境设置\n",
        "\n",
        "要使用 Redis 向量存储，你需要设置一个 Redis 实例并安装 `@langchain/redis` 集成包。你还可以安装 [`node-redis`](https://github.com/redis/node-redis) 包，以便使用特定的客户端实例初始化向量存储。\n",
        "\n",
        "本指南还将使用 [OpenAI 嵌入模型](/docs/integrations/text_embedding/openai)，这需要你安装 `@langchain/openai` 集成包。如果你愿意，也可以使用 [其他支持的嵌入模型](/docs/integrations/text_embedding)。\n",
        "\n",
        "```{=mdx}\n",
        "import IntegrationInstallTooltip from \"@mdx_components/integration_install_tooltip.mdx\";\n",
        "import Npm2Yarn from \"@theme/Npm2Yarn\";\n",
        "\n",
        "<IntegrationInstallTooltip></IntegrationInstallTooltip>\n",
        "\n",
        "<Npm2Yarn>\n",
        "  @langchain/redis @langchain/core redis @langchain/openai\n",
        "</Npm2Yarn>\n",
        "```\n",
        "\n",
        "你可以通过 Docker 按照 [这些说明](https://redis.io/docs/latest/operate/oss_and_stack/install/install-stack/docker/#redisredis-stack) 在本地设置一个 Redis 实例。\n",
        "\n",
        "### 凭证\n",
        "\n",
        "设置好实例后，设置 `REDIS_URL` 环境变量：\n",
        "\n",
        "```typescript\n",
        "process.env.REDIS_URL = \"your-redis-url\"\n",
        "```\n",
        "\n",
        "如果本指南中你使用的是 OpenAI 嵌入模型，还需要设置你的 OpenAI 密钥：\n",
        "\n",
        "```typescript\n",
        "process.env.OPENAI_API_KEY = \"YOUR_API_KEY\";\n",
        "```\n",
        "\n",
        "如果你想对模型调用进行自动追踪，还可以通过取消以下注释来设置你的 [LangSmith](https://docs.smith.langchain.com/) API 密钥：\n",
        "\n",
        "```typescript\n",
        "// process.env.LANGSMITH_TRACING=\"true\"\n",
        "// process.env.LANGSMITH_API_KEY=\"your-api-key\"\n",
        "```"
      ]
    },
    {
      "cell_type": "markdown",
      "id": "93df377e",
      "metadata": {},
      "source": [
        "## 实例化"
      ]
    },
    {
      "cell_type": "code",
      "execution_count": 1,
      "id": "dc37144c-208d-4ab3-9f3a-0407a69fe052",
      "metadata": {
        "tags": []
      },
      "outputs": [],
      "source": [
        "import { RedisVectorStore } from \"@langchain/redis\";\n",
        "import { OpenAIEmbeddings } from \"@langchain/openai\";\n",
        "\n",
        "import { createClient } from \"redis\";\n",
        "\n",
        "const embeddings = new OpenAIEmbeddings({\n",
        "  model: \"text-embedding-3-small\",\n",
        "});\n",
        "\n",
        "const client = createClient({\n",
        "  url: process.env.REDIS_URL ?? \"redis://localhost:6379\",\n",
        "});\n",
        "await client.connect();\n",
        "\n",
        "const vectorStore = new RedisVectorStore(embeddings, {\n",
        "  redisClient: client,\n",
        "  indexName: \"langchainjs-testing\",\n",
        "});"
      ]
    },
    {
      "cell_type": "markdown",
      "id": "ac6071d4",
      "metadata": {},
      "source": [
        "## 管理向量存储\n",
        "\n",
        "### 向向量存储中添加条目"
      ]
    },
    {
      "cell_type": "code",
      "execution_count": 2,
      "id": "17f5efc0",
      "metadata": {},
      "outputs": [],
      "source": [
        "import type { Document } from \"@langchain/core/documents\";\n",
        "\n",
        "const document1: Document = {\n",
        "  pageContent: \"The powerhouse of the cell is the mitochondria\",\n",
        "  metadata: { type: \"example\" }\n",
        "};\n",
        "\n",
        "const document2: Document = {\n",
        "  pageContent: \"Buildings are made out of brick\",\n",
        "  metadata: { type: \"example\" }\n",
        "};\n",
        "\n",
        "const document3: Document = {\n",
        "  pageContent: \"Mitochondria are made out of lipids\",\n",
        "  metadata: { type: \"example\" }\n",
        "};\n",
        "\n",
        "const document4: Document = {\n",
        "  pageContent: \"The 2024 Olympics are in Paris\",\n",
        "  metadata: { type: \"example\" }\n",
        "}\n",
        "\n",
        "const documents = [document1, document2, document3, document4];\n",
        "\n",
        "await vectorStore.addDocuments(documents);"
      ]
    },
    {
      "cell_type": "markdown",
      "id": "dcf1b905",
      "metadata": {},
      "source": [
        "顶级文档ID和删除当前不受支持。"
      ]
    },
    {
      "cell_type": "markdown",
      "id": "c3620501",
      "metadata": {},
      "source": [
        "## 查询向量存储\n",
        "\n",
        "一旦创建了向量存储并添加了相关文档，在运行链或代理时很可能需要对其进行查询。\n",
        "\n",
        "### 直接查询\n",
        "\n",
        "执行一个简单的相似性搜索可以按照以下方式："
      ]
    },
    {
      "cell_type": "code",
      "execution_count": 7,
      "id": "aa0a16fa",
      "metadata": {},
      "outputs": [],
      "source": [
        "const similaritySearchResults = await vectorStore.similaritySearch(\"biology\", 2);\n",
        "\n",
        "for (const doc of similaritySearchResults) {\n",
        "  console.log(`* ${doc.pageContent} [${JSON.stringify(doc.metadata, null)}]`);\n",
        "}"
      ]
    },
    {
      "cell_type": "markdown",
      "id": "3ed9d733",
      "metadata": {},
      "source": [
        "当前过滤将查找包含提供的字符串的任何元数据键。\n",
        "\n",
        "如果您要执行相似性搜索并接收相应的分数，您可以运行："
      ]
    },
    {
      "cell_type": "code",
      "execution_count": 8,
      "id": "5efd2eaa",
      "metadata": {},
      "outputs": [
        {
          "name": "stdout",
          "output_type": "stream",
          "text": [
            "* [SIM=0.835] The powerhouse of the cell is the mitochondria [{\"type\":\"example\"}]\n",
            "* [SIM=0.852] Mitochondria are made out of lipids [{\"type\":\"example\"}]\n"
          ]
        }
      ],
      "source": [
        "const similaritySearchWithScoreResults = await vectorStore.similaritySearchWithScore(\"biology\", 2)\n",
        "\n",
        "for (const [doc, score] of similaritySearchWithScoreResults) {\n",
        "  console.log(`* [SIM=${score.toFixed(3)}] ${doc.pageContent} [${JSON.stringify(doc.metadata)}]`);\n",
        "}"
      ]
    },
    {
      "cell_type": "markdown",
      "id": "0c235cdc",
      "metadata": {},
      "source": [
        "### 通过转换为检索器进行查询\n",
        "\n",
        "你还可以将向量存储转换为[检索器](/docs/concepts/retrievers)，以便在你的链中更方便地使用。"
      ]
    },
    {
      "cell_type": "code",
      "execution_count": 9,
      "id": "f3460093",
      "metadata": {},
      "outputs": [
        {
          "name": "stdout",
          "output_type": "stream",
          "text": [
            "[\n",
            "  Document {\n",
            "    pageContent: 'The powerhouse of the cell is the mitochondria',\n",
            "    metadata: { type: 'example' },\n",
            "    id: undefined\n",
            "  },\n",
            "  Document {\n",
            "    pageContent: 'Mitochondria are made out of lipids',\n",
            "    metadata: { type: 'example' },\n",
            "    id: undefined\n",
            "  }\n",
            "]\n"
          ]
        }
      ],
      "source": [
        "const retriever = vectorStore.asRetriever({\n",
        "  k: 2,\n",
        "});\n",
        "await retriever.invoke(\"biology\");"
      ]
    },
    {
      "cell_type": "markdown",
      "id": "e2e0a211",
      "metadata": {},
      "source": [
        "### 检索增强生成的用法\n",
        "\n",
        "有关如何将此向量存储用于检索增强生成（RAG）的指南，请参阅以下部分：\n",
        "\n",
        "- [教程：使用外部知识](/docs/tutorials/#working-with-external-knowledge)。\n",
        "- [操作指南：使用RAG进行问答](/docs/how_to/#qa-with-rag)\n",
        "- [检索概念文档](/docs/concepts/retrieval)"
      ]
    },
    {
      "cell_type": "markdown",
      "id": "069f1b5f",
      "metadata": {},
      "source": [
        "## 删除索引\n",
        "\n",
        "您可以使用以下命令删除整个索引："
      ]
    },
    {
      "cell_type": "code",
      "execution_count": 10,
      "id": "f71ce986",
      "metadata": {},
      "outputs": [],
      "source": [
        "await vectorStore.delete({ deleteAll: true });"
      ]
    },
    {
      "cell_type": "markdown",
      "id": "bf2357b3",
      "metadata": {},
      "source": [
        "## 关闭连接\n",
        "\n",
        "完成操作后，请确保关闭客户端连接，以避免资源过度消耗："
      ]
    },
    {
      "cell_type": "code",
      "execution_count": 11,
      "id": "48a98cba",
      "metadata": {},
      "outputs": [],
      "source": [
        "await client.disconnect();"
      ]
    },
    {
      "cell_type": "markdown",
      "id": "8a27244f",
      "metadata": {},
      "source": [
        "## API 参考文档\n",
        "\n",
        "如需详细了解所有 `RedisVectorSearch` 功能和配置，请前往 [API 参考文档](https://api.js.langchain.com/classes/langchain_redis.RedisVectorStore.html)。"
      ]
    }
  ],
  "metadata": {
    "kernelspec": {
      "display_name": "TypeScript",
      "language": "typescript",
      "name": "tslab"
    },
    "language_info": {
      "codemirror_mode": {
        "mode": "typescript",
        "name": "javascript",
        "typescript": true
      },
      "file_extension": ".ts",
      "mimetype": "text/typescript",
      "name": "typescript",
      "version": "3.7.2"
    }
  },
  "nbformat": 4,
  "nbformat_minor": 5
}