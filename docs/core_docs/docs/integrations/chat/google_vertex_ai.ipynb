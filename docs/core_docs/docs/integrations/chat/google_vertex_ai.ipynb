{
  "cells": [
    {
      "cell_type": "raw",
      "id": "afaf8039",
      "metadata": {
        "vscode": {
          "languageId": "raw"
        }
      },
      "source": [
        "---\n",
        "sidebar_label: Google Vertex AI\n",
        "---"
      ]
    },
    {
      "cell_type": "markdown",
      "id": "e49f1e0d",
      "metadata": {},
      "source": [
        "# ChatVertexAI\n",
        "\n",
        "[Google Vertex](https://cloud.google.com/vertex-ai) 是一项服务，提供了 Google Cloud 中可用的所有基础模型，例如 `gemini-1.5-pro`、`gemini-2.0-flash-exp` 等。\n",
        "它还提供了一些非 Google 的模型，例如 [Anthropic 的 Claude](https://cloud.google.com/vertex-ai/generative-ai/docs/partner-models/use-claude)。\n",
        "\n",
        "\n",
        "这将帮助你快速上手使用 `ChatVertexAI` [聊天模型](/docs/concepts/chat_models)。如需了解 `ChatVertexAI` 所有功能和配置的详细文档，请参阅 [API 参考](https://api.js.langchain.com/classes/langchain_google_vertexai.ChatVertexAI.html)。\n",
        "\n",
        "## 概览\n",
        "\n",
        "### 集成详情\n",
        "\n",
        "| 类 | 包 | 本地 | 可序列化 | [PY 支持](https://python.langchain.com/docs/integrations/chat/google_vertex_ai_palm) | 包下载量 | 包最新版本 |\n",
        "| :--- | :--- | :---: | :---: | :---: | :---: | :---: |\n",
        "| [ChatVertexAI](https://api.js.langchain.com/classes/langchain_google_vertexai.ChatVertexAI.html) | [`@langchain/google-vertexai`](https://www.npmjs.com/package/@langchain/google-vertexai) | ❌ | ✅ | ✅ | ![NPM - 下载量](https://img.shields.io/npm/dm/@langchain/google-vertexai?style=flat-square&label=%20&) | ![NPM - 版本](https://img.shields.io/npm/v/@langchain/google-vertexai?style=flat-square&label=%20&) |\n",
        "\n",
        "### 模型功能\n",
        "\n",
        "有关如何使用特定功能的指南，请参阅下表标题中的链接。\n",
        "\n",
        "| [工具调用](/docs/how_to/tool_calling) | [结构化输出](/docs/how_to/structured_output/) | JSON 模式 | [图像输入](/docs/how_to/multimodal_inputs/) | 音频输入 | 视频输入 | [逐令牌流式传输](/docs/how_to/chat_streaming/) | [令牌使用情况](/docs/how_to/chat_token_usage_tracking/) | [Logprobs](/docs/how_to/logprobs/) |\n",
        "| :---: | :---: | :---: | :---: | :---: | :---: | :---: | :---: | :---: |\n",
        "| ✅ | ✅ | ❌ | ✅ | ✅ | ✅ | ✅ | ✅ | ✅ | \n",
        "\n",
        "请注意，虽然支持 logprobs，但 Gemini 对其使用有较为严格的限制。\n",
        "\n",
        "## 安装配置\n",
        "\n",
        "LangChain.js 支持两种不同的认证方式，具体取决于你是在 Node.js 环境还是 Web 环境中运行。\n",
        "它还支持使用任一包通过 Vertex AI Express 模式使用的认证方法。\n",
        "\n",
        "要访问 `ChatVertexAI` 模型，你需要在你的 Google Cloud Platform (GCP) 账户中设置 Google VertexAI，保存凭证文件，并安装 `@langchain/google-vertexai` 集成包。\n",
        "\n",
        "### 凭证\n",
        "\n",
        "前往你的 [GCP 账户](https://console.cloud.google.com/) 并生成一个凭证文件。完成此操作后，设置 `GOOGLE_APPLICATION_CREDENTIALS` 环境变量：\n",
        "\n",
        "```bash\n",
        "export GOOGLE_APPLICATION_CREDENTIALS=\"path/to/your/credentials.json\"\n",
        "```\n",
        "\n",
        "如果在 Web 环境中运行，应将 `GOOGLE_VERTEX_AI_WEB_CREDENTIALS` 环境变量设为 JSON 格式的字符串对象，并安装 `@langchain/google-vertexai-web` 包：\n",
        "\n",
        "```bash\n",
        "GOOGLE_VERTEX_AI_WEB_CREDENTIALS={\"type\":\"service_account\",\"project_id\":\"YOUR_PROJECT-12345\",...}\n",
        "```\n",
        "\n",
        "如果你使用的是 Vertex AI Express 模式，则可以安装 `@langchain/google-vertexai` 或 `@langchain/google-vertexai-web` 包。\n",
        "然后你可以前往 [Express 模式](https://console.cloud.google.com/vertex-ai/studio) 的 API 密钥页面，并将你的 API 密钥设置在 `GOOGLE_API_KEY` 环境变量中：\n",
        "\n",
        "```bash\n",
        "export GOOGLE_API_KEY=\"api_key_value\"\n",
        "```\n",
        "\n",
        "如果你想获取模型调用的自动追踪，还可以通过取消注释以下内容来设置你的 [LangSmith](https://docs.smith.langchain.com/) API 密钥：\n",
        "\n",
        "```bash\n",
        "# export LANGSMITH_TRACING=\"true\"\n",
        "# export LANGSMITH_API_KEY=\"your-api-key\"\n",
        "```\n",
        "\n",
        "### 安装\n",
        "\n",
        "LangChain 的 `ChatVertexAI` 集成位于 `@langchain/google-vertexai` 包中：\n",
        "\n",
        "```{=mdx}\n",
        "import IntegrationInstallTooltip from \"@mdx_components/integration_install_tooltip.mdx\";\n",
        "import Npm2Yarn from \"@theme/Npm2Yarn\";\n",
        "\n",
        "<IntegrationInstallTooltip></IntegrationInstallTooltip>\n",
        "\n",
        "<Npm2Yarn>\n",
        "  @langchain/google-vertexai @langchain/core\n",
        "</Npm2Yarn>\n",
        "\n",
        "或者如果在 Web 环境中使用，例如 [Vercel Edge 函数](https://vercel.com/blog/edge-functions-generally-available)：\n",
        "\n",
        "<Npm2Yarn>\n",
        "  @langchain/google-vertexai-web @langchain/core\n",
        "</Npm2Yarn>\n",
        "\n",
        "```"
      ]
    },
    {
      "cell_type": "markdown",
      "id": "a38cde65-254d-4219-a441-068766c0d4b5",
      "metadata": {},
      "source": [
        "## 实例化\n",
        "\n",
        "现在我们可以实例化我们的模型对象并生成聊天补全结果："
      ]
    },
    {
      "cell_type": "code",
      "execution_count": 1,
      "id": "cb09c344-1836-4e0c-acf8-11d13ac1dbae",
      "metadata": {},
      "outputs": [],
      "source": [
        "import { ChatVertexAI } from \"@langchain/google-vertexai\"\n",
        "// Uncomment the following line if you're running in a web environment:\n",
        "// import { ChatVertexAI } from \"@langchain/google-vertexai-web\"\n",
        "\n",
        "const llm = new ChatVertexAI({\n",
        "    model: \"gemini-2.0-flash-exp\",\n",
        "    temperature: 0,\n",
        "    maxRetries: 2,\n",
        "    // For web, authOptions.credentials\n",
        "    // authOptions: { ... }\n",
        "    // other params...\n",
        "})"
      ]
    },
    {
      "cell_type": "markdown",
      "id": "2b4f3e15",
      "metadata": {},
      "source": [
        "## 调用"
      ]
    },
    {
      "cell_type": "code",
      "execution_count": 2,
      "id": "62e0dbc3",
      "metadata": {
        "tags": []
      },
      "outputs": [
        {
          "name": "stdout",
          "output_type": "stream",
          "text": [
            "AIMessageChunk {\n",
            "  \"content\": \"J'adore programmer. \\n\",\n",
            "  \"additional_kwargs\": {},\n",
            "  \"response_metadata\": {},\n",
            "  \"tool_calls\": [],\n",
            "  \"tool_call_chunks\": [],\n",
            "  \"invalid_tool_calls\": [],\n",
            "  \"usage_metadata\": {\n",
            "    \"input_tokens\": 20,\n",
            "    \"output_tokens\": 7,\n",
            "    \"total_tokens\": 27\n",
            "  }\n",
            "}\n"
          ]
        }
      ],
      "source": [
        "const aiMsg = await llm.invoke([\n",
        "    [\n",
        "        \"system\",\n",
        "        \"You are a helpful assistant that translates English to French. Translate the user sentence.\",\n",
        "    ],\n",
        "    [\"human\", \"I love programming.\"],\n",
        "])\n",
        "aiMsg"
      ]
    },
    {
      "cell_type": "code",
      "execution_count": 3,
      "id": "d86145b3-bfef-46e8-b227-4dda5c9c2705",
      "metadata": {},
      "outputs": [
        {
          "name": "stdout",
          "output_type": "stream",
          "text": [
            "J'adore programmer. \n",
            "\n"
          ]
        }
      ],
      "source": [
        "console.log(aiMsg.content)"
      ]
    },
    {
      "cell_type": "markdown",
      "id": "de2480fa",
      "metadata": {},
      "source": [
        "## 使用谷歌搜索检索的工具调用\n",
        "\n",
        "您可以使用谷歌搜索工具调用模型，从而通过现实世界的信息来[支持](https://cloud.google.com/vertex-ai/generative-ai/docs/model-reference/grounding)内容生成并减少幻觉的产生。\n",
        "\n",
        "目前 `gemini-2.0-flash-exp` 不支持基础信息支持（Grounding）。\n",
        "\n",
        "您可以选择使用谷歌搜索进行基础信息支持，或者通过自定义数据存储来实现。以下是两者的示例：  "
      ]
    },
    {
      "cell_type": "markdown",
      "id": "fd2091ba",
      "metadata": {},
      "source": [
        "### 谷歌搜索检索\n",
        "\n",
        "使用谷歌搜索的示例：\n"
      ]
    },
    {
      "cell_type": "code",
      "execution_count": null,
      "id": "65d019ee",
      "metadata": {},
      "outputs": [
        {
          "name": "stdout",
          "output_type": "stream",
          "text": [
            "The Boston Celtics won the 2024 NBA Finals, defeating the Dallas Mavericks 4-1 in the series to claim their 18th NBA championship. This victory marked their first title since 2008 and established them as the team with the most NBA championships, surpassing the Los Angeles Lakers' 17 titles.\n",
            "\n"
          ]
        }
      ],
      "source": [
        "import { ChatVertexAI } from \"@langchain/google-vertexai\"\n",
        "\n",
        "const searchRetrievalTool = {\n",
        "  googleSearchRetrieval: {\n",
        "    dynamicRetrievalConfig: {\n",
        "      mode: \"MODE_DYNAMIC\", // Use Dynamic Retrieval\n",
        "      dynamicThreshold: 0.7, // Default for Dynamic Retrieval threshold\n",
        "    },\n",
        "  },\n",
        "};\n",
        "\n",
        "const searchRetrievalModel = new ChatVertexAI({\n",
        "  model: \"gemini-1.5-pro\",\n",
        "  temperature: 0,\n",
        "  maxRetries: 0,\n",
        "}).bindTools([searchRetrievalTool]);\n",
        "\n",
        "const searchRetrievalResult = await searchRetrievalModel.invoke(\"Who won the 2024 NBA Finals?\");\n",
        "\n",
        "console.log(searchRetrievalResult.content);"
      ]
    },
    {
      "cell_type": "markdown",
      "id": "ac3a4a98",
      "metadata": {},
      "source": [
        "### 使用数据存储进行谷歌搜索检索\n",
        "\n",
        "首先，设置你的数据存储（这是一个示例数据存储的模式）:\n",
        "\n",
        "|    ID   |     日期     |    球队 1   |   比分  |   球队 2   |\n",
        "|:-------:|:------------:|:-----------:|:--------:|:----------:|\n",
        "|  3001   |  2023-09-07  |  阿根廷      |  1 - 0   |  厄瓜多尔   |\n",
        "|  3002   |  2023-09-12  |  委内瑞拉    |  1 - 0   |  巴拉圭     |\n",
        "|  3003   |  2023-09-12  |  智利        |  0 - 0   |  哥伦比亚   |\n",
        "|  3004   |  2023-09-12  |  秘鲁        |  0 - 1   |  巴西       |\n",
        "|  3005   |  2024-10-15  |  阿根廷      |  6 - 0   |  玻利维亚   |\n",
        "\n",
        "然后，在下面提供的示例中使用此数据存储：\n",
        "\n",
        "(请注意，你需要为 `projectId` 和 `datastoreId` 使用自己的变量)\n"
      ]
    },
    {
      "cell_type": "code",
      "execution_count": null,
      "id": "a6a539d9",
      "metadata": {},
      "outputs": [
        {
          "name": "stdout",
          "output_type": "stream",
          "text": [
            "Argentina won against Bolivia with a score of 6-0 on October 15, 2024.\n",
            "\n"
          ]
        }
      ],
      "source": [
        "import { ChatVertexAI } from \"@langchain/google-vertexai\";\n",
        "\n",
        "const projectId = \"YOUR_PROJECT_ID\";\n",
        "const datastoreId = \"YOUR_DATASTORE_ID\";\n",
        "\n",
        "const searchRetrievalToolWithDataset = {\n",
        "  retrieval: {\n",
        "    vertexAiSearch: {\n",
        "      datastore: `projects/${projectId}/locations/global/collections/default_collection/dataStores/${datastoreId}`,\n",
        "    },\n",
        "    disableAttribution: false,\n",
        "  },\n",
        "};\n",
        "\n",
        "const searchRetrievalModelWithDataset = new ChatVertexAI({\n",
        "  model: \"gemini-1.5-pro\",\n",
        "  temperature: 0,\n",
        "  maxRetries: 0,\n",
        "}).bindTools([searchRetrievalToolWithDataset]);\n",
        "\n",
        "const searchRetrievalModelResult = await searchRetrievalModelWithDataset.invoke(\n",
        "  \"What is the score of Argentina vs Bolivia football game?\"\n",
        ");\n",
        "\n",
        "console.log(searchRetrievalModelResult.content);"
      ]
    },
    {
      "cell_type": "markdown",
      "id": "8d11f2be",
      "metadata": {},
      "source": [
        "你现在应该得到基于你提供的数据存储中的数据的结果。"
      ]
    },
    {
      "cell_type": "markdown",
      "id": "57c8d02e",
      "metadata": {},
      "source": [
        "## 上下文缓存\n",
        "\n",
        "Vertex AI 提供上下文缓存功能，该功能通过在多个 API 请求中存储和重用长段消息内容来帮助优化成本。当你有较长的对话历史或频繁出现在交互中的消息片段时，此功能特别有用。\n",
        "\n",
        "要使用此功能，请首先按照[此官方指南](https://cloud.google.com/vertex-ai/generative-ai/docs/context-cache/context-cache-create)创建一个上下文缓存。\n",
        "\n",
        "创建缓存后，你可以按如下方式将缓存的 ID 作为运行时参数传入："
      ]
    },
    {
      "cell_type": "code",
      "execution_count": null,
      "id": "f1b38971",
      "metadata": {},
      "outputs": [],
      "source": [
        "import { ChatVertexAI } from \"@langchain/google-vertexai\";\n",
        "\n",
        "const modelWithCachedContent = new ChatVertexAI({\n",
        "  model: \"gemini-1.5-pro-002\",\n",
        "  location: \"us-east5\",\n",
        "});\n",
        "\n",
        "await modelWithCachedContent.invoke(\"What is in the content?\", {\n",
        "  cachedContent:\n",
        "    \"projects/PROJECT_NUMBER/locations/LOCATION/cachedContents/CACHE_ID\",\n",
        "});"
      ]
    },
    {
      "cell_type": "markdown",
      "id": "03411eab",
      "metadata": {},
      "source": [
        "你也可以将此字段直接绑定到模型实例上："
      ]
    },
    {
      "cell_type": "code",
      "execution_count": 5,
      "id": "0418df59",
      "metadata": {},
      "outputs": [],
      "source": [
        "const modelWithBoundCachedContent = new ChatVertexAI({\n",
        "  model: \"gemini-1.5-pro-002\",\n",
        "  location: \"us-east5\",\n",
        "}).bind({\n",
        "  cachedContent:\n",
        "    \"projects/PROJECT_NUMBER/locations/LOCATION/cachedContents/CACHE_ID\",\n",
        "});\n"
      ]
    },
    {
      "cell_type": "markdown",
      "id": "e0af48c5",
      "metadata": {},
      "source": [
        "请注意，并非所有模型当前都支持上下文缓存。"
      ]
    },
    {
      "cell_type": "markdown",
      "id": "18e2bfc0-7e78-4528-a73f-499ac150dca8",
      "metadata": {},
      "source": [
        "## 链式调用\n",
        "\n",
        "我们可以像这样将模型与提示模板进行[链式调用](/docs/how_to/sequence/)："
      ]
    },
    {
      "cell_type": "code",
      "execution_count": 4,
      "id": "e197d1d7-a070-4c96-9f8a-a0e86d046e0b",
      "metadata": {},
      "outputs": [
        {
          "name": "stdout",
          "output_type": "stream",
          "text": [
            "AIMessageChunk {\n",
            "  \"content\": \"Ich liebe das Programmieren. \\n\",\n",
            "  \"additional_kwargs\": {},\n",
            "  \"response_metadata\": {},\n",
            "  \"tool_calls\": [],\n",
            "  \"tool_call_chunks\": [],\n",
            "  \"invalid_tool_calls\": [],\n",
            "  \"usage_metadata\": {\n",
            "    \"input_tokens\": 15,\n",
            "    \"output_tokens\": 9,\n",
            "    \"total_tokens\": 24\n",
            "  }\n",
            "}\n"
          ]
        }
      ],
      "source": [
        "import { ChatPromptTemplate } from \"@langchain/core/prompts\"\n",
        "\n",
        "const prompt = ChatPromptTemplate.fromMessages(\n",
        "    [\n",
        "        [\n",
        "            \"system\",\n",
        "            \"You are a helpful assistant that translates {input_language} to {output_language}.\",\n",
        "        ],\n",
        "        [\"human\", \"{input}\"],\n",
        "    ]\n",
        ")\n",
        "\n",
        "const chain = prompt.pipe(llm);\n",
        "await chain.invoke(\n",
        "  {\n",
        "    input_language: \"English\",\n",
        "    output_language: \"German\",\n",
        "    input: \"I love programming.\",\n",
        "  }\n",
        ");"
      ]
    },
    {
      "cell_type": "markdown",
      "id": "3a5bb5ca-c3ae-4a58-be67-2cd18574b9a3",
      "metadata": {},
      "source": [
        "## API 参考文档\n",
        "\n",
        "有关 ChatVertexAI 所有功能和配置的详细文档，请访问 API 参考页面: https://api.js.langchain.com/classes/langchain_google_vertexai.ChatVertexAI.html"
      ]
    }
  ],
  "metadata": {
    "kernelspec": {
      "display_name": "TypeScript",
      "language": "typescript",
      "name": "tslab"
    },
    "language_info": {
      "codemirror_mode": {
        "mode": "typescript",
        "name": "javascript",
        "typescript": true
      },
      "file_extension": ".ts",
      "mimetype": "text/typescript",
      "name": "typescript",
      "version": "3.7.2"
    }
  },
  "nbformat": 4,
  "nbformat_minor": 5
}