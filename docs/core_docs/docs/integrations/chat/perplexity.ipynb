{
  "cells": [
    {
      "cell_type": "raw",
      "id": "afaf8039",
      "metadata": {
        "vscode": {
          "languageId": "raw"
        }
      },
      "source": [
        "---\n",
        "sidebar_label: Perplexity\n",
        "---"
      ]
    },
    {
      "cell_type": "markdown",
      "id": "e49f1e0d",
      "metadata": {},
      "source": [
        "# ChatPerplexity\n",
        "\n",
        "本指南将帮助你开始使用 Perplexity [聊天模型](/docs/concepts/#chat-models)。如需了解 `ChatPerplexity` 所有功能和配置的详细文档，请访问 [API 参考文档](https://api.js.langchain.com/classes/_langchain_community.chat_models_perplexity.ChatPerplexity.html)。\n",
        "\n",
        "## 概览\n",
        "### 集成详情\n",
        "\n",
        "| 类别 | 包 | 本地支持 | 可序列化 | [Python 支持](https://python.langchain.com/docs/integrations/chat/perplexity/) | 包下载量 | 最新版本 |\n",
        "| :--- | :--- | :---: | :---: |  :---: | :---: | :---: |\n",
        "| [`ChatPerplexity`](https://api.js.langchain.com/classes/_langchain_community.chat_models_perplexity.ChatPerplexity.html) | [`@langchain/community`](https://npmjs.com/@langchain/community) | ❌ | beta | ✅ | ![NPM - 下载量](https://img.shields.io/npm/dm/@langchain/community?style=flat-square&label=%20&) | ![NPM - 版本](https://img.shields.io/npm/v/@langchain/community?style=flat-square&label=%20&) |\n",
        "\n",
        "### 模型特性\n",
        "\n",
        "有关如何使用特定特性的指南，请参见下表标题中的链接。\n",
        "\n",
        "| [工具调用](/docs/how_to/tool_calling) | [结构化输出](/docs/how_to/structured_output/) | JSON 模式 | [图像输入](/docs/how_to/multimodal_inputs/) | 音频输入 | 视频输入 | [逐 token 流式传输](/docs/how_to/chat_streaming/) | [token 使用量](/docs/how_to/chat_token_usage_tracking/) | [对数概率](/docs/how_to/logprobs/) |\n",
        "| :---: | :---: | :---: | :---: |  :---: | :---: | :---: | :---: | :---: |\n",
        "| ❌ | ✅ | ❌ | ❌ | ❌ | ❌ | ✅ | ✅ | ❌ | \n",
        "\n",
        "请注意，在撰写本文时，Perplexity 仅在某些使用层级上支持结构化输出。\n",
        "\n",
        "## 准备工作\n",
        "\n",
        "要访问 Perplexity 模型，你需要创建一个 Perplexity 账户，获取 API 密钥，并安装 `@langchain/community` 集成包。\n",
        "\n",
        "### 凭据\n",
        "\n",
        "前往 https://perplexity.ai 注册 Perplexity 并生成一个 API 密钥。完成此操作后，请设置 `PERPLEXITY_API_KEY` 环境变量：\n",
        "\n",
        "```bash\n",
        "export PERPLEXITY_API_KEY=\"your-api-key\"\n",
        "```\n",
        "\n",
        "如果你想自动追踪模型调用，也可以通过取消注释以下内容来设置你的 [LangSmith](https://docs.smith.langchain.com/) API 密钥：\n",
        "\n",
        "```bash\n",
        "# export LANGSMITH_TRACING=\"true\"\n",
        "# export LANGSMITH_API_KEY=\"your-api-key\"\n",
        "```\n",
        "\n",
        "### 安装\n",
        "\n",
        "LangChain Perplexity 的集成位于 `@langchain/community` 包中：\n",
        "\n",
        "```{=mdx}\n",
        "import IntegrationInstallTooltip from \"@mdx_components/integration_install_tooltip.mdx\";\n",
        "import Npm2Yarn from \"@theme/Npm2Yarn\";\n",
        "\n",
        "<IntegrationInstallTooltip></IntegrationInstallTooltip>\n",
        "\n",
        "<Npm2Yarn>\n",
        "  @langchain/community @langchain/core\n",
        "</Npm2Yarn>\n",
        "\n",
        "```"
      ]
    },
    {
      "cell_type": "markdown",
      "id": "a38cde65-254d-4219-a441-068766c0d4b5",
      "metadata": {},
      "source": [
        "## 实例化\n",
        "\n",
        "现在我们可以实例化我们的模型对象并生成聊天补全："
      ]
    },
    {
      "cell_type": "code",
      "execution_count": 1,
      "id": "cb09c344-1836-4e0c-acf8-11d13ac1dbae",
      "metadata": {},
      "outputs": [],
      "source": [
        "import { ChatPerplexity } from \"@langchain/community/chat_models/perplexity\"\n",
        "\n",
        "const llm = new ChatPerplexity({\n",
        "  model: \"sonar\",\n",
        "  temperature: 0,\n",
        "  maxTokens: undefined,\n",
        "  timeout: undefined,\n",
        "  maxRetries: 2,\n",
        "  // other params...\n",
        "})"
      ]
    },
    {
      "cell_type": "markdown",
      "id": "2b4f3e15",
      "metadata": {},
      "source": [
        "## 调用"
      ]
    },
    {
      "cell_type": "code",
      "execution_count": 2,
      "id": "62e0dbc3",
      "metadata": {
        "tags": []
      },
      "outputs": [
        {
          "name": "stdout",
          "output_type": "stream",
          "text": [
            "AIMessage {\n",
            "  \"id\": \"run-71853938-aa30-4861-9019-f12323c09f9a\",\n",
            "  \"content\": \"J'adore la programmation.\",\n",
            "  \"additional_kwargs\": {\n",
            "    \"citations\": [\n",
            "      \"https://careersatagoda.com/blog/why-we-love-programming/\",\n",
            "      \"https://henrikwarne.com/2012/06/02/why-i-love-coding/\",\n",
            "      \"https://forum.freecodecamp.org/t/i-love-programming-but/497502\",\n",
            "      \"https://ilovecoding.org\",\n",
            "      \"https://thecodinglove.com\"\n",
            "    ]\n",
            "  },\n",
            "  \"response_metadata\": {\n",
            "    \"tokenUsage\": {\n",
            "      \"promptTokens\": 20,\n",
            "      \"completionTokens\": 9,\n",
            "      \"totalTokens\": 29\n",
            "    }\n",
            "  },\n",
            "  \"tool_calls\": [],\n",
            "  \"invalid_tool_calls\": []\n",
            "}\n"
          ]
        }
      ],
      "source": [
        "const aiMsg = await llm.invoke([\n",
        "  {\n",
        "    role: \"system\",\n",
        "    content: \"You are a helpful assistant that translates English to French. Translate the user sentence.\",\n",
        "  },\n",
        "  {\n",
        "    role: \"user\",\n",
        "    content: \"I love programming.\",\n",
        "  },\n",
        "])\n",
        "aiMsg"
      ]
    },
    {
      "cell_type": "code",
      "execution_count": 3,
      "id": "d86145b3-bfef-46e8-b227-4dda5c9c2705",
      "metadata": {},
      "outputs": [
        {
          "name": "stdout",
          "output_type": "stream",
          "text": [
            "J'adore la programmation.\n"
          ]
        }
      ],
      "source": [
        "console.log(aiMsg.content)"
      ]
    },
    {
      "cell_type": "markdown",
      "id": "18e2bfc0-7e78-4528-a73f-499ac150dca8",
      "metadata": {},
      "source": [
        "## 链式调用\n",
        "\n",
        "我们可以像这样将模型与提示模板[链式调用](/docs/how_to/sequence/)："
      ]
    },
    {
      "cell_type": "code",
      "execution_count": 4,
      "id": "e197d1d7-a070-4c96-9f8a-a0e86d046e0b",
      "metadata": {},
      "outputs": [
        {
          "name": "stdout",
          "output_type": "stream",
          "text": [
            "AIMessage {\n",
            "  \"id\": \"run-a44dc452-4a71-423d-a4ee-50a2d7c90abd\",\n",
            "  \"content\": \"**English to German Translation:**\\n\\n\\\"I love programming\\\" translates to **\\\"Ich liebe das Programmieren.\\\"**\\n\\nIf you'd like to express your passion for programming in more detail, here are some additional translations:\\n\\n- **\\\"Programming is incredibly rewarding and fulfilling.\\\"** translates to **\\\"Das Programmieren ist unglaublich lohnend und erfüllend.\\\"**\\n- **\\\"I enjoy solving problems through coding.\\\"** translates to **\\\"Ich genieße es, Probleme durch Codieren zu lösen.\\\"**\\n- **\\\"I find the process of creating something from nothing very satisfying.\\\"** translates to **\\\"Ich finde den Prozess, etwas aus dem Nichts zu schaffen, sehr befriedigend.\\\"**\",\n",
            "  \"additional_kwargs\": {\n",
            "    \"citations\": [\n",
            "      \"https://careersatagoda.com/blog/why-we-love-programming/\",\n",
            "      \"https://henrikwarne.com/2012/06/02/why-i-love-coding/\",\n",
            "      \"https://dev.to/dvddpl/coding-is-boring-why-do-you-love-coding-cl0\",\n",
            "      \"https://forum.freecodecamp.org/t/i-love-programming-but/497502\",\n",
            "      \"https://ilovecoding.org\"\n",
            "    ]\n",
            "  },\n",
            "  \"response_metadata\": {\n",
            "    \"tokenUsage\": {\n",
            "      \"promptTokens\": 15,\n",
            "      \"completionTokens\": 149,\n",
            "      \"totalTokens\": 164\n",
            "    }\n",
            "  },\n",
            "  \"tool_calls\": [],\n",
            "  \"invalid_tool_calls\": []\n",
            "}\n"
          ]
        }
      ],
      "source": [
        "import { ChatPromptTemplate } from \"@langchain/core/prompts\"\n",
        "\n",
        "const prompt = ChatPromptTemplate.fromMessages(\n",
        "  [\n",
        "    [\n",
        "      \"system\",\n",
        "      \"You are a helpful assistant that translates {input_language} to {output_language}.\",\n",
        "    ],\n",
        "    [\"human\", \"{input}\"],\n",
        "  ]\n",
        ")\n",
        "\n",
        "const chain = prompt.pipe(llm);\n",
        "await chain.invoke(\n",
        "  {\n",
        "    input_language: \"English\",\n",
        "    output_language: \"German\",\n",
        "    input: \"I love programming.\",\n",
        "  }\n",
        ")"
      ]
    },
    {
      "cell_type": "markdown",
      "id": "3a5bb5ca-c3ae-4a58-be67-2cd18574b9a3",
      "metadata": {},
      "source": [
        "## API 参考文档\n",
        "\n",
        "如需了解 ChatPerplexity 所有功能和配置的详细文档，请访问 API 参考页面: https://api.js.langchain.com/classes/_langchain_community.chat_models_perplexity.ChatPerplexity.html"
      ]
    }
  ],
  "metadata": {
    "kernelspec": {
      "display_name": "TypeScript",
      "language": "typescript",
      "name": "tslab"
    },
    "language_info": {
      "codemirror_mode": {
        "mode": "typescript",
        "name": "javascript",
        "typescript": true
      },
      "file_extension": ".ts",
      "mimetype": "text/typescript",
      "name": "typescript",
      "version": "3.7.2"
    }
  },
  "nbformat": 4,
  "nbformat_minor": 5
}