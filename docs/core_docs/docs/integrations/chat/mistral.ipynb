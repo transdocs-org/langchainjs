{
  "cells": [
    {
      "cell_type": "raw",
      "id": "afaf8039",
      "metadata": {
        "vscode": {
          "languageId": "raw"
        }
      },
      "source": [
        "---\n",
        "sidebar_label: MistralAI\n",
        "---"
      ]
    },
    {
      "cell_type": "markdown",
      "id": "e49f1e0d",
      "metadata": {},
      "source": [
        "# ChatMistralAI\n",
        "\n",
        "[Mistral AI](https://mistral.ai/) 是一个为其强大的[开源模型](https://docs.mistral.ai/getting-started/models/)提供托管的平台。\n",
        "\n",
        "这将帮助你开始使用 ChatMistralAI 的[聊天模型](/docs/concepts/chat_models)。有关所有 ChatMistralAI 功能和配置的详细文档，请参阅[API 参考](https://api.js.langchain.com/classes/langchain_mistralai.ChatMistralAI.html)。\n",
        "\n",
        "## 概述\n",
        "### 集成详情\n",
        "\n",
        "| 类 | 包 | 本地 | 可序列化 | [Python 支持](https://python.langchain.com/docs/integrations/chat/mistralai) | 包下载量 | 最新包 |\n",
        "| :--- | :--- | :---: | :---: |  :---: | :---: | :---: |\n",
        "| [ChatMistralAI](https://api.js.langchain.com/classes/langchain_mistralai.ChatMistralAI.html) | [`@langchain/mistralai`](https://www.npmjs.com/package/@langchain/mistralai) | ❌ | ❌ | ✅ | ![NPM - 下载量](https://img.shields.io/npm/dm/@langchain/mistralai?style=flat-square&label=%20&) | ![NPM - 版本](https://img.shields.io/npm/v/@langchain/mistralai?style=flat-square&label=%20&) |\n",
        "\n",
        "### 模型特性\n",
        "\n",
        "请参阅下表标题中的链接，了解如何使用特定功能的指南。\n",
        "\n",
        "| [工具调用](/docs/how_to/tool_calling) | [结构化输出](/docs/how_to/structured_output/) | JSON 模式 | [图像输入](/docs/how_to/multimodal_inputs/) | 音频输入 | 视频输入 | [逐 token 流式传输](/docs/how_to/chat_streaming/) | [token 使用情况](/docs/how_to/chat_token_usage_tracking/) | [logprobs](/docs/how_to/logprobs/) |\n",
        "| :---: | :---: | :---: | :---: |  :---: | :---: | :---: | :---: | :---: |\n",
        "| ✅ | ✅ | ✅ | ✅ | ❌ | ❌ | ✅ | ✅ | ❌ | \n",
        "\n",
        "## 准备\n",
        "\n",
        "要访问 Mistral AI 模型，你需要创建一个 Mistral AI 账户，获取 API 密钥，并安装 `@langchain/mistralai` 集成包。\n",
        "\n",
        "### 凭证\n",
        "\n",
        "点击[此处](https://console.mistral.ai/)注册 Mistral AI 并生成一个 API 密钥。完成此操作后，请设置 `MISTRAL_API_KEY` 环境变量：\n",
        "\n",
        "```bash\n",
        "export MISTRAL_API_KEY=\"your-api-key\"\n",
        "```\n",
        "\n",
        "如果你想对模型调用进行自动追踪，也可以取消注释以下 [LangSmith](https://docs.smith.langchain.com/) API 密钥的设置：\n",
        "\n",
        "```bash\n",
        "# export LANGSMITH_TRACING=\"true\"\n",
        "# export LANGSMITH_API_KEY=\"your-api-key\"\n",
        "```\n",
        "\n",
        "### 安装\n",
        "\n",
        "LangChain ChatMistralAI 集成位于 `@langchain/mistralai` 包中：\n",
        "\n",
        "```{=mdx}\n",
        "import IntegrationInstallTooltip from \"@mdx_components/integration_install_tooltip.mdx\";\n",
        "import Npm2Yarn from \"@theme/Npm2Yarn\";\n",
        "\n",
        "<IntegrationInstallTooltip></IntegrationInstallTooltip>\n",
        "\n",
        "<Npm2Yarn>\n",
        "@langchain/mistralai @langchain/core\n",
        "</Npm2Yarn>\n",
        "\n",
        "```"
      ]
    },
    {
      "cell_type": "markdown",
      "id": "a38cde65-254d-4219-a441-068766c0d4b5",
      "metadata": {},
      "source": [
        "## 实例化\n",
        "\n",
        "现在我们可以实例化我们的模型对象并生成聊天补全结果："
      ]
    },
    {
      "cell_type": "code",
      "execution_count": null,
      "id": "cb09c344-1836-4e0c-acf8-11d13ac1dbae",
      "metadata": {},
      "outputs": [],
      "source": [
        "import { ChatMistralAI } from \"@langchain/mistralai\" \n",
        "\n",
        "const llm = new ChatMistralAI({\n",
        "    model: \"mistral-large-latest\",\n",
        "    temperature: 0,\n",
        "    maxRetries: 2,\n",
        "    // other params...\n",
        "})"
      ]
    },
    {
      "cell_type": "markdown",
      "id": "2b4f3e15",
      "metadata": {},
      "source": [
        "## 调用\n",
        "\n",
        "向 Mistral 发送聊天消息时，需遵循以下要求：\n",
        "\n",
        "- 第一条消息 _*不能*_ 是助手（AI）消息。\n",
        "- 消息 _*必须*_ 在用户和助手（AI）之间交替发送。\n",
        "- 消息 _*不能*_ 以助手（AI）或系统消息结尾。"
      ]
    },
    {
      "cell_type": "code",
      "execution_count": 2,
      "id": "62e0dbc3",
      "metadata": {
        "tags": []
      },
      "outputs": [
        {
          "name": "stdout",
          "output_type": "stream",
          "text": [
            "AIMessage {\n",
            "  \"content\": \"J'adore la programmation.\",\n",
            "  \"additional_kwargs\": {},\n",
            "  \"response_metadata\": {\n",
            "    \"tokenUsage\": {\n",
            "      \"completionTokens\": 9,\n",
            "      \"promptTokens\": 27,\n",
            "      \"totalTokens\": 36\n",
            "    },\n",
            "    \"finish_reason\": \"stop\"\n",
            "  },\n",
            "  \"tool_calls\": [],\n",
            "  \"invalid_tool_calls\": [],\n",
            "  \"usage_metadata\": {\n",
            "    \"input_tokens\": 27,\n",
            "    \"output_tokens\": 9,\n",
            "    \"total_tokens\": 36\n",
            "  }\n",
            "}\n"
          ]
        }
      ],
      "source": [
        "const aiMsg = await llm.invoke([\n",
        "    [\n",
        "        \"system\",\n",
        "        \"You are a helpful assistant that translates English to French. Translate the user sentence.\",\n",
        "    ],\n",
        "    [\"human\", \"I love programming.\"],\n",
        "])\n",
        "aiMsg"
      ]
    },
    {
      "cell_type": "code",
      "execution_count": 3,
      "id": "d86145b3-bfef-46e8-b227-4dda5c9c2705",
      "metadata": {},
      "outputs": [
        {
          "name": "stdout",
          "output_type": "stream",
          "text": [
            "J'adore la programmation.\n"
          ]
        }
      ],
      "source": [
        "console.log(aiMsg.content)"
      ]
    },
    {
      "cell_type": "markdown",
      "id": "18e2bfc0-7e78-4528-a73f-499ac150dca8",
      "metadata": {},
      "source": [
        "## 链式调用\n",
        "\n",
        "我们可以像这样将模型与提示模板[链式调用](/docs/how_to/sequence/)："
      ]
    },
    {
      "cell_type": "code",
      "execution_count": 4,
      "id": "e197d1d7-a070-4c96-9f8a-a0e86d046e0b",
      "metadata": {},
      "outputs": [
        {
          "name": "stdout",
          "output_type": "stream",
          "text": [
            "AIMessage {\n",
            "  \"content\": \"Ich liebe Programmieren.\",\n",
            "  \"additional_kwargs\": {},\n",
            "  \"response_metadata\": {\n",
            "    \"tokenUsage\": {\n",
            "      \"completionTokens\": 7,\n",
            "      \"promptTokens\": 21,\n",
            "      \"totalTokens\": 28\n",
            "    },\n",
            "    \"finish_reason\": \"stop\"\n",
            "  },\n",
            "  \"tool_calls\": [],\n",
            "  \"invalid_tool_calls\": [],\n",
            "  \"usage_metadata\": {\n",
            "    \"input_tokens\": 21,\n",
            "    \"output_tokens\": 7,\n",
            "    \"total_tokens\": 28\n",
            "  }\n",
            "}\n"
          ]
        }
      ],
      "source": [
        "import { ChatPromptTemplate } from \"@langchain/core/prompts\"\n",
        "\n",
        "const prompt = ChatPromptTemplate.fromMessages(\n",
        "    [\n",
        "        [\n",
        "            \"system\",\n",
        "            \"You are a helpful assistant that translates {input_language} to {output_language}.\",\n",
        "        ],\n",
        "        [\"human\", \"{input}\"],\n",
        "    ]\n",
        ")\n",
        "\n",
        "const chain = prompt.pipe(llm);\n",
        "await chain.invoke(\n",
        "    {\n",
        "        input_language: \"English\",\n",
        "        output_language: \"German\",\n",
        "        input: \"I love programming.\",\n",
        "    }\n",
        ")"
      ]
    },
    {
      "cell_type": "markdown",
      "id": "d1ee55bc-ffc8-4cfa-801c-993953a08cfd",
      "metadata": {},
      "source": [
        "## 工具调用\n",
        "\n",
        "Mistral的API为其部分模型支持[工具调用](/docs/concepts/tool_calling)功能。您可以通过[此页面](https://docs.mistral.ai/capabilities/function_calling/)查看哪些模型支持工具调用。\n",
        "\n",
        "以下示例演示了如何使用该功能："
      ]
    },
    {
      "cell_type": "code",
      "execution_count": 5,
      "id": "98d9034c",
      "metadata": {},
      "outputs": [
        {
          "name": "stdout",
          "output_type": "stream",
          "text": [
            "[\n",
            "  {\n",
            "    name: 'calculator',\n",
            "    args: { operation: 'add', number1: 2, number2: 2 },\n",
            "    type: 'tool_call',\n",
            "    id: 'DD9diCL1W'\n",
            "  }\n",
            "]\n"
          ]
        }
      ],
      "source": [
        "import { ChatMistralAI } from \"@langchain/mistralai\";\n",
        "import { ChatPromptTemplate } from \"@langchain/core/prompts\";\n",
        "import { z } from \"zod\";\n",
        "import { tool } from \"@langchain/core/tools\";\n",
        "\n",
        "const calculatorSchema = z.object({\n",
        "  operation: z\n",
        "    .enum([\"add\", \"subtract\", \"multiply\", \"divide\"])\n",
        "    .describe(\"The type of operation to execute.\"),\n",
        "  number1: z.number().describe(\"The first number to operate on.\"),\n",
        "  number2: z.number().describe(\"The second number to operate on.\"),\n",
        "});\n",
        "\n",
        "const calculatorTool = tool((input) => {\n",
        "  return JSON.stringify(input);\n",
        "}, {\n",
        "  name: \"calculator\",\n",
        "  description: \"A simple calculator tool\",\n",
        "  schema: calculatorSchema,\n",
        "});\n",
        "\n",
        "// Bind the tool to the model\n",
        "const modelWithTool = new ChatMistralAI({\n",
        "  model: \"mistral-large-latest\",\n",
        "}).bindTools([calculatorTool]);\n",
        "\n",
        "\n",
        "const calcToolPrompt = ChatPromptTemplate.fromMessages([\n",
        "  [\n",
        "    \"system\",\n",
        "    \"You are a helpful assistant who always needs to use a calculator.\",\n",
        "  ],\n",
        "  [\"human\", \"{input}\"],\n",
        "]);\n",
        "\n",
        "// Chain your prompt, model, and output parser together\n",
        "const chainWithCalcTool = calcToolPrompt.pipe(modelWithTool);\n",
        "\n",
        "const calcToolRes = await chainWithCalcTool.invoke({\n",
        "  input: \"What is 2 + 2?\",\n",
        "});\n",
        "console.log(calcToolRes.tool_calls);"
      ]
    },
    {
      "cell_type": "markdown",
      "id": "85dcbecc",
      "metadata": {},
      "source": [
        "## 钩子函数\n",
        "\n",
        "Mistral AI 支持三种事件的自定义钩子函数：beforeRequest（请求前）、requestError（请求错误）和 response（响应）。每种钩子函数类型的函数签名示例如下所示："
      ]
    },
    {
      "cell_type": "code",
      "execution_count": null,
      "id": "74b8b855",
      "metadata": {},
      "outputs": [],
      "source": [
        "const beforeRequestHook = (req: Request): Request | void | Promise<Request | void> => {\n",
        "    // Code to run before a request is processed by Mistral\n",
        "};\n",
        "\n",
        "const requestErrorHook = (err: unknown, req: Request): void | Promise<void> => {\n",
        "    // Code to run when an error occurs as Mistral is processing a request\n",
        "};\n",
        "\n",
        "const responseHook = (res: Response, req: Request): void | Promise<void> => {\n",
        "    // Code to run before Mistral sends a successful response\n",
        "};"
      ]
    },
    {
      "cell_type": "markdown",
      "id": "930df6c4",
      "metadata": {},
      "source": [
        "将这些钩子添加到聊天模型中，可以通过将它们作为参数传递来自动添加："
      ]
    },
    {
      "cell_type": "code",
      "execution_count": null,
      "id": "8b8084f6",
      "metadata": {},
      "outputs": [],
      "source": [
        "import { ChatMistralAI } from \"@langchain/mistralai\" \n",
        "\n",
        "const modelWithHooks = new ChatMistralAI({\n",
        "    model: \"mistral-large-latest\",\n",
        "    temperature: 0,\n",
        "    maxRetries: 2,\n",
        "    beforeRequestHooks: [ beforeRequestHook ],\n",
        "    requestErrorHooks: [ requestErrorHook ],\n",
        "    responseHooks: [ responseHook ],\n",
        "    // other params...\n",
        "});"
      ]
    },
    {
      "cell_type": "markdown",
      "id": "cc9478f3",
      "metadata": {},
      "source": [
        "或者在实例化后分配并手动添加它们："
      ]
    },
    {
      "cell_type": "code",
      "execution_count": null,
      "id": "daa70dc3",
      "metadata": {},
      "outputs": [],
      "source": [
        "import { ChatMistralAI } from \"@langchain/mistralai\" \n",
        "\n",
        "const model = new ChatMistralAI({\n",
        "    model: \"mistral-large-latest\",\n",
        "    temperature: 0,\n",
        "    maxRetries: 2,\n",
        "    // other params...\n",
        "});\n",
        "\n",
        "model.beforeRequestHooks = [ ...model.beforeRequestHooks, beforeRequestHook ];\n",
        "model.requestErrorHooks = [ ...model.requestErrorHooks, requestErrorHook ];\n",
        "model.responseHooks = [ ...model.responseHooks, responseHook ];\n",
        "\n",
        "model.addAllHooksToHttpClient();"
      ]
    },
    {
      "cell_type": "markdown",
      "id": "389f5159",
      "metadata": {},
      "source": [
        "方法 addAllHooksToHttpClient 在分配完整的更新后的钩子列表之前，会清除所有当前已添加的钩子，以避免钩子重复。\n",
        "\n",
        "可以逐个移除钩子，也可以一次性从模型中清除所有钩子。"
      ]
    },
    {
      "cell_type": "code",
      "execution_count": null,
      "id": "a56b64bb",
      "metadata": {},
      "outputs": [],
      "source": [
        "model.removeHookFromHttpClient(beforeRequestHook);\n",
        "\n",
        "model.removeAllHooksFromHttpClient();"
      ]
    },
    {
      "cell_type": "markdown",
      "id": "3a5bb5ca-c3ae-4a58-be67-2cd18574b9a3",
      "metadata": {},
      "source": [
        "## API 参考\n",
        "\n",
        "有关 ChatMistralAI 所有功能和配置的详细文档，请访问 API 参考：https://api.js.langchain.com/classes/langchain_mistralai.ChatMistralAI.html"
      ]
    }
  ],
  "metadata": {
    "kernelspec": {
      "display_name": "TypeScript",
      "language": "typescript",
      "name": "tslab"
    },
    "language_info": {
      "codemirror_mode": {
        "mode": "typescript",
        "name": "javascript",
        "typescript": true
      },
      "file_extension": ".ts",
      "mimetype": "text/typescript",
      "name": "typescript",
      "version": "3.7.2"
    }
  },
  "nbformat": 4,
  "nbformat_minor": 5
}