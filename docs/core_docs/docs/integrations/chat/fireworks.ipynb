{
  "cells": [
    {
      "cell_type": "raw",
      "id": "afaf8039",
      "metadata": {
        "vscode": {
          "languageId": "raw"
        }
      },
      "source": [
        "---\n",
        "sidebar_label: Fireworks\n",
        "---"
      ]
    },
    {
      "cell_type": "markdown",
      "id": "e49f1e0d",
      "metadata": {},
      "source": [
        "# ChatFireworks\n",
        "\n",
        "[Fireworks AI](https://fireworks.ai/) 是一个用于运行和定制模型的AI推理平台。有关Fireworks提供的所有模型列表，请参阅 [Fireworks文档](https://fireworks.ai/models)。\n",
        "\n",
        "本指南将帮助您开始使用 `ChatFireworks` [聊天模型](/docs/concepts/chat_models)。有关所有 `ChatFireworks` 功能和配置的详细文档，请访问 [API参考文档](https://api.js.langchain.com/classes/langchain_community_chat_models_fireworks.ChatFireworks.html)。\n",
        "\n",
        "## 概览\n",
        "### 集成详情\n",
        "\n",
        "| 类别 | 包 | 本地支持 | 可序列化 | [Python支持](https://python.langchain.com/docs/integrations/chat/fireworks) | 包下载量 | 包最新版本 |\n",
        "| :--- | :--- | :---: | :---: |  :---: | :---: | :---: |\n",
        "| [ChatFireworks](https://api.js.langchain.com/classes/langchain_community_chat_models_fireworks.ChatFireworks.html) | [`@langchain/community`](https://www.npmjs.com/package/@langchain/community) | ❌ | ✅ | ✅ | ![NPM - 下载量](https://img.shields.io/npm/dm/@langchain/community?style=flat-square&label=%20&) | ![NPM - 版本](https://img.shields.io/npm/v/@langchain/community?style=flat-square&label=%20&) |\n",
        "\n",
        "### 模型功能\n",
        "\n",
        "请参阅下表标题中的链接，了解如何使用特定功能。\n",
        "\n",
        "| [工具调用](/docs/how_to/tool_calling) | [结构化输出](/docs/how_to/structured_output/) | JSON模式 | [图像输入](/docs/how_to/multimodal_inputs/) | 音频输入 | 视频输入 | [逐令牌流式传输](/docs/how_to/chat_streaming/) | [令牌使用情况](/docs/how_to/chat_token_usage_tracking/) | [对数概率](/docs/how_to/logprobs/) |\n",
        "| :---: | :---: | :---: | :---: |  :---: | :---: | :---: | :---: | :---: |\n",
        "| ✅ | ✅ | ✅ | ❌ | ❌ | ❌ | ✅ | ✅ | ✅ | \n",
        "\n",
        "## 准备工作\n",
        "\n",
        "要访问 `ChatFireworks` 模型，您需要创建一个Fireworks账户，获取API密钥，并安装 `@langchain/community` 集成包。\n",
        "\n",
        "### 凭证信息\n",
        "\n",
        "前往 [Fireworks官网](https://fireworks.ai/login) 注册Fireworks账户并生成API密钥。完成之后，请设置 `FIREWORKS_API_KEY` 环境变量：\n",
        "\n",
        "```bash\n",
        "export FIREWORKS_API_KEY=\"your-api-key\"\n",
        "```\n",
        "\n",
        "如果您希望对模型调用进行自动追踪，也可以取消以下代码的注释，设置您的 [LangSmith](https://docs.smith.langchain.com/) API密钥：\n",
        "\n",
        "```bash\n",
        "# export LANGSMITH_TRACING=\"true\"\n",
        "# export LANGSMITH_API_KEY=\"your-api-key\"\n",
        "```\n",
        "\n",
        "### 安装步骤\n",
        "\n",
        "LangChain 的 `ChatFireworks` 集成位于 `@langchain/community` 包中：\n",
        "\n",
        "```{=mdx}\n",
        "\n",
        "import IntegrationInstallTooltip from \"@mdx_components/integration_install_tooltip.mdx\";\n",
        "import Npm2Yarn from \"@theme/Npm2Yarn\";\n",
        "\n",
        "<IntegrationInstallTooltip></IntegrationInstallTooltip>\n",
        "\n",
        "<Npm2Yarn>\n",
        "  @langchain/community @langchain/core\n",
        "</Npm2Yarn>\n",
        "\n",
        "```"
      ]
    },
    {
      "cell_type": "markdown",
      "id": "a38cde65-254d-4219-a441-068766c0d4b5",
      "metadata": {},
      "source": [
        "## 实例化\n",
        "\n",
        "现在我们可以实例化我们的模型对象并生成聊天补全结果："
      ]
    },
    {
      "cell_type": "code",
      "execution_count": 1,
      "id": "cb09c344-1836-4e0c-acf8-11d13ac1dbae",
      "metadata": {},
      "outputs": [],
      "source": [
        "import { ChatFireworks } from \"@langchain/community/chat_models/fireworks\" \n",
        "\n",
        "const llm = new ChatFireworks({\n",
        "    model: \"accounts/fireworks/models/llama-v3p1-70b-instruct\",\n",
        "    temperature: 0,\n",
        "    maxTokens: undefined,\n",
        "    timeout: undefined,\n",
        "    maxRetries: 2,\n",
        "    // other params...\n",
        "})"
      ]
    },
    {
      "cell_type": "markdown",
      "id": "2b4f3e15",
      "metadata": {},
      "source": [
        "## 调用"
      ]
    },
    {
      "cell_type": "code",
      "execution_count": 2,
      "id": "62e0dbc3",
      "metadata": {
        "tags": []
      },
      "outputs": [
        {
          "name": "stdout",
          "output_type": "stream",
          "text": [
            "AIMessage {\n",
            "  \"id\": \"chatcmpl-9rBYHbb6QYRrKyr2tMhO9pH4AYXR4\",\n",
            "  \"content\": \"J'adore la programmation.\",\n",
            "  \"additional_kwargs\": {},\n",
            "  \"response_metadata\": {\n",
            "    \"tokenUsage\": {\n",
            "      \"completionTokens\": 8,\n",
            "      \"promptTokens\": 31,\n",
            "      \"totalTokens\": 39\n",
            "    },\n",
            "    \"finish_reason\": \"stop\"\n",
            "  },\n",
            "  \"tool_calls\": [],\n",
            "  \"invalid_tool_calls\": [],\n",
            "  \"usage_metadata\": {\n",
            "    \"input_tokens\": 31,\n",
            "    \"output_tokens\": 8,\n",
            "    \"total_tokens\": 39\n",
            "  }\n",
            "}\n"
          ]
        }
      ],
      "source": [
        "const aiMsg = await llm.invoke([\n",
        "    [\n",
        "        \"system\",\n",
        "        \"You are a helpful assistant that translates English to French. Translate the user sentence.\",\n",
        "    ],\n",
        "    [\"human\", \"I love programming.\"],\n",
        "])\n",
        "aiMsg"
      ]
    },
    {
      "cell_type": "code",
      "execution_count": 3,
      "id": "d86145b3-bfef-46e8-b227-4dda5c9c2705",
      "metadata": {},
      "outputs": [
        {
          "name": "stdout",
          "output_type": "stream",
          "text": [
            "J'adore la programmation.\n"
          ]
        }
      ],
      "source": [
        "console.log(aiMsg.content)"
      ]
    },
    {
      "cell_type": "markdown",
      "id": "18e2bfc0-7e78-4528-a73f-499ac150dca8",
      "metadata": {},
      "source": [
        "## 链式调用\n",
        "\n",
        "我们可以像这样将模型与提示模板[链式调用](/docs/how_to/sequence/)："
      ]
    },
    {
      "cell_type": "code",
      "execution_count": 4,
      "id": "e197d1d7-a070-4c96-9f8a-a0e86d046e0b",
      "metadata": {},
      "outputs": [
        {
          "name": "stdout",
          "output_type": "stream",
          "text": [
            "AIMessage {\n",
            "  \"id\": \"chatcmpl-9rBYM3KSIhHOuTXpBvA5oFyk8RSaN\",\n",
            "  \"content\": \"Ich liebe das Programmieren.\",\n",
            "  \"additional_kwargs\": {},\n",
            "  \"response_metadata\": {\n",
            "    \"tokenUsage\": {\n",
            "      \"completionTokens\": 6,\n",
            "      \"promptTokens\": 26,\n",
            "      \"totalTokens\": 32\n",
            "    },\n",
            "    \"finish_reason\": \"stop\"\n",
            "  },\n",
            "  \"tool_calls\": [],\n",
            "  \"invalid_tool_calls\": [],\n",
            "  \"usage_metadata\": {\n",
            "    \"input_tokens\": 26,\n",
            "    \"output_tokens\": 6,\n",
            "    \"total_tokens\": 32\n",
            "  }\n",
            "}\n"
          ]
        }
      ],
      "source": [
        "import { ChatPromptTemplate } from \"@langchain/core/prompts\"\n",
        "\n",
        "const prompt = ChatPromptTemplate.fromMessages(\n",
        "    [\n",
        "        [\n",
        "            \"system\",\n",
        "            \"You are a helpful assistant that translates {input_language} to {output_language}.\",\n",
        "        ],\n",
        "        [\"human\", \"{input}\"],\n",
        "    ]\n",
        ")\n",
        "\n",
        "const chain = prompt.pipe(llm);\n",
        "await chain.invoke(\n",
        "    {\n",
        "        input_language: \"English\",\n",
        "        output_language: \"German\",\n",
        "        input: \"I love programming.\",\n",
        "    }\n",
        ")"
      ]
    },
    {
      "cell_type": "markdown",
      "id": "d1ee55bc-ffc8-4cfa-801c-993953a08cfd",
      "metadata": {},
      "source": [
        "在后台，Fireworks AI 使用 OpenAI SDK 和与 OpenAI 兼容的 API，但有一些注意事项：\n",
        "\n",
        "- Fireworks API 不支持某些属性，请参见 [此处](https://readme.fireworks.ai/docs/openai-compatibility#api-compatibility)。\n",
        "- 不支持使用多个提示进行生成。"
      ]
    },
    {
      "cell_type": "markdown",
      "id": "3a5bb5ca-c3ae-4a58-be67-2cd18574b9a3",
      "metadata": {},
      "source": [
        "## API 参考文档\n",
        "\n",
        "如需详细了解 ChatFireworks 的所有功能和配置，请访问 API 参考文档：https://api.js.langchain.com/classes/langchain_community_chat_models_fireworks.ChatFireworks.html"
      ]
    }
  ],
  "metadata": {
    "kernelspec": {
      "display_name": "TypeScript",
      "language": "typescript",
      "name": "tslab"
    },
    "language_info": {
      "codemirror_mode": {
        "mode": "typescript",
        "name": "javascript",
        "typescript": true
      },
      "file_extension": ".ts",
      "mimetype": "text/typescript",
      "name": "typescript",
      "version": "3.7.2"
    }
  },
  "nbformat": 4,
  "nbformat_minor": 5
}