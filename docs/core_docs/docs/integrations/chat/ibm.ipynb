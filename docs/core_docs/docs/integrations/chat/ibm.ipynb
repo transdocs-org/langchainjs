{
  "cells": [
    {
      "cell_type": "raw",
      "id": "afaf8039",
      "metadata": {
        "vscode": {
          "languageId": "raw"
        }
      },
      "source": [
        "---\n",
        "sidebar_label: IBM watsonx.ai\n",
        "---"
      ]
    },
    {
      "cell_type": "markdown",
      "id": "e49f1e0d",
      "metadata": {},
      "source": [
        "# IBM watsonx.ai\n",
        "\n",
        "这将帮助您开始使用 IBM watsonx.ai [聊天模型](/docs/concepts/chat_models)。有关所有 `IBM watsonx.ai` 功能和配置的详细文档，请前往 [IBM watsonx.ai](https://api.js.langchain.com/modules/_langchain_community.chat_models_ibm.html)。\n",
        "\n",
        "## 概览\n",
        "### 集成详情\n",
        "\n",
        "| 类 | 包 | 本地 | 可序列化 | [PY 支持](https://python.langchain.com/docs/integrations/chat/ibm_watsonx/) | 包下载量 | 最新包 |\n",
        "| :--- | :--- | :---: | :---: |  :---: | :---: | :---: |\n",
        "| [`ChatWatsonx`](https://api.js.langchain.com/classes/_langchain_community.chat_models_ibm.ChatWatsonx.html) | [@langchain/community](https://www.npmjs.com/package/@langchain/community) | ❌ | ✅ | ✅ | ![NPM - 下载量](https://img.shields.io/npm/dm/@langchain/community?style=flat-square&label=%20&) | ![NPM - 版本](https://img.shields.io/npm/v/@langchain/community?style=flat-square&label=%20&) |\n",
        "\n",
        "### 模型功能\n",
        "\n",
        "\n",
        "| [工具调用](/docs/how_to/tool_calling) | [结构化输出](/docs/how_to/structured_output/) | JSON 模式 | [图像输入](/docs/how_to/multimodal_inputs/) | 音频输入 | 视频输入 | [逐令牌流](/docs/how_to/chat_streaming/) | [令牌使用情况](/docs/how_to/chat_token_usage_tracking/) | [Logprobs](/docs/how_to/logprobs/) |\n",
        "| :---: | :---: | :---: | :---: |  :---: | :---: | :---: | :---: | :---: |\n",
        "| ✅ | ✅ | ✅  | ✅ | ❌ | ❌ | ✅ | ✅ | ❌ | \n",
        "\n",
        "## 准备工作\n",
        "\n",
        "要访问 IBM watsonx.ai 模型，您需要创建一个 IBM watsonx.ai 账户，获取 API 密钥，并安装 `@langchain/community` 集成包。\n",
        "\n",
        "### 凭据\n",
        "\n",
        "\n",
        "前往 [IBM Cloud](https://cloud.ibm.com/login) 注册 IBM watsonx.ai 并生成 API 密钥，或提供以下列出的任何其他认证方式。\n",
        "\n",
        "#### IAM 认证\n",
        "\n",
        "```bash\n",
        "export WATSONX_AI_AUTH_TYPE=iam\n",
        "export WATSONX_AI_APIKEY=<YOUR-APIKEY>\n",
        "```\n",
        "\n",
        "#### Bearer 令牌认证\n",
        "\n",
        "```bash\n",
        "export WATSONX_AI_AUTH_TYPE=bearertoken\n",
        "export WATSONX_AI_BEARER_TOKEN=<YOUR-BEARER-TOKEN>\n",
        "```\n",
        "\n",
        "#### IBM watsonx.ai 软件认证\n",
        "\n",
        "```bash\n",
        "export WATSONX_AI_AUTH_TYPE=cp4d\n",
        "export WATSONX_AI_USERNAME=<YOUR_USERNAME>\n",
        "export WATSONX_AI_PASSWORD=<YOUR_PASSWORD>\n",
        "export WATSONX_AI_URL=<URL>\n",
        "```\n",
        "\n",
        "一旦这些变量放置在您的环境变量中并且对象初始化完成，认证将自动进行。\n",
        "\n",
        "也可以通过将这些值作为参数传递给新实例来完成认证。\n",
        "\n",
        "## IAM 认证\n",
        "\n",
        "```typescript\n",
        "import { WatsonxLLM } from \"@langchain/community/llms/ibm\";\n",
        "\n",
        "const props = {\n",
        "  version: \"YYYY-MM-DD\",\n",
        "  serviceUrl: \"<SERVICE_URL>\",\n",
        "  projectId: \"<PROJECT_ID>\",\n",
        "  watsonxAIAuthType: \"iam\",\n",
        "  watsonxAIApikey: \"<YOUR-APIKEY>\",\n",
        "};\n",
        "const instance = new WatsonxLLM(props);\n",
        "```\n",
        "\n",
        "## Bearer 令牌认证\n",
        "\n",
        "```typescript\n",
        "import { WatsonxLLM } from \"@langchain/community/llms/ibm\";\n",
        "\n",
        "const props = {\n",
        "  version: \"YYYY-MM-DD\",\n",
        "  serviceUrl: \"<SERVICE_URL>\",\n",
        "  projectId: \"<PROJECT_ID>\",\n",
        "  watsonxAIAuthType: \"bearertoken\",\n",
        "  watsonxAIBearerToken: \"<YOUR-BEARERTOKEN>\",\n",
        "};\n",
        "const instance = new WatsonxLLM(props);\n",
        "```\n",
        "\n",
        "### IBM watsonx.ai 软件认证\n",
        "\n",
        "```typescript\n",
        "import { WatsonxLLM } from \"@langchain/community/llms/ibm\";\n",
        "\n",
        "const props = {\n",
        "  version: \"YYYY-MM-DD\",\n",
        "  serviceUrl: \"<SERVICE_URL>\",\n",
        "  projectId: \"<PROJECT_ID>\",\n",
        "  watsonxAIAuthType: \"cp4d\",\n",
        "  watsonxAIUsername: \"<YOUR-USERNAME>\",\n",
        "  watsonxAIPassword: \"<YOUR-PASSWORD>\",\n",
        "  watsonxAIUrl: \"<url>\",\n",
        "};\n",
        "const instance = new WatsonxLLM(props);\n",
        "```\n",
        "\n",
        "如果您希望自动追踪模型调用，也可以取消以下 [LangSmith](https://docs.smith.langchain.com/) API 密钥的注释：\n",
        "\n",
        "```bash\n",
        "# export LANGSMITH_TRACING=\"true\"\n",
        "# export LANGSMITH_API_KEY=\"your-api-key\"\n",
        "```\n",
        "\n",
        "### 安装\n",
        "\n",
        "LangChain IBM watsonx.ai 集成位于 `@langchain/community` 包中：\n",
        "\n",
        "```{=mdx}\n",
        "import IntegrationInstallTooltip from \"@mdx_components/integration_install_tooltip.mdx\";\n",
        "import Npm2Yarn from \"@theme/Npm2Yarn\";\n",
        "\n",
        "<IntegrationInstallTooltip></IntegrationInstallTooltip>\n",
        "\n",
        "<Npm2Yarn>\n",
        "  @langchain/community @langchain/core\n",
        "</Npm2Yarn>\n",
        "\n",
        "```"
      ]
    },
    {
      "cell_type": "markdown",
      "id": "a38cde65-254d-4219-a441-068766c0d4b5",
      "metadata": {},
      "source": [
        "## 实例化\n",
        "\n",
        "现在我们可以实例化我们的模型对象并生成聊天补全：\n"
      ]
    },
    {
      "cell_type": "code",
      "execution_count": null,
      "id": "cb09c344-1836-4e0c-acf8-11d13ac1dbae",
      "metadata": {},
      "outputs": [],
      "source": [
        "import { ChatWatsonx } from \"@langchain/community/chat_models/ibm\";\n",
        "const props = {\n",
        "  maxTokens: 200,\n",
        "  temperature: 0.5\n",
        "};\n",
        "\n",
        "const instance = new ChatWatsonx({\n",
        "  version: \"YYYY-MM-DD\",\n",
        "  serviceUrl: process.env.API_URL,\n",
        "  projectId: \"<PROJECT_ID>\",\n",
        "  // spaceId: \"<SPACE_ID>\",\n",
        "  // idOrName: \"<DEPLOYMENT_ID>\",\n",
        "  model: \"<MODEL_ID>\",\n",
        "  ...props\n",
        "});"
      ]
    },
    {
      "cell_type": "markdown",
      "id": "30cb3968",
      "metadata": {},
      "source": [
        "注意：\n",
        "\n",
        "- 除非使用无需指定任何参数的轻量级引擎（参考 [watsonx.ai 文档](https://www.ibm.com/docs/zh/cloud-paks/cp-data/5.0.x?topic=install-choosing-installation-mode)），否则必须提供 `spaceId`、`projectId` 或 `idOrName`（部署 ID）。\n",
        "- 根据您已配置服务实例的区域，使用正确的 serviceUrl。"
      ]
    },
    {
      "cell_type": "markdown",
      "id": "2b4f3e15",
      "metadata": {},
      "source": [
        "## 调用"
      ]
    },
    {
      "cell_type": "code",
      "execution_count": 2,
      "id": "62e0dbc3",
      "metadata": {
        "tags": []
      },
      "outputs": [
        {
          "name": "stdout",
          "output_type": "stream",
          "text": [
            "AIMessage {\n",
            "  \"id\": \"chat-c5341b2062dc42f091e5ae2558e905e3\",\n",
            "  \"content\": \" J'adore la programmation.\",\n",
            "  \"additional_kwargs\": {\n",
            "    \"tool_calls\": []\n",
            "  },\n",
            "  \"response_metadata\": {\n",
            "    \"tokenUsage\": {\n",
            "      \"completion_tokens\": 10,\n",
            "      \"prompt_tokens\": 28,\n",
            "      \"total_tokens\": 38\n",
            "    },\n",
            "    \"finish_reason\": \"stop\"\n",
            "  },\n",
            "  \"tool_calls\": [],\n",
            "  \"invalid_tool_calls\": [],\n",
            "  \"usage_metadata\": {\n",
            "    \"input_tokens\": 28,\n",
            "    \"output_tokens\": 10,\n",
            "    \"total_tokens\": 38\n",
            "  }\n",
            "}\n"
          ]
        }
      ],
      "source": [
        "const aiMsg = await instance.invoke([{\n",
        "  role: \"system\",\n",
        "  content: \"You are a helpful assistant that translates English to French. Translate the user sentence.\",\n",
        "},\n",
        "{\n",
        "  role: \"user\",\n",
        "  content: \"I love programming.\"\n",
        "}]);\n",
        "console.log(aiMsg)"
      ]
    },
    {
      "cell_type": "code",
      "execution_count": 3,
      "id": "d86145b3-bfef-46e8-b227-4dda5c9c2705",
      "metadata": {},
      "outputs": [
        {
          "name": "stdout",
          "output_type": "stream",
          "text": [
            " J'adore la programmation.\n"
          ]
        }
      ],
      "source": [
        "console.log(aiMsg.content)"
      ]
    },
    {
      "cell_type": "markdown",
      "id": "18e2bfc0-7e78-4528-a73f-499ac150dca8",
      "metadata": {},
      "source": [
        "## 链式调用\n",
        "\n",
        "我们可以像这样将模型与提示模板进行[链式调用](/docs/how_to/sequence/)："
      ]
    },
    {
      "cell_type": "code",
      "execution_count": 4,
      "id": "e197d1d7-a070-4c96-9f8a-a0e86d046e0b",
      "metadata": {},
      "outputs": [
        {
          "name": "stdout",
          "output_type": "stream",
          "text": [
            "AIMessage {\n",
            "  \"id\": \"chat-c5c2c08d3c984254acc48225c39c6a08\",\n",
            "  \"content\": \" Ich liebe Programmieren.\",\n",
            "  \"additional_kwargs\": {\n",
            "    \"tool_calls\": []\n",
            "  },\n",
            "  \"response_metadata\": {\n",
            "    \"tokenUsage\": {\n",
            "      \"completion_tokens\": 8,\n",
            "      \"prompt_tokens\": 22,\n",
            "      \"total_tokens\": 30\n",
            "    },\n",
            "    \"finish_reason\": \"stop\"\n",
            "  },\n",
            "  \"tool_calls\": [],\n",
            "  \"invalid_tool_calls\": [],\n",
            "  \"usage_metadata\": {\n",
            "    \"input_tokens\": 22,\n",
            "    \"output_tokens\": 8,\n",
            "    \"total_tokens\": 30\n",
            "  }\n",
            "}\n"
          ]
        }
      ],
      "source": [
        "import { ChatPromptTemplate } from \"@langchain/core/prompts\";\n",
        "\n",
        "const prompt = ChatPromptTemplate.fromMessages(\n",
        "  [\n",
        "    [\n",
        "      \"system\",\n",
        "      \"You are a helpful assistant that translates {input_language} to {output_language}.\",\n",
        "    ],\n",
        "    [\"human\", \"{input}\"],\n",
        "  ]\n",
        ")\n",
        "const chain = prompt.pipe(instance);\n",
        "await chain.invoke(\n",
        "    {\n",
        "      input_language: \"English\",\n",
        "      output_language: \"German\",\n",
        "      input: \"I love programming.\",\n",
        "    }\n",
        "  )"
      ]
    },
    {
      "cell_type": "markdown",
      "id": "2896aae5",
      "metadata": {},
      "source": [
        "## 流式传输模型输出"
      ]
    },
    {
      "cell_type": "code",
      "execution_count": 1,
      "id": "cd21e356",
      "metadata": {},
      "outputs": [
        {
          "name": "stdout",
          "output_type": "stream",
          "text": [
            " The\n",
            " Moon\n",
            " is\n",
            " Earth\n",
            "'\n",
            "s\n",
            " only\n",
            " natural\n",
            " satellite\n",
            " and\n"
          ]
        }
      ],
      "source": [
        "import { HumanMessage, SystemMessage } from \"@langchain/core/messages\";\n",
        "\n",
        "const messages = [\n",
        "    new SystemMessage('You are a helpful assistant which telling short-info about provided topic.'),\n",
        "    new HumanMessage(\"moon\")\n",
        "]\n",
        "const stream = await instance.stream(messages);\n",
        "for await(const chunk of stream){\n",
        "    console.log(chunk)\n",
        "}"
      ]
    },
    {
      "cell_type": "markdown",
      "id": "65ed0609",
      "metadata": {},
      "source": [
        "## 工具调用"
      ]
    },
    {
      "cell_type": "code",
      "execution_count": 7,
      "id": "f32f8cb0",
      "metadata": {},
      "outputs": [
        {
          "name": "stdout",
          "output_type": "stream",
          "text": [
            "AIMessage {\n",
            "  \"id\": \"chat-d2214d0bdb794483a213b3211cf0d819\",\n",
            "  \"content\": \"\",\n",
            "  \"additional_kwargs\": {\n",
            "    \"tool_calls\": [\n",
            "      {\n",
            "        \"id\": \"chatcmpl-tool-257f3d39532141b89178c2120f81f0cb\",\n",
            "        \"type\": \"function\",\n",
            "        \"function\": \"[Object]\"\n",
            "      }\n",
            "    ]\n",
            "  },\n",
            "  \"response_metadata\": {\n",
            "    \"tokenUsage\": {\n",
            "      \"completion_tokens\": 38,\n",
            "      \"prompt_tokens\": 177,\n",
            "      \"total_tokens\": 215\n",
            "    },\n",
            "    \"finish_reason\": \"tool_calls\"\n",
            "  },\n",
            "  \"tool_calls\": [\n",
            "    {\n",
            "      \"name\": \"calculator\",\n",
            "      \"args\": {\n",
            "        \"number1\": 3,\n",
            "        \"number2\": 12,\n",
            "        \"operation\": \"multiply\"\n",
            "      },\n",
            "      \"type\": \"tool_call\",\n",
            "      \"id\": \"chatcmpl-tool-257f3d39532141b89178c2120f81f0cb\"\n",
            "    }\n",
            "  ],\n",
            "  \"invalid_tool_calls\": [],\n",
            "  \"usage_metadata\": {\n",
            "    \"input_tokens\": 177,\n",
            "    \"output_tokens\": 38,\n",
            "    \"total_tokens\": 215\n",
            "  }\n",
            "}\n"
          ]
        }
      ],
      "source": [
        "import { tool } from \"@langchain/core/tools\";\n",
        "import { z } from \"zod\";\n",
        "\n",
        "const calculatorSchema = z.object({\n",
        "    operation: z\n",
        "      .enum([\"add\", \"subtract\", \"multiply\", \"divide\"])\n",
        "      .describe(\"The type of operation to execute.\"),\n",
        "    number1: z.number().describe(\"The first number to operate on.\"),\n",
        "    number2: z.number().describe(\"The second number to operate on.\"),\n",
        "  });\n",
        "  \n",
        "const calculatorTool = tool(\n",
        "async ({ operation, number1, number2 }) => {\n",
        "    if (operation === \"add\") {\n",
        "    return `${number1 + number2}`;\n",
        "    } else if (operation === \"subtract\") {\n",
        "    return `${number1 - number2}`;\n",
        "    } else if (operation === \"multiply\") {\n",
        "    return `${number1 * number2}`;\n",
        "    } else if (operation === \"divide\") {\n",
        "    return `${number1 / number2}`;\n",
        "    } else {\n",
        "    throw new Error(\"Invalid operation.\");\n",
        "    }\n",
        "},\n",
        "{\n",
        "    name: \"calculator\",\n",
        "    description: \"Can perform mathematical operations.\",\n",
        "    schema: calculatorSchema,\n",
        "}\n",
        ");\n",
        "\n",
        "const instanceWithTools = instance.bindTools([calculatorTool]);\n",
        "\n",
        "const res = await instanceWithTools.invoke(\"What is 3 * 12\");\n",
        "console.log(res)"
      ]
    },
    {
      "cell_type": "markdown",
      "id": "6339db97",
      "metadata": {},
      "source": [
        "## API 参考文档\n",
        "\n",
        "有关所有 `IBM watsonx.ai` 特性和配置的详细文档，请访问 API 参考文档：[API 文档](https://api.js.langchain.com/modules/_langchain_community.embeddings_ibm.html)"
      ]
    }
  ],
  "metadata": {
    "kernelspec": {
      "display_name": "JavaScript (Node.js)",
      "language": "javascript",
      "name": "javascript"
    },
    "language_info": {
      "file_extension": ".js",
      "mimetype": "application/javascript",
      "name": "javascript",
      "version": "20.17.0"
    }
  },
  "nbformat": 4,
  "nbformat_minor": 5
}