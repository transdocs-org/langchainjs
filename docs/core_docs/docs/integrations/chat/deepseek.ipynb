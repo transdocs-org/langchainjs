{
  "cells": [
    {
      "cell_type": "raw",
      "id": "afaf8039",
      "metadata": {
        "vscode": {
          "languageId": "raw"
        }
      },
      "source": [
        "---\n",
        "sidebar_label: DeepSeek\n",
        "---"
      ]
    },
    {
      "cell_type": "markdown",
      "id": "e49f1e0d",
      "metadata": {},
      "source": [
        "# ChatDeepSeek\n",
        "\n",
        "这将帮助你快速入门 DeepSeek [聊天模型](/docs/concepts/#chat-models)。有关 `ChatDeepSeek` 所有功能和配置的详细文档，请前往 [API 参考文档](https://api.js.langchain.com/classes/_langchain_deepseek.ChatDeepSeek.html)。\n",
        "\n",
        "## 概览\n",
        "### 集成详情\n",
        "\n",
        "| 类 | 包 | 本地支持 | 可序列化 | [Python 支持](https://python.langchain.com/docs/integrations/chat/deepseek) | 包下载量 | 包最新版本 |\n",
        "| :--- | :--- | :---: | :---: |  :---: | :---: | :---: |\n",
        "| [`ChatDeepSeek`](https://api.js.langchain.com/classes/_langchain_deepseek.ChatDeepSeek.html) | [`@langchain/deepseek`](https://npmjs.com/@langchain/deepseek) | ❌（参见 [Ollama](/docs/integrations/chat/ollama)） | beta | ✅ | ![NPM - 下载量](https://img.shields.io/npm/dm/@langchain/deepseek?style=flat-square&label=%20&) | ![NPM - 版本](https://img.shields.io/npm/v/@langchain/deepseek?style=flat-square&label=%20&) |\n",
        "\n",
        "### 模型功能\n",
        "\n",
        "以下表格标题中的链接提供了如何使用特定功能的指南。\n",
        "\n",
        "| [工具调用](/docs/how_to/tool_calling) | [结构化输出](/docs/how_to/structured_output/) | JSON 模式 | [图像输入](/docs/how_to/multimodal_inputs/) | 音频输入 | 视频输入 | [逐 token 流式传输](/docs/how_to/chat_streaming/) | [token 使用情况](/docs/how_to/chat_token_usage_tracking/) | [logprobs](/docs/how_to/logprobs/) |\n",
        "| :---: | :---: | :---: | :---: |  :---: | :---: | :---: | :---: | :---: |\n",
        "| ✅ | ✅ | ✅ | ❌ | ❌ | ❌ | ✅ | ✅ | ✅ | \n",
        "\n",
        "注意：截至 2025 年 1 月 27 日，`deepseek-reasoner` 当前不支持工具调用和结构化输出。\n",
        "\n",
        "## 准备工作\n",
        "\n",
        "要访问 DeepSeek 模型，你需要创建一个 DeepSeek 账户，获取一个 API 密钥，并安装 `@langchain/deepseek` 集成包。\n",
        "\n",
        "你也可以通过如 [Together AI](/docs/integrations/chat/togetherai) 或 [Ollama](/docs/integrations/chat/ollama) 等提供商访问 DeepSeek API。\n",
        "\n",
        "### 凭证\n",
        "\n",
        "前往 https://deepseek.com/ 注册 DeepSeek 账户并生成一个 API 密钥。完成之后，设置 `DEEPSEEK_API_KEY` 环境变量：\n",
        "\n",
        "```bash\n",
        "export DEEPSEEK_API_KEY=\"your-api-key\"\n",
        "```\n",
        "\n",
        "如果你想自动追踪模型调用，也可以取消以下 [LangSmith](https://docs.smith.langchain.com/) API 密钥的注释：\n",
        "\n",
        "```bash\n",
        "# export LANGSMITH_TRACING=\"true\"\n",
        "# export LANGSMITH_API_KEY=\"your-api-key\"\n",
        "```\n",
        "\n",
        "### 安装\n",
        "\n",
        "LangChain 的 ChatDeepSeek 集成位于 `@langchain/deepseek` 包中：\n",
        "\n",
        "```{=mdx}\n",
        "import IntegrationInstallTooltip from \"@mdx_components/integration_install_tooltip.mdx\";\n",
        "import Npm2Yarn from \"@theme/Npm2Yarn\";\n",
        "\n",
        "<IntegrationInstallTooltip></IntegrationInstallTooltip>\n",
        "\n",
        "<Npm2Yarn>\n",
        "  @langchain/deepseek @langchain/core\n",
        "</Npm2Yarn>\n",
        "\n",
        "```"
      ]
    },
    {
      "cell_type": "markdown",
      "id": "a38cde65-254d-4219-a441-068766c0d4b5",
      "metadata": {},
      "source": [
        "## 实例化\n",
        "\n",
        "现在我们可以实例化我们的模型对象并生成聊天补全结果："
      ]
    },
    {
      "cell_type": "code",
      "execution_count": 1,
      "id": "cb09c344-1836-4e0c-acf8-11d13ac1dbae",
      "metadata": {},
      "outputs": [],
      "source": [
        "import { ChatDeepSeek } from \"@langchain/deepseek\";\n",
        "\n",
        "const llm = new ChatDeepSeek({\n",
        "  model: \"deepseek-reasoner\",\n",
        "  temperature: 0,\n",
        "  // other params...\n",
        "})"
      ]
    },
    {
      "cell_type": "markdown",
      "id": "2b4f3e15",
      "metadata": {},
      "source": [
        "<!-- ## 调用 -->"
      ]
    },
    {
      "cell_type": "code",
      "execution_count": 2,
      "id": "62e0dbc3",
      "metadata": {
        "tags": []
      },
      "outputs": [
        {
          "name": "stdout",
          "output_type": "stream",
          "text": [
            "AIMessage {\n",
            "  \"id\": \"e2874482-68a7-4552-8154-b6a245bab429\",\n",
            "  \"content\": \"J'adore la programmation.\",\n",
            "  \"additional_kwargs\": {,\n",
            "    \"reasoning_content\": \"...\",\n",
            "  },\n",
            "  \"response_metadata\": {\n",
            "    \"tokenUsage\": {\n",
            "      \"promptTokens\": 23,\n",
            "      \"completionTokens\": 7,\n",
            "      \"totalTokens\": 30\n",
            "    },\n",
            "    \"finish_reason\": \"stop\",\n",
            "    \"model_name\": \"deepseek-reasoner\",\n",
            "    \"usage\": {\n",
            "      \"prompt_tokens\": 23,\n",
            "      \"completion_tokens\": 7,\n",
            "      \"total_tokens\": 30,\n",
            "      \"prompt_tokens_details\": {\n",
            "        \"cached_tokens\": 0\n",
            "      },\n",
            "      \"prompt_cache_hit_tokens\": 0,\n",
            "      \"prompt_cache_miss_tokens\": 23\n",
            "    },\n",
            "    \"system_fingerprint\": \"fp_3a5770e1b4\"\n",
            "  },\n",
            "  \"tool_calls\": [],\n",
            "  \"invalid_tool_calls\": [],\n",
            "  \"usage_metadata\": {\n",
            "    \"output_tokens\": 7,\n",
            "    \"input_tokens\": 23,\n",
            "    \"total_tokens\": 30,\n",
            "    \"input_token_details\": {\n",
            "      \"cache_read\": 0\n",
            "    },\n",
            "    \"output_token_details\": {}\n",
            "  }\n",
            "}\n"
          ]
        }
      ],
      "source": [
        "const aiMsg = await llm.invoke([\n",
        "  [\n",
        "    \"system\",\n",
        "    \"You are a helpful assistant that translates English to French. Translate the user sentence.\",\n",
        "  ],\n",
        "  [\"human\", \"I love programming.\"],\n",
        "])\n",
        "aiMsg"
      ]
    },
    {
      "cell_type": "code",
      "execution_count": 3,
      "id": "d86145b3-bfef-46e8-b227-4dda5c9c2705",
      "metadata": {},
      "outputs": [
        {
          "name": "stdout",
          "output_type": "stream",
          "text": [
            "J'adore la programmation.\n"
          ]
        }
      ],
      "source": [
        "console.log(aiMsg.content)"
      ]
    },
    {
      "cell_type": "markdown",
      "id": "18e2bfc0-7e78-4528-a73f-499ac150dca8",
      "metadata": {},
      "source": [
        "## 链式调用\n",
        "\n",
        "我们可以像这样将模型与提示模板[链式调用](/docs/how_to/sequence/)："
      ]
    },
    {
      "cell_type": "code",
      "execution_count": 4,
      "id": "e197d1d7-a070-4c96-9f8a-a0e86d046e0b",
      "metadata": {},
      "outputs": [
        {
          "name": "stdout",
          "output_type": "stream",
          "text": [
            "AIMessage {\n",
            "  \"id\": \"6e7f6f8c-8d7a-4dad-be07-425384038fd4\",\n",
            "  \"content\": \"Ich liebe es zu programmieren.\",\n",
            "  \"additional_kwargs\": {,\n",
            "    \"reasoning_content\": \"...\",\n",
            "  },\n",
            "  \"response_metadata\": {\n",
            "    \"tokenUsage\": {\n",
            "      \"promptTokens\": 18,\n",
            "      \"completionTokens\": 9,\n",
            "      \"totalTokens\": 27\n",
            "    },\n",
            "    \"finish_reason\": \"stop\",\n",
            "    \"model_name\": \"deepseek-reasoner\",\n",
            "    \"usage\": {\n",
            "      \"prompt_tokens\": 18,\n",
            "      \"completion_tokens\": 9,\n",
            "      \"total_tokens\": 27,\n",
            "      \"prompt_tokens_details\": {\n",
            "        \"cached_tokens\": 0\n",
            "      },\n",
            "      \"prompt_cache_hit_tokens\": 0,\n",
            "      \"prompt_cache_miss_tokens\": 18\n",
            "    },\n",
            "    \"system_fingerprint\": \"fp_3a5770e1b4\"\n",
            "  },\n",
            "  \"tool_calls\": [],\n",
            "  \"invalid_tool_calls\": [],\n",
            "  \"usage_metadata\": {\n",
            "    \"output_tokens\": 9,\n",
            "    \"input_tokens\": 18,\n",
            "    \"total_tokens\": 27,\n",
            "    \"input_token_details\": {\n",
            "      \"cache_read\": 0\n",
            "    },\n",
            "    \"output_token_details\": {}\n",
            "  }\n",
            "}\n"
          ]
        }
      ],
      "source": [
        "import { ChatPromptTemplate } from \"@langchain/core/prompts\"\n",
        "\n",
        "const prompt = ChatPromptTemplate.fromMessages(\n",
        "  [\n",
        "    [\n",
        "      \"system\",\n",
        "      \"You are a helpful assistant that translates {input_language} to {output_language}.\",\n",
        "    ],\n",
        "    [\"human\", \"{input}\"],\n",
        "  ]\n",
        ")\n",
        "\n",
        "const chain = prompt.pipe(llm);\n",
        "await chain.invoke(\n",
        "  {\n",
        "    input_language: \"English\",\n",
        "    output_language: \"German\",\n",
        "    input: \"I love programming.\",\n",
        "  }\n",
        ")"
      ]
    },
    {
      "cell_type": "markdown",
      "id": "3a5bb5ca-c3ae-4a58-be67-2cd18574b9a3",
      "metadata": {},
      "source": [
        "## API 参考文档\n",
        "\n",
        "如需详细了解 ChatDeepSeek 的所有功能和配置，请访问 API 参考文档：https://api.js.langchain.com/classes/_langchain_deepseek.ChatDeepSeek.html"
      ]
    }
  ],
  "metadata": {
    "kernelspec": {
      "display_name": "TypeScript",
      "language": "typescript",
      "name": "tslab"
    },
    "language_info": {
      "codemirror_mode": {
        "mode": "typescript",
        "name": "javascript",
        "typescript": true
      },
      "file_extension": ".ts",
      "mimetype": "text/typescript",
      "name": "typescript",
      "version": "3.7.2"
    }
  },
  "nbformat": 4,
  "nbformat_minor": 5
}