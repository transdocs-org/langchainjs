{
  "cells": [
    {
      "cell_type": "raw",
      "id": "afaf8039",
      "metadata": {
        "vscode": {
          "languageId": "raw"
        }
      },
      "source": [
        "---\n",
        "sidebar_label: Azure OpenAI\n",
        "---"
      ]
    },
    {
      "cell_type": "markdown",
      "id": "e49f1e0d",
      "metadata": {},
      "source": [
        "# AzureChatOpenAI\n",
        "\n",
        "Azure OpenAI 是一项 Microsoft Azure 服务，它提供了来自 OpenAI 的强大语言模型。\n",
        "\n",
        "这将帮助你快速开始使用 AzureChatOpenAI [聊天模型](/docs/concepts/chat_models)。有关 AzureChatOpenAI 所有功能和配置的详细文档，请前往 [API 参考](https://api.js.langchain.com/classes/langchain_openai.AzureChatOpenAI.html)。\n",
        "\n",
        "## 概览\n",
        "### 集成详情\n",
        "\n",
        "| 类 | 包 | 本地 | 可序列化 | [PY 支持](https://python.langchain.com/docs/integrations/chat/azure_chat_openai) | 包下载量 | 最新包 |\n",
        "| :--- | :--- | :---: | :---: |  :---: | :---: | :---: |\n",
        "| [AzureChatOpenAI](https://api.js.langchain.com/classes/langchain_openai.AzureChatOpenAI.html) | [`@langchain/openai`](https://www.npmjs.com/package/@langchain/openai) | ❌ | ✅ | ✅ | ![NPM - 下载量](https://img.shields.io/npm/dm/@langchain/openai?style=flat-square&label=%20&) | ![NPM - 版本](https://img.shields.io/npm/v/@langchain/openai?style=flat-square&label=%20&) |\n",
        "\n",
        "### 模型特性\n",
        "\n",
        "查看下面表格标题中的链接，了解如何使用特定功能。\n",
        "\n",
        "| [工具调用](/docs/how_to/tool_calling) | [结构化输出](/docs/how_to/structured_output/) | JSON 模式 | [图像输入](/docs/how_to/multimodal_inputs/) | 音频输入 | 视频输入 | [逐 token 流式传输](/docs/how_to/chat_streaming/) | [token 使用情况](/docs/how_to/chat_token_usage_tracking/) | [logprobs](/docs/how_to/logprobs/) |\n",
        "| :---: | :---: | :---: | :---: |  :---: | :---: | :---: | :---: | :---: |\n",
        "| ✅ | ✅ | ✅ | ✅ | ❌ | ❌ | ✅ | ✅ | ✅ | \n",
        "\n",
        "## 配置\n",
        "\n",
        "[Azure OpenAI](https://azure.microsoft.com/products/ai-services/openai-service/) 是一项云服务，可帮助你快速开发生成式 AI 应用，它提供了一组多样化且经过筛选的来自 OpenAI 和 Meta 的预构建模型。\n",
        "\n",
        "LangChain.js 支持通过 [OpenAI SDK](https://github.com/openai/openai-node) 中的 Azure 新集成来与 [Azure OpenAI](https://azure.microsoft.com/products/ai-services/openai-service/) 集成。\n",
        "\n",
        "你可以在这 [页面](https://learn.microsoft.com/azure/ai-services/openai/overview) 了解更多关于 Azure OpenAI 及其与 OpenAI API 的区别。\n",
        "\n",
        "### 凭据\n",
        "\n",
        "如果你还没有 Azure 账户，可以 [创建一个免费账户](https://azure.microsoft.com/free/) 来开始。\n",
        "\n",
        "你还需部署一个 Azure OpenAI 实例。你可以按照 [此指南](https://learn.microsoft.com/azure/ai-services/openai/how-to/create-resource?pivots=web-portal) 在 Azure 门户中部署一个实例。\n",
        "\n",
        "一旦你的实例运行起来，请确保你拥有实例的名称和密钥。你可以在 Azure 门户中实例的 \"密钥和端点\" 部分找到密钥。然后，如果使用 Node.js，可以将你的凭据设置为环境变量：\n",
        "\n",
        "```bash\n",
        "AZURE_OPENAI_API_INSTANCE_NAME=<YOUR_INSTANCE_NAME>\n",
        "AZURE_OPENAI_API_DEPLOYMENT_NAME=<YOUR_DEPLOYMENT_NAME>\n",
        "AZURE_OPENAI_API_KEY=<YOUR_KEY>\n",
        "AZURE_OPENAI_API_VERSION=\"2024-02-01\"\n",
        "```\n",
        "\n",
        "如果你想获得模型调用的自动跟踪，还可以取消以下 [LangSmith](https://docs.smith.langchain.com/) API 密钥的注释：\n",
        "\n",
        "```bash\n",
        "# export LANGSMITH_TRACING=\"true\"\n",
        "# export LANGSMITH_API_KEY=\"your-api-key\"\n",
        "```\n",
        "\n",
        "### 安装\n",
        "\n",
        "LangChain AzureChatOpenAI 集成位于 `@langchain/openai` 包中：\n",
        "\n",
        "```{=mdx}\n",
        "\n",
        "import IntegrationInstallTooltip from \"@mdx_components/integration_install_tooltip.mdx\";\n",
        "import Npm2Yarn from \"@theme/Npm2Yarn\";\n",
        "\n",
        "<IntegrationInstallTooltip></IntegrationInstallTooltip>\n",
        "\n",
        "<Npm2Yarn>\n",
        "  @langchain/openai @langchain/core\n",
        "</Npm2Yarn>\n",
        "\n",
        "```"
      ]
    },
    {
      "cell_type": "markdown",
      "id": "a38cde65-254d-4219-a441-068766c0d4b5",
      "metadata": {},
      "source": [
        "## 实例化\n",
        "\n",
        "现在我们可以实例化我们的模型对象并生成聊天补全："
      ]
    },
    {
      "cell_type": "code",
      "execution_count": 3,
      "id": "cb09c344-1836-4e0c-acf8-11d13ac1dbae",
      "metadata": {},
      "outputs": [],
      "source": [
        "import { AzureChatOpenAI } from \"@langchain/openai\" \n",
        "\n",
        "const llm = new AzureChatOpenAI({\n",
        "    model: \"gpt-4o\",\n",
        "    temperature: 0,\n",
        "    maxTokens: undefined,\n",
        "    maxRetries: 2,\n",
        "    azureOpenAIApiKey: process.env.AZURE_OPENAI_API_KEY, // In Node.js defaults to process.env.AZURE_OPENAI_API_KEY\n",
        "    azureOpenAIApiInstanceName: process.env.AZURE_OPENAI_API_INSTANCE_NAME, // In Node.js defaults to process.env.AZURE_OPENAI_API_INSTANCE_NAME\n",
        "    azureOpenAIApiDeploymentName: process.env.AZURE_OPENAI_API_DEPLOYMENT_NAME, // In Node.js defaults to process.env.AZURE_OPENAI_API_DEPLOYMENT_NAME\n",
        "    azureOpenAIApiVersion: process.env.AZURE_OPENAI_API_VERSION, // In Node.js defaults to process.env.AZURE_OPENAI_API_VERSION\n",
        "})"
      ]
    },
    {
      "cell_type": "markdown",
      "id": "2b4f3e15",
      "metadata": {},
      "source": [
        "## 调用"
      ]
    },
    {
      "cell_type": "code",
      "execution_count": 4,
      "id": "62e0dbc3",
      "metadata": {
        "tags": []
      },
      "outputs": [
        {
          "name": "stdout",
          "output_type": "stream",
          "text": [
            "AIMessage {\n",
            "  \"id\": \"chatcmpl-9qrWKByvVrzWMxSn8joRZAklHoB32\",\n",
            "  \"content\": \"J'adore la programmation.\",\n",
            "  \"additional_kwargs\": {},\n",
            "  \"response_metadata\": {\n",
            "    \"tokenUsage\": {\n",
            "      \"completionTokens\": 8,\n",
            "      \"promptTokens\": 31,\n",
            "      \"totalTokens\": 39\n",
            "    },\n",
            "    \"finish_reason\": \"stop\"\n",
            "  },\n",
            "  \"tool_calls\": [],\n",
            "  \"invalid_tool_calls\": [],\n",
            "  \"usage_metadata\": {\n",
            "    \"input_tokens\": 31,\n",
            "    \"output_tokens\": 8,\n",
            "    \"total_tokens\": 39\n",
            "  }\n",
            "}\n"
          ]
        }
      ],
      "source": [
        "const aiMsg = await llm.invoke([\n",
        "    [\n",
        "        \"system\",\n",
        "        \"You are a helpful assistant that translates English to French. Translate the user sentence.\",\n",
        "    ],\n",
        "    [\"human\", \"I love programming.\"],\n",
        "])\n",
        "aiMsg"
      ]
    },
    {
      "cell_type": "code",
      "execution_count": 5,
      "id": "d86145b3-bfef-46e8-b227-4dda5c9c2705",
      "metadata": {},
      "outputs": [
        {
          "name": "stdout",
          "output_type": "stream",
          "text": [
            "J'adore la programmation.\n"
          ]
        }
      ],
      "source": [
        "console.log(aiMsg.content)"
      ]
    },
    {
      "cell_type": "markdown",
      "id": "18e2bfc0-7e78-4528-a73f-499ac150dca8",
      "metadata": {},
      "source": [
        "## 链式调用\n",
        "\n",
        "我们可以像这样将模型与提示模板进行[链式调用](/docs/how_to/sequence/)："
      ]
    },
    {
      "cell_type": "code",
      "execution_count": 6,
      "id": "e197d1d7-a070-4c96-9f8a-a0e86d046e0b",
      "metadata": {},
      "outputs": [
        {
          "name": "stdout",
          "output_type": "stream",
          "text": [
            "AIMessage {\n",
            "  \"id\": \"chatcmpl-9qrWR7WiNjZ3leSG4Wd77cnKEVivv\",\n",
            "  \"content\": \"Ich liebe das Programmieren.\",\n",
            "  \"additional_kwargs\": {},\n",
            "  \"response_metadata\": {\n",
            "    \"tokenUsage\": {\n",
            "      \"completionTokens\": 6,\n",
            "      \"promptTokens\": 26,\n",
            "      \"totalTokens\": 32\n",
            "    },\n",
            "    \"finish_reason\": \"stop\"\n",
            "  },\n",
            "  \"tool_calls\": [],\n",
            "  \"invalid_tool_calls\": [],\n",
            "  \"usage_metadata\": {\n",
            "    \"input_tokens\": 26,\n",
            "    \"output_tokens\": 6,\n",
            "    \"total_tokens\": 32\n",
            "  }\n",
            "}\n"
          ]
        }
      ],
      "source": [
        "import { ChatPromptTemplate } from \"@langchain/core/prompts\"\n",
        "\n",
        "const prompt = ChatPromptTemplate.fromMessages(\n",
        "    [\n",
        "        [\n",
        "            \"system\",\n",
        "            \"You are a helpful assistant that translates {input_language} to {output_language}.\",\n",
        "        ],\n",
        "        [\"human\", \"{input}\"],\n",
        "    ]\n",
        ")\n",
        "\n",
        "const chain = prompt.pipe(llm);\n",
        "await chain.invoke(\n",
        "    {\n",
        "        input_language: \"English\",\n",
        "        output_language: \"German\",\n",
        "        input: \"I love programming.\",\n",
        "    }\n",
        ")"
      ]
    },
    {
      "cell_type": "markdown",
      "id": "d1ee55bc-ffc8-4cfa-801c-993953a08cfd",
      "metadata": {},
      "source": [
        "## 使用 Azure 托管标识\n",
        "\n",
        "如果你正在使用 Azure 托管标识，你可以这样配置凭证："
      ]
    },
    {
      "cell_type": "code",
      "execution_count": 7,
      "id": "d7f47b2a",
      "metadata": {},
      "outputs": [],
      "source": [
        "import {\n",
        "  DefaultAzureCredential,\n",
        "  getBearerTokenProvider,\n",
        "} from \"@azure/identity\";\n",
        "import { AzureChatOpenAI } from \"@langchain/openai\";\n",
        "\n",
        "const credentials = new DefaultAzureCredential();\n",
        "const azureADTokenProvider = getBearerTokenProvider(\n",
        "  credentials,\n",
        "  \"https://cognitiveservices.azure.com/.default\"\n",
        ");\n",
        "\n",
        "const llmWithManagedIdentity = new AzureChatOpenAI({\n",
        "  azureADTokenProvider,\n",
        "  azureOpenAIApiInstanceName: \"<your_instance_name>\",\n",
        "  azureOpenAIApiDeploymentName: \"<your_deployment_name>\",\n",
        "  azureOpenAIApiVersion: \"<api_version>\",\n",
        "});"
      ]
    },
    {
      "cell_type": "markdown",
      "id": "6a889856",
      "metadata": {},
      "source": [
        "## 使用不同的域名\n",
        "\n",
        "如果您的实例托管在非默认的 `openai.azure.com` 域名下，则需要使用替代的环境变量 `AZURE_OPENAI_BASE_PATH`。\n",
        "例如，以下是如何连接到域名 `https://westeurope.api.microsoft.com/openai/deployments/{DEPLOYMENT_NAME}` 的方法："
      ]
    },
    {
      "cell_type": "code",
      "execution_count": 8,
      "id": "ace7f876",
      "metadata": {},
      "outputs": [],
      "source": [
        "import { AzureChatOpenAI } from \"@langchain/openai\";\n",
        "\n",
        "const llmWithDifferentDomain = new AzureChatOpenAI({\n",
        "  temperature: 0.9,\n",
        "  azureOpenAIApiKey: \"<your_key>\", // In Node.js defaults to process.env.AZURE_OPENAI_API_KEY\n",
        "  azureOpenAIApiDeploymentName: \"<your_deployment_name>\", // In Node.js defaults to process.env.AZURE_OPENAI_API_DEPLOYMENT_NAME\n",
        "  azureOpenAIApiVersion: \"<api_version>\", // In Node.js defaults to process.env.AZURE_OPENAI_API_VERSION\n",
        "  azureOpenAIBasePath:\n",
        "    \"https://westeurope.api.microsoft.com/openai/deployments\", // In Node.js defaults to process.env.AZURE_OPENAI_BASE_PATH\n",
        "});\n"
      ]
    },
    {
      "cell_type": "markdown",
      "id": "092e7a38",
      "metadata": {},
      "source": [
        "## 自定义请求头\n",
        "\n",
        "您可以通过传入 `configuration` 字段来指定自定义请求头："
      ]
    },
    {
      "cell_type": "code",
      "execution_count": null,
      "id": "43503a94",
      "metadata": {},
      "outputs": [],
      "source": [
        "import { AzureChatOpenAI } from \"@langchain/openai\";\n",
        "\n",
        "const llmWithCustomHeaders = new AzureChatOpenAI({\n",
        "  azureOpenAIApiKey: process.env.AZURE_OPENAI_API_KEY, // In Node.js defaults to process.env.AZURE_OPENAI_API_KEY\n",
        "  azureOpenAIApiInstanceName: process.env.AZURE_OPENAI_API_INSTANCE_NAME, // In Node.js defaults to process.env.AZURE_OPENAI_API_INSTANCE_NAME\n",
        "  azureOpenAIApiDeploymentName: process.env.AZURE_OPENAI_API_DEPLOYMENT_NAME, // In Node.js defaults to process.env.AZURE_OPENAI_API_DEPLOYMENT_NAME\n",
        "  azureOpenAIApiVersion: process.env.AZURE_OPENAI_API_VERSION, // In Node.js defaults to process.env.AZURE_OPENAI_API_VERSION\n",
        "  configuration: {\n",
        "    defaultHeaders: {\n",
        "      \"x-custom-header\": `SOME_VALUE`,\n",
        "    },\n",
        "  },\n",
        "});\n",
        "\n",
        "await llmWithCustomHeaders.invoke(\"Hi there!\");"
      ]
    },
    {
      "cell_type": "markdown",
      "id": "1a6b849d",
      "metadata": {},
      "source": [
        "`configuration` 字段还接受官方 SDK 接受的其他 `ClientOptions` 参数。\n",
        "\n",
        "**注意：** 当前无法通过此方式重写特定标头 `api-key`，它将使用 `azureOpenAIApiKey` 中的值。"
      ]
    },
    {
      "cell_type": "markdown",
      "id": "0ac0310c",
      "metadata": {},
      "source": [
        "## 从 Azure OpenAI SDK 迁移\n",
        "\n",
        "如果你正在使用已弃用的 Azure OpenAI SDK 和 `@langchain/azure-openai` 包，你可以按照以下步骤更新代码以使用新的 Azure 集成：\n",
        "\n",
        "1. 安装新的 `@langchain/openai` 包并卸载之前的 `@langchain/azure-openai` 包：\n",
        "\n",
        "```{=mdx}\n",
        "\n",
        "<Npm2Yarn>\n",
        "  @langchain/openai\n",
        "</Npm2Yarn>\n",
        "\n",
        "```\n",
        "\n",
        "```bash\n",
        "npm uninstall @langchain/azure-openai\n",
        "```\n",
        "\n",
        "   \n",
        "2. 更新你的导入语句以使用新的 `@langchain/openai` 包中的 `AzureChatOpenAI` 类：\n",
        "   ```typescript\n",
        "   import { AzureChatOpenAI } from \"@langchain/openai\";\n",
        "   ```\n",
        "3. 更新你的代码以使用新的 `AzureChatOpenAI` 类并传入所需的参数：\n",
        "\n",
        "   ```typescript\n",
        "   const model = new AzureChatOpenAI({\n",
        "     azureOpenAIApiKey: \"<your_key>\",\n",
        "     azureOpenAIApiInstanceName: \"<your_instance_name>\",\n",
        "     azureOpenAIApiDeploymentName: \"<your_deployment_name>\",\n",
        "     azureOpenAIApiVersion: \"<api_version>\",\n",
        "   });\n",
        "   ```\n",
        "\n",
        "   请注意，构造函数现在需要 `azureOpenAIApiInstanceName` 参数而不是 `azureOpenAIEndpoint` 参数，并新增了 `azureOpenAIApiVersion` 参数来指定 API 版本。\n",
        "\n",
        "   - 如果你之前使用的是 Azure 托管身份验证，现在需要使用构造函数中的 `azureADTokenProvider` 参数代替 `credentials`，更多详情请参见 [Azure 托管身份验证](#using-azure-managed-identity) 部分。\n",
        "\n",
        "   - 如果你之前使用环境变量，现在需要设置 `AZURE_OPENAI_API_INSTANCE_NAME` 环境变量而不是 `AZURE_OPENAI_API_ENDPOINT`，并新增 `AZURE_OPENAI_API_VERSION` 环境变量来指定 API 版本。\n"
      ]
    },
    {
      "cell_type": "markdown",
      "id": "3a5bb5ca-c3ae-4a58-be67-2cd18574b9a3",
      "metadata": {},
      "source": [
        "## API 参考文档\n",
        "\n",
        "有关 AzureChatOpenAI 所有功能和配置的详细文档，请访问 API 参考页面: https://api.js.langchain.com/classes/langchain_openai.AzureChatOpenAI.html"
      ]
    }
  ],
  "metadata": {
    "kernelspec": {
      "display_name": "TypeScript",
      "language": "typescript",
      "name": "tslab"
    },
    "language_info": {
      "codemirror_mode": {
        "mode": "typescript",
        "name": "javascript",
        "typescript": true
      },
      "file_extension": ".ts",
      "mimetype": "text/typescript",
      "name": "typescript",
      "version": "3.7.2"
    }
  },
  "nbformat": 4,
  "nbformat_minor": 5
}