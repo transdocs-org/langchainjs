{
  "cells": [
    {
      "cell_type": "raw",
      "id": "afaf8039",
      "metadata": {
        "vscode": {
          "languageId": "raw"
        }
      },
      "source": [
        "---\n",
        "sidebar_label: Cerebras\n",
        "---"
      ]
    },
    {
      "cell_type": "markdown",
      "id": "e49f1e0d",
      "metadata": {},
      "source": [
        "# ChatCerebras\n",
        "\n",
        "[Cerebras](https://cerebras.ai/) 是一家模型提供商，提供开源模型，强调速度。Cerebras CS-3 系统由 Wafer-Scale Engine-3 (WSE-3) 提供支持，代表了一类新的 AI 超级计算机，以其无与伦比的性能和可扩展性，为生成式 AI 的训练和推理设立了标准。\n",
        "\n",
        "通过 Cerebras 作为您的推理提供商，您可以：\n",
        "\n",
        "- 实现 AI 推理工作负载前所未有的速度\n",
        "- 以高吞吐量进行商业开发\n",
        "- 通过我们无缝的集群技术轻松扩展 AI 工作负载\n",
        "\n",
        "我们的 CS-3 系统可以快速轻松地集群，以创建世界上最大的 AI 超级计算机，从而轻松部署和运行最大的模型。领先的企业、研究机构和政府已经在使用 Cerebras 解决方案来开发专有模型并训练流行的开源模型。\n",
        "\n",
        "这将帮助您开始使用 ChatCerebras [聊天模型](/docs/concepts/chat_models)。有关所有 ChatCerebras 功能和配置的详细文档，请前往 [API 参考](https://api.js.langchain.com/classes/_langchain_cerebras.ChatCerebras.html)。\n",
        "\n",
        "## 概览\n",
        "\n",
        "### 集成详情\n",
        "\n",
        "| 类 | 包 | 本地 | 可序列化 | [PY 支持](https://python.langchain.com/docs/integrations/chat/cerebras) | 包下载量 | 最新包 |\n",
        "| :--- | :--- | :---: | :---: |  :---: | :---: | :---: |\n",
        "| [ChatCerebras](https://api.js.langchain.com/classes/langchain_cerebras.ChatCerebras.html) | [`@langchain/cerebras`](https://www.npmjs.com/package/@langchain/cerebras) | ❌ | ❌ | ✅ | ![NPM - 下载量](https://img.shields.io/npm/dm/@langchain/cerebras?style=flat-square&label=%20&) | ![NPM - 版本](https://img.shields.io/npm/v/@langchain/cerebras?style=flat-square&label=%20&) |\n",
        "\n",
        "### 模型特性\n",
        "\n",
        "请参阅下表标题中的链接，了解如何使用特定功能的指南。\n",
        "\n",
        "| [工具调用](/docs/how_to/tool_calling) | [结构化输出](/docs/how_to/structured_output/) | JSON 模式 | [图像输入](/docs/how_to/multimodal_inputs/) | 音频输入 | 视频输入 | [逐令牌流](/docs/how_to/chat_streaming/) | [令牌使用情况](/docs/how_to/chat_token_usage_tracking/) | [对数概率](/docs/how_to/logprobs/) |\n",
        "| :---: | :---: | :---: | :---: |  :---: | :---: | :---: | :---: | :---: |\n",
        "| ✅ | ✅ | ✅ | ❌ | ❌ | ❌ | ✅ | ✅ | ❌ | \n",
        "\n",
        "## 安装设置\n",
        "\n",
        "要访问 ChatCerebras 模型，您需要创建一个 Cerebras 账户，获取 API 密钥，并安装 `@langchain/cerebras` 集成包。\n",
        "\n",
        "### 凭证信息\n",
        "\n",
        "从 [cloud.cerebras.ai](https://cloud.cerebras.ai) 获取 API 密钥，并将其添加到您的环境变量中：\n",
        "\n",
        "```bash\n",
        "export CEREBRAS_API_KEY=\"your-api-key\"\n",
        "```\n",
        "\n",
        "如果您希望自动追踪模型调用，也可以通过取消下面注释设置 [LangSmith](https://docs.smith.langchain.com/) API 密钥：\n",
        "\n",
        "```bash\n",
        "# export LANGSMITH_TRACING=\"true\"\n",
        "# export LANGSMITH_API_KEY=\"your-api-key\"\n",
        "```\n",
        "\n",
        "### 安装\n",
        "\n",
        "LangChain ChatCerebras 集成位于 `@langchain/cerebras` 包中：\n",
        "\n",
        "```{=mdx}\n",
        "\n",
        "import IntegrationInstallTooltip from \"@mdx_components/integration_install_tooltip.mdx\";\n",
        "import Npm2Yarn from \"@theme/Npm2Yarn\";\n",
        "\n",
        "<IntegrationInstallTooltip></IntegrationInstallTooltip>\n",
        "\n",
        "<Npm2Yarn>\n",
        "  @langchain/cerebras @langchain/core\n",
        "</Npm2Yarn>\n",
        "\n",
        "```"
      ]
    },
    {
      "cell_type": "markdown",
      "id": "a38cde65-254d-4219-a441-068766c0d4b5",
      "metadata": {},
      "source": [
        "## 实例化\n",
        "\n",
        "现在我们可以实例化我们的模型对象并生成聊天补全："
      ]
    },
    {
      "cell_type": "code",
      "execution_count": 2,
      "id": "cb09c344-1836-4e0c-acf8-11d13ac1dbae",
      "metadata": {},
      "outputs": [],
      "source": [
        "import { ChatCerebras } from \"@langchain/cerebras\" \n",
        "\n",
        "const llm = new ChatCerebras({\n",
        "    model: \"llama-3.3-70b\",\n",
        "    temperature: 0,\n",
        "    maxTokens: undefined,\n",
        "    maxRetries: 2,\n",
        "    // other params...\n",
        "})"
      ]
    },
    {
      "cell_type": "markdown",
      "id": "2b4f3e15",
      "metadata": {},
      "source": [
        "## 调用"
      ]
    },
    {
      "cell_type": "code",
      "execution_count": 3,
      "id": "62e0dbc3",
      "metadata": {
        "tags": []
      },
      "outputs": [
        {
          "name": "stdout",
          "output_type": "stream",
          "text": [
            "AIMessage {\n",
            "  \"id\": \"run-17c7d62d-67ac-4677-b33a-18298fc85e35\",\n",
            "  \"content\": \"J'adore la programmation.\",\n",
            "  \"additional_kwargs\": {},\n",
            "  \"response_metadata\": {\n",
            "    \"id\": \"chatcmpl-2d1e2de5-4239-46fb-af2a-6200d89d7dde\",\n",
            "    \"created\": 1735785598,\n",
            "    \"model\": \"llama-3.3-70b\",\n",
            "    \"system_fingerprint\": \"fp_2e2a2a083c\",\n",
            "    \"object\": \"chat.completion\",\n",
            "    \"time_info\": {\n",
            "      \"queue_time\": 0.00009063,\n",
            "      \"prompt_time\": 0.002163031,\n",
            "      \"completion_time\": 0.012339628,\n",
            "      \"total_time\": 0.01640915870666504,\n",
            "      \"created\": 1735785598\n",
            "    }\n",
            "  },\n",
            "  \"tool_calls\": [],\n",
            "  \"invalid_tool_calls\": [],\n",
            "  \"usage_metadata\": {\n",
            "    \"input_tokens\": 55,\n",
            "    \"output_tokens\": 9,\n",
            "    \"total_tokens\": 64\n",
            "  }\n",
            "}\n"
          ]
        }
      ],
      "source": [
        "const aiMsg = await llm.invoke([\n",
        "    {\n",
        "      role: \"system\",\n",
        "      content: \"You are a helpful assistant that translates English to French. Translate the user sentence.\",\n",
        "    },\n",
        "    { role: \"user\", content: \"I love programming.\" },\n",
        "])\n",
        "aiMsg"
      ]
    },
    {
      "cell_type": "code",
      "execution_count": 4,
      "id": "d86145b3-bfef-46e8-b227-4dda5c9c2705",
      "metadata": {},
      "outputs": [
        {
          "name": "stdout",
          "output_type": "stream",
          "text": [
            "J'adore la programmation.\n"
          ]
        }
      ],
      "source": [
        "console.log(aiMsg.content)"
      ]
    },
    {
      "cell_type": "markdown",
      "id": "ce0414fe",
      "metadata": {},
      "source": [
        "## JSON 调用"
      ]
    },
    {
      "cell_type": "code",
      "execution_count": 5,
      "id": "3f0a7a2a",
      "metadata": {},
      "outputs": [
        {
          "name": "stdout",
          "output_type": "stream",
          "text": [
            "{ aiInvokeMsgContent: '{\"result\":4}', aiBindMsg: '{\"result\":4}' }\n"
          ]
        }
      ],
      "source": [
        "const messages = [\n",
        "  {\n",
        "    role: \"system\",\n",
        "    content: \"You are a math tutor that handles math exercises and makes output in json in format { result: number }.\",\n",
        "  },\n",
        "  { role: \"user\",  content: \"2 + 2\" },\n",
        "];\n",
        "\n",
        "const aiInvokeMsg = await llm.invoke(messages, { response_format: { type: \"json_object\" } });\n",
        "\n",
        "// if you want not to pass response_format in every invoke, you can bind it to the instance\n",
        "const llmWithResponseFormat = llm.bind({ response_format: { type: \"json_object\" } });\n",
        "const aiBindMsg = await llmWithResponseFormat.invoke(messages);\n",
        "\n",
        "// they are the same\n",
        "console.log({ aiInvokeMsgContent: aiInvokeMsg.content, aiBindMsg: aiBindMsg.content });"
      ]
    },
    {
      "cell_type": "markdown",
      "id": "18e2bfc0-7e78-4528-a73f-499ac150dca8",
      "metadata": {},
      "source": [
        "## 链式调用\n",
        "\n",
        "我们可以像这样将模型与提示模板进行[链式调用](/docs/how_to/sequence/)："
      ]
    },
    {
      "cell_type": "code",
      "execution_count": 6,
      "id": "e197d1d7-a070-4c96-9f8a-a0e86d046e0b",
      "metadata": {},
      "outputs": [
        {
          "name": "stdout",
          "output_type": "stream",
          "text": [
            "AIMessage {\n",
            "  \"id\": \"run-5c8a9f25-0f57-499b-9c2b-87bd07135feb\",\n",
            "  \"content\": \"Ich liebe das Programmieren.\",\n",
            "  \"additional_kwargs\": {},\n",
            "  \"response_metadata\": {\n",
            "    \"id\": \"chatcmpl-abd1e9eb-b873-492e-9e30-0d13dfc3a145\",\n",
            "    \"created\": 1735785607,\n",
            "    \"model\": \"llama-3.3-70b\",\n",
            "    \"system_fingerprint\": \"fp_2e2a2a083c\",\n",
            "    \"object\": \"chat.completion\",\n",
            "    \"time_info\": {\n",
            "      \"queue_time\": 0.00009499,\n",
            "      \"prompt_time\": 0.002095266,\n",
            "      \"completion_time\": 0.008807576,\n",
            "      \"total_time\": 0.012718439102172852,\n",
            "      \"created\": 1735785607\n",
            "    }\n",
            "  },\n",
            "  \"tool_calls\": [],\n",
            "  \"invalid_tool_calls\": [],\n",
            "  \"usage_metadata\": {\n",
            "    \"input_tokens\": 50,\n",
            "    \"output_tokens\": 7,\n",
            "    \"total_tokens\": 57\n",
            "  }\n",
            "}\n"
          ]
        }
      ],
      "source": [
        "import { ChatPromptTemplate } from \"@langchain/core/prompts\"\n",
        "\n",
        "const prompt = ChatPromptTemplate.fromMessages(\n",
        "    [\n",
        "        [\n",
        "            \"system\",\n",
        "            \"You are a helpful assistant that translates {input_language} to {output_language}.\",\n",
        "        ],\n",
        "        [\"human\", \"{input}\"],\n",
        "    ]\n",
        ")\n",
        "\n",
        "const chain = prompt.pipe(llm);\n",
        "await chain.invoke(\n",
        "    {\n",
        "        input_language: \"English\",\n",
        "        output_language: \"German\",\n",
        "        input: \"I love programming.\",\n",
        "    }\n",
        ")"
      ]
    },
    {
      "cell_type": "markdown",
      "id": "3a5bb5ca-c3ae-4a58-be67-2cd18574b9a3",
      "metadata": {},
      "source": [
        "## API 参考文档\n",
        "\n",
        "如需了解 ChatCerebras 所有功能和配置的详细文档，请访问 API 参考页面: https://api.js.langchain.com/classes/_langchain_cerebras.ChatCerebras.html"
      ]
    }
  ],
  "metadata": {
    "kernelspec": {
      "display_name": "TypeScript",
      "language": "typescript",
      "name": "tslab"
    },
    "language_info": {
      "codemirror_mode": {
        "mode": "typescript",
        "name": "javascript",
        "typescript": true
      },
      "file_extension": ".ts",
      "mimetype": "text/typescript",
      "name": "typescript",
      "version": "3.7.2"
    }
  },
  "nbformat": 4,
  "nbformat_minor": 5
}