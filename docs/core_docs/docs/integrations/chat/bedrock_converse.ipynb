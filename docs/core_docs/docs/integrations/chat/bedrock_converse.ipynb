{
  "cells": [
    {
      "cell_type": "raw",
      "id": "afaf8039",
      "metadata": {
        "vscode": {
          "languageId": "raw"
        }
      },
      "source": [
        "---\n",
        "sidebar_label: Amazon Bedrock Converse\n",
        "---"
      ]
    },
    {
      "cell_type": "markdown",
      "id": "e49f1e0d",
      "metadata": {},
      "source": [
        "# ChatBedrockConverse\n",
        "\n",
        "[Amazon Bedrock Converse](https://docs.aws.amazon.com/bedrock/latest/APIReference/API_runtime_Converse.html) 是一项完全托管的服务，它通过 API 提供来自领先 AI 初创公司和亚马逊的基础模型 (FM)。您可以从广泛的基础模型中进行选择，找到最适合您使用场景的模型。它为 Bedrock 模型提供了一个统一的对话接口，但尚未实现与旧版 [Bedrock 模型服务](/docs/integrations/chat/bedrock) 中所有功能的功能对等。\n",
        "\n",
        "这将帮助您开始使用 Amazon Bedrock Converse 的 [聊天模型](/docs/concepts/chat_models)。如需了解所有 `ChatBedrockConverse` 功能和配置的详细文档，请前往 [API 参考](https://api.js.langchain.com/classes/langchain_aws.ChatBedrockConverse.html)。\n",
        "\n",
        "## 概览\n",
        "### 集成详情\n",
        "\n",
        "| 类 | 包 | 本地 | 可序列化 | [PY 支持](https://python.langchain.com/docs/integrations/chat/bedrock/#beta-bedrock-converse-api) | 包下载量 | 最新包 |\n",
        "| :--- | :--- | :---: | :---: |  :---: | :---: | :---: |\n",
        "| [`ChatBedrockConverse`](https://api.js.langchain.com/classes/langchain_aws.ChatBedrockConverse.html) | [`@langchain/aws`](https://npmjs.com/@langchain/aws) | ❌ | ✅ | ✅ | ![NPM - 下载量](https://img.shields.io/npm/dm/@langchain/aws?style=flat-square&label=%20&) | ![NPM - 版本](https://img.shields.io/npm/v/@langchain/aws?style=flat-square&label=%20&) |\n",
        "\n",
        "### 模型功能\n",
        "\n",
        "有关如何使用特定功能的指南，请参阅下表标题中的链接。\n",
        "\n",
        "| [工具调用](/docs/how_to/tool_calling) | [结构化输出](/docs/how_to/structured_output/) | JSON 模式 | [图像输入](/docs/how_to/multimodal_inputs/) | 音频输入 | 视频输入 | [逐 token 流式传输](/docs/how_to/chat_streaming/) | [token 使用量](/docs/how_to/chat_token_usage_tracking/) | [Logprobs](/docs/how_to/logprobs/) |\n",
        "| :---: | :---: | :---: | :---: |  :---: | :---: | :---: | :---: | :---: |\n",
        "| ✅ | ✅ | ❌ | ✅ | ❌ | ❌ | ✅ | ✅ | ❌ | \n",
        "\n",
        "## 安装设置\n",
        "\n",
        "要访问 Bedrock 模型，您需要创建一个 AWS 账户，设置 Bedrock API 服务，获取访问密钥 ID 和密钥，并安装 `@langchain/community` 集成包。\n",
        "\n",
        "### 凭证\n",
        "\n",
        "前往 [AWS 文档](https://docs.aws.amazon.com/bedrock/latest/userguide/getting-started.html) 注册 AWS 并设置您的凭证。您还需要为您的账户启用模型访问权限，可以通过 [按照这些说明操作](https://docs.aws.amazon.com/bedrock/latest/userguide/model-access.html) 来完成。\n",
        "\n",
        "如果您希望自动跟踪模型调用，您也可以取消下面的注释来设置您的 [LangSmith](https://docs.smith.langchain.com/) API 密钥：\n",
        "\n",
        "```bash\n",
        "# export LANGSMITH_TRACING=\"true\"\n",
        "# export LANGSMITH_API_KEY=\"your-api-key\"\n",
        "```\n",
        "\n",
        "### 安装\n",
        "\n",
        "LangChain 的 `ChatBedrockConverse` 集成位于 `@langchain/aws` 包中：\n",
        "\n",
        "```{=mdx}\n",
        "import IntegrationInstallTooltip from \"@mdx_components/integration_install_tooltip.mdx\";\n",
        "import Npm2Yarn from \"@theme/Npm2Yarn\";\n",
        "\n",
        "<IntegrationInstallTooltip></IntegrationInstallTooltip>\n",
        "\n",
        "<Npm2Yarn>\n",
        "  @langchain/aws @langchain/core\n",
        "</Npm2Yarn>\n",
        "\n",
        "```"
      ]
    },
    {
      "cell_type": "markdown",
      "id": "a38cde65-254d-4219-a441-068766c0d4b5",
      "metadata": {},
      "source": [
        "## 实例化\n",
        "\n",
        "现在我们可以实例化我们的模型对象并生成聊天补全。\n",
        "\n",
        "有几种不同的方式可以与AWS进行身份验证——以下示例依赖于在环境变量中设置的访问密钥、秘密访问密钥和区域："
      ]
    },
    {
      "cell_type": "code",
      "execution_count": 1,
      "id": "cb09c344-1836-4e0c-acf8-11d13ac1dbae",
      "metadata": {},
      "outputs": [],
      "source": [
        "import { ChatBedrockConverse } from \"@langchain/aws\";\n",
        "\n",
        "const llm = new ChatBedrockConverse({\n",
        "  model: \"anthropic.claude-3-5-sonnet-20240620-v1:0\",\n",
        "  region: process.env.BEDROCK_AWS_REGION,\n",
        "  credentials: {\n",
        "    accessKeyId: process.env.BEDROCK_AWS_ACCESS_KEY_ID!,\n",
        "    secretAccessKey: process.env.BEDROCK_AWS_SECRET_ACCESS_KEY!,\n",
        "  },\n",
        "});"
      ]
    },
    {
      "cell_type": "markdown",
      "id": "2b4f3e15",
      "metadata": {},
      "source": [
        "## 调用"
      ]
    },
    {
      "cell_type": "code",
      "execution_count": 2,
      "id": "62e0dbc3",
      "metadata": {
        "tags": []
      },
      "outputs": [
        {
          "name": "stdout",
          "output_type": "stream",
          "text": [
            "AIMessage {\n",
            "  \"id\": \"f5dc5791-224e-4fe5-ba2e-4cc51d9e7795\",\n",
            "  \"content\": \"J'adore la programmation.\",\n",
            "  \"additional_kwargs\": {},\n",
            "  \"response_metadata\": {\n",
            "    \"$metadata\": {\n",
            "      \"httpStatusCode\": 200,\n",
            "      \"requestId\": \"f5dc5791-224e-4fe5-ba2e-4cc51d9e7795\",\n",
            "      \"attempts\": 1,\n",
            "      \"totalRetryDelay\": 0\n",
            "    },\n",
            "    \"metrics\": {\n",
            "      \"latencyMs\": 584\n",
            "    },\n",
            "    \"stopReason\": \"end_turn\",\n",
            "    \"usage\": {\n",
            "      \"inputTokens\": 29,\n",
            "      \"outputTokens\": 11,\n",
            "      \"totalTokens\": 40\n",
            "    }\n",
            "  },\n",
            "  \"tool_calls\": [],\n",
            "  \"invalid_tool_calls\": [],\n",
            "  \"usage_metadata\": {\n",
            "    \"input_tokens\": 29,\n",
            "    \"output_tokens\": 11,\n",
            "    \"total_tokens\": 40\n",
            "  }\n",
            "}\n"
          ]
        }
      ],
      "source": [
        "const aiMsg = await llm.invoke([\n",
        "  [\n",
        "    \"system\",\n",
        "    \"You are a helpful assistant that translates English to French. Translate the user sentence.\",\n",
        "  ],\n",
        "  [\"human\", \"I love programming.\"],\n",
        "])\n",
        "aiMsg"
      ]
    },
    {
      "cell_type": "code",
      "execution_count": 3,
      "id": "d86145b3-bfef-46e8-b227-4dda5c9c2705",
      "metadata": {},
      "outputs": [
        {
          "name": "stdout",
          "output_type": "stream",
          "text": [
            "J'adore la programmation.\n"
          ]
        }
      ],
      "source": [
        "console.log(aiMsg.content)"
      ]
    },
    {
      "cell_type": "markdown",
      "id": "18e2bfc0-7e78-4528-a73f-499ac150dca8",
      "metadata": {},
      "source": [
        "## 链式调用\n",
        "\n",
        "我们可以像这样将模型与提示模板进行[链式调用](/docs/how_to/sequence/)："
      ]
    },
    {
      "cell_type": "code",
      "execution_count": 4,
      "id": "e197d1d7-a070-4c96-9f8a-a0e86d046e0b",
      "metadata": {},
      "outputs": [
        {
          "name": "stdout",
          "output_type": "stream",
          "text": [
            "AIMessage {\n",
            "  \"id\": \"c6401e11-8f85-4a71-8e15-4856d55aef78\",\n",
            "  \"content\": \"Here's the German translation:\\n\\nIch liebe Programmieren.\",\n",
            "  \"additional_kwargs\": {},\n",
            "  \"response_metadata\": {\n",
            "    \"$metadata\": {\n",
            "      \"httpStatusCode\": 200,\n",
            "      \"requestId\": \"c6401e11-8f85-4a71-8e15-4856d55aef78\",\n",
            "      \"attempts\": 1,\n",
            "      \"totalRetryDelay\": 0\n",
            "    },\n",
            "    \"metrics\": {\n",
            "      \"latencyMs\": 760\n",
            "    },\n",
            "    \"stopReason\": \"end_turn\",\n",
            "    \"usage\": {\n",
            "      \"inputTokens\": 23,\n",
            "      \"outputTokens\": 18,\n",
            "      \"totalTokens\": 41\n",
            "    }\n",
            "  },\n",
            "  \"tool_calls\": [],\n",
            "  \"invalid_tool_calls\": [],\n",
            "  \"usage_metadata\": {\n",
            "    \"input_tokens\": 23,\n",
            "    \"output_tokens\": 18,\n",
            "    \"total_tokens\": 41\n",
            "  }\n",
            "}\n"
          ]
        }
      ],
      "source": [
        "import { ChatPromptTemplate } from \"@langchain/core/prompts\"\n",
        "\n",
        "const prompt = ChatPromptTemplate.fromMessages(\n",
        "  [\n",
        "    [\n",
        "      \"system\",\n",
        "      \"You are a helpful assistant that translates {input_language} to {output_language}.\",\n",
        "    ],\n",
        "    [\"human\", \"{input}\"],\n",
        "  ]\n",
        ")\n",
        "\n",
        "const chain = prompt.pipe(llm);\n",
        "await chain.invoke(\n",
        "  {\n",
        "    input_language: \"English\",\n",
        "    output_language: \"German\",\n",
        "    input: \"I love programming.\",\n",
        "  }\n",
        ")"
      ]
    },
    {
      "cell_type": "markdown",
      "id": "d1ee55bc-ffc8-4cfa-801c-993953a08cfd",
      "metadata": {},
      "source": [
        "## 工具调用\n",
        "\n",
        "使用 Bedrock 模型进行工具调用的方式与其他模型类似，但请注意，并非所有 Bedrock 模型都支持工具调用。有关详细信息，请参阅 [AWS 模型文档](https://docs.aws.amazon.com/bedrock/latest/APIReference/welcome.html)。"
      ]
    },
    {
      "cell_type": "markdown",
      "id": "3a5bb5ca-c3ae-4a58-be67-2cd18574b9a3",
      "metadata": {},
      "source": [
        "## API 参考文档\n",
        "\n",
        "有关所有 `ChatBedrockConverse` 功能和配置的详细文档，请访问 API 参考页面: https://api.js.langchain.com/classes/langchain_aws.ChatBedrockConverse.html"
      ]
    }
  ],
  "metadata": {
    "kernelspec": {
      "display_name": "TypeScript",
      "language": "typescript",
      "name": "tslab"
    },
    "language_info": {
      "codemirror_mode": {
        "mode": "typescript",
        "name": "javascript",
        "typescript": true
      },
      "file_extension": ".ts",
      "mimetype": "text/typescript",
      "name": "typescript",
      "version": "3.7.2"
    }
  },
  "nbformat": 4,
  "nbformat_minor": 5
}