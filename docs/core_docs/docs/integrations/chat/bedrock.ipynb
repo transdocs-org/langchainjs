{
  "cells": [
    {
      "cell_type": "raw",
      "id": "afaf8039",
      "metadata": {
        "vscode": {
          "languageId": "raw"
        }
      },
      "source": [
        "---\n",
        "sidebar_label: Amazon Bedrock\n",
        "---"
      ]
    },
    {
      "cell_type": "markdown",
      "id": "e49f1e0d",
      "metadata": {},
      "source": [
        "# BedrockChat\n",
        "\n",
        "[Amazon Bedrock](https://aws.amazon.com/bedrock/) 是一项完全托管的服务，通过单一的API提供来自AI21 Labs、Anthropic、Cohere、Meta、Stability AI和Amazon等领先AI公司的高性能基础模型（FMs）选择，并提供广泛的功能，以帮助您在保障安全、隐私和负责任的人工智能前提下构建生成式AI应用。\n",
        "\n",
        "这将帮助您开始使用 Amazon Bedrock 的 [聊天模型](/docs/concepts/chat_models)。如需查看所有 `BedrockChat` 功能和配置的详细文档，请前往 [API 参考](https://api.js.langchain.com/classes/langchain_community_chat_models_bedrock.BedrockChat.html)。\n",
        "\n",
        "```{=mdx}\n",
        ":::tip\n",
        "新的 [`ChatBedrockConverse` 聊天模型现在可通过专用的 `@langchain/aws`](/docs/integrations/chat/bedrock_converse) 集成包使用。使用此包可以与更多模型一起进行[工具调用](/docs/concepts/tool_calling)。\n",
        ":::\n",
        "```\n",
        "\n",
        "## 概述\n",
        "### 集成详情\n",
        "\n",
        "| 类别 | 包 | 本地 | 可序列化 | [Python 支持](https://python.langchain.com/docs/integrations/chat/bedrock/) | 包下载量 | 最新包 |\n",
        "| :--- | :--- | :---: | :---: |  :---: | :---: | :---: |\n",
        "| [`BedrockChat`](https://api.js.langchain.com/classes/langchain_community_chat_models_bedrock.BedrockChat.html) | [`@langchain/community`](https://npmjs.com/@langchain/community) | ❌ | ✅ | ✅ | ![NPM - 下载量](https://img.shields.io/npm/dm/@langchain/community?style=flat-square&label=%20&) | ![NPM - 版本](https://img.shields.io/npm/v/@langchain/community?style=flat-square&label=%20&) |\n",
        "\n",
        "### 模型特性\n",
        "\n",
        "请参见下表表头中的链接，了解如何使用特定功能。\n",
        "\n",
        "| [工具调用](/docs/how_to/tool_calling) | [结构化输出](/docs/how_to/structured_output/) | JSON 模式 | [图像输入](/docs/how_to/multimodal_inputs/) | 音频输入 | 视频输入 | [逐字令牌流](/docs/how_to/chat_streaming/) | [令牌使用情况](/docs/how_to/chat_token_usage_tracking/) | [对数概率](/docs/how_to/logprobs/) |\n",
        "| :---: | :---: | :---: | :---: |  :---: | :---: | :---: | :---: | :---: |\n",
        "| ✅ | ✅ | ❌ | ✅ | ❌ | ❌ | ✅ | ✅ | ❌ | \n",
        "\n",
        "## 准备工作\n",
        "\n",
        "要访问 Bedrock 模型，您需要创建一个 AWS 账户，设置 Bedrock API 服务，获取访问密钥 ID 和密钥，并安装 `@langchain/community` 集成包。\n",
        "\n",
        "### 凭证信息\n",
        "\n",
        "前往 [AWS 文档](https://docs.aws.amazon.com/bedrock/latest/userguide/getting-started.html) 注册 AWS 并设置您的凭证。您还需要为账户启用模型访问权限，可以通过 [按照这些说明操作](https://docs.aws.amazon.com/bedrock/latest/userguide/model-access.html) 来实现。\n",
        "\n",
        "如果您希望自动追踪模型调用，您还可以取消以下内容的注释并设置您的 [LangSmith](https://docs.smith.langchain.com/) API 密钥：\n",
        "\n",
        "```bash\n",
        "# export LANGSMITH_TRACING=\"true\"\n",
        "# export LANGSMITH_API_KEY=\"your-api-key\"\n",
        "```\n",
        "\n",
        "### 安装\n",
        "\n",
        "LangChain 的 `BedrockChat` 集成位于 `@langchain/community` 包中。您还需要安装几个官方的 AWS 包作为对等依赖项：\n",
        "\n",
        "```{=mdx}\n",
        "import IntegrationInstallTooltip from \"@mdx_components/integration_install_tooltip.mdx\";\n",
        "import Npm2Yarn from \"@theme/Npm2Yarn\";\n",
        "\n",
        "<IntegrationInstallTooltip></IntegrationInstallTooltip>\n",
        "\n",
        "<Npm2Yarn>\n",
        "  @langchain/community @langchain/core @aws-crypto/sha256-js @aws-sdk/credential-provider-node @smithy/protocol-http @smithy/signature-v4 @smithy/eventstream-codec @smithy/util-utf8 @aws-sdk/types\n",
        "</Npm2Yarn>\n",
        "```\n",
        "\n",
        "您还可以在 Web 环境（例如 Edge 函数或 Cloudflare Workers）中使用 BedrockChat，方法是省略 @aws-sdk/credential-provider-node 依赖项并使用 Web 入口点：\n",
        "\n",
        "```{=mdx}\n",
        "<IntegrationInstallTooltip></IntegrationInstallTooltip>\n",
        "\n",
        "<Npm2Yarn>\n",
        "  @langchain/community @langchain/core @aws-crypto/sha256-js @smithy/protocol-http @smithy/signature-v4 @smithy/eventstream-codec @smithy/util-utf8 @aws-sdk/types\n",
        "</Npm2Yarn>\n",
        "\n",
        "```"
      ]
    },
    {
      "cell_type": "markdown",
      "id": "a38cde65-254d-4219-a441-068766c0d4b5",
      "metadata": {},
      "source": [
        "## 实例化\n",
        "\n",
        "目前，只有 Anthropic、Cohere 和 Mistral 模型支持与聊天模型的集成。对于来自 AI21 或 Amazon 的基础模型，请参阅 [文本生成 Bedrock 变体](/docs/integrations/llms/bedrock/)。\n",
        "\n",
        "有几种不同的方式可以与 AWS 进行身份验证——以下示例依赖于在环境变量中设置的访问密钥、秘密访问密钥和区域："
      ]
    },
    {
      "cell_type": "code",
      "execution_count": 1,
      "id": "cb09c344-1836-4e0c-acf8-11d13ac1dbae",
      "metadata": {},
      "outputs": [],
      "source": [
        "import { BedrockChat } from \"@langchain/community/chat_models/bedrock\";\n",
        "\n",
        "const llm = new BedrockChat({\n",
        "  model: \"anthropic.claude-3-5-sonnet-20240620-v1:0\",\n",
        "  region: process.env.BEDROCK_AWS_REGION,\n",
        "  credentials: {\n",
        "    accessKeyId: process.env.BEDROCK_AWS_ACCESS_KEY_ID!,\n",
        "    secretAccessKey: process.env.BEDROCK_AWS_SECRET_ACCESS_KEY!,\n",
        "  },\n",
        "  // endpointUrl: \"custom.amazonaws.com\",\n",
        "  // modelKwargs: {\n",
        "  //   anthropic_version: \"bedrock-2023-05-31\",\n",
        "  // },\n",
        "});"
      ]
    },
    {
      "cell_type": "markdown",
      "id": "2b4f3e15",
      "metadata": {},
      "source": [
        "## 调用"
      ]
    },
    {
      "cell_type": "code",
      "execution_count": 2,
      "id": "62e0dbc3",
      "metadata": {
        "tags": []
      },
      "outputs": [
        {
          "name": "stdout",
          "output_type": "stream",
          "text": [
            "AIMessage {\n",
            "  \"content\": \"J'adore la programmation.\",\n",
            "  \"additional_kwargs\": {\n",
            "    \"id\": \"msg_bdrk_01RwhfuWkLLcp7ks1X3u8bwd\"\n",
            "  },\n",
            "  \"response_metadata\": {\n",
            "    \"type\": \"message\",\n",
            "    \"role\": \"assistant\",\n",
            "    \"model\": \"claude-3-5-sonnet-20240620\",\n",
            "    \"stop_reason\": \"end_turn\",\n",
            "    \"stop_sequence\": null,\n",
            "    \"usage\": {\n",
            "      \"input_tokens\": 29,\n",
            "      \"output_tokens\": 11\n",
            "    }\n",
            "  },\n",
            "  \"tool_calls\": [],\n",
            "  \"invalid_tool_calls\": []\n",
            "}\n"
          ]
        }
      ],
      "source": [
        "const aiMsg = await llm.invoke([\n",
        "  [\n",
        "    \"system\",\n",
        "    \"You are a helpful assistant that translates English to French. Translate the user sentence.\",\n",
        "  ],\n",
        "  [\"human\", \"I love programming.\"],\n",
        "])\n",
        "aiMsg"
      ]
    },
    {
      "cell_type": "code",
      "execution_count": 3,
      "id": "d86145b3-bfef-46e8-b227-4dda5c9c2705",
      "metadata": {},
      "outputs": [
        {
          "name": "stdout",
          "output_type": "stream",
          "text": [
            "J'adore la programmation.\n"
          ]
        }
      ],
      "source": [
        "console.log(aiMsg.content)"
      ]
    },
    {
      "cell_type": "markdown",
      "id": "18e2bfc0-7e78-4528-a73f-499ac150dca8",
      "metadata": {},
      "source": [
        "## 链式调用\n",
        "\n",
        "我们可以像这样将模型与提示模板进行[链式调用](/docs/how_to/sequence/)："
      ]
    },
    {
      "cell_type": "code",
      "execution_count": 4,
      "id": "e197d1d7-a070-4c96-9f8a-a0e86d046e0b",
      "metadata": {},
      "outputs": [
        {
          "name": "stdout",
          "output_type": "stream",
          "text": [
            "AIMessage {\n",
            "  \"content\": \"Here's the German translation:\\n\\nIch liebe Programmieren.\",\n",
            "  \"additional_kwargs\": {\n",
            "    \"id\": \"msg_bdrk_01RtUH3qrYJPUdutYoxphFkv\"\n",
            "  },\n",
            "  \"response_metadata\": {\n",
            "    \"type\": \"message\",\n",
            "    \"role\": \"assistant\",\n",
            "    \"model\": \"claude-3-5-sonnet-20240620\",\n",
            "    \"stop_reason\": \"end_turn\",\n",
            "    \"stop_sequence\": null,\n",
            "    \"usage\": {\n",
            "      \"input_tokens\": 23,\n",
            "      \"output_tokens\": 18\n",
            "    }\n",
            "  },\n",
            "  \"tool_calls\": [],\n",
            "  \"invalid_tool_calls\": []\n",
            "}\n"
          ]
        }
      ],
      "source": [
        "import { ChatPromptTemplate } from \"@langchain/core/prompts\"\n",
        "\n",
        "const prompt = ChatPromptTemplate.fromMessages(\n",
        "  [\n",
        "    [\n",
        "      \"system\",\n",
        "      \"You are a helpful assistant that translates {input_language} to {output_language}.\",\n",
        "    ],\n",
        "    [\"human\", \"{input}\"],\n",
        "  ]\n",
        ")\n",
        "\n",
        "const chain = prompt.pipe(llm);\n",
        "await chain.invoke(\n",
        "  {\n",
        "    input_language: \"English\",\n",
        "    output_language: \"German\",\n",
        "    input: \"I love programming.\",\n",
        "  }\n",
        ")"
      ]
    },
    {
      "cell_type": "markdown",
      "id": "d1ee55bc-ffc8-4cfa-801c-993953a08cfd",
      "metadata": {},
      "source": [
        "## 工具调用\n",
        "\n",
        "使用 Bedrock 模型进行工具调用的工作方式与 [其他模型](/docs/how_to/tool_calling) 类似，但请注意并非所有 Bedrock 模型都支持工具调用。有关更多信息，请参考 [AWS 模型文档](https://docs.aws.amazon.com/bedrock/latest/APIReference/welcome.html)。"
      ]
    },
    {
      "cell_type": "markdown",
      "id": "3a5bb5ca-c3ae-4a58-be67-2cd18574b9a3",
      "metadata": {},
      "source": [
        "## API 参考文档\n",
        "\n",
        "如需详细了解所有 `BedrockChat` 功能和配置，请访问 API 参考文档：https://api.js.langchain.com/classes/langchain_community_chat_models_bedrock.BedrockChat.html"
      ]
    }
  ],
  "metadata": {
    "kernelspec": {
      "display_name": "TypeScript",
      "language": "typescript",
      "name": "tslab"
    },
    "language_info": {
      "codemirror_mode": {
        "mode": "typescript",
        "name": "javascript",
        "typescript": true
      },
      "file_extension": ".ts",
      "mimetype": "text/typescript",
      "name": "typescript",
      "version": "3.7.2"
    }
  },
  "nbformat": 4,
  "nbformat_minor": 5
}