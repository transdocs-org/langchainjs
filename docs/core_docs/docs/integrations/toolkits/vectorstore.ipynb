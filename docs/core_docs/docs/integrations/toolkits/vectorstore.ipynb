{
  "cells": [
    {
      "cell_type": "raw",
      "id": "afaf8039",
      "metadata": {
        "vscode": {
          "languageId": "raw"
        }
      },
      "source": [
        "---\n",
        "sidebar_label: VectorStore Toolkit\n",
        "---"
      ]
    },
    {
      "cell_type": "markdown",
      "id": "e49f1e0d",
      "metadata": {},
      "source": [
        "# 向量存储工具包\n",
        "\n",
        "这将帮助你快速入门 [VectorStoreToolkit](/docs/concepts/tools/#toolkits)。关于 VectorStoreToolkit 所有功能和配置的详细文档，请前往 [API 参考文档](https://api.js.langchain.com/classes/langchain.agents.VectorStoreToolkit.html)。\n",
        "\n",
        "`VectorStoreToolkit` 是一个工具包，它接收一个向量存储，并将其转换为一个工具，该工具可以被调用，也可以传递给 LLM、代理等。\n",
        "\n",
        "## 环境准备\n",
        "\n",
        "如果你想从各个工具的运行中获得自动追踪信息，也可以通过取消下面的注释来设置你的 [LangSmith](https://docs.smith.langchain.com/) API 密钥：\n",
        "\n",
        "```typescript\n",
        "process.env.LANGSMITH_TRACING=\"true\"\n",
        "process.env.LANGSMITH_API_KEY=\"your-api-key\"\n",
        "```\n",
        "\n",
        "### 安装\n",
        "\n",
        "这个工具包位于 `langchain` 包中：\n",
        "\n",
        "```{=mdx}\n",
        "import IntegrationInstallTooltip from \"@mdx_components/integration_install_tooltip.mdx\";\n",
        "import Npm2Yarn from \"@theme/Npm2Yarn\";\n",
        "\n",
        "<IntegrationInstallTooltip></IntegrationInstallTooltip>\n",
        "\n",
        "<Npm2Yarn>\n",
        "  langchain @langchain/core\n",
        "</Npm2Yarn>\n",
        "```"
      ]
    },
    {
      "cell_type": "markdown",
      "id": "a38cde65-254d-4219-a441-068766c0d4b5",
      "metadata": {},
      "source": [
        "## 实例化\n",
        "\n",
        "现在我们可以实例化我们的工具包。首先，我们需要定义在工具包中使用的LLM。\n",
        "\n",
        "```{=mdx}\n",
        "import ChatModelTabs from \"@theme/ChatModelTabs\";\n",
        "\n",
        "<ChatModelTabs customVarName=\"llm\" />\n",
        "```"
      ]
    },
    {
      "cell_type": "code",
      "execution_count": 1,
      "id": "79d116f5",
      "metadata": {},
      "outputs": [],
      "source": [
        "// @lc-docs-hide-cell\n",
        "\n",
        "import { ChatOpenAI } from \"@langchain/openai\";\n",
        "\n",
        "const llm = new ChatOpenAI({\n",
        "  model: \"gpt-4o-mini\",\n",
        "  temperature: 0,\n",
        "})"
      ]
    },
    {
      "cell_type": "code",
      "execution_count": 3,
      "id": "cb09c344-1836-4e0c-acf8-11d13ac1dbae",
      "metadata": {},
      "outputs": [],
      "source": [
        "import { VectorStoreToolkit, VectorStoreInfo } from \"langchain/agents/toolkits\"\n",
        "import { OpenAIEmbeddings } from \"@langchain/openai\"\n",
        "import { MemoryVectorStore } from \"langchain/vectorstores/memory\"\n",
        "import { RecursiveCharacterTextSplitter } from \"@langchain/textsplitters\";\n",
        "import fs from \"fs\";\n",
        "\n",
        "// Load a text file to use as our data source.\n",
        "const text = fs.readFileSync(\"../../../../../examples/state_of_the_union.txt\", \"utf8\");\n",
        "\n",
        "// Split the text into chunks before inserting to our store\n",
        "const textSplitter = new RecursiveCharacterTextSplitter({ chunkSize: 1000 });\n",
        "const docs = await textSplitter.createDocuments([text]);\n",
        "\n",
        "const vectorStore = await MemoryVectorStore.fromDocuments(docs, new OpenAIEmbeddings());\n",
        "\n",
        "const vectorStoreInfo: VectorStoreInfo = {\n",
        "  name: \"state_of_union_address\",\n",
        "  description: \"the most recent state of the Union address\",\n",
        "  vectorStore,\n",
        "};\n",
        "\n",
        "const toolkit = new VectorStoreToolkit(vectorStoreInfo, llm);"
      ]
    },
    {
      "cell_type": "markdown",
      "id": "5c5f2839-4020-424e-9fc9-07777eede442",
      "metadata": {},
      "source": [
        "## 工具\n",
        "\n",
        "在这里，我们可以看到它将我们的向量存储转换为一个工具："
      ]
    },
    {
      "cell_type": "code",
      "execution_count": 4,
      "id": "51a60dbe-9f2e-4e04-bb62-23968f17164a",
      "metadata": {},
      "outputs": [
        {
          "name": "stdout",
          "output_type": "stream",
          "text": [
            "[\n",
            "  {\n",
            "    name: 'state_of_union_address',\n",
            "    description: 'Useful for when you need to answer questions about state_of_union_address. Whenever you need information about the most recent state of the Union address you should ALWAYS use this. Input should be a fully formed question.'\n",
            "  }\n",
            "]\n"
          ]
        }
      ],
      "source": [
        "const tools = toolkit.getTools();\n",
        "\n",
        "console.log(tools.map((tool) => ({\n",
        "  name: tool.name,\n",
        "  description: tool.description,\n",
        "})))"
      ]
    },
    {
      "cell_type": "markdown",
      "id": "dfe8aad4-8626-4330-98a9-7ea1ca5d2e0e",
      "metadata": {},
      "source": [
        "## 在智能体中使用\n",
        "\n",
        "首先，确保你已经安装了 LangGraph：\n",
        "\n",
        "```{=mdx}\n",
        "<Npm2Yarn>\n",
        "  @langchain/langgraph\n",
        "</Npm2Yarn>\n",
        "```\n",
        "\n",
        "然后，实例化智能体："
      ]
    },
    {
      "cell_type": "code",
      "execution_count": 6,
      "id": "310bf18e-6c9a-4072-b86e-47bc1fcca29d",
      "metadata": {},
      "outputs": [],
      "source": [
        "import { createReactAgent } from \"@langchain/langgraph/prebuilt\"\n",
        "\n",
        "const agentExecutor = createReactAgent({ llm, tools });"
      ]
    },
    {
      "cell_type": "code",
      "execution_count": 8,
      "id": "23e11cc9-abd6-4855-a7eb-799f45ca01ae",
      "metadata": {},
      "outputs": [
        {
          "name": "stdout",
          "output_type": "stream",
          "text": [
            "[\n",
            "  {\n",
            "    name: 'state_of_union_address',\n",
            "    args: {\n",
            "      input: 'What did Biden say about Ketanji Brown Jackson in the State of the Union address?'\n",
            "    },\n",
            "    type: 'tool_call',\n",
            "    id: 'call_glJSWLNrftKHa92A6j8x4jhd'\n",
            "  }\n",
            "]\n",
            "In the State of the Union address, Biden mentioned that he nominated Circuit Court of Appeals Judge Ketanji Brown Jackson, describing her as one of the nation’s top legal minds who will continue Justice Breyer’s legacy of excellence. He highlighted her background as a former top litigator in private practice, a former federal public defender, and noted that she comes from a family of public school educators and police officers. He also pointed out that she has received a broad range of support since her nomination.\n",
            "In the State of the Union address, President Biden spoke about Ketanji Brown Jackson, stating that he nominated her as one of the nation’s top legal minds who will continue Justice Breyer’s legacy of excellence. He highlighted her experience as a former top litigator in private practice and a federal public defender, as well as her background coming from a family of public school educators and police officers. Biden also noted that she has received a broad range of support since her nomination.\n"
          ]
        }
      ],
      "source": [
        "const exampleQuery = \"What did biden say about Ketanji Brown Jackson is the state of the union address?\"\n",
        "\n",
        "const events = await agentExecutor.stream(\n",
        "  { messages: [[\"user\", exampleQuery]]},\n",
        "  { streamMode: \"values\", }\n",
        ")\n",
        "\n",
        "for await (const event of events) {\n",
        "  const lastMsg = event.messages[event.messages.length - 1];\n",
        "  if (lastMsg.tool_calls?.length) {\n",
        "    console.dir(lastMsg.tool_calls, { depth: null });\n",
        "  } else if (lastMsg.content) {\n",
        "    console.log(lastMsg.content);\n",
        "  }\n",
        "}"
      ]
    },
    {
      "cell_type": "markdown",
      "id": "3a5bb5ca-c3ae-4a58-be67-2cd18574b9a3",
      "metadata": {},
      "source": [
        "## API 参考文档\n",
        "\n",
        "如需了解 VectorStoreToolkit 所有功能和配置的详细文档，请访问 [API 参考文档](https://api.js.langchain.com/classes/langchain.agents.VectorStoreToolkit.html)。"
      ]
    }
  ],
  "metadata": {
    "kernelspec": {
      "display_name": "TypeScript",
      "language": "typescript",
      "name": "tslab"
    },
    "language_info": {
      "codemirror_mode": {
        "mode": "typescript",
        "name": "javascript",
        "typescript": true
      },
      "file_extension": ".ts",
      "mimetype": "text/typescript",
      "name": "typescript",
      "version": "3.7.2"
    }
  },
  "nbformat": 4,
  "nbformat_minor": 5
}