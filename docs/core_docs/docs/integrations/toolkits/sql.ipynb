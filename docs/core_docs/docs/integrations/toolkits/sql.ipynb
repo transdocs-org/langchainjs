{
  "cells": [
    {
      "cell_type": "raw",
      "id": "afaf8039",
      "metadata": {
        "vscode": {
          "languageId": "raw"
        }
      },
      "source": [
        "---\n",
        "sidebar_label: Sql Toolkit\n",
        "---"
      ]
    },
    {
      "cell_type": "markdown",
      "id": "e49f1e0d",
      "metadata": {},
      "source": [
        "# SqlToolkit\n",
        "\n",
        "这将帮助你快速入门 [SqlToolkit](/docs/concepts/tools/#toolkits)。如需查看所有 SqlToolkit 功能和配置的详细文档，请访问 [API 参考文档](https://api.js.langchain.com/classes/langchain.agents_toolkits_sql.SqlToolkit.html)。你也可以在此处查看 Python 等效版本的文档 [这里](https://python.langchain.com/docs/integrations/toolkits/sql_database/)。\n",
        "\n",
        "此工具包包含以下工具：\n",
        "\n",
        "| 名称              | 描述                                                                                                                                                                                                                               |\n",
        "|-------------------|-------------------------------------------------------------------------------------------------------------------------------------------------------------------------------------------------------------------------------------------|\n",
        "| `query-sql`       | 此工具的输入是一个详细且正确的 SQL 查询，输出是数据库返回的结果。如果查询不正确，将返回一个错误消息。如果返回错误，请重写查询、检查查询并重试。                                                                                         |\n",
        "| `info-sql`        | 此工具的输入是一个逗号分隔的表名列表，输出是这些表的结构和示例行。请确保这些表确实存在，建议先调用 `list-tables-sql`！示例输入：\"table1, table2, table3\"。                                                                           |\n",
        "| `list-tables-sql` | 输入是一个空字符串，输出是数据库中所有表的逗号分隔列表。                                                                                                                                                                             |\n",
        "| `query-checker`   | 在执行查询之前，使用此工具再次检查查询是否正确。在使用 `query-sql` 执行查询之前，请务必始终使用此工具！                                                                                                                             |\n",
        "\n",
        "此工具包适用于在 SQL 数据库上进行提问、执行查询、验证查询等操作。\n",
        "\n",
        "## 设置\n",
        "\n",
        "本示例使用的是 Chinook 数据库，这是一个适用于 SQL Server、Oracle、MySQL 等的示例数据库。要设置它，请按照 [这些说明](https://database.guide/2-sample-databases-sqlite/) 操作，将 `.db` 文件放在你的代码所在目录。\n",
        "\n",
        "如果你想从各个工具的运行中获取自动化追踪信息，也可以通过取消注释以下内容来设置你的 [LangSmith](https://docs.smith.langchain.com/) API 密钥：\n",
        "\n",
        "```typescript\n",
        "process.env.LANGSMITH_TRACING=\"true\"\n",
        "process.env.LANGSMITH_API_KEY=\"your-api-key\"\n",
        "```\n",
        "\n",
        "### 安装\n",
        "\n",
        "此工具包位于 `langchain` 包中。你还需要安装 `typeorm` 这个对等依赖。\n",
        "\n",
        "```{=mdx}\n",
        "import IntegrationInstallTooltip from \"@mdx_components/integration_install_tooltip.mdx\";\n",
        "import Npm2Yarn from \"@theme/Npm2Yarn\";\n",
        "\n",
        "<IntegrationInstallTooltip></IntegrationInstallTooltip>\n",
        "\n",
        "<Npm2Yarn>\n",
        "  langchain @langchain/core typeorm\n",
        "</Npm2Yarn>\n",
        "```"
      ]
    },
    {
      "cell_type": "markdown",
      "id": "a38cde65-254d-4219-a441-068766c0d4b5",
      "metadata": {},
      "source": [
        "## 实例化\n",
        "\n",
        "首先，我们需要定义在工具包中要使用的LLM。\n",
        "\n",
        "```{=mdx}\n",
        "import ChatModelTabs from \"@theme/ChatModelTabs\";\n",
        "\n",
        "<ChatModelTabs customVarName=\"llm\" />\n",
        "```"
      ]
    },
    {
      "cell_type": "code",
      "execution_count": 8,
      "id": "d1002b65",
      "metadata": {},
      "outputs": [],
      "source": [
        "// @lc-docs-hide-cell\n",
        "\n",
        "import { ChatOpenAI } from \"@langchain/openai\";\n",
        "\n",
        "const llm = new ChatOpenAI({\n",
        "  model: \"gpt-4o-mini\",\n",
        "  temperature: 0,\n",
        "})"
      ]
    },
    {
      "cell_type": "code",
      "execution_count": 20,
      "id": "cb09c344-1836-4e0c-acf8-11d13ac1dbae",
      "metadata": {},
      "outputs": [],
      "source": [
        "import { SqlToolkit } from \"langchain/agents/toolkits/sql\"\n",
        "import { DataSource } from \"typeorm\";\n",
        "import { SqlDatabase } from \"langchain/sql_db\";\n",
        "\n",
        "const datasource = new DataSource({\n",
        "  type: \"sqlite\",\n",
        "  database: \"../../../../../../Chinook.db\", // Replace with the link to your database\n",
        "});\n",
        "const db = await SqlDatabase.fromDataSourceParams({\n",
        "  appDataSource: datasource,\n",
        "});\n",
        "\n",
        "const toolkit = new SqlToolkit(db, llm);"
      ]
    },
    {
      "cell_type": "markdown",
      "id": "5c5f2839-4020-424e-9fc9-07777eede442",
      "metadata": {},
      "source": [
        "## 工具\n",
        "\n",
        "查看可用工具："
      ]
    },
    {
      "cell_type": "code",
      "execution_count": 21,
      "id": "51a60dbe-9f2e-4e04-bb62-23968f17164a",
      "metadata": {},
      "outputs": [
        {
          "name": "stdout",
          "output_type": "stream",
          "text": [
            "[\n",
            "  {\n",
            "    name: 'query-sql',\n",
            "    description: 'Input to this tool is a detailed and correct SQL query, output is a result from the database.\\n' +\n",
            "      '  If the query is not correct, an error message will be returned.\\n' +\n",
            "      '  If an error is returned, rewrite the query, check the query, and try again.'\n",
            "  },\n",
            "  {\n",
            "    name: 'info-sql',\n",
            "    description: 'Input to this tool is a comma-separated list of tables, output is the schema and sample rows for those tables.\\n' +\n",
            "      '    Be sure that the tables actually exist by calling list-tables-sql first!\\n' +\n",
            "      '\\n' +\n",
            "      '    Example Input: \"table1, table2, table3.'\n",
            "  },\n",
            "  {\n",
            "    name: 'list-tables-sql',\n",
            "    description: 'Input is an empty string, output is a comma-separated list of tables in the database.'\n",
            "  },\n",
            "  {\n",
            "    name: 'query-checker',\n",
            "    description: 'Use this tool to double check if your query is correct before executing it.\\n' +\n",
            "      '    Always use this tool before executing a query with query-sql!'\n",
            "  }\n",
            "]\n"
          ]
        }
      ],
      "source": [
        "const tools = toolkit.getTools();\n",
        "\n",
        "console.log(tools.map((tool) => ({\n",
        "  name: tool.name,\n",
        "  description: tool.description,\n",
        "})))"
      ]
    },
    {
      "cell_type": "markdown",
      "id": "dfe8aad4-8626-4330-98a9-7ea1ca5d2e0e",
      "metadata": {},
      "source": [
        "## 在智能体中使用\n",
        "\n",
        "首先，确保你已安装 LangGraph：\n",
        "\n",
        "```{=mdx}\n",
        "<Npm2Yarn>\n",
        "  @langchain/langgraph\n",
        "</Npm2Yarn>\n",
        "```"
      ]
    },
    {
      "cell_type": "code",
      "execution_count": 22,
      "id": "310bf18e-6c9a-4072-b86e-47bc1fcca29d",
      "metadata": {},
      "outputs": [],
      "source": [
        "import { createReactAgent } from \"@langchain/langgraph/prebuilt\"\n",
        "\n",
        "const agentExecutor = createReactAgent({ llm, tools });"
      ]
    },
    {
      "cell_type": "code",
      "execution_count": 26,
      "id": "23e11cc9-abd6-4855-a7eb-799f45ca01ae",
      "metadata": {},
      "outputs": [
        {
          "name": "stdout",
          "output_type": "stream",
          "text": [
            "[\n",
            "  {\n",
            "    name: 'list-tables-sql',\n",
            "    args: {},\n",
            "    type: 'tool_call',\n",
            "    id: 'call_LqsRA86SsKmzhRfSRekIQtff'\n",
            "  }\n",
            "]\n",
            "Album, Artist, Customer, Employee, Genre, Invoice, InvoiceLine, MediaType, Playlist, PlaylistTrack, Track\n",
            "[\n",
            "  {\n",
            "    name: 'query-checker',\n",
            "    args: { input: 'SELECT * FROM Artist LIMIT 10;' },\n",
            "    type: 'tool_call',\n",
            "    id: 'call_MKBCjt4gKhl5UpnjsMHmDrBH'\n",
            "  }\n",
            "]\n",
            "The SQL query you provided is:\n",
            "\n",
            "```sql\n",
            "SELECT * FROM Artist LIMIT 10;\n",
            "```\n",
            "\n",
            "This query is straightforward and does not contain any of the common mistakes listed. It simply selects all columns from the `Artist` table and limits the result to 10 rows. \n",
            "\n",
            "Therefore, there are no mistakes to correct, and the original query can be reproduced as is:\n",
            "\n",
            "```sql\n",
            "SELECT * FROM Artist LIMIT 10;\n",
            "```\n",
            "[\n",
            "  {\n",
            "    name: 'query-sql',\n",
            "    args: { input: 'SELECT * FROM Artist LIMIT 10;' },\n",
            "    type: 'tool_call',\n",
            "    id: 'call_a8MPiqXPMaN6yjN9i7rJctJo'\n",
            "  }\n",
            "]\n",
            "[{\"ArtistId\":1,\"Name\":\"AC/DC\"},{\"ArtistId\":2,\"Name\":\"Accept\"},{\"ArtistId\":3,\"Name\":\"Aerosmith\"},{\"ArtistId\":4,\"Name\":\"Alanis Morissette\"},{\"ArtistId\":5,\"Name\":\"Alice In Chains\"},{\"ArtistId\":6,\"Name\":\"Antônio Carlos Jobim\"},{\"ArtistId\":7,\"Name\":\"Apocalyptica\"},{\"ArtistId\":8,\"Name\":\"Audioslave\"},{\"ArtistId\":9,\"Name\":\"BackBeat\"},{\"ArtistId\":10,\"Name\":\"Billy Cobham\"}]\n",
            "Here are 10 artists from your database:\n",
            "\n",
            "1. AC/DC\n",
            "2. Accept\n",
            "3. Aerosmith\n",
            "4. Alanis Morissette\n",
            "5. Alice In Chains\n",
            "6. Antônio Carlos Jobim\n",
            "7. Apocalyptica\n",
            "8. Audioslave\n",
            "9. BackBeat\n",
            "10. Billy Cobham\n"
          ]
        }
      ],
      "source": [
        "const exampleQuery = \"Can you list 10 artists from my database?\"\n",
        "\n",
        "const events = await agentExecutor.stream(\n",
        "  { messages: [[\"user\", exampleQuery]]},\n",
        "  { streamMode: \"values\", }\n",
        ")\n",
        "\n",
        "for await (const event of events) {\n",
        "  const lastMsg = event.messages[event.messages.length - 1];\n",
        "  if (lastMsg.tool_calls?.length) {\n",
        "    console.dir(lastMsg.tool_calls, { depth: null });\n",
        "  } else if (lastMsg.content) {\n",
        "    console.log(lastMsg.content);\n",
        "  }\n",
        "}"
      ]
    },
    {
      "cell_type": "markdown",
      "id": "3a5bb5ca-c3ae-4a58-be67-2cd18574b9a3",
      "metadata": {},
      "source": [
        "## API 参考文档\n",
        "\n",
        "如需了解 SqlToolkit 所有功能和配置的详细文档，请访问 [API 参考文档](https://api.js.langchain.com/classes/langchain.agents_toolkits_sql.SqlToolkit.html)。"
      ]
    }
  ],
  "metadata": {
    "kernelspec": {
      "display_name": "TypeScript",
      "language": "typescript",
      "name": "tslab"
    },
    "language_info": {
      "codemirror_mode": {
        "mode": "typescript",
        "name": "javascript",
        "typescript": true
      },
      "file_extension": ".ts",
      "mimetype": "text/typescript",
      "name": "typescript",
      "version": "3.7.2"
    }
  },
  "nbformat": 4,
  "nbformat_minor": 5
}