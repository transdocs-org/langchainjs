{
  "cells": [
    {
      "cell_type": "markdown",
      "metadata": {},
      "source": [
        "# BM25\n",
        "\n",
        "BM25，也称为 [Okapi BM25](https://zh.wikipedia.org/wiki/Okapi_BM25)，是信息检索系统中用于估计文档与给定搜索查询相关性的一种排序函数。\n",
        "\n",
        "你可以将其作为检索流程的一部分使用，在从其他来源检索到一组初始文档后，作为后处理步骤对文档进行重新排序。\n",
        "\n",
        "## 安装配置\n",
        "\n",
        "`BM25Retriever` 从 `@langchain/community` 中导出。你需要像下面这样安装它：\n",
        "\n",
        "```{=mdx}\n",
        "import IntegrationInstallTooltip from \"@mdx_components/integration_install_tooltip.mdx\";\n",
        "import Npm2Yarn from \"@theme/Npm2Yarn\";\n",
        "\n",
        "<IntegrationInstallTooltip></IntegrationInstallTooltip>\n",
        "\n",
        "<Npm2Yarn>\n",
        "  @langchain/community @langchain/core\n",
        "</Npm2Yarn>\n",
        "```\n",
        "\n",
        "此检索器使用了 [`此实现`](https://github.com/FurkanToprak/OkapiBM25) 的 Okapi BM25 代码。\n",
        "\n",
        "## 使用方法\n",
        "\n",
        "现在你可以使用先前检索到的文档创建一个新的检索器："
      ]
    },
    {
      "cell_type": "code",
      "execution_count": 1,
      "metadata": {},
      "outputs": [
        {
          "name": "stdout",
          "output_type": "stream",
          "text": [
            "[\n",
            "  { pageContent: 'mitochondria is made of lipids', metadata: {} },\n",
            "  {\n",
            "    pageContent: 'mitochondria is the powerhouse of the cell',\n",
            "    metadata: {}\n",
            "  },\n",
            "  { pageContent: 'Buildings are made out of brick', metadata: {} },\n",
            "  { pageContent: 'Buildings are made out of wood', metadata: {} }\n",
            "]\n"
          ]
        }
      ],
      "source": [
        "import { BM25Retriever } from \"@langchain/community/retrievers/bm25\";\n",
        "\n",
        "const retriever = BM25Retriever.fromDocuments([\n",
        "  { pageContent: \"Buildings are made out of brick\", metadata: {} },\n",
        "  { pageContent: \"Buildings are made out of wood\", metadata: {} },\n",
        "  { pageContent: \"Buildings are made out of stone\", metadata: {} },\n",
        "  { pageContent: \"Cars are made out of metal\", metadata: {} },\n",
        "  { pageContent: \"Cars are made out of plastic\", metadata: {} },\n",
        "  { pageContent: \"mitochondria is the powerhouse of the cell\", metadata: {} },\n",
        "  { pageContent: \"mitochondria is made of lipids\", metadata: {} },\n",
        "], { k: 4 });\n",
        "\n",
        "// Will return the 4 documents reranked by the BM25 algorithm\n",
        "await retriever.invoke(\"mitochondria\");"
      ]
    },
    {
      "cell_type": "code",
      "execution_count": null,
      "metadata": {},
      "outputs": [],
      "source": []
    }
  ],
  "metadata": {
    "kernelspec": {
      "display_name": "TypeScript",
      "language": "typescript",
      "name": "tslab"
    },
    "language_info": {
      "codemirror_mode": {
        "mode": "typescript",
        "name": "javascript",
        "typescript": true
      },
      "file_extension": ".ts",
      "mimetype": "text/typescript",
      "name": "typescript",
      "version": "3.7.2"
    }
  },
  "nbformat": 4,
  "nbformat_minor": 2
}