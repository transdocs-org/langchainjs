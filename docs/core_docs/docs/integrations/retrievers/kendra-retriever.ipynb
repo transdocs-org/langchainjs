{
  "cells": [
    {
      "cell_type": "raw",
      "id": "afaf8039",
      "metadata": {
        "vscode": {
          "languageId": "raw"
        }
      },
      "source": [
        "---\n",
        "sidebar_label: Amazon Kendra Retriever\n",
        "---"
      ]
    },
    {
      "cell_type": "markdown",
      "id": "e49f1e0d",
      "metadata": {},
      "source": [
        "# AWSKendraRetriever\n",
        "\n",
        "## 概述\n",
        "\n",
        "[Amazon Kendra](https://aws.amazon.com/kendra/) 是由亚马逊网络服务 (AWS) 提供的一种智能搜索服务。\n",
        "它利用先进的自然语言处理 (NLP) 和机器学习算法，使组织内的各种数据源具备强大的搜索功能。\n",
        "Kendra 的设计旨在帮助用户快速而准确地找到所需信息，从而提高生产力和决策能力。\n",
        "\n",
        "使用 Kendra，用户可以跨多种内容类型进行搜索，包括文档、常见问题、知识库、手册和网站。\n",
        "它支持多种语言，能够理解复杂的查询、同义词和上下文含义，从而提供高度相关的搜索结果。\n",
        "\n",
        "这将帮助你快速入门 Amazon Kendra [`retriever`](/docs/concepts/retrievers)。如需了解 `AWSKendraRetriever` 所有功能和配置的详细文档，请前往 [API 参考](https://api.js.langchain.com/classes/langchain_aws.AmazonKendraRetriever.html)。\n",
        "\n",
        "### 集成详情\n",
        "\n",
        "| 检索器 | 来源 | 包 |\n",
        "| :--- | :--- | :---: |\n",
        "[AWSKendraRetriever](https://api.js.langchain.com/classes/langchain_aws.AmazonKendraRetriever.html) | 各类 AWS 资源 | [`@langchain/aws`](https://www.npmjs.com/package/@langchain/aws) |\n",
        "\n",
        "## 准备工作\n",
        "\n",
        "开始之前，你需要一个 AWS 账户和一个 Amazon Kendra 实例。更多信息请参见 AWS 的[教程](https://docs.aws.amazon.com/kendra/latest/dg/getting-started.html)。\n",
        "\n",
        "如果你希望从单个查询中获得自动化追踪，也可以取消下面代码的注释来设置你的 [LangSmith](https://docs.smith.langchain.com/) API 密钥：\n",
        "\n",
        "```typescript\n",
        "// process.env.LANGSMITH_API_KEY = \"<YOUR API KEY HERE>\";\n",
        "// process.env.LANGSMITH_TRACING = \"true\";\n",
        "```\n",
        "\n",
        "### 安装\n",
        "\n",
        "该检索器位于 `@langchain/aws` 包中：\n",
        "\n",
        "```{=mdx}\n",
        "import IntegrationInstallTooltip from \"@mdx_components/integration_install_tooltip.mdx\";\n",
        "import Npm2Yarn from \"@theme/Npm2Yarn\";\n",
        "\n",
        "<IntegrationInstallTooltip></IntegrationInstallTooltip>\n",
        "\n",
        "<Npm2Yarn>\n",
        "  @langchain/aws @langchain/core\n",
        "</Npm2Yarn>\n",
        "```"
      ]
    },
    {
      "cell_type": "markdown",
      "id": "a38cde65-254d-4219-a441-068766c0d4b5",
      "metadata": {},
      "source": [
        "## 实例化\n",
        "\n",
        "现在我们可以实例化检索器："
      ]
    },
    {
      "cell_type": "code",
      "execution_count": null,
      "id": "70cc8e65-2a02-408a-bbc6-8ef649057d82",
      "metadata": {},
      "outputs": [],
      "source": [
        "import { AmazonKendraRetriever } from \"@langchain/aws\";\n",
        "\n",
        "const retriever = new AmazonKendraRetriever({\n",
        "  topK: 10,\n",
        "  indexId: \"YOUR_INDEX_ID\",\n",
        "  region: \"us-east-2\", // Your region\n",
        "  clientOptions: {\n",
        "    credentials: {\n",
        "      accessKeyId: \"YOUR_ACCESS_KEY_ID\",\n",
        "      secretAccessKey: \"YOUR_SECRET_ACCESS_KEY\",\n",
        "    },\n",
        "  },\n",
        "});"
      ]
    },
    {
      "cell_type": "markdown",
      "id": "5c5f2839-4020-424e-9fc9-07777eede442",
      "metadata": {},
      "source": [
        "## 用法"
      ]
    },
    {
      "cell_type": "code",
      "execution_count": null,
      "id": "51a60dbe-9f2e-4e04-bb62-23968f17164a",
      "metadata": {},
      "outputs": [],
      "source": [
        "const query = \"...\"\n",
        "\n",
        "await retriever.invoke(query);"
      ]
    },
    {
      "cell_type": "markdown",
      "id": "dfe8aad4-8626-4330-98a9-7ea1ca5d2e0e",
      "metadata": {},
      "source": [
        "## 在链式应用中的使用\n",
        "\n",
        "与其他检索器类似，`AWSKendraRetriever` 可以通过 [链式应用](/docs/how_to/sequence/) 集成到 LLM 应用中。\n",
        "\n",
        "我们将需要一个 LLM 或聊天模型：\n",
        "\n",
        "```{=mdx}\n",
        "import ChatModelTabs from \"@theme/ChatModelTabs\";\n",
        "\n",
        "<ChatModelTabs customVarName=\"llm\" />\n",
        "```"
      ]
    },
    {
      "cell_type": "code",
      "execution_count": null,
      "id": "25b647a3-f8f2-4541-a289-7a241e43f9df",
      "metadata": {},
      "outputs": [],
      "source": [
        "// @lc-docs-hide-cell\n",
        "\n",
        "import { ChatOpenAI } from \"@langchain/openai\";\n",
        "\n",
        "const llm = new ChatOpenAI({\n",
        "  model: \"gpt-4o-mini\",\n",
        "  temperature: 0,\n",
        "});"
      ]
    },
    {
      "cell_type": "code",
      "execution_count": null,
      "id": "23e11cc9-abd6-4855-a7eb-799f45ca01ae",
      "metadata": {},
      "outputs": [],
      "source": [
        "import { ChatPromptTemplate } from \"@langchain/core/prompts\";\n",
        "import { RunnablePassthrough, RunnableSequence } from \"@langchain/core/runnables\";\n",
        "import { StringOutputParser } from \"@langchain/core/output_parsers\";\n",
        "\n",
        "import type { Document } from \"@langchain/core/documents\";\n",
        "\n",
        "const prompt = ChatPromptTemplate.fromTemplate(`\n",
        "Answer the question based only on the context provided.\n",
        "\n",
        "Context: {context}\n",
        "\n",
        "Question: {question}`);\n",
        "\n",
        "const formatDocs = (docs: Document[]) => {\n",
        "  return docs.map((doc) => doc.pageContent).join(\"\\n\\n\");\n",
        "}\n",
        "\n",
        "// See https://js.langchain.com/docs/tutorials/rag\n",
        "const ragChain = RunnableSequence.from([\n",
        "  {\n",
        "    context: retriever.pipe(formatDocs),\n",
        "    question: new RunnablePassthrough(),\n",
        "  },\n",
        "  prompt,\n",
        "  llm,\n",
        "  new StringOutputParser(),\n",
        "]);"
      ]
    },
    {
      "cell_type": "code",
      "execution_count": null,
      "id": "d47c37dd-5c11-416c-a3b6-bec413cd70e8",
      "metadata": {},
      "outputs": [],
      "source": [
        "await ragChain.invoke(query);"
      ]
    },
    {
      "cell_type": "markdown",
      "id": "3a5bb5ca-c3ae-4a58-be67-2cd18574b9a3",
      "metadata": {},
      "source": [
        "## API 参考文档\n",
        "\n",
        "如需详细了解所有 `AmazonKendraRetriever` 的功能和配置，请访问 [API 参考文档](https://api.js.langchain.com/classes/langchain_aws.AmazonKendraRetriever.html)。"
      ]
    }
  ],
  "metadata": {
    "kernelspec": {
      "display_name": "TypeScript",
      "language": "typescript",
      "name": "tslab"
    },
    "language_info": {
      "codemirror_mode": {
        "name": "ipython",
        "version": 3
      },
      "file_extension": ".py",
      "mimetype": "text/x-python",
      "name": "typescript",
      "nbconvert_exporter": "python",
      "pygments_lexer": "ipython3",
      "version": "3.10.4"
    }
  },
  "nbformat": 4,
  "nbformat_minor": 5
}