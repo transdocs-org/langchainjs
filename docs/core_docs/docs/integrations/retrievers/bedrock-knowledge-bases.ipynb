{
  "cells": [
    {
      "cell_type": "raw",
      "id": "afaf8039",
      "metadata": {
        "vscode": {
          "languageId": "raw"
        }
      },
      "source": [
        "---\n",
        "sidebar_label: Knowledge Bases for Amazon Bedrock\n",
        "---"
      ]
    },
    {
      "cell_type": "markdown",
      "id": "e49f1e0d",
      "metadata": {},
      "source": [
        "# Amazon Bedrock 的知识库\n",
        "\n",
        "## 概述\n",
        "\n",
        "这将帮助你快速开始使用 [AmazonKnowledgeBaseRetriever](/docs/concepts/retrievers)。如需了解 AmazonKnowledgeBaseRetriever 所有功能和配置的详细文档，请前往 [API 参考](https://api.js.langchain.com/classes/langchain_aws.AmazonKnowledgeBaseRetriever.html)。\n",
        "\n",
        "Amazon Bedrock 的知识库是由 Amazon Web Services (AWS) 提供的端到端 RAG 工作流程的完全托管支持。\n",
        "它提供了一整套数据摄入流程，将你的文档转换为嵌入（向量），并将这些嵌入存储在专用的向量数据库中。\n",
        "Amazon Bedrock 的知识库支持多种流行的向量存储数据库，包括 Amazon OpenSearch Serverless 的向量引擎、Pinecone、Redis Enterprise Cloud、Amazon Aurora（即将推出）和 MongoDB（即将推出）。\n",
        "\n",
        "### 集成详情\n",
        "\n",
        "| 检索器 | 自托管 | 云服务 | 包 | [Python 支持](https://python.langchain.com/docs/integrations/retrievers/bedrock/) |\n",
        "| :--- | :--- | :---: | :---: | :---: |\n",
        "[AmazonKnowledgeBaseRetriever](https://api.js.langchain.com/classes/langchain_aws.AmazonKnowledgeBaseRetriever.html) | 🟠 (详见下方) | ✅ | @langchain/aws | ✅ |\n",
        "\n",
        "> AWS 知识库检索器可在你自己的 AWS 基础设施上运行，从这个意义上说它可以“自托管”。但无法在其他云提供商或本地环境中运行。\n",
        "\n",
        "## 配置\n",
        "\n",
        "要使用 AmazonKnowledgeBaseRetriever，你需要拥有一个 AWS 账户，以便管理你的索引和文档。在设置好账户后，设置以下环境变量：\n",
        "\n",
        "```bash\n",
        "process.env.AWS_KNOWLEDGE_BASE_ID=your-knowledge-base-id\n",
        "process.env.AWS_ACCESS_KEY_ID=your-access-key-id\n",
        "process.env.AWS_SECRET_ACCESS_KEY=your-secret-access-key\n",
        "```"
      ]
    },
    {
      "cell_type": "markdown",
      "id": "72ee0c4b-9764-423a-9dbf-95129e185210",
      "metadata": {},
      "source": [
        "如果你想从单个查询中获得自动追踪，你也可以通过取消注释以下内容来设置你的 [LangSmith](https://docs.smith.langchain.com/) API 密钥："
      ]
    },
    {
      "cell_type": "code",
      "execution_count": null,
      "id": "a15d341e-3e26-4ca3-830b-5aab30ed66de",
      "metadata": {},
      "outputs": [],
      "source": [
        "// process.env.LANGSMITH_API_KEY = \"<YOUR API KEY HERE>\";\n",
        "// process.env.LANGSMITH_TRACING = \"true\";"
      ]
    },
    {
      "cell_type": "markdown",
      "id": "0730d6a1-c893-4840-9817-5e5251676d5d",
      "metadata": {},
      "source": [
        "### 安装\n",
        "\n",
        "此检索器位于 `@langchain/aws` 包中：\n",
        "\n",
        "```{=mdx}\n",
        "import IntegrationInstallTooltip from \"@mdx_components/integration_install_tooltip.mdx\";\n",
        "import Npm2Yarn from \"@theme/Npm2Yarn\";\n",
        "\n",
        "<IntegrationInstallTooltip></IntegrationInstallTooltip>\n",
        "\n",
        "<Npm2Yarn>\n",
        "  @langchain/aws @langchain/core\n",
        "</Npm2Yarn>\n",
        "```"
      ]
    },
    {
      "cell_type": "markdown",
      "id": "a38cde65-254d-4219-a441-068766c0d4b5",
      "metadata": {},
      "source": [
        "## 实例化\n",
        "\n",
        "现在我们可以实例化检索器："
      ]
    },
    {
      "cell_type": "code",
      "execution_count": null,
      "id": "70cc8e65-2a02-408a-bbc6-8ef649057d82",
      "metadata": {},
      "outputs": [],
      "source": [
        "import { AmazonKnowledgeBaseRetriever } from \"@langchain/aws\";\n",
        "\n",
        "const retriever = new AmazonKnowledgeBaseRetriever({\n",
        "  topK: 10,\n",
        "  knowledgeBaseId: process.env.AWS_KNOWLEDGE_BASE_ID,\n",
        "  region: \"us-east-2\",\n",
        "  clientOptions: {\n",
        "    credentials: {\n",
        "      accessKeyId: process.env.AWS_ACCESS_KEY_ID,\n",
        "      secretAccessKey: process.env.AWS_SECRET_ACCESS_KEY,\n",
        "    },\n",
        "  },\n",
        "});"
      ]
    },
    {
      "cell_type": "markdown",
      "id": "5c5f2839-4020-424e-9fc9-07777eede442",
      "metadata": {},
      "source": [
        "## 用法"
      ]
    },
    {
      "cell_type": "code",
      "execution_count": null,
      "id": "51a60dbe-9f2e-4e04-bb62-23968f17164a",
      "metadata": {},
      "outputs": [],
      "source": [
        "const query = \"...\"\n",
        "\n",
        "await retriever.invoke(query);"
      ]
    },
    {
      "cell_type": "markdown",
      "id": "dfe8aad4-8626-4330-98a9-7ea1ca5d2e0e",
      "metadata": {},
      "source": [
        "## 在链式调用中使用\n",
        "\n",
        "与其他检索器类似，AmazonKnowledgeBaseRetriever 可以通过[链式调用](/docs/how_to/sequence/)集成到 LLM 应用程序中。\n",
        "\n",
        "我们需要一个 LLM 或聊天模型：\n",
        "\n",
        "```{=mdx}\n",
        "import ChatModelTabs from \"@theme/ChatModelTabs\";\n",
        "\n",
        "<ChatModelTabs customVarName=\"llm\" />\n",
        "```"
      ]
    },
    {
      "cell_type": "code",
      "execution_count": null,
      "id": "25b647a3-f8f2-4541-a289-7a241e43f9df",
      "metadata": {},
      "outputs": [],
      "source": [
        "// @lc-docs-hide-cell\n",
        "\n",
        "import { ChatOpenAI } from \"@langchain/openai\";\n",
        "\n",
        "const llm = new ChatOpenAI({\n",
        "  model: \"gpt-4o-mini\",\n",
        "  temperature: 0,\n",
        "});"
      ]
    },
    {
      "cell_type": "code",
      "execution_count": null,
      "id": "23e11cc9-abd6-4855-a7eb-799f45ca01ae",
      "metadata": {},
      "outputs": [],
      "source": [
        "import { ChatPromptTemplate } from \"@langchain/core/prompts\";\n",
        "import { RunnablePassthrough, RunnableSequence } from \"@langchain/core/runnables\";\n",
        "import { StringOutputParser } from \"@langchain/core/output_parsers\";\n",
        "\n",
        "import type { Document } from \"@langchain/core/documents\";\n",
        "\n",
        "const prompt = ChatPromptTemplate.fromTemplate(`\n",
        "Answer the question based only on the context provided.\n",
        "\n",
        "Context: {context}\n",
        "\n",
        "Question: {question}`);\n",
        "\n",
        "const formatDocs = (docs: Document[]) => {\n",
        "  return docs.map((doc) => doc.pageContent).join(\"\\n\\n\");\n",
        "}\n",
        "\n",
        "// See https://js.langchain.com/docs/tutorials/rag\n",
        "const ragChain = RunnableSequence.from([\n",
        "  {\n",
        "    context: retriever.pipe(formatDocs),\n",
        "    question: new RunnablePassthrough(),\n",
        "  },\n",
        "  prompt,\n",
        "  llm,\n",
        "  new StringOutputParser(),\n",
        "]);"
      ]
    },
    {
      "cell_type": "markdown",
      "id": "22b1d6f8",
      "metadata": {},
      "source": [
        "```{=mdx}\n",
        "\n",
        ":::提示\n",
        "\n",
        "详见 [我们的RAG教程](docs/tutorials/rag) ，了解有关如上所示 `RunnableSequence` 的更多信息和示例。\n",
        "\n",
        ":::\n",
        "\n",
        "```"
      ]
    },
    {
      "cell_type": "code",
      "execution_count": null,
      "id": "d47c37dd-5c11-416c-a3b6-bec413cd70e8",
      "metadata": {},
      "outputs": [],
      "source": [
        "await ragChain.invoke(\"...\")"
      ]
    },
    {
      "cell_type": "markdown",
      "id": "3a5bb5ca-c3ae-4a58-be67-2cd18574b9a3",
      "metadata": {},
      "source": [
        "## API 参考\n",
        "\n",
        "有关 AmazonKnowledgeBaseRetriever 所有功能和配置的详细文档，请访问 [API 参考](https://api.js.langchain.com/classes/langchain_aws.AmazonKnowledgeBaseRetriever.html)。"
      ]
    }
  ],
  "metadata": {
    "kernelspec": {
      "display_name": "TypeScript",
      "language": "typescript",
      "name": "tslab"
    },
    "language_info": {
      "codemirror_mode": {
        "name": "ipython",
        "version": 3
      },
      "file_extension": ".py",
      "mimetype": "text/x-python",
      "name": "typescript",
      "nbconvert_exporter": "python",
      "pygments_lexer": "ipython3",
      "version": "3.10.4"
    }
  },
  "nbformat": 4,
  "nbformat_minor": 5
}