{
  "cells": [
    {
      "cell_type": "raw",
      "id": "afaf8039",
      "metadata": {
        "vscode": {
          "languageId": "raw"
        }
      },
      "source": [
        "---\n",
        "sidebar_label: Azion EdgeSQL\n",
        "---"
      ]
    },
    {
      "cell_type": "markdown",
      "id": "e49f1e0d",
      "metadata": {},
      "source": [
        "# AzionRetriever\n",
        "\n",
        "## 概述\n",
        "\n",
        "这将帮助你快速开始使用 [AzionRetriever](/docs/concepts/#retrievers)。如需关于 AzionRetriever 所有功能和配置的详细文档，请前往 [API 参考文档](https://api.js.langchain.com/classes/_langchain_community.retrievers_azion_edgesql.AzionRetriever.html)。\n",
        "\n",
        "### 集成详情\n",
        "\n",
        "\n",
        "| 检索器 | 自托管 | 云服务 | 包 | [Python 支持] |\n",
        "| :--- | :---: | :---: | :---: | :---: |\n",
        "[AzionRetriever](https://api.js.langchain.com/classes/_langchain_community.retrievers_azion_edgesql.AzionRetriever.html) | ❌ | ❌ | @langchain/community | ❌ |\n",
        "\n",
        "\n",
        "## 准备\n",
        "\n",
        "要使用 AzionRetriever，你需要设置 AZION_TOKEN 环境变量。\n",
        "\n",
        "```typescript\n",
        "process.env.AZION_TOKEN = \"your-api-key\"\n",
        "```\n",
        "\n",
        "如果你在本指南中使用 OpenAI 嵌入，请同时设置你的 OpenAI 密钥：\n",
        "\n",
        "```typescript\n",
        "process.env.OPENAI_API_KEY = \"YOUR_API_KEY\";\n",
        "```\n",
        "如果你希望从单个查询中获取自动跟踪信息，也可以取消以下代码行的注释并设置你的 [LangSmith](https://docs.smith.langchain.com/) API 密钥：\n",
        "\n",
        "```typescript\n",
        "// process.env.LANGSMITH_API_KEY = \"<YOUR API KEY HERE>\";\n",
        "// process.env.LANGSMITH_TRACING = \"true\";\n",
        "```\n",
        "\n",
        "### 安装\n",
        "\n",
        "该检索器位于 `@langchain/community/retrievers/azion_edgesql` 包中：\n",
        "\n",
        "```{=mdx}\n",
        "import IntegrationInstallTooltip from \"@mdx_components/integration_install_tooltip.mdx\";\n",
        "import Npm2Yarn from \"@theme/Npm2Yarn\";\n",
        "\n",
        "<IntegrationInstallTooltip></IntegrationInstallTooltip>\n",
        "\n",
        "<Npm2Yarn>\n",
        "  azion @langchain/openai @langchain/community\n",
        "</Npm2Yarn>\n",
        "```"
      ]
    },
    {
      "cell_type": "markdown",
      "id": "a38cde65-254d-4219-a441-068766c0d4b5",
      "metadata": {},
      "source": [
        "## 实例化\n",
        "\n",
        "现在我们可以实例化检索器："
      ]
    },
    {
      "cell_type": "code",
      "execution_count": 56,
      "id": "70cc8e65-2a02-408a-bbc6-8ef649057d82",
      "metadata": {},
      "outputs": [],
      "source": [
        "import { AzionRetriever } from \"@langchain/community/retrievers/azion_edgesql\";\n",
        "import { OpenAIEmbeddings } from \"@langchain/openai\";\n",
        "import { ChatOpenAI } from \"@langchain/openai\";\n",
        "\n",
        "const embeddingModel = new OpenAIEmbeddings({\n",
        "  model: \"text-embedding-3-small\"\n",
        "})\n",
        "\n",
        "const chatModel = new ChatOpenAI({\n",
        "  model: \"gpt-4o-mini\",\n",
        "  apiKey: process.env.OPENAI_API_KEY\n",
        "})\n",
        "\n",
        "const retriever = new AzionRetriever(embeddingModel, \n",
        "  {dbName:\"langchain\",\n",
        "   vectorTable:\"documents\", // table where the vector embeddings are stored\n",
        "   ftsTable:\"documents_fts\", // table where the fts index is stored\n",
        "   searchType:\"hybrid\", // search type to use for the retriever\n",
        "   ftsK:2, // number of results to return from the fts index\n",
        "   similarityK:2, // number of results to return from the vector index\n",
        "   metadataItems:[\"language\",\"topic\"],\n",
        "   filters: [{ operator: \"=\", column: \"language\", value: \"en\" }],\n",
        "   entityExtractor:chatModel\n",
        "\n",
        "}) // number of results to return from the vector index"
      ]
    },
    {
      "cell_type": "markdown",
      "id": "5c5f2839-4020-424e-9fc9-07777eede442",
      "metadata": {},
      "source": [
        "## 用法"
      ]
    },
    {
      "cell_type": "code",
      "execution_count": 57,
      "id": "51a60dbe-9f2e-4e04-bb62-23968f17164a",
      "metadata": {},
      "outputs": [
        {
          "name": "stdout",
          "output_type": "stream",
          "text": [
            "[\n",
            "  Document {\n",
            "    pageContent: 'Australia s indigenous people have inhabited the continent for over 65,000 years',\n",
            "    metadata: { language: 'en', topic: 'history', searchtype: 'similarity' },\n",
            "    id: '3'\n",
            "  },\n",
            "  Document {\n",
            "    pageContent: 'Australia is a leader in solar energy adoption and renewable technology',\n",
            "    metadata: { language: 'en', topic: 'technology', searchtype: 'similarity' },\n",
            "    id: '5'\n",
            "  },\n",
            "  Document {\n",
            "    pageContent: 'Australia s tech sector is rapidly growing with innovation hubs in major cities',\n",
            "    metadata: { language: 'en', topic: 'technology', searchtype: 'fts' },\n",
            "    id: '7'\n",
            "  }\n",
            "]\n"
          ]
        }
      ],
      "source": [
        "const query = \"Australia\"\n",
        "\n",
        "await retriever.invoke(query);"
      ]
    },
    {
      "cell_type": "markdown",
      "id": "dfe8aad4-8626-4330-98a9-7ea1ca5d2e0e",
      "metadata": {},
      "source": [
        "## 在链式应用中使用\n",
        "\n",
        "与其他检索器一样，AzionRetriever 可以通过 [链式应用](/docs/how_to/sequence/) 集成到 LLM 应用程序中。\n",
        "\n",
        "我们需要一个 LLM 或聊天模型：\n",
        "\n",
        "```{=mdx}\n",
        "import ChatModelTabs from \"@theme/ChatModelTabs\";\n",
        "\n",
        "<ChatModelTabs customVarName=\"llm\" />\n",
        "```"
      ]
    },
    {
      "cell_type": "code",
      "execution_count": 43,
      "id": "25b647a3-f8f2-4541-a289-7a241e43f9df",
      "metadata": {},
      "outputs": [],
      "source": [
        "// @lc-docs-hide-cell\n",
        "\n",
        "import { ChatOpenAI } from \"@langchain/openai\";\n",
        "\n",
        "const llm = new ChatOpenAI({\n",
        "  model: \"gpt-4o-mini\",\n",
        "  temperature: 0,\n",
        "});"
      ]
    },
    {
      "cell_type": "code",
      "execution_count": 44,
      "id": "23e11cc9-abd6-4855-a7eb-799f45ca01ae",
      "metadata": {},
      "outputs": [],
      "source": [
        "import { ChatPromptTemplate } from \"@langchain/core/prompts\";\n",
        "import { RunnablePassthrough, RunnableSequence } from \"@langchain/core/runnables\";\n",
        "import { StringOutputParser } from \"@langchain/core/output_parsers\";\n",
        "\n",
        "import type { Document } from \"@langchain/core/documents\";\n",
        "\n",
        "const prompt = ChatPromptTemplate.fromTemplate(`\n",
        "Answer the question based only on the context provided.\n",
        "\n",
        "Context: {context}\n",
        "\n",
        "Question: {question}`);\n",
        "\n",
        "const formatDocs = (docs: Document[]) => {\n",
        "  return docs.map((doc) => doc.pageContent).join(\"\\n\\n\");\n",
        "}\n",
        "\n",
        "// See https://js.langchain.com/docs/tutorials/rag\n",
        "const ragChain = RunnableSequence.from([\n",
        "  {\n",
        "    context: retriever.pipe(formatDocs),\n",
        "    question: new RunnablePassthrough(),\n",
        "  },\n",
        "  prompt,\n",
        "  llm,\n",
        "  new StringOutputParser(),\n",
        "]);"
      ]
    },
    {
      "cell_type": "code",
      "execution_count": 45,
      "id": "d47c37dd-5c11-416c-a3b6-bec413cd70e8",
      "metadata": {},
      "outputs": [
        {
          "name": "stdout",
          "output_type": "stream",
          "text": [
            "The context mentions that the 2024 Olympics are in Paris.\n"
          ]
        }
      ],
      "source": [
        "await ragChain.invoke(\"Paris\")"
      ]
    },
    {
      "cell_type": "markdown",
      "id": "3a5bb5ca-c3ae-4a58-be67-2cd18574b9a3",
      "metadata": {},
      "source": [
        "## API 参考文档\n",
        "\n",
        "如需详细了解 AzionRetriever 的所有功能和配置，请访问 [API 参考文档](https://api.js.langchain.com/classes/_langchain_community.retrievers_azion_edgesql.AzionRetriever.html)。\n"
      ]
    }
  ],
  "metadata": {
    "kernelspec": {
      "display_name": "TypeScript",
      "language": "typescript",
      "name": "tslab"
    },
    "language_info": {
      "codemirror_mode": {
        "mode": "typescript",
        "name": "javascript",
        "typescript": true
      },
      "file_extension": ".ts",
      "mimetype": "text/typescript",
      "name": "typescript",
      "version": "3.7.2"
    }
  },
  "nbformat": 4,
  "nbformat_minor": 5
}