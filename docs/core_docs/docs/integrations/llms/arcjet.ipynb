{
  "cells": [
    {
      "cell_type": "raw",
      "id": "67db2992",
      "metadata": {
        "vscode": {
          "languageId": "raw"
        }
      },
      "source": [
        "---\n",
        "sidebar_label: Arcjet Redact\n",
        "---"
      ]
    },
    {
      "cell_type": "markdown",
      "id": "9597802c",
      "metadata": {},
      "source": [
        "# Arcjet 脱敏\n",
        "\n",
        "[Arcjet](https://arcjet.com) 脱敏集成允许您在将提示发送给LLM之前，从中脱敏敏感的用户信息。\n",
        "\n",
        "Arcjet 脱敏完全在您自己的机器上运行，从不将数据发送到其他任何地方，确保了最佳的隐私和性能。\n",
        "\n",
        "Arcjet 脱敏对象本身不是一个LLM，而是封装了一个LLM。它会脱敏输入的文本，然后在返回之前对封装的LLM的输出进行反脱敏。\n",
        "\n",
        "\n",
        "\n",
        "## 概述\n",
        "### 集成详情\n",
        "\n",
        "| 类 | 包 | 本地 | 可序列化 | Python支持 | 包下载量 | 最新包 |\n",
        "| :--- | :--- | :---: | :---: |  :---: | :---: | :---: |\n",
        "| Arcjet | @langchain/community | ❌ | ✅ | ❌ | ![NPM - 下载量](https://img.shields.io/npm/dm/@langchain/community?style=flat-square&label=%20&) | ![NPM - 版本](https://img.shields.io/npm/v/@langchain/community?style=flat-square&label=%20&) |\n",
        "\n",
        "### 安装\n",
        "\n",
        "安装Arcjet脱敏库：\n",
        "\n",
        "```{=mdx}\n",
        "import IntegrationInstallTooltip from \"@mdx_components/integration_install_tooltip.mdx\";\n",
        "import Npm2Yarn from \"@theme/Npm2Yarn\";\n",
        "\n",
        "<IntegrationInstallTooltip></IntegrationInstallTooltip>\n",
        "\n",
        "<Npm2Yarn>\n",
        "  @arcjet/redact\n",
        "</Npm2Yarn>\n",
        "\n",
        "```\n",
        "\n",
        "并安装LangChain Community：\n",
        "\n",
        "\n",
        "```{=mdx}\n",
        "<IntegrationInstallTooltip></IntegrationInstallTooltip>\n",
        "\n",
        "<Npm2Yarn>\n",
        "  @langchain/community @langchain/core\n",
        "</Npm2Yarn>\n",
        "\n",
        "现在，您就可以开始使用Arcjet脱敏保护您的LLM调用了！\n",
        "\n",
        "```"
      ]
    },
    {
      "cell_type": "markdown",
      "id": "0a760037",
      "metadata": {},
      "source": [
        "## 用法"
      ]
    },
    {
      "cell_type": "code",
      "execution_count": 1,
      "id": "a0562a13",
      "metadata": {},
      "outputs": [],
      "source": [
        "import {\n",
        "  ArcjetRedact,\n",
        "  ArcjetSensitiveInfoType,\n",
        "} from \"@langchain/community/llms/arcjet\";\n",
        "import { OpenAI } from \"@langchain/openai\";\n",
        "\n",
        "// Create an instance of another LLM for Arcjet to wrap\n",
        "const openai = new OpenAI({\n",
        "  modelName: \"gpt-3.5-turbo-instruct\",\n",
        "  openAIApiKey: process.env.OPENAI_API_KEY,\n",
        "});\n",
        "\n",
        "const arcjetRedactOptions = {\n",
        "  // Specify a LLM that Arcjet Redact will call once it has redacted the input.\n",
        "  llm: openai,\n",
        "\n",
        "  // Specify the list of entities that should be redacted.\n",
        "  // If this isn't specified then all entities will be redacted.\n",
        "  entities: [\"email\", \"phone-number\", \"ip-address\", \"credit-card\"] as ArcjetSensitiveInfoType[],\n",
        "\n",
        "  // You can provide a custom detect function to detect entities that we don't support yet.\n",
        "  // It takes a list of tokens and you return a list of identified types or undefined.\n",
        "  // The undefined types that you return should be added to the entities list if used.\n",
        "  detect: (tokens: string[]) => {\n",
        "    return tokens.map((t) => t === \"some-sensitive-info\" ? \"custom-entity\" : undefined)\n",
        "  },\n",
        "\n",
        "  // The number of tokens to provide to the custom detect function. This defaults to 1.\n",
        "  // It can be used to provide additional context when detecting custom entity types.\n",
        "  contextWindowSize: 1,\n",
        "\n",
        "  // This allows you to provide custom replacements when redacting. Please ensure\n",
        "  // that the replacements are unique so that unredaction works as expected.\n",
        "  replace: (identifiedType: string) => {\n",
        "    return identifiedType === \"email\" ? \"redacted@example.com\" : undefined;\n",
        "  },\n",
        "\n",
        "};\n",
        "\n",
        "const arcjetRedact = new ArcjetRedact(arcjetRedactOptions);\n",
        "const response = await arcjetRedact.invoke(\n",
        "  \"My email address is test@example.com, here is some-sensitive-info\"\n",
        ");"
      ]
    }
  ],
  "metadata": {
    "kernelspec": {
      "display_name": "TypeScript",
      "language": "typescript",
      "name": "tslab"
    },
    "language_info": {
      "codemirror_mode": {
        "mode": "typescript",
        "name": "javascript",
        "typescript": true
      },
      "file_extension": ".ts",
      "mimetype": "text/typescript",
      "name": "typescript",
      "version": "3.7.2"
    },
    "vscode": {
      "interpreter": {
        "hash": "e971737741ff4ec9aff7dc6155a1060a59a8a6d52c757dbbe66bf8ee389494b1"
      }
    }
  },
  "nbformat": 4,
  "nbformat_minor": 5
}