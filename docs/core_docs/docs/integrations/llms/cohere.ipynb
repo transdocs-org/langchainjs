{
  "cells": [
    {
      "cell_type": "raw",
      "id": "67db2992",
      "metadata": {
        "vscode": {
          "languageId": "raw"
        }
      },
      "source": [
        "---\n",
        "sidebar_label: Cohere\n",
        "lc_docs_skip_validation: true\n",
        "---"
      ]
    },
    {
      "cell_type": "markdown",
      "id": "9597802c",
      "metadata": {},
      "source": [
        "# Cohere\n",
        "\n",
        "```{=mdx}\n",
        "\n",
        ":::warning 遗留功能\n",
        "\n",
        "Cohere 已将其大型语言模型（LLMs）的 `generate` 接口标记为弃用。请参考其[迁移指南](https://docs.cohere.com/docs/migrating-from-cogenerate-to-cochat)，开始通过 [`ChatCohere`](/docs/integrations/chat/cohere) 集成使用他们的聊天 API。\n",
        "\n",
        ":::\n",
        "\n",
        ":::caution\n",
        "您当前所在的页面记录的是将 Cohere 模型作为[文本补全模型](/docs/concepts/text_llms)使用的相关内容。Cohere 上提供的许多流行模型实际上是[聊天补全模型](/docs/concepts/chat_models)。\n",
        "\n",
        "您可能需要查看[这个页面](/docs/integrations/chat/cohere/)。\n",
        ":::\n",
        "\n",
        "```\n",
        "\n",
        "这将帮助您开始使用 Cohere 补全模型（LLMs）配合 LangChain。有关 `Cohere` 功能和配置选项的详细文档，请参阅 [API 参考](https://api.js.langchain.com/classes/langchain_cohere.Cohere.html)。\n",
        "\n",
        "## 概览\n",
        "### 集成详情\n",
        "\n",
        "| 类别 | 包 | 本地支持 | 可序列化 | [Python 支持](https://python.langchain.com/docs/integrations/llms/cohere) | 包下载量 | 最新版本 |\n",
        "| :--- | :--- | :---: | :---: | :---: | :---: | :---: |\n",
        "| [Cohere](https://api.js.langchain.com/classes/langchain_cohere.Cohere.html) | [@langchain/cohere](https://api.js.langchain.com/modules/langchain_cohere.html) | ❌ | ✅ | ✅ | ![NPM - 下载量](https://img.shields.io/npm/dm/@langchain/cohere?style=flat-square&label=%20&) | ![NPM - 版本](https://img.shields.io/npm/v/@langchain/cohere?style=flat-square&label=%20&) |\n",
        "\n",
        "## 准备工作\n",
        "\n",
        "要访问 Cohere 模型，您需要创建一个 Cohere 账户，获取 API 密钥，并安装 `@langchain/cohere` 集成包。\n",
        "\n",
        "### 凭证\n",
        "\n",
        "前往 [cohere.com](https://cohere.com) 注册 Cohere 账户并生成 API 密钥。完成此操作后，请设置 `COHERE_API_KEY` 环境变量：\n",
        "\n",
        "```bash\n",
        "export COHERE_API_KEY=\"your-api-key\"\n",
        "```\n",
        "\n",
        "如果您希望自动追踪模型调用，也可以取消以下 [LangSmith](https://docs.smith.langchain.com/) API 密钥设置的注释：\n",
        "\n",
        "```bash\n",
        "# export LANGSMITH_TRACING=\"true\"\n",
        "# export LANGSMITH_API_KEY=\"your-api-key\"\n",
        "```\n",
        "\n",
        "### 安装\n",
        "\n",
        "LangChain 的 Cohere 集成位于 `@langchain/cohere` 包中：\n",
        "\n",
        "```{=mdx}\n",
        "import IntegrationInstallTooltip from \"@mdx_components/integration_install_tooltip.mdx\";\n",
        "import Npm2Yarn from \"@theme/Npm2Yarn\";\n",
        "\n",
        "<IntegrationInstallTooltip></IntegrationInstallTooltip>\n",
        "\n",
        "<Npm2Yarn>\n",
        "  @langchain/cohere @langchain/core\n",
        "</Npm2Yarn>\n",
        "\n",
        "```"
      ]
    },
    {
      "cell_type": "markdown",
      "id": "0a760037",
      "metadata": {},
      "source": [
        "## 实例化\n",
        "\n",
        "现在我们可以实例化我们的模型对象并生成聊天补全："
      ]
    },
    {
      "cell_type": "code",
      "execution_count": 2,
      "id": "a0562a13",
      "metadata": {},
      "outputs": [],
      "source": [
        "import { Cohere } from \"@langchain/cohere\"\n",
        "\n",
        "const llm = new Cohere({\n",
        "  model: \"command\",\n",
        "  temperature: 0,\n",
        "  maxTokens: undefined,\n",
        "  maxRetries: 2,\n",
        "  // other params...\n",
        "})"
      ]
    },
    {
      "cell_type": "markdown",
      "id": "2518004d",
      "metadata": {},
      "source": [
        "### 自定义适用于 Azure 上的 Cohere、AWS Bedrock 上的 Cohere 以及独立 Cohere 实例的客户端。\n",
        "\n",
        "我们可以实例化一个自定义的 `CohereClient`，并将其传递给 ChatCohere 构造函数。\n",
        "\n",
        "**注意：** 如果提供了自定义客户端，则构造函数中的 `COHERE_API_KEY` 环境变量和 `apiKey` 参数都将被忽略。"
      ]
    },
    {
      "cell_type": "code",
      "execution_count": null,
      "id": "79da9b26",
      "metadata": {},
      "outputs": [],
      "source": [
        "import { Cohere } from \"@langchain/cohere\";\n",
        "import { CohereClient } from \"cohere-ai\";\n",
        "\n",
        "const client = new CohereClient({\n",
        "  token: \"<your-api-key>\",\n",
        "  environment: \"<your-cohere-deployment-url>\", //optional\n",
        "  // other params\n",
        "});\n",
        "\n",
        "const llmWithCustomClient = new Cohere({\n",
        "  client,\n",
        "  // other params...\n",
        "});"
      ]
    },
    {
      "cell_type": "markdown",
      "id": "0ee90032",
      "metadata": {},
      "source": [
        "## 调用"
      ]
    },
    {
      "cell_type": "code",
      "execution_count": 3,
      "id": "035dea0f",
      "metadata": {
        "tags": []
      },
      "outputs": [
        {
          "name": "stdout",
          "output_type": "stream",
          "text": [
            "Cohere is a company that provides natural language processing models that help companies improve human-machine interactions. Cohere was founded in 2019 by Aidan Gomez, Ivan Zhang, and Nick Frosst. \n"
          ]
        }
      ],
      "source": [
        "const inputText = \"Cohere is an AI company that \"\n",
        "\n",
        "const completion = await llm.invoke(inputText)\n",
        "completion"
      ]
    },
    {
      "cell_type": "markdown",
      "id": "add38532",
      "metadata": {},
      "source": [
        "## 链式调用\n",
        "\n",
        "我们可以像这样将补全模型与提示模板进行[链式调用](/docs/how_to/sequence/)："
      ]
    },
    {
      "cell_type": "code",
      "execution_count": 4,
      "id": "078e9db2",
      "metadata": {},
      "outputs": [
        {
          "name": "stdout",
          "output_type": "stream",
          "text": [
            " Ich liebe Programming.\n",
            "\n",
            "But for day to day purposes Ich mag Programming. would be enough and perfectly understood.\n",
            "\n",
            "I love programming is \"Ich liebe Programming\" and I like programming is \"Ich mag Programming\" respectively.\n",
            "\n",
            "There are also other ways to express this feeling, such as \"Ich habe Spaß mit Programming\", which means \"I enjoy programming\". But \"Ich mag\" and \"Ich liebe\" are the most common expressions for this.\n",
            "\n",
            "Let me know if I can be of further help with something else! \n"
          ]
        }
      ],
      "source": [
        "import { PromptTemplate } from \"@langchain/core/prompts\"\n",
        "\n",
        "const prompt = new PromptTemplate({\n",
        "  template: \"How to say {input} in {output_language}:\\n\",\n",
        "  inputVariables: [\"input\", \"output_language\"],\n",
        "})\n",
        "\n",
        "const chain = prompt.pipe(llm);\n",
        "await chain.invoke(\n",
        "  {\n",
        "    output_language: \"German\",\n",
        "    input: \"I love programming.\",\n",
        "  }\n",
        ")"
      ]
    },
    {
      "cell_type": "markdown",
      "id": "e9bdfcef",
      "metadata": {},
      "source": [
        "## API 参考文档\n",
        "\n",
        "有关所有 Cohere 功能和配置的详细文档，请访问 API 参考页面: https://api.js.langchain.com/classes/langchain_cohere.Cohere.html"
      ]
    }
  ],
  "metadata": {
    "kernelspec": {
      "display_name": "TypeScript",
      "language": "typescript",
      "name": "tslab"
    },
    "language_info": {
      "codemirror_mode": {
        "mode": "typescript",
        "name": "javascript",
        "typescript": true
      },
      "file_extension": ".ts",
      "mimetype": "text/typescript",
      "name": "typescript",
      "version": "3.7.2"
    },
    "vscode": {
      "interpreter": {
        "hash": "e971737741ff4ec9aff7dc6155a1060a59a8a6d52c757dbbe66bf8ee389494b1"
      }
    }
  },
  "nbformat": 4,
  "nbformat_minor": 5
}