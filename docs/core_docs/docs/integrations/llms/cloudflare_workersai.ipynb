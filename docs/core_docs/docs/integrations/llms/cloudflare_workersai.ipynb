{
  "cells": [
    {
      "cell_type": "raw",
      "id": "67db2992",
      "metadata": {
        "vscode": {
          "languageId": "raw"
        }
      },
      "source": [
        "---\n",
        "sidebar_label: Cloudflare Workers AI\n",
        "---"
      ]
    },
    {
      "cell_type": "markdown",
      "id": "9597802c",
      "metadata": {},
      "source": [
        "# CloudflareWorkersAI\n",
        "\n",
        "这将帮助你使用 LangChain 开始使用 Cloudflare Workers AI [文本补全模型 (LLMs)](/docs/concepts/text_llms)。如需关于 `CloudflareWorkersAI` 功能和配置选项的详细文档，请参阅 [API 参考文档](https://api.js.langchain.com/classes/langchain_cloudflare.CloudflareWorkersAI.html)。\n",
        "\n",
        "## 概览\n",
        "### 集成详情\n",
        "\n",
        "| 类 | 包 | 本地支持 | 可序列化 | Python 支持 | 包下载量 | 包最新版本 |\n",
        "| :--- | :--- | :---: | :---: |  :---: | :---: | :---: |\n",
        "| [`CloudflareWorkersAI`](https://api.js.langchain.com/classes/langchain_cloudflare.CloudflareWorkersAI.html) | [`@langchain/cloudflare`](https://npmjs.com/@langchain/cloudflare) | ❌ | ✅ | ❌ | ![NPM - 下载量](https://img.shields.io/npm/dm/@langchain/cloudflare?style=flat-square&label=%20&) | ![NPM - 版本](https://img.shields.io/npm/v/@langchain/cloudflare?style=flat-square&label=%20&) |\n",
        "\n",
        "## 准备工作\n",
        "\n",
        "要访问 Cloudflare Workers AI 模型，你需要创建一个 Cloudflare 账户，获取 API 密钥，并安装 `@langchain/cloudflare` 集成包。\n",
        "\n",
        "### 凭证信息\n",
        "\n",
        "前往 [此页面](https://developers.cloudflare.com/workers-ai/) 注册 Cloudflare 并生成 API 密钥。完成操作后，请记录你的 `CLOUDFLARE_ACCOUNT_ID` 和 `CLOUDFLARE_API_TOKEN`。\n",
        "\n",
        "### 安装\n",
        "\n",
        "LangChain Cloudflare 集成位于 `@langchain/cloudflare` 包中：\n",
        "\n",
        "```{=mdx}\n",
        "import IntegrationInstallTooltip from \"@mdx_components/integration_install_tooltip.mdx\";\n",
        "import Npm2Yarn from \"@theme/Npm2Yarn\";\n",
        "\n",
        "<IntegrationInstallTooltip></IntegrationInstallTooltip>\n",
        "\n",
        "<Npm2Yarn>\n",
        "  @langchain/cloudflare @langchain/core\n",
        "</Npm2Yarn>\n",
        "\n",
        "```"
      ]
    },
    {
      "cell_type": "markdown",
      "id": "0a760037",
      "metadata": {},
      "source": [
        "## 实例化\n",
        "\n",
        "现在我们可以实例化我们的模型对象并生成聊天补全："
      ]
    },
    {
      "cell_type": "code",
      "execution_count": 1,
      "id": "cab7c2aa",
      "metadata": {},
      "outputs": [],
      "source": [
        "// @lc-docs-hide-cell\n",
        "\n",
        "// @ts-expect-error Deno is not recognized\n",
        "const CLOUDFLARE_ACCOUNT_ID = Deno.env.get(\"CLOUDFLARE_ACCOUNT_ID\");\n",
        "// @ts-expect-error Deno is not recognized\n",
        "const CLOUDFLARE_API_TOKEN = Deno.env.get(\"CLOUDFLARE_API_TOKEN\");"
      ]
    },
    {
      "cell_type": "code",
      "execution_count": 2,
      "id": "a0562a13",
      "metadata": {},
      "outputs": [],
      "source": [
        "import { CloudflareWorkersAI } from \"@langchain/cloudflare\";\n",
        "\n",
        "const llm = new CloudflareWorkersAI({\n",
        "  model: \"@cf/meta/llama-3.1-8b-instruct\", // Default value\n",
        "  cloudflareAccountId: CLOUDFLARE_ACCOUNT_ID,\n",
        "  cloudflareApiToken: CLOUDFLARE_API_TOKEN,\n",
        "  // Pass a custom base URL to use Cloudflare AI Gateway\n",
        "  // baseUrl: `https://gateway.ai.cloudflare.com/v1/{YOUR_ACCOUNT_ID}/{GATEWAY_NAME}/workers-ai/`,\n",
        "});"
      ]
    },
    {
      "cell_type": "markdown",
      "id": "0ee90032",
      "metadata": {},
      "source": [
        "## 调用"
      ]
    },
    {
      "cell_type": "code",
      "execution_count": 3,
      "id": "035dea0f",
      "metadata": {
        "tags": []
      },
      "outputs": [
        {
          "data": {
            "text/plain": [
              "\u001b[32m\"Cloudflare is not an AI company, but rather a content delivery network (CDN) and security company. T\"\u001b[39m... 876 more characters"
            ]
          },
          "execution_count": 3,
          "metadata": {},
          "output_type": "execute_result"
        }
      ],
      "source": [
        "const inputText = \"Cloudflare is an AI company that \"\n",
        "\n",
        "const completion = await llm.invoke(inputText);\n",
        "completion"
      ]
    },
    {
      "cell_type": "markdown",
      "id": "add38532",
      "metadata": {},
      "source": [
        "## 链式调用\n",
        "\n",
        "我们可以像这样将补全模型与提示模板进行[链式调用](/docs/how_to/sequence/)："
      ]
    },
    {
      "cell_type": "code",
      "execution_count": 4,
      "id": "078e9db2",
      "metadata": {},
      "outputs": [
        {
          "data": {
            "text/plain": [
              "\u001b[32m\"That's a simple but sweet statement! \\n\"\u001b[39m +\n",
              "  \u001b[32m\"\\n\"\u001b[39m +\n",
              "  \u001b[32m'To say \"I love programming\" in German, you can say: \"ICH LIEB'\u001b[39m... 366 more characters"
            ]
          },
          "execution_count": 4,
          "metadata": {},
          "output_type": "execute_result"
        }
      ],
      "source": [
        "import { PromptTemplate } from \"@langchain/core/prompts\"\n",
        "\n",
        "const prompt = PromptTemplate.fromTemplate(\"How to say {input} in {output_language}:\\n\")\n",
        "\n",
        "const chain = prompt.pipe(llm);\n",
        "await chain.invoke(\n",
        "  {\n",
        "    output_language: \"German\",\n",
        "    input: \"I love programming.\",\n",
        "  }\n",
        ")"
      ]
    },
    {
      "cell_type": "markdown",
      "id": "e9bdfcef",
      "metadata": {},
      "source": [
        "## API 参考\n",
        "\n",
        "如需了解所有 `CloudflareWorkersAI` 功能和配置的详细文档，请访问 API 参考页面：https://api.js.langchain.com/classes/langchain_cloudflare.CloudflareWorkersAI.html"
      ]
    }
  ],
  "metadata": {
    "kernelspec": {
      "display_name": "Deno",
      "language": "typescript",
      "name": "deno"
    },
    "language_info": {
      "file_extension": ".ts",
      "mimetype": "text/x.typescript",
      "name": "typescript",
      "nb_converter": "script",
      "pygments_lexer": "typescript",
      "version": "5.3.3"
    },
    "vscode": {
      "interpreter": {
        "hash": "e971737741ff4ec9aff7dc6155a1060a59a8a6d52c757dbbe66bf8ee389494b1"
      }
    }
  },
  "nbformat": 4,
  "nbformat_minor": 5
}