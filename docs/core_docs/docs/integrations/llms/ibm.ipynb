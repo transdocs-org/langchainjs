{
  "cells": [
    {
      "cell_type": "raw",
      "id": "67db2992",
      "metadata": {
        "vscode": {
          "languageId": "raw"
        }
      },
      "source": [
        "---\n",
        "sidebar_label: IBM watsonx.ai\n",
        "---"
      ]
    },
    {
      "cell_type": "markdown",
      "id": "9597802c",
      "metadata": {},
      "source": [
        "# IBM watsonx.ai\n",
        "\n",
        "\n",
        "这将帮助你使用 LangChain 开始使用 IBM [文本补全模型（LLMs）](/docs/concepts/text_llms)。有关 `IBM watsonx.ai` 功能和配置选项的详细文档，请参阅 [IBM watsonx.ai](https://api.js.langchain.com/modules/_langchain_community.llms_ibm.html)。\n",
        "\n",
        "## 概述\n",
        "### 集成详情\n",
        "\n",
        "\n",
        "| 类 | 包 | 本地 | 可序列化 | [Python 支持](https://python.langchain.com/docs/integrations/llms/ibm_watsonx/) | 包下载量 | 最新包 |\n",
        "| :--- | :--- | :---: | :---: |  :---: | :---: | :---: |\n",
        "| [`WatsonxLLM`](https://api.js.langchain.com/classes/_langchain_community.llms_ibm.WatsonxLLM.html) | [@langchain/community](https://www.npmjs.com/package/@langchain/community) | ❌ | ✅ | ✅ | ![NPM - 下载量](https://img.shields.io/npm/dm/@langchain/community?style=flat-square&label=%20&) | ![NPM - 版本](https://img.shields.io/npm/v/@langchain/community?style=flat-square&label=%20&) |\n",
        "\n",
        "## 安装准备\n",
        "\n",
        "\n",
        "要访问 IBM WatsonxAI 模型，你需要创建一个 IBM watsonx.ai 账户，获取 API 密钥或其他类型的凭证，并安装 `@langchain/community` 集成包。\n",
        "\n",
        "### 凭证\n",
        "\n",
        "\n",
        "前往 [IBM Cloud](https://cloud.ibm.com/login) 注册 IBM watsonx.ai 并生成 API 密钥，或者提供以下展示的其他身份验证方式。\n",
        "\n",
        "#### IAM 认证\n",
        "\n",
        "```bash\n",
        "export WATSONX_AI_AUTH_TYPE=iam\n",
        "export WATSONX_AI_APIKEY=<YOUR-APIKEY>\n",
        "```\n",
        "\n",
        "#### Bearer token 认证\n",
        "\n",
        "```bash\n",
        "export WATSONX_AI_AUTH_TYPE=bearertoken\n",
        "export WATSONX_AI_BEARER_TOKEN=<YOUR-BEARER-TOKEN>\n",
        "```\n",
        "\n",
        "#### IBM watsonx.ai 软件认证\n",
        "\n",
        "```bash\n",
        "export WATSONX_AI_AUTH_TYPE=cp4d\n",
        "export WATSONX_AI_USERNAME=<YOUR_USERNAME>\n",
        "export WATSONX_AI_PASSWORD=<YOUR_PASSWORD>\n",
        "export WATSONX_AI_URL=<URL>\n",
        "```\n",
        "\n",
        "一旦将这些设置到你的环境变量中，并初始化对象，认证将自动进行。\n",
        "\n",
        "也可以通过将这些值作为参数传递给新实例来完成认证。\n",
        "\n",
        "## IAM 认证\n",
        "\n",
        "```typescript\n",
        "import { WatsonxLLM } from \"@langchain/community/llms/ibm\";\n",
        "\n",
        "const props = {\n",
        "  version: \"YYYY-MM-DD\",\n",
        "  serviceUrl: \"<SERVICE_URL>\",\n",
        "  projectId: \"<PROJECT_ID>\",\n",
        "  watsonxAIAuthType: \"iam\",\n",
        "  watsonxAIApikey: \"<YOUR-APIKEY>\",\n",
        "};\n",
        "const instance = new WatsonxLLM(props);\n",
        "```\n",
        "\n",
        "## Bearer token 认证\n",
        "\n",
        "```typescript\n",
        "import { WatsonxLLM } from \"@langchain/community/llms/ibm\";\n",
        "\n",
        "const props = {\n",
        "  version: \"YYYY-MM-DD\",\n",
        "  serviceUrl: \"<SERVICE_URL>\",\n",
        "  projectId: \"<PROJECT_ID>\",\n",
        "  watsonxAIAuthType: \"bearertoken\",\n",
        "  watsonxAIBearerToken: \"<YOUR-BEARERTOKEN>\",\n",
        "};\n",
        "const instance = new WatsonxLLM(props);\n",
        "```\n",
        "\n",
        "### IBM watsonx.ai 软件认证\n",
        "\n",
        "```typescript\n",
        "import { WatsonxLLM } from \"@langchain/community/llms/ibm\";\n",
        "\n",
        "const props = {\n",
        "  version: \"YYYY-MM-DD\",\n",
        "  serviceUrl: \"<SERVICE_URL>\",\n",
        "  projectId: \"<PROJECT_ID>\",\n",
        "  watsonxAIAuthType: \"cp4d\",\n",
        "  watsonxAIUsername: \"<YOUR-USERNAME>\",\n",
        "  watsonxAIPassword: \"<YOUR-PASSWORD>\",\n",
        "  watsonxAIUrl: \"<url>\",\n",
        "};\n",
        "const instance = new WatsonxLLM(props);\n",
        "```\n",
        "\n",
        "如果你想获取模型调用的自动追踪，也可以取消以下 [LangSmith](https://docs.smith.langchain.com/) API 密钥的注释：\n",
        "\n",
        "```bash\n",
        "# export LANGSMITH_TRACING=\"true\"\n",
        "# export LANGSMITH_API_KEY=\"your-api-key\"\n",
        "```\n",
        "\n",
        "### 安装\n",
        "\n",
        "LangChain IBM watsonx.ai 的集成包位于 `@langchain/community`：\n",
        "\n",
        "```{=mdx}\n",
        "import IntegrationInstallTooltip from \"@mdx_components/integration_install_tooltip.mdx\";\n",
        "import Npm2Yarn from \"@theme/Npm2Yarn\";\n",
        "\n",
        "<IntegrationInstallTooltip></IntegrationInstallTooltip>\n",
        "\n",
        "<Npm2Yarn>\n",
        "  @langchain/community @langchain/core\n",
        "</Npm2Yarn>\n",
        "\n",
        "```"
      ]
    },
    {
      "cell_type": "markdown",
      "id": "0a760037",
      "metadata": {},
      "source": [
        "## 实例化\n",
        "\n",
        "现在我们可以实例化我们的模型对象并生成聊天补全：\n"
      ]
    },
    {
      "cell_type": "code",
      "execution_count": null,
      "id": "a0562a13",
      "metadata": {},
      "outputs": [],
      "source": [
        "import { WatsonxLLM } from \"@langchain/community/llms/ibm\";\n",
        "\n",
        "const props = {\n",
        "  decoding_method: \"sample\",\n",
        "  maxNewTokens: 100,\n",
        "  minNewTokens: 1,\n",
        "  temperature: 0.5,\n",
        "  topK: 50,\n",
        "  topP: 1,\n",
        "};\n",
        "const instance = new WatsonxLLM({\n",
        "  version: \"YYYY-MM-DD\",\n",
        "  serviceUrl: process.env.API_URL,\n",
        "  projectId: \"<PROJECT_ID>\",\n",
        "  // spaceId: \"<SPACE_ID>\",\n",
        "  // idOrName: \"<DEPLOYMENT_ID>\",\n",
        "  model: \"<MODEL_ID>\",\n",
        "  ...props,\n",
        "});"
      ]
    },
    {
      "cell_type": "markdown",
      "id": "f7498103",
      "metadata": {},
      "source": [
        "注意：\n",
        "\n",
        "- 除非使用无需指定的轻量级引擎（参考 [watsonx.ai 文档](https://www.ibm.com/docs/zh/cloud-paks/cp-data/5.0.x?topic=install-choosing-installation-mode))），否则必须提供 `spaceId`、`projectId` 或 `idOrName`（部署 ID）\n",
        "- 根据您已配置服务实例的区域，使用正确的 serviceUrl。\n",
        "- 您需要通过 model_id 指定要用于推理的模型。"
      ]
    },
    {
      "cell_type": "markdown",
      "id": "0ee90032",
      "metadata": {},
      "source": [
        "## 调用与生成\n"
      ]
    },
    {
      "cell_type": "code",
      "execution_count": 4,
      "id": "035dea0f",
      "metadata": {
        "tags": []
      },
      "outputs": [
        {
          "name": "stdout",
          "output_type": "stream",
          "text": [
            "\n",
            "print('Hello world.')<|endoftext|>\n",
            "{\n",
            "  generations: [ [ [Object] ], [ [Object] ] ],\n",
            "  llmOutput: { tokenUsage: { generated_token_count: 28, input_token_count: 10 } }\n",
            "}\n"
          ]
        }
      ],
      "source": [
        "const result = await instance.invoke(\"Print hello world.\");\n",
        "console.log(result);\n",
        "\n",
        "const results = await instance.generate([\n",
        "  \"Print hello world.\",\n",
        "  \"Print bye, bye world!\",\n",
        "]);\n",
        "console.log(results);"
      ]
    },
    {
      "cell_type": "markdown",
      "id": "add38532",
      "metadata": {},
      "source": [
        "## 链式调用\n",
        "\n",
        "我们可以将补全模型与提示模板进行链式调用，如下所示："
      ]
    },
    {
      "cell_type": "code",
      "execution_count": 6,
      "id": "078e9db2",
      "metadata": {},
      "outputs": [
        {
          "name": "stdout",
          "output_type": "stream",
          "text": [
            "Ich liebe Programmieren.\n",
            "\n",
            "To express that you are passionate about programming in German,\n"
          ]
        }
      ],
      "source": [
        "import { PromptTemplate } from \"@langchain/core/prompts\"\n",
        "\n",
        "const prompt = PromptTemplate.fromTemplate(\"How to say {input} in {output_language}:\\n\")\n",
        "\n",
        "const chain = prompt.pipe(instance);\n",
        "await chain.invoke(\n",
        "  {\n",
        "    output_language: \"German\",\n",
        "    input: \"I love programming.\",\n",
        "  }\n",
        ")"
      ]
    },
    {
      "cell_type": "markdown",
      "id": "0c305670",
      "metadata": {},
      "source": [
        "## 属性覆盖\n",
        "\n",
        "初始化时传入的属性将在对象的整个生命周期中保持不变。但是，您可以通过传递第二个参数来在单个方法调用时覆盖它们，如下所示\n"
      ]
    },
    {
      "cell_type": "code",
      "execution_count": 9,
      "id": "bb53235c",
      "metadata": {},
      "outputs": [
        {
          "name": "stdout",
          "output_type": "stream",
          "text": [
            "\n",
            "print('Hello world.')<|endoftext|>\n"
          ]
        }
      ],
      "source": [
        "const result2 = await instance.invoke(\"Print hello world.\", {\n",
        "  parameters: {\n",
        "    maxNewTokens: 100,\n",
        "  },\n",
        "});\n",
        "console.log(result2);"
      ]
    },
    {
      "cell_type": "markdown",
      "id": "577a0583",
      "metadata": {},
      "source": [
        "## 分词\n",
        "此包有自定义的getNumTokens实现，返回将使用的精确分词数量。\n"
      ]
    },
    {
      "cell_type": "code",
      "execution_count": 10,
      "id": "339e237c",
      "metadata": {},
      "outputs": [
        {
          "name": "stdout",
          "output_type": "stream",
          "text": [
            "4\n"
          ]
        }
      ],
      "source": [
        "const tokens = await instance.getNumTokens(\"Print hello world.\");\n",
        "console.log(tokens);"
      ]
    },
    {
      "cell_type": "markdown",
      "id": "e9bdfcef",
      "metadata": {},
      "source": [
        "## API 参考文档\n",
        "\n",
        "如需了解所有 `IBM watsonx.ai` 功能和配置的详细文档，请前往 API 参考文档：[API 文档](https://api.js.langchain.com/modules/_langchain_community.embeddings_ibm.html)"
      ]
    }
  ],
  "metadata": {
    "kernelspec": {
      "display_name": "JavaScript (Node.js)",
      "language": "javascript",
      "name": "javascript"
    },
    "language_info": {
      "file_extension": ".js",
      "mimetype": "application/javascript",
      "name": "javascript",
      "version": "20.17.0"
    }
  },
  "nbformat": 4,
  "nbformat_minor": 5
}