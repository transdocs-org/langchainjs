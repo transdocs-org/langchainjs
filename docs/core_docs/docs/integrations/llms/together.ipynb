{
  "cells": [
    {
      "cell_type": "raw",
      "id": "67db2992",
      "metadata": {
        "vscode": {
          "languageId": "raw"
        }
      },
      "source": [
        "---\n",
        "sidebar_label: Together AI\n",
        "---"
      ]
    },
    {
      "cell_type": "markdown",
      "id": "9597802c",
      "metadata": {},
      "source": [
        "# TogetherAI\n",
        "\n",
        ":::caution\n",
        "您当前所在的页面记录的是如何将 Together AI 模型用作 [文本补全模型](/docs/concepts/text_llms)。Together AI 上提供的许多流行模型都是 [聊天补全模型](/docs/concepts/chat_models)。\n",
        "\n",
        "您可能需要查看[这个页面](/docs/integrations/chat/togetherai/)。\n",
        ":::\n",
        "\n",
        "[Together AI](https://www.together.ai/) 提供了一个 API，可以通过几行代码查询 [50 多个领先的开源模型](https://docs.together.ai/docs/inference-models)。\n",
        "\n",
        "这将帮助您使用 LangChain 开始使用 Together AI 的 [文本补全模型（LLMs）](/docs/concepts/text_llms)。有关 `TogetherAI` 功能和配置选项的详细文档，请参阅 [API 参考](https://api.js.langchain.com/classes/langchain_community_llms_togetherai.TogetherAI.html)。\n",
        "\n",
        "## 概述\n",
        "### 集成详情\n",
        "\n",
        "| 类 | 包 | 本地 | 可序列化 | [Python 支持](https://python.langchain.com/docs/integrations/llms/together/) | 包下载量 | 最新包 |\n",
        "| :--- | :--- | :---: | :---: |  :---: | :---: | :---: |\n",
        "| [`TogetherAI`](https://api.js.langchain.com/classes/langchain_community_llms_togetherai.TogetherAI.html) | [`@langchain/community`](https://npmjs.com/@langchain/community) | ❌ | ✅ | ✅ | ![NPM - 下载量](https://img.shields.io/npm/dm/@langchain/community?style=flat-square&label=%20&) | ![NPM - 版本](https://img.shields.io/npm/v/@langchain/community?style=flat-square&label=%20&) |\n",
        "\n",
        "## 准备工作\n",
        "\n",
        "要访问 `ChatTogetherAI` 模型，您需要创建一个 Together 账户，[此处](https://api.together.xyz/) 获取 API 密钥，并安装 `@langchain/community` 集成包。\n",
        "\n",
        "### 凭证\n",
        "\n",
        "前往 [api.together.ai](https://api.together.ai/) 注册 TogetherAI 并生成 API 密钥。完成此操作后，请设置 `TOGETHER_AI_API_KEY` 环境变量：\n",
        "\n",
        "```bash\n",
        "export TOGETHER_AI_API_KEY=\"your-api-key\"\n",
        "```\n",
        "\n",
        "如果您希望自动追踪您的模型调用，也可以取消下面的注释以设置您的 [LangSmith](https://docs.smith.langchain.com/) API 密钥：\n",
        "\n",
        "```bash\n",
        "# export LANGSMITH_TRACING=\"true\"\n",
        "# export LANGSMITH_API_KEY=\"your-api-key\"\n",
        "```\n",
        "\n",
        "### 安装\n",
        "\n",
        "LangChain TogetherAI 集成位于 `@langchain/community` 包中：\n",
        "\n",
        "```{=mdx}\n",
        "import IntegrationInstallTooltip from \"@mdx_components/integration_install_tooltip.mdx\";\n",
        "import Npm2Yarn from \"@theme/Npm2Yarn\";\n",
        "\n",
        "<IntegrationInstallTooltip></IntegrationInstallTooltip>\n",
        "\n",
        "<Npm2Yarn>\n",
        "  @langchain/community @langchain/core\n",
        "</Npm2Yarn>\n",
        "\n",
        "```"
      ]
    },
    {
      "cell_type": "markdown",
      "id": "0a760037",
      "metadata": {},
      "source": [
        "## 实例化\n",
        "\n",
        "现在我们可以实例化我们的模型对象并生成聊天补全："
      ]
    },
    {
      "cell_type": "code",
      "execution_count": 1,
      "id": "a0562a13",
      "metadata": {},
      "outputs": [],
      "source": [
        "import { TogetherAI } from \"@langchain/community/llms/togetherai\";\n",
        "\n",
        "const llm = new TogetherAI({\n",
        "  model: \"meta-llama/Meta-Llama-3.1-8B-Instruct-Turbo\",\n",
        "  maxTokens: 256,\n",
        "});"
      ]
    },
    {
      "cell_type": "markdown",
      "id": "0ee90032",
      "metadata": {},
      "source": [
        "## 调用"
      ]
    },
    {
      "cell_type": "code",
      "execution_count": 2,
      "id": "035dea0f",
      "metadata": {
        "tags": []
      },
      "outputs": [
        {
          "name": "stdout",
          "output_type": "stream",
          "text": [
            " offers a range of AI-powered solutions to help businesses and organizations improve their customer service, sales, and marketing efforts. Their platform uses natural language processing (NLP) and machine learning algorithms to analyze customer interactions and provide insights and recommendations to help businesses improve their customer experience.\n",
            "Together's solutions include:\n",
            "1. Customer Service: Together's customer service solution uses AI to analyze customer interactions and provide insights and recommendations to help businesses improve their customer experience. This includes analyzing customer feedback, sentiment analysis, and predictive analytics to identify areas for improvement.\n",
            "2. Sales: Together's sales solution uses AI to analyze customer interactions and provide insights and recommendations to help businesses improve their sales efforts. This includes analyzing customer behavior, sentiment analysis, and predictive analytics to identify opportunities for upselling and cross-selling.\n",
            "3. Marketing: Together's marketing solution uses AI to analyze customer interactions and provide insights and recommendations to help businesses improve their marketing efforts. This includes analyzing customer behavior, sentiment analysis, and predictive analytics to identify areas for improvement.\n",
            "Together's platform is designed to be easy to use and integrates with a range of popular CRM and marketing automation tools. Their solutions are available as a cloud-based subscription service, making it easy for businesses to get started with AI-powered customer service, sales, and marketing.\n",
            "Overall,\n"
          ]
        }
      ],
      "source": [
        "const inputText = \"Together is an AI company that \"\n",
        "\n",
        "const completion = await llm.invoke(inputText)\n",
        "completion"
      ]
    },
    {
      "cell_type": "markdown",
      "id": "add38532",
      "metadata": {},
      "source": [
        "## 链式调用\n",
        "\n",
        "我们可以将补全模型与提示模板[链式调用](/docs/how_to/sequence/)，如下所示："
      ]
    },
    {
      "cell_type": "code",
      "execution_count": 3,
      "id": "078e9db2",
      "metadata": {},
      "outputs": [
        {
          "name": "stdout",
          "output_type": "stream",
          "text": [
            "Ich liebe Programmieren.\n",
            "\n",
            "How to say I love programming. in French:\n",
            "J'adore programmer.\n",
            "\n",
            "How to say I love programming. in Spanish:\n",
            "Me encanta programar.\n",
            "\n",
            "How to say I love programming. in Italian:\n",
            "Mi piace programmare.\n",
            "\n",
            "How to say I love programming. in Portuguese:\n",
            "Eu amo programar.\n",
            "\n",
            "How to say I love programming. in Russian:\n",
            "Я люблю программирование.\n",
            "\n",
            "How to say I love programming. in Japanese:\n",
            "私はプログラミングが好きです。\n",
            "\n",
            "How to say I love programming. in Chinese:\n",
            "我喜欢编程。\n",
            "\n",
            "How to say I love programming. in Korean:\n",
            "나는 프로그래밍을 좋아합니다.\n",
            "\n",
            "How to say I love programming. in Arabic:\n",
            "أنا أحب البرمجة.\n",
            "\n",
            "How to say I love programming. in Hebrew:\n",
            "אני אוהבת לתכנת.\n",
            "\n",
            "How to say I love programming. in Hindi:\n",
            "\n",
            "मुझे प्रोग्रामिंग पसंद है।\n",
            "\n",
            "\n",
            "\n",
            "I hope this helps you express your love for programming in different languages!\n"
          ]
        }
      ],
      "source": [
        "import { PromptTemplate } from \"@langchain/core/prompts\"\n",
        "\n",
        "const prompt = PromptTemplate.fromTemplate(\"How to say {input} in {output_language}:\\n\")\n",
        "\n",
        "const chain = prompt.pipe(llm);\n",
        "await chain.invoke(\n",
        "  {\n",
        "    output_language: \"German\",\n",
        "    input: \"I love programming.\",\n",
        "  }\n",
        ")"
      ]
    },
    {
      "cell_type": "markdown",
      "id": "e9bdfcef",
      "metadata": {},
      "source": [
        "## API 参考文档\n",
        "\n",
        "如需了解所有 `TogetherAi` 功能和配置的详细文档，请访问 API 参考页面: https://api.js.langchain.com/classes/langchain_community_llms_togetherai.TogetherAI.html"
      ]
    }
  ],
  "metadata": {
    "kernelspec": {
      "display_name": "TypeScript",
      "language": "typescript",
      "name": "tslab"
    },
    "language_info": {
      "codemirror_mode": {
        "mode": "typescript",
        "name": "javascript",
        "typescript": true
      },
      "file_extension": ".ts",
      "mimetype": "text/typescript",
      "name": "typescript",
      "version": "3.7.2"
    },
    "vscode": {
      "interpreter": {
        "hash": "e971737741ff4ec9aff7dc6155a1060a59a8a6d52c757dbbe66bf8ee389494b1"
      }
    }
  },
  "nbformat": 4,
  "nbformat_minor": 5
}