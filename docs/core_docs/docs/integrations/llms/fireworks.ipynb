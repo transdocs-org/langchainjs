{
  "cells": [
    {
      "cell_type": "raw",
      "id": "67db2992",
      "metadata": {},
      "source": [
        "---\n",
        "sidebar_label: Fireworks\n",
        "---"
      ]
    },
    {
      "cell_type": "markdown",
      "id": "9597802c",
      "metadata": {},
      "source": [
        "# Fireworks\n",
        "\n",
        "\n",
        "```{=mdx}\n",
        "\n",
        ":::caution\n",
        "您当前所在的页面是关于将 Fireworks 模型用作[文本补全模型](/docs/concepts/text_llms)的文档。Fireworks 上提供的许多热门模型都是[聊天补全模型](/docs/concepts/chat_models)。\n",
        "\n",
        "您可能想查看[这个页面](/docs/integrations/chat/fireworks/)。\n",
        ":::\n",
        "\n",
        "```\n",
        "\n",
        "[Fireworks AI](https://fireworks.ai/) 是一个用于运行和定制模型的 AI 推理平台。有关 Fireworks 提供的所有模型的列表，请参阅 [Fireworks 文档](https://fireworks.ai/models)。\n",
        "\n",
        "这将帮助您使用 LangChain 开始使用 Fireworks 补全模型（LLMs）。有关 `Fireworks` 功能和配置选项的详细文档，请参阅[API 参考](https://api.js.langchain.com/classes/langchain_community_llms_fireworks.Fireworks.html)。\n",
        "\n",
        "## 概览\n",
        "### 集成详情\n",
        "\n",
        "| 类 | 包 | 本地支持 | 可序列化 | [Python 支持](https://python.langchain.com/docs/integrations/llms/fireworks) | 包下载量 | 最新包 |\n",
        "| :--- | :--- | :---: | :---: |  :---: | :---: | :---: |\n",
        "| [Fireworks](https://api.js.langchain.com/classes/langchain_community_llms_fireworks.Fireworks.html) | [@langchain/community](https://api.js.langchain.com/modules/langchain_community_llms_fireworks.html) | ❌ | ✅ | ✅ | ![NPM - 下载量](https://img.shields.io/npm/dm/@langchain/community?style=flat-square&label=%20&) | ![NPM - 版本](https://img.shields.io/npm/v/@langchain/community?style=flat-square&label=%20&) |\n",
        "\n",
        "## 准备工作\n",
        "\n",
        "要访问 Fireworks 模型，您需要创建一个 Fireworks 账户，获取 API 密钥，并安装 `@langchain/community` 集成包。\n",
        "\n",
        "### 凭据\n",
        "\n",
        "前往 [fireworks.ai](https://fireworks.ai/) 注册 Fireworks 并生成一个 API 密钥。完成此操作后，请设置 `FIREWORKS_API_KEY` 环境变量：\n",
        "\n",
        "```bash\n",
        "export FIREWORKS_API_KEY=\"your-api-key\"\n",
        "```\n",
        "\n",
        "如果您希望自动追踪模型调用，也可以通过取消注释以下内容来设置您的 [LangSmith](https://docs.smith.langchain.com/) API 密钥：\n",
        "\n",
        "```bash\n",
        "# export LANGSMITH_TRACING=\"true\"\n",
        "# export LANGSMITH_API_KEY=\"your-api-key\"\n",
        "```\n",
        "\n",
        "### 安装\n",
        "\n",
        "LangChain Fireworks 集成位于 `@langchain/community` 包中：\n",
        "\n",
        "```{=mdx}\n",
        "import IntegrationInstallTooltip from \"@mdx_components/integration_install_tooltip.mdx\";\n",
        "import Npm2Yarn from \"@theme/Npm2Yarn\";\n",
        "\n",
        "<IntegrationInstallTooltip></IntegrationInstallTooltip>\n",
        "\n",
        "<Npm2Yarn>\n",
        "  @langchain/community @langchain/core\n",
        "</Npm2Yarn>\n",
        "\n",
        "```"
      ]
    },
    {
      "cell_type": "markdown",
      "id": "0a760037",
      "metadata": {},
      "source": [
        "## 实例化\n",
        "\n",
        "现在我们可以实例化我们的模型对象并生成聊天补全："
      ]
    },
    {
      "cell_type": "code",
      "execution_count": 1,
      "id": "a0562a13",
      "metadata": {},
      "outputs": [],
      "source": [
        "import { Fireworks } from \"@langchain/community/llms/fireworks\"\n",
        "\n",
        "const llm = new Fireworks({\n",
        "  model: \"accounts/fireworks/models/llama-v3-70b-instruct\",\n",
        "  temperature: 0,\n",
        "  maxTokens: undefined,\n",
        "  timeout: undefined,\n",
        "  maxRetries: 2,\n",
        "  // other params...\n",
        "})"
      ]
    },
    {
      "cell_type": "markdown",
      "id": "0ee90032",
      "metadata": {},
      "source": [
        "## 调用"
      ]
    },
    {
      "cell_type": "code",
      "execution_count": 2,
      "id": "035dea0f",
      "metadata": {
        "tags": []
      },
      "outputs": [
        {
          "name": "stdout",
          "output_type": "stream",
          "text": [
            " helps businesses automate their customer support using AI-powered chatbots. We believe that AI can help businesses provide better customer support at a lower cost. Our chatbots are designed to be highly customizable and can be integrated with various platforms such as Facebook Messenger, Slack, and more.\n",
            "\n",
            "We are looking for a talented and motivated **Machine Learning Engineer** to join our team. As a Machine Learning Engineer at Fireworks, you will be responsible for developing and improving our AI models that power our chatbots. You will work closely with our data scientists, software engineers, and product managers to design, develop, and deploy AI models that can understand and respond to customer inquiries.\n",
            "\n",
            "**Responsibilities:**\n",
            "\n",
            "* Develop and improve AI models that can understand and respond to customer inquiries\n",
            "* Work with data scientists to design and develop new AI models\n",
            "* Collaborate with software engineers to integrate AI models with our chatbot platform\n",
            "* Work with product managers to understand customer requirements and develop AI models that meet those requirements\n",
            "* Develop and maintain data pipelines to support AI model development and deployment\n",
            "* Develop and maintain tools to monitor and evaluate AI model performance\n",
            "* Stay up-to-date with the latest developments in AI and machine learning and apply this knowledge to improve our AI models\n",
            "\n",
            "**Requirements:**\n",
            "\n",
            "* Bachelor's\n"
          ]
        }
      ],
      "source": [
        "const inputText = \"Fireworks is an AI company that \"\n",
        "\n",
        "const completion = await llm.invoke(inputText)\n",
        "completion"
      ]
    },
    {
      "cell_type": "markdown",
      "id": "add38532",
      "metadata": {},
      "source": [
        "## 链式调用\n",
        "\n",
        "我们可以像这样将补全模型与提示模板进行[链式调用](/docs/how_to/sequence/)："
      ]
    },
    {
      "cell_type": "code",
      "execution_count": 3,
      "id": "078e9db2",
      "metadata": {},
      "outputs": [
        {
          "name": "stdout",
          "output_type": "stream",
          "text": [
            "Ich liebe Programmieren.\n",
            "\n",
            "How to say I love coding. in German:\n",
            "Ich liebe Coden.\n",
            "\n",
            "How to say I love to code. in German:\n",
            "Ich liebe es zu coden.\n",
            "\n",
            "How to say I'm a programmer. in German:\n",
            "Ich bin ein Programmierer.\n",
            "\n",
            "How to say I'm a coder. in German:\n",
            "Ich bin ein Coder.\n",
            "\n",
            "How to say I'm a developer. in German:\n",
            "Ich bin ein Entwickler.\n",
            "\n",
            "How to say I'm a software engineer. in German:\n",
            "Ich bin ein Software-Ingenieur.\n",
            "\n",
            "How to say I'm a tech enthusiast. in German:\n",
            "Ich bin ein Technik-Enthusiast.\n",
            "\n",
            "How to say I'm passionate about technology. in German:\n",
            "Ich bin leidenschaftlich für Technologie.\n",
            "\n",
            "How to say I'm passionate about coding. in German:\n",
            "Ich bin leidenschaftlich für Coden.\n",
            "\n",
            "How to say I'm passionate about programming. in German:\n",
            "Ich bin leidenschaftlich für Programmieren.\n",
            "\n",
            "How to say I enjoy coding. in German:\n",
            "Ich genieße Coden.\n",
            "\n",
            "How to say I enjoy programming. in German:\n",
            "Ich genieße Programmieren.\n",
            "\n",
            "How to say I'm good at coding. in German:\n",
            "Ich bin gut im Coden.\n",
            "\n",
            "How to say I'm\n"
          ]
        }
      ],
      "source": [
        "import { PromptTemplate } from \"@langchain/core/prompts\"\n",
        "\n",
        "const prompt = PromptTemplate.fromTemplate(\"How to say {input} in {output_language}:\\n\")\n",
        "\n",
        "const chain = prompt.pipe(llm);\n",
        "await chain.invoke(\n",
        "  {\n",
        "    output_language: \"German\",\n",
        "    input: \"I love programming.\",\n",
        "  }\n",
        ")"
      ]
    },
    {
      "cell_type": "markdown",
      "id": "4989353f",
      "metadata": {},
      "source": [
        "在后台，Fireworks AI 使用 OpenAI SDK 和兼容 OpenAI 的 API，但有一些限制：\n",
        "\n",
        "- Fireworks API 不支持某些属性，请参见 [此处](https://readme.fireworks.ai/docs/openai-compatibility#api-compatibility)。\n",
        "- 不支持使用多个提示进行生成。\n"
      ]
    },
    {
      "cell_type": "markdown",
      "id": "e9bdfcef",
      "metadata": {},
      "source": [
        "## API 参考文档\n",
        "\n",
        "如需了解 Fireworks 所有功能和配置的详细文档，请访问 API 参考页面: https://api.js.langchain.com/classes/langchain_community_llms_fireworks.Fireworks.html"
      ]
    }
  ],
  "metadata": {
    "kernelspec": {
      "display_name": "TypeScript",
      "language": "typescript",
      "name": "tslab"
    },
    "language_info": {
      "codemirror_mode": {
        "mode": "typescript",
        "name": "javascript",
        "typescript": true
      },
      "file_extension": ".ts",
      "mimetype": "text/typescript",
      "name": "typescript",
      "version": "3.7.2"
    },
    "vscode": {
      "interpreter": {
        "hash": "e971737741ff4ec9aff7dc6155a1060a59a8a6d52c757dbbe66bf8ee389494b1"
      }
    }
  },
  "nbformat": 4,
  "nbformat_minor": 5
}