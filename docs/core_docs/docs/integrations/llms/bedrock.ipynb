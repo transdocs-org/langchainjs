{
  "cells": [
    {
      "cell_type": "raw",
      "id": "67db2992",
      "metadata": {},
      "source": [
        "---\n",
        "sidebar_label: Bedrock\n",
        "---"
      ]
    },
    {
      "cell_type": "markdown",
      "id": "9597802c",
      "metadata": {},
      "source": [
        "# Bedrock\n",
        "\n",
        "```{=mdx}\n",
        "\n",
        ":::caution\n",
        "您当前所在的页面是关于将 Amazon Bedrock 模型用作 [文本补全模型](/docs/concepts/text_llms) 的文档。Bedrock 上提供的许多流行模型都是 [聊天补全模型](/docs/concepts/chat_models)。\n",
        "\n",
        "您可能需要查看 [此页面](/docs/integrations/chat/bedrock/)。\n",
        ":::\n",
        "\n",
        "```\n",
        "\n",
        "> [Amazon Bedrock](https://aws.amazon.com/bedrock/) 是一项完全托管的服务，通过 API 提供来自领先 AI 初创公司和 Amazon 的基础模型 (FM)。\n",
        "> 您可以从一系列广泛的 FM 中进行选择，以找到最适合您使用场景的模型。\n",
        "\n",
        "这将帮助您使用 LangChain 开始使用 Bedrock 补全模型 (LLM)。有关 `Bedrock` 功能和配置选项的详细文档，请参阅 [API 参考](https://api.js.langchain.com/classes/langchain_community_llms_bedrock.Bedrock.html)。\n",
        "\n",
        "## 概述\n",
        "### 集成详情\n",
        "\n",
        "| 类 | 包 | 本地 | 可序列化 | [Python 支持](https://python.langchain.com/docs/integrations/llms/bedrock) | 包下载量 | 最新包 |\n",
        "| :--- | :--- | :---: | :---: |  :---: | :---: | :---: |\n",
        "| [Bedrock](https://api.js.langchain.com/classes/langchain_community_llms_bedrock.Bedrock.html) | [@langchain/community](https://api.js.langchain.com/modules/langchain_community_llms_bedrock.html) | ❌ | ✅ | ✅ | ![NPM - 下载量](https://img.shields.io/npm/dm/@langchain/community?style=flat-square&label=%20&) | ![NPM - 版本](https://img.shields.io/npm/v/@langchain/community?style=flat-square&label=%20&) |\n",
        "\n",
        "## 准备工作\n",
        "\n",
        "要访问 Bedrock 模型，您需要创建一个 AWS 账户，获取 API 密钥，并安装 `@langchain/community` 集成以及一些对等依赖项。\n",
        "\n",
        "### 凭证\n",
        "\n",
        "前往 [aws.amazon.com](https://aws.amazon.com) 注册 AWS Bedrock 并生成 API 密钥。完成此操作后，请设置环境变量：\n",
        "\n",
        "```bash\n",
        "export BEDROCK_AWS_REGION=\"your-region-url\"\n",
        "export BEDROCK_AWS_ACCESS_KEY_ID=\"your-access-key-id\"\n",
        "export BEDROCK_AWS_SECRET_ACCESS_KEY=\"your-secret-access-key\"\n",
        "```\n",
        "\n",
        "如果您希望自动追踪您的模型调用，也可以通过取消以下注释来设置 [LangSmith](https://docs.smith.langchain.com/) API 密钥：\n",
        "\n",
        "```bash\n",
        "# export LANGSMITH_TRACING=\"true\"\n",
        "# export LANGSMITH_API_KEY=\"your-api-key\"\n",
        "```\n",
        "\n",
        "### 安装\n",
        "\n",
        "LangChain Bedrock 集成位于 `@langchain/community` 包中：\n",
        "\n",
        "```{=mdx}\n",
        "import IntegrationInstallTooltip from \"@mdx_components/integration_install_tooltip.mdx\";\n",
        "import Npm2Yarn from \"@theme/Npm2Yarn\";\n",
        "\n",
        "<IntegrationInstallTooltip></IntegrationInstallTooltip>\n",
        "\n",
        "<Npm2Yarn>\n",
        "  @langchain/community @langchain/core\n",
        "</Npm2Yarn>\n",
        "\n",
        "同时安装对等依赖项：\n",
        "\n",
        "<Npm2Yarn>\n",
        "  @aws-crypto/sha256-js @aws-sdk/credential-provider-node @smithy/protocol-http @smithy/signature-v4 @smithy/eventstream-codec @smithy/util-utf8 @aws-sdk/types\n",
        "</Npm2Yarn>\n",
        "\n",
        "您还可以在 Web 环境（例如 Edge 函数或 Cloudflare Workers）中使用 Bedrock，只需省略 `@aws-sdk/credential-provider-node` 依赖项，并使用 `web` 入口点：\n",
        "\n",
        "<Npm2Yarn>\n",
        "  @aws-crypto/sha256-js @smithy/protocol-http @smithy/signature-v4 @smithy/eventstream-codec @smithy/util-utf8 @aws-sdk/types\n",
        "</Npm2Yarn>\n",
        "\n",
        "```"
      ]
    },
    {
      "cell_type": "markdown",
      "id": "0a760037",
      "metadata": {},
      "source": [
        "## 实例化\n",
        "\n",
        "现在我们可以实例化我们的模型对象并生成聊天补全结果："
      ]
    },
    {
      "cell_type": "code",
      "execution_count": null,
      "id": "093ae37f",
      "metadata": {},
      "outputs": [],
      "source": [
        "// @lc-docs-hide-cell\n",
        "// Deno requires these imports, and way of loading env vars.\n",
        "// we don't want to expose in the docs.\n",
        "// Below this cell we have a typescript markdown codeblock with\n",
        "// the node code.\n",
        "import \"@aws-sdk/credential-provider-node\";\n",
        "import \"@smithy/protocol-http\";\n",
        "import \"@aws-crypto/sha256-js\";\n",
        "import \"@smithy/protocol-http\";\n",
        "import \"@smithy/signature-v4\";\n",
        "import \"@smithy/eventstream-codec\";\n",
        "import \"@smithy/util-utf8\";\n",
        "import \"@aws-sdk/types\";\n",
        "import { Bedrock } from \"@langchain/community/llms/bedrock\"\n",
        "import { getEnvironmentVariable } from \"@langchain/core/utils/env\";\n",
        "\n",
        "const llm = new Bedrock({\n",
        "  model: \"anthropic.claude-v2\",\n",
        "  region: \"us-east-1\",\n",
        "  // endpointUrl: \"custom.amazonaws.com\",\n",
        "  credentials: {\n",
        "    accessKeyId: getEnvironmentVariable(\"BEDROCK_AWS_ACCESS_KEY_ID\"),\n",
        "    secretAccessKey: getEnvironmentVariable(\"BEDROCK_AWS_SECRET_ACCESS_KEY\"),\n",
        "  },\n",
        "  temperature: 0,\n",
        "  maxTokens: undefined,\n",
        "  maxRetries: 2,\n",
        "  // other params...\n",
        "})"
      ]
    },
    {
      "cell_type": "markdown",
      "id": "a0562a13",
      "metadata": {},
      "source": [
        "```typescript\n",
        "import { Bedrock } from \"@langchain/community/llms/bedrock\"\n",
        "\n",
        "const llm = new Bedrock({\n",
        "  model: \"anthropic.claude-v2\",\n",
        "  region: process.env.BEDROCK_AWS_REGION ?? \"us-east-1\",\n",
        "  // endpointUrl: \"custom.amazonaws.com\",\n",
        "  credentials: {\n",
        "    accessKeyId: process.env.BEDROCK_AWS_ACCESS_KEY_ID,\n",
        "    secretAccessKey: process.env.BEDROCK_AWS_SECRET_ACCESS_KEY,\n",
        "  },\n",
        "  temperature: 0,\n",
        "  maxTokens: undefined,\n",
        "  maxRetries: 2,\n",
        "  // 其他参数...\n",
        "})\n",
        "```"
      ]
    },
    {
      "cell_type": "markdown",
      "id": "0ee90032",
      "metadata": {},
      "source": [
        "## 调用\n",
        "\n",
        "请注意，某些模型需要特定的提示技术。例如，如果提示不以 `Human: ` 开头，Anthropic 的 Claude-v2 模型将会抛出错误。"
      ]
    },
    {
      "cell_type": "code",
      "execution_count": 3,
      "id": "035dea0f",
      "metadata": {
        "tags": []
      },
      "outputs": [
        {
          "data": {
            "text/plain": [
              "\u001b[32m\" Here are a few key points about Bedrock AI:\\n\"\u001b[39m +\n",
              "  \u001b[32m\"\\n\"\u001b[39m +\n",
              "  \u001b[32m\"- Bedrock was founded in 2021 and is based in San Fran\"\u001b[39m... 116 more characters"
            ]
          },
          "execution_count": 3,
          "metadata": {},
          "output_type": "execute_result"
        }
      ],
      "source": [
        "const inputText = \"Human: Bedrock is an AI company that\\nAssistant: \"\n",
        "\n",
        "const completion = await llm.invoke(inputText)\n",
        "completion"
      ]
    },
    {
      "cell_type": "markdown",
      "id": "add38532",
      "metadata": {},
      "source": [
        "## 链式调用\n",
        "\n",
        "我们可以像这样将补全模型与提示模板[链式调用](/docs/how_to/sequence/)："
      ]
    },
    {
      "cell_type": "code",
      "execution_count": 21,
      "id": "078e9db2",
      "metadata": {},
      "outputs": [
        {
          "data": {
            "text/plain": [
              "\u001b[32m' Here is how to say \"I love programming\" in German:\\n'\u001b[39m +\n",
              "  \u001b[32m\"\\n\"\u001b[39m +\n",
              "  \u001b[32m\"Ich liebe das Programmieren.\"\u001b[39m"
            ]
          },
          "execution_count": 21,
          "metadata": {},
          "output_type": "execute_result"
        }
      ],
      "source": [
        "import { PromptTemplate } from \"@langchain/core/prompts\"\n",
        "\n",
        "const prompt = PromptTemplate.fromTemplate(\"Human: How to say {input} in {output_language}:\\nAssistant:\")\n",
        "\n",
        "const chain = prompt.pipe(llm);\n",
        "await chain.invoke(\n",
        "  {\n",
        "    output_language: \"German\",\n",
        "    input: \"I love programming.\",\n",
        "  }\n",
        ")"
      ]
    },
    {
      "cell_type": "markdown",
      "id": "e9bdfcef",
      "metadata": {},
      "source": [
        "## API 参考文档\n",
        "\n",
        "有关所有 Bedrock 特性和配置的详细文档，请访问 API 参考页面: https://api.js.langchain.com/classes/langchain_community_llms_bedrock.Bedrock.html"
      ]
    }
  ],
  "metadata": {
    "kernelspec": {
      "display_name": "Deno",
      "language": "typescript",
      "name": "deno"
    },
    "language_info": {
      "file_extension": ".ts",
      "mimetype": "text/x.typescript",
      "name": "typescript",
      "nb_converter": "script",
      "pygments_lexer": "typescript",
      "version": "5.3.3"
    },
    "vscode": {
      "interpreter": {
        "hash": "e971737741ff4ec9aff7dc6155a1060a59a8a6d52c757dbbe66bf8ee389494b1"
      }
    }
  },
  "nbformat": 4,
  "nbformat_minor": 5
}