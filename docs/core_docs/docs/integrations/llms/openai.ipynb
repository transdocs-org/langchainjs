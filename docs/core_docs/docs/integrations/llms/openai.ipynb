{
  "cells": [
    {
      "cell_type": "raw",
      "id": "67db2992",
      "metadata": {},
      "source": [
        "---\n",
        "sidebar_label: OpenAI\n",
        "---"
      ]
    },
    {
      "cell_type": "markdown",
      "id": "9597802c",
      "metadata": {},
      "source": [
        "# OpenAI\n",
        "\n",
        "```{=mdx}\n",
        "\n",
        ":::caution\n",
        "您当前所在的页面记录了 OpenAI [文本补全模型](/docs/concepts/text_llms) 的使用。OpenAI 最新且最受欢迎的模型是 [聊天补全模型](/docs/concepts/chat_models)。\n",
        "\n",
        "除非您正在专门使用 `gpt-3.5-turbo-instruct`，否则您可能需要查看 [这个页面](/docs/integrations/chat/openai/)。\n",
        ":::\n",
        "\n",
        "```\n",
        "\n",
        "[OpenAI](https://en.wikipedia.org/wiki/OpenAI) 是一家人工智能 (AI) 研究实验室。\n",
        "\n",
        "这将帮助您使用 LangChain 开始使用 OpenAI 补全模型 (LLMs)。有关 `OpenAI` 的功能和配置选项的详细文档，请参阅 [API 参考文档](https://api.js.langchain.com/classes/langchain_openai.OpenAI.html)。\n",
        "\n",
        "## 概览\n",
        "### 集成详情\n",
        "\n",
        "| 类别 | 包 | 本地支持 | 可序列化 | [Python 支持](https://python.langchain.com/docs/integrations/llms/openai) | 包下载量 | 最新版本 |\n",
        "| :--- | :--- | :---: | :---: |  :---: | :---: | :---: |\n",
        "| [OpenAI](https://api.js.langchain.com/classes/langchain_openai.OpenAI.html) | [@langchain/openai](https://www.npmjs.com/package/@langchain/openai) | ❌ | ✅ | ✅ | ![NPM - 下载量](https://img.shields.io/npm/dm/@langchain/openai?style=flat-square&label=%20&) | ![NPM - 版本](https://img.shields.io/npm/v/@langchain/openai?style=flat-square&label=%20&) |\n",
        "\n",
        "## 准备工作\n",
        "\n",
        "要访问 OpenAI 模型，您需要创建一个 OpenAI 账户，获取 API 密钥，并安装 `@langchain/openai` 集成包。\n",
        "\n",
        "### 凭证信息\n",
        "\n",
        "前往 [platform.openai.com](https://platform.openai.com/) 注册 OpenAI 账号并生成 API 密钥。完成此操作后，请设置 `OPENAI_API_KEY` 环境变量：\n",
        "\n",
        "```bash\n",
        "export OPENAI_API_KEY=\"your-api-key\"\n",
        "```\n",
        "\n",
        "如果您希望自动追踪模型调用，还可以取消以下 [LangSmith](https://docs.smith.langchain.com/) API 密钥的注释：\n",
        "\n",
        "```bash\n",
        "# export LANGSMITH_TRACING=\"true\"\n",
        "# export LANGSMITH_API_KEY=\"your-api-key\"\n",
        "```\n",
        "\n",
        "### 安装\n",
        "\n",
        "LangChain OpenAI 集成位于 `@langchain/openai` 包中：\n",
        "\n",
        "```{=mdx}\n",
        "import IntegrationInstallTooltip from \"@mdx_components/integration_install_tooltip.mdx\";\n",
        "import Npm2Yarn from \"@theme/Npm2Yarn\";\n",
        "\n",
        "<IntegrationInstallTooltip></IntegrationInstallTooltip>\n",
        "\n",
        "<Npm2Yarn>\n",
        "  @langchain/openai @langchain/core\n",
        "</Npm2Yarn>\n",
        "\n",
        "```"
      ]
    },
    {
      "cell_type": "markdown",
      "id": "0a760037",
      "metadata": {},
      "source": [
        "## 实例化\n",
        "\n",
        "现在我们可以实例化我们的模型对象并生成聊天补全结果："
      ]
    },
    {
      "cell_type": "code",
      "execution_count": 1,
      "id": "a0562a13",
      "metadata": {},
      "outputs": [],
      "source": [
        "import { OpenAI } from \"@langchain/openai\"\n",
        "\n",
        "const llm = new OpenAI({\n",
        "  model: \"gpt-3.5-turbo-instruct\",\n",
        "  temperature: 0,\n",
        "  maxTokens: undefined,\n",
        "  timeout: undefined,\n",
        "  maxRetries: 2,\n",
        "  apiKey: process.env.OPENAI_API_KEY,\n",
        "  // other params...\n",
        "})"
      ]
    },
    {
      "cell_type": "markdown",
      "id": "0ee90032",
      "metadata": {},
      "source": [
        "## 调用"
      ]
    },
    {
      "cell_type": "code",
      "execution_count": 2,
      "id": "035dea0f",
      "metadata": {
        "tags": []
      },
      "outputs": [
        {
          "name": "stdout",
          "output_type": "stream",
          "text": [
            "develops and promotes friendly AI for the benefit of humanity. It was founded in 2015 by Elon Musk, Sam Altman, Greg Brockman, Ilya Sutskever, Wojciech Zaremba, John Schulman, and Chris Olah. The company's mission is to create and promote artificial general intelligence (AGI) that is safe and beneficial to humanity.\n",
            "\n",
            "OpenAI conducts research in various areas of AI, including deep learning, reinforcement learning, robotics, and natural language processing. The company also develops and releases open-source tools and platforms for AI research, such as the GPT-3 language model and the Gym toolkit for reinforcement learning.\n",
            "\n",
            "One of the main goals of OpenAI is to ensure that the development of AI is aligned with human values and does not pose a threat to humanity. To this end, the company has established a set of principles for safe and ethical AI development, and it actively collaborates with other organizations and researchers in the field.\n",
            "\n",
            "OpenAI has received funding from various sources, including tech giants like Microsoft and Amazon, as well as individual investors. It has also partnered with companies and organizations such as Google, IBM, and the United Nations to advance its research and promote responsible AI development.\n",
            "\n",
            "In addition to its research and development\n"
          ]
        }
      ],
      "source": [
        "const inputText = \"OpenAI is an AI company that \"\n",
        "\n",
        "const completion = await llm.invoke(inputText)\n",
        "completion"
      ]
    },
    {
      "cell_type": "markdown",
      "id": "add38532",
      "metadata": {},
      "source": [
        "## 链式调用\n",
        "\n",
        "我们可以像这样将补全模型与提示模板进行[链式调用](/docs/how_to/sequence/)："
      ]
    },
    {
      "cell_type": "code",
      "execution_count": 5,
      "id": "078e9db2",
      "metadata": {},
      "outputs": [
        {
          "name": "stdout",
          "output_type": "stream",
          "text": [
            "\n",
            "Ich liebe Programmieren.\n"
          ]
        }
      ],
      "source": [
        "import { PromptTemplate } from \"@langchain/core/prompts\"\n",
        "\n",
        "const prompt = new PromptTemplate({\n",
        "  template: \"How to say {input} in {output_language}:\\n\",\n",
        "  inputVariables: [\"input\", \"output_language\"],\n",
        "})\n",
        "\n",
        "const chain = prompt.pipe(llm);\n",
        "await chain.invoke(\n",
        "  {\n",
        "    output_language: \"German\",\n",
        "    input: \"I love programming.\",\n",
        "  }\n",
        ")"
      ]
    },
    {
      "cell_type": "markdown",
      "id": "e99eef30",
      "metadata": {},
      "source": [
        "如果您属于某个组织，可以将 `process.env.OPENAI_ORGANIZATION` 设置为您的 OpenAI 组织 ID，或者在初始化模型时将其作为 `organization` 参数传入。\n",
        "\n",
        "## 自定义URL\n",
        "\n",
        "您可以通过传递如下所示的 `configuration` 参数，自定义SDK发送请求的基础URL："
      ]
    },
    {
      "cell_type": "code",
      "execution_count": null,
      "id": "d958ab00",
      "metadata": {},
      "outputs": [],
      "source": [
        "const llmCustomURL = new OpenAI({\n",
        "  temperature: 0.9,\n",
        "  configuration: {\n",
        "    baseURL: \"https://your_custom_url.com\",\n",
        "  },\n",
        "});"
      ]
    },
    {
      "cell_type": "markdown",
      "id": "81a5e2ea",
      "metadata": {},
      "source": [
        "你还可以传递官方SDK接受的其他`ClientOptions`参数。\n",
        "\n",
        "如果你使用的是Azure OpenAI托管服务，请查看[专用页面](/docs/integrations/llms/azure)。\n"
      ]
    },
    {
      "cell_type": "markdown",
      "id": "e9bdfcef",
      "metadata": {},
      "source": [
        "## API 参考文档\n",
        "\n",
        "有关所有 OpenAI 功能和配置的详细文档，请访问 API 参考页面: https://api.js.langchain.com/classes/langchain_openai.OpenAI.html"
      ]
    }
  ],
  "metadata": {
    "kernelspec": {
      "display_name": "TypeScript",
      "language": "typescript",
      "name": "tslab"
    },
    "language_info": {
      "codemirror_mode": {
        "mode": "typescript",
        "name": "javascript",
        "typescript": true
      },
      "file_extension": ".ts",
      "mimetype": "text/typescript",
      "name": "typescript",
      "version": "3.7.2"
    },
    "vscode": {
      "interpreter": {
        "hash": "e971737741ff4ec9aff7dc6155a1060a59a8a6d52c757dbbe66bf8ee389494b1"
      }
    }
  },
  "nbformat": 4,
  "nbformat_minor": 5
}