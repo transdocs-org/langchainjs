{
  "cells": [
    {
      "cell_type": "raw",
      "id": "67db2992",
      "metadata": {
        "vscode": {
          "languageId": "raw"
        }
      },
      "source": [
        "---\n",
        "sidebar_label: Google Vertex AI\n",
        "---"
      ]
    },
    {
      "cell_type": "markdown",
      "id": "9597802c",
      "metadata": {},
      "source": [
        "# Google Vertex AI\n",
        "\n",
        "```{=mdx}\n",
        "\n",
        ":::caution\n",
        "您当前所在的页面是关于将 Google Vertex 模型用作[文本补全模型](/docs/concepts/text_llms)的文档。Google Vertex 上有许多流行的模型是[聊天补全模型](/docs/concepts/chat_models)。\n",
        "\n",
        "您可能需要查看[这个页面](/docs/integrations/chat/google_vertex_ai/)。\n",
        ":::\n",
        "\n",
        "```\n",
        "\n",
        "[Google Vertex](https://cloud.google.com/vertex-ai) 是一项服务，提供了 Google Cloud 中可用的所有基础模型，例如 `gemini-1.5-pro`、`gemini-1.5-flash` 等。\n",
        "\n",
        "这将帮助您通过 LangChain 开始使用 VertexAI 补全模型（LLMs）。有关 `VertexAI` 功能和配置选项的详细文档，请参阅[API 参考文档](https://api.js.langchain.com/classes/langchain_google_vertexai.VertexAI.html)。\n",
        "\n",
        "## 概述\n",
        "\n",
        "### 集成详情\n",
        "\n",
        "| 类别 | 包 | 本地支持 | 可序列化 | [PY 支持](https://python.langchain.com/docs/integrations/llms/google_vertex_ai_palm) | 包下载量 | 最新版本 |\n",
        "| :--- | :--- | :---: | :---: |  :---: | :---: | :---: |\n",
        "| [VertexAI](https://api.js.langchain.com/classes/langchain_google_vertexai.VertexAI.html) | [`@langchain/google-vertexai`](https://www.npmjs.com/package/@langchain/google-vertexai) | ❌ | ✅ | ✅ | ![NPM - 下载量](https://img.shields.io/npm/dm/@langchain/google-vertexai?style=flat-square&label=%20&) | ![NPM - 版本](https://img.shields.io/npm/v/@langchain/google-vertexai?style=flat-square&label=%20&) |\n",
        "\n",
        "## 准备工作\n",
        "\n",
        "LangChain.js 支持两种不同的认证方式，具体取决于您是在 Node.js 环境还是 Web 环境中运行。\n",
        "\n",
        "要访问 VertexAI 模型，您需要创建一个 Google Cloud Platform (GCP) 账号，获取 API 密钥，并安装 `@langchain/google-vertexai` 集成包。\n",
        "\n",
        "### 凭证\n",
        "\n",
        "#### Node.js\n",
        "\n",
        "您应确保 Vertex AI API 对相关项目是启用状态，并且已通过以下任一方式对 Google Cloud 进行了身份验证：\n",
        "\n",
        "- 您已登录一个允许访问该项目的账户（使用 `gcloud auth application-default login`）。\n",
        "- 您正在一台使用允许访问该项目的服务账户的机器上运行。\n",
        "- 您已下载允许访问该项目的服务账户凭证，并将 `GOOGLE_APPLICATION_CREDENTIALS` 环境变量设置为该文件的路径。\n",
        "  **或**\n",
        "- 您将 `GOOGLE_API_KEY` 环境变量设置为该项目的 API 密钥。\n",
        "\n",
        "#### Web\n",
        "\n",
        "在 Web 环境中（例如 Edge 函数）调用 Vertex AI 模型时，您需要安装 `@langchain/google-vertexai-web` 包。\n",
        "\n",
        "然后，您需要将您的服务账户凭据直接作为 `GOOGLE_VERTEX_AI_WEB_CREDENTIALS` 环境变量添加：\n",
        "\n",
        "```\n",
        "GOOGLE_VERTEX_AI_WEB_CREDENTIALS={\"type\":\"service_account\",\"project_id\":\"YOUR_PROJECT-12345\",...}\n",
        "```\n",
        "\n",
        "您也可以像这样在代码中直接传入您的凭据：\n",
        "\n",
        "```typescript\n",
        "import { VertexAI } from \"@langchain/google-vertexai\";\n",
        "// 如果您使用的是 Web 版本，请取消下一行的注释：\n",
        "// import { VertexAI } from \"@langchain/google-vertexai-web\";\n",
        "\n",
        "const model = new VertexAI({\n",
        "  authOptions: {\n",
        "    credentials: {\"type\":\"service_account\",\"project_id\":\"YOUR_PROJECT-12345\",...},\n",
        "  },\n",
        "});\n",
        "```\n",
        "\n",
        "如果您希望对模型调用进行自动追踪，也可以通过取消以下注释来设置您的 [LangSmith](https://docs.smith.langchain.com/) API 密钥：\n",
        "\n",
        "```bash\n",
        "# export LANGSMITH_TRACING=\"true\"\n",
        "# export LANGSMITH_API_KEY=\"your-api-key\"\n",
        "```\n",
        "\n",
        "### 安装\n",
        "\n",
        "LangChain VertexAI 集成位于 `@langchain/google-vertexai` 包中：\n",
        "\n",
        "```{=mdx}\n",
        "import IntegrationInstallTooltip from \"@mdx_components/integration_install_tooltip.mdx\";\n",
        "import Npm2Yarn from \"@theme/Npm2Yarn\";\n",
        "\n",
        "<IntegrationInstallTooltip></IntegrationInstallTooltip>\n",
        "\n",
        "<Npm2Yarn>\n",
        "  @langchain/google-vertexai @langchain/core\n",
        "</Npm2Yarn>\n",
        "\n",
        "或针对 Web 环境：\n",
        "\n",
        "<Npm2Yarn>\n",
        "  @langchain/google-vertexai-web @langchain/core\n",
        "</Npm2Yarn>\n",
        "\n",
        "```"
      ]
    },
    {
      "cell_type": "markdown",
      "id": "0a760037",
      "metadata": {},
      "source": [
        "## 实例化\n",
        "\n",
        "现在我们可以实例化我们的模型对象并生成聊天补全："
      ]
    },
    {
      "cell_type": "code",
      "execution_count": 2,
      "id": "a0562a13",
      "metadata": {},
      "outputs": [],
      "source": [
        "import { VertexAI } from \"@langchain/google-vertexai-web\"\n",
        "\n",
        "const llm = new VertexAI({\n",
        "  model: \"gemini-pro\",\n",
        "  temperature: 0,\n",
        "  maxRetries: 2,\n",
        "  // other params...\n",
        "})"
      ]
    },
    {
      "cell_type": "markdown",
      "id": "0ee90032",
      "metadata": {},
      "source": [
        "## 调用"
      ]
    },
    {
      "cell_type": "code",
      "execution_count": null,
      "id": "035dea0f",
      "metadata": {
        "tags": []
      },
      "outputs": [],
      "source": [
        "const inputText = \"VertexAI is an AI company that \"\n",
        "\n",
        "const completion = await llm.invoke(inputText)\n",
        "completion"
      ]
    },
    {
      "cell_type": "markdown",
      "id": "f580765e",
      "metadata": {
        "vscode": {
          "languageId": "raw"
        }
      },
      "source": [
        "```txt\n",
        "为企业和开发者提供广泛的云计算服务和人工智能解决方案。\n",
        "```"
      ]
    },
    {
      "cell_type": "markdown",
      "id": "add38532",
      "metadata": {},
      "source": [
        "## 链式调用\n",
        "\n",
        "我们可以将补全模型与提示模板以如下方式进行[链式调用](/docs/how_to/sequence/)："
      ]
    },
    {
      "cell_type": "code",
      "execution_count": null,
      "id": "078e9db2",
      "metadata": {},
      "outputs": [],
      "source": [
        "import { PromptTemplate } from \"@langchain/core/prompts\"\n",
        "\n",
        "const prompt = PromptTemplate.fromTemplate(\"How to say {input} in {output_language}:\\n\")\n",
        "\n",
        "const chain = prompt.pipe(llm);\n",
        "await chain.invoke(\n",
        "  {\n",
        "    output_language: \"German\",\n",
        "    input: \"I love programming.\",\n",
        "  }\n",
        ")"
      ]
    },
    {
      "cell_type": "markdown",
      "id": "4d106b41",
      "metadata": {
        "vscode": {
          "languageId": "raw"
        }
      },
      "source": [
        "```txt\n",
        "\"我爱编程。\"\n",
        "发音指南：\n",
        "\n",
        "Ich: [ɪç]（类似于 \"ikh\"，带有轻柔的 \"ch\" 音）\n",
        "liebe: [ˈliːbə]（LEE-buh）\n",
        "Programmieren: [pʁoɡʁaˈmiːʁən]（pro-gra-MEE-ren）\n",
        "\n",
        "你也可以这样说：\n",
        "\"Ich liebe es zu programmieren.\"\n",
        "更直译的意思是 \"我喜欢编程。\" 这个版本稍微正式或准确一些。\n",
        "发音：\n",
        "\n",
        "es: [ɛs]（像字母 \"S\" 的发音）\n",
        "zu: [tsuː]（tsoo）\n",
        "\n",
        "两个版本都是正确的，而且都很常用。\n",
        "```"
      ]
    },
    {
      "cell_type": "markdown",
      "id": "e9bdfcef",
      "metadata": {},
      "source": [
        "## API 参考文档\n",
        "\n",
        "如需了解所有 VertexAI 功能和配置的详细文档，请访问 API 参考页面: https://api.js.langchain.com/classes/langchain_google_vertexai.VertexAI.html"
      ]
    }
  ],
  "metadata": {
    "kernelspec": {
      "display_name": "Deno",
      "language": "typescript",
      "name": "deno"
    },
    "language_info": {
      "file_extension": ".ts",
      "mimetype": "text/x.typescript",
      "name": "typescript",
      "nb_converter": "script",
      "pygments_lexer": "typescript",
      "version": "5.3.3"
    },
    "vscode": {
      "interpreter": {
        "hash": "e971737741ff4ec9aff7dc6155a1060a59a8a6d52c757dbbe66bf8ee389494b1"
      }
    }
  },
  "nbformat": 4,
  "nbformat_minor": 5
}