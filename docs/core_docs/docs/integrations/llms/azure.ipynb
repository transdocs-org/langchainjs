{
  "cells": [
    {
      "cell_type": "raw",
      "id": "67db2992",
      "metadata": {
        "vscode": {
          "languageId": "raw"
        }
      },
      "source": [
        "---\n",
        "sidebar_label: Azure OpenAI\n",
        "---"
      ]
    },
    {
      "cell_type": "markdown",
      "id": "9597802c",
      "metadata": {},
      "source": [
        "# AzureOpenAI\n",
        "\n",
        "```{=mdx}\n",
        "\n",
        ":::caution\n",
        "您当前所在的页面记录的是 Azure OpenAI [文本补全模型](/docs/concepts/text_llms) 的使用情况。最新的且最受欢迎的 Azure OpenAI 模型是 [聊天补全模型](/docs/concepts/chat_models)。\n",
        "\n",
        "除非您正在使用 `gpt-3.5-turbo-instruct`，否则您可能需要查看 [这个页面](/docs/integrations/chat/azure/)。\n",
        ":::\n",
        "\n",
        ":::info\n",
        "\n",
        "以前，LangChain.js 支持使用专用的 [Azure OpenAI SDK](https://github.com/Azure/azure-sdk-for-js/tree/main/sdk/openai/openai) 集成 Azure OpenAI。该 SDK 现已被弃用，取而代之的是 OpenAI SDK 中的新 Azure 集成，它允许在最新 OpenAI 模型和功能发布的当天就进行访问，并且可以在 OpenAI API 和 Azure OpenAI 之间无缝切换。\n",
        "\n",
        "如果您正在使用已弃用的 SDK 的 Azure OpenAI，请参阅 [迁移指南](#migration-from-azure-openai-sdk) 以更新到新 API。\n",
        "\n",
        ":::\n",
        "\n",
        "```\n",
        "\n",
        "[Azure OpenAI](https://learn.microsoft.com/zh-cn/azure/ai-services/openai/) 是 Microsoft Azure 提供的一项服务，提供了来自 OpenAI 的强大语言模型。\n",
        "\n",
        "这将帮助您开始使用 LangChain 的 AzureOpenAI 补全模型 (LLMs)。有关 `AzureOpenAI` 功能和配置选项的详细文档，请参阅 [API 参考](https://api.js.langchain.com/classes/langchain_openai.AzureOpenAI.html)。\n",
        "\n",
        "## 概述\n",
        "### 集成详情\n",
        "\n",
        "| 类 | 包 | 本地 | 可序列化 | [PY 支持](https://python.langchain.com/docs/integrations/llms/azure_openai) | 包下载量 | 包最新版本 |\n",
        "| :--- | :--- | :---: | :---: |  :---: | :---: | :---: |\n",
        "| [AzureOpenAI](https://api.js.langchain.com/classes/langchain_openai.AzureOpenAI.html) | [@langchain/openai](https://api.js.langchain.com/modules/langchain_openai.html) | ❌ | ✅ | ✅ | ![NPM - 下载量](https://img.shields.io/npm/dm/@langchain/openai?style=flat-square&label=%20&) | ![NPM - 版本](https://img.shields.io/npm/v/@langchain/openai?style=flat-square&label=%20&) |\n",
        "\n",
        "## 准备\n",
        "\n",
        "要访问 AzureOpenAI 模型，您需要创建一个 Azure 帐户，获取一个 API 密钥，并安装 `@langchain/openai` 集成包。\n",
        "\n",
        "### 凭据\n",
        "\n",
        "前往 [azure.microsoft.com](https://azure.microsoft.com/) 注册 AzureOpenAI 并生成一个 API 密钥。\n",
        "\n",
        "您还需要部署一个 Azure OpenAI 实例。您可以按照 [此指南](https://learn.microsoft.com/azure/ai-services/openai/how-to/create-resource?pivots=web-portal) 在 Azure 门户中部署一个实例。\n",
        "\n",
        "一旦您的实例运行起来，请确保您拥有实例的名称和密钥。您可以在 Azure 门户中实例的 \"密钥和端点\" 部分找到密钥。\n",
        "\n",
        "如果您使用的是 Node.js，可以定义以下环境变量来使用该服务：\n",
        "\n",
        "```bash\n",
        "AZURE_OPENAI_API_INSTANCE_NAME=<YOUR_INSTANCE_NAME>\n",
        "AZURE_OPENAI_API_DEPLOYMENT_NAME=<YOUR_DEPLOYMENT_NAME>\n",
        "AZURE_OPENAI_API_KEY=<YOUR_KEY>\n",
        "AZURE_OPENAI_API_VERSION=\"2024-02-01\"\n",
        "```\n",
        "\n",
        "或者，您可以将这些值直接传递给 `AzureOpenAI` 构造函数。\n",
        "\n",
        "如果您希望自动跟踪模型调用，也可以通过取消注释以下内容来设置 [LangSmith](https://docs.smith.langchain.com/) API 密钥：\n",
        "\n",
        "```bash\n",
        "# export LANGSMITH_TRACING=\"true\"\n",
        "# export LANGSMITH_API_KEY=\"your-api-key\"\n",
        "```\n",
        "\n",
        "### 安装\n",
        "\n",
        "LangChain AzureOpenAI 集成位于 `@langchain/openai` 包中：\n",
        "\n",
        "```{=mdx}\n",
        "import IntegrationInstallTooltip from \"@mdx_components/integration_install_tooltip.mdx\";\n",
        "import Npm2Yarn from \"@theme/Npm2Yarn\";\n",
        "\n",
        "<IntegrationInstallTooltip></IntegrationInstallTooltip>\n",
        "\n",
        "<Npm2Yarn>\n",
        "  @langchain/openai @langchain/core\n",
        "</Npm2Yarn>\n",
        "\n",
        "```"
      ]
    },
    {
      "cell_type": "markdown",
      "id": "0a760037",
      "metadata": {},
      "source": [
        "## 实例化\n",
        "\n",
        "现在我们可以实例化我们的模型对象并生成聊天补全结果："
      ]
    },
    {
      "cell_type": "code",
      "execution_count": 7,
      "id": "a0562a13",
      "metadata": {},
      "outputs": [],
      "source": [
        "import { AzureOpenAI } from \"@langchain/openai\"\n",
        "\n",
        "const llm = new AzureOpenAI({\n",
        "  model: \"gpt-3.5-turbo-instruct\",\n",
        "  azureOpenAIApiKey: \"<your_key>\", // In Node.js defaults to process.env.AZURE_OPENAI_API_KEY\n",
        "  azureOpenAIApiInstanceName: \"<your_instance_name>\", // In Node.js defaults to process.env.AZURE_OPENAI_API_INSTANCE_NAME\n",
        "  azureOpenAIApiDeploymentName: \"<your_deployment_name>\", // In Node.js defaults to process.env.AZURE_OPENAI_API_DEPLOYMENT_NAME\n",
        "  azureOpenAIApiVersion: \"<api_version>\", // In Node.js defaults to process.env.AZURE_OPENAI_API_VERSION\n",
        "  temperature: 0,\n",
        "  maxTokens: undefined,\n",
        "  timeout: undefined,\n",
        "  maxRetries: 2,\n",
        "  // other params...\n",
        "})"
      ]
    },
    {
      "cell_type": "markdown",
      "id": "0ee90032",
      "metadata": {},
      "source": [
        "## 调用"
      ]
    },
    {
      "cell_type": "code",
      "execution_count": 8,
      "id": "035dea0f",
      "metadata": {
        "tags": []
      },
      "outputs": [
        {
          "name": "stdout",
          "output_type": "stream",
          "text": [
            "provides AI solutions to businesses. They offer a range of services including natural language processing, computer vision, and machine learning. Their solutions are designed to help businesses automate processes, gain insights from data, and improve decision-making. AzureOpenAI also offers consulting services to help businesses identify and implement the best AI solutions for their specific needs. They work with a variety of industries, including healthcare, finance, and retail. With their expertise in AI and their partnership with Microsoft Azure, AzureOpenAI is a trusted provider of AI solutions for businesses looking to stay ahead in the rapidly evolving world of technology.\n"
          ]
        }
      ],
      "source": [
        "const inputText = \"AzureOpenAI is an AI company that \"\n",
        "\n",
        "const completion = await llm.invoke(inputText)\n",
        "completion"
      ]
    },
    {
      "cell_type": "markdown",
      "id": "add38532",
      "metadata": {},
      "source": [
        "## 链式调用\n",
        "\n",
        "我们可以将补全模型与提示模板[链式调用](/docs/how_to/sequence/)，如下所示："
      ]
    },
    {
      "cell_type": "code",
      "execution_count": 9,
      "id": "078e9db2",
      "metadata": {},
      "outputs": [
        {
          "name": "stdout",
          "output_type": "stream",
          "text": [
            "\n",
            "Ich liebe Programmieren.\n"
          ]
        }
      ],
      "source": [
        "import { PromptTemplate } from \"@langchain/core/prompts\"\n",
        "\n",
        "const prompt = new PromptTemplate({\n",
        "  template: \"How to say {input} in {output_language}:\\n\",\n",
        "  inputVariables: [\"input\", \"output_language\"],\n",
        "})\n",
        "\n",
        "const chain = prompt.pipe(llm);\n",
        "await chain.invoke(\n",
        "  {\n",
        "    output_language: \"German\",\n",
        "    input: \"I love programming.\",\n",
        "  }\n",
        ")"
      ]
    },
    {
      "cell_type": "markdown",
      "id": "e99eef30",
      "metadata": {},
      "source": [
        "## 使用 Azure 托管标识\n",
        "\n",
        "如果你正在使用 Azure 托管标识，你可以这样配置凭据："
      ]
    },
    {
      "cell_type": "code",
      "execution_count": null,
      "id": "c21d1eb8",
      "metadata": {},
      "outputs": [],
      "source": [
        "import {\n",
        "  DefaultAzureCredential,\n",
        "  getBearerTokenProvider,\n",
        "} from \"@azure/identity\";\n",
        "import { AzureOpenAI } from \"@langchain/openai\";\n",
        "\n",
        "const credentials = new DefaultAzureCredential();\n",
        "const azureADTokenProvider = getBearerTokenProvider(\n",
        "  credentials,\n",
        "  \"https://cognitiveservices.azure.com/.default\"\n",
        ");\n",
        "\n",
        "const managedIdentityLLM = new AzureOpenAI({\n",
        "  azureADTokenProvider,\n",
        "  azureOpenAIApiInstanceName: \"<your_instance_name>\",\n",
        "  azureOpenAIApiDeploymentName: \"<your_deployment_name>\",\n",
        "  azureOpenAIApiVersion: \"<api_version>\",\n",
        "});\n"
      ]
    },
    {
      "cell_type": "markdown",
      "id": "94c2572b",
      "metadata": {},
      "source": [
        "## 使用不同的域名\n",
        "\n",
        "如果你的实例托管在非默认的 `openai.azure.com` 域名下，你需要使用替代的 `AZURE_OPENAI_BASE_PATH` 环境变量。\n",
        "例如，以下是如何连接到域名 `https://westeurope.api.microsoft.com/openai/deployments/{DEPLOYMENT_NAME}` 的方法："
      ]
    },
    {
      "cell_type": "code",
      "execution_count": null,
      "id": "bbf107a2",
      "metadata": {},
      "outputs": [],
      "source": [
        "import { AzureOpenAI } from \"@langchain/openai\";\n",
        "\n",
        "const differentDomainLLM = new AzureOpenAI({\n",
        "  azureOpenAIApiKey: \"<your_key>\", // In Node.js defaults to process.env.AZURE_OPENAI_API_KEY\n",
        "  azureOpenAIApiDeploymentName: \"<your_deployment_name>\", // In Node.js defaults to process.env.AZURE_OPENAI_API_DEPLOYMENT_NAME\n",
        "  azureOpenAIApiVersion: \"<api_version>\", // In Node.js defaults to process.env.AZURE_OPENAI_API_VERSION\n",
        "  azureOpenAIBasePath:\n",
        "    \"https://westeurope.api.microsoft.com/openai/deployments\", // In Node.js defaults to process.env.AZURE_OPENAI_BASE_PATH\n",
        "});\n"
      ]
    },
    {
      "cell_type": "markdown",
      "id": "afcff984",
      "metadata": {},
      "source": [
        "## 从 Azure OpenAI SDK 迁移\n",
        "\n",
        "如果您正在使用已弃用的 Azure OpenAI SDK 和 `@langchain/azure-openai` 包，可以通过以下步骤将代码更新为使用新的 Azure 集成：\n",
        "\n",
        "1. 安装新的 `@langchain/openai` 包，并卸载之前的 `@langchain/azure-openai` 包：\n",
        "   ```bash\n",
        "   npm install @langchain/openai\n",
        "   npm uninstall @langchain/azure-openai\n",
        "   ```\n",
        "2. 更新您的导入语句，使用新的 `@langchain/openai` 包中的 `AzureOpenAI` 和 `AzureChatOpenAI` 类：\n",
        "   ```typescript\n",
        "   import { AzureOpenAI } from \"@langchain/openai\";\n",
        "   ```\n",
        "3. 更新您的代码以使用新的 `AzureOpenAI` 和 `AzureChatOpenAI` 类，并传递所需的参数：\n",
        "\n",
        "   ```typescript\n",
        "   const model = new AzureOpenAI({\n",
        "     azureOpenAIApiKey: \"<your_key>\",\n",
        "     azureOpenAIApiInstanceName: \"<your_instance_name>\",\n",
        "     azureOpenAIApiDeploymentName: \"<your_deployment_name>\",\n",
        "     azureOpenAIApiVersion: \"<api_version>\",\n",
        "   });\n",
        "   ```\n",
        "\n",
        "   请注意，构造函数现在需要 `azureOpenAIApiInstanceName` 参数，而不是 `azureOpenAIEndpoint` 参数，并新增了 `azureOpenAIApiVersion` 参数用于指定 API 版本。\n",
        "\n",
        "   - 如果您之前使用的是 Azure 托管身份，现在需要在构造函数中使用 `azureADTokenProvider` 参数代替 `credentials`，更多细节请参阅 [Azure 托管身份](#using-azure-managed-identity) 部分。\n",
        "\n",
        "   - 如果您之前使用的是环境变量，现在需要设置 `AZURE_OPENAI_API_INSTANCE_NAME` 环境变量来代替 `AZURE_OPENAI_API_ENDPOINT`，并新增 `AZURE_OPENAI_API_VERSION` 环境变量以指定 API 版本。\n"
      ]
    },
    {
      "cell_type": "markdown",
      "id": "e9bdfcef",
      "metadata": {},
      "source": [
        "## API 参考文档\n",
        "\n",
        "有关所有 AzureOpenAI 功能和配置的详细文档，请访问 API 参考页面: https://api.js.langchain.com/classes/langchain_openai.AzureOpenAI.html"
      ]
    }
  ],
  "metadata": {
    "kernelspec": {
      "display_name": "TypeScript",
      "language": "typescript",
      "name": "tslab"
    },
    "language_info": {
      "codemirror_mode": {
        "mode": "typescript",
        "name": "javascript",
        "typescript": true
      },
      "file_extension": ".ts",
      "mimetype": "text/typescript",
      "name": "typescript",
      "version": "3.7.2"
    },
    "vscode": {
      "interpreter": {
        "hash": "e971737741ff4ec9aff7dc6155a1060a59a8a6d52c757dbbe66bf8ee389494b1"
      }
    }
  },
  "nbformat": 4,
  "nbformat_minor": 5
}