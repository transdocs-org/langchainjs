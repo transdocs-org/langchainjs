{
  "cells": [
    {
      "cell_type": "raw",
      "id": "afaf8039",
      "metadata": {
        "vscode": {
          "languageId": "raw"
        }
      },
      "source": [
        "---\n",
        "sidebar_label: IBM watsonx.ai\n",
        "---"
      ]
    },
    {
      "cell_type": "markdown",
      "id": "e49f1e0d",
      "metadata": {},
      "source": [
        "# IBM watsonx.ai\n",
        "\n",
        "## 概述\n",
        "\n",
        "这将帮助你快速开始使用 [Watsonx 文档压缩器](/docs/concepts/#document_compressors)。关于 Watsonx 文档压缩器所有功能和配置的详细文档，请访问 [API 参考](https://api.js.langchain.com/modules/_langchain_community.document_compressors_ibm.html)。\n",
        "\n",
        "### 集成详情\n",
        "\n",
        "| 类 | 包 | [PY 支持](https://python.langchain.com/docs/integrations/retrievers/ibm_watsonx_ranker/) | 包下载量 | 包最新版本 |\n",
        "| :--- | :--- | :---: | :---: | :---: |\n",
        "| [`WatsonxRerank`](https://api.js.langchain.com/classes/_langchain_community.document_compressors_ibm.WatsonxRerank.html) | [@langchain/community](https://www.npmjs.com/package/@langchain/community) |  ✅ | ![NPM - 下载量](https://img.shields.io/npm/dm/@langchain/community?style=flat-square&label=%20&) | ![NPM - 版本](https://img.shields.io/npm/v/@langchain/community?style=flat-square&label=%20&) |\n",
        "\n",
        "## 准备工作\n",
        "\n",
        "要访问 IBM WatsonxAI 模型，你需要创建一个 IBM watsonx.ai 账户，获取 API 密钥或其他类型的凭证，并安装 `@langchain/community` 集成包。\n",
        "\n",
        "### 凭证\n",
        "\n",
        "前往 [IBM Cloud](https://cloud.ibm.com/login) 注册 IBM watsonx.ai 并生成一个 API 密钥或提供如下所示的其他身份验证方式。\n",
        "\n",
        "#### IAM 身份验证\n",
        "\n",
        "```bash\n",
        "export WATSONX_AI_AUTH_TYPE=iam\n",
        "export WATSONX_AI_APIKEY=<YOUR-APIKEY>\n",
        "```\n",
        "\n",
        "#### Bearer token 身份验证\n",
        "\n",
        "```bash\n",
        "export WATSONX_AI_AUTH_TYPE=bearertoken\n",
        "export WATSONX_AI_BEARER_TOKEN=<YOUR-BEARER-TOKEN>\n",
        "```\n",
        "\n",
        "#### IBM watsonx.ai 软件身份验证\n",
        "\n",
        "```bash\n",
        "export WATSONX_AI_AUTH_TYPE=cp4d\n",
        "export WATSONX_AI_USERNAME=<YOUR_USERNAME>\n",
        "export WATSONX_AI_PASSWORD=<YOUR_PASSWORD>\n",
        "export WATSONX_AI_URL=<URL>\n",
        "```\n",
        "\n",
        "一旦将这些设置放置到你的环境变量中并初始化对象，身份验证将自动进行。\n",
        "\n",
        "也可以通过将这些值作为参数传递给新实例来完成身份验证。\n",
        "\n",
        "## IAM 身份验证\n",
        "\n",
        "```typescript\n",
        "import { WatsonxLLM } from \"@langchain/community/llms/ibm\";\n",
        "\n",
        "const props = {\n",
        "  version: \"YYYY-MM-DD\",\n",
        "  serviceUrl: \"<SERVICE_URL>\",\n",
        "  projectId: \"<PROJECT_ID>\",\n",
        "  watsonxAIAuthType: \"iam\",\n",
        "  watsonxAIApikey: \"<YOUR-APIKEY>\",\n",
        "};\n",
        "const instance = new WatsonxLLM(props);\n",
        "```\n",
        "\n",
        "## Bearer token 身份验证\n",
        "\n",
        "```typescript\n",
        "import { WatsonxLLM } from \"@langchain/community/llms/ibm\";\n",
        "\n",
        "const props = {\n",
        "  version: \"YYYY-MM-DD\",\n",
        "  serviceUrl: \"<SERVICE_URL>\",\n",
        "  projectId: \"<PROJECT_ID>\",\n",
        "  watsonxAIAuthType: \"bearertoken\",\n",
        "  watsonxAIBearerToken: \"<YOUR-BEARERTOKEN>\",\n",
        "};\n",
        "const instance = new WatsonxLLM(props);\n",
        "```\n",
        "\n",
        "### IBM watsonx.ai 软件身份验证\n",
        "\n",
        "```typescript\n",
        "import { WatsonxLLM } from \"@langchain/community/llms/ibm\";\n",
        "\n",
        "const props = {\n",
        "  version: \"YYYY-MM-DD\",\n",
        "  serviceUrl: \"<SERVICE_URL>\",\n",
        "  projectId: \"<PROJECT_ID>\",\n",
        "  watsonxAIAuthType: \"cp4d\",\n",
        "  watsonxAIUsername: \"<YOUR-USERNAME>\",\n",
        "  watsonxAIPassword: \"<YOUR-PASSWORD>\",\n",
        "  watsonxAIUrl: \"<url>\",\n",
        "};\n",
        "const instance = new WatsonxLLM(props);\n",
        "```\n",
        "\n",
        "如果你想从单个查询中获取自动化追踪，也可以取消下面 [LangSmith](https://docs.smith.langchain.com/) API 密钥的注释以进行设置：\n",
        "\n",
        "```typescript\n",
        "// process.env.LANGSMITH_API_KEY = \"<YOUR API KEY HERE>\";\n",
        "// process.env.LANGSMITH_TRACING = \"true\";\n",
        "```\n",
        "\n",
        "### 安装\n",
        "\n",
        "该文档压缩器位于 `@langchain/community` 包中：\n",
        "\n",
        "```{=mdx}\n",
        "import IntegrationInstallTooltip from \"@mdx_components/integration_install_tooltip.mdx\";\n",
        "import Npm2Yarn from \"@theme/Npm2Yarn\";\n",
        "\n",
        "<IntegrationInstallTooltip></IntegrationInstallTooltip>\n",
        "\n",
        "<Npm2Yarn>\n",
        "  @langchain/community @langchain/core\n",
        "</Npm2Yarn>\n",
        "```"
      ]
    },
    {
      "cell_type": "markdown",
      "id": "a38cde65-254d-4219-a441-068766c0d4b5",
      "metadata": {},
      "source": [
        "## 实例化\n",
        "\n",
        "现在我们可以实例化我们的压缩器："
      ]
    },
    {
      "cell_type": "code",
      "execution_count": null,
      "id": "70cc8e65-2a02-408a-bbc6-8ef649057d82",
      "metadata": {},
      "outputs": [],
      "source": [
        "import { WatsonxRerank } from \"@langchain/community/document_compressors/ibm\";\n",
        "\n",
        "const watsonxRerank = new WatsonxRerank({\n",
        "  version: \"2024-05-31\",\n",
        "  serviceUrl: process.env.WATSONX_AI_SERVICE_URL,\n",
        "  projectId: process.env.WATSONX_AI_PROJECT_ID,\n",
        "  model: \"cross-encoder/ms-marco-minilm-l-12-v2\",\n",
        "});"
      ]
    },
    {
      "cell_type": "markdown",
      "id": "5c5f2839-4020-424e-9fc9-07777eede442",
      "metadata": {},
      "source": [
        "## 用法"
      ]
    },
    {
      "cell_type": "markdown",
      "id": "b195b0c7",
      "metadata": {},
      "source": [
        "首先，使用嵌入、文本分割器和向量存储设置一个基本的RAG（检索增强生成）数据摄入管道。我们将使用它来针对选定的查询检索并重新排序一些文档："
      ]
    },
    {
      "cell_type": "code",
      "execution_count": null,
      "id": "51a60dbe-9f2e-4e04-bb62-23968f17164a",
      "metadata": {},
      "outputs": [
        {
          "name": "stdout",
          "output_type": "stream",
          "text": [
            "[\n",
            "  Document {\n",
            "    pageContent: 'And I did that 4 days ago, when I nominated Circuit Court of Appeals Judge Ketanji Brown Jackson. One of our nation’s top legal minds, who will continue Justice Breyer’s legacy of excellence.',\n",
            "    metadata: { loc: [Object] },\n",
            "    id: undefined\n",
            "  },\n",
            "  Document {\n",
            "    pageContent: 'I spoke with their families and told them that we are forever in debt for their sacrifice, and we will carry on their mission to restore the trust and safety every community deserves. \\n' +\n",
            "      '\\n' +\n",
            "      'I’ve worked on these issues a long time. \\n' +\n",
            "      '\\n' +\n",
            "      'I know what works: Investing in crime preventionand community police officers who’ll walk the beat, who’ll know the neighborhood, and who can restore trust and safety.',\n",
            "    metadata: { loc: [Object] },\n",
            "    id: undefined\n",
            "  },\n",
            "  Document {\n",
            "    pageContent: 'We are the only nation on Earth that has always turned every crisis we have faced into an opportunity. \\n' +\n",
            "      '\\n' +\n",
            "      'The only nation that can be defined by a single word: possibilities. \\n' +\n",
            "      '\\n' +\n",
            "      'So on this night, in our 245th year as a nation, I have come to report on the State of the Union. \\n' +\n",
            "      '\\n' +\n",
            "      'And my report is this: the State of the Union is strong—because you, the American people, are strong.',\n",
            "    metadata: { loc: [Object] },\n",
            "    id: undefined\n",
            "  },\n",
            "  Document {\n",
            "    pageContent: 'And I’m taking robust action to make sure the pain of our sanctions  is targeted at Russia’s economy. And I will use every tool at our disposal to protect American businesses and consumers. \\n' +\n",
            "      '\\n' +\n",
            "      'Tonight, I can announce that the United States has worked with 30 other countries to release 60 Million barrels of oil from reserves around the world.',\n",
            "    metadata: { loc: [Object] },\n",
            "    id: undefined\n",
            "  }\n",
            "]\n"
          ]
        }
      ],
      "source": [
        "import { readFileSync } from \"node:fs\";\n",
        "import { MemoryVectorStore } from \"langchain/vectorstores/memory\";\n",
        "import { WatsonxEmbeddings } from \"@langchain/community/embeddings/ibm\";\n",
        "import { CharacterTextSplitter } from \"@langchain/textsplitters\";\n",
        "\n",
        "const embeddings = new WatsonxEmbeddings({\n",
        " version: \"YYYY-MM-DD\",\n",
        " serviceUrl: process.env.API_URL,\n",
        " projectId: \"<PROJECT_ID>\",\n",
        " spaceId: \"<SPACE_ID>\",\n",
        " model: \"ibm/slate-125m-english-rtrvr\",\n",
        "});\n",
        "\n",
        "const textSplitter = new CharacterTextSplitter({\n",
        "  chunkSize: 400,\n",
        "  chunkOverlap: 0,\n",
        "});\n",
        "  \n",
        "const query = \"What did the president say about Ketanji Brown Jackson\";\n",
        "const text = readFileSync(\"state_of_the_union.txt\", \"utf8\");\n",
        "\n",
        "const docs = await textSplitter.createDocuments([text]);\n",
        "const vectorStore = await MemoryVectorStore.fromDocuments(docs, embeddings);\n",
        "const vectorStoreRetriever = vectorStore.asRetriever();\n",
        "\n",
        "const result = await vectorStoreRetriever.invoke(query);\n",
        "console.log(result);"
      ]
    },
    {
      "cell_type": "markdown",
      "id": "b13ebf96",
      "metadata": {},
      "source": [
        "将选中的文档传递以重新排序，并为每个文档接收特定分数"
      ]
    },
    {
      "cell_type": "code",
      "execution_count": null,
      "id": "fad30397",
      "metadata": {},
      "outputs": [
        {
          "name": "stdout",
          "output_type": "stream",
          "text": [
            "[\n",
            "  { index: 0, relevanceScore: 0.726995587348938 },\n",
            "  { index: 1, relevanceScore: 0.5758284330368042 },\n",
            "  { index: 2, relevanceScore: 0.5479092597961426 },\n",
            "  { index: 3, relevanceScore: 0.5468723773956299 }\n",
            "]\n"
          ]
        }
      ],
      "source": [
        "import { WatsonxRerank } from \"@langchain/community/document_compressors/ibm\";\n",
        "\n",
        "const reranker = new WatsonxRerank({\n",
        "  version: \"2024-05-31\",\n",
        "  serviceUrl: process.env.WATSONX_AI_SERVICE_URL,\n",
        "  projectId: process.env.WATSONX_AI_PROJECT_ID,\n",
        "  model: \"cross-encoder/ms-marco-minilm-l-12-v2\",\n",
        "});\n",
        "const compressed = await reranker.rerank(result, query);\n",
        "console.log(compressed);"
      ]
    },
    {
      "cell_type": "markdown",
      "id": "55f4ec18",
      "metadata": {},
      "source": [
        "或者你可以让文档随结果一起返回，为此请使用.compressDocuments()方法如下所示。"
      ]
    },
    {
      "cell_type": "code",
      "execution_count": null,
      "id": "e6cc39ac",
      "metadata": {},
      "outputs": [
        {
          "name": "stdout",
          "output_type": "stream",
          "text": [
            "[\n",
            "  Document {\n",
            "    pageContent: 'And I did that 4 days ago, when I nominated Circuit Court of Appeals Judge Ketanji Brown Jackson. One of our nation’s top legal minds, who will continue Justice Breyer’s legacy of excellence.',\n",
            "    metadata: { loc: [Object], relevanceScore: 0.726995587348938 },\n",
            "    id: undefined\n",
            "  },\n",
            "  Document {\n",
            "    pageContent: 'I spoke with their families and told them that we are forever in debt for their sacrifice, and we will carry on their mission to restore the trust and safety every community deserves. \\n' +\n",
            "      '\\n' +\n",
            "      'I’ve worked on these issues a long time. \\n' +\n",
            "      '\\n' +\n",
            "      'I know what works: Investing in crime preventionand community police officers who’ll walk the beat, who’ll know the neighborhood, and who can restore trust and safety.',\n",
            "    metadata: { loc: [Object], relevanceScore: 0.5758284330368042 },\n",
            "    id: undefined\n",
            "  },\n",
            "  Document {\n",
            "    pageContent: 'We are the only nation on Earth that has always turned every crisis we have faced into an opportunity. \\n' +\n",
            "      '\\n' +\n",
            "      'The only nation that can be defined by a single word: possibilities. \\n' +\n",
            "      '\\n' +\n",
            "      'So on this night, in our 245th year as a nation, I have come to report on the State of the Union. \\n' +\n",
            "      '\\n' +\n",
            "      'And my report is this: the State of the Union is strong—because you, the American people, are strong.',\n",
            "    metadata: { loc: [Object], relevanceScore: 0.5479092597961426 },\n",
            "    id: undefined\n",
            "  },\n",
            "  Document {\n",
            "    pageContent: 'And I’m taking robust action to make sure the pain of our sanctions  is targeted at Russia’s economy. And I will use every tool at our disposal to protect American businesses and consumers. \\n' +\n",
            "      '\\n' +\n",
            "      'Tonight, I can announce that the United States has worked with 30 other countries to release 60 Million barrels of oil from reserves around the world.',\n",
            "    metadata: { loc: [Object], relevanceScore: 0.5468723773956299 },\n",
            "    id: undefined\n",
            "  }\n",
            "]\n"
          ]
        }
      ],
      "source": [
        "const compressedWithResults = await reranker.compressDocuments(result, query);\n",
        "console.log(compressedWithResults);"
      ]
    },
    {
      "cell_type": "markdown",
      "id": "3a5bb5ca-c3ae-4a58-be67-2cd18574b9a3",
      "metadata": {},
      "source": [
        "## API 参考\n",
        "\n",
        "有关 Watsonx 文档压缩器所有功能和配置的详细文档，请访问 [API 参考](https://api.js.langchain.com/modules/_langchain_community.document_compressors_ibm.html)。"
      ]
    }
  ],
  "metadata": {
    "kernelspec": {
      "display_name": "JavaScript (Node.js)",
      "language": "javascript",
      "name": "javascript"
    },
    "language_info": {
      "file_extension": ".js",
      "mimetype": "application/javascript",
      "name": "javascript",
      "version": "20.17.0"
    }
  },
  "nbformat": 4,
  "nbformat_minor": 5
}