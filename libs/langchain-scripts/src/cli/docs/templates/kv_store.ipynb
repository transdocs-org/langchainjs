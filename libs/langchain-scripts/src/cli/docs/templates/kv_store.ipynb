{
 "cells": [
  {
   "cell_type": "raw",
   "metadata": {
    "vscode": {
     "languageId": "raw"
    }
   },
   "source": [
    "---\n",
    "sidebar_label: __sidebar_label__\n",
    "---"
   ]
  },
  {
   "cell_type": "markdown",
   "metadata": {},
   "source": [
    "# __module_name__\n",
    "\n",
    "- TODO: Make sure API reference link is correct.\n",
    "\n",
    "This will help you get started with [__module_name__](/docs/concepts/#key-value-stores). For detailed documentation of all __module_name__ features and configurations head to the [API reference](__api_ref_module__).\n",
    "\n",
    "- TODO: Add any other relevant links, like information about models, prices, context windows, etc. See https://js.langchain.com/docs/integrations/stores/in_memory/ for an example.\n",
    "\n",
    "## Overview\n",
    "\n",
    "- TODO: (Optional) A short introduction to the underlying technology/API.\n",
    "\n",
    "### Integration details\n",
    "\n",
    "- TODO: Fill in table features.\n",
    "- TODO: Remove PY support link if not relevant, otherwise ensure link is correct.\n",
    "- TODO: Make sure API reference links are correct.\n",
    "\n",
    "| Class | Package | Local | [PY support](__python_doc_url__) | Package downloads | Package latest |\n",
    "| :--- | :--- | :---: | :---: |  :---: | :---: |\n",
    "| [__module_name__](__api_ref_module__) | [__package_name__](__api_ref_package__) | __local__ | __py_support__ | ![NPM - Downloads](https://img.shields.io/npm/dm/__package_name__?style=flat-square&label=%20&) | ![NPM - Version](https://img.shields.io/npm/v/__package_name__?style=flat-square&label=%20&) |\n",
    "\n",
    "## Setup\n",
    "\n",
    "- TODO: Update with relevant info.\n",
    "\n",
    "To create a __sidebar_label__ byte store, you'll need to create a/an __sidebar_label__ account, get an API key, and install the `__package_name__` integration package.\n",
    "\n",
    "### Credentials\n",
    "\n",
    "- TODO: Update with relevant info, or omit if the service does not require any credentials.\n",
    "\n",
    "Head to (TODO: link) to sign up to __sidebar_label__ and generate an API key. Once you've done this set the `__env_var_name__` environment variable:\n",
    "\n",
    "```typescript\n",
    "process.env.__env_var_name__=\"__your_api_key__\";\n",
    "```\n",
    "\n",
    "### Installation\n",
    "\n",
    "The LangChain __module_name__ integration lives in the `__package_name__` package:\n",
    "\n",
    "```{=mdx}\n",
    "\n",
    "import IntegrationInstallTooltip from \"@mdx_components/integration_install_tooltip.mdx\";\n",
    "import Npm2Yarn from \"@theme/Npm2Yarn\";\n",
    "\n",
    "<IntegrationInstallTooltip></IntegrationInstallTooltip>\n",
    "\n",
    "<Npm2Yarn>\n",
    "  __package_name__ @langchain/core\n",
    "</Npm2Yarn>\n",
    "\n",
    "```"
   ]
  },
  {
   "cell_type": "markdown",
   "metadata": {},
   "source": [
    "## Instantiation\n",
    "\n",
    "Now we can instantiate our byte store:\n",
    "\n",
    "- TODO: Update model instantiation with relevant params."
   ]
  },
  {
   "cell_type": "code",
   "execution_count": null,
   "metadata": {
    "vscode": {
     "languageId": "typescript"
    }
   },
   "outputs": [],
   "source": [
    "import { __module_name__ } from \"__full_import_path__\"\n",
    "\n",
    "const kvStore = new __module_name__({\n",
    "  // params...\n",
    "})"
   ]
  },
  {
   "cell_type": "markdown",
   "metadata": {},
   "source": [
    "Define an encoder and decoder for converting the data to `Uint8Array` and back:"
   ]
  },
  {
   "cell_type": "code",
   "execution_count": null,
   "metadata": {
    "vscode": {
     "languageId": "typescript"
    }
   },
   "outputs": [],
   "source": [
    "const encoder = new TextEncoder();\n",
    "const decoder = new TextDecoder();"
   ]
  },
  {
   "cell_type": "markdown",
   "metadata": {},
   "source": [
    "## Usage\n",
    "\n",
    "- TODO: Run cells so output can be seen.\n",
    "\n",
    "You can set data under keys like this using the `mset` method:"
   ]
  },
  {
   "cell_type": "code",
   "execution_count": null,
   "metadata": {
    "vscode": {
     "languageId": "typescript"
    }
   },
   "outputs": [],
   "source": [
    "await kvStore.mset(\n",
    "  [\n",
    "    [\"key1\", encoder.encode(\"value1\")],\n",
    "    [\"key2\", encoder.encode(\"value2\")],\n",
    "  ]\n",
    ")\n",
    "\n",
    "const results = await kvStore.mget(\n",
    "  [\n",
    "    \"key1\",\n",
    "    \"key2\",\n",
    "  ]\n",
    ")\n",
    "console.log(results.map((v) => decoder.decode(v)));"
   ]
  },
  {
   "cell_type": "markdown",
   "metadata": {},
   "source": [
    "And you can delete data using the `mdelete` method:"
   ]
  },
  {
   "cell_type": "code",
   "execution_count": null,
   "metadata": {
    "vscode": {
     "languageId": "typescript"
    }
   },
   "outputs": [],
   "source": [
    "await kvStore.mdelete(\n",
    "  [\n",
    "    \"key1\",\n",
    "    \"key2\",\n",
    "  ]\n",
    ")\n",
    "\n",
    "await kvStore.mget(\n",
    "  [\n",
    "    \"key1\",\n",
    "    \"key2\",\n",
    "  ]\n",
    ")"
   ]
  },
  {
   "cell_type": "markdown",
   "metadata": {},
   "source": [
    "## Yielding values\n",
    "\n",
    "If you want to get back all the keys you can call the `yieldKeys` method. Optionally, you can pass a key prefix to only get back keys which match that prefix."
   ]
  },
  {
   "cell_type": "code",
   "execution_count": null,
   "metadata": {
    "vscode": {
     "languageId": "typescript"
    }
   },
   "outputs": [],
   "source": [
    "import { __module_name__ } from \"__full_import_path__\"\n",
    "\n",
    "const kvStoreForYield = new __module_name__({\n",
    "  ...\n",
    "});\n",
    "\n",
    "const encoderForYield = new TextEncoder();\n",
    "\n",
    "// Add some data to the store\n",
    "await kvStoreForYield.mset(\n",
    "  [\n",
    "    [\"message:id:key1\", encoderForYield.encode(\"value1\")],\n",
    "    [\"message:id:key2\", encoderForYield.encode(\"value2\")],\n",
    "  ]\n",
    ")\n",
    "\n",
    "const yieldedKeys = [];\n",
    "for await (const key of kvStoreForYield.yieldKeys(\"message:id:\")) {\n",
    "  yieldedKeys.push(key);\n",
    "}\n",
    "\n",
    "console.log(yieldedKeys);"
   ]
  },
  {
   "cell_type": "markdown",
   "metadata": {},
   "source": [
    "## TODO: Any functionality specific to this key-value store provider\n",
    "\n",
    "E.g. extra initialization. Delete if not relevant."
   ]
  },
  {
   "cell_type": "markdown",
   "metadata": {},
   "source": [
    "## API reference\n",
    "\n",
    "For detailed documentation of all __module_name__ features and configurations, head to the [API reference](__api_ref_module__)"
   ]
  }
 ],
 "metadata": {
  "kernelspec": {
   "display_name": "Python 3",
   "language": "python",
   "name": "python3"
  },
  "language_info": {
   "name": "python",
   "version": "3.10.5"
  }
 },
 "nbformat": 4,
 "nbformat_minor": 2
}
