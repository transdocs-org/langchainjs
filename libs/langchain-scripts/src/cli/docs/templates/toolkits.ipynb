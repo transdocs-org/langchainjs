{
 "cells": [
  {
   "cell_type": "raw",
   "id": "afaf8039",
   "metadata": {
    "vscode": {
     "languageId": "raw"
    }
   },
   "source": [
    "---\n",
    "sidebar_label: __sidebar_label__ Toolkit\n",
    "---"
   ]
  },
  {
   "cell_type": "markdown",
   "id": "e49f1e0d",
   "metadata": {},
   "source": [
    "# __module_name__\n",
    "\n",
    "- TODO: Make sure API reference link is correct.\n",
    "\n",
    "This will help you getting started with the [__module_name__](/docs/concepts/#toolkits). For detailed documentation of all __module_name__ features and configurations head to the [API reference](__api_ref_module__).\n",
    "\n",
    "## Setup\n",
    "\n",
    "- TODO: Update with relevant info.\n",
    "\n",
    "If you want to get automated tracing from runs of individual tools, you can also set your [LangSmith](https://docs.smith.langchain.com/) API key by uncommenting below:\n",
    "\n",
    "```typescript\n",
    "process.env.LANGSMITH_TRACING=\"true\"\n",
    "process.env.LANGSMITH_API_KEY=\"your-api-key\"\n",
    "```\n",
    "\n",
    "### Installation\n",
    "\n",
    "This toolkit lives in the `__package_name__` package:\n",
    "\n",
    "```{=mdx}\n",
    "import IntegrationInstallTooltip from \"@mdx_components/integration_install_tooltip.mdx\";\n",
    "import Npm2Yarn from \"@theme/Npm2Yarn\";\n",
    "\n",
    "<IntegrationInstallTooltip></IntegrationInstallTooltip>\n",
    "\n",
    "<Npm2Yarn>\n",
    "  __package_name__ @langchain/core\n",
    "</Npm2Yarn>\n",
    "```"
   ]
  },
  {
   "cell_type": "markdown",
   "id": "a38cde65-254d-4219-a441-068766c0d4b5",
   "metadata": {},
   "source": [
    "## Instantiation\n",
    "\n",
    "Now we can instantiate our toolkit:\n",
    "\n",
    "- TODO: Update model instantiation with relevant params."
   ]
  },
  {
   "cell_type": "code",
   "execution_count": null,
   "id": "cb09c344-1836-4e0c-acf8-11d13ac1dbae",
   "metadata": {
    "vscode": {
     "languageId": "typescript"
    }
   },
   "outputs": [],
   "source": [
    "import { __module_name__ } from \"__full_import_path__\"\n",
    "\n",
    "const toolkit = new __module_name__({\n",
    "  // ...\n",
    "})"
   ]
  },
  {
   "cell_type": "markdown",
   "id": "5c5f2839-4020-424e-9fc9-07777eede442",
   "metadata": {},
   "source": [
    "## Tools\n",
    "\n",
    "View available tools:"
   ]
  },
  {
   "cell_type": "code",
   "execution_count": null,
   "id": "51a60dbe-9f2e-4e04-bb62-23968f17164a",
   "metadata": {
    "vscode": {
     "languageId": "typescript"
    }
   },
   "outputs": [],
   "source": [
    "const tools = toolkit.getTools();\n",
    "\n",
    "console.log(tools.map((tool) => ({\n",
    "  name: tool.name,\n",
    "  description: tool.description,\n",
    "})))"
   ]
  },
  {
   "cell_type": "markdown",
   "id": "d11245ad-3661-4405-8558-1188896347ec",
   "metadata": {},
   "source": [
    "TODO: list API reference pages for individual tools."
   ]
  },
  {
   "cell_type": "markdown",
   "id": "dfe8aad4-8626-4330-98a9-7ea1ca5d2e0e",
   "metadata": {},
   "source": [
    "## Use within an agent\n",
    "\n",
    "First, ensure you have LangGraph installed:\n",
    "\n",
    "```{=mdx}\n",
    "<Npm2Yarn>\n",
    "  @langchain/langgraph\n",
    "</Npm2Yarn>\n",
    "```"
   ]
  },
  {
   "cell_type": "markdown",
   "id": "c6d2ca9c",
   "metadata": {},
   "source": [
    "Then, instanciate your LLM to be used in the React agent:\n",
    "\n",
    "```{=mdx}\n",
    "import ChatModelTabs from \"@theme/ChatModelTabs\";\n",
    "\n",
    "<ChatModelTabs customVarName=\"llm\" />\n",
    "```"
   ]
  },
  {
   "cell_type": "code",
   "execution_count": null,
   "id": "5af22142",
   "metadata": {
    "vscode": {
     "languageId": "typescript"
    }
   },
   "outputs": [],
   "source": [
    "// @lc-docs-hide-cell\n",
    "\n",
    "import { ChatOpenAI } from \"@langchain/openai\";\n",
    "\n",
    "const llm = new ChatOpenAI({\n",
    "  model: \"gpt-4o-mini\",\n",
    "  temperature: 0,\n",
    "})"
   ]
  },
  {
   "cell_type": "code",
   "execution_count": null,
   "id": "310bf18e-6c9a-4072-b86e-47bc1fcca29d",
   "metadata": {
    "vscode": {
     "languageId": "typescript"
    }
   },
   "outputs": [],
   "source": [
    "import { createReactAgent } from \"@langchain/langgraph/prebuilt\"\n",
    "\n",
    "const agentExecutor = createReactAgent({ llm, tools });"
   ]
  },
  {
   "cell_type": "code",
   "execution_count": null,
   "id": "23e11cc9-abd6-4855-a7eb-799f45ca01ae",
   "metadata": {
    "vscode": {
     "languageId": "typescript"
    }
   },
   "outputs": [],
   "source": [
    "const exampleQuery = \"...\"\n",
    "\n",
    "const events = await agentExecutor.stream(\n",
    "  { messages: [[\"user\", exampleQuery]]},\n",
    "  { streamMode: \"values\", }\n",
    ")\n",
    "\n",
    "for await (const event of events) {\n",
    "  const lastMsg = event.messages[event.messages.length - 1];\n",
    "  if (lastMsg.tool_calls?.length) {\n",
    "    console.dir(lastMsg.tool_calls, { depth: null });\n",
    "  } else if (lastMsg.content) {\n",
    "    console.log(lastMsg.content);\n",
    "  }\n",
    "}"
   ]
  },
  {
   "cell_type": "markdown",
   "id": "d1ee55bc-ffc8-4cfa-801c-993953a08cfd",
   "metadata": {},
   "source": [
    "## TODO: Any functionality or considerations specific to this toolkit\n",
    "\n",
    "Fill in or delete if not relevant."
   ]
  },
  {
   "cell_type": "markdown",
   "id": "3a5bb5ca-c3ae-4a58-be67-2cd18574b9a3",
   "metadata": {},
   "source": [
    "## API reference\n",
    "\n",
    "For detailed documentation of all __module_name__ features and configurations head to the [API reference](__api_ref_module__)."
   ]
  }
 ],
 "metadata": {
  "kernelspec": {
   "display_name": "Python 3 (ipykernel)",
   "language": "python",
   "name": "python3"
  },
  "language_info": {
   "codemirror_mode": {
    "name": "ipython",
    "version": 3
   },
   "file_extension": ".py",
   "mimetype": "text/x-python",
   "name": "python",
   "nbconvert_exporter": "python",
   "pygments_lexer": "ipython3",
   "version": "3.10.4"
  }
 },
 "nbformat": 4,
 "nbformat_minor": 5
}
