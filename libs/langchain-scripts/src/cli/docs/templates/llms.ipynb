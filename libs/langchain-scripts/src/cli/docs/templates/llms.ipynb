{
  "cells": [
    {
      "cell_type": "raw",
      "id": "67db2992",
      "metadata": {
        "vscode": {
          "languageId": "raw"
        }
      },
      "source": [
        "---\n",
        "sidebar_label: __sidebar_label__\n",
        "---"
      ]
    },
    {
      "cell_type": "markdown",
      "id": "9597802c",
      "metadata": {},
      "source": [
        "# __module_name__\n",
        "\n",
        "- [ ] TODO: Make sure API reference link is correct\n",
        "\n",
        "This will help you get started with __sidebar_label__ [text completion models (LLMs)](/docs/concepts/text_llms) using LangChain. For detailed documentation on `__module_name__` features and configuration options, please refer to the [API reference](__api_ref_module__).\n",
        "\n",
        "## Overview\n",
        "### Integration details\n",
        "\n",
        "- TODO: Fill in table features.\n",
        "- TODO: Remove Python support link if not relevant, otherwise ensure link is correct.\n",
        "- TODO: Make sure API reference links are correct.\n",
        "\n",
        "| Class | Package | Local | Serializable | [PY support](__python_doc_url__) | Package downloads | Package latest |\n",
        "| :--- | :--- | :---: | :---: |  :---: | :---: | :---: |\n",
        "| [`__module_name__`](__api_ref_module__) | [`__package_name__`](https://npmjs.com/__package_name__) | __local__ | __serializable__ | __py_support__ | ![NPM - Downloads](https://img.shields.io/npm/dm/__package_name__?style=flat-square&label=%20&) | ![NPM - Version](https://img.shields.io/npm/v/__package_name__?style=flat-square&label=%20&) |\n",
        "\n",
        "## Setup\n",
        "\n",
        "- [ ] TODO: Update with relevant info.\n",
        "\n",
        "To access __sidebar_label__ models you'll need to create a/an __sidebar_label__ account, get an API key, and install the `__package_name__` integration package.\n",
        "\n",
        "### Credentials\n",
        "\n",
        "- TODO: Update with relevant info.\n",
        "\n",
        "Head to (TODO: link) to sign up to __sidebar_label__ and generate an API key. Once you've done this set the `__env_var_name__` environment variable:\n",
        "\n",
        "```bash\n",
        "export __env_var_name__=\"your-api-key\"\n",
        "```\n",
        "\n",
        "If you want to get automated tracing of your model calls you can also set your [LangSmith](https://docs.smith.langchain.com/) API key by uncommenting below:\n",
        "\n",
        "```bash\n",
        "# export LANGSMITH_TRACING=\"true\"\n",
        "# export LANGSMITH_API_KEY=\"your-api-key\"\n",
        "```\n",
        "\n",
        "### Installation\n",
        "\n",
        "The LangChain __module_name__ integration lives in the `__package_name__` package:\n",
        "\n",
        "```{=mdx}\n",
        "import IntegrationInstallTooltip from \"@mdx_components/integration_install_tooltip.mdx\";\n",
        "import Npm2Yarn from \"@theme/Npm2Yarn\";\n",
        "\n",
        "<IntegrationInstallTooltip></IntegrationInstallTooltip>\n",
        "\n",
        "<Npm2Yarn>\n",
        "  __package_name__ @langchain/core\n",
        "</Npm2Yarn>\n",
        "\n",
        "```"
      ]
    },
    {
      "cell_type": "markdown",
      "id": "0a760037",
      "metadata": {},
      "source": [
        "## Instantiation\n",
        "\n",
        "Now we can instantiate our model object and generate chat completions:\n",
        "\n",
        "- TODO: Update model instantiation with relevant params."
      ]
    },
    {
      "cell_type": "code",
      "execution_count": null,
      "id": "a0562a13",
      "metadata": {
        "vscode": {
          "languageId": "typescript"
        }
      },
      "outputs": [],
      "source": [
        "import { __module_name__ } from \"__full_import_path__\"\n",
        "\n",
        "const llm = new __module_name__({\n",
        "  model: \"model-name\",\n",
        "  temperature: 0,\n",
        "  maxTokens: undefined,\n",
        "  timeout: undefined,\n",
        "  maxRetries: 2,\n",
        "  // other params...\n",
        "})"
      ]
    },
    {
      "cell_type": "markdown",
      "id": "0ee90032",
      "metadata": {},
      "source": [
        "## Invocation\n",
        "\n",
        "- [ ] TODO: Run cells so output can be seen."
      ]
    },
    {
      "cell_type": "code",
      "execution_count": 4,
      "id": "035dea0f",
      "metadata": {
        "tags": [],
        "vscode": {
          "languageId": "typescript"
        }
      },
      "outputs": [],
      "source": [
        "const inputText = \"__module_name__ is an AI company that \"\n",
        "\n",
        "const completion = await llm.invoke(inputText)\n",
        "completion"
      ]
    },
    {
      "cell_type": "markdown",
      "id": "add38532",
      "metadata": {},
      "source": [
        "## Chaining\n",
        "\n",
        "We can [chain](/docs/how_to/sequence/) our completion model with a prompt template like so:\n",
        "\n",
        "- TODO: Run cells so output can be seen."
      ]
    },
    {
      "cell_type": "code",
      "execution_count": null,
      "id": "078e9db2",
      "metadata": {
        "vscode": {
          "languageId": "typescript"
        }
      },
      "outputs": [],
      "source": [
        "import { PromptTemplate } from \"@langchain/core/prompts\"\n",
        "\n",
        "const prompt = PromptTemplate.fromTemplate(\"How to say {input} in {output_language}:\\n\")\n",
        "\n",
        "const chain = prompt.pipe(llm);\n",
        "await chain.invoke(\n",
        "  {\n",
        "    output_language: \"German\",\n",
        "    input: \"I love programming.\",\n",
        "  }\n",
        ")"
      ]
    },
    {
      "cell_type": "markdown",
      "id": "e99eef30",
      "metadata": {},
      "source": [
        "## TODO: Any functionality specific to this model provider\n",
        "\n",
        "E.g. creating/using finetuned models via this provider. Delete if not relevant"
      ]
    },
    {
      "cell_type": "markdown",
      "id": "e9bdfcef",
      "metadata": {},
      "source": [
        "## API reference\n",
        "\n",
        "For detailed documentation of all `__module_name__` features and configurations head to the API reference: __api_ref_module__"
      ]
    }
  ],
  "metadata": {
    "kernelspec": {
      "display_name": "Python 3.11.1 64-bit",
      "language": "python",
      "name": "python3"
    },
    "language_info": {
      "codemirror_mode": {
        "name": "ipython",
        "version": 3
      },
      "file_extension": ".py",
      "mimetype": "text/x-python",
      "name": "python",
      "nbconvert_exporter": "python",
      "pygments_lexer": "ipython3",
      "version": "3.9.7"
    },
    "vscode": {
      "interpreter": {
        "hash": "e971737741ff4ec9aff7dc6155a1060a59a8a6d52c757dbbe66bf8ee389494b1"
      }
    }
  },
  "nbformat": 4,
  "nbformat_minor": 5
}